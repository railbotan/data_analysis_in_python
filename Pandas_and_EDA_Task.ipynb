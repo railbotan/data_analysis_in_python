{
  "nbformat": 4,
  "nbformat_minor": 0,
  "metadata": {
    "kernelspec": {
      "display_name": "Python 3",
      "language": "python",
      "name": "python3"
    },
    "language_info": {
      "codemirror_mode": {
        "name": "ipython",
        "version": 3
      },
      "file_extension": ".py",
      "mimetype": "text/x-python",
      "name": "python",
      "nbconvert_exporter": "python",
      "pygments_lexer": "ipython3",
      "version": "3.6.8"
    },
    "colab": {
      "name": "Pandas and EDA. Task.ipynb",
      "provenance": [],
      "collapsed_sections": []
    }
  },
  "cells": [
    {
      "cell_type": "markdown",
      "metadata": {
        "id": "EmV0s8YY05p7"
      },
      "source": [
        "- __ID__ - Unique number for each athlete\n",
        "- __Name__ - Athlete's name\n",
        "- __Sex__ - M or F\n",
        "- __Age__ - Integer\n",
        "- __Height__ - In centimeters\n",
        "- __Weight__ - In kilograms\n",
        "- __Team__ - Team name\n",
        "- __NOC__ - National Olympic Committee 3-letter code\n",
        "- __Games__ - Year and season\n",
        "- __Year__ - Integer\n",
        "- __Season__ - Summer or Winter\n",
        "- __City__ - Host city\n",
        "- __Sport__ - Sport\n",
        "- __Event__ - Event\n",
        "- __Medal__ - Gold, Silver, Bronze, or NA"
      ]
    },
    {
      "cell_type": "code",
      "metadata": {
        "id": "rVCrMDMh05p_"
      },
      "source": [
        "import pandas as pd\n",
        "import numpy as np"
      ],
      "execution_count": 1,
      "outputs": []
    },
    {
      "cell_type": "code",
      "metadata": {
        "id": "D5Q4Z-JW05qC"
      },
      "source": [
        "# не меняем путь!\n",
        "PATH = 'https://github.com/aksenov7/Kaggle_competition_group/blob/master/athlete_events.csv.zip?raw=true'"
      ],
      "execution_count": 43,
      "outputs": []
    },
    {
      "cell_type": "markdown",
      "metadata": {
        "id": "mI0LtqkY4Kp-"
      },
      "source": [
        "__0. Откройте файл используя необходимые параметры и не меняя переменную PATH__"
      ]
    },
    {
      "cell_type": "code",
      "metadata": {
        "id": "h5SQwBLr05qG",
        "colab": {
          "base_uri": "https://localhost:8080/",
          "height": 1000
        },
        "outputId": "6d9fc2eb-d171-43ce-a201-ec736761a9d5"
      },
      "source": [
        "data = pd.read_csv(PATH, compression='zip', sep=',')\n",
        "data.head(20)"
      ],
      "execution_count": 44,
      "outputs": [
        {
          "output_type": "execute_result",
          "data": {
            "text/plain": [
              "    ID                      Name Sex   Age  Height  Weight            Team  \\\n",
              "0    1                 A Dijiang   M  24.0   180.0    80.0           China   \n",
              "1    2                  A Lamusi   M  23.0   170.0    60.0           China   \n",
              "2    3       Gunnar Nielsen Aaby   M  24.0     NaN     NaN         Denmark   \n",
              "3    4      Edgar Lindenau Aabye   M  34.0     NaN     NaN  Denmark/Sweden   \n",
              "4    5  Christine Jacoba Aaftink   F  21.0   185.0    82.0     Netherlands   \n",
              "5    5  Christine Jacoba Aaftink   F  21.0   185.0    82.0     Netherlands   \n",
              "6    5  Christine Jacoba Aaftink   F  25.0   185.0    82.0     Netherlands   \n",
              "7    5  Christine Jacoba Aaftink   F  25.0   185.0    82.0     Netherlands   \n",
              "8    5  Christine Jacoba Aaftink   F  27.0   185.0    82.0     Netherlands   \n",
              "9    5  Christine Jacoba Aaftink   F  27.0   185.0    82.0     Netherlands   \n",
              "10   6           Per Knut Aaland   M  31.0   188.0    75.0   United States   \n",
              "11   6           Per Knut Aaland   M  31.0   188.0    75.0   United States   \n",
              "12   6           Per Knut Aaland   M  31.0   188.0    75.0   United States   \n",
              "13   6           Per Knut Aaland   M  31.0   188.0    75.0   United States   \n",
              "14   6           Per Knut Aaland   M  33.0   188.0    75.0   United States   \n",
              "15   6           Per Knut Aaland   M  33.0   188.0    75.0   United States   \n",
              "16   6           Per Knut Aaland   M  33.0   188.0    75.0   United States   \n",
              "17   6           Per Knut Aaland   M  33.0   188.0    75.0   United States   \n",
              "18   7              John Aalberg   M  31.0   183.0    72.0   United States   \n",
              "19   7              John Aalberg   M  31.0   183.0    72.0   United States   \n",
              "\n",
              "    NOC        Games  Year  Season         City                 Sport  \\\n",
              "0   CHN  1992 Summer  1992  Summer    Barcelona            Basketball   \n",
              "1   CHN  2012 Summer  2012  Summer       London                  Judo   \n",
              "2   DEN  1920 Summer  1920  Summer    Antwerpen              Football   \n",
              "3   DEN  1900 Summer  1900  Summer        Paris            Tug-Of-War   \n",
              "4   NED  1988 Winter  1988  Winter      Calgary         Speed Skating   \n",
              "5   NED  1988 Winter  1988  Winter      Calgary         Speed Skating   \n",
              "6   NED  1992 Winter  1992  Winter  Albertville         Speed Skating   \n",
              "7   NED  1992 Winter  1992  Winter  Albertville         Speed Skating   \n",
              "8   NED  1994 Winter  1994  Winter  Lillehammer         Speed Skating   \n",
              "9   NED  1994 Winter  1994  Winter  Lillehammer         Speed Skating   \n",
              "10  USA  1992 Winter  1992  Winter  Albertville  Cross Country Skiing   \n",
              "11  USA  1992 Winter  1992  Winter  Albertville  Cross Country Skiing   \n",
              "12  USA  1992 Winter  1992  Winter  Albertville  Cross Country Skiing   \n",
              "13  USA  1992 Winter  1992  Winter  Albertville  Cross Country Skiing   \n",
              "14  USA  1994 Winter  1994  Winter  Lillehammer  Cross Country Skiing   \n",
              "15  USA  1994 Winter  1994  Winter  Lillehammer  Cross Country Skiing   \n",
              "16  USA  1994 Winter  1994  Winter  Lillehammer  Cross Country Skiing   \n",
              "17  USA  1994 Winter  1994  Winter  Lillehammer  Cross Country Skiing   \n",
              "18  USA  1992 Winter  1992  Winter  Albertville  Cross Country Skiing   \n",
              "19  USA  1992 Winter  1992  Winter  Albertville  Cross Country Skiing   \n",
              "\n",
              "                                                Event Medal  \n",
              "0                         Basketball Men's Basketball   NaN  \n",
              "1                        Judo Men's Extra-Lightweight   NaN  \n",
              "2                             Football Men's Football   NaN  \n",
              "3                         Tug-Of-War Men's Tug-Of-War  Gold  \n",
              "4                    Speed Skating Women's 500 metres   NaN  \n",
              "5                  Speed Skating Women's 1,000 metres   NaN  \n",
              "6                    Speed Skating Women's 500 metres   NaN  \n",
              "7                  Speed Skating Women's 1,000 metres   NaN  \n",
              "8                    Speed Skating Women's 500 metres   NaN  \n",
              "9                  Speed Skating Women's 1,000 metres   NaN  \n",
              "10           Cross Country Skiing Men's 10 kilometres   NaN  \n",
              "11           Cross Country Skiing Men's 50 kilometres   NaN  \n",
              "12  Cross Country Skiing Men's 10/15 kilometres Pu...   NaN  \n",
              "13  Cross Country Skiing Men's 4 x 10 kilometres R...   NaN  \n",
              "14           Cross Country Skiing Men's 10 kilometres   NaN  \n",
              "15           Cross Country Skiing Men's 30 kilometres   NaN  \n",
              "16  Cross Country Skiing Men's 10/15 kilometres Pu...   NaN  \n",
              "17  Cross Country Skiing Men's 4 x 10 kilometres R...   NaN  \n",
              "18           Cross Country Skiing Men's 10 kilometres   NaN  \n",
              "19           Cross Country Skiing Men's 50 kilometres   NaN  "
            ],
            "text/html": [
              "\n",
              "  <div id=\"df-31f66656-6d23-493e-912d-976eda6a5548\">\n",
              "    <div class=\"colab-df-container\">\n",
              "      <div>\n",
              "<style scoped>\n",
              "    .dataframe tbody tr th:only-of-type {\n",
              "        vertical-align: middle;\n",
              "    }\n",
              "\n",
              "    .dataframe tbody tr th {\n",
              "        vertical-align: top;\n",
              "    }\n",
              "\n",
              "    .dataframe thead th {\n",
              "        text-align: right;\n",
              "    }\n",
              "</style>\n",
              "<table border=\"1\" class=\"dataframe\">\n",
              "  <thead>\n",
              "    <tr style=\"text-align: right;\">\n",
              "      <th></th>\n",
              "      <th>ID</th>\n",
              "      <th>Name</th>\n",
              "      <th>Sex</th>\n",
              "      <th>Age</th>\n",
              "      <th>Height</th>\n",
              "      <th>Weight</th>\n",
              "      <th>Team</th>\n",
              "      <th>NOC</th>\n",
              "      <th>Games</th>\n",
              "      <th>Year</th>\n",
              "      <th>Season</th>\n",
              "      <th>City</th>\n",
              "      <th>Sport</th>\n",
              "      <th>Event</th>\n",
              "      <th>Medal</th>\n",
              "    </tr>\n",
              "  </thead>\n",
              "  <tbody>\n",
              "    <tr>\n",
              "      <th>0</th>\n",
              "      <td>1</td>\n",
              "      <td>A Dijiang</td>\n",
              "      <td>M</td>\n",
              "      <td>24.0</td>\n",
              "      <td>180.0</td>\n",
              "      <td>80.0</td>\n",
              "      <td>China</td>\n",
              "      <td>CHN</td>\n",
              "      <td>1992 Summer</td>\n",
              "      <td>1992</td>\n",
              "      <td>Summer</td>\n",
              "      <td>Barcelona</td>\n",
              "      <td>Basketball</td>\n",
              "      <td>Basketball Men's Basketball</td>\n",
              "      <td>NaN</td>\n",
              "    </tr>\n",
              "    <tr>\n",
              "      <th>1</th>\n",
              "      <td>2</td>\n",
              "      <td>A Lamusi</td>\n",
              "      <td>M</td>\n",
              "      <td>23.0</td>\n",
              "      <td>170.0</td>\n",
              "      <td>60.0</td>\n",
              "      <td>China</td>\n",
              "      <td>CHN</td>\n",
              "      <td>2012 Summer</td>\n",
              "      <td>2012</td>\n",
              "      <td>Summer</td>\n",
              "      <td>London</td>\n",
              "      <td>Judo</td>\n",
              "      <td>Judo Men's Extra-Lightweight</td>\n",
              "      <td>NaN</td>\n",
              "    </tr>\n",
              "    <tr>\n",
              "      <th>2</th>\n",
              "      <td>3</td>\n",
              "      <td>Gunnar Nielsen Aaby</td>\n",
              "      <td>M</td>\n",
              "      <td>24.0</td>\n",
              "      <td>NaN</td>\n",
              "      <td>NaN</td>\n",
              "      <td>Denmark</td>\n",
              "      <td>DEN</td>\n",
              "      <td>1920 Summer</td>\n",
              "      <td>1920</td>\n",
              "      <td>Summer</td>\n",
              "      <td>Antwerpen</td>\n",
              "      <td>Football</td>\n",
              "      <td>Football Men's Football</td>\n",
              "      <td>NaN</td>\n",
              "    </tr>\n",
              "    <tr>\n",
              "      <th>3</th>\n",
              "      <td>4</td>\n",
              "      <td>Edgar Lindenau Aabye</td>\n",
              "      <td>M</td>\n",
              "      <td>34.0</td>\n",
              "      <td>NaN</td>\n",
              "      <td>NaN</td>\n",
              "      <td>Denmark/Sweden</td>\n",
              "      <td>DEN</td>\n",
              "      <td>1900 Summer</td>\n",
              "      <td>1900</td>\n",
              "      <td>Summer</td>\n",
              "      <td>Paris</td>\n",
              "      <td>Tug-Of-War</td>\n",
              "      <td>Tug-Of-War Men's Tug-Of-War</td>\n",
              "      <td>Gold</td>\n",
              "    </tr>\n",
              "    <tr>\n",
              "      <th>4</th>\n",
              "      <td>5</td>\n",
              "      <td>Christine Jacoba Aaftink</td>\n",
              "      <td>F</td>\n",
              "      <td>21.0</td>\n",
              "      <td>185.0</td>\n",
              "      <td>82.0</td>\n",
              "      <td>Netherlands</td>\n",
              "      <td>NED</td>\n",
              "      <td>1988 Winter</td>\n",
              "      <td>1988</td>\n",
              "      <td>Winter</td>\n",
              "      <td>Calgary</td>\n",
              "      <td>Speed Skating</td>\n",
              "      <td>Speed Skating Women's 500 metres</td>\n",
              "      <td>NaN</td>\n",
              "    </tr>\n",
              "    <tr>\n",
              "      <th>5</th>\n",
              "      <td>5</td>\n",
              "      <td>Christine Jacoba Aaftink</td>\n",
              "      <td>F</td>\n",
              "      <td>21.0</td>\n",
              "      <td>185.0</td>\n",
              "      <td>82.0</td>\n",
              "      <td>Netherlands</td>\n",
              "      <td>NED</td>\n",
              "      <td>1988 Winter</td>\n",
              "      <td>1988</td>\n",
              "      <td>Winter</td>\n",
              "      <td>Calgary</td>\n",
              "      <td>Speed Skating</td>\n",
              "      <td>Speed Skating Women's 1,000 metres</td>\n",
              "      <td>NaN</td>\n",
              "    </tr>\n",
              "    <tr>\n",
              "      <th>6</th>\n",
              "      <td>5</td>\n",
              "      <td>Christine Jacoba Aaftink</td>\n",
              "      <td>F</td>\n",
              "      <td>25.0</td>\n",
              "      <td>185.0</td>\n",
              "      <td>82.0</td>\n",
              "      <td>Netherlands</td>\n",
              "      <td>NED</td>\n",
              "      <td>1992 Winter</td>\n",
              "      <td>1992</td>\n",
              "      <td>Winter</td>\n",
              "      <td>Albertville</td>\n",
              "      <td>Speed Skating</td>\n",
              "      <td>Speed Skating Women's 500 metres</td>\n",
              "      <td>NaN</td>\n",
              "    </tr>\n",
              "    <tr>\n",
              "      <th>7</th>\n",
              "      <td>5</td>\n",
              "      <td>Christine Jacoba Aaftink</td>\n",
              "      <td>F</td>\n",
              "      <td>25.0</td>\n",
              "      <td>185.0</td>\n",
              "      <td>82.0</td>\n",
              "      <td>Netherlands</td>\n",
              "      <td>NED</td>\n",
              "      <td>1992 Winter</td>\n",
              "      <td>1992</td>\n",
              "      <td>Winter</td>\n",
              "      <td>Albertville</td>\n",
              "      <td>Speed Skating</td>\n",
              "      <td>Speed Skating Women's 1,000 metres</td>\n",
              "      <td>NaN</td>\n",
              "    </tr>\n",
              "    <tr>\n",
              "      <th>8</th>\n",
              "      <td>5</td>\n",
              "      <td>Christine Jacoba Aaftink</td>\n",
              "      <td>F</td>\n",
              "      <td>27.0</td>\n",
              "      <td>185.0</td>\n",
              "      <td>82.0</td>\n",
              "      <td>Netherlands</td>\n",
              "      <td>NED</td>\n",
              "      <td>1994 Winter</td>\n",
              "      <td>1994</td>\n",
              "      <td>Winter</td>\n",
              "      <td>Lillehammer</td>\n",
              "      <td>Speed Skating</td>\n",
              "      <td>Speed Skating Women's 500 metres</td>\n",
              "      <td>NaN</td>\n",
              "    </tr>\n",
              "    <tr>\n",
              "      <th>9</th>\n",
              "      <td>5</td>\n",
              "      <td>Christine Jacoba Aaftink</td>\n",
              "      <td>F</td>\n",
              "      <td>27.0</td>\n",
              "      <td>185.0</td>\n",
              "      <td>82.0</td>\n",
              "      <td>Netherlands</td>\n",
              "      <td>NED</td>\n",
              "      <td>1994 Winter</td>\n",
              "      <td>1994</td>\n",
              "      <td>Winter</td>\n",
              "      <td>Lillehammer</td>\n",
              "      <td>Speed Skating</td>\n",
              "      <td>Speed Skating Women's 1,000 metres</td>\n",
              "      <td>NaN</td>\n",
              "    </tr>\n",
              "    <tr>\n",
              "      <th>10</th>\n",
              "      <td>6</td>\n",
              "      <td>Per Knut Aaland</td>\n",
              "      <td>M</td>\n",
              "      <td>31.0</td>\n",
              "      <td>188.0</td>\n",
              "      <td>75.0</td>\n",
              "      <td>United States</td>\n",
              "      <td>USA</td>\n",
              "      <td>1992 Winter</td>\n",
              "      <td>1992</td>\n",
              "      <td>Winter</td>\n",
              "      <td>Albertville</td>\n",
              "      <td>Cross Country Skiing</td>\n",
              "      <td>Cross Country Skiing Men's 10 kilometres</td>\n",
              "      <td>NaN</td>\n",
              "    </tr>\n",
              "    <tr>\n",
              "      <th>11</th>\n",
              "      <td>6</td>\n",
              "      <td>Per Knut Aaland</td>\n",
              "      <td>M</td>\n",
              "      <td>31.0</td>\n",
              "      <td>188.0</td>\n",
              "      <td>75.0</td>\n",
              "      <td>United States</td>\n",
              "      <td>USA</td>\n",
              "      <td>1992 Winter</td>\n",
              "      <td>1992</td>\n",
              "      <td>Winter</td>\n",
              "      <td>Albertville</td>\n",
              "      <td>Cross Country Skiing</td>\n",
              "      <td>Cross Country Skiing Men's 50 kilometres</td>\n",
              "      <td>NaN</td>\n",
              "    </tr>\n",
              "    <tr>\n",
              "      <th>12</th>\n",
              "      <td>6</td>\n",
              "      <td>Per Knut Aaland</td>\n",
              "      <td>M</td>\n",
              "      <td>31.0</td>\n",
              "      <td>188.0</td>\n",
              "      <td>75.0</td>\n",
              "      <td>United States</td>\n",
              "      <td>USA</td>\n",
              "      <td>1992 Winter</td>\n",
              "      <td>1992</td>\n",
              "      <td>Winter</td>\n",
              "      <td>Albertville</td>\n",
              "      <td>Cross Country Skiing</td>\n",
              "      <td>Cross Country Skiing Men's 10/15 kilometres Pu...</td>\n",
              "      <td>NaN</td>\n",
              "    </tr>\n",
              "    <tr>\n",
              "      <th>13</th>\n",
              "      <td>6</td>\n",
              "      <td>Per Knut Aaland</td>\n",
              "      <td>M</td>\n",
              "      <td>31.0</td>\n",
              "      <td>188.0</td>\n",
              "      <td>75.0</td>\n",
              "      <td>United States</td>\n",
              "      <td>USA</td>\n",
              "      <td>1992 Winter</td>\n",
              "      <td>1992</td>\n",
              "      <td>Winter</td>\n",
              "      <td>Albertville</td>\n",
              "      <td>Cross Country Skiing</td>\n",
              "      <td>Cross Country Skiing Men's 4 x 10 kilometres R...</td>\n",
              "      <td>NaN</td>\n",
              "    </tr>\n",
              "    <tr>\n",
              "      <th>14</th>\n",
              "      <td>6</td>\n",
              "      <td>Per Knut Aaland</td>\n",
              "      <td>M</td>\n",
              "      <td>33.0</td>\n",
              "      <td>188.0</td>\n",
              "      <td>75.0</td>\n",
              "      <td>United States</td>\n",
              "      <td>USA</td>\n",
              "      <td>1994 Winter</td>\n",
              "      <td>1994</td>\n",
              "      <td>Winter</td>\n",
              "      <td>Lillehammer</td>\n",
              "      <td>Cross Country Skiing</td>\n",
              "      <td>Cross Country Skiing Men's 10 kilometres</td>\n",
              "      <td>NaN</td>\n",
              "    </tr>\n",
              "    <tr>\n",
              "      <th>15</th>\n",
              "      <td>6</td>\n",
              "      <td>Per Knut Aaland</td>\n",
              "      <td>M</td>\n",
              "      <td>33.0</td>\n",
              "      <td>188.0</td>\n",
              "      <td>75.0</td>\n",
              "      <td>United States</td>\n",
              "      <td>USA</td>\n",
              "      <td>1994 Winter</td>\n",
              "      <td>1994</td>\n",
              "      <td>Winter</td>\n",
              "      <td>Lillehammer</td>\n",
              "      <td>Cross Country Skiing</td>\n",
              "      <td>Cross Country Skiing Men's 30 kilometres</td>\n",
              "      <td>NaN</td>\n",
              "    </tr>\n",
              "    <tr>\n",
              "      <th>16</th>\n",
              "      <td>6</td>\n",
              "      <td>Per Knut Aaland</td>\n",
              "      <td>M</td>\n",
              "      <td>33.0</td>\n",
              "      <td>188.0</td>\n",
              "      <td>75.0</td>\n",
              "      <td>United States</td>\n",
              "      <td>USA</td>\n",
              "      <td>1994 Winter</td>\n",
              "      <td>1994</td>\n",
              "      <td>Winter</td>\n",
              "      <td>Lillehammer</td>\n",
              "      <td>Cross Country Skiing</td>\n",
              "      <td>Cross Country Skiing Men's 10/15 kilometres Pu...</td>\n",
              "      <td>NaN</td>\n",
              "    </tr>\n",
              "    <tr>\n",
              "      <th>17</th>\n",
              "      <td>6</td>\n",
              "      <td>Per Knut Aaland</td>\n",
              "      <td>M</td>\n",
              "      <td>33.0</td>\n",
              "      <td>188.0</td>\n",
              "      <td>75.0</td>\n",
              "      <td>United States</td>\n",
              "      <td>USA</td>\n",
              "      <td>1994 Winter</td>\n",
              "      <td>1994</td>\n",
              "      <td>Winter</td>\n",
              "      <td>Lillehammer</td>\n",
              "      <td>Cross Country Skiing</td>\n",
              "      <td>Cross Country Skiing Men's 4 x 10 kilometres R...</td>\n",
              "      <td>NaN</td>\n",
              "    </tr>\n",
              "    <tr>\n",
              "      <th>18</th>\n",
              "      <td>7</td>\n",
              "      <td>John Aalberg</td>\n",
              "      <td>M</td>\n",
              "      <td>31.0</td>\n",
              "      <td>183.0</td>\n",
              "      <td>72.0</td>\n",
              "      <td>United States</td>\n",
              "      <td>USA</td>\n",
              "      <td>1992 Winter</td>\n",
              "      <td>1992</td>\n",
              "      <td>Winter</td>\n",
              "      <td>Albertville</td>\n",
              "      <td>Cross Country Skiing</td>\n",
              "      <td>Cross Country Skiing Men's 10 kilometres</td>\n",
              "      <td>NaN</td>\n",
              "    </tr>\n",
              "    <tr>\n",
              "      <th>19</th>\n",
              "      <td>7</td>\n",
              "      <td>John Aalberg</td>\n",
              "      <td>M</td>\n",
              "      <td>31.0</td>\n",
              "      <td>183.0</td>\n",
              "      <td>72.0</td>\n",
              "      <td>United States</td>\n",
              "      <td>USA</td>\n",
              "      <td>1992 Winter</td>\n",
              "      <td>1992</td>\n",
              "      <td>Winter</td>\n",
              "      <td>Albertville</td>\n",
              "      <td>Cross Country Skiing</td>\n",
              "      <td>Cross Country Skiing Men's 50 kilometres</td>\n",
              "      <td>NaN</td>\n",
              "    </tr>\n",
              "  </tbody>\n",
              "</table>\n",
              "</div>\n",
              "      <button class=\"colab-df-convert\" onclick=\"convertToInteractive('df-31f66656-6d23-493e-912d-976eda6a5548')\"\n",
              "              title=\"Convert this dataframe to an interactive table.\"\n",
              "              style=\"display:none;\">\n",
              "        \n",
              "  <svg xmlns=\"http://www.w3.org/2000/svg\" height=\"24px\"viewBox=\"0 0 24 24\"\n",
              "       width=\"24px\">\n",
              "    <path d=\"M0 0h24v24H0V0z\" fill=\"none\"/>\n",
              "    <path d=\"M18.56 5.44l.94 2.06.94-2.06 2.06-.94-2.06-.94-.94-2.06-.94 2.06-2.06.94zm-11 1L8.5 8.5l.94-2.06 2.06-.94-2.06-.94L8.5 2.5l-.94 2.06-2.06.94zm10 10l.94 2.06.94-2.06 2.06-.94-2.06-.94-.94-2.06-.94 2.06-2.06.94z\"/><path d=\"M17.41 7.96l-1.37-1.37c-.4-.4-.92-.59-1.43-.59-.52 0-1.04.2-1.43.59L10.3 9.45l-7.72 7.72c-.78.78-.78 2.05 0 2.83L4 21.41c.39.39.9.59 1.41.59.51 0 1.02-.2 1.41-.59l7.78-7.78 2.81-2.81c.8-.78.8-2.07 0-2.86zM5.41 20L4 18.59l7.72-7.72 1.47 1.35L5.41 20z\"/>\n",
              "  </svg>\n",
              "      </button>\n",
              "      \n",
              "  <style>\n",
              "    .colab-df-container {\n",
              "      display:flex;\n",
              "      flex-wrap:wrap;\n",
              "      gap: 12px;\n",
              "    }\n",
              "\n",
              "    .colab-df-convert {\n",
              "      background-color: #E8F0FE;\n",
              "      border: none;\n",
              "      border-radius: 50%;\n",
              "      cursor: pointer;\n",
              "      display: none;\n",
              "      fill: #1967D2;\n",
              "      height: 32px;\n",
              "      padding: 0 0 0 0;\n",
              "      width: 32px;\n",
              "    }\n",
              "\n",
              "    .colab-df-convert:hover {\n",
              "      background-color: #E2EBFA;\n",
              "      box-shadow: 0px 1px 2px rgba(60, 64, 67, 0.3), 0px 1px 3px 1px rgba(60, 64, 67, 0.15);\n",
              "      fill: #174EA6;\n",
              "    }\n",
              "\n",
              "    [theme=dark] .colab-df-convert {\n",
              "      background-color: #3B4455;\n",
              "      fill: #D2E3FC;\n",
              "    }\n",
              "\n",
              "    [theme=dark] .colab-df-convert:hover {\n",
              "      background-color: #434B5C;\n",
              "      box-shadow: 0px 1px 3px 1px rgba(0, 0, 0, 0.15);\n",
              "      filter: drop-shadow(0px 1px 2px rgba(0, 0, 0, 0.3));\n",
              "      fill: #FFFFFF;\n",
              "    }\n",
              "  </style>\n",
              "\n",
              "      <script>\n",
              "        const buttonEl =\n",
              "          document.querySelector('#df-31f66656-6d23-493e-912d-976eda6a5548 button.colab-df-convert');\n",
              "        buttonEl.style.display =\n",
              "          google.colab.kernel.accessAllowed ? 'block' : 'none';\n",
              "\n",
              "        async function convertToInteractive(key) {\n",
              "          const element = document.querySelector('#df-31f66656-6d23-493e-912d-976eda6a5548');\n",
              "          const dataTable =\n",
              "            await google.colab.kernel.invokeFunction('convertToInteractive',\n",
              "                                                     [key], {});\n",
              "          if (!dataTable) return;\n",
              "\n",
              "          const docLinkHtml = 'Like what you see? Visit the ' +\n",
              "            '<a target=\"_blank\" href=https://colab.research.google.com/notebooks/data_table.ipynb>data table notebook</a>'\n",
              "            + ' to learn more about interactive tables.';\n",
              "          element.innerHTML = '';\n",
              "          dataTable['output_type'] = 'display_data';\n",
              "          await google.colab.output.renderOutput(dataTable, element);\n",
              "          const docLink = document.createElement('div');\n",
              "          docLink.innerHTML = docLinkHtml;\n",
              "          element.appendChild(docLink);\n",
              "        }\n",
              "      </script>\n",
              "    </div>\n",
              "  </div>\n",
              "  "
            ]
          },
          "metadata": {},
          "execution_count": 44
        }
      ]
    },
    {
      "cell_type": "markdown",
      "metadata": {
        "id": "stYR4EbV05qP"
      },
      "source": [
        "__1. Сколько лет было самым молодым мужчинам и женщинам-участникам Олимпийских игр 1992 года ?__\n",
        "- 16 и 15\n",
        "- 14 и 13 \n",
        "- 13 и 11\n",
        "- 11 и 12"
      ]
    },
    {
      "cell_type": "code",
      "metadata": {
        "id": "HgiqBXtb05qR",
        "colab": {
          "base_uri": "https://localhost:8080/"
        },
        "outputId": "f348ee0e-f49a-4983-8612-6b7e15c51a02"
      },
      "source": [
        "data[data[\"Year\"] == 1992].groupby('Sex')['Age'].agg(np.min)"
      ],
      "execution_count": 4,
      "outputs": [
        {
          "output_type": "execute_result",
          "data": {
            "text/plain": [
              "Sex\n",
              "F    12.0\n",
              "M    11.0\n",
              "Name: Age, dtype: float64"
            ]
          },
          "metadata": {},
          "execution_count": 4
        }
      ]
    },
    {
      "cell_type": "markdown",
      "metadata": {
        "id": "GQ290dsi05qc"
      },
      "source": [
        "__2. Каков был процент баскетболистов-мужчин среди всех мужчин-участников Олимпийских игр 2012 года? Округлите ответ до первого десятичного знака.__\n",
        "\n",
        "Здесь и далее при необходимости отбрасывайте дублированных спортсменов, чтобы считать только уникальных . \n",
        "- 0.2\n",
        "- 1.5 \n",
        "- 2.5\n",
        "- 7.7"
      ]
    },
    {
      "cell_type": "code",
      "metadata": {
        "id": "-fI5MqWP05qi",
        "colab": {
          "base_uri": "https://localhost:8080/"
        },
        "outputId": "4b63760e-944f-4df1-a210-b7c3a1d80b7d"
      },
      "source": [
        "data_2012_M = data[(data[\"Year\"] == 2012) & (data[\"Sex\"] == 'M')]\n",
        "\n",
        "round((len(data_2012_M[data_2012_M[\"Sport\"] == \"Basketball\"][\"Name\"].unique())/len(data_2012_M[\"Name\"].unique()))*100, 1)"
      ],
      "execution_count": 5,
      "outputs": [
        {
          "output_type": "execute_result",
          "data": {
            "text/plain": [
              "2.5"
            ]
          },
          "metadata": {},
          "execution_count": 5
        }
      ]
    },
    {
      "cell_type": "markdown",
      "metadata": {
        "id": "u5WrTgIC05qv"
      },
      "source": [
        "__3. Каковы среднее и стандартное отклонение роста теннисисток, участвовавших в Олимпийских играх 2000 года? Округлите ответ до первого десятичного знака.__\n",
        "\n",
        "- 171.8 и 6.5\n",
        "- 179.4 и 10\n",
        "- 180.7 и 6.7\n",
        "- 182.4 и 9.1 "
      ]
    },
    {
      "cell_type": "code",
      "metadata": {
        "id": "vsKTqn6405qw",
        "colab": {
          "base_uri": "https://localhost:8080/"
        },
        "outputId": "68f18ddd-495c-476c-edec-9e37cf45d80e"
      },
      "source": [
        "round(data[(data[\"Year\"] == 2000) & (data[\"Sex\"] == 'F') & (data[\"Sport\"] == 'Tennis')][\"Height\"].agg([np.mean, np.std]), 1)"
      ],
      "execution_count": 6,
      "outputs": [
        {
          "output_type": "execute_result",
          "data": {
            "text/plain": [
              "mean    171.8\n",
              "std       6.5\n",
              "Name: Height, dtype: float64"
            ]
          },
          "metadata": {},
          "execution_count": 6
        }
      ]
    },
    {
      "cell_type": "markdown",
      "metadata": {
        "id": "xOOEzhNQ05qy"
      },
      "source": [
        "__4. Найдите спортсмена, который участвовал в Олимпийских играх 2006 года, с наибольшим весом среди других участников той же Олимпиады. Каким спортом он или она занимался?__\n",
        "\n",
        "- Judo\n",
        "- Bobsleigh \n",
        "- Skeleton\n",
        "- Boxing"
      ]
    },
    {
      "cell_type": "code",
      "metadata": {
        "id": "EkWD1Tnb05qz",
        "colab": {
          "base_uri": "https://localhost:8080/"
        },
        "outputId": "43226fe8-84a2-43b5-80c3-e0444e6b0d14"
      },
      "source": [
        "heavy = data[(data[\"Year\"] == 2006)]\n",
        "heavy[heavy[\"Weight\"]==heavy[\"Weight\"].agg(np.max)][\"Sport\"]"
      ],
      "execution_count": 7,
      "outputs": [
        {
          "output_type": "execute_result",
          "data": {
            "text/plain": [
              "8102    Skeleton\n",
              "Name: Sport, dtype: object"
            ]
          },
          "metadata": {},
          "execution_count": 7
        }
      ]
    },
    {
      "cell_type": "markdown",
      "metadata": {
        "id": "UQzxZ3HT05q0"
      },
      "source": [
        "__5. Сколько раз John Aalberg участвовал в Олимпийских играх в разные годы?__\n",
        "\n",
        "Один год - это один раз. Неважно сколько участий внутри одного года\n",
        "- 0\n",
        "- 1 \n",
        "- 2\n",
        "- 3 "
      ]
    },
    {
      "cell_type": "code",
      "metadata": {
        "id": "ZSfkdjPO05q0",
        "colab": {
          "base_uri": "https://localhost:8080/"
        },
        "outputId": "8e29bbe2-73c8-4000-f990-aba78520561a"
      },
      "source": [
        "data[data[\"Name\"]==\"John Aalberg\"][\"Year\"].nunique()\n"
      ],
      "execution_count": 19,
      "outputs": [
        {
          "output_type": "execute_result",
          "data": {
            "text/plain": [
              "2"
            ]
          },
          "metadata": {},
          "execution_count": 19
        }
      ]
    },
    {
      "cell_type": "markdown",
      "metadata": {
        "id": "8EnLcNrk05q3"
      },
      "source": [
        "__6. Сколько золотых медалей по теннису выиграли спортсмены сборной Switzerland на Олимпиаде-2008? Считайте каждую медаль от каждого спортсмена.__\n",
        "\n",
        "- 0\n",
        "- 1 \n",
        "- 2\n",
        "- 3 "
      ]
    },
    {
      "cell_type": "code",
      "source": [
        "#Использовал в условии str.contains т.к есть разные Team Switzerland, Switzerland-1, Switzerland-2\n",
        "data[(data[\"Sport\"]==\"Tennis\") & (data[\"Team\"].str.contains('Switzerland', regex=False)) & (data[\"Year\"]==2008) & (data[\"Medal\"]==\"Gold\")].shape[0]"
      ],
      "metadata": {
        "colab": {
          "base_uri": "https://localhost:8080/"
        },
        "id": "qzDHcFyzkW9V",
        "outputId": "feb64f7f-1f57-48ee-fc8d-dba9ad2b46b4"
      },
      "execution_count": 9,
      "outputs": [
        {
          "output_type": "execute_result",
          "data": {
            "text/plain": [
              "2"
            ]
          },
          "metadata": {},
          "execution_count": 9
        }
      ]
    },
    {
      "cell_type": "markdown",
      "metadata": {
        "id": "v3h5sQF805q5"
      },
      "source": [
        "__7. Правда ли, что на Олимпийских играх 2016 Spain выиграла меньше медалей, чем Италия?__ \n",
        "\n",
        "- Да\n",
        "- Нет"
      ]
    },
    {
      "cell_type": "code",
      "metadata": {
        "id": "gqJqDi2605q7",
        "colab": {
          "base_uri": "https://localhost:8080/"
        },
        "outputId": "46e75564-4733-49be-b256-11c355a962ac"
      },
      "source": [
        "#Использовал в условии str.contains т.к есть разные Team Spain, Spain-1, Spain-2        и       Italia, Italy, Italy-1, Italy-2, Italy-3\n",
        "ans1 = data[(data[\"Team\"].str.contains('Spain', regex=False)) & (data[\"Year\"]==2016)] \n",
        "ans2 = data[(data[\"Team\"].str.contains('Ital', regex=False)) & (data[\"Year\"]==2016)]\n",
        "\n",
        "\n",
        "count_ans1 = ans1[ans1[\"Medal\"].isnull() == 0].shape[0]\n",
        "count_ans2 = ans2[ans2[\"Medal\"].isnull() == 0].shape[0]\n",
        "\n",
        "if count_ans1 > count_ans2:\n",
        "  print(\"Количество медалей Испании больше Италии\")\n",
        "  print(\"Нет\")\n",
        "elif count_ans1 < count_ans2:\n",
        "  print(\"Количество медалей Италии больше Испании\")\n",
        "  print(\"Да\")\n",
        "else:\n",
        "  print(\"Количество медалей Испании и Италии равны\")\n"
      ],
      "execution_count": 10,
      "outputs": [
        {
          "output_type": "stream",
          "name": "stdout",
          "text": [
            "Количество медалей Италии больше Испании\n",
            "Да\n"
          ]
        }
      ]
    },
    {
      "cell_type": "markdown",
      "metadata": {
        "id": "kkSYL5mK05q-"
      },
      "source": [
        "__8. К какой возрастной категории принадлежало наименьшее и наибольшее количество участников Олимпиады-2008?__\n",
        "\n",
        "- [45-55] и [25-35) соответственно\n",
        "- [45-55] и [15-25) соответственно\n",
        "- [35-45) и [25-35) соответственно\n",
        "- [45-55] и [35-45) соответственно"
      ]
    },
    {
      "cell_type": "code",
      "metadata": {
        "id": "pMAQtW7i05q_",
        "colab": {
          "base_uri": "https://localhost:8080/"
        },
        "outputId": "992b9646-c810-45d5-b6bc-95da3e85849d"
      },
      "source": [
        "categor = data[data[\"Year\"]==2008]\n",
        "\n",
        "v1 = (categor[(categor['Age'] >= 15) & (categor['Age'] < 25) ].shape[0], \"[15-25)\")\n",
        "\n",
        "v2 = (categor[(categor['Age'] >= 25) & (categor['Age'] < 35) ].shape[0], \"[25-35)\")\n",
        "\n",
        "v3 = (categor[(categor['Age'] >= 35) & (categor['Age'] < 45) ].shape[0], \"[35-45)\")\n",
        "\n",
        "v4 = (categor[(categor['Age'] >= 45) & (categor['Age'] <= 55 )].shape[0], \"[45-55]\")\n",
        "\n",
        "ress = sorted([v1,v2, v3, v4],key=lambda c: -c[0])\n",
        "\n",
        "print(ress[0][1],ress[len(ress)-1][1] )\n",
        "\n"
      ],
      "execution_count": 55,
      "outputs": [
        {
          "output_type": "stream",
          "name": "stdout",
          "text": [
            "[25-35) [45-55]\n"
          ]
        }
      ]
    },
    {
      "cell_type": "markdown",
      "metadata": {
        "id": "JQmJPiXv05rB"
      },
      "source": [
        "__9. Правда ли, что в Atlanta проводились летние Олимпийские игры? Правда ли, что в Squaw Valley проводились зимние Олимпийские игры? ?__\n",
        "\n",
        "- Да, Да\n",
        "- Да, Нет\n",
        "- Нет, Да \n",
        "- Нет, Нет "
      ]
    },
    {
      "cell_type": "code",
      "metadata": {
        "id": "UU66wRHC05rB",
        "colab": {
          "base_uri": "https://localhost:8080/"
        },
        "outputId": "0b1d8356-d4a1-40ef-c6ce-70d301ba3484"
      },
      "source": [
        "atl_game = data[(data[\"City\"]==\"Atlanta\") & (data[\"Season\"]==\"Summer\")].shape[0]\n",
        "squ_game = data[(data[\"City\"]==\"Squaw Valley\") & (data[\"Season\"]==\"Winter\")].shape[0]\n",
        "\n",
        "if atl_game!=0:\n",
        "  print(\"Да\")\n",
        "else:\n",
        "  print(\"Нет\")\n",
        "\n",
        "\n",
        "if squ_game!=0:\n",
        "  print(\"Да\")\n",
        "else:\n",
        "  print(\"Нет\")\n"
      ],
      "execution_count": 13,
      "outputs": [
        {
          "output_type": "stream",
          "name": "stdout",
          "text": [
            "Да\n",
            "Да\n"
          ]
        }
      ]
    },
    {
      "cell_type": "markdown",
      "metadata": {
        "id": "4hxR5D-t05rF"
      },
      "source": [
        "__10. Какова абсолютная разница между количеством уникальных видов спорта на Олимпиаде 1986 года и Олимпиаде 2002 года?__\n",
        "\n",
        "- 3 \n",
        "- 10\n",
        "- 15\n",
        "- 27 "
      ]
    },
    {
      "cell_type": "code",
      "metadata": {
        "id": "WKIr-TR105rF",
        "colab": {
          "base_uri": "https://localhost:8080/"
        },
        "outputId": "cc939a8b-ec33-470d-efb9-cf512b73fd2c"
      },
      "source": [
        "one = data[data[\"Year\"]==1986][\"Sport\"].nunique()\n",
        "two = data[data[\"Year\"]==2002][\"Sport\"].nunique()\n",
        "print(abs(one - two))\n",
        "\n",
        "\n"
      ],
      "execution_count": 21,
      "outputs": [
        {
          "output_type": "stream",
          "name": "stdout",
          "text": [
            "15\n"
          ]
        }
      ]
    }
  ]
}