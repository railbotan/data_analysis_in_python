{
  "nbformat": 4,
  "nbformat_minor": 0,
  "metadata": {
    "kernelspec": {
      "display_name": "Python 3",
      "language": "python",
      "name": "python3"
    },
    "language_info": {
      "codemirror_mode": {
        "name": "ipython",
        "version": 3
      },
      "file_extension": ".py",
      "mimetype": "text/x-python",
      "name": "python",
      "nbconvert_exporter": "python",
      "pygments_lexer": "ipython3",
      "version": "3.6.8"
    },
    "colab": {
      "name": "Pandas and EDA. Task.ipynb",
      "provenance": [],
      "collapsed_sections": []
    }
  },
  "cells": [
    {
      "cell_type": "markdown",
      "metadata": {
        "id": "EmV0s8YY05p7"
      },
      "source": [
        "- __ID__ - Unique number for each athlete\n",
        "- __Name__ - Athlete's name\n",
        "- __Sex__ - M or F\n",
        "- __Age__ - Integer\n",
        "- __Height__ - In centimeters\n",
        "- __Weight__ - In kilograms\n",
        "- __Team__ - Team name\n",
        "- __NOC__ - National Olympic Committee 3-letter code\n",
        "- __Games__ - Year and season\n",
        "- __Year__ - Integer\n",
        "- __Season__ - Summer or Winter\n",
        "- __City__ - Host city\n",
        "- __Sport__ - Sport\n",
        "- __Event__ - Event\n",
        "- __Medal__ - Gold, Silver, Bronze, or NA"
      ]
    },
    {
      "cell_type": "code",
      "metadata": {
        "id": "rVCrMDMh05p_"
      },
      "source": [
        "import pandas as pd\n",
        "import numpy as np"
      ],
      "execution_count": 1,
      "outputs": []
    },
    {
      "cell_type": "code",
      "metadata": {
        "id": "D5Q4Z-JW05qC"
      },
      "source": [
        "PATH = 'https://github.com/aksenov7/Kaggle_competition_group/blob/master/athlete_events.csv.zip?raw=true'"
      ],
      "execution_count": 2,
      "outputs": []
    },
    {
      "cell_type": "markdown",
      "metadata": {
        "id": "mI0LtqkY4Kp-"
      },
      "source": [
        "__0. Откройте файл используя необходимые параметры и не меняя переменную PATH__"
      ]
    },
    {
      "cell_type": "code",
      "metadata": {
        "id": "h5SQwBLr05qG",
        "colab": {
          "base_uri": "https://localhost:8080/",
          "height": 206
        },
        "outputId": "4a67cced-8c5b-4783-98e5-0730370962d2"
      },
      "source": [
        "data = pd.read_csv(PATH, compression='zip', sep=',')\n",
        "data.head()"
      ],
      "execution_count": 6,
      "outputs": [
        {
          "output_type": "execute_result",
          "data": {
            "text/plain": [
              "   ID                      Name Sex   Age  Height  Weight            Team  \\\n",
              "0   1                 A Dijiang   M  24.0   180.0    80.0           China   \n",
              "1   2                  A Lamusi   M  23.0   170.0    60.0           China   \n",
              "2   3       Gunnar Nielsen Aaby   M  24.0     NaN     NaN         Denmark   \n",
              "3   4      Edgar Lindenau Aabye   M  34.0     NaN     NaN  Denmark/Sweden   \n",
              "4   5  Christine Jacoba Aaftink   F  21.0   185.0    82.0     Netherlands   \n",
              "\n",
              "   NOC        Games  Year  Season       City          Sport  \\\n",
              "0  CHN  1992 Summer  1992  Summer  Barcelona     Basketball   \n",
              "1  CHN  2012 Summer  2012  Summer     London           Judo   \n",
              "2  DEN  1920 Summer  1920  Summer  Antwerpen       Football   \n",
              "3  DEN  1900 Summer  1900  Summer      Paris     Tug-Of-War   \n",
              "4  NED  1988 Winter  1988  Winter    Calgary  Speed Skating   \n",
              "\n",
              "                              Event Medal  \n",
              "0       Basketball Men's Basketball   NaN  \n",
              "1      Judo Men's Extra-Lightweight   NaN  \n",
              "2           Football Men's Football   NaN  \n",
              "3       Tug-Of-War Men's Tug-Of-War  Gold  \n",
              "4  Speed Skating Women's 500 metres   NaN  "
            ],
            "text/html": [
              "\n",
              "  <div id=\"df-168f7f0f-ae00-48f2-9328-5a5bcb270d70\">\n",
              "    <div class=\"colab-df-container\">\n",
              "      <div>\n",
              "<style scoped>\n",
              "    .dataframe tbody tr th:only-of-type {\n",
              "        vertical-align: middle;\n",
              "    }\n",
              "\n",
              "    .dataframe tbody tr th {\n",
              "        vertical-align: top;\n",
              "    }\n",
              "\n",
              "    .dataframe thead th {\n",
              "        text-align: right;\n",
              "    }\n",
              "</style>\n",
              "<table border=\"1\" class=\"dataframe\">\n",
              "  <thead>\n",
              "    <tr style=\"text-align: right;\">\n",
              "      <th></th>\n",
              "      <th>ID</th>\n",
              "      <th>Name</th>\n",
              "      <th>Sex</th>\n",
              "      <th>Age</th>\n",
              "      <th>Height</th>\n",
              "      <th>Weight</th>\n",
              "      <th>Team</th>\n",
              "      <th>NOC</th>\n",
              "      <th>Games</th>\n",
              "      <th>Year</th>\n",
              "      <th>Season</th>\n",
              "      <th>City</th>\n",
              "      <th>Sport</th>\n",
              "      <th>Event</th>\n",
              "      <th>Medal</th>\n",
              "    </tr>\n",
              "  </thead>\n",
              "  <tbody>\n",
              "    <tr>\n",
              "      <th>0</th>\n",
              "      <td>1</td>\n",
              "      <td>A Dijiang</td>\n",
              "      <td>M</td>\n",
              "      <td>24.0</td>\n",
              "      <td>180.0</td>\n",
              "      <td>80.0</td>\n",
              "      <td>China</td>\n",
              "      <td>CHN</td>\n",
              "      <td>1992 Summer</td>\n",
              "      <td>1992</td>\n",
              "      <td>Summer</td>\n",
              "      <td>Barcelona</td>\n",
              "      <td>Basketball</td>\n",
              "      <td>Basketball Men's Basketball</td>\n",
              "      <td>NaN</td>\n",
              "    </tr>\n",
              "    <tr>\n",
              "      <th>1</th>\n",
              "      <td>2</td>\n",
              "      <td>A Lamusi</td>\n",
              "      <td>M</td>\n",
              "      <td>23.0</td>\n",
              "      <td>170.0</td>\n",
              "      <td>60.0</td>\n",
              "      <td>China</td>\n",
              "      <td>CHN</td>\n",
              "      <td>2012 Summer</td>\n",
              "      <td>2012</td>\n",
              "      <td>Summer</td>\n",
              "      <td>London</td>\n",
              "      <td>Judo</td>\n",
              "      <td>Judo Men's Extra-Lightweight</td>\n",
              "      <td>NaN</td>\n",
              "    </tr>\n",
              "    <tr>\n",
              "      <th>2</th>\n",
              "      <td>3</td>\n",
              "      <td>Gunnar Nielsen Aaby</td>\n",
              "      <td>M</td>\n",
              "      <td>24.0</td>\n",
              "      <td>NaN</td>\n",
              "      <td>NaN</td>\n",
              "      <td>Denmark</td>\n",
              "      <td>DEN</td>\n",
              "      <td>1920 Summer</td>\n",
              "      <td>1920</td>\n",
              "      <td>Summer</td>\n",
              "      <td>Antwerpen</td>\n",
              "      <td>Football</td>\n",
              "      <td>Football Men's Football</td>\n",
              "      <td>NaN</td>\n",
              "    </tr>\n",
              "    <tr>\n",
              "      <th>3</th>\n",
              "      <td>4</td>\n",
              "      <td>Edgar Lindenau Aabye</td>\n",
              "      <td>M</td>\n",
              "      <td>34.0</td>\n",
              "      <td>NaN</td>\n",
              "      <td>NaN</td>\n",
              "      <td>Denmark/Sweden</td>\n",
              "      <td>DEN</td>\n",
              "      <td>1900 Summer</td>\n",
              "      <td>1900</td>\n",
              "      <td>Summer</td>\n",
              "      <td>Paris</td>\n",
              "      <td>Tug-Of-War</td>\n",
              "      <td>Tug-Of-War Men's Tug-Of-War</td>\n",
              "      <td>Gold</td>\n",
              "    </tr>\n",
              "    <tr>\n",
              "      <th>4</th>\n",
              "      <td>5</td>\n",
              "      <td>Christine Jacoba Aaftink</td>\n",
              "      <td>F</td>\n",
              "      <td>21.0</td>\n",
              "      <td>185.0</td>\n",
              "      <td>82.0</td>\n",
              "      <td>Netherlands</td>\n",
              "      <td>NED</td>\n",
              "      <td>1988 Winter</td>\n",
              "      <td>1988</td>\n",
              "      <td>Winter</td>\n",
              "      <td>Calgary</td>\n",
              "      <td>Speed Skating</td>\n",
              "      <td>Speed Skating Women's 500 metres</td>\n",
              "      <td>NaN</td>\n",
              "    </tr>\n",
              "  </tbody>\n",
              "</table>\n",
              "</div>\n",
              "      <button class=\"colab-df-convert\" onclick=\"convertToInteractive('df-168f7f0f-ae00-48f2-9328-5a5bcb270d70')\"\n",
              "              title=\"Convert this dataframe to an interactive table.\"\n",
              "              style=\"display:none;\">\n",
              "        \n",
              "  <svg xmlns=\"http://www.w3.org/2000/svg\" height=\"24px\"viewBox=\"0 0 24 24\"\n",
              "       width=\"24px\">\n",
              "    <path d=\"M0 0h24v24H0V0z\" fill=\"none\"/>\n",
              "    <path d=\"M18.56 5.44l.94 2.06.94-2.06 2.06-.94-2.06-.94-.94-2.06-.94 2.06-2.06.94zm-11 1L8.5 8.5l.94-2.06 2.06-.94-2.06-.94L8.5 2.5l-.94 2.06-2.06.94zm10 10l.94 2.06.94-2.06 2.06-.94-2.06-.94-.94-2.06-.94 2.06-2.06.94z\"/><path d=\"M17.41 7.96l-1.37-1.37c-.4-.4-.92-.59-1.43-.59-.52 0-1.04.2-1.43.59L10.3 9.45l-7.72 7.72c-.78.78-.78 2.05 0 2.83L4 21.41c.39.39.9.59 1.41.59.51 0 1.02-.2 1.41-.59l7.78-7.78 2.81-2.81c.8-.78.8-2.07 0-2.86zM5.41 20L4 18.59l7.72-7.72 1.47 1.35L5.41 20z\"/>\n",
              "  </svg>\n",
              "      </button>\n",
              "      \n",
              "  <style>\n",
              "    .colab-df-container {\n",
              "      display:flex;\n",
              "      flex-wrap:wrap;\n",
              "      gap: 12px;\n",
              "    }\n",
              "\n",
              "    .colab-df-convert {\n",
              "      background-color: #E8F0FE;\n",
              "      border: none;\n",
              "      border-radius: 50%;\n",
              "      cursor: pointer;\n",
              "      display: none;\n",
              "      fill: #1967D2;\n",
              "      height: 32px;\n",
              "      padding: 0 0 0 0;\n",
              "      width: 32px;\n",
              "    }\n",
              "\n",
              "    .colab-df-convert:hover {\n",
              "      background-color: #E2EBFA;\n",
              "      box-shadow: 0px 1px 2px rgba(60, 64, 67, 0.3), 0px 1px 3px 1px rgba(60, 64, 67, 0.15);\n",
              "      fill: #174EA6;\n",
              "    }\n",
              "\n",
              "    [theme=dark] .colab-df-convert {\n",
              "      background-color: #3B4455;\n",
              "      fill: #D2E3FC;\n",
              "    }\n",
              "\n",
              "    [theme=dark] .colab-df-convert:hover {\n",
              "      background-color: #434B5C;\n",
              "      box-shadow: 0px 1px 3px 1px rgba(0, 0, 0, 0.15);\n",
              "      filter: drop-shadow(0px 1px 2px rgba(0, 0, 0, 0.3));\n",
              "      fill: #FFFFFF;\n",
              "    }\n",
              "  </style>\n",
              "\n",
              "      <script>\n",
              "        const buttonEl =\n",
              "          document.querySelector('#df-168f7f0f-ae00-48f2-9328-5a5bcb270d70 button.colab-df-convert');\n",
              "        buttonEl.style.display =\n",
              "          google.colab.kernel.accessAllowed ? 'block' : 'none';\n",
              "\n",
              "        async function convertToInteractive(key) {\n",
              "          const element = document.querySelector('#df-168f7f0f-ae00-48f2-9328-5a5bcb270d70');\n",
              "          const dataTable =\n",
              "            await google.colab.kernel.invokeFunction('convertToInteractive',\n",
              "                                                     [key], {});\n",
              "          if (!dataTable) return;\n",
              "\n",
              "          const docLinkHtml = 'Like what you see? Visit the ' +\n",
              "            '<a target=\"_blank\" href=https://colab.research.google.com/notebooks/data_table.ipynb>data table notebook</a>'\n",
              "            + ' to learn more about interactive tables.';\n",
              "          element.innerHTML = '';\n",
              "          dataTable['output_type'] = 'display_data';\n",
              "          await google.colab.output.renderOutput(dataTable, element);\n",
              "          const docLink = document.createElement('div');\n",
              "          docLink.innerHTML = docLinkHtml;\n",
              "          element.appendChild(docLink);\n",
              "        }\n",
              "      </script>\n",
              "    </div>\n",
              "  </div>\n",
              "  "
            ]
          },
          "metadata": {},
          "execution_count": 6
        }
      ]
    },
    {
      "cell_type": "markdown",
      "metadata": {
        "id": "stYR4EbV05qP"
      },
      "source": [
        "__1. Сколько лет было самым молодым мужчинам и женщинам-участникам Олимпийских игр 1992 года ?__\n",
        "- 16 и 15\n",
        "- 14 и 13 \n",
        "- 13 и 11\n",
        "- 11 и 12"
      ]
    },
    {
      "cell_type": "code",
      "metadata": {
        "id": "HgiqBXtb05qR",
        "colab": {
          "base_uri": "https://localhost:8080/"
        },
        "outputId": "d7992f8a-9376-4041-ae7d-a36848fc03ff"
      },
      "source": [
        "data[data['Year']==1992].groupby(['Sex'])['Age'].min()"
      ],
      "execution_count": 7,
      "outputs": [
        {
          "output_type": "execute_result",
          "data": {
            "text/plain": [
              "Sex\n",
              "F    12.0\n",
              "M    11.0\n",
              "Name: Age, dtype: float64"
            ]
          },
          "metadata": {},
          "execution_count": 7
        }
      ]
    },
    {
      "cell_type": "markdown",
      "source": [
        "Самым молодым мужчинам и женщинам-участникам Олимпийских игр 1992 года было 11 и 12 лет соответственно"
      ],
      "metadata": {
        "id": "6l-jg7yc9nJM"
      }
    },
    {
      "cell_type": "markdown",
      "metadata": {
        "id": "GQ290dsi05qc"
      },
      "source": [
        "__2. Каков был процент баскетболистов-мужчин среди всех мужчин-участников Олимпийских игр 2012 года? Округлите ответ до первого десятичного знака.__\n",
        "\n",
        "Здесь и далее при необходимости отбрасывайте дублированных спортсменов, чтобы считать только уникальных . \n",
        "- 0.2\n",
        "- 1.5 \n",
        "- 2.5\n",
        "- 7.7"
      ]
    },
    {
      "cell_type": "code",
      "metadata": {
        "id": "-fI5MqWP05qi",
        "colab": {
          "base_uri": "https://localhost:8080/"
        },
        "outputId": "96c87bfe-4067-41f5-cd35-5339e7592e47"
      },
      "source": [
        "man = data[(data['Sex']=='M')&(data['Year']==2012)].drop_duplicates(subset=['ID'],inplace=False)\n",
        "basketball_man = man['Sport'].value_counts(normalize=True)['Basketball']\n",
        "np.round(basketball_man*100,1)"
      ],
      "execution_count": 8,
      "outputs": [
        {
          "output_type": "execute_result",
          "data": {
            "text/plain": [
              "2.5"
            ]
          },
          "metadata": {},
          "execution_count": 8
        }
      ]
    },
    {
      "cell_type": "markdown",
      "source": [
        "Самым молодым мужчинам и женщинам-участникам Олимпийских игр 1992 года было 11 и 12 лет"
      ],
      "metadata": {
        "id": "BKw79NcoNRJ5"
      }
    },
    {
      "cell_type": "markdown",
      "metadata": {
        "id": "u5WrTgIC05qv"
      },
      "source": [
        "__3. Каковы среднее и стандартное отклонение роста теннисисток, участвовавших в Олимпийских играх 2000 года? Округлите ответ до первого десятичного знака.__\n",
        "\n",
        "- 171.8 и 6.5\n",
        "- 179.4 и 10\n",
        "- 180.7 и 6.7\n",
        "- 182.4 и 9.1 "
      ]
    },
    {
      "cell_type": "code",
      "metadata": {
        "id": "vsKTqn6405qw",
        "colab": {
          "base_uri": "https://localhost:8080/"
        },
        "outputId": "d264e669-d2af-4e46-a290-4235f201f50b"
      },
      "source": [
        "deviation = data[(data['Year'] == 2000)&(data['Sex'] == 'F')&(data['Sport'] == 'Tennis')]\n",
        "res_2 = round(deviation['Height'].std(), 1)\n",
        "res_1 = round(deviation['Height'].mean(), 1)\n",
        "print(\"Cреднее и стандартное отклонение роста теннисисток, участвовавших в Олимпийских играх 2000 года:\", res_1, \"и\", res_2)"
      ],
      "execution_count": 37,
      "outputs": [
        {
          "output_type": "stream",
          "name": "stdout",
          "text": [
            "Cреднее и стандартное отклонение роста теннисисток, участвовавших в Олимпийских играх 2000 года: 171.8 и 6.5\n"
          ]
        }
      ]
    },
    {
      "cell_type": "markdown",
      "metadata": {
        "id": "xOOEzhNQ05qy"
      },
      "source": [
        "__4. Найдите спортсмена, который участвовал в Олимпийских играх 2006 года, с наибольшим весом среди других участников той же Олимпиады. Каким спортом он или она занимался?__\n",
        "\n",
        "- Judo\n",
        "- Bobsleigh \n",
        "- Skeleton\n",
        "- Boxing"
      ]
    },
    {
      "cell_type": "code",
      "metadata": {
        "id": "EkWD1Tnb05qz",
        "colab": {
          "base_uri": "https://localhost:8080/"
        },
        "outputId": "5f219ce7-f1d8-49c0-f64a-a9e33e1a67a0"
      },
      "source": [
        "highest_weight = data[(data['Year']==2006)]['Weight'].max()\n",
        "print(data[(data['Year']==2006)&(data['Weight']==highest_weight)]['Sport'])"
      ],
      "execution_count": 12,
      "outputs": [
        {
          "output_type": "stream",
          "name": "stdout",
          "text": [
            "8102    Skeleton\n",
            "Name: Sport, dtype: object\n"
          ]
        }
      ]
    },
    {
      "cell_type": "markdown",
      "source": [
        "Спортсмен с наибольшим весом, участвовавший в Олимпийских играх 2006 года, занимался Skeleton."
      ],
      "metadata": {
        "id": "6DE5va9-NXk9"
      }
    },
    {
      "cell_type": "markdown",
      "metadata": {
        "id": "UQzxZ3HT05q0"
      },
      "source": [
        "__5. Сколько раз John Aalberg участвовал в Олимпийских играх в разные годы?__\n",
        "\n",
        "Один год - это один раз. Неважно сколько участий внутри одного года\n",
        "- 0\n",
        "- 1 \n",
        "- 2\n",
        "- 3 "
      ]
    },
    {
      "cell_type": "code",
      "metadata": {
        "id": "ZSfkdjPO05q0",
        "colab": {
          "base_uri": "https://localhost:8080/"
        },
        "outputId": "60cd0455-8924-4a76-f9db-056e65e4c32d"
      },
      "source": [
        "count_name = len(data[data['Name'] == 'John Aalberg'].drop_duplicates(['Year']))\n",
        "print(\"John Aalberg участвовал в Олимпийских играх\" ,count_name, \"раза\")"
      ],
      "execution_count": 17,
      "outputs": [
        {
          "output_type": "stream",
          "name": "stdout",
          "text": [
            "John Aalberg участвовал в Олимпийских играх 2 раза\n"
          ]
        }
      ]
    },
    {
      "cell_type": "markdown",
      "metadata": {
        "id": "8EnLcNrk05q3"
      },
      "source": [
        "__6. Сколько золотых медалей по теннису выиграли спортсмены сборной Switzerland на Олимпиаде-2008? Считайте каждую медаль от каждого спортсмена.__\n",
        "\n",
        "- 0\n",
        "- 1 \n",
        "- 2\n",
        "- 3 "
      ]
    },
    {
      "cell_type": "code",
      "metadata": {
        "id": "Y754OGI-05q3",
        "colab": {
          "base_uri": "https://localhost:8080/"
        },
        "outputId": "a10310b6-05e8-4f00-f9dc-75d112dd7a34"
      },
      "source": [
        "number_peoples = data[(data['Year'] == 2008)&(data['Sport'] == 'Tennis')&(data['Medal'] == 'Gold')&(data['Team'] == 'Switzerland')]\n",
        "count_medal = len(number_peoples)\n",
        "print(\"Спортсмены по теннису сборной Switzerland на Олимпиаде-2008 выиграли\", count_medal, \"медали\")"
      ],
      "execution_count": 19,
      "outputs": [
        {
          "output_type": "stream",
          "name": "stdout",
          "text": [
            "Спортсмены по теннису сборной Switzerland на Олимпиаде-2008 выиграли 2 медали\n"
          ]
        }
      ]
    },
    {
      "cell_type": "markdown",
      "metadata": {
        "id": "v3h5sQF805q5"
      },
      "source": [
        "__7. Правда ли, что на Олимпийских играх 2016 Spain выиграла меньше медалей, чем Италия?__ \n",
        "\n",
        "- Да\n",
        "- Нет"
      ]
    },
    {
      "cell_type": "code",
      "metadata": {
        "id": "gqJqDi2605q7",
        "colab": {
          "base_uri": "https://localhost:8080/"
        },
        "outputId": "55be8cf3-34d5-4936-d939-7551724cf0f8"
      },
      "source": [
        "people_year = data[data['Year'] == 2016]\n",
        "people_italy = people_year[people_year['Team'] == 'Italy']['Medal'].dropna()\n",
        "people_spain = people_year[people_year['Team'] == 'Spain']['Medal'].dropna()\n",
        "print('Правда') if len(people_spain) < len(people_italy) else print('Не правда')"
      ],
      "execution_count": 20,
      "outputs": [
        {
          "output_type": "stream",
          "name": "stdout",
          "text": [
            "Правда\n"
          ]
        }
      ]
    },
    {
      "cell_type": "markdown",
      "metadata": {
        "id": "kkSYL5mK05q-"
      },
      "source": [
        "__8. К какой возрастной категории принадлежало наименьшее и наибольшее количество участников Олимпиады-2008?__\n",
        "\n",
        "- [45-55] и [25-35) соответственно\n",
        "- [45-55] и [15-25) соответственно\n",
        "- [35-45) и [25-35) соответственно\n",
        "- [45-55] и [35-45) соответственно"
      ]
    },
    {
      "cell_type": "code",
      "metadata": {
        "id": "pMAQtW7i05q_",
        "colab": {
          "base_uri": "https://localhost:8080/"
        },
        "outputId": "fae0e8ba-cc03-41a8-929c-b02564ab6a64"
      },
      "source": [
        "age = data[(data['Year'] == 2008)][['Age']]\n",
        "age_15_25 = len(age[(age['Age'] >= 15) & (age['Age'] < 25)])\n",
        "age_25_35 = len(age[(age['Age'] >= 25) & (age['Age'] < 35)])\n",
        "age_35_45 = len(age[(age['Age'] >= 35) & (age['Age'] < 45)])\n",
        "age_45_55 = len(age[(age['Age'] >= 45) & (age['Age'] <= 55)])\n",
        "print(f'[45-55] и [25-35): {age_45_55} и {age_25_35} соответственно\\n')\n",
        "print(f'[45-55] и [15-25): {age_45_55} и {age_15_25} соответственно\\n')\n",
        "print(f'[35-45) и [25-35): {age_35_45} и {age_25_35} соответственно\\n')\n",
        "print(f'[45-55] и [35-45): {age_45_55} и {age_35_45} соответственно\\n')\n",
        "print(f'Ответ: [45-55] и [25-35) соответственно')"
      ],
      "execution_count": 30,
      "outputs": [
        {
          "output_type": "stream",
          "name": "stdout",
          "text": [
            "[45-55] и [25-35): 119 и 6367 соответственно\n",
            "\n",
            "[45-55] и [15-25): 119 и 6294 соответственно\n",
            "\n",
            "[35-45) и [25-35): 790 и 6367 соответственно\n",
            "\n",
            "[45-55] и [35-45): 119 и 790 соответственно\n",
            "\n",
            "Ответ: [45-55] и [25-35) соответственно\n"
          ]
        }
      ]
    },
    {
      "cell_type": "markdown",
      "metadata": {
        "id": "JQmJPiXv05rB"
      },
      "source": [
        "__9. Правда ли, что в Atlanta проводились летние Олимпийские игры? Правда ли, что в Squaw Valley проводились зимние Олимпийские игры? ?__\n",
        "\n",
        "- Да, Да\n",
        "- Да, Нет\n",
        "- Нет, Да \n",
        "- Нет, Нет "
      ]
    },
    {
      "cell_type": "code",
      "metadata": {
        "id": "UU66wRHC05rB",
        "colab": {
          "base_uri": "https://localhost:8080/"
        },
        "outputId": "9ad04b54-2daf-4c26-9044-73c24d9c1bad"
      },
      "source": [
        "atlanta_sum = data[(data['City'] == 'Atlanta')&(data['Season'] == 'Summer')]\n",
        "squaw_valley_win = data[(data['City'] == 'Squaw Valley') & (data['Season'] == 'Winter')]\n",
        "print('Да, ', end='') if len(atlanta_sum) > 0 else print('Нет, ', end='')\n",
        "print('Да') if len(squaw_valley_win) > 0 else print('Нет')"
      ],
      "execution_count": 31,
      "outputs": [
        {
          "output_type": "stream",
          "name": "stdout",
          "text": [
            "Да, Да\n"
          ]
        }
      ]
    },
    {
      "cell_type": "markdown",
      "metadata": {
        "id": "4hxR5D-t05rF"
      },
      "source": [
        "__10. Какова абсолютная разница между количеством уникальных видов спорта на Олимпиаде 1986 года и Олимпиаде 2002 года?__\n",
        "\n",
        "- 3 \n",
        "- 10\n",
        "- 15\n",
        "- 27 "
      ]
    },
    {
      "cell_type": "code",
      "metadata": {
        "id": "WKIr-TR105rF",
        "colab": {
          "base_uri": "https://localhost:8080/"
        },
        "outputId": "25430833-b5b0-48c2-c05e-d552b4af29d4"
      },
      "source": [
        "abs_difference = abs(data[data['Year']==1986]['Sport'].nunique()-data[data['Year']==2002]['Sport'].nunique())\n",
        "print(\"Абсолютная разница между количеством уникальных видов спорта на Олимпиаде 1986 года и Олимпиаде 2002 года - \", abs_difference )"
      ],
      "execution_count": 33,
      "outputs": [
        {
          "output_type": "stream",
          "name": "stdout",
          "text": [
            "Абсолютная разница между количеством уникальных видов спорта на Олимпиаде 1986 года и Олимпиаде 2002 года -  15\n"
          ]
        }
      ]
    }
  ]
}