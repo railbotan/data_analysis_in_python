{
 "cells": [
  {
   "cell_type": "markdown",
   "metadata": {
    "id": "EmV0s8YY05p7"
   },
   "source": [
    "- __ID__ - Unique number for each athlete\n",
    "- __Name__ - Athlete's name\n",
    "- __Sex__ - M or F\n",
    "- __Age__ - Integer\n",
    "- __Height__ - In centimeters\n",
    "- __Weight__ - In kilograms\n",
    "- __Team__ - Team name\n",
    "- __NOC__ - National Olympic Committee 3-letter code\n",
    "- __Games__ - Year and season\n",
    "- __Year__ - Integer\n",
    "- __Season__ - Summer or Winter\n",
    "- __City__ - Host city\n",
    "- __Sport__ - Sport\n",
    "- __Event__ - Event\n",
    "- __Medal__ - Gold, Silver, Bronze, or NA"
   ]
  },
  {
   "cell_type": "code",
   "execution_count": 3,
   "metadata": {
    "id": "rVCrMDMh05p_"
   },
   "outputs": [],
   "source": [
    "import pandas as pd"
   ]
  },
  {
   "cell_type": "code",
   "execution_count": 4,
   "metadata": {
    "id": "D5Q4Z-JW05qC"
   },
   "outputs": [],
   "source": [
    "# не меняем путь!\n",
    "PATH = 'https://github.com/aksenov7/Kaggle_competition_group/blob/master/athlete_events.csv.zip?raw=true'"
   ]
  },
  {
   "cell_type": "markdown",
   "metadata": {
    "id": "mI0LtqkY4Kp-"
   },
   "source": [
    "__0. Откройте файл используя необходимые параметры и не меняя переменную PATH__"
   ]
  },
  {
   "cell_type": "code",
   "execution_count": 5,
   "metadata": {
    "colab": {
     "base_uri": "https://localhost:8080/",
     "height": 206
    },
    "executionInfo": {
     "elapsed": 2477,
     "status": "ok",
     "timestamp": 1615627554682,
     "user": {
      "displayName": "Александр Аксёнов",
      "photoUrl": "https://lh5.googleusercontent.com/-jOf_oDVHsg8/AAAAAAAAAAI/AAAAAAAAAFM/qwdbG0GW_To/s64/photo.jpg",
      "userId": "11145992452404092449"
     },
     "user_tz": -300
    },
    "id": "h5SQwBLr05qG",
    "outputId": "882f9e83-5fd7-4c3b-b005-56917b15a0fd"
   },
   "outputs": [
    {
     "data": {
      "text/html": [
       "<div>\n",
       "<style scoped>\n",
       "    .dataframe tbody tr th:only-of-type {\n",
       "        vertical-align: middle;\n",
       "    }\n",
       "\n",
       "    .dataframe tbody tr th {\n",
       "        vertical-align: top;\n",
       "    }\n",
       "\n",
       "    .dataframe thead th {\n",
       "        text-align: right;\n",
       "    }\n",
       "</style>\n",
       "<table border=\"1\" class=\"dataframe\">\n",
       "  <thead>\n",
       "    <tr style=\"text-align: right;\">\n",
       "      <th></th>\n",
       "      <th>ID</th>\n",
       "      <th>Name</th>\n",
       "      <th>Sex</th>\n",
       "      <th>Age</th>\n",
       "      <th>Height</th>\n",
       "      <th>Weight</th>\n",
       "      <th>Team</th>\n",
       "      <th>NOC</th>\n",
       "      <th>Games</th>\n",
       "      <th>Year</th>\n",
       "      <th>Season</th>\n",
       "      <th>City</th>\n",
       "      <th>Sport</th>\n",
       "      <th>Event</th>\n",
       "      <th>Medal</th>\n",
       "    </tr>\n",
       "  </thead>\n",
       "  <tbody>\n",
       "    <tr>\n",
       "      <th>0</th>\n",
       "      <td>1</td>\n",
       "      <td>A Dijiang</td>\n",
       "      <td>M</td>\n",
       "      <td>24.0</td>\n",
       "      <td>180.0</td>\n",
       "      <td>80.0</td>\n",
       "      <td>China</td>\n",
       "      <td>CHN</td>\n",
       "      <td>1992 Summer</td>\n",
       "      <td>1992</td>\n",
       "      <td>Summer</td>\n",
       "      <td>Barcelona</td>\n",
       "      <td>Basketball</td>\n",
       "      <td>Basketball Men's Basketball</td>\n",
       "      <td>NaN</td>\n",
       "    </tr>\n",
       "    <tr>\n",
       "      <th>1</th>\n",
       "      <td>2</td>\n",
       "      <td>A Lamusi</td>\n",
       "      <td>M</td>\n",
       "      <td>23.0</td>\n",
       "      <td>170.0</td>\n",
       "      <td>60.0</td>\n",
       "      <td>China</td>\n",
       "      <td>CHN</td>\n",
       "      <td>2012 Summer</td>\n",
       "      <td>2012</td>\n",
       "      <td>Summer</td>\n",
       "      <td>London</td>\n",
       "      <td>Judo</td>\n",
       "      <td>Judo Men's Extra-Lightweight</td>\n",
       "      <td>NaN</td>\n",
       "    </tr>\n",
       "    <tr>\n",
       "      <th>2</th>\n",
       "      <td>3</td>\n",
       "      <td>Gunnar Nielsen Aaby</td>\n",
       "      <td>M</td>\n",
       "      <td>24.0</td>\n",
       "      <td>NaN</td>\n",
       "      <td>NaN</td>\n",
       "      <td>Denmark</td>\n",
       "      <td>DEN</td>\n",
       "      <td>1920 Summer</td>\n",
       "      <td>1920</td>\n",
       "      <td>Summer</td>\n",
       "      <td>Antwerpen</td>\n",
       "      <td>Football</td>\n",
       "      <td>Football Men's Football</td>\n",
       "      <td>NaN</td>\n",
       "    </tr>\n",
       "    <tr>\n",
       "      <th>3</th>\n",
       "      <td>4</td>\n",
       "      <td>Edgar Lindenau Aabye</td>\n",
       "      <td>M</td>\n",
       "      <td>34.0</td>\n",
       "      <td>NaN</td>\n",
       "      <td>NaN</td>\n",
       "      <td>Denmark/Sweden</td>\n",
       "      <td>DEN</td>\n",
       "      <td>1900 Summer</td>\n",
       "      <td>1900</td>\n",
       "      <td>Summer</td>\n",
       "      <td>Paris</td>\n",
       "      <td>Tug-Of-War</td>\n",
       "      <td>Tug-Of-War Men's Tug-Of-War</td>\n",
       "      <td>Gold</td>\n",
       "    </tr>\n",
       "    <tr>\n",
       "      <th>4</th>\n",
       "      <td>5</td>\n",
       "      <td>Christine Jacoba Aaftink</td>\n",
       "      <td>F</td>\n",
       "      <td>21.0</td>\n",
       "      <td>185.0</td>\n",
       "      <td>82.0</td>\n",
       "      <td>Netherlands</td>\n",
       "      <td>NED</td>\n",
       "      <td>1988 Winter</td>\n",
       "      <td>1988</td>\n",
       "      <td>Winter</td>\n",
       "      <td>Calgary</td>\n",
       "      <td>Speed Skating</td>\n",
       "      <td>Speed Skating Women's 500 metres</td>\n",
       "      <td>NaN</td>\n",
       "    </tr>\n",
       "  </tbody>\n",
       "</table>\n",
       "</div>"
      ],
      "text/plain": [
       "   ID                      Name Sex   Age  Height  Weight            Team  \\\n",
       "0   1                 A Dijiang   M  24.0   180.0    80.0           China   \n",
       "1   2                  A Lamusi   M  23.0   170.0    60.0           China   \n",
       "2   3       Gunnar Nielsen Aaby   M  24.0     NaN     NaN         Denmark   \n",
       "3   4      Edgar Lindenau Aabye   M  34.0     NaN     NaN  Denmark/Sweden   \n",
       "4   5  Christine Jacoba Aaftink   F  21.0   185.0    82.0     Netherlands   \n",
       "\n",
       "   NOC        Games  Year  Season       City          Sport  \\\n",
       "0  CHN  1992 Summer  1992  Summer  Barcelona     Basketball   \n",
       "1  CHN  2012 Summer  2012  Summer     London           Judo   \n",
       "2  DEN  1920 Summer  1920  Summer  Antwerpen       Football   \n",
       "3  DEN  1900 Summer  1900  Summer      Paris     Tug-Of-War   \n",
       "4  NED  1988 Winter  1988  Winter    Calgary  Speed Skating   \n",
       "\n",
       "                              Event Medal  \n",
       "0       Basketball Men's Basketball   NaN  \n",
       "1      Judo Men's Extra-Lightweight   NaN  \n",
       "2           Football Men's Football   NaN  \n",
       "3       Tug-Of-War Men's Tug-Of-War  Gold  \n",
       "4  Speed Skating Women's 500 metres   NaN  "
      ]
     },
     "execution_count": 5,
     "metadata": {},
     "output_type": "execute_result"
    }
   ],
   "source": [
    "data = pd.read_csv(PATH, compression='zip', sep=',')\n",
    "data.head()"
   ]
  },
  {
   "cell_type": "markdown",
   "metadata": {
    "id": "stYR4EbV05qP"
   },
   "source": [
    "__1. Сколько лет было самым молодым мужчинам и женщинам-участникам Олимпийских игр 1992 года ?__\n",
    "- 16 и 15\n",
    "- 14 и 13 \n",
    "- 13 и 11\n",
    "- 11 и 12"
   ]
  },
  {
   "cell_type": "code",
   "execution_count": 48,
   "metadata": {
    "id": "HgiqBXtb05qR"
   },
   "outputs": [
    {
     "name": "stdout",
     "output_type": "stream",
     "text": [
      "Sex\n",
      "F    12.0\n",
      "M    11.0\n",
      "Name: Age, dtype: float64\n"
     ]
    }
   ],
   "source": [
    "olympic1992 = data[data.Year == 1992]\n",
    "print(olympic1992.groupby('Sex')['Age'].min())"
   ]
  },
  {
   "cell_type": "markdown",
   "metadata": {
    "id": "GQ290dsi05qc"
   },
   "source": [
    "__2. Каков был процент баскетболистов-мужчин среди всех мужчин-участников Олимпийских игр 2012 года? Округлите ответ до первого десятичного знака.__\n",
    "\n",
    "Здесь и далее при необходимости отбрасывайте дублированных спортсменов, чтобы считать только уникальных . \n",
    "- 0.2\n",
    "- 1.5 \n",
    "- 2.5\n",
    "- 7.7"
   ]
  },
  {
   "cell_type": "code",
   "execution_count": 70,
   "metadata": {
    "id": "-fI5MqWP05qi"
   },
   "outputs": [
    {
     "name": "stdout",
     "output_type": "stream",
     "text": [
      " 2.0% (Не понятно)\n"
     ]
    },
    {
     "name": "stderr",
     "output_type": "stream",
     "text": [
      "C:\\Users\\Deeksmayker\\AppData\\Local\\Temp\\ipykernel_12004\\2525794570.py:2: UserWarning: Boolean Series key will be reindexed to match DataFrame index.\n",
      "  basketball_mans = mans[data.Sport == \"Basketball\"]\n"
     ]
    }
   ],
   "source": [
    "mans = data[(data.Year == 2012) & (data.Sex == 'M')]\n",
    "basketball_mans = mans[data.Sport == \"Basketball\"]\n",
    "print(f\"{basketball_mans.shape[0] / mans.shape[0] * 100 : .1f}% (Не понятно)\")"
   ]
  },
  {
   "cell_type": "markdown",
   "metadata": {
    "id": "u5WrTgIC05qv"
   },
   "source": [
    "__3. Каковы среднее и стандартное отклонение роста теннисисток, участвовавших в Олимпийских играх 2000 года? Округлите ответ до первого десятичного знака.__\n",
    "\n",
    "- 171.8 и 6.5\n",
    "- 179.4 и 10\n",
    "- 180.7 и 6.7\n",
    "- 182.4 и 9.1 "
   ]
  },
  {
   "cell_type": "code",
   "execution_count": 35,
   "metadata": {
    "id": "vsKTqn6405qw"
   },
   "outputs": [
    {
     "name": "stdout",
     "output_type": "stream",
     "text": [
      "Среднее:  171.8\n",
      "Стандартное:  6.5\n"
     ]
    }
   ],
   "source": [
    "tenn = data[(data.Year == 2000) & (data.Sex == 'F') & (data.Sport == \"Tennis\")]\n",
    "print(f\"Среднее: {tenn['Height'].mean() : .1f}\")\n",
    "print(f\"Стандартное: {tenn['Height'].std() : .1f}\")"
   ]
  },
  {
   "cell_type": "markdown",
   "metadata": {
    "id": "xOOEzhNQ05qy"
   },
   "source": [
    "__4. Найдите спортсмена, который участвовал в Олимпийских играх 2006 года, с наибольшим весом среди других участников той же Олимпиады. Каким спортом он или она занимался?__\n",
    "\n",
    "- Judo\n",
    "- Bobsleigh \n",
    "- Skeleton\n",
    "- Boxing"
   ]
  },
  {
   "cell_type": "code",
   "execution_count": 37,
   "metadata": {
    "id": "EkWD1Tnb05qz"
   },
   "outputs": [
    {
     "data": {
      "text/plain": [
       "'Skeleton'"
      ]
     },
     "execution_count": 37,
     "metadata": {},
     "output_type": "execute_result"
    }
   ],
   "source": [
    "data[data.Year == 2006].sort_values('Weight', ascending=False).iloc[0]['Sport']"
   ]
  },
  {
   "cell_type": "markdown",
   "metadata": {
    "id": "UQzxZ3HT05q0"
   },
   "source": [
    "__5. Сколько раз John Aalberg участвовал в Олимпийских играх в разные годы?__\n",
    "\n",
    "Один год - это один раз. Неважно сколько участий внутри одного года\n",
    "- 0\n",
    "- 1 \n",
    "- 2\n",
    "- 3 "
   ]
  },
  {
   "cell_type": "code",
   "execution_count": 43,
   "metadata": {},
   "outputs": [
    {
     "data": {
      "text/plain": [
       "2"
      ]
     },
     "execution_count": 43,
     "metadata": {},
     "output_type": "execute_result"
    }
   ],
   "source": [
    "data[data.Name == \"John Aalberg\"].drop_duplicates([\"Year\"]).shape[0]"
   ]
  },
  {
   "cell_type": "markdown",
   "metadata": {
    "id": "8EnLcNrk05q3"
   },
   "source": [
    "__6. Сколько золотых медалей по теннису выиграли спортсмены сборной Switzerland на Олимпиаде-2008? Считайте каждую медаль от каждого спортсмена.__\n",
    "\n",
    "- 0\n",
    "- 1 \n",
    "- 2\n",
    "- 3 "
   ]
  },
  {
   "cell_type": "code",
   "execution_count": 47,
   "metadata": {
    "id": "Y754OGI-05q3"
   },
   "outputs": [
    {
     "data": {
      "text/plain": [
       "2"
      ]
     },
     "execution_count": 47,
     "metadata": {},
     "output_type": "execute_result"
    }
   ],
   "source": [
    "data[(data.Year == 2008) & (data.Team == \"Switzerland\") & (data.Medal == \"Gold\") & (data.Sport == \"Tennis\")].shape[0]"
   ]
  },
  {
   "cell_type": "markdown",
   "metadata": {
    "id": "v3h5sQF805q5"
   },
   "source": [
    "__7. Правда ли, что на Олимпийских играх 2016 Spain выиграла меньше медалей, чем Италия?__ \n",
    "\n",
    "- Да\n",
    "- Нет"
   ]
  },
  {
   "cell_type": "code",
   "execution_count": 53,
   "metadata": {
    "id": "gqJqDi2605q7"
   },
   "outputs": [
    {
     "name": "stdout",
     "output_type": "stream",
     "text": [
      "Да\n"
     ]
    }
   ],
   "source": [
    "import numpy as np\n",
    "print(\"Да\" if data[(data['Year'] == 2016) & (data['Team'] == 'Spain') & (data['Medal'] is not np.nan)].shape[0]\n",
    "      < data[(data['Year'] == 2016) & (data['Team'] == 'Italy') & (data['Medal'] is not np.nan)].shape[0] else \"Нет\")"
   ]
  },
  {
   "cell_type": "markdown",
   "metadata": {
    "id": "kkSYL5mK05q-"
   },
   "source": [
    "__8. К какой возрастной категории принадлежало наименьшее и наибольшее количество участников Олимпиады-2008?__\n",
    "\n",
    "- [45-55] и [25-35) соответственно\n",
    "- [45-55] и [15-25) соответственно\n",
    "- [35-45) и [25-35) соответственно\n",
    "- [45-55] и [35-45) соответственно"
   ]
  },
  {
   "cell_type": "code",
   "execution_count": 65,
   "metadata": {
    "id": "pMAQtW7i05q_"
   },
   "outputs": [
    {
     "name": "stdout",
     "output_type": "stream",
     "text": [
      "Видимо [45-55] и [15-25]\n"
     ]
    },
    {
     "data": {
      "image/png": "[encoded data removed]",
      "text/plain": [
       "<Figure size 432x288 with 1 Axes>"
      ]
     },
     "metadata": {
      "needs_background": "light"
     },
     "output_type": "display_data"
    }
   ],
   "source": [
    "data[data['Year'] == 2008]['Age'].plot(bins=50, kind='hist', xticks=range(10, 60, 5))\n",
    "print(\"Видимо [45-55] и [15-25]\")"
   ]
  },
  {
   "cell_type": "markdown",
   "metadata": {
    "id": "JQmJPiXv05rB"
   },
   "source": [
    "__9. Правда ли, что в Atlanta проводились летние Олимпийские игры? Правда ли, что в Squaw Valley проводились зимние Олимпийские игры? ?__\n",
    "\n",
    "- Да, Да\n",
    "- Да, Нет\n",
    "- Нет, Да \n",
    "- Нет, Нет "
   ]
  },
  {
   "cell_type": "code",
   "execution_count": 68,
   "metadata": {
    "id": "UU66wRHC05rB"
   },
   "outputs": [
    {
     "name": "stdout",
     "output_type": "stream",
     "text": [
      "Да, Да\n"
     ]
    }
   ],
   "source": [
    "print(\"Да\" if not data[(data.City == \"Atlanta\") & (data.Season == \"Summer\")].empty else \"Нет\", end=', ')\n",
    "print(\"Да\" if not data[(data.City == \"Squaw Valley\") & (data.Season == \"Winter\")].empty else \"Нет\")"
   ]
  },
  {
   "cell_type": "markdown",
   "metadata": {
    "id": "4hxR5D-t05rF"
   },
   "source": [
    "__10. Какова абсолютная разница между количеством уникальных видов спорта на Олимпиаде 1986 года и Олимпиаде 2002 года?__\n",
    "\n",
    "- 3 \n",
    "- 10\n",
    "- 15\n",
    "- 27 "
   ]
  },
  {
   "cell_type": "code",
   "execution_count": 69,
   "metadata": {
    "id": "WKIr-TR105rF"
   },
   "outputs": [
    {
     "data": {
      "text/plain": [
       "15"
      ]
     },
     "execution_count": 69,
     "metadata": {},
     "output_type": "execute_result"
    }
   ],
   "source": [
    "abs(data[data.Year == 1986].drop_duplicates(['Sport']).shape[0] - data[data.Year == 2002].drop_duplicates(['Sport']).shape[0])"
   ]
  }
 ],
 "metadata": {
  "colab": {
   "collapsed_sections": [],
   "name": "02_pandas_task.ipynb",
   "provenance": []
  },
  "kernelspec": {
   "display_name": "Python 3 (ipykernel)",
   "language": "python",
   "name": "python3"
  },
  "language_info": {
   "codemirror_mode": {
    "name": "ipython",
    "version": 3
   },
   "file_extension": ".py",
   "mimetype": "text/x-python",
   "name": "python",
   "nbconvert_exporter": "python",
   "pygments_lexer": "ipython3",
   "version": "3.10.0"
  }
 },
 "nbformat": 4,
 "nbformat_minor": 1
}
