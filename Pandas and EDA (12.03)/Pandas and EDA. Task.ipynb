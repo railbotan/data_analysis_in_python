{
 "cells": [
  {
   "cell_type": "code",
   "execution_count": 1,
   "id": "hncwhi136gs-9656e9dc50c7",
   "metadata": {},
   "outputs": [],
   "source": [
    "import pandas as pd\n",
    "import numpy as np"
   ]
  },
  {
   "cell_type": "code",
   "execution_count": 2,
   "id": "hki12bj-38d00b2bcb4a",
   "metadata": {},
   "outputs": [],
   "source": [
    "PATH = 'https://github.com/aksenov7/Kaggle_competition_group/blob/master/athlete_events.csv.zip?raw=true'"
   ]
  },
  {
   "cell_type": "code",
   "execution_count": 3,
   "id": "gb31du82-36bf1b2d8df7",
   "metadata": {},
   "outputs": [
    {
     "data": {
      "text/html": [
       "<div>\n",
       "<style scoped>\n",
       "    .dataframe tbody tr th:only-of-type {\n",
       "        vertical-align: middle;\n",
       "    }\n",
       "\n",
       "    .dataframe tbody tr th {\n",
       "        vertical-align: top;\n",
       "    }\n",
       "\n",
       "    .dataframe thead th {\n",
       "        text-align: right;\n",
       "    }\n",
       "</style>\n",
       "<table border=\"1\" class=\"dataframe\">\n",
       "  <thead>\n",
       "    <tr style=\"text-align: right;\">\n",
       "      <th></th>\n",
       "      <th>Name</th>\n",
       "      <th>Sex</th>\n",
       "      <th>Age</th>\n",
       "      <th>Height</th>\n",
       "      <th>Weight</th>\n",
       "      <th>Team</th>\n",
       "      <th>NOC</th>\n",
       "      <th>Games</th>\n",
       "      <th>Year</th>\n",
       "      <th>Season</th>\n",
       "      <th>City</th>\n",
       "      <th>Sport</th>\n",
       "      <th>Event</th>\n",
       "      <th>Medal</th>\n",
       "    </tr>\n",
       "    <tr>\n",
       "      <th>ID</th>\n",
       "      <th></th>\n",
       "      <th></th>\n",
       "      <th></th>\n",
       "      <th></th>\n",
       "      <th></th>\n",
       "      <th></th>\n",
       "      <th></th>\n",
       "      <th></th>\n",
       "      <th></th>\n",
       "      <th></th>\n",
       "      <th></th>\n",
       "      <th></th>\n",
       "      <th></th>\n",
       "      <th></th>\n",
       "    </tr>\n",
       "  </thead>\n",
       "  <tbody>\n",
       "    <tr>\n",
       "      <th>1</th>\n",
       "      <td>A Dijiang</td>\n",
       "      <td>M</td>\n",
       "      <td>24.0</td>\n",
       "      <td>180.0</td>\n",
       "      <td>80.0</td>\n",
       "      <td>China</td>\n",
       "      <td>CHN</td>\n",
       "      <td>1992 Summer</td>\n",
       "      <td>1992</td>\n",
       "      <td>Summer</td>\n",
       "      <td>Barcelona</td>\n",
       "      <td>Basketball</td>\n",
       "      <td>Basketball Men's Basketball</td>\n",
       "      <td>NaN</td>\n",
       "    </tr>\n",
       "    <tr>\n",
       "      <th>2</th>\n",
       "      <td>A Lamusi</td>\n",
       "      <td>M</td>\n",
       "      <td>23.0</td>\n",
       "      <td>170.0</td>\n",
       "      <td>60.0</td>\n",
       "      <td>China</td>\n",
       "      <td>CHN</td>\n",
       "      <td>2012 Summer</td>\n",
       "      <td>2012</td>\n",
       "      <td>Summer</td>\n",
       "      <td>London</td>\n",
       "      <td>Judo</td>\n",
       "      <td>Judo Men's Extra-Lightweight</td>\n",
       "      <td>NaN</td>\n",
       "    </tr>\n",
       "    <tr>\n",
       "      <th>3</th>\n",
       "      <td>Gunnar Nielsen Aaby</td>\n",
       "      <td>M</td>\n",
       "      <td>24.0</td>\n",
       "      <td>NaN</td>\n",
       "      <td>NaN</td>\n",
       "      <td>Denmark</td>\n",
       "      <td>DEN</td>\n",
       "      <td>1920 Summer</td>\n",
       "      <td>1920</td>\n",
       "      <td>Summer</td>\n",
       "      <td>Antwerpen</td>\n",
       "      <td>Football</td>\n",
       "      <td>Football Men's Football</td>\n",
       "      <td>NaN</td>\n",
       "    </tr>\n",
       "    <tr>\n",
       "      <th>4</th>\n",
       "      <td>Edgar Lindenau Aabye</td>\n",
       "      <td>M</td>\n",
       "      <td>34.0</td>\n",
       "      <td>NaN</td>\n",
       "      <td>NaN</td>\n",
       "      <td>Denmark/Sweden</td>\n",
       "      <td>DEN</td>\n",
       "      <td>1900 Summer</td>\n",
       "      <td>1900</td>\n",
       "      <td>Summer</td>\n",
       "      <td>Paris</td>\n",
       "      <td>Tug-Of-War</td>\n",
       "      <td>Tug-Of-War Men's Tug-Of-War</td>\n",
       "      <td>Gold</td>\n",
       "    </tr>\n",
       "    <tr>\n",
       "      <th>5</th>\n",
       "      <td>Christine Jacoba Aaftink</td>\n",
       "      <td>F</td>\n",
       "      <td>21.0</td>\n",
       "      <td>185.0</td>\n",
       "      <td>82.0</td>\n",
       "      <td>Netherlands</td>\n",
       "      <td>NED</td>\n",
       "      <td>1988 Winter</td>\n",
       "      <td>1988</td>\n",
       "      <td>Winter</td>\n",
       "      <td>Calgary</td>\n",
       "      <td>Speed Skating</td>\n",
       "      <td>Speed Skating Women's 500 metres</td>\n",
       "      <td>NaN</td>\n",
       "    </tr>\n",
       "  </tbody>\n",
       "</table>\n",
       "</div>"
      ],
      "text/plain": [
       "                        Name Sex   Age  Height  Weight            Team  NOC  \\\n",
       "ID                                                                            \n",
       "1                  A Dijiang   M  24.0   180.0    80.0           China  CHN   \n",
       "2                   A Lamusi   M  23.0   170.0    60.0           China  CHN   \n",
       "3        Gunnar Nielsen Aaby   M  24.0     NaN     NaN         Denmark  DEN   \n",
       "4       Edgar Lindenau Aabye   M  34.0     NaN     NaN  Denmark/Sweden  DEN   \n",
       "5   Christine Jacoba Aaftink   F  21.0   185.0    82.0     Netherlands  NED   \n",
       "\n",
       "          Games  Year  Season       City          Sport  \\\n",
       "ID                                                        \n",
       "1   1992 Summer  1992  Summer  Barcelona     Basketball   \n",
       "2   2012 Summer  2012  Summer     London           Judo   \n",
       "3   1920 Summer  1920  Summer  Antwerpen       Football   \n",
       "4   1900 Summer  1900  Summer      Paris     Tug-Of-War   \n",
       "5   1988 Winter  1988  Winter    Calgary  Speed Skating   \n",
       "\n",
       "                               Event Medal  \n",
       "ID                                          \n",
       "1        Basketball Men's Basketball   NaN  \n",
       "2       Judo Men's Extra-Lightweight   NaN  \n",
       "3            Football Men's Football   NaN  \n",
       "4        Tug-Of-War Men's Tug-Of-War  Gold  \n",
       "5   Speed Skating Women's 500 metres   NaN  "
      ]
     },
     "execution_count": 4,
     "metadata": {},
     "output_type": "execute_result"
    }
   ],
   "source": [
    "data=pd.read_csv(PATH, compression='zip', sep=',').drop_duplicates().set_index(\"ID\")\n",
    "data.head()"
   ]
  },
  {
   "cell_type": "code",
   "execution_count": 5,
   "id": "b1hbdq-1a8d6a134272",
   "metadata": {},
   "outputs": [
    {
     "name": "stdout",
     "output_type": "stream",
     "text": [
      "Сколько лет было самым молодым мужчинам и женщинам-участникам Олимпийских игр 1992 года ? 11.0 12.0\n",
      "Ответ: 4\n"
     ]
    }
   ],
   "source": [
    "df=data[data[\"Year\"]==1992]\n",
    "min_male=df[df[\"Sex\"]==\"M\"][\"Age\"].describe()[\"min\"]\n",
    "min_female=df[df[\"Sex\"]==\"F\"][\"Age\"].describe()[\"min\"]\n",
    "print(\"Сколько лет было самым молодым мужчинам и женщинам-участникам Олимпийских игр 1992 года ?\",min_male,min_female) \n",
    "print(\"Ответ: 4\")"
   ]
  },
  {
   "cell_type": "code",
   "execution_count": 6,
   "id": "bj12enkx-a165d02ca8c5",
   "metadata": {},
   "outputs": [
    {
     "name": "stdout",
     "output_type": "stream",
     "text": [
      "269731\n",
      "134732\n"
     ]
    },
    {
     "data": {
      "text/html": [
       "<div>\n",
       "<style scoped>\n",
       "    .dataframe tbody tr th:only-of-type {\n",
       "        vertical-align: middle;\n",
       "    }\n",
       "\n",
       "    .dataframe tbody tr th {\n",
       "        vertical-align: top;\n",
       "    }\n",
       "\n",
       "    .dataframe thead th {\n",
       "        text-align: right;\n",
       "    }\n",
       "</style>\n",
       "<table border=\"1\" class=\"dataframe\">\n",
       "  <thead>\n",
       "    <tr style=\"text-align: right;\">\n",
       "      <th></th>\n",
       "      <th>Sex</th>\n",
       "      <th>Age</th>\n",
       "      <th>Height</th>\n",
       "      <th>Weight</th>\n",
       "      <th>Team</th>\n",
       "      <th>NOC</th>\n",
       "      <th>Games</th>\n",
       "      <th>Year</th>\n",
       "      <th>Season</th>\n",
       "      <th>City</th>\n",
       "      <th>Sport</th>\n",
       "      <th>Event</th>\n",
       "      <th>Medal</th>\n",
       "    </tr>\n",
       "    <tr>\n",
       "      <th>Name</th>\n",
       "      <th></th>\n",
       "      <th></th>\n",
       "      <th></th>\n",
       "      <th></th>\n",
       "      <th></th>\n",
       "      <th></th>\n",
       "      <th></th>\n",
       "      <th></th>\n",
       "      <th></th>\n",
       "      <th></th>\n",
       "      <th></th>\n",
       "      <th></th>\n",
       "      <th></th>\n",
       "    </tr>\n",
       "  </thead>\n",
       "  <tbody>\n",
       "    <tr>\n",
       "      <th>A Dijiang</th>\n",
       "      <td>M</td>\n",
       "      <td>24.0</td>\n",
       "      <td>180.0</td>\n",
       "      <td>80.0</td>\n",
       "      <td>China</td>\n",
       "      <td>CHN</td>\n",
       "      <td>1992 Summer</td>\n",
       "      <td>1992</td>\n",
       "      <td>Summer</td>\n",
       "      <td>Barcelona</td>\n",
       "      <td>Basketball</td>\n",
       "      <td>Basketball Men's Basketball</td>\n",
       "      <td>NaN</td>\n",
       "    </tr>\n",
       "    <tr>\n",
       "      <th>A Lamusi</th>\n",
       "      <td>M</td>\n",
       "      <td>23.0</td>\n",
       "      <td>170.0</td>\n",
       "      <td>60.0</td>\n",
       "      <td>China</td>\n",
       "      <td>CHN</td>\n",
       "      <td>2012 Summer</td>\n",
       "      <td>2012</td>\n",
       "      <td>Summer</td>\n",
       "      <td>London</td>\n",
       "      <td>Judo</td>\n",
       "      <td>Judo Men's Extra-Lightweight</td>\n",
       "      <td>NaN</td>\n",
       "    </tr>\n",
       "    <tr>\n",
       "      <th>Gunnar Nielsen Aaby</th>\n",
       "      <td>M</td>\n",
       "      <td>24.0</td>\n",
       "      <td>NaN</td>\n",
       "      <td>NaN</td>\n",
       "      <td>Denmark</td>\n",
       "      <td>DEN</td>\n",
       "      <td>1920 Summer</td>\n",
       "      <td>1920</td>\n",
       "      <td>Summer</td>\n",
       "      <td>Antwerpen</td>\n",
       "      <td>Football</td>\n",
       "      <td>Football Men's Football</td>\n",
       "      <td>NaN</td>\n",
       "    </tr>\n",
       "    <tr>\n",
       "      <th>Edgar Lindenau Aabye</th>\n",
       "      <td>M</td>\n",
       "      <td>34.0</td>\n",
       "      <td>NaN</td>\n",
       "      <td>NaN</td>\n",
       "      <td>Denmark/Sweden</td>\n",
       "      <td>DEN</td>\n",
       "      <td>1900 Summer</td>\n",
       "      <td>1900</td>\n",
       "      <td>Summer</td>\n",
       "      <td>Paris</td>\n",
       "      <td>Tug-Of-War</td>\n",
       "      <td>Tug-Of-War Men's Tug-Of-War</td>\n",
       "      <td>Gold</td>\n",
       "    </tr>\n",
       "    <tr>\n",
       "      <th>Christine Jacoba Aaftink</th>\n",
       "      <td>F</td>\n",
       "      <td>21.0</td>\n",
       "      <td>185.0</td>\n",
       "      <td>82.0</td>\n",
       "      <td>Netherlands</td>\n",
       "      <td>NED</td>\n",
       "      <td>1988 Winter</td>\n",
       "      <td>1988</td>\n",
       "      <td>Winter</td>\n",
       "      <td>Calgary</td>\n",
       "      <td>Speed Skating</td>\n",
       "      <td>Speed Skating Women's 500 metres</td>\n",
       "      <td>NaN</td>\n",
       "    </tr>\n",
       "  </tbody>\n",
       "</table>\n",
       "</div>"
      ],
      "text/plain": [
       "                         Sex   Age  Height  Weight            Team  NOC  \\\n",
       "Name                                                                      \n",
       "A Dijiang                  M  24.0   180.0    80.0           China  CHN   \n",
       "A Lamusi                   M  23.0   170.0    60.0           China  CHN   \n",
       "Gunnar Nielsen Aaby        M  24.0     NaN     NaN         Denmark  DEN   \n",
       "Edgar Lindenau Aabye       M  34.0     NaN     NaN  Denmark/Sweden  DEN   \n",
       "Christine Jacoba Aaftink   F  21.0   185.0    82.0     Netherlands  NED   \n",
       "\n",
       "                                Games  Year  Season       City          Sport  \\\n",
       "Name                                                                            \n",
       "A Dijiang                 1992 Summer  1992  Summer  Barcelona     Basketball   \n",
       "A Lamusi                  2012 Summer  2012  Summer     London           Judo   \n",
       "Gunnar Nielsen Aaby       1920 Summer  1920  Summer  Antwerpen       Football   \n",
       "Edgar Lindenau Aabye      1900 Summer  1900  Summer      Paris     Tug-Of-War   \n",
       "Christine Jacoba Aaftink  1988 Winter  1988  Winter    Calgary  Speed Skating   \n",
       "\n",
       "                                                     Event Medal  \n",
       "Name                                                              \n",
       "A Dijiang                      Basketball Men's Basketball   NaN  \n",
       "A Lamusi                      Judo Men's Extra-Lightweight   NaN  \n",
       "Gunnar Nielsen Aaby                Football Men's Football   NaN  \n",
       "Edgar Lindenau Aabye           Tug-Of-War Men's Tug-Of-War  Gold  \n",
       "Christine Jacoba Aaftink  Speed Skating Women's 500 metres   NaN  "
      ]
     },
     "execution_count": 7,
     "metadata": {},
     "output_type": "execute_result"
    }
   ],
   "source": [
    "print(len(data))\n",
    "data_2=data.drop_duplicates(subset=['Name'], keep='first').set_index(\"Name\")\n",
    "print(len(data_2))\n",
    "data_2.head()"
   ]
  },
  {
   "cell_type": "code",
   "execution_count": 8,
   "id": "b1jbdysd9k-f56999903810",
   "metadata": {},
   "outputs": [
    {
     "name": "stdout",
     "output_type": "stream",
     "text": [
      "Процент баскетболистов-мужчин 2.7\n"
     ]
    }
   ],
   "source": [
    "df=data_2[(data_2[\"Year\"]==2012) & (data_2[\"Sex\"]==\"M\")]\n",
    "df_basketball=data_2[(data_2[\"Year\"]==2012) & (data_2[\"Sex\"]==\"M\")&(data_2[\"Sport\"]==\"Basketball\")]\n",
    "print(\"Процент баскетболистов-мужчин\",round(len(df_basketball)/len(df)*100,1))"
   ]
  },
  {
   "cell_type": "code",
   "execution_count": 9,
   "id": "nkq62lc0-60ddff69d165",
   "metadata": {},
   "outputs": [
    {
     "name": "stdout",
     "output_type": "stream",
     "text": [
      "Среднее и стандартное отклонение роста теннисисток, участвовавших в Олимпийских играх 2000 года? 172.4 6.4\n"
     ]
    }
   ],
   "source": [
    "df=data_2[(data_2[\"Year\"]==2000) & (data_2[\"Sex\"]==\"F\")&(data_2[\"Sport\"]==\"Tennis\")][\"Height\"].describe()\n",
    "print(\"Среднее и стандартное отклонение роста теннисисток, участвовавших в Олимпийских играх 2000 года?\",round(df[\"mean\"],1),round(df[\"std\"],1))"
   ]
  },
  {
   "cell_type": "code",
   "execution_count": 10,
   "id": "h261ksnzxq5-9149b35b5393",
   "metadata": {},
   "outputs": [
    {
     "name": "stdout",
     "output_type": "stream",
     "text": [
      "максимальный вес 127.0\n",
      "Name\n",
      "Patrick R. Antaki    Skeleton\n",
      "Name: Sport, dtype: object\n",
      "Skeleton\n"
     ]
    }
   ],
   "source": [
    "max_weight=data_2[data_2[\"Year\"]==2006][\"Weight\"].max()\n",
    "print(\"максимальный вес\",max_weight)\n",
    "df=data_2[(data_2[\"Year\"]==2006)&(data_2[\"Weight\"]==max_weight)]\n",
    "print(df[\"Sport\"])\n",
    "print(\"Skeleton\")"
   ]
  },
  {
   "cell_type": "code",
   "execution_count": 11,
   "id": "mxy28vm-25d818a87424",
   "metadata": {},
   "outputs": [
    {
     "name": "stdout",
     "output_type": "stream",
     "text": [
      "Сколько раз John Aalberg участвовал в Олимпийских играх в разные годы? 2\n"
     ]
    }
   ],
   "source": [
    "df=data[data[\"Name\"]==\"John Aalberg\"].groupby(\"Year\").count()\n",
    "print(\"Сколько раз John Aalberg участвовал в Олимпийских играх в разные годы?\",len(df))"
   ]
  },
  {
   "cell_type": "code",
   "execution_count": 12,
   "id": "nc6awed-9799930cd616",
   "metadata": {},
   "outputs": [
    {
     "name": "stdout",
     "output_type": "stream",
     "text": [
      "Сколько золотых медалей по теннису выиграли спортсмены сборной Switzerland на Олимпиаде-2008? 2\n"
     ]
    }
   ],
   "source": [
    "df=data[(data[\"Team\"]==\"Switzerland\")&(data[\"Year\"]==2008)&(data[\"Medal\"]==\"Gold\")&(data[\"Sport\"]==\"Tennis\")]\n",
    "print(\"Сколько золотых медалей по теннису выиграли спортсмены сборной Switzerland на Олимпиаде-2008?\",len(df))"
   ]
  },
  {
   "cell_type": "code",
   "execution_count": 13,
   "id": "cs213fv-b1da8e08de05",
   "metadata": {},
   "outputs": [
    {
     "name": "stdout",
     "output_type": "stream",
     "text": [
      "Правда ли, что на Олимпийских играх 2016 Spain выиграла меньше медалей, чем Италия? True\n"
     ]
    }
   ],
   "source": [
    "df_Spain=data[(data[\"Year\"]==2016)&(data[\"Team\"]==\"Spain\")&((data[\"Medal\"]==\"Gold\")|(data[\"Medal\"]==\"Silver\")|(data[\"Medal\"]==\"Bronze\"))]\n",
    "df_Itali=data[(data[\"Year\"]==2016)&(data[\"Team\"]==\"Italy\")&((data[\"Medal\"]==\"Gold\")|(data[\"Medal\"]==\"Silver\")|(data[\"Medal\"]==\"Bronze\"))]\n",
    "print(\"Правда ли, что на Олимпийских играх 2016 Spain выиграла меньше медалей, чем Италия?\",len(df_Spain)<len(df_Itali))"
   ]
  },
  {
   "cell_type": "code",
   "execution_count": 14,
   "id": "bh612kn-391c56cc7213",
   "metadata": {},
   "outputs": [
    {
     "name": "stdout",
     "output_type": "stream",
     "text": [
      "max 3_group\n",
      "min 1_group\n",
      "К какой возрастной категории принадлежало наименьшее и наибольшее количество участников Олимпиады-2008? [45-55] и [15-25) соответственно\n"
     ]
    }
   ],
   "source": [
    "df=data_2[data_2[\"Year\"]==2016]\n",
    "df_1_group=len(df[(df[\"Age\"]>=45) & (df[\"Age\"]<=55)])\n",
    "df_2_group=len(df[(df[\"Age\"]>=25) & (df[\"Age\"]<35)])\n",
    "df_3_group=len(df[(df[\"Age\"]>=15) & (df[\"Age\"]<25)])\n",
    "df_4_group=len(df[(df[\"Age\"]>=35) & (df[\"Age\"]<45)])\n",
    "max_count=max([df_1_group,df_2_group,df_3_group,df_4_group])\n",
    "min_count=min([df_1_group,df_2_group,df_3_group,df_4_group])\n",
    "if df_1_group==max_count:\n",
    "    print(\"max\",\"1_group\")\n",
    "elif df_2_group==max_count:\n",
    "    print(\"max\",\"2_group\")\n",
    "elif df_3_group==max_count:\n",
    "    print(\"max\",\"3_group\")\n",
    "else:\n",
    "    print(\"max\",\"4_group\")\n",
    "    \n",
    "if df_1_group==min_count:\n",
    "    print(\"min\",\"1_group\")\n",
    "elif df_2_group==min_count:\n",
    "    print(\"min\",\"2_group\")\n",
    "elif df_3_group==min_count:\n",
    "    print(\"min\",\"3_group\")\n",
    "else:\n",
    "    print(\"min\",\"4_group\")\n",
    "    \n",
    "print(\"К какой возрастной категории принадлежало наименьшее и наибольшее количество участников Олимпиады-2008?\",\"[45-55] и [15-25) соответственно\")"
   ]
  },
  {
   "cell_type": "code",
   "execution_count": 15,
   "id": "bvsa5wqe-69857abd1dda",
   "metadata": {},
   "outputs": [
    {
     "name": "stdout",
     "output_type": "stream",
     "text": [
      "Правда ли, что в Atlanta проводились летние Олимпийские игры? True Правда ли, что в Squaw Valley проводились зимние Олимпийские игры? True\n"
     ]
    }
   ],
   "source": [
    "df_Atlanta=data[(data[\"City\"]==\"Atlanta\")&(data[\"Season\"]==\"Summer\")]\n",
    "df_Squaw_Valley=data[(data[\"City\"]==\"Squaw Valley\")&(data[\"Season\"]==\"Winter\")]\n",
    "print(\"Правда ли, что в Atlanta проводились летние Олимпийские игры?\",len(df_Atlanta)>=1,\"Правда ли, что в Squaw Valley проводились зимние Олимпийские игры?\",len(df_Squaw_Valley)>=1)"
   ]
  },
  {
   "cell_type": "code",
   "execution_count": 16,
   "id": "nkbjsc62cx-e327001ad27c",
   "metadata": {},
   "outputs": [
    {
     "name": "stdout",
     "output_type": "stream",
     "text": [
      "15\n"
     ]
    }
   ],
   "source": [
    "df_1=data[data[\"Year\"]==2002].drop_duplicates(subset=['Sport'], keep='first')\n",
    "df_2=data[data[\"Year\"]==1986].drop_duplicates(subset=['Sport'], keep='first')\n",
    "print(abs(len(df_1)-len(df_2)))"
   ]
  },
  {
   "cell_type": "code",
   "execution_count": null,
   "id": "nks6712qsd-7ae3bc037569",
   "metadata": {},
   "outputs": [],
   "source": [
    "#Во втором и третьем задании не сходится с ответом если удалить одинаковые записи по имени. Если оставить то во втором ответ 2%, в третьем -171.8 и 6.5."
   ]
  }
 ],
 "metadata": {
  "kernelspec": {
   "display_name": "Python 3 (ipykernel)",
   "language": "python",
   "name": "python3"
  },
  "language_info": {
   "codemirror_mode": {
    "name": "ipython",
    "version": 3
   },
   "file_extension": ".py",
   "mimetype": "text/x-python",
   "name": "python",
   "nbconvert_exporter": "python",
   "pygments_lexer": "ipython3",
   "version": "3.9.4"
  }
 },
 "nbformat": 4,
 "nbformat_minor": 5
}