{
 "nbformat": 4,
 "nbformat_minor": 0,
 "metadata": {
  "kernelspec": {
   "display_name": "Python 3",
   "language": "python",
   "name": "python3"
  },
  "language_info": {
   "codemirror_mode": {
    "name": "ipython",
    "version": 3
   },
   "file_extension": ".py",
   "mimetype": "text/x-python",
   "name": "python",
   "nbconvert_exporter": "python",
   "pygments_lexer": "ipython3",
   "version": "3.6.8"
  },
  "colab": {
   "name": "02_pandas_task.ipynb",
   "provenance": [],
   "collapsed_sections": []
  }
 },
 "cells": [
  {
   "cell_type": "markdown",
   "metadata": {
    "id": "EmV0s8YY05p7"
   },
   "source": [
    "- __ID__ - Unique number for each athlete\n",
    "- __Name__ - Athlete's name\n",
    "- __Sex__ - M or F\n",
    "- __Age__ - Integer\n",
    "- __Height__ - In centimeters\n",
    "- __Weight__ - In kilograms\n",
    "- __Team__ - Team name\n",
    "- __NOC__ - National Olympic Committee 3-letter code\n",
    "- __Games__ - Year and season\n",
    "- __Year__ - Integer\n",
    "- __Season__ - Summer or Winter\n",
    "- __City__ - Host city\n",
    "- __Sport__ - Sport\n",
    "- __Event__ - Event\n",
    "- __Medal__ - Gold, Silver, Bronze, or NA"
   ]
  },
  {
   "cell_type": "code",
   "metadata": {
    "id": "rVCrMDMh05p_"
   },
   "source": [
    "import pandas as pd"
   ],
   "execution_count": 2,
   "outputs": []
  },
  {
   "cell_type": "code",
   "metadata": {
    "id": "D5Q4Z-JW05qC"
   },
   "source": [
    "# не меняем путь!\n",
    "PATH = 'https://github.com/aksenov7/Kaggle_competition_group/blob/master/athlete_events.csv.zip?raw=true'"
   ],
   "execution_count": 3,
   "outputs": []
  },
  {
   "cell_type": "markdown",
   "metadata": {
    "id": "mI0LtqkY4Kp-"
   },
   "source": [
    "__0. Откройте файл используя необходимые параметры и не меняя переменную PATH__"
   ]
  },
  {
   "cell_type": "code",
   "metadata": {
    "id": "h5SQwBLr05qG",
    "colab": {
     "base_uri": "https://localhost:8080/",
     "height": 206
    },
    "executionInfo": {
     "status": "ok",
     "timestamp": 1615627554682,
     "user_tz": -300,
     "elapsed": 2477,
     "user": {
      "displayName": "Александр Аксёнов",
      "photoUrl": "https://lh5.googleusercontent.com/-jOf_oDVHsg8/AAAAAAAAAAI/AAAAAAAAAFM/qwdbG0GW_To/s64/photo.jpg",
      "userId": "11145992452404092449"
     }
    },
    "outputId": "882f9e83-5fd7-4c3b-b005-56917b15a0fd"
   },
   "source": [
    "\n",
    "data = pd.read_csv(PATH, compression='zip', header=0, sep=',', quotechar='\"')\n",
    "data.head()"
   ],
   "execution_count": 7,
   "outputs": [
    {
     "data": {
      "text/plain": "   ID                      Name Sex   Age  Height  Weight            Team  \\\n0   1                 A Dijiang   M  24.0   180.0    80.0           China   \n1   2                  A Lamusi   M  23.0   170.0    60.0           China   \n2   3       Gunnar Nielsen Aaby   M  24.0     NaN     NaN         Denmark   \n3   4      Edgar Lindenau Aabye   M  34.0     NaN     NaN  Denmark/Sweden   \n4   5  Christine Jacoba Aaftink   F  21.0   185.0    82.0     Netherlands   \n\n   NOC        Games  Year  Season       City          Sport  \\\n0  CHN  1992 Summer  1992  Summer  Barcelona     Basketball   \n1  CHN  2012 Summer  2012  Summer     London           Judo   \n2  DEN  1920 Summer  1920  Summer  Antwerpen       Football   \n3  DEN  1900 Summer  1900  Summer      Paris     Tug-Of-War   \n4  NED  1988 Winter  1988  Winter    Calgary  Speed Skating   \n\n                              Event Medal  \n0       Basketball Men's Basketball   NaN  \n1      Judo Men's Extra-Lightweight   NaN  \n2           Football Men's Football   NaN  \n3       Tug-Of-War Men's Tug-Of-War  Gold  \n4  Speed Skating Women's 500 metres   NaN  ",
      "text/html": "<div>\n<style scoped>\n    .dataframe tbody tr th:only-of-type {\n        vertical-align: middle;\n    }\n\n    .dataframe tbody tr th {\n        vertical-align: top;\n    }\n\n    .dataframe thead th {\n        text-align: right;\n    }\n</style>\n<table border=\"1\" class=\"dataframe\">\n  <thead>\n    <tr style=\"text-align: right;\">\n      <th></th>\n      <th>ID</th>\n      <th>Name</th>\n      <th>Sex</th>\n      <th>Age</th>\n      <th>Height</th>\n      <th>Weight</th>\n      <th>Team</th>\n      <th>NOC</th>\n      <th>Games</th>\n      <th>Year</th>\n      <th>Season</th>\n      <th>City</th>\n      <th>Sport</th>\n      <th>Event</th>\n      <th>Medal</th>\n    </tr>\n  </thead>\n  <tbody>\n    <tr>\n      <th>0</th>\n      <td>1</td>\n      <td>A Dijiang</td>\n      <td>M</td>\n      <td>24.0</td>\n      <td>180.0</td>\n      <td>80.0</td>\n      <td>China</td>\n      <td>CHN</td>\n      <td>1992 Summer</td>\n      <td>1992</td>\n      <td>Summer</td>\n      <td>Barcelona</td>\n      <td>Basketball</td>\n      <td>Basketball Men's Basketball</td>\n      <td>NaN</td>\n    </tr>\n    <tr>\n      <th>1</th>\n      <td>2</td>\n      <td>A Lamusi</td>\n      <td>M</td>\n      <td>23.0</td>\n      <td>170.0</td>\n      <td>60.0</td>\n      <td>China</td>\n      <td>CHN</td>\n      <td>2012 Summer</td>\n      <td>2012</td>\n      <td>Summer</td>\n      <td>London</td>\n      <td>Judo</td>\n      <td>Judo Men's Extra-Lightweight</td>\n      <td>NaN</td>\n    </tr>\n    <tr>\n      <th>2</th>\n      <td>3</td>\n      <td>Gunnar Nielsen Aaby</td>\n      <td>M</td>\n      <td>24.0</td>\n      <td>NaN</td>\n      <td>NaN</td>\n      <td>Denmark</td>\n      <td>DEN</td>\n      <td>1920 Summer</td>\n      <td>1920</td>\n      <td>Summer</td>\n      <td>Antwerpen</td>\n      <td>Football</td>\n      <td>Football Men's Football</td>\n      <td>NaN</td>\n    </tr>\n    <tr>\n      <th>3</th>\n      <td>4</td>\n      <td>Edgar Lindenau Aabye</td>\n      <td>M</td>\n      <td>34.0</td>\n      <td>NaN</td>\n      <td>NaN</td>\n      <td>Denmark/Sweden</td>\n      <td>DEN</td>\n      <td>1900 Summer</td>\n      <td>1900</td>\n      <td>Summer</td>\n      <td>Paris</td>\n      <td>Tug-Of-War</td>\n      <td>Tug-Of-War Men's Tug-Of-War</td>\n      <td>Gold</td>\n    </tr>\n    <tr>\n      <th>4</th>\n      <td>5</td>\n      <td>Christine Jacoba Aaftink</td>\n      <td>F</td>\n      <td>21.0</td>\n      <td>185.0</td>\n      <td>82.0</td>\n      <td>Netherlands</td>\n      <td>NED</td>\n      <td>1988 Winter</td>\n      <td>1988</td>\n      <td>Winter</td>\n      <td>Calgary</td>\n      <td>Speed Skating</td>\n      <td>Speed Skating Women's 500 metres</td>\n      <td>NaN</td>\n    </tr>\n  </tbody>\n</table>\n</div>"
     },
     "execution_count": 7,
     "metadata": {},
     "output_type": "execute_result"
    }
   ]
  },
  {
   "cell_type": "markdown",
   "metadata": {
    "id": "stYR4EbV05qP"
   },
   "source": [
    "__1. Сколько лет было самым молодым мужчинам и женщинам-участникам Олимпийских игр 1992 года ?__\n",
    "- 16 и 15\n",
    "- 14 и 13 \n",
    "- 13 и 11\n",
    "- 11 и 12"
   ]
  },
  {
   "cell_type": "code",
   "metadata": {
    "id": "HgiqBXtb05qR"
   },
   "source": [
    "data.groupby('Sex')['Age'].min()"
   ],
   "execution_count": 33,
   "outputs": [
    {
     "data": {
      "text/plain": "Sex\nF    11.0\nM    10.0\nName: Age, dtype: float64"
     },
     "execution_count": 33,
     "metadata": {},
     "output_type": "execute_result"
    }
   ]
  },
  {
   "cell_type": "markdown",
   "metadata": {
    "id": "GQ290dsi05qc"
   },
   "source": [
    "__2. Каков был процент баскетболистов-мужчин среди всех мужчин-участников Олимпийских игр 2012 года? Округлите ответ до первого десятичного знака.__\n",
    "\n",
    "Здесь и далее при необходимости отбрасывайте дублированных спортсменов, чтобы считать только уникальных . \n",
    "- 0.2\n",
    "- 1.5 \n",
    "- 2.5\n",
    "- 7.7"
   ]
  },
  {
   "cell_type": "code",
   "metadata": {
    "id": "-fI5MqWP05qi"
   },
   "source": [
    "len(data[(data['Sex'] == 'M') & (data['Year'] == 2012) & (data['Sport'] == 'Basketball')]) / \\\n",
    "len(data[(data['Sex'] == 'M') & (data['Year'] == 2012)])"
   ],
   "execution_count": 39,
   "outputs": [
    {
     "data": {
      "text/plain": "0.020267417311752287"
     },
     "execution_count": 39,
     "metadata": {},
     "output_type": "execute_result"
    }
   ]
  },
  {
   "cell_type": "markdown",
   "metadata": {
    "id": "u5WrTgIC05qv"
   },
   "source": [
    "__3. Каковы среднее и стандартное отклонение роста теннисисток, участвовавших в Олимпийских играх 2000 года? Округлите ответ до первого десятичного знака.__\n",
    "\n",
    "- 171.8 и 6.5\n",
    "- 179.4 и 10\n",
    "- 180.7 и 6.7\n",
    "- 182.4 и 9.1 "
   ]
  },
  {
   "cell_type": "code",
   "metadata": {
    "id": "vsKTqn6405qw"
   },
   "source": [
    "data[(data['Year'] == 2000) & (data['Sex'] == 'F')]['Height'].agg(['mean', 'std'])"
   ],
   "execution_count": 66,
   "outputs": [
    {
     "data": {
      "text/plain": "mean    168.972903\nstd       9.460832\nName: Height, dtype: float64"
     },
     "execution_count": 66,
     "metadata": {},
     "output_type": "execute_result"
    }
   ]
  },
  {
   "cell_type": "markdown",
   "metadata": {
    "id": "xOOEzhNQ05qy"
   },
   "source": [
    "__4. Найдите спортсмена, который участвовал в Олимпийских играх 2006 года, с наибольшим весом среди других участников той же Олимпиады. Каким спортом он или она занимался?__\n",
    "\n",
    "- Judo\n",
    "- Bobsleigh \n",
    "- Skeleton\n",
    "- Boxing"
   ]
  },
  {
   "cell_type": "code",
   "metadata": {
    "id": "EkWD1Tnb05qz"
   },
   "source": [
    "max_weight = data[data['Year'] == 2006]['Weight'].max()\n",
    "data[(data['Year'] == 2006) & (data['Weight'] == max_weight)]['Sport']"
   ],
   "execution_count": 79,
   "outputs": [
    {
     "data": {
      "text/plain": "8102    Skeleton\nName: Sport, dtype: object"
     },
     "execution_count": 79,
     "metadata": {},
     "output_type": "execute_result"
    }
   ]
  },
  {
   "cell_type": "markdown",
   "metadata": {
    "id": "UQzxZ3HT05q0"
   },
   "source": [
    "__5. Сколько раз John Aalberg участвовал в Олимпийских играх в разные годы?__\n",
    "\n",
    "Один год - это один раз. Неважно сколько участий внутри одного года\n",
    "- 0\n",
    "- 1 \n",
    "- 2\n",
    "- 3 "
   ]
  },
  {
   "cell_type": "code",
   "metadata": {
    "id": "ZSfkdjPO05q0"
   },
   "source": [
    "data[data['Name'] == 'John Aalberg']['Year'].nunique()"
   ],
   "execution_count": 84,
   "outputs": [
    {
     "data": {
      "text/plain": "2"
     },
     "execution_count": 84,
     "metadata": {},
     "output_type": "execute_result"
    }
   ]
  },
  {
   "cell_type": "markdown",
   "metadata": {
    "id": "8EnLcNrk05q3"
   },
   "source": [
    "__6. Сколько золотых медалей по теннису выиграли спортсмены сборной Switzerland на Олимпиаде-2008? Считайте каждую медаль от каждого спортсмена.__\n",
    "\n",
    "- 0\n",
    "- 1 \n",
    "- 2\n",
    "- 3 "
   ]
  },
  {
   "cell_type": "code",
   "metadata": {
    "id": "Y754OGI-05q3"
   },
   "source": [
    "len(data[(data['Year'] == 2008) & (data['Team'] == 'Switzerland') & (data['Medal'] == 'Gold')])"
   ],
   "execution_count": 91,
   "outputs": [
    {
     "data": {
      "text/plain": "3"
     },
     "execution_count": 91,
     "metadata": {},
     "output_type": "execute_result"
    }
   ]
  },
  {
   "cell_type": "markdown",
   "metadata": {
    "id": "v3h5sQF805q5"
   },
   "source": [
    "__7. Правда ли, что на Олимпийских играх 2016 Spain выиграла меньше медалей, чем Италия?__ \n",
    "\n",
    "- Да\n",
    "- Нет"
   ]
  },
  {
   "cell_type": "code",
   "metadata": {
    "id": "gqJqDi2605q7"
   },
   "source": [
    "len(data[(data['Year'] == 2016) & (data['Team'] == 'Spain') & (data['Medal'].notna())]) < \\\n",
    "len(data[(data['Year'] == 2016) & (data['Team'] == 'Italy') & (data['Medal'].notna())])"
   ],
   "execution_count": 98,
   "outputs": [
    {
     "data": {
      "text/plain": "True"
     },
     "execution_count": 98,
     "metadata": {},
     "output_type": "execute_result"
    }
   ]
  },
  {
   "cell_type": "markdown",
   "metadata": {
    "id": "kkSYL5mK05q-"
   },
   "source": [
    "__8. К какой возрастной категории принадлежало наименьшее и наибольшее количество участников Олимпиады-2008?__\n",
    "\n",
    "- [45-55] и [25-35) соответственно\n",
    "- [45-55] и [15-25) соответственно\n",
    "- [35-45) и [25-35) соответственно\n",
    "- [45-55] и [35-45) соответственно"
   ]
  },
  {
   "cell_type": "code",
   "metadata": {
    "id": "pMAQtW7i05q_"
   },
   "source": [
    "#(15 <= data[data['Year'] == 2008]['Age']) & (data[data['Year'] == 2008]['Age'] < 25)\n",
    "categories =[len(data[data['Year'] == 2008][(data['Age'] < 25 + 10*i) & (data['Age'] >= 15 + 10*i)]) for i in range(4)]\n",
    "max_i = categories.index(max(categories))\n",
    "min_i = categories.index(min(categories))\n",
    "print('Max category: ', f\"[{15 + 10 * max_i}-{25 + 10 * max_i}]\")\n",
    "print('Min category: ', f\"[{15 + 10 * min_i}-{25 + 10 * min_i}]\")"
   ],
   "execution_count": 121,
   "outputs": [
    {
     "name": "stdout",
     "output_type": "stream",
     "text": [
      "Max category:  [25-35]\n",
      "Min category:  [45-55]\n"
     ]
    },
    {
     "name": "stderr",
     "output_type": "stream",
     "text": [
      "C:\\Users\\Матвей\\AppData\\Local\\Temp\\ipykernel_16644\\3673336271.py:2: UserWarning: Boolean Series key will be reindexed to match DataFrame index.\n",
      "  categories =[len(data[data['Year'] == 2008][(data['Age'] < 25 + 10*i) & (data['Age'] >= 15 + 10*i)]) for i in range(4)]\n"
     ]
    }
   ]
  },
  {
   "cell_type": "markdown",
   "metadata": {
    "id": "JQmJPiXv05rB"
   },
   "source": [
    "__9. Правда ли, что в Atlanta проводились летние Олимпийские игры? Правда ли, что в Squaw Valley проводились зимние Олимпийские игры? ?__\n",
    "\n",
    "- Да, Да\n",
    "- Да, Нет\n",
    "- Нет, Да \n",
    "- Нет, Нет "
   ]
  },
  {
   "cell_type": "code",
   "metadata": {
    "id": "UU66wRHC05rB"
   },
   "source": [
    "(any(data[data['City'] == 'Atlanta']['Season'] == 'Summer'),\n",
    "any(data[data['City'] == 'Squaw Valley']['Season'] == 'Winter'))"
   ],
   "execution_count": 128,
   "outputs": [
    {
     "data": {
      "text/plain": "(True, True)"
     },
     "execution_count": 128,
     "metadata": {},
     "output_type": "execute_result"
    }
   ]
  },
  {
   "cell_type": "markdown",
   "metadata": {
    "id": "4hxR5D-t05rF"
   },
   "source": [
    "__10. Какова абсолютная разница между количеством уникальных видов спорта на Олимпиаде 1986 года и Олимпиаде 2002 года?__\n",
    "\n",
    "- 3 \n",
    "- 10\n",
    "- 15\n",
    "- 27 "
   ]
  },
  {
   "cell_type": "code",
   "metadata": {
    "id": "WKIr-TR105rF"
   },
   "source": [
    "# data[data['Year'] == 1986]['Sport'].nunique() == 0 => Разница между 2002 и 1986 == 15 - 0 = 15\n",
    "abs(data[data['Year'] == 2002]['Sport'].nunique() - data[data['Year'] == 1996]['Sport'].nunique())"
   ],
   "execution_count": 138,
   "outputs": [
    {
     "data": {
      "text/plain": "16"
     },
     "execution_count": 138,
     "metadata": {},
     "output_type": "execute_result"
    }
   ]
  }
 ]
}