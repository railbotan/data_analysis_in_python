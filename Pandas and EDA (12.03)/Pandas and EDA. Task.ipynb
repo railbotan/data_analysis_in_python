{
 "cells": [
  {
   "cell_type": "markdown",
   "metadata": {
    "id": "EmV0s8YY05p7"
   },
   "source": [
    "- __ID__ - Unique number for each athlete\n",
    "- __Name__ - Athlete's name\n",
    "- __Sex__ - M or F\n",
    "- __Age__ - Integer\n",
    "- __Height__ - In centimeters\n",
    "- __Weight__ - In kilograms\n",
    "- __Team__ - Team name\n",
    "- __NOC__ - National Olympic Committee 3-letter code\n",
    "- __Games__ - Year and season\n",
    "- __Year__ - Integer\n",
    "- __Season__ - Summer or Winter\n",
    "- __City__ - Host city\n",
    "- __Sport__ - Sport\n",
    "- __Event__ - Event\n",
    "- __Medal__ - Gold, Silver, Bronze, or NA"
   ]
  },
  {
   "cell_type": "code",
   "execution_count": 21,
   "metadata": {
    "id": "rVCrMDMh05p_"
   },
   "outputs": [],
   "source": [
    "import pandas as pd\n",
    "import numpy as np"
   ]
  },
  {
   "cell_type": "code",
   "execution_count": 3,
   "metadata": {
    "id": "D5Q4Z-JW05qC"
   },
   "outputs": [],
   "source": [
    "# не меняем путь!\n",
    "PATH = 'https://github.com/aksenov7/Kaggle_competition_group/blob/master/athlete_events.csv.zip?raw=true'"
   ]
  },
  {
   "cell_type": "markdown",
   "metadata": {
    "id": "mI0LtqkY4Kp-"
   },
   "source": [
    "__0. Откройте файл используя необходимые параметры и не меняя переменную PATH__"
   ]
  },
  {
   "cell_type": "code",
   "execution_count": 4,
   "metadata": {
    "colab": {
     "base_uri": "https://localhost:8080/",
     "height": 206
    },
    "executionInfo": {
     "elapsed": 2477,
     "status": "ok",
     "timestamp": 1615627554682,
     "user": {
      "displayName": "Александр Аксёнов",
      "photoUrl": "https://lh5.googleusercontent.com/-jOf_oDVHsg8/AAAAAAAAAAI/AAAAAAAAAFM/qwdbG0GW_To/s64/photo.jpg",
      "userId": "11145992452404092449"
     },
     "user_tz": -300
    },
    "id": "h5SQwBLr05qG",
    "outputId": "882f9e83-5fd7-4c3b-b005-56917b15a0fd"
   },
   "outputs": [
    {
     "data": {
      "text/html": [
       "<div>\n",
       "<style scoped>\n",
       "    .dataframe tbody tr th:only-of-type {\n",
       "        vertical-align: middle;\n",
       "    }\n",
       "\n",
       "    .dataframe tbody tr th {\n",
       "        vertical-align: top;\n",
       "    }\n",
       "\n",
       "    .dataframe thead th {\n",
       "        text-align: right;\n",
       "    }\n",
       "</style>\n",
       "<table border=\"1\" class=\"dataframe\">\n",
       "  <thead>\n",
       "    <tr style=\"text-align: right;\">\n",
       "      <th></th>\n",
       "      <th>ID</th>\n",
       "      <th>Name</th>\n",
       "      <th>Sex</th>\n",
       "      <th>Age</th>\n",
       "      <th>Height</th>\n",
       "      <th>Weight</th>\n",
       "      <th>Team</th>\n",
       "      <th>NOC</th>\n",
       "      <th>Games</th>\n",
       "      <th>Year</th>\n",
       "      <th>Season</th>\n",
       "      <th>City</th>\n",
       "      <th>Sport</th>\n",
       "      <th>Event</th>\n",
       "      <th>Medal</th>\n",
       "    </tr>\n",
       "  </thead>\n",
       "  <tbody>\n",
       "    <tr>\n",
       "      <th>0</th>\n",
       "      <td>1</td>\n",
       "      <td>A Dijiang</td>\n",
       "      <td>M</td>\n",
       "      <td>24.0</td>\n",
       "      <td>180.0</td>\n",
       "      <td>80.0</td>\n",
       "      <td>China</td>\n",
       "      <td>CHN</td>\n",
       "      <td>1992 Summer</td>\n",
       "      <td>1992</td>\n",
       "      <td>Summer</td>\n",
       "      <td>Barcelona</td>\n",
       "      <td>Basketball</td>\n",
       "      <td>Basketball Men's Basketball</td>\n",
       "      <td>NaN</td>\n",
       "    </tr>\n",
       "    <tr>\n",
       "      <th>1</th>\n",
       "      <td>2</td>\n",
       "      <td>A Lamusi</td>\n",
       "      <td>M</td>\n",
       "      <td>23.0</td>\n",
       "      <td>170.0</td>\n",
       "      <td>60.0</td>\n",
       "      <td>China</td>\n",
       "      <td>CHN</td>\n",
       "      <td>2012 Summer</td>\n",
       "      <td>2012</td>\n",
       "      <td>Summer</td>\n",
       "      <td>London</td>\n",
       "      <td>Judo</td>\n",
       "      <td>Judo Men's Extra-Lightweight</td>\n",
       "      <td>NaN</td>\n",
       "    </tr>\n",
       "    <tr>\n",
       "      <th>2</th>\n",
       "      <td>3</td>\n",
       "      <td>Gunnar Nielsen Aaby</td>\n",
       "      <td>M</td>\n",
       "      <td>24.0</td>\n",
       "      <td>NaN</td>\n",
       "      <td>NaN</td>\n",
       "      <td>Denmark</td>\n",
       "      <td>DEN</td>\n",
       "      <td>1920 Summer</td>\n",
       "      <td>1920</td>\n",
       "      <td>Summer</td>\n",
       "      <td>Antwerpen</td>\n",
       "      <td>Football</td>\n",
       "      <td>Football Men's Football</td>\n",
       "      <td>NaN</td>\n",
       "    </tr>\n",
       "    <tr>\n",
       "      <th>3</th>\n",
       "      <td>4</td>\n",
       "      <td>Edgar Lindenau Aabye</td>\n",
       "      <td>M</td>\n",
       "      <td>34.0</td>\n",
       "      <td>NaN</td>\n",
       "      <td>NaN</td>\n",
       "      <td>Denmark/Sweden</td>\n",
       "      <td>DEN</td>\n",
       "      <td>1900 Summer</td>\n",
       "      <td>1900</td>\n",
       "      <td>Summer</td>\n",
       "      <td>Paris</td>\n",
       "      <td>Tug-Of-War</td>\n",
       "      <td>Tug-Of-War Men's Tug-Of-War</td>\n",
       "      <td>Gold</td>\n",
       "    </tr>\n",
       "    <tr>\n",
       "      <th>4</th>\n",
       "      <td>5</td>\n",
       "      <td>Christine Jacoba Aaftink</td>\n",
       "      <td>F</td>\n",
       "      <td>21.0</td>\n",
       "      <td>185.0</td>\n",
       "      <td>82.0</td>\n",
       "      <td>Netherlands</td>\n",
       "      <td>NED</td>\n",
       "      <td>1988 Winter</td>\n",
       "      <td>1988</td>\n",
       "      <td>Winter</td>\n",
       "      <td>Calgary</td>\n",
       "      <td>Speed Skating</td>\n",
       "      <td>Speed Skating Women's 500 metres</td>\n",
       "      <td>NaN</td>\n",
       "    </tr>\n",
       "  </tbody>\n",
       "</table>\n",
       "</div>"
      ],
      "text/plain": [
       "   ID                      Name Sex   Age  Height  Weight            Team  \\\n",
       "0   1                 A Dijiang   M  24.0   180.0    80.0           China   \n",
       "1   2                  A Lamusi   M  23.0   170.0    60.0           China   \n",
       "2   3       Gunnar Nielsen Aaby   M  24.0     NaN     NaN         Denmark   \n",
       "3   4      Edgar Lindenau Aabye   M  34.0     NaN     NaN  Denmark/Sweden   \n",
       "4   5  Christine Jacoba Aaftink   F  21.0   185.0    82.0     Netherlands   \n",
       "\n",
       "   NOC        Games  Year  Season       City          Sport  \\\n",
       "0  CHN  1992 Summer  1992  Summer  Barcelona     Basketball   \n",
       "1  CHN  2012 Summer  2012  Summer     London           Judo   \n",
       "2  DEN  1920 Summer  1920  Summer  Antwerpen       Football   \n",
       "3  DEN  1900 Summer  1900  Summer      Paris     Tug-Of-War   \n",
       "4  NED  1988 Winter  1988  Winter    Calgary  Speed Skating   \n",
       "\n",
       "                              Event Medal  \n",
       "0       Basketball Men's Basketball   NaN  \n",
       "1      Judo Men's Extra-Lightweight   NaN  \n",
       "2           Football Men's Football   NaN  \n",
       "3       Tug-Of-War Men's Tug-Of-War  Gold  \n",
       "4  Speed Skating Women's 500 metres   NaN  "
      ]
     },
     "execution_count": 4,
     "metadata": {},
     "output_type": "execute_result"
    }
   ],
   "source": [
    "data = pd.read_csv(PATH, compression='zip', sep=',')\n",
    "data.head()"
   ]
  },
  {
   "cell_type": "markdown",
   "metadata": {
    "id": "stYR4EbV05qP"
   },
   "source": [
    "__1. Сколько лет было самым молодым мужчинам и женщинам-участникам Олимпийских игр 1992 года ?__\n",
    "- 16 и 15\n",
    "- 14 и 13 \n",
    "- 13 и 11\n",
    "- 11 и 12"
   ]
  },
  {
   "cell_type": "code",
   "execution_count": 12,
   "metadata": {
    "id": "HgiqBXtb05qR"
   },
   "outputs": [
    {
     "name": "stdout",
     "output_type": "stream",
     "text": [
      "Sex\n",
      "F    12.0\n",
      "M    11.0\n",
      "Name: Age, dtype: float64\n"
     ]
    }
   ],
   "source": [
    "print(data[data['Year']==1992].groupby(['Sex'])['Age'].min())"
   ]
  },
  {
   "cell_type": "markdown",
   "metadata": {
    "id": "GQ290dsi05qc"
   },
   "source": [
    "__2. Каков был процент баскетболистов-мужчин среди всех мужчин-участников Олимпийских игр 2012 года? Округлите ответ до первого десятичного знака.__\n",
    "\n",
    "Здесь и далее при необходимости отбрасывайте дублированных спортсменов, чтобы считать только уникальных . \n",
    "- 0.2\n",
    "- 1.5 \n",
    "- 2.5\n",
    "- 7.7"
   ]
  },
  {
   "cell_type": "code",
   "execution_count": 82,
   "metadata": {
    "id": "-fI5MqWP05qi"
   },
   "outputs": [
    {
     "name": "stdout",
     "output_type": "stream",
     "text": [
      "2.5\n"
     ]
    }
   ],
   "source": [
    "d_men = data[(data['Sex']=='M') & (data['Year']==2012)].drop_duplicates(subset=['ID'],inplace=False)\n",
    "dol = d_men['Sport'].value_counts(normalize=True)['Basketball']\n",
    "print(np.round(dol*100, 1))"
   ]
  },
  {
   "cell_type": "markdown",
   "metadata": {
    "id": "u5WrTgIC05qv"
   },
   "source": [
    "__3. Каковы среднее и стандартное отклонение роста теннисисток, участвовавших в Олимпийских играх 2000 года? Округлите ответ до первого десятичного знака.__\n",
    "\n",
    "- 171.8 и 6.5\n",
    "- 179.4 и 10\n",
    "- 180.7 и 6.7\n",
    "- 182.4 и 9.1 "
   ]
  },
  {
   "cell_type": "code",
   "execution_count": 41,
   "metadata": {
    "id": "vsKTqn6405qw"
   },
   "outputs": [
    {
     "name": "stdout",
     "output_type": "stream",
     "text": [
      "                  ID         Age      Height      Weight    Year\n",
      "count     126.000000  126.000000  125.000000  125.000000   126.0\n",
      "mean    76328.388889   23.396825  171.792000   61.536000  2000.0\n",
      "std     39698.652992    3.516997    6.458673    5.908638     0.0\n",
      "min      4723.000000   17.000000  150.000000   52.000000  2000.0\n",
      "25%     42905.750000   21.000000  168.000000   57.000000  2000.0\n",
      "50%     75706.000000   24.000000  172.000000   60.000000  2000.0\n",
      "75%    115461.500000   26.000000  176.000000   65.000000  2000.0\n",
      "max    135502.000000   30.000000  191.000000   79.000000  2000.0\n",
      "171.8 и 6.5\n"
     ]
    }
   ],
   "source": [
    "tenn_f = data[(data['Sex']=='F') & (data['Year']==2000) & (data['Sport']=='Tennis')]\n",
    "print(tenn_f.describe())\n",
    "print(np.round(tenn_f['Height'].mean(),1), 'и', np.round(tenn_f['Height'].std(),1))"
   ]
  },
  {
   "cell_type": "markdown",
   "metadata": {
    "id": "xOOEzhNQ05qy"
   },
   "source": [
    "__4. Найдите спортсмена, который участвовал в Олимпийских играх 2006 года, с наибольшим весом среди других участников той же Олимпиады. Каким спортом он или она занимался?__\n",
    "\n",
    "- Judo\n",
    "- Bobsleigh \n",
    "- Skeleton\n",
    "- Boxing"
   ]
  },
  {
   "cell_type": "code",
   "execution_count": 47,
   "metadata": {
    "id": "EkWD1Tnb05qz"
   },
   "outputs": [
    {
     "name": "stdout",
     "output_type": "stream",
     "text": [
      "8102    Skeleton\n",
      "Name: Sport, dtype: object\n"
     ]
    }
   ],
   "source": [
    "qwe = data[data['Year']==2006]['Weight'].max()\n",
    "print(data[(data['Year']==2006) & (data['Weight']==qwe)]['Sport'])"
   ]
  },
  {
   "cell_type": "markdown",
   "metadata": {
    "id": "UQzxZ3HT05q0"
   },
   "source": [
    "__5. Сколько раз John Aalberg участвовал в Олимпийских играх в разные годы?__\n",
    "\n",
    "Один год - это один раз. Неважно сколько участий внутри одного года\n",
    "- 0\n",
    "- 1 \n",
    "- 2\n",
    "- 3 "
   ]
  },
  {
   "cell_type": "code",
   "execution_count": 54,
   "metadata": {
    "id": "ZSfkdjPO05q0"
   },
   "outputs": [
    {
     "name": "stdout",
     "output_type": "stream",
     "text": [
      "2\n"
     ]
    }
   ],
   "source": [
    "print(len(data[data['Name']=='John Aalberg'].drop_duplicates('Year')))"
   ]
  },
  {
   "cell_type": "markdown",
   "metadata": {
    "id": "8EnLcNrk05q3"
   },
   "source": [
    "__6. Сколько золотых медалей по теннису выиграли спортсмены сборной Switzerland на Олимпиаде-2008? Считайте каждую медаль от каждого спортсмена.__\n",
    "\n",
    "- 0\n",
    "- 1 \n",
    "- 2\n",
    "- 3 "
   ]
  },
  {
   "cell_type": "code",
   "execution_count": 64,
   "metadata": {
    "id": "Y754OGI-05q3"
   },
   "outputs": [
    {
     "name": "stdout",
     "output_type": "stream",
     "text": [
      "2\n",
      "            ID                Name Sex   Age  Height  Weight         Team  \\\n",
      "67290    34396       Roger Federer   M  26.0   185.0    80.0  Switzerland   \n",
      "257672  129042  Stanislas Wawrinka   M  23.0   183.0    79.0  Switzerland   \n",
      "\n",
      "        NOC        Games  Year  Season     City   Sport                 Event  \\\n",
      "67290   SUI  2008 Summer  2008  Summer  Beijing  Tennis  Tennis Men's Doubles   \n",
      "257672  SUI  2008 Summer  2008  Summer  Beijing  Tennis  Tennis Men's Doubles   \n",
      "\n",
      "       Medal  \n",
      "67290   Gold  \n",
      "257672  Gold  \n"
     ]
    }
   ],
   "source": [
    "gold = data[(data['Team']=='Switzerland') & (data['Sport']=='Tennis') & (data['Year']==2008) & (data['Medal']=='Gold')]\n",
    "print(len(gold))\n",
    "print(gold)"
   ]
  },
  {
   "cell_type": "markdown",
   "metadata": {
    "id": "v3h5sQF805q5"
   },
   "source": [
    "__7. Правда ли, что на Олимпийских играх 2016 Spain выиграла меньше медалей, чем Италия?__ \n",
    "\n",
    "- Да\n",
    "- Нет"
   ]
  },
  {
   "cell_type": "code",
   "execution_count": 106,
   "metadata": {
    "id": "gqJqDi2605q7"
   },
   "outputs": [
    {
     "name": "stdout",
     "output_type": "stream",
     "text": [
      "Испания : 43 Италия : 70\n"
     ]
    }
   ],
   "source": [
    "Spain_medals = len(data[(data['Team']=='Spain') & (data['Year']==2016)].dropna(subset=['Medal']))\n",
    "\n",
    "Italy_medals = len(data[(data['Team']=='Italy') & (data['Year']==2016)].dropna(subset=['Medal']))\n",
    "\n",
    "print('Испания :',Spain_medals, 'Италия :',Italy_medals)"
   ]
  },
  {
   "cell_type": "markdown",
   "metadata": {
    "id": "kkSYL5mK05q-"
   },
   "source": [
    "__8. К какой возрастной категории принадлежало наименьшее и наибольшее количество участников Олимпиады-2008?__\n",
    "\n",
    "- [45-55] и [25-35) соответственно\n",
    "- [45-55] и [15-25) соответственно\n",
    "- [35-45) и [25-35) соответственно\n",
    "- [45-55] и [35-45) соответственно"
   ]
  },
  {
   "cell_type": "code",
   "execution_count": 67,
   "metadata": {
    "id": "pMAQtW7i05q_"
   },
   "outputs": [
    {
     "name": "stdout",
     "output_type": "stream",
     "text": [
      "[15, 25):  4776\n",
      "[25, 35):  5373\n",
      "[35, 45):  630\n",
      "[45, 55]:  76\n"
     ]
    }
   ],
   "source": [
    "data_2008 = (data[data.Year == 2008].drop_duplicates(subset='Name'))\n",
    "\n",
    "print('[15, 25): ', len(data_2008[(data_2008['Age']>= 15) & (data_2008['Age'] < 25)]))\n",
    "print('[25, 35): ', len(data_2008[(data_2008['Age']>= 25) & (data_2008['Age'] < 35)]))\n",
    "print('[35, 45): ', len(data_2008[(data_2008['Age']>= 35) & (data_2008['Age'] < 45)]))\n",
    "print('[45, 55]: ', len(data_2008[(data_2008['Age']>= 45) & (data_2008['Age'] < 55)]))"
   ]
  },
  {
   "cell_type": "markdown",
   "metadata": {
    "id": "JQmJPiXv05rB"
   },
   "source": [
    "__9. Правда ли, что в Atlanta проводились летние Олимпийские игры? Правда ли, что в Squaw Valley проводились зимние Олимпийские игры? ?__\n",
    "\n",
    "- Да, Да\n",
    "- Да, Нет\n",
    "- Нет, Да \n",
    "- Нет, Нет "
   ]
  },
  {
   "cell_type": "code",
   "execution_count": 70,
   "metadata": {
    "id": "UU66wRHC05rB"
   },
   "outputs": [
    {
     "data": {
      "text/html": [
       "<div>\n",
       "<style scoped>\n",
       "    .dataframe tbody tr th:only-of-type {\n",
       "        vertical-align: middle;\n",
       "    }\n",
       "\n",
       "    .dataframe tbody tr th {\n",
       "        vertical-align: top;\n",
       "    }\n",
       "\n",
       "    .dataframe thead th {\n",
       "        text-align: right;\n",
       "    }\n",
       "</style>\n",
       "<table border=\"1\" class=\"dataframe\">\n",
       "  <thead>\n",
       "    <tr style=\"text-align: right;\">\n",
       "      <th>Season</th>\n",
       "      <th>Summer</th>\n",
       "      <th>Winter</th>\n",
       "    </tr>\n",
       "    <tr>\n",
       "      <th>City</th>\n",
       "      <th></th>\n",
       "      <th></th>\n",
       "    </tr>\n",
       "  </thead>\n",
       "  <tbody>\n",
       "    <tr>\n",
       "      <th>Atlanta</th>\n",
       "      <td>13780</td>\n",
       "      <td>0</td>\n",
       "    </tr>\n",
       "    <tr>\n",
       "      <th>Squaw Valley</th>\n",
       "      <td>0</td>\n",
       "      <td>1116</td>\n",
       "    </tr>\n",
       "  </tbody>\n",
       "</table>\n",
       "</div>"
      ],
      "text/plain": [
       "Season        Summer  Winter\n",
       "City                        \n",
       "Atlanta        13780       0\n",
       "Squaw Valley       0    1116"
      ]
     },
     "execution_count": 70,
     "metadata": {},
     "output_type": "execute_result"
    }
   ],
   "source": [
    "(pd.crosstab(data['City'], data['Season']).loc[['Atlanta', 'Squaw Valley']])"
   ]
  },
  {
   "cell_type": "markdown",
   "metadata": {
    "id": "4hxR5D-t05rF"
   },
   "source": [
    "__10. Какова абсолютная разница между количеством уникальных видов спорта на Олимпиаде 1986 года и Олимпиаде 2002 года?__\n",
    "\n",
    "- 3 \n",
    "- 10\n",
    "- 15\n",
    "- 27 "
   ]
  },
  {
   "cell_type": "code",
   "execution_count": 73,
   "metadata": {
    "id": "WKIr-TR105rF"
   },
   "outputs": [
    {
     "name": "stdout",
     "output_type": "stream",
     "text": [
      "15\n"
     ]
    }
   ],
   "source": [
    "print(abs(data[data['Year'] == 1986]['Sport'].nunique() - data[data['Year'] == 2002]['Sport'].nunique()))"
   ]
  }
 ],
 "metadata": {
  "colab": {
   "collapsed_sections": [],
   "name": "02_pandas_task.ipynb",
   "provenance": []
  },
  "kernelspec": {
   "display_name": "Python 3 (ipykernel)",
   "language": "python",
   "name": "python3"
  },
  "language_info": {
   "codemirror_mode": {
    "name": "ipython",
    "version": 3
   },
   "file_extension": ".py",
   "mimetype": "text/x-python",
   "name": "python",
   "nbconvert_exporter": "python",
   "pygments_lexer": "ipython3",
   "version": "3.9.7"
  }
 },
 "nbformat": 4,
 "nbformat_minor": 1
}
