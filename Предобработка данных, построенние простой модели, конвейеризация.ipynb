{
 "cells": [
  {
   "cell_type": "markdown",
   "metadata": {
    "id": "EiTFvbVrtYnO"
   },
   "source": [
    "# Boston"
   ]
  },
  {
   "cell_type": "markdown",
   "metadata": {
    "id": "DQUi7RKwrssv"
   },
   "source": [
    "- CRIM     уровень преступности на душу населения по городам\n",
    "- ZN       доля земли под жилую застройку, зонированная под участки площадью более 25000 кв. футов. \n",
    "- INDUS    доля акров, не связанных с розничной торговлей, на город \n",
    "- CHAS     Фиктивная переменная реки Чарльз (= 1, если участок ограничивает реку; 0 в противном случае) \n",
    "- NOX      концентрация оксидов азота (частей на 10 миллионов)\n",
    "- RM       среднее количество комнат в доме \n",
    "- AGE      доля жилых единиц, построенных до 1940 г.\n",
    "- DIS      взвешенные расстояния до пяти Бостонских центров занятости \n",
    "- RAD      индекс доступности радиальных магистралей \n",
    "- TAX      полная ставка налога на имущество за 10 000 долларов США \n",
    "- PTRATIO  соотношение учеников и учителей по городам\n",
    "- B        1000 (Bk - 0,63) ^ 2, где Bk - доля черных по городам. \n",
    "- LSTAT    % более низкий статус населения \n",
    "- MEDV     Средняя стоимость домов, занимаемых владельцами, в 1000 долларов США "
   ]
  },
  {
   "cell_type": "code",
   "execution_count": 62,
   "metadata": {
    "executionInfo": {
     "elapsed": 324,
     "status": "ok",
     "timestamp": 1639659001404,
     "user": {
      "displayName": "Александр Аксёнов",
      "photoUrl": "https://lh3.googleusercontent.com/a-/AOh14GgpkPDdBChJz5khG7PXMg_P3ziSIZzWUDpDAjL7KA=s64",
      "userId": "11145992452404092449"
     },
     "user_tz": -300
    },
    "id": "mI2SpYt3q3RR"
   },
   "outputs": [],
   "source": [
    "import pandas as pd\n",
    "import numpy as np\n",
    "import seaborn as sns\n",
    "import matplotlib.pyplot as plt"
   ]
  },
  {
   "cell_type": "code",
   "execution_count": 63,
   "metadata": {
    "executionInfo": {
     "elapsed": 585,
     "status": "ok",
     "timestamp": 1639659010893,
     "user": {
      "displayName": "Александр Аксёнов",
      "photoUrl": "https://lh3.googleusercontent.com/a-/AOh14GgpkPDdBChJz5khG7PXMg_P3ziSIZzWUDpDAjL7KA=s64",
      "userId": "11145992452404092449"
     },
     "user_tz": -300
    },
    "id": "RiQ2e85yX4_N"
   },
   "outputs": [],
   "source": [
    "# предварительная обработка\n",
    "from sklearn import preprocessing\n",
    "from sklearn.preprocessing import Binarizer, KBinsDiscretizer, FunctionTransformer, StandardScaler, RobustScaler\n",
    "# учебые наборы\n",
    "from sklearn.datasets import load_iris\n",
    "# модели\n",
    "from sklearn.tree import DecisionTreeRegressor\n",
    "from sklearn.tree import DecisionTreeClassifier\n",
    "from sklearn.linear_model import LogisticRegression\n",
    "# метрики\n",
    "from sklearn.metrics import accuracy_score, precision_score, recall_score, f1_score, roc_auc_score, classification_report, confusion_matrix, log_loss\n",
    "# импортируем модуль, который помогает случайным образом разбиыть набор данных на тренировочную и тестовую части\n",
    "from sklearn.model_selection import train_test_split\n",
    "\n",
    "from sklearn.model_selection import GridSearchCV\n",
    "from sklearn.model_selection import RandomizedSearchCV\n",
    "from sklearn.pipeline import Pipeline"
   ]
  },
  {
   "cell_type": "code",
   "execution_count": null,
   "metadata": {
    "id": "SU42i9kWq3H0"
   },
   "outputs": [],
   "source": [
    "PATH = 'https://raw.githubusercontent.com/aksenov7/Kaggle_competition_group/master/boston_full.csv'\n",
    "df = pd.read_csv(PATH, sep='\\t')"
   ]
  },
  {
   "cell_type": "code",
   "execution_count": null,
   "metadata": {
    "colab": {
     "base_uri": "https://localhost:8080/",
     "height": 143
    },
    "executionInfo": {
     "elapsed": 39,
     "status": "ok",
     "timestamp": 1631623324816,
     "user": {
      "displayName": "Александр Аксёнов",
      "photoUrl": "https://lh3.googleusercontent.com/a-/AOh14GhmPE3kg2vafh4QNEoLX_DeI08tDxoR8I8MoJZP=s64",
      "userId": "11145992452404092449"
     },
     "user_tz": -300
    },
    "id": "DStQz4E5suMb",
    "outputId": "429a96bf-4b1d-4f5a-c328-bc7265b0b51f"
   },
   "outputs": [
    {
     "data": {
      "text/html": [
       "<div>\n",
       "<style scoped>\n",
       "    .dataframe tbody tr th:only-of-type {\n",
       "        vertical-align: middle;\n",
       "    }\n",
       "\n",
       "    .dataframe tbody tr th {\n",
       "        vertical-align: top;\n",
       "    }\n",
       "\n",
       "    .dataframe thead th {\n",
       "        text-align: right;\n",
       "    }\n",
       "</style>\n",
       "<table border=\"1\" class=\"dataframe\">\n",
       "  <thead>\n",
       "    <tr style=\"text-align: right;\">\n",
       "      <th></th>\n",
       "      <th>CRIM</th>\n",
       "      <th>ZN</th>\n",
       "      <th>INDUS</th>\n",
       "      <th>CHAS</th>\n",
       "      <th>NOX</th>\n",
       "      <th>RM</th>\n",
       "      <th>AGE</th>\n",
       "      <th>DIS</th>\n",
       "      <th>RAD</th>\n",
       "      <th>TAX</th>\n",
       "      <th>PTRATIO</th>\n",
       "      <th>B</th>\n",
       "      <th>LSTAT</th>\n",
       "      <th>target</th>\n",
       "    </tr>\n",
       "  </thead>\n",
       "  <tbody>\n",
       "    <tr>\n",
       "      <th>502</th>\n",
       "      <td>0.04527</td>\n",
       "      <td>0.0</td>\n",
       "      <td>11.93</td>\n",
       "      <td>0.0</td>\n",
       "      <td>0.573</td>\n",
       "      <td>6.120</td>\n",
       "      <td>76.7</td>\n",
       "      <td>2.2875</td>\n",
       "      <td>1.0</td>\n",
       "      <td>273.0</td>\n",
       "      <td>21.0</td>\n",
       "      <td>396.9</td>\n",
       "      <td>9.08</td>\n",
       "      <td>20.6</td>\n",
       "    </tr>\n",
       "    <tr>\n",
       "      <th>13</th>\n",
       "      <td>0.62976</td>\n",
       "      <td>0.0</td>\n",
       "      <td>8.14</td>\n",
       "      <td>0.0</td>\n",
       "      <td>0.538</td>\n",
       "      <td>5.949</td>\n",
       "      <td>61.8</td>\n",
       "      <td>4.7075</td>\n",
       "      <td>4.0</td>\n",
       "      <td>307.0</td>\n",
       "      <td>21.0</td>\n",
       "      <td>396.9</td>\n",
       "      <td>8.26</td>\n",
       "      <td>20.4</td>\n",
       "    </tr>\n",
       "    <tr>\n",
       "      <th>82</th>\n",
       "      <td>0.03659</td>\n",
       "      <td>25.0</td>\n",
       "      <td>4.86</td>\n",
       "      <td>0.0</td>\n",
       "      <td>0.426</td>\n",
       "      <td>6.302</td>\n",
       "      <td>32.2</td>\n",
       "      <td>5.4007</td>\n",
       "      <td>4.0</td>\n",
       "      <td>281.0</td>\n",
       "      <td>19.0</td>\n",
       "      <td>396.9</td>\n",
       "      <td>6.72</td>\n",
       "      <td>24.8</td>\n",
       "    </tr>\n",
       "  </tbody>\n",
       "</table>\n",
       "</div>"
      ],
      "text/plain": [
       "        CRIM    ZN  INDUS  CHAS    NOX  ...    TAX  PTRATIO      B  LSTAT  target\n",
       "502  0.04527   0.0  11.93   0.0  0.573  ...  273.0     21.0  396.9   9.08    20.6\n",
       "13   0.62976   0.0   8.14   0.0  0.538  ...  307.0     21.0  396.9   8.26    20.4\n",
       "82   0.03659  25.0   4.86   0.0  0.426  ...  281.0     19.0  396.9   6.72    24.8\n",
       "\n",
       "[3 rows x 14 columns]"
      ]
     },
     "execution_count": 8,
     "metadata": {},
     "output_type": "execute_result"
    }
   ],
   "source": [
    "df.sample(3)"
   ]
  },
  {
   "cell_type": "markdown",
   "metadata": {
    "id": "1Yt8_tJ1IHsQ"
   },
   "source": [
    "## Смотрим данные"
   ]
  },
  {
   "cell_type": "code",
   "execution_count": null,
   "metadata": {
    "colab": {
     "base_uri": "https://localhost:8080/"
    },
    "executionInfo": {
     "elapsed": 34,
     "status": "ok",
     "timestamp": 1631623324818,
     "user": {
      "displayName": "Александр Аксёнов",
      "photoUrl": "https://lh3.googleusercontent.com/a-/AOh14GhmPE3kg2vafh4QNEoLX_DeI08tDxoR8I8MoJZP=s64",
      "userId": "11145992452404092449"
     },
     "user_tz": -300
    },
    "id": "YrpPbyOgIHbt",
    "outputId": "42f1562d-9c3e-4767-d1fc-5ebc8db624bc"
   },
   "outputs": [
    {
     "data": {
      "text/plain": [
       "Index(['CRIM', 'ZN', 'INDUS', 'CHAS', 'NOX', 'RM', 'AGE', 'DIS', 'RAD', 'TAX',\n",
       "       'PTRATIO', 'B', 'LSTAT', 'target'],\n",
       "      dtype='object')"
      ]
     },
     "execution_count": 9,
     "metadata": {},
     "output_type": "execute_result"
    }
   ],
   "source": [
    "df.columns"
   ]
  },
  {
   "cell_type": "code",
   "execution_count": null,
   "metadata": {
    "colab": {
     "base_uri": "https://localhost:8080/"
    },
    "executionInfo": {
     "elapsed": 22,
     "status": "ok",
     "timestamp": 1631623324820,
     "user": {
      "displayName": "Александр Аксёнов",
      "photoUrl": "https://lh3.googleusercontent.com/a-/AOh14GhmPE3kg2vafh4QNEoLX_DeI08tDxoR8I8MoJZP=s64",
      "userId": "11145992452404092449"
     },
     "user_tz": -300
    },
    "id": "cdDjvwpAjlrP",
    "outputId": "866509bd-4ca8-4be7-fcc9-72204451acdf"
   },
   "outputs": [
    {
     "name": "stdout",
     "output_type": "stream",
     "text": [
      "<class 'pandas.core.frame.DataFrame'>\n",
      "RangeIndex: 506 entries, 0 to 505\n",
      "Data columns (total 14 columns):\n",
      " #   Column   Non-Null Count  Dtype  \n",
      "---  ------   --------------  -----  \n",
      " 0   CRIM     506 non-null    float64\n",
      " 1   ZN       506 non-null    float64\n",
      " 2   INDUS    506 non-null    float64\n",
      " 3   CHAS     506 non-null    float64\n",
      " 4   NOX      506 non-null    float64\n",
      " 5   RM       506 non-null    float64\n",
      " 6   AGE      506 non-null    float64\n",
      " 7   DIS      506 non-null    float64\n",
      " 8   RAD      506 non-null    float64\n",
      " 9   TAX      506 non-null    float64\n",
      " 10  PTRATIO  506 non-null    float64\n",
      " 11  B        506 non-null    float64\n",
      " 12  LSTAT    506 non-null    float64\n",
      " 13  target   506 non-null    float64\n",
      "dtypes: float64(14)\n",
      "memory usage: 55.5 KB\n"
     ]
    }
   ],
   "source": [
    "df.info()"
   ]
  },
  {
   "cell_type": "code",
   "execution_count": null,
   "metadata": {
    "colab": {
     "base_uri": "https://localhost:8080/"
    },
    "executionInfo": {
     "elapsed": 478,
     "status": "ok",
     "timestamp": 1631623325279,
     "user": {
      "displayName": "Александр Аксёнов",
      "photoUrl": "https://lh3.googleusercontent.com/a-/AOh14GhmPE3kg2vafh4QNEoLX_DeI08tDxoR8I8MoJZP=s64",
      "userId": "11145992452404092449"
     },
     "user_tz": -300
    },
    "id": "odmC3627hImz",
    "outputId": "9b3959ba-ebb1-4246-81b1-ac68e33477af"
   },
   "outputs": [
    {
     "data": {
      "text/html": [
       "<div>\n",
       "<style scoped>\n",
       "    .dataframe tbody tr th:only-of-type {\n",
       "        vertical-align: middle;\n",
       "    }\n",
       "\n",
       "    .dataframe tbody tr th {\n",
       "        vertical-align: top;\n",
       "    }\n",
       "\n",
       "    .dataframe thead th {\n",
       "        text-align: right;\n",
       "    }\n",
       "</style>\n",
       "<table border=\"1\" class=\"dataframe\">\n",
       "  <thead>\n",
       "    <tr style=\"text-align: right;\">\n",
       "      <th></th>\n",
       "      <th>CRIM</th>\n",
       "      <th>ZN</th>\n",
       "      <th>INDUS</th>\n",
       "      <th>CHAS</th>\n",
       "      <th>NOX</th>\n",
       "      <th>RM</th>\n",
       "      <th>AGE</th>\n",
       "      <th>DIS</th>\n",
       "      <th>RAD</th>\n",
       "      <th>TAX</th>\n",
       "      <th>PTRATIO</th>\n",
       "      <th>B</th>\n",
       "      <th>LSTAT</th>\n",
       "      <th>target</th>\n",
       "    </tr>\n",
       "  </thead>\n",
       "  <tbody>\n",
       "    <tr>\n",
       "      <th>count</th>\n",
       "      <td>506.000000</td>\n",
       "      <td>506.000000</td>\n",
       "      <td>506.000000</td>\n",
       "      <td>506.000000</td>\n",
       "      <td>506.000000</td>\n",
       "      <td>506.000000</td>\n",
       "      <td>506.000000</td>\n",
       "      <td>506.000000</td>\n",
       "      <td>506.000000</td>\n",
       "      <td>506.000000</td>\n",
       "      <td>506.000000</td>\n",
       "      <td>506.000000</td>\n",
       "      <td>506.000000</td>\n",
       "      <td>506.000000</td>\n",
       "    </tr>\n",
       "    <tr>\n",
       "      <th>mean</th>\n",
       "      <td>3.613524</td>\n",
       "      <td>11.363636</td>\n",
       "      <td>11.136779</td>\n",
       "      <td>0.069170</td>\n",
       "      <td>0.554695</td>\n",
       "      <td>6.284634</td>\n",
       "      <td>68.574901</td>\n",
       "      <td>3.795043</td>\n",
       "      <td>9.549407</td>\n",
       "      <td>408.237154</td>\n",
       "      <td>18.455534</td>\n",
       "      <td>356.674032</td>\n",
       "      <td>12.653063</td>\n",
       "      <td>22.532806</td>\n",
       "    </tr>\n",
       "    <tr>\n",
       "      <th>std</th>\n",
       "      <td>8.601545</td>\n",
       "      <td>23.322453</td>\n",
       "      <td>6.860353</td>\n",
       "      <td>0.253994</td>\n",
       "      <td>0.115878</td>\n",
       "      <td>0.702617</td>\n",
       "      <td>28.148861</td>\n",
       "      <td>2.105710</td>\n",
       "      <td>8.707259</td>\n",
       "      <td>168.537116</td>\n",
       "      <td>2.164946</td>\n",
       "      <td>91.294864</td>\n",
       "      <td>7.141062</td>\n",
       "      <td>9.197104</td>\n",
       "    </tr>\n",
       "    <tr>\n",
       "      <th>min</th>\n",
       "      <td>0.006320</td>\n",
       "      <td>0.000000</td>\n",
       "      <td>0.460000</td>\n",
       "      <td>0.000000</td>\n",
       "      <td>0.385000</td>\n",
       "      <td>3.561000</td>\n",
       "      <td>2.900000</td>\n",
       "      <td>1.129600</td>\n",
       "      <td>1.000000</td>\n",
       "      <td>187.000000</td>\n",
       "      <td>12.600000</td>\n",
       "      <td>0.320000</td>\n",
       "      <td>1.730000</td>\n",
       "      <td>5.000000</td>\n",
       "    </tr>\n",
       "    <tr>\n",
       "      <th>25%</th>\n",
       "      <td>0.082045</td>\n",
       "      <td>0.000000</td>\n",
       "      <td>5.190000</td>\n",
       "      <td>0.000000</td>\n",
       "      <td>0.449000</td>\n",
       "      <td>5.885500</td>\n",
       "      <td>45.025000</td>\n",
       "      <td>2.100175</td>\n",
       "      <td>4.000000</td>\n",
       "      <td>279.000000</td>\n",
       "      <td>17.400000</td>\n",
       "      <td>375.377500</td>\n",
       "      <td>6.950000</td>\n",
       "      <td>17.025000</td>\n",
       "    </tr>\n",
       "    <tr>\n",
       "      <th>50%</th>\n",
       "      <td>0.256510</td>\n",
       "      <td>0.000000</td>\n",
       "      <td>9.690000</td>\n",
       "      <td>0.000000</td>\n",
       "      <td>0.538000</td>\n",
       "      <td>6.208500</td>\n",
       "      <td>77.500000</td>\n",
       "      <td>3.207450</td>\n",
       "      <td>5.000000</td>\n",
       "      <td>330.000000</td>\n",
       "      <td>19.050000</td>\n",
       "      <td>391.440000</td>\n",
       "      <td>11.360000</td>\n",
       "      <td>21.200000</td>\n",
       "    </tr>\n",
       "    <tr>\n",
       "      <th>75%</th>\n",
       "      <td>3.677082</td>\n",
       "      <td>12.500000</td>\n",
       "      <td>18.100000</td>\n",
       "      <td>0.000000</td>\n",
       "      <td>0.624000</td>\n",
       "      <td>6.623500</td>\n",
       "      <td>94.075000</td>\n",
       "      <td>5.188425</td>\n",
       "      <td>24.000000</td>\n",
       "      <td>666.000000</td>\n",
       "      <td>20.200000</td>\n",
       "      <td>396.225000</td>\n",
       "      <td>16.955000</td>\n",
       "      <td>25.000000</td>\n",
       "    </tr>\n",
       "    <tr>\n",
       "      <th>max</th>\n",
       "      <td>88.976200</td>\n",
       "      <td>100.000000</td>\n",
       "      <td>27.740000</td>\n",
       "      <td>1.000000</td>\n",
       "      <td>0.871000</td>\n",
       "      <td>8.780000</td>\n",
       "      <td>100.000000</td>\n",
       "      <td>12.126500</td>\n",
       "      <td>24.000000</td>\n",
       "      <td>711.000000</td>\n",
       "      <td>22.000000</td>\n",
       "      <td>396.900000</td>\n",
       "      <td>37.970000</td>\n",
       "      <td>50.000000</td>\n",
       "    </tr>\n",
       "  </tbody>\n",
       "</table>\n",
       "</div>"
      ],
      "text/plain": [
       "             CRIM          ZN       INDUS  ...           B       LSTAT      target\n",
       "count  506.000000  506.000000  506.000000  ...  506.000000  506.000000  506.000000\n",
       "mean     3.613524   11.363636   11.136779  ...  356.674032   12.653063   22.532806\n",
       "std      8.601545   23.322453    6.860353  ...   91.294864    7.141062    9.197104\n",
       "min      0.006320    0.000000    0.460000  ...    0.320000    1.730000    5.000000\n",
       "25%      0.082045    0.000000    5.190000  ...  375.377500    6.950000   17.025000\n",
       "50%      0.256510    0.000000    9.690000  ...  391.440000   11.360000   21.200000\n",
       "75%      3.677082   12.500000   18.100000  ...  396.225000   16.955000   25.000000\n",
       "max     88.976200  100.000000   27.740000  ...  396.900000   37.970000   50.000000\n",
       "\n",
       "[8 rows x 14 columns]"
      ]
     },
     "execution_count": 11,
     "metadata": {},
     "output_type": "execute_result"
    }
   ],
   "source": [
    "df.describe()"
   ]
  },
  {
   "cell_type": "markdown",
   "metadata": {
    "id": "UNITWiWfxkTR"
   },
   "source": [
    "## Шкалирование: нормализация и стандартизация"
   ]
  },
  {
   "cell_type": "code",
   "execution_count": null,
   "metadata": {
    "id": "yMiCFx_Nxj0T"
   },
   "outputs": [],
   "source": [
    "from sklearn import preprocessing"
   ]
  },
  {
   "cell_type": "markdown",
   "metadata": {
    "id": "I7ErMLs7x9nI"
   },
   "source": [
    "### Нормализация"
   ]
  },
  {
   "cell_type": "markdown",
   "metadata": {
    "id": "MB-KYXM01n3z"
   },
   "source": [
    "![изображение.png](data:image/png;base64,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)"
   ]
  },
  {
   "cell_type": "code",
   "execution_count": null,
   "metadata": {
    "colab": {
     "base_uri": "https://localhost:8080/"
    },
    "executionInfo": {
     "elapsed": 33,
     "status": "ok",
     "timestamp": 1631623325282,
     "user": {
      "displayName": "Александр Аксёнов",
      "photoUrl": "https://lh3.googleusercontent.com/a-/AOh14GhmPE3kg2vafh4QNEoLX_DeI08tDxoR8I8MoJZP=s64",
      "userId": "11145992452404092449"
     },
     "user_tz": -300
    },
    "id": "5tj0pXowxjnC",
    "outputId": "e80b94af-ff80-432b-a057-e19f8b469e51"
   },
   "outputs": [
    {
     "data": {
      "text/plain": [
       "(0.0, 1.0, 0.42220830944694204, 0.32131773862477314)"
      ]
     },
     "execution_count": 13,
     "metadata": {},
     "output_type": "execute_result"
    }
   ],
   "source": [
    "min_max_scaler = preprocessing.MinMaxScaler()\n",
    "min_max_feature = min_max_scaler.fit_transform(df['TAX'].values.reshape(-1, 1))\n",
    "min_max_feature.min(), min_max_feature.max() , min_max_feature.mean() , min_max_feature.std() "
   ]
  },
  {
   "cell_type": "code",
   "execution_count": null,
   "metadata": {
    "colab": {
     "base_uri": "https://localhost:8080/"
    },
    "executionInfo": {
     "elapsed": 29,
     "status": "ok",
     "timestamp": 1631623325283,
     "user": {
      "displayName": "Александр Аксёнов",
      "photoUrl": "https://lh3.googleusercontent.com/a-/AOh14GhmPE3kg2vafh4QNEoLX_DeI08tDxoR8I8MoJZP=s64",
      "userId": "11145992452404092449"
     },
     "user_tz": -300
    },
    "id": "jhe5rUApzE6q",
    "outputId": "85ba530c-597a-41a1-c001-2df04bce1e6d"
   },
   "outputs": [
    {
     "data": {
      "text/plain": [
       "array([[0.20801527],\n",
       "       [0.10496183],\n",
       "       [0.10496183],\n",
       "       [0.06679389],\n",
       "       [0.06679389],\n",
       "       [0.06679389],\n",
       "       [0.23664122],\n",
       "       [0.23664122],\n",
       "       [0.23664122],\n",
       "       [0.23664122]])"
      ]
     },
     "execution_count": 14,
     "metadata": {},
     "output_type": "execute_result"
    }
   ],
   "source": [
    "min_max_feature[:10]"
   ]
  },
  {
   "cell_type": "markdown",
   "metadata": {
    "id": "avPXQoGqzIco"
   },
   "source": [
    "### Стандартизация"
   ]
  },
  {
   "cell_type": "markdown",
   "metadata": {
    "id": "vzk-bWCi1vx7"
   },
   "source": [
    "![изображение.png](data:image/png;base64,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)"
   ]
  },
  {
   "cell_type": "code",
   "execution_count": null,
   "metadata": {
    "colab": {
     "base_uri": "https://localhost:8080/"
    },
    "executionInfo": {
     "elapsed": 27,
     "status": "ok",
     "timestamp": 1631623325284,
     "user": {
      "displayName": "Александр Аксёнов",
      "photoUrl": "https://lh3.googleusercontent.com/a-/AOh14GhmPE3kg2vafh4QNEoLX_DeI08tDxoR8I8MoJZP=s64",
      "userId": "11145992452404092449"
     },
     "user_tz": -300
    },
    "id": "uEEGAnkOzIOE",
    "outputId": "245ac0c7-a183-4257-ce75-dee7b86b0c09"
   },
   "outputs": [
    {
     "data": {
      "text/plain": [
       "(-1.3139900437927152, 1.7981941894212958, 0.0, 0.9999999999999997)"
      ]
     },
     "execution_count": 15,
     "metadata": {},
     "output_type": "execute_result"
    }
   ],
   "source": [
    "standart_scaler = preprocessing.StandardScaler()\n",
    "standart_feature = standart_scaler.fit_transform(df['TAX'].values.reshape(-1, 1))\n",
    "standart_feature.min(), standart_feature.max() , standart_feature.mean() , standart_feature.std() "
   ]
  },
  {
   "cell_type": "markdown",
   "metadata": {
    "id": "ex_bgpVh15Y-"
   },
   "source": [
    "![изображение.png](data:image/png;base64,iVBORw0KGgoAAAANSUhEUgAAA7IAAADsCAYAAABJ7JruAAAABHNCSVQICAgIfAhkiAAAIABJREFUeF7tnQe4LEW1tq/XqxgQJaqkc8hJkCQgQQ4gggoCihEREBUDGMDAFRVQFBADIqIiSpIgiICAIggcMkoQCZLhkJGczHr//3txt7ZFVXd1z/TM7D3fep6Ps7u6urr6nZmmVq9V1f/1XzYTMAETMAETMAETMAETMAETMAETMAETMAETMAETMAETMAETMAETMAETMAETMAETMAETMAETMAETMAETMAETMAETMAETMAETMAETMAETMAETMAETMAETMAETMAETMAETMAETMAETMAETMAETMAETMAETMAETMAETMAETMAETMAETMAETMAETMAETMAETMAETMAETMAETMAETMAETMAETMAETMAETMAETMAETMAETMAETMAETMAETMAETMAETMAETMAETMAETMAETMAETMAETMAETMAETMAETMAETMAETMAETMAETMAETMAETMAETMAETMAETMAETMAETMAETMAETMAETMAETMAETMAETMAETMAETMAETMAETMAETMAETMAETMAETMAETMAETMAETMAETMAETMAETMAETMAETMAETMAETMAETMAETMAETMAETMAETMAETMAETMAETMAETMAETMAETMAETMAETMAETMAETMAETMAETMIGBEHjGQM7ik5iACZiACZjA+BJ4oS59bmkhaUGJ7b9ID0nXSw9LD0j/T2pj8+igeaXlpLkmGrhf/94s3SdxnrZtTzTnf0xgShN4nq6O39BLpOnSnNL/SY9IN0r8Pn8v/UNqYy/QQS+WlpY4x7OkB6VZ0p0S7bdtW4faTMAETMAETMAETMAETKA/BBgYryZ9VTpPKhxVHMqyntT2pdIB0urSs6Uc40H0YtIXpUukP0hh25T9StpbWkbyw2tBsJnABAGcyaWkz0qnSziUOK/h7+ivKrtGOkx6nTS7lGsvVcWPSmdJPLCKtX21yg+W1pDok80ETMAETMAETMAETMAEBk4AR3Qd6QTpcSkcuFZtE/35vkTUpsrpfJH27yLd2qB9Bul7Sh4oC4JtrAnw2yJ74bsSGQtVv8lwH5kUP5X4jT+zguJztO8t0mUN2n9UdXFoydiwmYAJmIAJmIAJmIAJmMDACJA6uJ/EgDQcADfZJt14Yyk2UCbCc5REGmKTNqnLMd+RcIRtJjCOBEjx3Um6Q2r6+ynXJ834kxKZF6HNoQKyIGJZEjnnPFPHLhQ26m0TMAETMAETMAETMAET6IIAKYpnSDkD1Zw6j6mtXaX/LnWW+a8McnOOr6rzdbXx/FK7/tMExoHAfLrIQ6S/9+E3xO/rb9IR0mwleGRkEFVt86Cp/Js9RW3wYMxmAiZgAiZgAiZgAiZgAp0RWFYt/1aKOY9/Vvk5EnNZN5dWlJaX3iQdJsXmzRXtPKH920ikQrKgU8xRZsDM/L6tJdpmLixz7d4rHSsxBzfsF+0y189mAuNCgHTd06Twt8A282J/LTFP/a3SKhK/6Y0kHvrMkmLHFcfy28aZfa60vxSbZ0uKMZFg5s3zG+VfzkV6891SrP1PqLxqioF220zABEzABEzABEzABEygHQHms14lhQNRoj5EVV4tkc4Ys/9RIQ4oqwuHxxfbzG3FQf1apM79KmPeK6mMoTFH71XSRVKs7ZNUTh2bCUx1AjwEOlmK/Q5YDG0riRWLU7a2duDoxo6n7I/S2yQeHjGHtlyPB1mHSS+RQmPqAA7zj6WY88vDsdhxYTveNgETMAETMAETMAETMIFGBEj9i6X6soDMh6WUAxue5M0qYMCbGigz2A7n2+HEflCKRWwWUPl3pKq5uvSRVY9tJjCVCZBCf5AU/rb4PbGieK6j+HLV5aFS2E6xzarG4bxbnFrmzMdWOebe8NnIMeX2cW6dOSEINhMwARMwARMwARMwgf4RYIBMWmA4sCW6ihMbczBTZyeiyit6wrZS2wyQU04szvWFmW0RLbaZwFQlQMRzZ4m5rOXfEun8B0pNMhL4PR8atJP6fRblpCqTbhwaji1pzrEobNjmbuHB3jYBEzABEzABEzABEzCBtgQY1H5I4v2S5YHnLG1v2LLR7wdthQPa8jZzX2OLNTEP8IQG7Wzfsq8+zAQmAwEe1DwQ/B54Jdb7JNL6m9oHgraqfqOXqi4rjIf2LBXs1aCdb4cNeNsETMAETMAETMAETMAE2hJYVQfeJZUHsg9qe522Deq4LwftpQbJnGelxHk2UXkYfUq1Q7kd2QRIF096AjiRl0jl7z+/jY9I5ZXAm1woUwCqfk/FPhZge2ei4SVUfk9mO7RHWrTNBEwgQaDNE6lEUy42ARMwARMwgSlPgDTgz0nMQy3bN7TBwkptLff/xz/XCa5OnGQLlee2QxMMqG0mMNUI8BsgpXj14MKO0zaZD6T0trHc3xYO9M8SJ2Al5FikNlH9v5gLbzOBOgJ8N0mlR6TMk7HDnO4pb7k/yikPwhdoAiZgAiZgAhkEiMqEC7CcrjLmwxGJaWu847LOGIAfLrEicmgMXBYOCyu2Sbm8qWK/d5nAZCXwCnV8u6Dz12ub+aa8jqqthQ+vUu0w/5V5uDF7WaywoowUZZsJ8L3h/s4K3DxMZRoJC4Yx3xoxF/t5E2Wsk/AiicwdFvWb0mZHdkp/vL44EzABEzCBPhJggLCDxFPvwv6kP3jX5GOlsqZ/MgjJcWRvUL3fJRpn7l2TxWtYEGosntgneLl4ahLgN8Bia3MHl3eotmf1eMmLZhzPQmw82EoZTkeu8fqdy3Mru96UJcD/b/aRXt/gCpkL3jaFvsFphl/VjuzwPwP3wARMwARMYHIQYCBBtKdsv9DGBT12n6fnOdGea1UvlWrIAJrX7eQYgxwWkeGYLoyBF9ezpsTrTXjP7sUSTr/NBLoksLwaDzMm+P79sMeTzqbjp2W0wWt4qh4QpX6/YdPMjz1M+n24w9tjRwCHNJaFM3YgfMEmYAImYAImYALtCJC6y/zU8mIvpPqywFKvxuD7j0HbsUVlWKimypgXGDuuXEb6M/N5ieB2YUTEdpXKC9pwzpMkUuJsJtAlAb7b4W/g8304IQ9kmJseth1uH1ZzrldrP++wDY8Lt89UHdJHbSbwbCE4OeM7U/4OkSE0v9GZgAmYgAmYgAmYAASWlJj3Vh4sEOlpsnBLiuT2QbvhoJZtHN2XpxqYKGf+FGmNseOLNvbW/q6cWKJWh1Sc/xM1/fduE+iFAN//XwXfvye0vWIvjU4cy2+PDIbUb6soD+fmhqdmGsH+Eisox9ri4dgxkp3YkNz4bpPhsqd0rPRTieyW8P9F4XfJjuz4fl985SZgAiZgAibwNAJvV0k4WGAFVN4p26vlvEP21zoJA/U6YwGQL0sM6EljZFEnIknHS2+UGEh3ZaR0pgbosGMlVxYksZlAFwSWVaMs5lT+nZ6jbbIperUdg3bDewHbOBc88KozpvXtIs2U7pYekm6U+H3wrtq5JJsJlAmQXox4WMg9nqkbX5F48BH7LtqRLdPz3yZgAiZgAiYw5gTW1fUz4GTQwOABB/G9fWDC/FgWXooNRsplP2hwLgY8OL2LSCxQQ1ok6WldGuesc8jPUB07sl1+CuPdNt/3cvovg3nmgvdqfLeZY1v3G52pOrnp8zwA47c/XVpcWlDq8iGTmrdNMQJ8f1gMLPa9HBtH1os9TbFvtS/HBEzABEygEwLnqtU1JJxCFkti8Y3r+nCmedXGchntcP5cw9F+cEK5x/RaD0c5XCk2bPMyFUy2BZ+IgKwUXsiYbZPayOd2xYhf923q34bSYtKfJaKzs/rQ5znVxlIZ7bDQE/eGHMP5YHG23AXactp0nfEigLPKKvYrj9dl+2pNwARMwARMwARGhcC71JHYE/VyGSmLS4xKhxP9IMJE9Ct1LaROTkscO6rFOLFHSDhxqesal3IyEHiHMk7tuBmLseUs0LT5uIHx9Q6dwFfVg9g9aGwisqRL2EzABEzABEzABIZDYO2M05IuOeqv4WAwxWIkDKBCI2rwFun2cMeIbxOJxXlr8n7eEb+k1t0jVf0L0sKtW5i8B/IbrUuJZ67rlZP3Et3zSUqAzIOxNqcWj/XH74s3ARMwARMYIgFWJl0m4/w4srkpixnNdVblPLW8lcTCOKR3PiLNlL4l3SFNNttOHbYT++9PDWeWKPU4GZkGvA+5znhYw+JqNhMYJIFxzJD4D752ZAf5dfO5TMAETMAETODfBJhvS9pinZ1TV2FE9hOVPU2aKRHBYgVjHHDm7E5GIx36emnpydj5DvrMgwoij+NkzPvOedj0G9XjFVk2ExgkgbF/0GZHdpBfN5/LBEzABEzABP5N4JX6s+59kaQUM0ieTMZ8QjTZjflnP5b2kpgnO1kd8n58DrPUyAHSuDlr8+uaea1PnZ1dV8H7TaADAo7IdgDVTZqACZiACZiACVQTIGXxVdVVntp7reSUxQxQHVVhXu/WHbXtZkefAL/RutfizFKdfqxgPvo03MNRI8D/R8bavNjTWH/8vngTMAETMIEhEeCVHjkpi8yP5TUiNhMwgcESYIycMz8WJ9YPmwb72fhs/yTAdI6xNjuyY/3x++JNwARMwASGRID5sTnvj505pP75tCYw7gRY3CpnfjSrFY/96rHj/mXx9Q+HgB3Z4XD3WU3ABEzABMabAJGeF9QguE/7f1tTx7tNwAS6IbCAms2ZHztZFmPrhpJbHSYBpxYPk77PbQImYAImYAJjSICHyDnzY3mlx4NjyMeXbAKjQGB9daLudUO8VorVrW0mYAJDIOCI7BCg+5QmYAImYAJjTYBXeuSkFePIPjHWpHzxJjAcArzVg1XF68zzY+sIeb8JdEjAr9/pEK6bNgETMAETMIEIgYVUluPIXhg5dlSKeO3DiyTeF/tsiTmCvHLnMWnsFyAZlQ/J/WhNYD4dmZNWzKrivJpplIwgFXpW6V/+ZioDGR682zllvJd0dolINL9rjuOVS7wTmt84v+82xn2iuFewCvRfpb9Lf5FYzI7tQRnnZ/7z6hLv8Wa9Anhx/2I6x03SFRKsBvUgsfh84M/f+GewQXy/vOCfIMTMjmyMistMwARMwARMoDsC66npupTFR1Xnsj51YVG1w1wqzsnA7M4e2mXAx2rL75c2kJaUcGoZaBGdYr7gIRKDQZsJTFYC/GaWyuj8+Rl1cqowHxcnBuHU3Sr9o+bAObR/E2muCbGNs4rDiLP2/Im/KSMLhHN8WvqyVDbuDQtKb5T4TbPAFe/P5XiM/nA/ok8XSUdK10t1C1zhCC8ivUNaU5ouzSvx7myujXvGXdKNEhxPkO6e2Kd/+m6ce1OJ61xHglfKcGq5/54iHSPdK/X7AR18FpY2k+CzhDRN4vPiM+HhAY71LRJrJZwqXSq1fZigQ20mYAImYAImYALjToBBBoNHBoYMABkk4szlGA+QGbAxKKrSxdrPK3p6tXXVAE4lA1EGpAwcN2/ZKI7we6R7pKq+4yi/U/L0pZagfVjPBPiN4hC8VMJZeLFEpCvX9lTFqu84+4jYLZbbYEU9nMYiAshv9AHpSxX1i12cm2hpXT/L+z8etMu969PS7Q3a4ZxHS6msEu6FRDuPkLjv5PYPp43rLhxo/dkX43uwnXSVlNuXcj0cyQ9JtNMP4/8Bq0k8ECgyWHL69X+qz4OE7SUeBmAHSrFjaZfvlc0ETMAETMAETMAEniLA4JgozVek8yQiCUQpLpG+K02X6ozBBZHL2OCjXPZD1eF8vdoBkXO9vUWjDE6/IDHQLveTwRXRlfB6GMDOkPpxDWrGZgLZBHi4tKt0hsRv7TYJR5HI2gypznhgc5oUfqfD7QtUpx8Pm94ROdc36jqp/Vwn6blhv6q2C0eW3/N6Eg/MYvVJZyWtNbavKLtB+5eUykYkeGcp5cDiBIf3kPAcJ6sOqb/9sMXVyI+l8BxsE3U9XfqWBO/jpdsSdamP41k4kPqzlXFd+0qkd8f6VJTBH8eeqHWs3i9VvoJkR1YQbCZgAiZgAiZgAtUEiC4SZeTpfGxgQRmDZtLDqmyGdsYcv7BNBoO9GtGWcKD6e5URyWliRLL+Vyr3+7fafq/EQHYNCYc+vIbLVdavAamasplALQFSRn8lhd/FYpvv/2tqWpmm/XdUtFG0RcSxVyM6d1RwLh4OvS6j4YVUJ+deUmaBI8vDpR2lcjSQLItvS2+QitRiHrqR9vprKcUTZ774jXOfoI1yn8gG+Zq0ocS9gjbp99YS6cmpdg/XvtmlXmxNHcwc5vAcpER/T2KKBI53YfSfudG7SETbw+PY5uFI28jsy3UsD0Bj7VJ2ofRZaRWJbB/6QkYB17G7FH4OfJfPl2LtOSIrMDYTMAETMAETMIF/EthB/5QHfrHBA2X7S1VRSJ7Gp44tyhnIrtUH8Azqw6gKc77Kg7ec0zC4Lacw/lTbRIMKw8lPRT3apjHn9Mt1TKBMYHltzJLqfl9EW6ucpDdltME5+vGwibTn8CEQzhcOX53hUJEJcpB0nMRDqyekquv/lPaTmkrEj3rca74vEbnkdxyzRVWYcphoA+cLnvtIxbm57zAXF0csdT9cVftS6b5Emt8otTWcP5zzkAVRWPr77IqG6S8PO+6NHE97n5d4ANHEuBffmGjvdpW/W6qas8u5iAbz8DDnIQv/r4K9zQRMwARMwARMYMwJ8CT9TikcFMW2GfDNmeDFwPPsjHY417REG7nFDNQOjZyLgVATI9pCWmZxrVxfOEAikpFyZL/a5GSuawItCbDyLBGt2G8yLMNBSWUl4MQQrQuPiW2v27Kv5cOI/oVt45imnMrUKZ+pHdxfiDKeE2mzOMdPtI85uGzjbH5dYnGoOmNOJxHAsK9s44zi1BdpzqQV7y7lOHubqF75IVm5/Z9rX07fVO0/DKf8d1Ksr3upvMqJLTf0Dm3EUrdxEuGRa69QxbulWH/IWlk3t6GJerTHcbH2ijJHZBtCdXUTMAETMAETmIoEGFB+U6oaNJT3EU0JHb2Cy7L6Iyeqi7PY61wsBloPB/2mb6SsNbGPltp4RH+TRhwa0ZiLSvXKPI5QedNBedi+t02gjgARrdzf6D9UN7VQ0XzaV35wk2qT+YuL1HWqZj+/xauDfnN/WL3muLrdRP+ItMb6zrUX5bvp7+fUNTaxn98w0d9Ym5Rxb+BfnGM+ixwnlqaZj3zqxLFh20RPl6JSA+NelHqoBusmUx3IXDlBCvvF9jFSDruFVO83iTaYisJD0jbG/b3qe2pHtg1VH2MCJmACJmACU4wAA9srpdhgJlZGXY6JGWl9sWPCMgZivTh/RDF+FDkXKXVNbF5Vxvkt+sdcNyI/oTFYS6U0HhRW9rYJ9JkAGQEnSuHvKLXNHEnmgcZsAxXGonBhW7wGZe5YA5ll/L73kMJ2cx2kqtNw/3kw0nb5XDhoTVcHJtU37G+4zUM/Po8mxrzdsJ1ie6smDanuNlLKiSf63dQ2SvTtjypfsaYxHOEfJI7/q8o3qzm+bvfKqsADlRg7O7J19LzfBEzABEzABMaAwPK6RqIMscFCrOw01Y09qc9NK6bNA3rgSmrkTlI4GP+typpGY3coXff9+nvRRL+qomHvSxzjYhPoFwEyIMLIZuy3WZSlsib47RwsVR1b7CPtlWhiW9tQBz4UnAvns9doLP15sVSkD8euBSenTSSQOa2x9ooy5nqW587Tlxx7a0W7X8xpYKIO0dbUnFvuX2369iIdl3qQyRzgKiNtGoc1xowU79j/J6raC/fxIGJmov2xcWR7eeIbAvW2CZiACZiACUw1AgyOcudUce04skR8QnuFCliAJMd42t/W1taBu0rlyCmDqa9LzNPKNRzvt5cqc113RA6GDQO2mHEdzAm2mUCXBHAom0RHSd3HsQmNhZdwMHPsb6rEw6I2Nk0HfUmaKzj4UG0z97FXw3Gq6ttZ2s+KwU2N+0iVnaKd91RVSOyDZcrICsk1HGIePMbsPBUyx7epPa4DSOGN2atU+MLYDpWR4vwRKRWdPlL7Yv+fSDTn4hQBO7IpMi43ARMwARMwgfRAJMaGV1HwLsLQ5lABaW25EZw5wwYyt9dSve9J8wf1STOO9auqWebz4hQXRhuxwTFR3vUSDV2o8nsT+1xsAv0iQCQV5dgsVSL9lbmiZWNOJ/PBpwflqU3S93N/z+U2cGJxWIlulo055qTux35jQdXaTRzZKqfzYu0ny6SpVTmctDVTIq23qVW1G5vKEGufB29vju2YKOOaq86TOpTr+XVi5woq594eM+awpu6LRMvpj60PBOzI9gGimzABEzABE5iyBO7UleUM+m5Sve0lBill4/+z75VeG5RXbbLqJk/0m9j6qsxiLEsFBxHhYW7sH5o0prqbSsUgcpb+TkUlttA+0u9iRvpl0/PG2nGZCVQRIPIfi7CGx1DnPRKpxaFtpILtwsKK7cW0r8nCQTS1hPR9KXRwiGKSRdGvhz51EVnSb9tY6PyX2+CcpOC2sSrnN9dP4b7Hg7yUXZLakVH+u0Qd5sAuF9lHn7eUUk74Ddrn+2IEnItMwARMwARMwAT6S4DB6qUSA7WYGISdLqUW/tha+xhAl4/FMcYxjLVH2RPSBlKOERXaSrpNCtujrBxVzWmvqMPAGqecvh8lxVLkmKNFmmJ4XrYflqZJNhPomgDR1OOk2PewKGPlWB7OxGyGCnFWwuMvi5SV65A6mmM4NutKsfsIqavbSrkOW875SLPmwVp4PcX2kjmNROosWtEmiw4xN7eNvaai3cO1LyfaXrWQHozJHGlrpJyn5rqyUFVopIyzJkGK/7Ha14/Pm/vvzMR5xmaObO7y2OGH5G0TMAETMAETGAcCOGTnS2EqINd+s8Rct59KLNxSNhxMBlfvk8J5Xkeo7EiJAQ0L1YRGNHZ/aQeJlMOY8bSflVdJWX6bRHSgbDigH5BI721j++igwyQGY09KsbQ8oiApR/lM7etXhKlN/33M+BAgHZf5mUTBQqfnbpWRqXCYdGeAhLo4t3zXlwn2zdT2xyQWf3pFsK/Y/KT+4Dv+EymVEsyK3u+XyMoI7wN/UtkeEg+KqqKS2t3Y+N3GjIdk/J7bWFVElvtk7B6Rc566a09dS9E2D9lWqTgRjuyrpdRnVHHoU7tIHyaCGss8mS9yMA8/w+9TuRoPCOuuOdKsi0zABEzABEzABEygOQEGJXdJ4RN2Fuv4mfROaZqEU8rT+w0lnFQGquExv1IZc1h5Iv9BiTbCOsU259xXYpDGgJioAmnHDNiJVDCIjh3LgJ0oR5eGE7Bf4vz06U1dntxtm0BAAOeBB07h7wGHgYc5OKVLSPz2FpSYw/hNKfaamttVXjy44rec+p1xLiJfpAu/SuI3yj1gukRGxQESaaRhn9jGodxd6kdkTs38h82trRul2Hm5p8Scr7CN2DbcYm1Sxn0tNV801la5bL2KdnngFz6cCNvjvJdUtJHqcz/Kvxd2RttvrOnLZyPHtClyRLYNNR9jAiZgAiZgAmNGgMEm0RcGxanBz++1j8Hj3RV1SFUkPa8worYHSqm0teJcpCLPkogAM3BO9YFyUtoYRHdtpM9dnejLdSoPo09d98ftmwCrZ1f9Ph7RfhxLHFWih7Hf0R0qX6eEEieKrIpHE/WLNohW4iSS0kvELdZ2UcY9Yjupq6zIKkeWewhOfxvDUec6Y9d2nsqbzusv+rBuok3OQ/ZKnSNLSjMP72L96rrssOIiSv9+vKYvH44c06aoypHtNZ26TX+GckxXP6KhXIxPagImYAImYAIdEMCBPUgi6vL6RPtEOaoiHedo/4ekW0vH46CyUuo9Eo5y6lUOz9a+aaXjYn/iDB8v7S7dEqvQ57K11N7LEm2eqnIiXTYTGCQB5qofIvE74yFRaKSGxtJDi3osArWzRGS3MBwh0ouflPaWyLiIGQ+7yJios7NU4TMSK+FyX+nC6HPKuOfgjLYx2qXPsShyL+1W9QcnFlVd0zO1vyoazDSLLnjDge9baDxIqDKczEFYFbNBnH8g5+jSkeV/vMwdWkPiS8qXnCdgf5/YpowfRPF0p/giU8aXtvhXfz5lfCDFUxn+5guE+AKTH89Ni3NSRr1vSydKuR9kub867D+e7NA3+k3/SQMjXYy0EMTf7Of8xY+76AN8+Zu20XMknqDwJeepGE9luDnaTMAETMAERpsA92rmovL/tW0lXveQY0SIjpCYh3dP5AD+37KfxIqfn5bWlOoiEOVm+P8PA2/+n3eaNIjVMPl/21vLnSj9zf8jj5Jy/9+baMbFJtCYAL8lHgjxO9tFIs03x3gIxDz3z0lkE8TsGBVeP1HntfqXMV0T4/d9uESqbDifvkk7OXXr7h91+6vOUeV8t223qk36UncvYZzN+Dpld2jHdlIXDiTfndCeGxYE2/hDg7C2n8cg+jYpzrGeeomTxxdwGLpY5617KlIGub42quYqdXENr5sUn6Q7aQImYAImUBDgYeQ6EgNS0ngZlIT/f2BgRoohA9e1pVh0SMVPMyK675ZOke6VwnaLbc55lUT7LFYzpzRIW1gne0CK9e/nKn/eIDvjc5lAQIDgBtkCpO0zd5OHULHvKg7vSRJzGqsietr9L6MeKcw4tgQk+K3H2i7uAT/RfpyoXKf6Xyfq4Y+q1GKizkwLaGML6qDUOPlM7Wv7uyfgFWNIGffZIkiU6vP82oGTmmqD+/Qg75Ffq+gLfdwydSENy/l/0czEuQi0wWXKW1cRWZ4C8EFVPSHpGi4f4h8zT1L0N3ewkdlsbbWun8rVdsAVTMAETMAEGhEg4kkElAEygyMGqC+W5pGYI8b/e4gA3C7hjBIlyjVS4H4gHS2RpjhNWlriPPz/mgE58/CIDN0nkb5bZDPpz4EZ/3/nemN2ggpz/98bO95lJtArAbLnrpHIeuO3w++T3ynfWdL3CbLw27xl4l+cs1zDYTpVOl3CUeB3urzEeYjE8d3nt3mDxFxYftNfmLvuAAAgAElEQVSxqJ2KJ50VjmK/O14Vkc2JKnKPZQ5zKksGX6TOGe7nNfH9qjIetAzCctgNoh+dnqMrR5YvzLCfBPA0vO7LVMCFA0+YB2m36mSxNLNB9sHnMgETMAETaEeAwSkLPKF+GwNrBtno7H433mN7DBaJAscMB55Bvs0ERoEADhIBA/S7PncI54nvOyID0DY8AtwveWiwUKILPGAcpCNLtkqVNU1Lr2ortW8snFguvqsPlsn0dTniKfj9KOdp3AUNGuJpDXNtB2kzdbIuBkCDvAafywRMwARMYLwILKvLJV06Zj9TIREomwmYwOgSILLahXXVbl1fyZLhoV/KiMinFtJLHdNL+ayag3PT2Guaqdw9No5sVxFZnn7tLO0mFWlVOM08hcBp5ENkLtCiE9v6pyfj6QdpHDiGpBcQjf1xgxZJBdtdImWE9GLmAawo9erckmJC5JUl30kJ4zxEieHwSWmqpJvoUmwmYAImYAJTnACDo62k2NiB6BeLPMXSBKerfHWJNGjm9t4o2UzABLojUDV+7crJadtur0E17iuXStybYgaLJSTmNA/CrtZJWMcgNV1xEPN1+SyG9WBhEIyHeg7+B0iYnyckK0hflR6bAJ6aqB0r5wnMydI20mIS6U69/hj44Mld50u2hcT/bGPnTpXxxb1IOlCiX8tJvEuPJ0F8odv+yHWozQRMwARMwASGSoD/n/GgOPb/QLKgYlEP/r/8w9IxPx/qFfjkJjD1CfA7JdU29jvtZbEn5gMTjIm1e6bK2y72xEOuWJuUce/IGdsvpXoEjFLtfE77BmX4EL+p6MtBfepI1WJPBNL4vKa8xZ6qdn3RRGj5siEiqJ+SWMyiyQq+PPH9mHSE1GSSvqpXGj+Av0lEUHl1D1/Gg6WqJ1s0yA2DeUH84JiH8TCFNhMwARMwAROYQgTW17Usnrge0op5KB0aU41WKhXOCit42wRMoK8EGLN2Mb4nGNNFQCbHUa0DdKcqnCOxonTMWBmZKY844r3aq9TAmyUY/1QKH85xH2TeNJmdMWMNITIzu8zK7OJzil2LyyYIvFL/EmFNPUmJle+v+l1/UEwcJ006dn7KiMAeJuGId90XncJmAiZgAiZgAkMhwMDreCn2/0Om5SyZ6NXGwTGvTdRzsQmYQH8IkPGYej1WrxFZgkexe0AvEVl8gFiblOVGZCFHJmWqHQJUqYdwHJtrTI/k9WjFeY5NHMhDP1KeY/0h9ZhAWa9WFZHlcxqLiGw/noL0+kFwPHNmzm3Y0Aaqz3LqXRlPtHaS5kqcgCjsB6T3S9dLfFltJmACJmACJjAVCZCuyOAsZjNVeHtkB1N13lkqZx7bJZF6LjIBE+gfgbrAStvxKu1W+Q1t261rM7fds9Q/HOqYkRny3pr+x44Ly5hru16p8IywwsT2Zfp3ZmIfC+b1w6mGS2oFZJjWfQ8S3XNxWwJb68DYk4uqsvL/INueN3Xcm7SD9IDY+a9Q+bqpA11uAiZgAiZgAlOMAK/cif3/kLIdEtfKOhHl/49+JFHPxSZgAv0j8BI1lYrIMv2tbTSQhVCZHhi7D/xS5W3nyK6daJPzNInIQpCxORkisT4SgFqZSi2NB3PfK7V9k/5m4dqUbaYdKV6000v6N44qwTSmWsaulWgwn5dtgAT44RGZjX0gqTJy07t4zQ957amFnn6tfesMkItPZQImYAImYALDJvAhdSD2/2IcVabhhEak4AelYxhAVw36wuO9bQIm0I5AVWoxY9tUpmHd2fidpxynmdpHqmsbm6GDYvcWykjdbeLwUXf3ivZwuNtePw532UneQ9tV0WQc+yMTfWGdoA2ltsYUjQcTbRcseZBoGzCB/Wo+lPCLzqt2UpOp23adSdikOYfnYptyfzHakvVxJmACJmACk5UA02hi/1/k4S5vDQiNBRzL8+k+GFbwtgmYQCcEqhzZ+3RG9rcx3hASuwdQxiq9bd+PGs6jL5+DgBWR0CbG6unHS6m+HqJ9vD2libEq8jWlNrleplvU2SKqkArS8XCvjTP7Fh13i5S6vqL8i3Wd8/7+E+B1PKz4W/fhlPd/pY/dIN3iuMT5L1f5Mn08l5syARMwARMwgclCgAhA7P/NLHwSDjRZIfS6Uv1z9Ddz1GwmYAL9JcDvqtDc+ptF13gFZCqllYjqjhILAc0jEZ3E8Sv/PplbyXiYMv4lk4KgUSq6yH2BCOOWEsEg+kG7HF9+yEW0lPYQ+2l3TYm3fsTuLZTdJW0ksSZOud266C9OJg/ZUu1yzuWlureSwGIliSmFRVtkobxeyrXVVPG20vHlPuEcr5rZEPdZnFiYpK6rXP571fusRP95eFGw99zZTOBtqrEa2E8yP6Diw/qt6vdj0SdSlL+eODf/Q16lzQX5GBMwARMwAROYAgQYCDHHLBxAzVQZ/+/GSLNj6g3RiqLevfp79X/u9n9NwAT6SABHEEfoSomx8M1SalXh8Hf7hOriXDG+JWJYjjDiWNEe7bL/Hok5l2EbsW2cPKKFRBtpg1ReHGWMV9ZQhm6Q7pdibcTKCHJxfUW7P9LfdYaz/ouKc+DoHSitLOEk4yji2HIf457GHNNPSGXHkbeV7DxRR/9kGyszc82xa5ulcjJecPxjTuZsKicb9PsS5y/aeER/zyptx9ouyh5QPVas5vtC0NDWIQGeNqRy8FMf0tt67A9zeXaT/iaF57hdZayQbDMBEzABEzCBcSVANCU2/YdX531a2k76rlR+ZR2Dzy2kqnlk48rT120CvRJgzmqugxmObcPtP6otHD+M96SG+9tuMyd3nol2uUe0bSc8buZEm3X/cO6DpNj4vmiTfTjIZJccIx0tsRpxOAeV+9n2Ul0UV1WihjNKu+G1FNs4+PT1o9LbpXdLe0mnSU8Gx+GQbibNDMpTbZfLyZixdUiAp77lEH7Oh3KSjimeCDftGv+DfZ/E/4zDc/G0ZvOmDbq+CZiACZiACUxBAi/VNRFhCf9fGdvmITArHdtMwAS6IWBHNo8rGZdEg5v6FuX72oU6/tVSWye26ClR189IREhj9826ssd1HFFkosWkV89s0c6UcmR5wjpqhvNIKsBKDTrG0yPmBZAe0cQI4W8pfUlidbGy8WXhlQI/Dcq9aQImYAImYALjSIA0YQaEDKR4yBv+fxMmRDdOlvaUiBrYTMAEuiHAb+0OicghEdW/SsyNLaK0ZDcyzkUEe4q0WQI4iFRaMhJx9NjHsRjt3ibhbNEu27RZjv5SjzZIew3bpU3KOSdRTI7D6B/pwfT3T1LRbpGFWfSX9mgjbJc2i/6SGp1rnOt46WyJMT/3sLUl2quzS1WBKO3hEtfSqz2qBvaW6M8HpDdIi2Q0SnozkdmDpasl2OHINjECdojPYcoYX+5RNCZgnyvN2aBz+6rurg3qU3UjiZzzBYLjmGPwvxL/sy5+2EEVb5qACZiACZjAWBJgALis9FaJdDkWdGGAxBywEyUWR2QAbDMBEzCBUSPAisVENNeRVpTINJlDwrHnvoWzydzg8yTSfZmL2oXxIGBeaTWJvuDQ4vfgrDMXFsd5lnSRdInEtI2yT8KDAqZzkMn6mIRzT9/pbyHa4Dj+xbfhoUIxN1l/2roiwP8kfyLVhdjL+69QfT7MXCO0Tu5+eA6+JDxJbpuqnHt+1zMBEzABEzABEzABEzABEzABE5hiBAj9N1n0ibqkDOQYEV+esoROLNvfkJqG63PO6TomYAImYAImYAImYAImYAImYAJTnECbRZ9OEJO6nPdFVediKebEHqnyJunMU/wj8OWZgAmYgAmYgAmYgAmYgAmYgAk0JcC815jDmSpjAvnLKk5CHnxq6WsWdZqv4ljvMgETMAETMAETMAETMAETMAETMIFaAiuoBhOWU45rrJx3LsWMlx2zSljsGBaWWjh2kMtMwARMwARMwARMwARMwARMwARMoAkB0oR5R2zM+UyVXab6YWSV1ci+k2iHRaJYfdFmAiZgAiZgAiZgAiZgAiZgAiZgAn0h8A61knJaY+Us+sT77Qrj/Vi8J7b8/qviOF4VsHqprv80ARMwARMwARMwARMwARMwARMwgZ4JMK/1KinmtKbKjlN93sPEO6E+LvE+prAuLxfeULKZgAmYgAmYgAmYgAmYgAmYgAmYQN8JfFUtho5o1TYv+yVd+N3S45FjWRSK1/s8o+89dYMmYAImYAImYAImYAImYAImYAImIAIrSzGHtMqZPVTH4NCGdZ5Q2fukZ5qsCZiACZiACZiACZiACZiACZiACXRF4Hlq+DQpdEqbbpNi/EmJlGObCZiACZiACZiACZiACZiACZiACXRKYFu13tRxLddnsae9JRZ/spmACZiACZiACZiACZiACZiACZhA5wQW0Bmuk9o6s7x+5wWd99InMAETMAETMAETMAETMAETMAETMIEJAizMdKDUxpE9VsfNbZImYAImYAImYAImYAImYAImYAImMGgCa+iEf5CaOLPnqf6cg+6oz2cCJmACJmACJmACJmACJmACJtANgf/uptnOWr1GLV/QsHXeJzvZrrPhJbq6CZiACZiACZiACZiACZiACYwPgf+ZZJf6pPp7kvSaBv1eVXXRLxoc46omYAJTm8AyujzeMz3b1L7MVldXvJrs0zr6sVYt+CATMAETMAETMAETMIGnEZimklukJunFR6r+ZHPan3bhLjABE+gLgcVb3EOa3G+mSt1TxGnevhB3IyZgAiZgAiZgAibQZwKTMeX2TjE4pyGHGaq/UMNjXN0ETGBqElhPl7Xo1Ly0vl7V69Tasn1t0Y2ZgAmYgAmYgAmYQJ8ITMYo5f/p2q9seP0Lqv4W0tcaHufqJsAc62dJ/FZIueRfxEOg50ssJPZCiVWxF5ko20P//lWyjSaBR0ezWyPXqyfUI7MauY/FHTIBEzABEzABE5isBIim3CU1Td8jiovDYTOBJgR4/zDfnculGyS+ewzu/y7FvoMXqtzvKxaEEbY51DfmzP8l8RnGPtepVsYDwX9MiO/y3yQevhR6QH9/Xirmy+pPmwmYgAmYgAmYgAmMDoHJFpF9mdB9U1qgBcJX6pjlpQtaHOtDxpfAurr0pcf38qfklT+uq9pS4n4ySos94VxiZae5vF3sL8rK9fmb4worb1NePrY4vqhbPq7YRxbC7yLH/esE/sMETMAETMAETMAETCCPwMKqhhPaS2TkYB0/GecF5xFyrS4I3NjwO+eIbBefgts0ARMwARMwARMwARMwgRKByeLUvVh9Pkhaq8dPb30d3yaa2+NpffgkJvCMSdx3d90ETMAETMAETMAETMAETGBIBJjXergUi8RepHLmK8b2pco+MKTr8GknJ4HF1W1S0nl38Y7SYdLDUur75Yjs5Pyc3WsTMAETMAETMAETMAET6BsBVoXdX4o5DZeqfBnppMT+2DGUnSHN3rceuqFxI0AWAw5tMQcx/J7ZkR23b4Sv1wRMwARMwARMwARMYOAERnmxJ157sov0oQiVa1X2Puk66Vhps0idVBHpyStIRHNtJtCUAA7s0dKHpSWaHuz6JmACQyGwmM6671DO7JOagAmYgAmYgAnUEdhTFa6uqxTuH1VHln69X9pVCvt4m8pID/7NxMXM1L9XSTinOfY8VXqndIkUruSZc7zrmADfmz8YgwmYwKQhMJd6+qZJ01t31ARMwARMwATGi8C321zuKC72RJ/eIfEOw+cGF3WvtneSzi+V36e/SRduYhuoshd9akLMdcsEeO/mn43EBEzABEzABEzABEzABExgOARG0ZHdRChIAWORp7KxwM67pdOCcjaPkh6LlKeKltSOjVM7XW4CNQSIyP6lpo53m4AJmIAJmIAJmIAJmIAJdERg1BzZ9XSd35BeElzvk9r+X+nMBIcbVH5uYl+qmDQzFpOymUAbAv9oc5CPMQETMAETMAETMAETMAET6J3AKDmyq+hyviVNDy7rr9pmAvChUsp5+JP2HRccV7e5tiosV1fJ+00gQoCVij2/OgLGRSZgAiZgAiZgAiZgAiYwCAKj4siS6vsdidfplA3HdT/pQOlvwb5w82wVXBMWVmwTjWXRJ5sJNCXwjKYHuL4JmIAJmIAJmIAJmIAJmED/CIQrAvev5fyWFlTV70qrRg45SGX7SDkL6xSLPr0s0k6q6DXasZB0Z6qCy00gQoCIrM0ETGDyELhMXeWVbjYTMAETMAETMIHRI8BCqpPO5lOPT5ZwDEIdrrIXNbyilVX/8UhbYdvlbd5HazOBJgR4hRPztWPfqwtV/oImjbmuCZiACZiACZiACZiACZjA5CGAk3qEFHMGcG5xcpsar+s5JdFm7DyU/UKavemJXH+sCdiRHeuP3xdvAiZgAiZgAiZgAiYwrgRwHJn3GnMuz1F5L+943TrRbuxclP1BWnNcPwhfdysCPDBxRLYVOh9kAiZgAiZgAiZgAiZgAr0TGMYcWZyAXaX3R7p/+UT53ZF9uUVnqeK1Uu6KxETX3iVdInkl2lzK413Piz1N/s+fhe7mkniYZXs6AeaT3vv0YpeYgAmYgAmYgAmYwGgQGLQj+yxd9o7SJ6RnBgiu1zbOLe+E7cUYfP1SynVkOderJRZ9ur2XE3dwLA4Tjj/ONp8Vg28G3qzm/BeJ9+uGrySaTWXTJeYK93sgyufHas/0h8+PwS6rSdMH/qVPvAqJVyb127h+zvsciX5wfv7lXJyfSeJ/lIiwT1XnhOuHP58xPLhmuLMYGtc9KSfKq9+DNn5H75XeLvld0nH6/IZ2li6I73apCZiACZiACZiACQyXwCAdWRyPd0u7S+HqkawajIPLypK9GgOwo6Ttpdy5r4up7qYS6c7DNgbZzA8m3RkHm1cT4WTPKeHU4rThwBK1vlE6Q2Ke7/0SdT4j7STdJr1CwqHtxXAWOT986BP9WVh6oVQ8jMB5fVTCceazvEo6XbpaekJqazhuS0mvk1aUpkkvkbjO4rMteDymMq75Fuk8CS4PSF04d4N0lGGwtLSFxOcJj/klfkM8OHhYuku6WbpIOlXiu1H3uipVGVvbRFf+VclObPVX4Nvaze9+VnU17zUBEzABEzABEzCBqUuAyOLbpAclnICycDYYpPfTGPz/PHKu8Nzl7bNUf45+dqJhWziwOCn7Sbc27DvR7F0knMfimnAscXjaGg85eCXSoRLOUhW72D4cSJhuLDV9YAKLtSUW7sJZi7VfV4Zzd4C0qER7/TS+X13PkcXJ4nfB97gJA35jh0jLSf2+7n4yHGZbH9XJ674/3v9PRjj9NhMwARMwARMwARMYWwIMhu6RwsEh0Toip10MuN8TOV94/vI26ZnrDukTIuq5o0REM+wj/bpOOlfCebpYIuoY1gu3e3Fk51b7e0tEOcN2m24TPSZFMfczLh56PJQ4N/OYSaN9RCIKzXeoqk+ki/MdC7MAVNTaunRkuf5lpRMkos2xa+M7wQMgoq6x/ZSxf1ep6UMEHTLlbV1dYT++2yn2U6Wc3w7ZADYTMAETMAETMAETGDkCgxjkvkpX/XXppcHVM7dxL+kIqYtFlki3JfWWVNgcm02VtpEukHAgBmU4WF+SPiaVnb3favsw6TSJiCjpu3CiPp/bEtI7pXdILFrTL1tBDX1T4nOL2ZUqvFBiYS4cSVjh2JHyu5D0eml5qTAii1wfEdLjSuWpP3nocbD0gqDCNdr+tMRCXkQoYcG5eQjwYmmGtKX0SqlspEF/R1pNIhIHx16ti+8rfeLz31zi90K/y0aEm+8CDM+X+P2Q3r2WtJW0gVS2ebTxRYkUbPgzf9j2TwJ8f78g8fsZ5G99MvHnQdj+EtkeNhMwARMwARMwARMYOwKr6Ip/J4URChyBfSXmfHZlRLYOipw77Et5+w7Vn95VhxLt4oSEkTWc8EUS9cvFOLQ4aDh54XW1iciuo3ZuirRF20RndpBwnmAbszeokAhs2Be2+R7g7FYZkeBfJY7nO1MX2SU1/FMSTlusD19ROU53r9ZFRBYn9sNSLMIMexxcFrqKGc7qJ6VioavytcPtI1Ixnzl2vMtMwARMwARMwARMwARMwAQmCDDf8zIp5lB8X+WDmI9KdC42uI/1qSgjHXNQNp9ORNpwuT83aJvIZhNjESCc8HI7TR1Z2mChphgbFm/asKZDRFBT80aLNnHaq+w1ifMXx8MKZ7fKiNDykAQHLrwWynaSctOcU+epc2RxLJsY/YFN7Lv6e5UTaa4zrvtzEhHG8LpJ0165rgHvNwETMAETMAETMAETMIFxJ7CYAJwnhQNqtk+V5h0QIByKMxL9iPWNMtIO+5mqW3WpRDjDfuCEtTHmgZbbauLILqpjSdkN+8I20UAi63VGtJVU41gbRdk+NY3sUnM8jijfrTrjcz8x0RbzkMupz3VtxfaTSZBy2vn+hGnRsTbKZUTVY/Oj4fYJKRUBD9sljfskKfYZ/EjlqYhu2I63TcAETMAETMAETMAETGDsCKypKz5Xig2mSRudPmAivJs21pdUGXMRSZHt2pjrenykb+9ueWJSfq8otZfryOL84OTEeOA4bpPZHxxZFhiKtVOUfaOmLdKCq45n3+I1bRS7SZOORSdp40Cpl1TbuohsE0eWzISUU0zKOHNdm9gaqsz82ZDjn1XGb9NmAiZgAiZgAiZgAiZgAiYQEHi5ti+RwkE027Mk0lcHbQvqhKl5n7F+UoaDyeJPXdqcavw3UtiHN7c8KVE7HLSivVxHlpTWWBou7Zwj5aaA47z9MnI95evbpubaSF8OeZS3WXgmN5pPv1Pfxbu1L1x8rKZr/7G7n45s1YMWUoWbGp8Dn1uM4/dUPogF3pr22fVNwARMwARMwARMwARMYCgEGNizem6Vw8hCPcMwHLxvSbGBfarsYdXHKe/SmB8bzmulP0dKbZ1oFgsqrinHkWW+6eWlY0IepCs3sTepMpG/sB22Sbmtiy6+SHVOTxxPdHU3qUkktWqxr43VVlvrV2oxPFidOsaLBauYZ97GPpNo8zaV872zmYAJmIAJmIAJmIAJmMBYEyA9lvmTpKamHBgG6ezLTQntAujqavRJKeYwpMr2V/3cuYlt+swrY4gMhufHYcMRaTOf8Y2l9nDGiUZXGdHY8PzFNosMNY1a4mQyzzW8rp+rLDeSykJXrNpcTgvmdTswaeLEqvpTK/mmru+9VGhp/YrIblPRP+aYN100qric9SraXb/lNfswEzABEzABEzABEzABExgZAm3TDJkPScRyO4mVZkmTrTIijMw7/VpVpY724fwwDxTHjn9zbXNV/I5EOmsX9jc1ymqy8weNs4Lt7hKO337SPRKpvzl2iip9XOIBwy0Sx6aMz2TL1E6VE6klqtvEcD75jI+TSCMnwlrMBeZac+xOVaJfy0hEJDn+CekkifabWFX/cUa7MpznOiOqW8X/Wu3n4Usb+50O4vseW7SM1YvPbtOojzEBEzABEzABEzABEzCBUSFQ5cg+S53E2cGRIDKEs8rrbIhuriQtL+F05dpHVZGFlH4iPSYRpcWZ67fhoNAvnNaXSW+XcKJzI4JFf6bpD1KSccwKp4LIIH3GoUK5DmbRZvlfnLNrJDiGxufyYQln+mTpTAnHknRTnBs4xoy+fTW2I1I2j8rWiZQXRVfrjz9V7E/twonDGUUYn0VTTrD59YRog8h4jnNI3bKx6NGgjb7mRPLnVr1XVXSOlOO2xnUTFY85ssu2bdTHmYAJmIAJmIAJmIAJmMCoEAgdWVJR/1diAIwjiF4gEYElzTSsr6JsI2X0GxIOLZFCnGQiiLySpR8OB2mym0g43KTlMhdwCamXPpOGie6X7pWI8OHc4TDiTNJvnC7el3uI1CRiSBtELnG0U7awduw0ocf1703SbdLNEgtF4eyxUvAfpKa2ig7AmUoZ72zthzV1YmPnzHViefjCgxc+cxzoqs++yUOYsE91/anbT3s8FJojbLi0fVfN/opDn7p2vrMx47dsMwETMAETMAETMAETMIFJTaA80CeKtIfUdIGfpgAW0QEIY8D/bQlnrBejvS9JOH5dGE5x1SI5b9V+oqssaNTESPH8hbRRxkE4PTifqDAitBdLRLlxih8s7av7c7WaCrfW7B/mbhw1ePDQgog2UUa+A0SZeQhDBsHzJB7CpKzpfNtyO/xWqhzhnIgsKb5V9nntbPuAh/MXv7HwHLymyWYCJmACJmACJmACJmACk5pA2ZHFASAVd5DWr/TiJdXprpzYHB6PqNIdORWDOkRZd5OWk+oWZoo1j7O2wYR4jQsRbxbeyplbSYS8yu6r2jmEfURaSQ+fIa0nMUeb72ubRbHofi+ObF20l/brjNT1KiN9vwurigJ3cT63aQImYAImYAImYAImYAJ9J1B2ZHEScKgGaczjw5nr1VbotYEejyflF2e2jTH39YPS9yRWMm5rRCZJb36DRPo2KchVRvQyZUQCifaOgvGAZX3pLdIMKXeuMynNpG+Twh6znKhp7DjKclKHU8cW5USTh2Gk9dtMwARMwARMwARMwARMYFITKDuyODbMiR2kXa2T9WMOJamlwzTmrOZEQVN9ZK7wm6WvSHUpv6k2inIc2UUl/q1yZonmpgxHth/OWqr9nHK+i1tKH5bq0nBZhIs5w1dJzFdmoSQctq0lUs5jVjV/NlY/LEvNh8ZBznGS6yLJXDvzsvtp9KurVbj72U+3ZQImYAImYAImYAImYAKVBMqDeRyBH0os6sQCRjgHpP7i1DBoZ3EjnM5C+vMpY1+xn39ZcIe0Tf5lsE5EjL85VzHIp+1Z0jelfhjzCXEkWciGRW7oM/3lfDhkxb/6819ORlFOGX/TP/pd/MvfpJCWRd1yW2wTid2TP3q083U8i1WRIvxeqS71t+p0pNzuK71bSjnYVam1XPMwjcyAPaQ3SSmnkGjrudLPpNOluyS+t2WrmnudajdoIrpZfOejO1WY8xCg7vxXql278TkAACAASURBVJ1bUidwuQmYgAmYgAmYgAmYgAmYgAmMEgGcSJzYD0knSLdLOEZNxQOHrSsu7MyKNjl2WsWxXe5aQ42zYnLqekl5PlQics2iTlW2XUU7vTx8IJqd4sfiWznzUHHAU9dI+YpVF+Z9JmACJmACJmACJmACJjDOBHpNrxxndl1dO07knRLvsGXe7IukxSRe18I8WBa24t+qFXm1+6lIJmm5p0kPUxBYGL0s7+bYHGcsbLPXbVKIj5NS0ejbtG9niWsiIltnOITDsJzzxj6Tcl/rnPRhXJfPaQImYAImYAImYAImYAIjQcCO7HA/BtJ7SVNNGSnSpEojIn04mDg4LIC0nrSp9FrpuVLMVlXhWhJzcEOrm385vw5gDvOgjAjwUVLKiSXNlggzHEbZ+IxQneGUV1kvC39Vtet9JmACJmACJmACJmACJjDpCQx7LuSkB9jDBeDsbCPtL+0n1UVYORWRPiKpt0uHSW+X1pV+KaXs9Ykd1yTKi+JBrmDNq3V2k5ZO9Il5vttJTZ1Y5mZ3Zb3+duquZamuOu52TcAETMAETMAETMAETGCyE3BEdnif4KI69R5SEYHkva1fk3LSUoteE7G9VGJRp+9KRGdDIxU5ZheokGhwatGnlFMZa6vXMpy2d1Q0cqj2XVSxP7VrttSOSDnXO/dEOYtE3RipUxThxDZpO9YUi6sRFWdxtZgtHit0mQmYgAmYgAmYgAmYgAmYwD9X5DWH4RBgRejyK1hW0XZOSmqst8ypZbXjWZGdqfeu3qG6OMEpoz/9etfp89UWTiIp0THbWIXUiRlzYZkrXJWCHTuOMiK9OUbk9ssSzj36Qs1BOLKph0C5nyHO8jkV51lJ+/rFn4cVC0rTJVb2tpmACZiACZiACZiACZjApCbQa3rkpL74IXcex6zMH8eRhZ3aGs7sqZGDeQ1RzB5TIa+tSRmr5qaiualjYuWs8HukRCotjvNmkUovj5QVRdfqD5zuNlaVrh06nOXFo3Ki4qnfTthuqt98LnBJvUeZBb0WTh3csHxz1ecdu7zv+EcNj3V1EzABEzABEzABEzABExg5AqnB+Mh1dAw6hNO4dg/XifOF0xfao2FBafsI/f37xH6+GyyulEo9Thz2tGJSZEl5XkJaVIpFXqsij/foGN473MYWqDiofF2h4xpuh83U7c91Zi9Uw2eFjU9s07/tpV75E23GkYUxbbWJbCe66GITMAETMAETMAETMAETGA4BO7LD4Z4661bakZsOG2uDObOh4QimjEgnabspe6d2LJfamVGOQ8c1FSnUd+nvmRnHlavQRq5jWD4Ox43X+aSsvBAUv4Oyw5iKkhZtVfWnyW+Khbv2lUgzj9mbVTgttqNBGfOPWd26sJ82ONZVTcAETMAETMAETMAETGAkCTQZdI/kBUyxTr1B17NaD9cUm/9ISm/KiM4dKLHwUMxeqMLPSqQHtzGcMJzhwnhHLItahcZ80ZQRxW1z/vV0XJUjW35PK45p+QFC7IFA2L+UM0t5XcS23BZzcg8OG5/Y5vPcT2r7Tlmc9Y9IfI4YDxKOn/jb/5iACZiACZiACZiACZiACZhAYwI4KThwOD1lMW+1KtU2dSJW0T05aOsRbRORq7MZqvBwcGy5T0QNm67SSxT2sFKbd+rvRaSYsVBVyKG8vWXsoIoy3oF7WU2bx2h/EYXFUbyoVB/nvsqYe/vrUv1yX3ko0HSuMwty4dDGGPCw4RNSanGpVD9xqFkJ+k+ldv9Xf/vhVYqYy03ABEzABEzABEzABEzABGoJ4Mg+KMWclyNVPk9tC/9ZgQhk2Wmh3e9IOQ4QDt02keOLvrEQ0h5SbmSQSCDOF05Y0cYH9XcqismKureX6oZMrta+xaQce7EqkT5b7nvYHttEqovrwZEkUlzU+0zNiaZr/w2l+uX2SddOOexVzb5MO1mMKdZXIsS7SnNUNRDse6+2SSsv2sNRbvqdanA6VzUBEzABEzABEzABEzABExgHAlWOLM7HURKr1qacv4IREbZ1pdCxmqWyJvNbcWZ3lv4gxZwpykhLZTXdKueYaDKvsvlzqR2upcoJ4xp2lJibmjr3TO2rii7DCWf3pFIbD+lvUnNjbeIcfkjCuSN9uqjzpP7GqSxse/1BPfQp6RDpOinWZlF2ofZ/U8Ih3kXi2naQ6uY/k1Z+S0XbROvXkp4vpYxoMecqPyQhGr5S6gCXm4AJmIAJmIAJmIAJmIAJmEAugTpHFqdolrSXtIKEw4UziKNC6upLJaKwLNbEysRlx+qP2iattKnhUL5Nujtor9w2r+05VsLB4xU9C0lEVHl90MelS6Ry/V9pOyfV9rmqx1zRKmcWJw9ne7qEwwwL3k2Lc723hMNWnJsI61slIrTXl8rLfcOZ5Zhy5PgAbZcdzlSUtMqRje2DKX2pMzim0pZpl+j4L6U9pNdLr5CWldaXdpPOl8rnJ9K9rmQzARMwARMwARMwARMwARMwgZ4JxBzZmWq1PFezcEj+rnKcOJxCUmKvklJpyZRvI9VFclUlahyHM0X0L+aQhWU4gzhXYTkO6dES15lrpCQTwUxdW3GOx1UHBjjNN0plR5Q6vIbodRLXguAR62PY55+pHs5x2Wg/rNdmO9eR5dzzS9+R/tzjueGzavli/LcJmIAJmIAJmIAJmIAJmIAJ9EIgdGSZ10kZEUaisOU5mzmOE07PCRIROtKEezUcuvdIl0o55y/XwcncVpq9RSfoO6m9h0q8nqbJuUmLPlJaLDgvEVZSjHG6Y+2xKNY+EuxDuylxTKydqjLmq+ZEZIvzz6Y/XiOdIqX6nTof7wbeQ2Lur80ETMAETMAETMAETMAEphyBtlG7KQdiCBeE04TDt4B0uLSzxMrBGM7cNGlbaW2JCGk4xxTn5i6JiOHl0onS7yQWfOqnkcJLH7aQmGe5jISTFRqO92USc1RZPZmoai/GOaZLpAevI5E+S6QyNCKdV0tEq4+TbpVw6kOD6SbS1hKOLmnUOJf0+RgJh5WobWi8vobfCU4yKdvFv8yl5TxEg0mLJn2aucO0W/z7nIl9zGml7JvSX6Qm9jxV5trfIvGQAic/tmjTQyq/UjpL4nrulOibzQRMwARMwARMwARMwASmHAE7ssP9SHHQiJqdKRF9jBlRTd4DiiNLXVJ2caJwXHCkCsdKf3ZqOGj0gf5Ml3BwiXQWDvW9+pv5s/12pNXkU4sbcV4i1nNLOI2PSzixOP/8nXteHGQcT7778Ms9TlWHbjBAOLI8AIELzjXfBR5qwIHvg80ETMAETMAETMAETMAETMAETMAETMAETMAETMAETMAETMAETMAETMAETMAETMAETMAETMAETMAETMAETMAETMAETMAETMAETMAETMAETMAETMAETMAETMAETMAETMAETMAETMAETMAETMAETMAETMAETMAETMAETMAETMAETMAETMAETMAETMAETMAETMAETMAETMAETMAETMAETMAETMAETMAETMAETMAETMAETMAETMAETMAETMAETMAETMAEWhN4RusjfaAJmIAJmIAJmMCgCDxXJ5pbmlOab+LfJ/Xvg9L90kPSH6S2NocOnEdaQOI8f5N+Lz0gcY5e2tbhNhMwgUlG4Pnq71wS9wPuDS+SnpC4JyDuOX+U2hr3Mtov7jl/1t+0y32He86f2jbs48aHgB3Z8fmsfaUmYAImYAKTi8Bz1N0lpTdKa0hLSAtJzypdxv/T37dLN0hnSCdJs6T/K9VJ/ckYYGFpK+nV0nISTnLZ7tDGtdKJ0s+ku4P93jQBE5g6BHhgtoz0Jmk1aXFpQel/SpfIvWWWdJ10unSKxH2Ce1Gd/bcqLCK9U1pf4p6Do1y227TBPed46RcSjq3NBEzABEzABEzABExgEhDAUV1dOloi6sEAMVe3qO7uUuiQhpf9QhV8RMIBzm37MtXF6fVD8JCmt01gchN4trq/jvRj6VEp955AveulT0qhQxoSIfq6q8Q9Krf9i1R3M8n3nJCmt03ABEzABEzABExgxAi8WP3ZWyK1LnewF6s3U8cTxY3Z/Cr8ofR3KXZsVRmphZ+SZos17DITMIFJR4D7wf7SY1LVb79uH9HZVRNXP03lP5GI5ta1E+5/RMd8SCpnoiRO42ITMAETMAETMAETMIFhEFhKJyWVLhzItd0m3W/T4ELm1faZPZ6DeXEflcrphsFpvGkCJjAJCLxcfTxXanuPCY+7WW2tF1w30yEu6PEcj+v4zaVnBm17c8wJOFQ/5l8AX74JmIAJmMBIEHiZekGUlIFlaEROSeu9XLpSumeiwtL69zUSc81S0QrmtJIOzGCVdGPmnb1KKhuDUfYTMblV+qvEwi7LS9Ql5ZC5bWW7UxubSFcF5d40AROYHARWVDePkbiPhMY94FKJe85vJe45OJHcpzaUZkxs65+nGfeQt0rcs4j2niyFkdp/qOwsiTn9PHDjfKQeryDNkNaUQrtJBa+TcJZtJmACJmACJmACJmACI0BgWfWBxU3C6AZpeERocRhZ4TNmz1fh7lJVKjIDSqK935LCc3Acx+O4hsa8uRkSA9rwOLYPkkIHN2zD2yZgAqNHAMcyNleVh2Ys3rSRFLsncCWscP4JqSoVmQdjLE53uBTeO3CKOZ52QmPKAufmgV14HNv7Sg7ChdS8bQImYAImYAImYAJDIPBSnfMcKRy0sVLnzlJssBfr5qcjbZTb5By83qJcxjlYPTQ2MCSS8k2pykEmUvMSyWYCJjB5CExTV38lhfecu1T2fmn2jEvhnrFPpI1ym0RceY1XuYzo6xaJ9unXwdKjFe2y+BORW5sJmIAJmIAJmIAJmMAQCTBgPEwKB5SkzjGgjDmYqe7iUPI6jLCt1DZO7XaJc/BeRwaMqWOL8r+oTiwtMdVHl5uACQyXAFFWpheEv+3fqWzrhl3j1V1MMQjbSm2zUNyWiXMsqXLSmFPHFuU8WFs00YaLTcAETMAETMAETMAEBkCAlFwiruHKwcwv452uTY2Fl34q1Q0Ei/0/UF3eUxsar9A4rUE7bfoantPbJmAC3RPgHrG7xJSF8n2C1+e8ssXpeefsL4O2qu4/B6hubC4/D+FIRa46tthH31dp0VcfYgImYAImYAImYAIm0CcCLGZyn1QevLG9dg/ts1hUzmCQBaCWSZyHVONwoFvVJvPZbCZgAqNPgIXheJVN+fd8u7bDhZhyr4SHcScG7aXuFWSZTEs0vGNmG0XbbfubOL2LTcAETMAETMAETMAEcgkwxyt8zQ7OIwug9LJ4Uq4jy6JPsfMQLYmlHaYGp0STV869aNczARMYGgHeT32hVP4ts1LwDlKTKQzlC2jiyO6duHKiuj8L+pW631D+pOTpDAmYLjYBEzABEzABEzCBrgnspBOEUU8iGy/o4cSkDbLaaNUgkH28A/YVifPMo/JfZ7RRnONG1V0w0ZaLTcAERoMAjupnI79rHnzhSLa15+lAFnSqu+c8rDrLJU7CYnfMz61ro9h/herilNtM4CkC/I/PZgImYAImYAImMBgCOH7vk8pREBZB+YrEv20NJ3jejIOvVh3m4caMiCyv88k1Vj4lHbqJvVaV15O4fiK6e0osPGUzARPohsAianbboOkHtL2f9KceTsk9J8ep5FU6rFYcszb3HPpuM4GnCNiR9RfBBEzABEzABAZH4C061cuC0xFJvazHLrxQxy+c0QaOLBGSmPGqDN4NmWO08V0JZ7SJvVGV3zNxAIPoq6QTJNIcR8E2Vie2l46QLpCKV4H02jcW0WJBHVaGJYr1PYkok80EuiawrU4QrvRLBsi1PZ44956DI5t6SMc9h99Yzr3rXtXjd0M2Sz+Mxe5wxNeQmCLBK8dYSf6ZEiuycy9kVebfSESCWTG5i4dub1a7vJLoMImMGHj0ajwoJMNmHYl1D46Tju210VE83o7sKH4q7pMJmIAJmMBUJDCnLmrz4MJw4L4tMXDqxabpYNL06uxsVUg5UDinONR1K5jivH5fIiLbxIi+MD+4MNIaD5Fw7mmLVGUivMWAkQFredDK3wzQin+5jiKyXf5bxUmriyC/SkfyihCE03+edIYEFwa2ON85A+nZVI9XnSwv4RyzKFbxAIPBO9ed+hy0y2YCfSEwn1p5XdAS80wPkpo+hAo7xPc5ZzrEmeGBpW1+67x2Z4WKOuziPsncft5d3auRdbK+tJ1Edgi/0zpjkSwebPHQjVXd6Xe/bF019HbpbRJOM/ecX0hcK/ccnOecew6OOf+PWVEq7jlL6W/sfsmO7AQM/2MCJmACJmACJtCcwGI6JJyfypN+5oj1amtlNMDgiyf+KWOwxCsyGNwVTldYF4d7f2k36R/hzpptHFdSq8vGPDuc+9DBpw4OH4NtVDi1/FvMlys7gjlOIZEWIi9EWVJWfj0ITij6kISTf41EiuTN0iyJKBOinwzoZ5e4vsWlhaSXS0R5YvZsFXYR3Ymdy2XjS4C5qTg2ZeOh0a19QLJ6RhuzVKcq8stv5+vS2tISifb+oPJ9JRaMynHoEs08tcAdDvMe0huk4iFYqn65HAdx0wnhYNLnH0v0rVfjoRdGf7g/oY9KpFDD7naJew73Hh5C4NxyTyQizj1nYYn/t3DP4bOOpXvTNvc2eNtMwARMwARMwARMoDGBj+iIshPG319p3MrTD8BBY1AVth1un606ORGU6arH03sGuzirDH5mSadKRA5wSNsYAyzSA8N+DXJ7kZqO48h32Z9Zan+1mj54twn0i8Aeke8zD6F6NaJ/P4+0Hf52mDZROGpV51xGO4+WcNq45xCBvUU6WdpCymlD1ZLGPZJ71z1S2Mc22zjUP5Lq7ifJDpV2HNanPqWu4wa1n3owmdO/ka7j1OKR/njcORMwARMwgSlCgCfiPGHHKSyifkTzLunD9TEXqkghq2qOtLXUXLXycbO08S4Jx3MOiUEbkQciuqx63NZIK35J24MHdFyTKE3TLt2tA0gfrIqKN23T9U0gRYDvMqn0OIY4chiZBf34/s2rdpaeaLPqH85FFkedXacK75ZIheZhG/ccoo/cc0jn78WIxO4kfVEiA6Qw7oWnS6TykhXDNhFOMiqINm8oEe2MGWyZEkHWxTuly2KVMsu6vOfwMIB+kk0yJc2O7JT8WH1RJmACJmACI0aAp+XHSAzMSFNjQPmIdHkf+klKWY4je1aDcxERqUrBbdDUv6oSdRmm4cjXDYq7GlSSIvgeqR8PLobJkHPzQIKHJ12xGvb15Zwf52iWVPd9ymmrqzrcc74r8TtmXuhDEvedK/twwiXVxvSadkh/bXLPIdWe9Nl+WuFwhk4sc1A/I10lca8r2znaOETiQd4HJNJ8eaAXM+67ZK/w4O+iWIWasi5/QzjX3HNIhbaZgAmYgAmYgAmYwEgS2EW9SqWVFeW3qU4qujCoi9o1o59119F2/6M693oZF3pgB308SW2m5v9ldGmkqrxUvTlTIjJPlH6cdb6uf4GR+nQG15m9dKq63yJRQL4vwzTmxN5V6iuR3kMlHsTkGI7mJlJdSjIPB6blNBjUof3DpTqWTfZzjTw0bdOfFpfgQ0zABEzABEzABEygHQFSBpmrVTfQYX5rr/PM2vXw30cdnNHPuutou/8TOneRXll1Hf10ZImEfUzKmZdc1adR2tf1HOK2n++wjtt/lD6cAfWFhcpOk+qYc1/K+c111W3SiH8c9PMb2k5FV6v6wYJvPLSpumYc0qbrB/TbkSWVeAeJCLzNBEzABEzABEzABEaaAOlvpI5VDbDY9/khXwWLw+QMfuuuo81+BrO5zmQ/HFnSI78qTZdIQZ1KhnPe5jOYqsfw3Ro3Y2VuHKa6z3TnIYN5jc5PenPRzyv099wt+8S6BnUPcTjX5g3b75cjy+fxJYkMAdocG/Mc2bH5qH2hJmACJmACU5AA6cJ1i66QavbLIV87kQrm8paN1MNbJSIdzDVkURjmq7EgFoNC+v0PiYEof/Mvxr+pwdqq2rfpRD3+uVH6lJSzyFXpsH/9+bj+yong4OBdKpF2Syox722kz1PNntQFMZeRBxPjbnxv+bzHzbjfLFpz0fyWm8yPrWmu8W4cz22lckSY+cEsfHSGdLvEPSbXuCftI71eSl075yJyy72W30lby73n3KYTcM9hvi8PCVlMcCrecyo52pGtxOOdJmACJmACJjDSBGaod6T6VdnN2skT+2Eajuy0UgcY7G0tsfgVg69+DMBepnZY3KQwnGNSinu59m11PKsNM9eOaAdOLbxpmwEnA2JWPMWRZR5uuHCMiqaULa+rYfGbGdIoL3TUNXQepvDAgrmI42brZ1wwv4l7M+p1VYUFyWYEjW+gbcRDJlKMvyw1cWa5nuMlHoylbD3tWE76VapCRvlmqsODAO5nC0qzS9xzmJfOAzkcWB4C0h8WDMTJtpmACZiACZiACZjApCLAw+hwDliRRlf+lwF3nbPb9YWvphOU+9TvtMMXqX1epVE+ByuVEplpYmFqcTm626Qd1zWBqUiAB1I/l2L3mXLZUaozzLR6HMqqPvLg7ONSKrMj9dktqx04lFVt4yDnWiy1eK3cg11vuF8y8zcBEzABEzABE2hPYF4dWpdWTOuknw07UsgAsDAGgeeWtnv9E2cVx3ijUkOkfO4nOVrRK10fbwL/JjCf/lwmA8iFqtOPLIuMU0Wr1N0XcSC3lZrOmSU7g2hola2knc+vquB9/SMwzKcl/bsKt2QCJmACJmAC40dgui55qZrLZjDZT6ex5nTJ3UuU9tymv+9I1my+AweWVxAVRrovqwWT6mszARPoHwGc2Gk1zZFyfkFNna53z5NxAh6u5S4CVzRHai9p01W2pHbaka0i1Md9dmT7CNNNmYAJmIAJmMAACczQuerWurhJdXqZI9qPy2GsMb3U0NX6m/ml/TDaJfLKqzYw5pZ9Urp2YrvpP0SLbSZgAnECOfNjr9Ohw5wfS89zUoap09SR5cEg8+GrjLn0xf2oqh77fL+pI1Sz345sDSDvNgETMAETMIERJMCc19Uz+nWD6jyUUa/LKgzqyisWM9DF4ezViHrwyolyGiGLuJzYQ8M5A+AemvehJjBpCfB7I222zkbhnpPz8O4xXUibeyMLLFUZqxe/sKpCaZ/vN5mgUtXsyKbIuNwETMAETMAERpcAc9XK805TPf2Ndgx7fiwr/ZZTi/uRVlzMcXtb6cJZCZlXZPQyL9YRktQ3yeXjTuDFAsBKunXGir3DnB9L/5hOUXefOUd12jiyOa/WyV1cz/ebum9Tzf66lKSaw73bBEzABEzABExgCASYh7V4xnnPy6jTdZV7dII1peKdjnUDzJz+rKJKn5OKiMZd+psFn+qiJXVte2BZR8j7x5XAyrrwl9RcPA/NWOhp2MY954vSAdJskc7crrLPS7wTuanlzH8l2ptrvufkkorUsyMbgeIiEzABEzABExhxAhuqf3VpaQzWmCPbD5tfjeCIksn1DwnHsYnd1qRyTd05tZ95sUSlMaI/n5GYe9ur1THttX0fbwKTlQDvYK0z7jdN7w2pNrnncL/hvsP7XlkxONe4J3xP4t/3STjhtHO/dLbEK3LIVmljC9ccxDly1wDgfuN7Tg3Qqt12ZKvoeJ8JmIAJmIAJdEeAJ/u8lxEjXY15ozlP55lzysCszvo1V21jnegr0uwSKXOk471D6ofjWHcN4X7GLaxQPKO041j9fVxYseV2TkokER7SpV8qkW7J33+QGMA/IBEVHnY6t7pgM4GnEeA3zD2Hh1G8DzX3nsN7mpd/WmtPL7hZRW3SdcOWmDLwWYn+PkvCOdxCavJAjHvpD6SfSMxZ5br5baI2kVgd9l/PkciGqTLuu9wPcow+5txzOG/5ngMXzsHCUw9KrNA+lvccO7I5XzPXMQETMAETMIH+EODp+yLS1tIrJV4TQRkDtXOlb0m84qHKiETmzFVjQMVgtVd7pxpYrtQI6YVz99poy+Nn6LiPlo4lTXkPiVd+9MNSDxL4jHBaN5N43c+KEp9jaDizl0unST+Vfh9W8LYJDJgAUU3mqHPPeYXEb5fvOd9NopPfkeruE9xzchxZHm71Mkddhz8VOX2rVF4DYC5t44w2NZzEhyfU9NhYfZzJFWI7SmXMEa67h9c08dRu7jlEpd8ovVrinhNGg/kccWYvk06Wfi7xMM1mAiZgAiZgAiZgAn0lwIByKwkHkwFITKeovO4diFsmjg3bwwHt1Yg6Mjgtt036YHkV4l7PkXs8juQVQV92yD04s97Xg/Y31TaR8x2lW4N9Ie9w+3rV/4D0gsxzu5oJ9JsAAStSa2+Twu9nsU1GAxHXKqON1PHl8tdVNZK5b5rqhf0lDZjf/7BthjpQxYFI72oNO0nUuNzmWtrmnvEJCSe16nzhvqtUf1spZx6vqtlMwARMwARMwARMII/Ah1WNuVPh4CPc/khNc9/NaIMISzmiUdNkcjeOHFGNch+P0fagM7pIad4/6McZ2ibFrp/2teAc22v7KClkAA9SKG+UrpFYXCb8HIttUhsXlWwmMEgCRPRIzyUFNfXdpJzv9rsqOkaE9OiaNmiHSGA/vufbRM7FfFeuZ5jG+Q+M9K3M9iTtb+pEho4s0zZoJ/aZkUbMg1DuOUTUY3X4PLlnLSDZTMAETMAETMAETKBnAqurhSpnpzwgOVF1cdxiRlrgr6XYAKZcRhS1boXRWPvlMuaCMve03C6DJCLCgzbSeXHOi74wx4+5u/22r5bOwbnuDbZ/p+0vSURNihRrFp8i9ZK04/OD+kV/r1N5TmqmqtlMoC8E1lcrOJd19wr24/ikHEWyMvje17VzieqQAtyL4QSSll8+F3M/Sa0dtuGk3xf0rdxP0onXbtHJQ4I2w3vOb7V/T4lIL1Fp/h9ABJ17DinYqf8fXKl9sekPKraZgAmYgAmYgAmYQB4BFis5VKobCBb7z1PdDDBHMgAAEDxJREFU1HwwHOK/ZLT1M9VhgZBejIFwGM1h0MQAapDGvLSzpTI/GHWRsrtfcJ7inLxO43NS3bUzp40IbOyzJu1vaclmAl0T4Ld/vBT7HsbKTlfdYuG5sG88RIplJITt/Fj1mD7Ri/EwKLy/naOyutTnXs6ZcywZKN+Qwmsub5Mxwr2+qRFtjrVLxscuEo5rleGsMjc21gYPF6ZXHex9JmACJmACJmACJlBFgPmkt0qxgUasbKbqppy0fTPbIf24FyNll8VDwv7VpT33cs7Uscz1DfvB/LEubJ/IuYikbyeRYpljDDxTA0sc8rqBac45XMcEqggspp250Vh+W3xfUw++WAwq/P3Ftr9c1aGMfTirZwXnwoHeJuPYrqsspRPgWMaumzIi1m3XDYjx5f8Xb5FyHwyQHXJBon8sOjfsBwHqgs0ETMAETMAETGAyEiCymRoAxcqPVf2Y08QiUKyIGTsmLNutB1AMnnAUwygMT/dJbRuk4fSxImf5+h7Rdlcpc18IzsWcZtL3mhqrw/4paKu4BtKXU6njTc/j+iYQI5C7IFzxnSQqGDPSipmPGd5fYtsfjDWQWUbEM/ztcQ4c217TlTO7kKxGlLVqXQIc3A2SR9fvCOfdMg924/rDnlaDPvC+3dhns7vKB72uwdM66AITMAETMAETMIHJR4DXXsQGF7EynMe3Jy5xc5WnBiphWzsl2sgpXk+VwoVEcMqIEAza3q8ThtfGHGLm73ZhDPjK59tL220GgKRppqKyf9Q+Hm7YTKArAiwsF/5uUtvMQU2tNrxtg3a26uFiNtGxPKAq95F0/tf20Ga/DsWpDKdYFP0kDRoHPjdyGuvT14Pr/njL9sjiSc3Rf1T7Voud3GUmYAImYAImYAImUEXgPdqZGkSG5azEG4tAsKAQaalh/dQ2q5W2sXV0ECvxhu0SsUnNoWtznpxjuObYQiY4t10Yi93wAIDFVkjLPFNifm5b21UHhhyLbeYw93vF5bb99HFTjwAZFanvXlh+gurGpjKQfZGbAUKbO7bE+Bodd3ukv6wgPuzMhenqA2nDITO2/ybxG+e+0dZwgD8j8eDwfok04KarHpfPHZsaUfT9R6o46Ht4Wy4+zgRMwARMwARMYEQIkPIVGwiFZTiQi0f6zGCHVOGwftV2Kj050vy/iujntZHzXKyyBaoO7Ggfr6EIr5Ho0ZIdnY9mGZQuKpFSGXug0OTUrGAa9r/YZtVlR2Wb0HTdJgTInkh998rlPCjiux4aWQj7ZrZRtMfDriZOHXXfLN0cOc8vVTZf2KkBb/MQK7VwG5HYT0rP6UOfmEbCPYcHB6lF/nJP8wZVTH3uf9a+VXMbcj0TMAETMAETMAETgMA06Q4pNcCgnIHbyxO4SNkL0+5IT72hok3Ot3SivbCYqAcLKs2KtHeLytYIDxjANtHKcOEXOLHyL5HayWA4/8yxTX3uh2ofg1ibCfSbAA97qhYnYgrDqRKLGIXGgzOySJ6Uyt9dvsvcD1LfZ+5H3OtyjMjgDhILqYXt8TBthZxGOqyDI797pG/0lXsv0edhR4tjl8+D0KrpJwdof5OHDbFzuMwETMAETMAETGCMCDCfk7SucMDGNo4ZA7p5IzxYZGRP6e7IsSwQQjQjNXeLts+VqgaEDFiXkFjIJNbOfSofVtRwLZ2b1L2QGal3Xc2PVdN9NSK610WuobgmViYddtSprxfsxkaGQOx9rMX3jveSvkuKZRwQYSSllwWHwt/e3irbViIrItxXbP9C+6oyJnhws5x0uESEMGyHB3BrSsM2IpuxeyIPFLeR2sybH8Q1cT+J/f+i4My7ZWOf+yD65nOYgAmYgAmYgAlMUgI4hLGBEXMxvy/huM0jEW0kxeyV0mFS7JjzJuow6Ey997QYuPxGdXCUF5Fon1WAF5ZeLfHah1Sk+K6JOvpn4MZgF+c6HOSy/c2B96b9CXEmUouvFNf2qvbN+0gTqCTA4nAxp5MoKL/91aXinsPrW/guHi3FHEwWLuPewXeaY2O/zaLsEu3fVpo2cQzH8fdGEve6WBSWY4n2ct8btq2sDsySwmvknripNMpZFKQm46yGfS+2icQvL9lMwARMwARMwARMIJsATmfVAJAB5zUSc9aI4sUGoAxGLpVwRAvD8SUKkhq4FOVEV6+QLpdwXhnQpI65Wvs2kIZl8+vEqajCLsPqVIvz8pmnVi4u2H+8Rbs+xARyCJCef5SU+p3/Rfv4rXPPIS04lgHBsTw4K2eM4PxeUNFucT4cVu433HdwAlP9oJz72ig4sdMn+hv2lQWfRiFSrG5UGp953cOz7Stb8E4TMAETMAETMAETiBB4qcpI6wsHSbnb5+jYpSLtEiVhoZXUQDS3fZznYxPniJy2s6Jt1XKqz5t1dtb+N0xqeGqxmOL6vt3/07pFE/gXgen663op9XuqKz9Nx06L8JxDZT+Uqh6I1bXNfqK/pBnHzhE5badFRI5Pl8J+47Qv3emZ+9c4D8/OiFxD+Zr26d/p3JIJmIAJmIAJmMA4ESCF72SJVWvDAVNq+wnVPUhi8aCUMbBkAZLYCqCpdotyBqMXSVtLsddwpM7ZRTkLqBwnpfq8UhcnnWiTlEHmjxERJr2bQWEvxjy6qmvhGtlvM4EuCTCtgKyNJk4nc0G/KvE7SBnZIJ+QbpdSv9dUOQsSMYd/S4kHccM27ntHSGF/uVdzP+jKuEcQ4eYczG/tdQEp7lk/k8LrKG8f2tXFuF0TMAETMAETMIGpT4CBy1YST//vlVKDDvbh6JDmm/P+v2eo3qLSF6SLJVIHU20zqL1VOl56u0SfRsEY0PFOxVi//6TyBTvqJINI5t+S3v2wNEtiviDz5doajjER7ti1FGUsXmUzga4J8ADtPRKro/O+0tR38k7tI9K6tpTjVP236i0pfVkiPZisjlTb3HNulPhNvEnCER4F497KAldhvw/ruI9MEfmuxFQSHhwwR5jo9LJSW+MzO1UKr6W8fUzbxkfxOP6nZzMBEzABEzABExg8AaIAOJDLSUQ+iAbyRP1x6TaJeVnMZ2Vw2NRIk2OgtKK0mETElkHnkxLz1a6ViN7iNLZpX4d1Ym9Vqwx0Y8YgexXpgdjOHspgf6IUm6MH/zdLzCNsakRbGDQSdUoZg04WkLGZwCAIsBgQ9xycpeKeM5v+5p5zk0QaMr8zpik0MfwJ2p0mkTUxXeL+xj2HjBJ+R8zHnSXdJxGRHQXD8SOqzMO/wifC6TtA+qxE33OMY8sZM/doG8c9ZdO1g3sO9+fQ+BzeKPFQranx/w/a3bjiQO6vPLy0mYAJmIAJmIAJmIAJ9IkAg8FvSalowlXa10UUZ6+Kc9IXUvVYRKWp4cgyqExdD+VExG0mYAKDJ8DvcyepHEXGwf681DTdeS0dQwYMor3VpJSRqfENqeq+wOvacEqbGtHlM2vaPrRpo6NcnyclNhMwARMwARMwARMYNgEiOFVzYImOdBHJWbfmwtfXflKemxoDVqJdVUYas80ETGCwBPB/mN6xr8SibBgO6KelL0m89qyJcd8iuosek4hAp4yo+IzUzonyjfQvEe6mxj2nzgEmtXzKmB3ZKfNR+kJMwARMwARMYFITINoaS7UrLoq06KYpjzlAmD9YZTijbRxZBsh1i2cxT9lmAiYwOAJkfvCOXaKixdoDzL/fRdpfYiXlJoYvVZ5LjxNLeynjvlB3z8HZbZN9QpS57p7DXNwpY1ywzQRMwARMwARMwASGTYC5wlWLWjE4rJp31rb/dW2ywnSbebkMWOsGoxe27bSPMwETaEVgAx3FKvA4ixgPyD4qHSG1eVBGGvJS/2zqqf/yDuw6Z7junsO9jshuU6u753Avu7hpo6Nc3xHZUf503DcTMAETMAETGB8CL6+5VAaHdQPAmiaiu+vSe3+loxicNjVS/KoiuURGbmzaqOubgAm0JrCqjvyexEJX2KPS+6XDpDZOLG28SFqePybsXv3LXNmUcZ66e875GXVi7fMg8KWxHRNlLLjV5l5W0eRwd9mRHS5/n90ETMAETMAETOCfK4YuXQOCwSERhX4bqzin7CHt2E1iwNvUeFVQVUT2LO1/sGmjrm8CJtCKwOI66vvS9Imj+e1tL7GKby/3lTV1fDmd97aJ9lP/EG2tmkN7n/Z/RiJS3NRYjZqobMp4/VKdE506diTL7ciO5MfiTpmACZiACZjAWBEgesm7XKuMhZ5Y6bPfdkXQIBETXkvEO155DcbMlidcp+I4osusHtpFhLnitN5lAmNJgAjsIdIKE1dP1PRd0klSL04s8+c3CYjmOLJXBsew0BR9OkHaTOKdvG0MpzplvGKJ9OkpZZ4jO6U+Tl+MCZiACZiACUxKAqz2OW9Nz+vmndUcntx9ivZ8TipW++R1OztKRC7+mDyqegdtrV9RhdfyhIPZiureZQIm0JIAWRHflYrVyXl4dKa0hkSqMY4sD8n4lwdlxftkCfYhtvGXWBG4WJmY3zev5CKNdy2pbDnTBU7WAby/ljYxXrezq/SIVLVQ1ET16D/0p2oFdiLP10ePdKEJmIAJmIAJmIAJmEBrAjixpNsxkEzp661brz6QeWU4lsV5Geh+UCoGtNVHx/fOUDGOd+xaeP1FERmKH+1SEzCBfhDAuWNObOx32EUZCzRVzYsvrolUZNJ8iz6QBbJNjxe8qY4vnPHw2ri3klptMwETMAETMAETMAET6DMBIhtEQMMBWHn7a30+Z7k5oqdEQorz0RcGhm0Mp5zFWmLXUjjJntrVhqyPMYF8AqT97pX4HcZ+m/0oYzGlqnnx5d6TQlxMl+DczI1dL//y/qMm8/GZIhG7BtKWt5Z6eTDXsls+zARMwARMwARMwASmPoEFdIllRzI2IOvSkWXQ+y2pfF7mrL1WajIAnEP1Dw3aKbfJOZ4n2UzABLojQMruByQinbF7SVdlP9f5iikKdVfHfeDIoH+ztD1DanLPwXH+cdBO+fr21r7cPqmqzQRMwARMwARMwARMoAmBhVSZaGXVAHO/Jg22qMuCMJcEfWCBlM9Kc2e0t6jqHB8cX76eo7XPA8oMkK5iAj0SYP4rK41X3U+62MeCUk1suipfFfSTbJBdpLrILs7uUtKpwfHl6zpY+6pWMdZumwmYgAmYgAmYgAmYQC8ESI2ri8ju3ssJMo/lfZC3SeEgl5TBPSUWh2F1ZQaZOLc4v2tLRIt5jU94HNs46AdJvG/SZgIm0D2BPXSK2G+x6zIWbGpqON282zXs2+Uq49VfK0tMV+CeM4/ENAymQnxTYnX18Di2SVnmwV/5tUDatJmACZiACZiACZiACfSbwFxqkFV8Y4Oyouxj/T5poj2c1aq+MJeN1T9vkB6q6TPvqvywxKIzNhMwgcEQGPTc2OIe9YaWl8erurinpO5/THO4TmJFZFY2TtWjnLq8H9fZH4JgMwETMAETMAETMIGuCbD4UdXgE+dxya47UWp/Yf19mNR2jh0LrPBOyJWk4hUbA+y+T2UCY03gS7r6JwYsHmot1gP1JXTssVJq5eEq55V9ZLQcJS0rjc1icv8fwjOhVpJ35GAAAAAASUVORK5CYII=)"
   ]
  },
  {
   "cell_type": "code",
   "execution_count": null,
   "metadata": {
    "colab": {
     "base_uri": "https://localhost:8080/"
    },
    "executionInfo": {
     "elapsed": 26,
     "status": "ok",
     "timestamp": 1631623325285,
     "user": {
      "displayName": "Александр Аксёнов",
      "photoUrl": "https://lh3.googleusercontent.com/a-/AOh14GhmPE3kg2vafh4QNEoLX_DeI08tDxoR8I8MoJZP=s64",
      "userId": "11145992452404092449"
     },
     "user_tz": -300
    },
    "id": "iMxmdyfrzIKv",
    "outputId": "a26e4a4a-3902-4435-d1f2-518195013739"
   },
   "outputs": [
    {
     "data": {
      "text/plain": [
       "(-0.3695090439276486,\n",
       " 0.9844961240310077,\n",
       " 0.2021631890185985,\n",
       " 0.4350658786547317)"
      ]
     },
     "execution_count": 16,
     "metadata": {},
     "output_type": "execute_result"
    }
   ],
   "source": [
    "robust_scaler = preprocessing.RobustScaler()\n",
    "robust_feature = robust_scaler.fit_transform(df['TAX'].values.reshape(-1, 1))\n",
    "robust_feature.min(), robust_feature.max() , robust_feature.mean() , robust_feature.std() "
   ]
  },
  {
   "cell_type": "markdown",
   "metadata": {
    "id": "zDqlFnOvmmGM"
   },
   "source": [
    "## Работа с выбросами"
   ]
  },
  {
   "cell_type": "code",
   "execution_count": null,
   "metadata": {
    "colab": {
     "base_uri": "https://localhost:8080/"
    },
    "executionInfo": {
     "elapsed": 1603,
     "status": "ok",
     "timestamp": 1631623326864,
     "user": {
      "displayName": "Александр Аксёнов",
      "photoUrl": "https://lh3.googleusercontent.com/a-/AOh14GhmPE3kg2vafh4QNEoLX_DeI08tDxoR8I8MoJZP=s64",
      "userId": "11145992452404092449"
     },
     "user_tz": -300
    },
    "id": "KqJSizY7IHZl",
    "outputId": "0fe6149c-bb8f-4f3b-f37a-6055abab839f"
   },
   "outputs": [
    {
     "data": {
      "image/png": "[encoded data removed]",
      "text/plain": [
       "<Figure size 720x432 with 1 Axes>"
      ]
     },
     "metadata": {
      "needs_background": "light"
     },
     "output_type": "display_data"
    },
    {
     "data": {
      "image/png": "[encoded data removed]",
      "text/plain": [
       "<Figure size 432x288 with 1 Axes>"
      ]
     },
     "metadata": {
      "needs_background": "light"
     },
     "output_type": "display_data"
    },
    {
     "data": {
      "image/png": "[encoded data removed]",
      "text/plain": [
       "<Figure size 432x288 with 1 Axes>"
      ]
     },
     "metadata": {
      "needs_background": "light"
     },
     "output_type": "display_data"
    },
    {
     "data": {
      "image/png": "[encoded data removed]",
      "text/plain": [
       "<Figure size 432x288 with 1 Axes>"
      ]
     },
     "metadata": {
      "needs_background": "light"
     },
     "output_type": "display_data"
    },
    {
     "data": {
      "image/png": "[encoded data removed]",
      "text/plain": [
       "<Figure size 432x288 with 1 Axes>"
      ]
     },
     "metadata": {
      "needs_background": "light"
     },
     "output_type": "display_data"
    },
    {
     "data": {
      "image/png": "[encoded data removed]",
      "text/plain": [
       "<Figure size 432x288 with 1 Axes>"
      ]
     },
     "metadata": {
      "needs_background": "light"
     },
     "output_type": "display_data"
    },
    {
     "data": {
      "image/png": "[encoded data removed]",
      "text/plain": [
       "<Figure size 432x288 with 1 Axes>"
      ]
     },
     "metadata": {
      "needs_background": "light"
     },
     "output_type": "display_data"
    },
    {
     "data": {
      "image/png": "[encoded data removed]",
      "text/plain": [
       "<Figure size 432x288 with 1 Axes>"
      ]
     },
     "metadata": {
      "needs_background": "light"
     },
     "output_type": "display_data"
    },
    {
     "data": {
      "image/png": "[encoded data removed]",
      "text/plain": [
       "<Figure size 432x288 with 1 Axes>"
      ]
     },
     "metadata": {
      "needs_background": "light"
     },
     "output_type": "display_data"
    },
    {
     "data": {
      "image/png": "[encoded data removed]",
      "text/plain": [
       "<Figure size 432x288 with 1 Axes>"
      ]
     },
     "metadata": {
      "needs_background": "light"
     },
     "output_type": "display_data"
    },
    {
     "data": {
      "image/png": "[encoded data removed]",
      "text/plain": [
       "<Figure size 432x288 with 1 Axes>"
      ]
     },
     "metadata": {
      "needs_background": "light"
     },
     "output_type": "display_data"
    },
    {
     "data": {
      "image/png": "[encoded data removed]",
      "text/plain": [
       "<Figure size 432x288 with 1 Axes>"
      ]
     },
     "metadata": {
      "needs_background": "light"
     },
     "output_type": "display_data"
    },
    {
     "data": {
      "image/png": "[encoded data removed]",
      "text/plain": [
       "<Figure size 432x288 with 1 Axes>"
      ]
     },
     "metadata": {
      "needs_background": "light"
     },
     "output_type": "display_data"
    },
    {
     "data": {
      "image/png": "[encoded data removed]",
      "text/plain": [
       "<Figure size 432x288 with 1 Axes>"
      ]
     },
     "metadata": {
      "needs_background": "light"
     },
     "output_type": "display_data"
    }
   ],
   "source": [
    "plt.figure(figsize=(10,6))\n",
    "for column in df.columns:\n",
    "    sns.boxplot(y=column, data=df).set_title(column)\n",
    "    plt.show()"
   ]
  },
  {
   "cell_type": "markdown",
   "metadata": {
    "id": "2GEb0wbqmvoM"
   },
   "source": [
    "Создадим функцию для поиска выбросов на основе межквартильного размаха"
   ]
  },
  {
   "cell_type": "code",
   "execution_count": null,
   "metadata": {
    "id": "67x9maI9IHWU"
   },
   "outputs": [],
   "source": [
    "def search_outliers(feature):\n",
    "    \"\"\"Функция принимает набор значений 1-го признака и\n",
    "    возвращает массив индексов тех значений, которые являются выбросами\"\"\"\n",
    "    q1, q3 = np.percentile(feature, [25, 75])\n",
    "    iqr = q3 - q1\n",
    "    lower_bound = q1 - 1.5 * iqr\n",
    "    upper_bound = q3 + 1.5 * iqr\n",
    "    return np.where((feature < lower_bound) | (feature > upper_bound))[0]"
   ]
  },
  {
   "cell_type": "markdown",
   "metadata": {
    "id": "y2K3B6PRm4Py"
   },
   "source": [
    "Посмотрим количество выбросов по каждому признаку"
   ]
  },
  {
   "cell_type": "code",
   "execution_count": null,
   "metadata": {
    "colab": {
     "base_uri": "https://localhost:8080/"
    },
    "executionInfo": {
     "elapsed": 77,
     "status": "ok",
     "timestamp": 1631623327239,
     "user": {
      "displayName": "Александр Аксёнов",
      "photoUrl": "https://lh3.googleusercontent.com/a-/AOh14GhmPE3kg2vafh4QNEoLX_DeI08tDxoR8I8MoJZP=s64",
      "userId": "11145992452404092449"
     },
     "user_tz": -300
    },
    "id": "JLtfBwBkIHTV",
    "outputId": "40589a3d-f5ca-45f7-ac24-aa808e6cf1e6"
   },
   "outputs": [
    {
     "name": "stdout",
     "output_type": "stream",
     "text": [
      "Признак CRIM содержит 66 выбросов из 506 наблюдений\n",
      "Признак ZN содержит 68 выбросов из 506 наблюдений\n",
      "Признак INDUS содержит 0 выбросов из 506 наблюдений\n",
      "Признак CHAS содержит 35 выбросов из 506 наблюдений\n",
      "Признак NOX содержит 0 выбросов из 506 наблюдений\n",
      "Признак RM содержит 30 выбросов из 506 наблюдений\n",
      "Признак AGE содержит 0 выбросов из 506 наблюдений\n",
      "Признак DIS содержит 5 выбросов из 506 наблюдений\n",
      "Признак RAD содержит 0 выбросов из 506 наблюдений\n",
      "Признак TAX содержит 0 выбросов из 506 наблюдений\n",
      "Признак PTRATIO содержит 15 выбросов из 506 наблюдений\n",
      "Признак B содержит 77 выбросов из 506 наблюдений\n",
      "Признак LSTAT содержит 7 выбросов из 506 наблюдений\n",
      "Признак target содержит 40 выбросов из 506 наблюдений\n"
     ]
    }
   ],
   "source": [
    "for feature in df.columns:\n",
    "    sum_outliers = len(search_outliers(df[feature]))\n",
    "    print(f\"Признак {feature} содержит {sum_outliers} выбросов из {df[feature].shape[0]} наблюдений\")\n",
    "    "
   ]
  },
  {
   "cell_type": "markdown",
   "metadata": {
    "id": "RQy36hQjm_e9"
   },
   "source": [
    "### Стратегии борьбы с выбросами"
   ]
  },
  {
   "cell_type": "markdown",
   "metadata": {
    "id": "UayHrFjImSli"
   },
   "source": [
    "1. Стратегия сглаживания выбросов. Можно применять логарифм, который частично нивелирует разницу между значениями"
   ]
  },
  {
   "cell_type": "code",
   "execution_count": null,
   "metadata": {
    "colab": {
     "base_uri": "https://localhost:8080/"
    },
    "executionInfo": {
     "elapsed": 75,
     "status": "ok",
     "timestamp": 1631623327240,
     "user": {
      "displayName": "Александр Аксёнов",
      "photoUrl": "https://lh3.googleusercontent.com/a-/AOh14GhmPE3kg2vafh4QNEoLX_DeI08tDxoR8I8MoJZP=s64",
      "userId": "11145992452404092449"
     },
     "user_tz": -300
    },
    "id": "ot1O6c7kIHPu",
    "outputId": "1225137d-a812-4e02-c37c-55f612351fb0"
   },
   "outputs": [
    {
     "name": "stdout",
     "output_type": "stream",
     "text": [
      "Признак CRIM содержит 6 выбросов из 506 наблюдений\n",
      "Признак ZN содержит 0 выбросов из 506 наблюдений\n",
      "Признак INDUS содержит 0 выбросов из 506 наблюдений\n",
      "Признак CHAS содержит 35 выбросов из 506 наблюдений\n",
      "Признак NOX содержит 0 выбросов из 506 наблюдений\n",
      "Признак RM содержит 26 выбросов из 506 наблюдений\n",
      "Признак AGE содержит 16 выбросов из 506 наблюдений\n",
      "Признак DIS содержит 0 выбросов из 506 наблюдений\n",
      "Признак RAD содержит 0 выбросов из 506 наблюдений\n",
      "Признак TAX содержит 0 выбросов из 506 наблюдений\n",
      "Признак PTRATIO содержит 16 выбросов из 506 наблюдений\n",
      "Признак B содержит 78 выбросов из 506 наблюдений\n",
      "Признак LSTAT содержит 0 выбросов из 506 наблюдений\n",
      "Признак target содержит 44 выбросов из 506 наблюдений\n"
     ]
    }
   ],
   "source": [
    "for feature in df.columns:\n",
    "    sum_outliers = len(search_outliers(np.log1p(df[feature])))\n",
    "    print(f\"Признак {feature} содержит {sum_outliers} выбросов из {df[feature].shape[0]} наблюдений\")\n",
    "    "
   ]
  },
  {
   "cell_type": "markdown",
   "metadata": {
    "id": "rwniIEsZmiO8"
   },
   "source": [
    "Можем увидеть, что где-то это работает неплохо, а где-то ухудшает ситуацию"
   ]
  },
  {
   "cell_type": "markdown",
   "metadata": {
    "id": "wKCI-GgOnTiC"
   },
   "source": [
    "2. Удалить выбросы"
   ]
  },
  {
   "cell_type": "markdown",
   "metadata": {
    "id": "Ke4RiOK0p3qn"
   },
   "source": [
    "При удалении наблюдаем потерю большого числа записей, что при нашем и так небольшом наборе может быть критичным"
   ]
  },
  {
   "cell_type": "code",
   "execution_count": null,
   "metadata": {
    "colab": {
     "base_uri": "https://localhost:8080/"
    },
    "executionInfo": {
     "elapsed": 72,
     "status": "ok",
     "timestamp": 1631623327241,
     "user": {
      "displayName": "Александр Аксёнов",
      "photoUrl": "https://lh3.googleusercontent.com/a-/AOh14GhmPE3kg2vafh4QNEoLX_DeI08tDxoR8I8MoJZP=s64",
      "userId": "11145992452404092449"
     },
     "user_tz": -300
    },
    "id": "MsQW77l_IHMp",
    "outputId": "1983f531-b4b4-4ec2-b2da-55cd6adc1e55"
   },
   "outputs": [
    {
     "name": "stdout",
     "output_type": "stream",
     "text": [
      "(506, 14)\n",
      "(268, 14)\n"
     ]
    }
   ],
   "source": [
    "d = df.copy()\n",
    "drop_index = np.array([])\n",
    "print(d.shape)\n",
    "for feature in df.columns:\n",
    "    drop_index = np.hstack((drop_index, search_outliers(df[feature])))\n",
    "d.drop(drop_index, inplace=True)\n",
    "print(d.shape)"
   ]
  },
  {
   "cell_type": "markdown",
   "metadata": {
    "id": "EVCcMXCeqGyu"
   },
   "source": [
    "Что мы видим после удаления выбросов? Как это объяснить?"
   ]
  },
  {
   "cell_type": "code",
   "execution_count": null,
   "metadata": {
    "colab": {
     "base_uri": "https://localhost:8080/"
    },
    "executionInfo": {
     "elapsed": 70,
     "status": "ok",
     "timestamp": 1631623327242,
     "user": {
      "displayName": "Александр Аксёнов",
      "photoUrl": "https://lh3.googleusercontent.com/a-/AOh14GhmPE3kg2vafh4QNEoLX_DeI08tDxoR8I8MoJZP=s64",
      "userId": "11145992452404092449"
     },
     "user_tz": -300
    },
    "id": "0x6pizgkpsTo",
    "outputId": "14105be7-11f4-45bd-ecfb-6cca2fdd5f75"
   },
   "outputs": [
    {
     "name": "stdout",
     "output_type": "stream",
     "text": [
      "Признак CRIM содержит 45 выбросов из 268 наблюдений\n",
      "Признак ZN содержит 49 выбросов из 268 наблюдений\n",
      "Признак INDUS содержит 0 выбросов из 268 наблюдений\n",
      "Признак CHAS содержит 0 выбросов из 268 наблюдений\n",
      "Признак NOX содержит 7 выбросов из 268 наблюдений\n",
      "Признак RM содержит 7 выбросов из 268 наблюдений\n",
      "Признак AGE содержит 0 выбросов из 268 наблюдений\n",
      "Признак DIS содержит 0 выбросов из 268 наблюдений\n",
      "Признак RAD содержит 35 выбросов из 268 наблюдений\n",
      "Признак TAX содержит 38 выбросов из 268 наблюдений\n",
      "Признак PTRATIO содержит 0 выбросов из 268 наблюдений\n",
      "Признак B содержит 19 выбросов из 268 наблюдений\n",
      "Признак LSTAT содержит 9 выбросов из 268 наблюдений\n",
      "Признак target содержит 14 выбросов из 268 наблюдений\n"
     ]
    }
   ],
   "source": [
    "for feature in d.columns:\n",
    "    sum_outliers = len(search_outliers(d[feature]))\n",
    "    print(f\"Признак {feature} содержит {sum_outliers} выбросов из {d[feature].shape[0]} наблюдений\")"
   ]
  },
  {
   "cell_type": "markdown",
   "metadata": {
    "id": "2dByj7vpqNz3"
   },
   "source": [
    "Учитываем тот факт, что структура данных после удаления выбросов меняется и используем старые границы для поиска выбросов"
   ]
  },
  {
   "cell_type": "code",
   "execution_count": null,
   "metadata": {
    "id": "n4sFxsQupVB3"
   },
   "outputs": [],
   "source": [
    "def search_outliers_new(old_feature, new_feature):\n",
    "    \"\"\"Функция принимает набор значений 1-го признака каким он был до удаления выбросов,\n",
    "    чтобы корректно расчитать границы выбросов\n",
    "    И набор значений того же признака после удаления выбросов\n",
    "    Возвращает массив индексов тех значений, которые являются выбросами\"\"\"\n",
    "    q1, q3 = np.percentile(old_feature, [25, 75])\n",
    "    iqr = q3 - q1\n",
    "    lower_bound = q1 - 1.5 * iqr\n",
    "    upper_bound = q3 + 1.5 * iqr\n",
    "    return np.where((new_feature < lower_bound) | (new_feature > upper_bound))[0]"
   ]
  },
  {
   "cell_type": "code",
   "execution_count": null,
   "metadata": {
    "colab": {
     "base_uri": "https://localhost:8080/"
    },
    "executionInfo": {
     "elapsed": 66,
     "status": "ok",
     "timestamp": 1631623327244,
     "user": {
      "displayName": "Александр Аксёнов",
      "photoUrl": "https://lh3.googleusercontent.com/a-/AOh14GhmPE3kg2vafh4QNEoLX_DeI08tDxoR8I8MoJZP=s64",
      "userId": "11145992452404092449"
     },
     "user_tz": -300
    },
    "id": "FssMvhnyojcW",
    "outputId": "13141c28-5b49-45ed-9256-2c6d50e98d18"
   },
   "outputs": [
    {
     "name": "stdout",
     "output_type": "stream",
     "text": [
      "Признак CRIM содержит 0 выбросов из 268 наблюдений\n",
      "Признак ZN содержит 0 выбросов из 268 наблюдений\n",
      "Признак INDUS содержит 0 выбросов из 268 наблюдений\n",
      "Признак CHAS содержит 0 выбросов из 268 наблюдений\n",
      "Признак NOX содержит 0 выбросов из 268 наблюдений\n",
      "Признак RM содержит 0 выбросов из 268 наблюдений\n",
      "Признак AGE содержит 0 выбросов из 268 наблюдений\n",
      "Признак DIS содержит 0 выбросов из 268 наблюдений\n",
      "Признак RAD содержит 0 выбросов из 268 наблюдений\n",
      "Признак TAX содержит 0 выбросов из 268 наблюдений\n",
      "Признак PTRATIO содержит 0 выбросов из 268 наблюдений\n",
      "Признак B содержит 0 выбросов из 268 наблюдений\n",
      "Признак LSTAT содержит 0 выбросов из 268 наблюдений\n",
      "Признак target содержит 0 выбросов из 268 наблюдений\n"
     ]
    }
   ],
   "source": [
    "for feature in d.columns:\n",
    "    sum_outliers = len(search_outliers_new(df[feature], d[feature]))\n",
    "    print(f\"Признак {feature} содержит {sum_outliers} выбросов из {d[feature].shape[0]} наблюдений\")"
   ]
  },
  {
   "cell_type": "markdown",
   "metadata": {
    "id": "AwGq_2koq2zZ"
   },
   "source": [
    "3. Создаем новый признак-дубль. Для каждого признака, который содержит выбросы, создадим второй признак, который будет содержать 1, если в базовом признаке есть выброс и 0 иначе"
   ]
  },
  {
   "cell_type": "code",
   "execution_count": null,
   "metadata": {
    "colab": {
     "base_uri": "https://localhost:8080/"
    },
    "executionInfo": {
     "elapsed": 64,
     "status": "ok",
     "timestamp": 1631623327245,
     "user": {
      "displayName": "Александр Аксёнов",
      "photoUrl": "https://lh3.googleusercontent.com/a-/AOh14GhmPE3kg2vafh4QNEoLX_DeI08tDxoR8I8MoJZP=s64",
      "userId": "11145992452404092449"
     },
     "user_tz": -300
    },
    "id": "JbGkq64Wq2Yk",
    "outputId": "e816e4a3-7f36-47d0-dfb3-dfd3c7159a4f"
   },
   "outputs": [
    {
     "data": {
      "text/plain": [
       "CRIM_out       66\n",
       "ZN_out         68\n",
       "CHAS_out       35\n",
       "RM_out         30\n",
       "DIS_out         5\n",
       "PTRATIO_out    15\n",
       "B_out          77\n",
       "LSTAT_out       7\n",
       "target_out     40\n",
       "dtype: int64"
      ]
     },
     "execution_count": 25,
     "metadata": {},
     "output_type": "execute_result"
    }
   ],
   "source": [
    "dd = df.copy()\n",
    "for feature in dd.columns:\n",
    "    outliers = search_outliers(df[feature])\n",
    "    if len(outliers) > 0:\n",
    "        dd[f\"{feature}_out\"] = 0\n",
    "        dd.loc[outliers, f\"{feature}_out\"] = 1\n",
    "dd[[column for column in dd.columns if column.endswith('_out')]].sum(axis=0)    "
   ]
  },
  {
   "cell_type": "markdown",
   "metadata": {
    "id": "Qc-ISJz-sXsF"
   },
   "source": [
    "Теперь алгоритм сможет извлечь новую информацию из данных, при этом мы не потеряем ни одной записи"
   ]
  },
  {
   "cell_type": "markdown",
   "metadata": {
    "id": "mVk3D9Acs_he"
   },
   "source": [
    "4. Сглаживаем выбросы на основании верхней и нижней границ. Все, что ниже нижней границы - становится равным ей, а все, что больше верхней - становится равным ей"
   ]
  },
  {
   "cell_type": "code",
   "execution_count": null,
   "metadata": {
    "id": "IEjfoJ-kq2G0"
   },
   "outputs": [],
   "source": [
    "def outliers_smoothing(feature):\n",
    "    \"\"\"Функция принимает набор значений 1-го признака и\n",
    "    возвращает массив индексов тех значений, которые являются выбросами\"\"\"\n",
    "    q1, q3 = np.percentile(feature, [25, 75])\n",
    "    iqr = q3 - q1\n",
    "    lower_bound = q1 - 1.5 * iqr\n",
    "    upper_bound = q3 + 1.5 * iqr\n",
    "    feature = np.where(feature < lower_bound, lower_bound, feature)\n",
    "    feature = np.where(feature > upper_bound, upper_bound, feature)\n",
    "    return feature"
   ]
  },
  {
   "cell_type": "code",
   "execution_count": null,
   "metadata": {
    "id": "RRDNSh_Fq1_6"
   },
   "outputs": [],
   "source": [
    "dn = df.copy()\n",
    "for feature in dn.columns:\n",
    "    dn[feature] = outliers_smoothing(dn[feature])"
   ]
  },
  {
   "cell_type": "code",
   "execution_count": null,
   "metadata": {
    "colab": {
     "base_uri": "https://localhost:8080/"
    },
    "executionInfo": {
     "elapsed": 60,
     "status": "ok",
     "timestamp": 1631623327247,
     "user": {
      "displayName": "Александр Аксёнов",
      "photoUrl": "https://lh3.googleusercontent.com/a-/AOh14GhmPE3kg2vafh4QNEoLX_DeI08tDxoR8I8MoJZP=s64",
      "userId": "11145992452404092449"
     },
     "user_tz": -300
    },
    "id": "JaUF3S_aq19b",
    "outputId": "b64459b0-a157-425a-d425-63e538e200a2"
   },
   "outputs": [
    {
     "name": "stdout",
     "output_type": "stream",
     "text": [
      "Признак CRIM содержит 0 выбросов из 506 наблюдений\n",
      "Признак ZN содержит 0 выбросов из 506 наблюдений\n",
      "Признак INDUS содержит 0 выбросов из 506 наблюдений\n",
      "Признак CHAS содержит 0 выбросов из 506 наблюдений\n",
      "Признак NOX содержит 0 выбросов из 506 наблюдений\n",
      "Признак RM содержит 0 выбросов из 506 наблюдений\n",
      "Признак AGE содержит 0 выбросов из 506 наблюдений\n",
      "Признак DIS содержит 0 выбросов из 506 наблюдений\n",
      "Признак RAD содержит 0 выбросов из 506 наблюдений\n",
      "Признак TAX содержит 0 выбросов из 506 наблюдений\n",
      "Признак PTRATIO содержит 0 выбросов из 506 наблюдений\n",
      "Признак B содержит 0 выбросов из 506 наблюдений\n",
      "Признак LSTAT содержит 0 выбросов из 506 наблюдений\n",
      "Признак target содержит 0 выбросов из 506 наблюдений\n"
     ]
    }
   ],
   "source": [
    "for feature in dn.columns:\n",
    "    sum_outliers = len(search_outliers(dn[feature]))\n",
    "    print(f\"Признак {feature} содержит {sum_outliers} выбросов из {dn[feature].shape[0]} наблюдений\")"
   ]
  },
  {
   "cell_type": "markdown",
   "metadata": {
    "id": "JUuiEPjqu-rp"
   },
   "source": [
    "Тут мы также не теряем записи и избавляемся от выбросов, но нужно понимать, что на самом деле мы можем потерять какую-то важную информацию. И в целом, если выбросов много, то может это и не выбросы по факту. Да и когда их мало, то может быть, что они как-то объясняются на основе других признаков.\n",
    "\n",
    "Например аномально большой расход электроэнергии в здании, может быть потому, что кто-то забыл выключить свет. И тогда это выброс. Но может быть это просто аномально большое здание и расход электроэнергии вполне себе объясним этим фактом. Более того, вместе они доказывают возможность друг друга. И такие \"выбросы\" терять не стоит точно"
   ]
  },
  {
   "cell_type": "markdown",
   "metadata": {
    "id": "emDSXuFaHgkx"
   },
   "source": [
    "## Работа с пропусками в данных"
   ]
  },
  {
   "cell_type": "code",
   "execution_count": null,
   "metadata": {
    "colab": {
     "base_uri": "https://localhost:8080/"
    },
    "executionInfo": {
     "elapsed": 58,
     "status": "ok",
     "timestamp": 1631623327248,
     "user": {
      "displayName": "Александр Аксёнов",
      "photoUrl": "https://lh3.googleusercontent.com/a-/AOh14GhmPE3kg2vafh4QNEoLX_DeI08tDxoR8I8MoJZP=s64",
      "userId": "11145992452404092449"
     },
     "user_tz": -300
    },
    "id": "DWxfUFlOHgAP",
    "outputId": "4b9a24b6-754e-4c50-a056-8c66be02b442"
   },
   "outputs": [
    {
     "data": {
      "text/plain": [
       "50"
      ]
     },
     "execution_count": 29,
     "metadata": {},
     "output_type": "execute_result"
    }
   ],
   "source": [
    "leave_index = np.random.choice(df.index, 50)\n",
    "len(leave_index)"
   ]
  },
  {
   "cell_type": "code",
   "execution_count": null,
   "metadata": {
    "id": "DeKMSM5HHf7B"
   },
   "outputs": [],
   "source": [
    "d = df.copy()\n",
    "d.loc[leave_index, ['AGE']] = np.nan"
   ]
  },
  {
   "cell_type": "code",
   "execution_count": null,
   "metadata": {
    "colab": {
     "base_uri": "https://localhost:8080/"
    },
    "executionInfo": {
     "elapsed": 56,
     "status": "ok",
     "timestamp": 1631623327250,
     "user": {
      "displayName": "Александр Аксёнов",
      "photoUrl": "https://lh3.googleusercontent.com/a-/AOh14GhmPE3kg2vafh4QNEoLX_DeI08tDxoR8I8MoJZP=s64",
      "userId": "11145992452404092449"
     },
     "user_tz": -300
    },
    "id": "B4DWHmDhHf3i",
    "outputId": "cc4e74f1-54c2-442a-83aa-c62c2ffde7a1"
   },
   "outputs": [
    {
     "name": "stdout",
     "output_type": "stream",
     "text": [
      "<class 'pandas.core.frame.DataFrame'>\n",
      "RangeIndex: 506 entries, 0 to 505\n",
      "Data columns (total 14 columns):\n",
      " #   Column   Non-Null Count  Dtype  \n",
      "---  ------   --------------  -----  \n",
      " 0   CRIM     506 non-null    float64\n",
      " 1   ZN       506 non-null    float64\n",
      " 2   INDUS    506 non-null    float64\n",
      " 3   CHAS     506 non-null    float64\n",
      " 4   NOX      506 non-null    float64\n",
      " 5   RM       506 non-null    float64\n",
      " 6   AGE      457 non-null    float64\n",
      " 7   DIS      506 non-null    float64\n",
      " 8   RAD      506 non-null    float64\n",
      " 9   TAX      506 non-null    float64\n",
      " 10  PTRATIO  506 non-null    float64\n",
      " 11  B        506 non-null    float64\n",
      " 12  LSTAT    506 non-null    float64\n",
      " 13  target   506 non-null    float64\n",
      "dtypes: float64(14)\n",
      "memory usage: 55.5 KB\n"
     ]
    }
   ],
   "source": [
    "d.info()"
   ]
  },
  {
   "cell_type": "markdown",
   "metadata": {
    "id": "4WQrhXpE3Fg4"
   },
   "source": [
    "### 1. Удалить записи с пропусками"
   ]
  },
  {
   "cell_type": "code",
   "execution_count": null,
   "metadata": {
    "colab": {
     "base_uri": "https://localhost:8080/"
    },
    "executionInfo": {
     "elapsed": 55,
     "status": "ok",
     "timestamp": 1631623327250,
     "user": {
      "displayName": "Александр Аксёнов",
      "photoUrl": "https://lh3.googleusercontent.com/a-/AOh14GhmPE3kg2vafh4QNEoLX_DeI08tDxoR8I8MoJZP=s64",
      "userId": "11145992452404092449"
     },
     "user_tz": -300
    },
    "id": "LNwMktFPHf09",
    "outputId": "72f01fce-ba10-445d-cb69-677ef351812a"
   },
   "outputs": [
    {
     "data": {
      "text/plain": [
       "(457, 14)"
      ]
     },
     "execution_count": 32,
     "metadata": {},
     "output_type": "execute_result"
    }
   ],
   "source": [
    "# удаляем строки с пропусками\n",
    "d.dropna(axis=0).shape"
   ]
  },
  {
   "cell_type": "code",
   "execution_count": null,
   "metadata": {
    "colab": {
     "base_uri": "https://localhost:8080/"
    },
    "executionInfo": {
     "elapsed": 53,
     "status": "ok",
     "timestamp": 1631623327251,
     "user": {
      "displayName": "Александр Аксёнов",
      "photoUrl": "https://lh3.googleusercontent.com/a-/AOh14GhmPE3kg2vafh4QNEoLX_DeI08tDxoR8I8MoJZP=s64",
      "userId": "11145992452404092449"
     },
     "user_tz": -300
    },
    "id": "wBGCElM5HfyK",
    "outputId": "4a8566a8-e939-4660-974c-9ffd86870214"
   },
   "outputs": [
    {
     "data": {
      "text/plain": [
       "(506, 13)"
      ]
     },
     "execution_count": 33,
     "metadata": {},
     "output_type": "execute_result"
    }
   ],
   "source": [
    "# удаляем столбцы с пропусками\n",
    "d.dropna(axis=1).shape"
   ]
  },
  {
   "cell_type": "code",
   "execution_count": null,
   "metadata": {
    "colab": {
     "base_uri": "https://localhost:8080/"
    },
    "executionInfo": {
     "elapsed": 52,
     "status": "ok",
     "timestamp": 1631623327252,
     "user": {
      "displayName": "Александр Аксёнов",
      "photoUrl": "https://lh3.googleusercontent.com/a-/AOh14GhmPE3kg2vafh4QNEoLX_DeI08tDxoR8I8MoJZP=s64",
      "userId": "11145992452404092449"
     },
     "user_tz": -300
    },
    "id": "Byn__BCBHfvl",
    "outputId": "2cbd34ab-9b41-4ce6-ca1d-e982db901c1c"
   },
   "outputs": [
    {
     "data": {
      "text/plain": [
       "(457, 14)"
      ]
     },
     "execution_count": 34,
     "metadata": {},
     "output_type": "execute_result"
    }
   ],
   "source": [
    "# оставляем строку, если есть хотя бы thresh непустых ячеек\n",
    "d.dropna(thresh=14).shape"
   ]
  },
  {
   "cell_type": "code",
   "execution_count": null,
   "metadata": {
    "colab": {
     "base_uri": "https://localhost:8080/"
    },
    "executionInfo": {
     "elapsed": 51,
     "status": "ok",
     "timestamp": 1631623327253,
     "user": {
      "displayName": "Александр Аксёнов",
      "photoUrl": "https://lh3.googleusercontent.com/a-/AOh14GhmPE3kg2vafh4QNEoLX_DeI08tDxoR8I8MoJZP=s64",
      "userId": "11145992452404092449"
     },
     "user_tz": -300
    },
    "id": "If2_pT0mHftO",
    "outputId": "a1dd491d-df4f-493a-cb68-23ead3777b61"
   },
   "outputs": [
    {
     "data": {
      "text/plain": [
       "(506, 14)"
      ]
     },
     "execution_count": 35,
     "metadata": {},
     "output_type": "execute_result"
    }
   ],
   "source": [
    "# удаляем запись, только если пропуск есть в указанном столбце/столбцах\n",
    "d.dropna(subset=['NOX']).shape"
   ]
  },
  {
   "cell_type": "markdown",
   "metadata": {
    "id": "F2W1pdKn42SP"
   },
   "source": [
    "### 2. Заполнить пропуски фиксированным значением"
   ]
  },
  {
   "cell_type": "markdown",
   "metadata": {
    "id": "GksgtGjcAqL0"
   },
   "source": [
    "#### **Просто 0**"
   ]
  },
  {
   "cell_type": "code",
   "execution_count": null,
   "metadata": {
    "colab": {
     "base_uri": "https://localhost:8080/"
    },
    "executionInfo": {
     "elapsed": 49,
     "status": "ok",
     "timestamp": 1631623327253,
     "user": {
      "displayName": "Александр Аксёнов",
      "photoUrl": "https://lh3.googleusercontent.com/a-/AOh14GhmPE3kg2vafh4QNEoLX_DeI08tDxoR8I8MoJZP=s64",
      "userId": "11145992452404092449"
     },
     "user_tz": -300
    },
    "id": "XV8vdXF6HfqO",
    "outputId": "2e26f9a2-3cd9-4359-c20b-d79741b2b785"
   },
   "outputs": [
    {
     "data": {
      "text/plain": [
       "0     0.0\n",
       "1    78.9\n",
       "2    61.1\n",
       "3    45.8\n",
       "4    54.2\n",
       "5    58.7\n",
       "6    66.6\n",
       "7    96.1\n",
       "8     0.0\n",
       "9    85.9\n",
       "Name: AGE, dtype: float64"
      ]
     },
     "execution_count": 36,
     "metadata": {},
     "output_type": "execute_result"
    }
   ],
   "source": [
    "d['AGE'].fillna(0)[:10]"
   ]
  },
  {
   "cell_type": "code",
   "execution_count": null,
   "metadata": {
    "colab": {
     "base_uri": "https://localhost:8080/"
    },
    "executionInfo": {
     "elapsed": 48,
     "status": "ok",
     "timestamp": 1631623327254,
     "user": {
      "displayName": "Александр Аксёнов",
      "photoUrl": "https://lh3.googleusercontent.com/a-/AOh14GhmPE3kg2vafh4QNEoLX_DeI08tDxoR8I8MoJZP=s64",
      "userId": "11145992452404092449"
     },
     "user_tz": -300
    },
    "id": "XQJmTt1SAtBk",
    "outputId": "ee5127eb-4416-41b5-c243-2077e764f65c"
   },
   "outputs": [
    {
     "data": {
      "text/plain": [
       "65.67399999999999"
      ]
     },
     "execution_count": 37,
     "metadata": {},
     "output_type": "execute_result"
    }
   ],
   "source": [
    "\"\"\"Протестим результат\"\"\"\n",
    "d_fill = d.fillna(0).loc[leave_index, 'AGE']\n",
    "d_old = df.loc[leave_index, 'AGE']\n",
    "sum(abs(d_fill - d_old))/d_fill.shape[0]"
   ]
  },
  {
   "cell_type": "markdown",
   "metadata": {
    "id": "0T4sATlmA7I7"
   },
   "source": [
    "#### **Заполним средним**"
   ]
  },
  {
   "cell_type": "code",
   "execution_count": null,
   "metadata": {
    "colab": {
     "base_uri": "https://localhost:8080/"
    },
    "executionInfo": {
     "elapsed": 46,
     "status": "ok",
     "timestamp": 1631623327255,
     "user": {
      "displayName": "Александр Аксёнов",
      "photoUrl": "https://lh3.googleusercontent.com/a-/AOh14GhmPE3kg2vafh4QNEoLX_DeI08tDxoR8I8MoJZP=s64",
      "userId": "11145992452404092449"
     },
     "user_tz": -300
    },
    "id": "tNjaQOmzHfny",
    "outputId": "b5a8083e-dcdf-4301-c280-7e33521bb8fb"
   },
   "outputs": [
    {
     "data": {
      "text/plain": [
       "0    68.817724\n",
       "1    78.900000\n",
       "2    61.100000\n",
       "3    45.800000\n",
       "4    54.200000\n",
       "5    58.700000\n",
       "6    66.600000\n",
       "7    96.100000\n",
       "8    68.817724\n",
       "9    85.900000\n",
       "Name: AGE, dtype: float64"
      ]
     },
     "execution_count": 38,
     "metadata": {},
     "output_type": "execute_result"
    }
   ],
   "source": [
    "d['AGE'].fillna(d['AGE'].mean())[:10]"
   ]
  },
  {
   "cell_type": "code",
   "execution_count": null,
   "metadata": {
    "colab": {
     "base_uri": "https://localhost:8080/"
    },
    "executionInfo": {
     "elapsed": 46,
     "status": "ok",
     "timestamp": 1631623327256,
     "user": {
      "displayName": "Александр Аксёнов",
      "photoUrl": "https://lh3.googleusercontent.com/a-/AOh14GhmPE3kg2vafh4QNEoLX_DeI08tDxoR8I8MoJZP=s64",
      "userId": "11145992452404092449"
     },
     "user_tz": -300
    },
    "id": "YIdUmUfHA9DK",
    "outputId": "016504c3-8cb4-43d3-c531-913cdabb0500"
   },
   "outputs": [
    {
     "data": {
      "text/plain": [
       "23.04129102844639"
      ]
     },
     "execution_count": 39,
     "metadata": {},
     "output_type": "execute_result"
    }
   ],
   "source": [
    "\"\"\"Протестим результат\"\"\"\n",
    "d_fill = d.fillna(d['AGE'].mean()).loc[leave_index, 'AGE']\n",
    "d_old = df.loc[leave_index, 'AGE']\n",
    "sum(abs(d_fill - d_old))/d_fill.shape[0]"
   ]
  },
  {
   "cell_type": "markdown",
   "metadata": {
    "id": "NeM0EY4gBC9V"
   },
   "source": [
    "#### **Запоним модой**"
   ]
  },
  {
   "cell_type": "code",
   "execution_count": null,
   "metadata": {
    "colab": {
     "base_uri": "https://localhost:8080/"
    },
    "executionInfo": {
     "elapsed": 45,
     "status": "ok",
     "timestamp": 1631623327257,
     "user": {
      "displayName": "Александр Аксёнов",
      "photoUrl": "https://lh3.googleusercontent.com/a-/AOh14GhmPE3kg2vafh4QNEoLX_DeI08tDxoR8I8MoJZP=s64",
      "userId": "11145992452404092449"
     },
     "user_tz": -300
    },
    "id": "YOF69YH95-nz",
    "outputId": "b8c6fac9-9815-4260-8709-adce529bcfa4"
   },
   "outputs": [
    {
     "data": {
      "text/plain": [
       "100.0"
      ]
     },
     "execution_count": 40,
     "metadata": {},
     "output_type": "execute_result"
    }
   ],
   "source": [
    "age_mode = d['AGE'].mode()[0]\n",
    "age_mode"
   ]
  },
  {
   "cell_type": "code",
   "execution_count": null,
   "metadata": {
    "colab": {
     "base_uri": "https://localhost:8080/"
    },
    "executionInfo": {
     "elapsed": 44,
     "status": "ok",
     "timestamp": 1631623327258,
     "user": {
      "displayName": "Александр Аксёнов",
      "photoUrl": "https://lh3.googleusercontent.com/a-/AOh14GhmPE3kg2vafh4QNEoLX_DeI08tDxoR8I8MoJZP=s64",
      "userId": "11145992452404092449"
     },
     "user_tz": -300
    },
    "id": "dewX0qU7Hflf",
    "outputId": "be058224-1783-4941-c4f2-606cd79025f5"
   },
   "outputs": [
    {
     "data": {
      "text/plain": [
       "0    100.0\n",
       "1     78.9\n",
       "2     61.1\n",
       "3     45.8\n",
       "4     54.2\n",
       "5     58.7\n",
       "6     66.6\n",
       "7     96.1\n",
       "8    100.0\n",
       "9     85.9\n",
       "Name: AGE, dtype: float64"
      ]
     },
     "execution_count": 41,
     "metadata": {},
     "output_type": "execute_result"
    }
   ],
   "source": [
    "d['AGE'].fillna(age_mode)[:10]"
   ]
  },
  {
   "cell_type": "code",
   "execution_count": null,
   "metadata": {
    "colab": {
     "base_uri": "https://localhost:8080/"
    },
    "executionInfo": {
     "elapsed": 469,
     "status": "ok",
     "timestamp": 1631623327686,
     "user": {
      "displayName": "Александр Аксёнов",
      "photoUrl": "https://lh3.googleusercontent.com/a-/AOh14GhmPE3kg2vafh4QNEoLX_DeI08tDxoR8I8MoJZP=s64",
      "userId": "11145992452404092449"
     },
     "user_tz": -300
    },
    "id": "ipLAY1CVHfjV",
    "outputId": "5cc51515-ee0e-44f6-a457-2355400a85b0"
   },
   "outputs": [
    {
     "data": {
      "text/plain": [
       "<matplotlib.axes._subplots.AxesSubplot at 0x7f08c1f150d0>"
      ]
     },
     "execution_count": 42,
     "metadata": {},
     "output_type": "execute_result"
    },
    {
     "data": {
      "image/png": "[encoded data removed]",
      "text/plain": [
       "<Figure size 432x288 with 1 Axes>"
      ]
     },
     "metadata": {
      "needs_background": "light"
     },
     "output_type": "display_data"
    }
   ],
   "source": [
    "d['AGE'].hist()"
   ]
  },
  {
   "cell_type": "code",
   "execution_count": null,
   "metadata": {
    "colab": {
     "base_uri": "https://localhost:8080/"
    },
    "executionInfo": {
     "elapsed": 33,
     "status": "ok",
     "timestamp": 1631623327688,
     "user": {
      "displayName": "Александр Аксёнов",
      "photoUrl": "https://lh3.googleusercontent.com/a-/AOh14GhmPE3kg2vafh4QNEoLX_DeI08tDxoR8I8MoJZP=s64",
      "userId": "11145992452404092449"
     },
     "user_tz": -300
    },
    "id": "_nREO3U0BJ9l",
    "outputId": "c74b47d7-a9bf-42c6-d31d-84217d61aec5"
   },
   "outputs": [
    {
     "data": {
      "text/plain": [
       "34.326"
      ]
     },
     "execution_count": 43,
     "metadata": {},
     "output_type": "execute_result"
    }
   ],
   "source": [
    "\"\"\"Протестим результат\"\"\"\n",
    "d_fill = d.fillna(age_mode).loc[leave_index, 'AGE']\n",
    "d_old = df.loc[leave_index, 'AGE']\n",
    "sum(abs(d_fill - d_old))/d_fill.shape[0]"
   ]
  },
  {
   "cell_type": "markdown",
   "metadata": {
    "id": "VDJOKutVBfb-"
   },
   "source": [
    "#### **Заполним медианой**"
   ]
  },
  {
   "cell_type": "code",
   "execution_count": null,
   "metadata": {
    "colab": {
     "base_uri": "https://localhost:8080/"
    },
    "executionInfo": {
     "elapsed": 31,
     "status": "ok",
     "timestamp": 1631623327689,
     "user": {
      "displayName": "Александр Аксёнов",
      "photoUrl": "https://lh3.googleusercontent.com/a-/AOh14GhmPE3kg2vafh4QNEoLX_DeI08tDxoR8I8MoJZP=s64",
      "userId": "11145992452404092449"
     },
     "user_tz": -300
    },
    "id": "LetmCStq5ze0",
    "outputId": "42cc8f79-f24c-43b6-9073-b91563f3e071"
   },
   "outputs": [
    {
     "data": {
      "text/plain": [
       "78.3"
      ]
     },
     "execution_count": 44,
     "metadata": {},
     "output_type": "execute_result"
    }
   ],
   "source": [
    "age_median = d['AGE'].median()\n",
    "age_median"
   ]
  },
  {
   "cell_type": "code",
   "execution_count": null,
   "metadata": {
    "colab": {
     "base_uri": "https://localhost:8080/"
    },
    "executionInfo": {
     "elapsed": 31,
     "status": "ok",
     "timestamp": 1631623327691,
     "user": {
      "displayName": "Александр Аксёнов",
      "photoUrl": "https://lh3.googleusercontent.com/a-/AOh14GhmPE3kg2vafh4QNEoLX_DeI08tDxoR8I8MoJZP=s64",
      "userId": "11145992452404092449"
     },
     "user_tz": -300
    },
    "id": "Ff_N1njjHfgd",
    "outputId": "1e1a3f4e-c111-4317-ea09-b2df7f0da996"
   },
   "outputs": [
    {
     "data": {
      "text/plain": [
       "0    78.3\n",
       "1    78.9\n",
       "2    61.1\n",
       "3    45.8\n",
       "4    54.2\n",
       "5    58.7\n",
       "6    66.6\n",
       "7    96.1\n",
       "8    78.3\n",
       "9    85.9\n",
       "Name: AGE, dtype: float64"
      ]
     },
     "execution_count": 45,
     "metadata": {},
     "output_type": "execute_result"
    }
   ],
   "source": [
    "d['AGE'].fillna(age_median)[:10]"
   ]
  },
  {
   "cell_type": "code",
   "execution_count": null,
   "metadata": {
    "colab": {
     "base_uri": "https://localhost:8080/"
    },
    "executionInfo": {
     "elapsed": 29,
     "status": "ok",
     "timestamp": 1631623327691,
     "user": {
      "displayName": "Александр Аксёнов",
      "photoUrl": "https://lh3.googleusercontent.com/a-/AOh14GhmPE3kg2vafh4QNEoLX_DeI08tDxoR8I8MoJZP=s64",
      "userId": "11145992452404092449"
     },
     "user_tz": -300
    },
    "id": "Eea3-T-pBZbs",
    "outputId": "e8c0f089-ec95-475d-8f11-144afdcc7252"
   },
   "outputs": [
    {
     "data": {
      "text/plain": [
       "24.06999999999999"
      ]
     },
     "execution_count": 46,
     "metadata": {},
     "output_type": "execute_result"
    }
   ],
   "source": [
    "\"\"\"Протестим результат\"\"\"\n",
    "d_fill = d.fillna(age_median).loc[leave_index, 'AGE']\n",
    "d_old = df.loc[leave_index, 'AGE']\n",
    "sum(abs(d_fill - d_old))/d_fill.shape[0]"
   ]
  },
  {
   "cell_type": "markdown",
   "metadata": {
    "id": "PxHN0TCt627y"
   },
   "source": [
    "### 3. Заполнить предыдущим или последующим значеним"
   ]
  },
  {
   "cell_type": "markdown",
   "metadata": {
    "id": "z6TnRCgi7EN7"
   },
   "source": [
    "Стоит применять только в случае временных рядов, где ярко выражен тренд"
   ]
  },
  {
   "cell_type": "markdown",
   "metadata": {
    "id": "nGkxSzh0By7a"
   },
   "source": [
    "#### **Заполняем предыдущим значением**"
   ]
  },
  {
   "cell_type": "code",
   "execution_count": null,
   "metadata": {
    "colab": {
     "base_uri": "https://localhost:8080/"
    },
    "executionInfo": {
     "elapsed": 29,
     "status": "ok",
     "timestamp": 1631623327693,
     "user": {
      "displayName": "Александр Аксёнов",
      "photoUrl": "https://lh3.googleusercontent.com/a-/AOh14GhmPE3kg2vafh4QNEoLX_DeI08tDxoR8I8MoJZP=s64",
      "userId": "11145992452404092449"
     },
     "user_tz": -300
    },
    "id": "bw04ubgRHfeY",
    "outputId": "3a1e3c69-a1f5-4599-a1e0-e25a87f08635"
   },
   "outputs": [
    {
     "data": {
      "text/plain": [
       "0     NaN\n",
       "1    78.9\n",
       "2    61.1\n",
       "3    45.8\n",
       "4    54.2\n",
       "5    58.7\n",
       "6    66.6\n",
       "7    96.1\n",
       "8    96.1\n",
       "9    85.9\n",
       "Name: AGE, dtype: float64"
      ]
     },
     "execution_count": 47,
     "metadata": {},
     "output_type": "execute_result"
    }
   ],
   "source": [
    "d['AGE'].fillna(method='ffill')[:10]"
   ]
  },
  {
   "cell_type": "code",
   "execution_count": null,
   "metadata": {
    "colab": {
     "base_uri": "https://localhost:8080/"
    },
    "executionInfo": {
     "elapsed": 28,
     "status": "ok",
     "timestamp": 1631623327694,
     "user": {
      "displayName": "Александр Аксёнов",
      "photoUrl": "https://lh3.googleusercontent.com/a-/AOh14GhmPE3kg2vafh4QNEoLX_DeI08tDxoR8I8MoJZP=s64",
      "userId": "11145992452404092449"
     },
     "user_tz": -300
    },
    "id": "MET5vvUXBqot",
    "outputId": "5a06e87d-3f2d-4315-e318-b174f24ae3a5"
   },
   "outputs": [
    {
     "data": {
      "text/plain": [
       "nan"
      ]
     },
     "execution_count": 48,
     "metadata": {},
     "output_type": "execute_result"
    }
   ],
   "source": [
    "\"\"\"Протестим результат\"\"\"\n",
    "d_fill = d.fillna(method='ffill').loc[leave_index, 'AGE']\n",
    "d_old = df.loc[leave_index, 'AGE']\n",
    "sum(abs(d_fill - d_old))/d_fill.shape[0]"
   ]
  },
  {
   "cell_type": "markdown",
   "metadata": {
    "id": "bX4BiG4xB360"
   },
   "source": [
    "#### **Заполняем последующим значением**"
   ]
  },
  {
   "cell_type": "code",
   "execution_count": null,
   "metadata": {
    "colab": {
     "base_uri": "https://localhost:8080/"
    },
    "executionInfo": {
     "elapsed": 28,
     "status": "ok",
     "timestamp": 1631623327696,
     "user": {
      "displayName": "Александр Аксёнов",
      "photoUrl": "https://lh3.googleusercontent.com/a-/AOh14GhmPE3kg2vafh4QNEoLX_DeI08tDxoR8I8MoJZP=s64",
      "userId": "11145992452404092449"
     },
     "user_tz": -300
    },
    "id": "nRxK3v7KHfb7",
    "outputId": "0d2b73c5-a826-4823-88f3-11561b766a90"
   },
   "outputs": [
    {
     "data": {
      "text/plain": [
       "0    78.9\n",
       "1    78.9\n",
       "2    61.1\n",
       "3    45.8\n",
       "4    54.2\n",
       "5    58.7\n",
       "6    66.6\n",
       "7    96.1\n",
       "8    85.9\n",
       "9    85.9\n",
       "Name: AGE, dtype: float64"
      ]
     },
     "execution_count": 49,
     "metadata": {},
     "output_type": "execute_result"
    }
   ],
   "source": [
    "d['AGE'].fillna(method='bfill')[:10]"
   ]
  },
  {
   "cell_type": "code",
   "execution_count": null,
   "metadata": {
    "colab": {
     "base_uri": "https://localhost:8080/"
    },
    "executionInfo": {
     "elapsed": 27,
     "status": "ok",
     "timestamp": 1631623327697,
     "user": {
      "displayName": "Александр Аксёнов",
      "photoUrl": "https://lh3.googleusercontent.com/a-/AOh14GhmPE3kg2vafh4QNEoLX_DeI08tDxoR8I8MoJZP=s64",
      "userId": "11145992452404092449"
     },
     "user_tz": -300
    },
    "id": "yE80_caWB72q",
    "outputId": "a2123a70-cf2d-45ea-ae0e-d2f76dd92ade"
   },
   "outputs": [
    {
     "data": {
      "text/plain": [
       "12.648000000000001"
      ]
     },
     "execution_count": 50,
     "metadata": {},
     "output_type": "execute_result"
    }
   ],
   "source": [
    "\"\"\"Протестим результат\"\"\"\n",
    "d_fill = d.fillna(method='bfill').loc[leave_index, 'AGE']\n",
    "d_old = df.loc[leave_index, 'AGE']\n",
    "sum(abs(d_fill - d_old))/d_fill.shape[0]"
   ]
  },
  {
   "cell_type": "markdown",
   "metadata": {
    "id": "BNrrM_g67i0a"
   },
   "source": [
    "### 4. Интерполяция"
   ]
  },
  {
   "cell_type": "markdown",
   "metadata": {
    "id": "MosO8FnV7lY9"
   },
   "source": [
    "Также подходит лишь для временных рядов"
   ]
  },
  {
   "cell_type": "code",
   "execution_count": null,
   "metadata": {
    "colab": {
     "base_uri": "https://localhost:8080/"
    },
    "executionInfo": {
     "elapsed": 25,
     "status": "ok",
     "timestamp": 1631623327698,
     "user": {
      "displayName": "Александр Аксёнов",
      "photoUrl": "https://lh3.googleusercontent.com/a-/AOh14GhmPE3kg2vafh4QNEoLX_DeI08tDxoR8I8MoJZP=s64",
      "userId": "11145992452404092449"
     },
     "user_tz": -300
    },
    "id": "AEoUCOwEHfZl",
    "outputId": "6b144c99-499b-488d-814c-cd4dc80eff8d"
   },
   "outputs": [
    {
     "data": {
      "text/plain": [
       "0     NaN\n",
       "1    78.9\n",
       "2    61.1\n",
       "3    45.8\n",
       "4    54.2\n",
       "5    58.7\n",
       "6    66.6\n",
       "7    96.1\n",
       "8    91.0\n",
       "9    85.9\n",
       "Name: AGE, dtype: float64"
      ]
     },
     "execution_count": 51,
     "metadata": {},
     "output_type": "execute_result"
    }
   ],
   "source": [
    "d['AGE'].interpolate()[:10]"
   ]
  },
  {
   "cell_type": "code",
   "execution_count": null,
   "metadata": {
    "colab": {
     "base_uri": "https://localhost:8080/"
    },
    "executionInfo": {
     "elapsed": 24,
     "status": "ok",
     "timestamp": 1631623327699,
     "user": {
      "displayName": "Александр Аксёнов",
      "photoUrl": "https://lh3.googleusercontent.com/a-/AOh14GhmPE3kg2vafh4QNEoLX_DeI08tDxoR8I8MoJZP=s64",
      "userId": "11145992452404092449"
     },
     "user_tz": -300
    },
    "id": "JJfYRgq3CBYP",
    "outputId": "caabdc69-4032-4452-8c8a-2905d5ba77aa"
   },
   "outputs": [
    {
     "data": {
      "text/plain": [
       "nan"
      ]
     },
     "execution_count": 52,
     "metadata": {},
     "output_type": "execute_result"
    }
   ],
   "source": [
    "\"\"\"Протестим результат\"\"\"\n",
    "d_fill = d.interpolate().loc[leave_index, 'AGE']\n",
    "d_old = df.loc[leave_index, 'AGE']\n",
    "sum(abs(d_fill - d_old))/d_fill.shape[0]"
   ]
  },
  {
   "cell_type": "markdown",
   "metadata": {
    "id": "7JpuYs_37wVY"
   },
   "source": [
    "### 5. \"Интеллектуальный\" метод на основе алгоритма машинного обучения"
   ]
  },
  {
   "cell_type": "code",
   "execution_count": null,
   "metadata": {
    "id": "RaZ6ZbloHfXa"
   },
   "outputs": [],
   "source": [
    "from sklearn.tree import DecisionTreeRegressor"
   ]
  },
  {
   "cell_type": "code",
   "execution_count": null,
   "metadata": {
    "id": "6pIDAinEHfUw"
   },
   "outputs": [],
   "source": [
    "dtr = DecisionTreeRegressor(max_depth=5)"
   ]
  },
  {
   "cell_type": "code",
   "execution_count": null,
   "metadata": {
    "colab": {
     "base_uri": "https://localhost:8080/"
    },
    "executionInfo": {
     "elapsed": 104,
     "status": "ok",
     "timestamp": 1631623328221,
     "user": {
      "displayName": "Александр Аксёнов",
      "photoUrl": "https://lh3.googleusercontent.com/a-/AOh14GhmPE3kg2vafh4QNEoLX_DeI08tDxoR8I8MoJZP=s64",
      "userId": "11145992452404092449"
     },
     "user_tz": -300
    },
    "id": "zjMVSvsvHfSx",
    "outputId": "a5c86ff3-9155-46d5-fe5b-5fe4e956bb25"
   },
   "outputs": [
    {
     "data": {
      "text/plain": [
       "DecisionTreeRegressor(ccp_alpha=0.0, criterion='mse', max_depth=5,\n",
       "                      max_features=None, max_leaf_nodes=None,\n",
       "                      min_impurity_decrease=0.0, min_impurity_split=None,\n",
       "                      min_samples_leaf=1, min_samples_split=2,\n",
       "                      min_weight_fraction_leaf=0.0, presort='deprecated',\n",
       "                      random_state=None, splitter='best')"
      ]
     },
     "execution_count": 55,
     "metadata": {},
     "output_type": "execute_result"
    }
   ],
   "source": [
    "dtr.fit(d.dropna().drop([\"AGE\", 'target'], axis=1), d['AGE'].dropna())"
   ]
  },
  {
   "cell_type": "code",
   "execution_count": null,
   "metadata": {
    "id": "DlgTb7_QHfQV"
   },
   "outputs": [],
   "source": [
    "d.loc[d['AGE'].isna(), 'AGE'] = dtr.predict(d.loc[d['AGE'].isna()].drop([\"AGE\", 'target'], axis=1))"
   ]
  },
  {
   "cell_type": "code",
   "execution_count": null,
   "metadata": {
    "colab": {
     "base_uri": "https://localhost:8080/"
    },
    "executionInfo": {
     "elapsed": 102,
     "status": "ok",
     "timestamp": 1631623328224,
     "user": {
      "displayName": "Александр Аксёнов",
      "photoUrl": "https://lh3.googleusercontent.com/a-/AOh14GhmPE3kg2vafh4QNEoLX_DeI08tDxoR8I8MoJZP=s64",
      "userId": "11145992452404092449"
     },
     "user_tz": -300
    },
    "id": "9hb5ipWSCRau",
    "outputId": "64b8389e-aa51-4d5b-cea6-d32b25278b51"
   },
   "outputs": [
    {
     "data": {
      "text/plain": [
       "10.983937938500464"
      ]
     },
     "execution_count": 57,
     "metadata": {},
     "output_type": "execute_result"
    }
   ],
   "source": [
    "\"\"\"Протестим результат\"\"\"\n",
    "d_fill = d.loc[leave_index, 'AGE']\n",
    "d_old = df.loc[leave_index, 'AGE']\n",
    "sum(abs(d_fill - d_old))/d_fill.shape[0]"
   ]
  },
  {
   "cell_type": "markdown",
   "metadata": {
    "id": "XimxrCxMccX2"
   },
   "source": [
    "### 6. **В случае заполнения пропусков в дискретных данных (когда есть несколько классов: \"низкий\", \"средний\", \"высокий\" - а не непрерывная величина, вроде температуры) можно использовать те же деревья решений, но как алгоритм классификации**"
   ]
  },
  {
   "cell_type": "code",
   "execution_count": null,
   "metadata": {
    "colab": {
     "base_uri": "https://localhost:8080/"
    },
    "executionInfo": {
     "elapsed": 100,
     "status": "ok",
     "timestamp": 1631623328225,
     "user": {
      "displayName": "Александр Аксёнов",
      "photoUrl": "https://lh3.googleusercontent.com/a-/AOh14GhmPE3kg2vafh4QNEoLX_DeI08tDxoR8I8MoJZP=s64",
      "userId": "11145992452404092449"
     },
     "user_tz": -300
    },
    "id": "IcFrjhP1dtIw",
    "outputId": "c5e439cf-35cd-4415-916d-09bf2a4b06ae"
   },
   "outputs": [
    {
     "data": {
      "text/plain": [
       "30"
      ]
     },
     "execution_count": 58,
     "metadata": {},
     "output_type": "execute_result"
    }
   ],
   "source": [
    "from sklearn.tree import DecisionTreeClassifier\n",
    "from sklearn.datasets import load_iris\n",
    "data, target = load_iris(return_X_y=True)\n",
    "iris_df = pd.DataFrame(data)\n",
    "iris_df['target'] = target\n",
    "leave_index = np.random.choice(iris_df.index, 30)\n",
    "len(leave_index)"
   ]
  },
  {
   "cell_type": "code",
   "execution_count": null,
   "metadata": {
    "id": "RUS2andtf6zc"
   },
   "outputs": [],
   "source": [
    "d = iris_df.copy()\n",
    "d.loc[leave_index, ['target']] = np.nan"
   ]
  },
  {
   "cell_type": "code",
   "execution_count": null,
   "metadata": {
    "id": "sDugEs3lduaN"
   },
   "outputs": [],
   "source": [
    "dtc = DecisionTreeClassifier(max_depth=5)"
   ]
  },
  {
   "cell_type": "code",
   "execution_count": null,
   "metadata": {
    "colab": {
     "base_uri": "https://localhost:8080/"
    },
    "executionInfo": {
     "elapsed": 101,
     "status": "ok",
     "timestamp": 1631623328229,
     "user": {
      "displayName": "Александр Аксёнов",
      "photoUrl": "https://lh3.googleusercontent.com/a-/AOh14GhmPE3kg2vafh4QNEoLX_DeI08tDxoR8I8MoJZP=s64",
      "userId": "11145992452404092449"
     },
     "user_tz": -300
    },
    "id": "yGzy3CpZduOi",
    "outputId": "52912692-586e-40db-bf2c-e8a7dfb3add2"
   },
   "outputs": [
    {
     "data": {
      "text/plain": [
       "DecisionTreeClassifier(ccp_alpha=0.0, class_weight=None, criterion='gini',\n",
       "                       max_depth=5, max_features=None, max_leaf_nodes=None,\n",
       "                       min_impurity_decrease=0.0, min_impurity_split=None,\n",
       "                       min_samples_leaf=1, min_samples_split=2,\n",
       "                       min_weight_fraction_leaf=0.0, presort='deprecated',\n",
       "                       random_state=None, splitter='best')"
      ]
     },
     "execution_count": 61,
     "metadata": {},
     "output_type": "execute_result"
    }
   ],
   "source": [
    "dtc.fit(d.dropna().drop(['target'], axis=1), d['target'].dropna())"
   ]
  },
  {
   "cell_type": "code",
   "execution_count": null,
   "metadata": {
    "id": "3HGavtZpgVlU"
   },
   "outputs": [],
   "source": [
    "d.loc[d['target'].isna(), 'target'] = dtc.predict(d.loc[d['target'].isna()].drop(['target'], axis=1))"
   ]
  },
  {
   "cell_type": "code",
   "execution_count": null,
   "metadata": {
    "colab": {
     "base_uri": "https://localhost:8080/"
    },
    "executionInfo": {
     "elapsed": 99,
     "status": "ok",
     "timestamp": 1631623328231,
     "user": {
      "displayName": "Александр Аксёнов",
      "photoUrl": "https://lh3.googleusercontent.com/a-/AOh14GhmPE3kg2vafh4QNEoLX_DeI08tDxoR8I8MoJZP=s64",
      "userId": "11145992452404092449"
     },
     "user_tz": -300
    },
    "id": "EjtHZn3UgjNp",
    "outputId": "6097a52d-e2e9-4bbc-8a2b-2b5585804e0b"
   },
   "outputs": [
    {
     "data": {
      "text/plain": [
       "1.0"
      ]
     },
     "execution_count": 63,
     "metadata": {},
     "output_type": "execute_result"
    }
   ],
   "source": [
    "\"\"\"Протестим результат\"\"\"\n",
    "d_fill = d.loc[leave_index, 'target']\n",
    "d_old = iris_df.loc[leave_index, 'target']\n",
    "sum(d_fill == d_old)/d_fill.shape[0]"
   ]
  },
  {
   "cell_type": "markdown",
   "metadata": {
    "id": "uzStmQBEg6KJ"
   },
   "source": [
    "### 7. Для сравнения применим наивный метод заполнения самым частым. По сути он аналогичен методу заполнения модой для числовых признаков"
   ]
  },
  {
   "cell_type": "code",
   "execution_count": null,
   "metadata": {
    "id": "Q4_t9hlQg6sP"
   },
   "outputs": [],
   "source": [
    "d = iris_df.copy()\n",
    "d.loc[leave_index, ['target']] = np.nan"
   ]
  },
  {
   "cell_type": "code",
   "execution_count": null,
   "metadata": {
    "id": "A9-rKZcQg7uy"
   },
   "outputs": [],
   "source": [
    "most_freq = d.target.value_counts().index[0]"
   ]
  },
  {
   "cell_type": "code",
   "execution_count": null,
   "metadata": {
    "colab": {
     "base_uri": "https://localhost:8080/"
    },
    "executionInfo": {
     "elapsed": 97,
     "status": "ok",
     "timestamp": 1631623328234,
     "user": {
      "displayName": "Александр Аксёнов",
      "photoUrl": "https://lh3.googleusercontent.com/a-/AOh14GhmPE3kg2vafh4QNEoLX_DeI08tDxoR8I8MoJZP=s64",
      "userId": "11145992452404092449"
     },
     "user_tz": -300
    },
    "id": "2_7ehHoFzww6",
    "outputId": "12bdb63c-7c5d-4d4c-a303-beffe96ce227"
   },
   "outputs": [
    {
     "data": {
      "text/plain": [
       "2.0"
      ]
     },
     "execution_count": 66,
     "metadata": {},
     "output_type": "execute_result"
    }
   ],
   "source": [
    "most_freq"
   ]
  },
  {
   "cell_type": "code",
   "execution_count": null,
   "metadata": {
    "colab": {
     "base_uri": "https://localhost:8080/"
    },
    "executionInfo": {
     "elapsed": 98,
     "status": "ok",
     "timestamp": 1631623328236,
     "user": {
      "displayName": "Александр Аксёнов",
      "photoUrl": "https://lh3.googleusercontent.com/a-/AOh14GhmPE3kg2vafh4QNEoLX_DeI08tDxoR8I8MoJZP=s64",
      "userId": "11145992452404092449"
     },
     "user_tz": -300
    },
    "id": "MPQgaX-lg7e4",
    "outputId": "1e1f55f8-ef6a-4b98-ce35-5b00c8481edb"
   },
   "outputs": [
    {
     "data": {
      "text/plain": [
       "0    2.0\n",
       "1    0.0\n",
       "2    0.0\n",
       "3    0.0\n",
       "4    0.0\n",
       "5    0.0\n",
       "6    2.0\n",
       "7    0.0\n",
       "8    0.0\n",
       "9    0.0\n",
       "Name: target, dtype: float64"
      ]
     },
     "execution_count": 67,
     "metadata": {},
     "output_type": "execute_result"
    }
   ],
   "source": [
    "d.target.fillna(most_freq)[:10]"
   ]
  },
  {
   "cell_type": "code",
   "execution_count": null,
   "metadata": {
    "colab": {
     "base_uri": "https://localhost:8080/"
    },
    "executionInfo": {
     "elapsed": 96,
     "status": "ok",
     "timestamp": 1631623328237,
     "user": {
      "displayName": "Александр Аксёнов",
      "photoUrl": "https://lh3.googleusercontent.com/a-/AOh14GhmPE3kg2vafh4QNEoLX_DeI08tDxoR8I8MoJZP=s64",
      "userId": "11145992452404092449"
     },
     "user_tz": -300
    },
    "id": "_88nhe8Qi_-Z",
    "outputId": "08e60238-30d4-477c-b048-667ee343a7d9"
   },
   "outputs": [
    {
     "data": {
      "text/plain": [
       "0.36666666666666664"
      ]
     },
     "execution_count": 68,
     "metadata": {},
     "output_type": "execute_result"
    }
   ],
   "source": [
    "\"\"\"Протестим результат\"\"\"\n",
    "d_fill = d.fillna(most_freq).loc[leave_index, 'target']\n",
    "d_old = iris_df.loc[leave_index, 'target']\n",
    "sum(d_fill == d_old)/d_fill.shape[0]"
   ]
  },
  {
   "cell_type": "markdown",
   "metadata": {
    "id": "8zfgIgZcQyKM"
   },
   "source": [
    "## Дискретизация данных"
   ]
  },
  {
   "cell_type": "code",
   "execution_count": null,
   "metadata": {
    "id": "W5dzyHrAQ5yO"
   },
   "outputs": [],
   "source": [
    "from sklearn.preprocessing import Binarizer, KBinsDiscretizer, FunctionTransformer\n",
    "# https://scikit-learn.org/stable/modules/generated/sklearn.preprocessing.KBinsDiscretizer.html\n",
    "# https://github.com/scikit-learn/scikit-learn/blob/main/sklearn/preprocessing/_discretization.py"
   ]
  },
  {
   "cell_type": "markdown",
   "metadata": {
    "id": "UPU2yDBjy6Vq"
   },
   "source": [
    "**Бинаризация. Тут все просто. Указываем границу, по которой хотим разбить и разбиваем каждый признак на \"меньше гарнфицы\" - 0 и \"больше границы\" - 1**"
   ]
  },
  {
   "cell_type": "code",
   "execution_count": null,
   "metadata": {
    "colab": {
     "base_uri": "https://localhost:8080/"
    },
    "executionInfo": {
     "elapsed": 95,
     "status": "ok",
     "timestamp": 1631623328239,
     "user": {
      "displayName": "Александр Аксёнов",
      "photoUrl": "https://lh3.googleusercontent.com/a-/AOh14GhmPE3kg2vafh4QNEoLX_DeI08tDxoR8I8MoJZP=s64",
      "userId": "11145992452404092449"
     },
     "user_tz": -300
    },
    "id": "jLRolk4foC4M",
    "outputId": "9fdbe7ae-7822-4cf9-ec43-27c857c2e77a"
   },
   "outputs": [
    {
     "data": {
      "text/plain": [
       "array([[0., 1., 1.],\n",
       "       [0., 1., 1.],\n",
       "       [1., 0., 0.]])"
      ]
     },
     "execution_count": 70,
     "metadata": {},
     "output_type": "execute_result"
    }
   ],
   "source": [
    "X = np.array([[ -3., 5., 15 ],\n",
    "              [  0., 6., 14 ],\n",
    "              [  6., 3., 11 ]])\n",
    "est = Binarizer(threshold=[1, 4, 12]).fit(X)\n",
    "est.transform(X)"
   ]
  },
  {
   "cell_type": "markdown",
   "metadata": {
    "id": "7T_DfBt40I0Y"
   },
   "source": [
    "**Бинаризация на К частей. Есть три подхода: равномерная разбивка на N часетй (uniform), разбивка по квантилям (quantile) и разбивка на основе К средних**"
   ]
  },
  {
   "cell_type": "code",
   "execution_count": null,
   "metadata": {
    "colab": {
     "base_uri": "https://localhost:8080/"
    },
    "executionInfo": {
     "elapsed": 94,
     "status": "ok",
     "timestamp": 1631623328240,
     "user": {
      "displayName": "Александр Аксёнов",
      "photoUrl": "https://lh3.googleusercontent.com/a-/AOh14GhmPE3kg2vafh4QNEoLX_DeI08tDxoR8I8MoJZP=s64",
      "userId": "11145992452404092449"
     },
     "user_tz": -300
    },
    "id": "4Oz8uElRoDEm",
    "outputId": "9dbbf8f3-a925-4282-e434-4a890ff0eec5"
   },
   "outputs": [
    {
     "data": {
      "text/plain": [
       "array([[0., 1., 2.],\n",
       "       [2., 2., 1.],\n",
       "       [3., 0., 0.]])"
      ]
     },
     "execution_count": 71,
     "metadata": {},
     "output_type": "execute_result"
    }
   ],
   "source": [
    "X = np.array([[ -3., 5., 15 ],\n",
    "              [  0., 6., 14 ],\n",
    "              [  6., 3., 11 ]])\n",
    "est = KBinsDiscretizer(n_bins=[4, 3, 3], encode='ordinal', strategy='quantile').fit(X) #uniform  kmeans  quantile\n",
    "est.transform(X)"
   ]
  },
  {
   "cell_type": "markdown",
   "metadata": {
    "id": "qHZsjDjY0tJp"
   },
   "source": [
    "Можем посмотреть, какие решающие границы получились посе подгонки препроцессора под данные"
   ]
  },
  {
   "cell_type": "code",
   "execution_count": null,
   "metadata": {
    "colab": {
     "base_uri": "https://localhost:8080/"
    },
    "executionInfo": {
     "elapsed": 92,
     "status": "ok",
     "timestamp": 1631623328240,
     "user": {
      "displayName": "Александр Аксёнов",
      "photoUrl": "https://lh3.googleusercontent.com/a-/AOh14GhmPE3kg2vafh4QNEoLX_DeI08tDxoR8I8MoJZP=s64",
      "userId": "11145992452404092449"
     },
     "user_tz": -300
    },
    "id": "Oze1wLc3oC_r",
    "outputId": "aa106f69-d6ce-47b5-bc0f-9ae4acace0a8"
   },
   "outputs": [
    {
     "data": {
      "text/plain": [
       "array([array([-3. , -1.5,  0. ,  3. ,  6. ]),\n",
       "       array([3.        , 4.33333333, 5.33333333, 6.        ]),\n",
       "       array([11.        , 13.        , 14.33333333, 15.        ])],\n",
       "      dtype=object)"
      ]
     },
     "execution_count": 72,
     "metadata": {},
     "output_type": "execute_result"
    }
   ],
   "source": [
    "est.bin_edges_"
   ]
  },
  {
   "cell_type": "markdown",
   "metadata": {
    "id": "jZb-9SQl00ul"
   },
   "source": [
    "Таким образом находятся квантили по которым бить диапазон, в случае квантильной разбивки"
   ]
  },
  {
   "cell_type": "code",
   "execution_count": null,
   "metadata": {
    "colab": {
     "base_uri": "https://localhost:8080/"
    },
    "executionInfo": {
     "elapsed": 92,
     "status": "ok",
     "timestamp": 1631623328242,
     "user": {
      "displayName": "Александр Аксёнов",
      "photoUrl": "https://lh3.googleusercontent.com/a-/AOh14GhmPE3kg2vafh4QNEoLX_DeI08tDxoR8I8MoJZP=s64",
      "userId": "11145992452404092449"
     },
     "user_tz": -300
    },
    "id": "SGu_ihZhoC9I",
    "outputId": "38b75218-2112-4ae9-e141-1ee1ecb2241e"
   },
   "outputs": [
    {
     "data": {
      "text/plain": [
       "array([  0.,  25.,  50.,  75., 100.])"
      ]
     },
     "execution_count": 73,
     "metadata": {},
     "output_type": "execute_result"
    }
   ],
   "source": [
    "quantiles = np.linspace(0, 100, 4 + 1)\n",
    "quantiles"
   ]
  },
  {
   "cell_type": "markdown",
   "metadata": {
    "id": "AQ3Rg5xj93Nq"
   },
   "source": [
    "**Встроенной функции для разбиения на несколько диапазонов нет. Но омжно использовать уже известную нам pd.cut**\n",
    "\n",
    "**FunctionTransformer позволяет применить к признаку любую функцию**"
   ]
  },
  {
   "cell_type": "code",
   "execution_count": null,
   "metadata": {
    "colab": {
     "base_uri": "https://localhost:8080/"
    },
    "executionInfo": {
     "elapsed": 89,
     "status": "ok",
     "timestamp": 1631623328242,
     "user": {
      "displayName": "Александр Аксёнов",
      "photoUrl": "https://lh3.googleusercontent.com/a-/AOh14GhmPE3kg2vafh4QNEoLX_DeI08tDxoR8I8MoJZP=s64",
      "userId": "11145992452404092449"
     },
     "user_tz": -300
    },
    "id": "GUXBdDO0oCw1",
    "outputId": "f9f72d96-3e88-4f54-c759-8c2eab1b7d62"
   },
   "outputs": [
    {
     "data": {
      "text/plain": [
       "['infant', 'kid', 'teen', 'adult', 'senior citizen']\n",
       "Categories (5, object): ['infant' < 'kid' < 'teen' < 'adult' < 'senior citizen']"
      ]
     },
     "execution_count": 74,
     "metadata": {},
     "output_type": "execute_result"
    }
   ],
   "source": [
    "bins = [0, 1, 13, 20, 60, np.inf]\n",
    "labels = ['infant', 'kid', 'teen', 'adult', 'senior citizen']\n",
    "transformer = FunctionTransformer(\n",
    "                   pd.cut, kw_args={'bins': bins, 'labels': labels, 'retbins': False}\n",
    "                  )\n",
    "X = np.array([0.2, 2, 15, 25, 97])\n",
    "transformer.fit_transform(X)"
   ]
  },
  {
   "cell_type": "markdown",
   "metadata": {
    "id": "gB9vTQOkG2-V"
   },
   "source": [
    "**FunctionTransformer можно применять и для других преобразований**"
   ]
  },
  {
   "cell_type": "code",
   "execution_count": null,
   "metadata": {
    "colab": {
     "base_uri": "https://localhost:8080/"
    },
    "executionInfo": {
     "elapsed": 87,
     "status": "ok",
     "timestamp": 1631623328243,
     "user": {
      "displayName": "Александр Аксёнов",
      "photoUrl": "https://lh3.googleusercontent.com/a-/AOh14GhmPE3kg2vafh4QNEoLX_DeI08tDxoR8I8MoJZP=s64",
      "userId": "11145992452404092449"
     },
     "user_tz": -300
    },
    "id": "XDSf_7rZoCuP",
    "outputId": "f1088d4a-a61c-49ca-b1db-59bf1ffd303f"
   },
   "outputs": [
    {
     "data": {
      "text/plain": [
       "array([[0.        , 0.69314718],\n",
       "       [1.09861229, 1.38629436]])"
      ]
     },
     "execution_count": 75,
     "metadata": {},
     "output_type": "execute_result"
    }
   ],
   "source": [
    "transformer = FunctionTransformer(np.log1p, validate=True)\n",
    "X = np.array([[0, 1], [2, 3]])\n",
    "transformer.transform(X)"
   ]
  },
  {
   "cell_type": "markdown",
   "metadata": {
    "id": "ANkEHK88QY2x"
   },
   "source": [
    "## Категориальные признаки"
   ]
  },
  {
   "cell_type": "markdown",
   "metadata": {
    "id": "92uDnu65UlR-"
   },
   "source": [
    "### Кодирование номанальных категориальных признаков\n",
    "\n",
    "* номинальные - не порядковые"
   ]
  },
  {
   "cell_type": "code",
   "execution_count": null,
   "metadata": {
    "id": "WxjWvzWOoCp0"
   },
   "outputs": [],
   "source": [
    "from sklearn.preprocessing import LabelBinarizer, MultiLabelBinarizer"
   ]
  },
  {
   "cell_type": "code",
   "execution_count": null,
   "metadata": {
    "id": "PNBleWrpoCko"
   },
   "outputs": [],
   "source": [
    "feature = np.array([[\"Texas\"],\n",
    "                    [\"California\"],\n",
    "                    [\"Texas\"],\n",
    "                    [\"Delaware\"],\n",
    "                    [\"Texas\"]])"
   ]
  },
  {
   "cell_type": "code",
   "execution_count": null,
   "metadata": {
    "id": "W3p-OXxZoCeo"
   },
   "outputs": [],
   "source": [
    "# Создадим кодировщик\n",
    "one_hot = LabelBinarizer()"
   ]
  },
  {
   "cell_type": "code",
   "execution_count": null,
   "metadata": {
    "colab": {
     "base_uri": "https://localhost:8080/"
    },
    "executionInfo": {
     "elapsed": 84,
     "status": "ok",
     "timestamp": 1631623328246,
     "user": {
      "displayName": "Александр Аксёнов",
      "photoUrl": "https://lh3.googleusercontent.com/a-/AOh14GhmPE3kg2vafh4QNEoLX_DeI08tDxoR8I8MoJZP=s64",
      "userId": "11145992452404092449"
     },
     "user_tz": -300
    },
    "id": "cg8DrAspoCbB",
    "outputId": "b61b1719-144e-44b6-d9bd-a67552bb4d30"
   },
   "outputs": [
    {
     "data": {
      "text/plain": [
       "array([[0, 0, 1],\n",
       "       [1, 0, 0],\n",
       "       [0, 0, 1],\n",
       "       [0, 1, 0],\n",
       "       [0, 0, 1]])"
      ]
     },
     "execution_count": 79,
     "metadata": {},
     "output_type": "execute_result"
    }
   ],
   "source": [
    "# применим преобразования\n",
    "ohe_feature = one_hot.fit_transform (feature)\n",
    "ohe_feature"
   ]
  },
  {
   "cell_type": "code",
   "execution_count": null,
   "metadata": {
    "colab": {
     "base_uri": "https://localhost:8080/"
    },
    "executionInfo": {
     "elapsed": 82,
     "status": "ok",
     "timestamp": 1631623328246,
     "user": {
      "displayName": "Александр Аксёнов",
      "photoUrl": "https://lh3.googleusercontent.com/a-/AOh14GhmPE3kg2vafh4QNEoLX_DeI08tDxoR8I8MoJZP=s64",
      "userId": "11145992452404092449"
     },
     "user_tz": -300
    },
    "id": "84oWpnuEoCYD",
    "outputId": "3c603c3c-460d-4689-a052-58848cd7305d"
   },
   "outputs": [
    {
     "data": {
      "text/plain": [
       "array(['California', 'Delaware', 'Texas'], dtype='<U10')"
      ]
     },
     "execution_count": 80,
     "metadata": {},
     "output_type": "execute_result"
    }
   ],
   "source": [
    "# посмотрим как распределились классы в трансформере\n",
    "one_hot.classes_"
   ]
  },
  {
   "cell_type": "code",
   "execution_count": null,
   "metadata": {
    "colab": {
     "base_uri": "https://localhost:8080/"
    },
    "executionInfo": {
     "elapsed": 82,
     "status": "ok",
     "timestamp": 1631623328247,
     "user": {
      "displayName": "Александр Аксёнов",
      "photoUrl": "https://lh3.googleusercontent.com/a-/AOh14GhmPE3kg2vafh4QNEoLX_DeI08tDxoR8I8MoJZP=s64",
      "userId": "11145992452404092449"
     },
     "user_tz": -300
    },
    "id": "iObNuFQcoCT6",
    "outputId": "68019532-1205-46e2-8dc1-cce4e13cb9a9"
   },
   "outputs": [
    {
     "data": {
      "text/plain": [
       "array(['Texas', 'California', 'Texas', 'Delaware', 'Texas'], dtype='<U10')"
      ]
     },
     "execution_count": 81,
     "metadata": {},
     "output_type": "execute_result"
    }
   ],
   "source": [
    "# можно применить обратное кодирование\n",
    "one_hot.inverse_transform(ohe_feature)"
   ]
  },
  {
   "cell_type": "markdown",
   "metadata": {
    "id": "LcFgg8_GSbO5"
   },
   "source": [
    "Напомню, что в pandas можно добится похожего эффекта, с помощью get_dummies()"
   ]
  },
  {
   "cell_type": "code",
   "execution_count": null,
   "metadata": {
    "colab": {
     "base_uri": "https://localhost:8080/"
    },
    "executionInfo": {
     "elapsed": 80,
     "status": "ok",
     "timestamp": 1631623328248,
     "user": {
      "displayName": "Александр Аксёнов",
      "photoUrl": "https://lh3.googleusercontent.com/a-/AOh14GhmPE3kg2vafh4QNEoLX_DeI08tDxoR8I8MoJZP=s64",
      "userId": "11145992452404092449"
     },
     "user_tz": -300
    },
    "id": "Qrisz6HdoCRA",
    "outputId": "26e9a24a-7999-4fd2-e16c-2f5d583eaef1"
   },
   "outputs": [
    {
     "data": {
      "text/html": [
       "<div>\n",
       "<style scoped>\n",
       "    .dataframe tbody tr th:only-of-type {\n",
       "        vertical-align: middle;\n",
       "    }\n",
       "\n",
       "    .dataframe tbody tr th {\n",
       "        vertical-align: top;\n",
       "    }\n",
       "\n",
       "    .dataframe thead th {\n",
       "        text-align: right;\n",
       "    }\n",
       "</style>\n",
       "<table border=\"1\" class=\"dataframe\">\n",
       "  <thead>\n",
       "    <tr style=\"text-align: right;\">\n",
       "      <th></th>\n",
       "      <th>California</th>\n",
       "      <th>Delaware</th>\n",
       "      <th>Texas</th>\n",
       "    </tr>\n",
       "  </thead>\n",
       "  <tbody>\n",
       "    <tr>\n",
       "      <th>0</th>\n",
       "      <td>0</td>\n",
       "      <td>0</td>\n",
       "      <td>1</td>\n",
       "    </tr>\n",
       "    <tr>\n",
       "      <th>1</th>\n",
       "      <td>1</td>\n",
       "      <td>0</td>\n",
       "      <td>0</td>\n",
       "    </tr>\n",
       "    <tr>\n",
       "      <th>2</th>\n",
       "      <td>0</td>\n",
       "      <td>0</td>\n",
       "      <td>1</td>\n",
       "    </tr>\n",
       "    <tr>\n",
       "      <th>3</th>\n",
       "      <td>0</td>\n",
       "      <td>1</td>\n",
       "      <td>0</td>\n",
       "    </tr>\n",
       "    <tr>\n",
       "      <th>4</th>\n",
       "      <td>0</td>\n",
       "      <td>0</td>\n",
       "      <td>1</td>\n",
       "    </tr>\n",
       "  </tbody>\n",
       "</table>\n",
       "</div>"
      ],
      "text/plain": [
       "   California  Delaware  Texas\n",
       "0           0         0      1\n",
       "1           1         0      0\n",
       "2           0         0      1\n",
       "3           0         1      0\n",
       "4           0         0      1"
      ]
     },
     "execution_count": 82,
     "metadata": {},
     "output_type": "execute_result"
    }
   ],
   "source": [
    "pd.get_dummies(feature[:, 0])"
   ]
  },
  {
   "cell_type": "markdown",
   "metadata": {
    "id": "QJ6ZauugTD_F"
   },
   "source": [
    "**Но вот если нам нужно закодировать признак, в котором может встречаться одновременно несколько классов?**"
   ]
  },
  {
   "cell_type": "code",
   "execution_count": null,
   "metadata": {
    "id": "wbAkc95BoCN7"
   },
   "outputs": [],
   "source": [
    "multiclass_feature = [(\"Texas\", \"Florida\"),\n",
    "                      (\"California\", \"Alabama\"),\n",
    "                      (\"Texas\", \"Florida\"),\n",
    "                      (\"Delware\", \"Florida\"),\n",
    "                      (\"Texas\", \"Alabama\")]"
   ]
  },
  {
   "cell_type": "code",
   "execution_count": null,
   "metadata": {
    "id": "Ds_puZDAoCLE"
   },
   "outputs": [],
   "source": [
    "# создадим мультиклассовый кодировщик\n",
    "one_hot_multiclass = MultiLabelBinarizer()"
   ]
  },
  {
   "cell_type": "code",
   "execution_count": null,
   "metadata": {
    "colab": {
     "base_uri": "https://localhost:8080/"
    },
    "executionInfo": {
     "elapsed": 61,
     "status": "ok",
     "timestamp": 1631623328250,
     "user": {
      "displayName": "Александр Аксёнов",
      "photoUrl": "https://lh3.googleusercontent.com/a-/AOh14GhmPE3kg2vafh4QNEoLX_DeI08tDxoR8I8MoJZP=s64",
      "userId": "11145992452404092449"
     },
     "user_tz": -300
    },
    "id": "SaQ8B35YoCGk",
    "outputId": "bada02fe-dee4-431b-e72a-a0d2a43206bd"
   },
   "outputs": [
    {
     "data": {
      "text/plain": [
       "array([[0, 0, 0, 1, 1],\n",
       "       [1, 1, 0, 0, 0],\n",
       "       [0, 0, 0, 1, 1],\n",
       "       [0, 0, 1, 1, 0],\n",
       "       [1, 0, 0, 0, 1]])"
      ]
     },
     "execution_count": 85,
     "metadata": {},
     "output_type": "execute_result"
    }
   ],
   "source": [
    "# И вот мы видим, что каждое наблюдение может иметь не одну единицу в одной строке\n",
    "# а столько сколько было категорий в одном наблюдении\n",
    "one_hot_multiclass.fit_transform(multiclass_feature)"
   ]
  },
  {
   "cell_type": "code",
   "execution_count": null,
   "metadata": {
    "colab": {
     "base_uri": "https://localhost:8080/"
    },
    "executionInfo": {
     "elapsed": 60,
     "status": "ok",
     "timestamp": 1631623328252,
     "user": {
      "displayName": "Александр Аксёнов",
      "photoUrl": "https://lh3.googleusercontent.com/a-/AOh14GhmPE3kg2vafh4QNEoLX_DeI08tDxoR8I8MoJZP=s64",
      "userId": "11145992452404092449"
     },
     "user_tz": -300
    },
    "id": "iZspKD8FT28Y",
    "outputId": "07cc9994-aaa2-4cf5-91b7-f80bec0ee8fc"
   },
   "outputs": [
    {
     "data": {
      "text/plain": [
       "array(['Alabama', 'California', 'Delware', 'Florida', 'Texas'],\n",
       "      dtype=object)"
      ]
     },
     "execution_count": 86,
     "metadata": {},
     "output_type": "execute_result"
    }
   ],
   "source": [
    "# можем посмотреть классы, которые участвовали в обучении кодировщика\n",
    "one_hot_multiclass.classes_"
   ]
  },
  {
   "cell_type": "code",
   "execution_count": null,
   "metadata": {
    "colab": {
     "base_uri": "https://localhost:8080/"
    },
    "executionInfo": {
     "elapsed": 59,
     "status": "ok",
     "timestamp": 1631623328253,
     "user": {
      "displayName": "Александр Аксёнов",
      "photoUrl": "https://lh3.googleusercontent.com/a-/AOh14GhmPE3kg2vafh4QNEoLX_DeI08tDxoR8I8MoJZP=s64",
      "userId": "11145992452404092449"
     },
     "user_tz": -300
    },
    "id": "g5ZnmVRBT2y3",
    "outputId": "8bfc117b-28ea-4654-985b-af5bbae66112"
   },
   "outputs": [
    {
     "data": {
      "text/plain": [
       "[('Florida', 'Texas'),\n",
       " ('Alabama', 'California'),\n",
       " ('Florida', 'Texas'),\n",
       " ('Delware', 'Florida'),\n",
       " ('Alabama', 'Texas')]"
      ]
     },
     "execution_count": 87,
     "metadata": {},
     "output_type": "execute_result"
    }
   ],
   "source": [
    "# тут также возможна обратная операция декодирования\n",
    "one_hot_multiclass.inverse_transform(one_hot_multiclass.fit_transform(multiclass_feature))"
   ]
  },
  {
   "cell_type": "markdown",
   "metadata": {
    "id": "OTbwIDT8Uvb2"
   },
   "source": [
    "### Кодирование порядковых категориальных признаков"
   ]
  },
  {
   "cell_type": "code",
   "execution_count": null,
   "metadata": {
    "colab": {
     "base_uri": "https://localhost:8080/"
    },
    "executionInfo": {
     "elapsed": 574,
     "status": "ok",
     "timestamp": 1631623328770,
     "user": {
      "displayName": "Александр Аксёнов",
      "photoUrl": "https://lh3.googleusercontent.com/a-/AOh14GhmPE3kg2vafh4QNEoLX_DeI08tDxoR8I8MoJZP=s64",
      "userId": "11145992452404092449"
     },
     "user_tz": -300
    },
    "id": "mpbbEAEUT2tJ",
    "outputId": "68d34c4a-e0e4-4c63-dac1-005b10e4168d"
   },
   "outputs": [
    {
     "data": {
      "text/html": [
       "<div>\n",
       "<style scoped>\n",
       "    .dataframe tbody tr th:only-of-type {\n",
       "        vertical-align: middle;\n",
       "    }\n",
       "\n",
       "    .dataframe tbody tr th {\n",
       "        vertical-align: top;\n",
       "    }\n",
       "\n",
       "    .dataframe thead th {\n",
       "        text-align: right;\n",
       "    }\n",
       "</style>\n",
       "<table border=\"1\" class=\"dataframe\">\n",
       "  <thead>\n",
       "    <tr style=\"text-align: right;\">\n",
       "      <th></th>\n",
       "      <th>оценка</th>\n",
       "    </tr>\n",
       "  </thead>\n",
       "  <tbody>\n",
       "    <tr>\n",
       "      <th>0</th>\n",
       "      <td>низкая</td>\n",
       "    </tr>\n",
       "    <tr>\n",
       "      <th>1</th>\n",
       "      <td>низкая</td>\n",
       "    </tr>\n",
       "    <tr>\n",
       "      <th>2</th>\n",
       "      <td>средняя</td>\n",
       "    </tr>\n",
       "    <tr>\n",
       "      <th>3</th>\n",
       "      <td>средняя</td>\n",
       "    </tr>\n",
       "    <tr>\n",
       "      <th>4</th>\n",
       "      <td>высокая</td>\n",
       "    </tr>\n",
       "  </tbody>\n",
       "</table>\n",
       "</div>"
      ],
      "text/plain": [
       "    оценка\n",
       "0   низкая\n",
       "1   низкая\n",
       "2  средняя\n",
       "3  средняя\n",
       "4  высокая"
      ]
     },
     "execution_count": 88,
     "metadata": {},
     "output_type": "execute_result"
    }
   ],
   "source": [
    "df = pd.DataFrame({\"оценка\": [\"низкая\", \"низкая\",\n",
    "                                      \"средняя\", \"средняя\", \"высокая\"]})\n",
    "df"
   ]
  },
  {
   "cell_type": "code",
   "execution_count": null,
   "metadata": {
    "id": "Q0HPhvItT2nu"
   },
   "outputs": [],
   "source": [
    "# создадим мапинг учитывающий порядок значимости\n",
    "scale_mapper = {\"низкая\":1,\n",
    "                \"средняя\":2,\n",
    "                \"высокая\":3}"
   ]
  },
  {
   "cell_type": "code",
   "execution_count": null,
   "metadata": {
    "colab": {
     "base_uri": "https://localhost:8080/"
    },
    "executionInfo": {
     "elapsed": 77,
     "status": "ok",
     "timestamp": 1631623328773,
     "user": {
      "displayName": "Александр Аксёнов",
      "photoUrl": "https://lh3.googleusercontent.com/a-/AOh14GhmPE3kg2vafh4QNEoLX_DeI08tDxoR8I8MoJZP=s64",
      "userId": "11145992452404092449"
     },
     "user_tz": -300
    },
    "id": "FEMCKBUXT2jh",
    "outputId": "bbe819e4-da44-4ca5-fb22-7d02d0f5b871"
   },
   "outputs": [
    {
     "data": {
      "text/plain": [
       "0    1\n",
       "1    1\n",
       "2    2\n",
       "3    2\n",
       "4    3\n",
       "Name: оценка, dtype: int64"
      ]
     },
     "execution_count": 90,
     "metadata": {},
     "output_type": "execute_result"
    }
   ],
   "source": [
    "df['оценка'].map(scale_mapper)"
   ]
  },
  {
   "cell_type": "markdown",
   "metadata": {
    "id": "wxjk4P72Z28o"
   },
   "source": [
    "### Кодирование словарей"
   ]
  },
  {
   "cell_type": "code",
   "execution_count": null,
   "metadata": {
    "id": "J6kLiS9XT2Xf"
   },
   "outputs": [],
   "source": [
    "from sklearn.feature_extraction import DictVectorizer"
   ]
  },
  {
   "cell_type": "code",
   "execution_count": null,
   "metadata": {
    "id": "p6kV_Y9KT2SX"
   },
   "outputs": [],
   "source": [
    "data_dict = [{\"красный\": 2, \"синий\" : 4},\n",
    "             {\"красный\": 4, \"синий\": 3},\n",
    "             {\"красный\": 1, \"желтый\": 2},\n",
    "             {\"красный\": 2, \"желтый\": 2}]"
   ]
  },
  {
   "cell_type": "code",
   "execution_count": null,
   "metadata": {
    "id": "B3pzyzi1T2PI"
   },
   "outputs": [],
   "source": [
    "# создаем трансформер. sparse=False указывает на то, что нужно создать обычную матрицу, не разреженную\n",
    "dictvectorizer = DictVectorizer(sparse=False)"
   ]
  },
  {
   "cell_type": "code",
   "execution_count": null,
   "metadata": {
    "id": "QuPQu-7yT2MF"
   },
   "outputs": [],
   "source": [
    "# применяем трансформер\n",
    "features = dictvectorizer.fit_transform(data_dict)"
   ]
  },
  {
   "cell_type": "code",
   "execution_count": null,
   "metadata": {
    "colab": {
     "base_uri": "https://localhost:8080/"
    },
    "executionInfo": {
     "elapsed": 75,
     "status": "ok",
     "timestamp": 1631623328780,
     "user": {
      "displayName": "Александр Аксёнов",
      "photoUrl": "https://lh3.googleusercontent.com/a-/AOh14GhmPE3kg2vafh4QNEoLX_DeI08tDxoR8I8MoJZP=s64",
      "userId": "11145992452404092449"
     },
     "user_tz": -300
    },
    "id": "byM7LfmoT2Gk",
    "outputId": "25e9216d-9677-4f42-d1bf-e70e64ddbd94"
   },
   "outputs": [
    {
     "data": {
      "text/plain": [
       "array([[0., 2., 4.],\n",
       "       [0., 4., 3.],\n",
       "       [2., 1., 0.],\n",
       "       [2., 2., 0.]])"
      ]
     },
     "execution_count": 95,
     "metadata": {},
     "output_type": "execute_result"
    }
   ],
   "source": [
    "# результат трансформации\n",
    "features"
   ]
  },
  {
   "cell_type": "code",
   "execution_count": null,
   "metadata": {
    "colab": {
     "base_uri": "https://localhost:8080/"
    },
    "executionInfo": {
     "elapsed": 75,
     "status": "ok",
     "timestamp": 1631623328782,
     "user": {
      "displayName": "Александр Аксёнов",
      "photoUrl": "https://lh3.googleusercontent.com/a-/AOh14GhmPE3kg2vafh4QNEoLX_DeI08tDxoR8I8MoJZP=s64",
      "userId": "11145992452404092449"
     },
     "user_tz": -300
    },
    "id": "2jdYARHlT2DK",
    "outputId": "4a76d5f2-5b67-4471-bb57-8cb85917fba8"
   },
   "outputs": [
    {
     "data": {
      "text/plain": [
       "['желтый', 'красный', 'синий']"
      ]
     },
     "execution_count": 96,
     "metadata": {},
     "output_type": "execute_result"
    }
   ],
   "source": [
    "# классы, которые запомнил трансформер данных. Их можно применить для создания имен признаков\n",
    "dictvectorizer.get_feature_names()"
   ]
  },
  {
   "cell_type": "code",
   "execution_count": null,
   "metadata": {
    "colab": {
     "base_uri": "https://localhost:8080/"
    },
    "executionInfo": {
     "elapsed": 74,
     "status": "ok",
     "timestamp": 1631623328783,
     "user": {
      "displayName": "Александр Аксёнов",
      "photoUrl": "https://lh3.googleusercontent.com/a-/AOh14GhmPE3kg2vafh4QNEoLX_DeI08tDxoR8I8MoJZP=s64",
      "userId": "11145992452404092449"
     },
     "user_tz": -300
    },
    "id": "gfOE5k_cT2AH",
    "outputId": "1999d1b3-bad0-47ce-e918-c2ec82d10b5d"
   },
   "outputs": [
    {
     "data": {
      "text/html": [
       "<div>\n",
       "<style scoped>\n",
       "    .dataframe tbody tr th:only-of-type {\n",
       "        vertical-align: middle;\n",
       "    }\n",
       "\n",
       "    .dataframe tbody tr th {\n",
       "        vertical-align: top;\n",
       "    }\n",
       "\n",
       "    .dataframe thead th {\n",
       "        text-align: right;\n",
       "    }\n",
       "</style>\n",
       "<table border=\"1\" class=\"dataframe\">\n",
       "  <thead>\n",
       "    <tr style=\"text-align: right;\">\n",
       "      <th></th>\n",
       "      <th>желтый</th>\n",
       "      <th>красный</th>\n",
       "      <th>синий</th>\n",
       "    </tr>\n",
       "  </thead>\n",
       "  <tbody>\n",
       "    <tr>\n",
       "      <th>0</th>\n",
       "      <td>0.0</td>\n",
       "      <td>2.0</td>\n",
       "      <td>4.0</td>\n",
       "    </tr>\n",
       "    <tr>\n",
       "      <th>1</th>\n",
       "      <td>0.0</td>\n",
       "      <td>4.0</td>\n",
       "      <td>3.0</td>\n",
       "    </tr>\n",
       "    <tr>\n",
       "      <th>2</th>\n",
       "      <td>2.0</td>\n",
       "      <td>1.0</td>\n",
       "      <td>0.0</td>\n",
       "    </tr>\n",
       "    <tr>\n",
       "      <th>3</th>\n",
       "      <td>2.0</td>\n",
       "      <td>2.0</td>\n",
       "      <td>0.0</td>\n",
       "    </tr>\n",
       "  </tbody>\n",
       "</table>\n",
       "</div>"
      ],
      "text/plain": [
       "   желтый  красный  синий\n",
       "0     0.0      2.0    4.0\n",
       "1     0.0      4.0    3.0\n",
       "2     2.0      1.0    0.0\n",
       "3     2.0      2.0    0.0"
      ]
     },
     "execution_count": 97,
     "metadata": {},
     "output_type": "execute_result"
    }
   ],
   "source": [
    "pd.DataFrame(features, columns=dictvectorizer.get_feature_names())"
   ]
  },
  {
   "cell_type": "markdown",
   "metadata": {
    "id": "44ojH0lUjtlq"
   },
   "source": [
    "## Построим простейшую модель предсказания класса"
   ]
  },
  {
   "cell_type": "markdown",
   "metadata": {
    "id": "RzJTEIX8kesN"
   },
   "source": [
    "**Начнем наше знакомство с моделями машинного обучения с задачи классификации**"
   ]
  },
  {
   "cell_type": "code",
   "execution_count": null,
   "metadata": {
    "id": "uEshFWpTT19S"
   },
   "outputs": [],
   "source": [
    "from sklearn.linear_model import LogisticRegression\n",
    "# https://scikit-learn.org/stable/modules/generated/sklearn.linear_model.LogisticRegression.html"
   ]
  },
  {
   "cell_type": "markdown",
   "metadata": {
    "id": "S4z4rCWJk1XJ"
   },
   "source": [
    "Давайте сведем задачу регресси, которую предоставляет бостонский набор, к задаче классификации, используя полученные навыки дискретизации данных"
   ]
  },
  {
   "cell_type": "code",
   "execution_count": null,
   "metadata": {
    "colab": {
     "base_uri": "https://localhost:8080/"
    },
    "executionInfo": {
     "elapsed": 72,
     "status": "ok",
     "timestamp": 1631623328786,
     "user": {
      "displayName": "Александр Аксёнов",
      "photoUrl": "https://lh3.googleusercontent.com/a-/AOh14GhmPE3kg2vafh4QNEoLX_DeI08tDxoR8I8MoJZP=s64",
      "userId": "11145992452404092449"
     },
     "user_tz": -300
    },
    "id": "eOz6TzlOjesl",
    "outputId": "645e32b7-dd0e-4d3d-d238-4dfcfc1c10ef"
   },
   "outputs": [
    {
     "data": {
      "text/html": [
       "<div>\n",
       "<style scoped>\n",
       "    .dataframe tbody tr th:only-of-type {\n",
       "        vertical-align: middle;\n",
       "    }\n",
       "\n",
       "    .dataframe tbody tr th {\n",
       "        vertical-align: top;\n",
       "    }\n",
       "\n",
       "    .dataframe thead th {\n",
       "        text-align: right;\n",
       "    }\n",
       "</style>\n",
       "<table border=\"1\" class=\"dataframe\">\n",
       "  <thead>\n",
       "    <tr style=\"text-align: right;\">\n",
       "      <th></th>\n",
       "      <th>CRIM</th>\n",
       "      <th>ZN</th>\n",
       "      <th>INDUS</th>\n",
       "      <th>CHAS</th>\n",
       "      <th>NOX</th>\n",
       "      <th>RM</th>\n",
       "      <th>AGE</th>\n",
       "      <th>DIS</th>\n",
       "      <th>RAD</th>\n",
       "      <th>TAX</th>\n",
       "      <th>PTRATIO</th>\n",
       "      <th>B</th>\n",
       "      <th>LSTAT</th>\n",
       "      <th>target</th>\n",
       "    </tr>\n",
       "  </thead>\n",
       "  <tbody>\n",
       "    <tr>\n",
       "      <th>120</th>\n",
       "      <td>0.06899</td>\n",
       "      <td>0.0</td>\n",
       "      <td>25.65</td>\n",
       "      <td>0.0</td>\n",
       "      <td>0.581</td>\n",
       "      <td>5.87</td>\n",
       "      <td>69.7</td>\n",
       "      <td>2.2577</td>\n",
       "      <td>2.0</td>\n",
       "      <td>188.0</td>\n",
       "      <td>19.1</td>\n",
       "      <td>389.15</td>\n",
       "      <td>14.37</td>\n",
       "      <td>22.0</td>\n",
       "    </tr>\n",
       "  </tbody>\n",
       "</table>\n",
       "</div>"
      ],
      "text/plain": [
       "        CRIM   ZN  INDUS  CHAS    NOX  ...    TAX  PTRATIO       B  LSTAT  target\n",
       "120  0.06899  0.0  25.65   0.0  0.581  ...  188.0     19.1  389.15  14.37    22.0\n",
       "\n",
       "[1 rows x 14 columns]"
      ]
     },
     "execution_count": 99,
     "metadata": {},
     "output_type": "execute_result"
    }
   ],
   "source": [
    "PATH = 'https://raw.githubusercontent.com/aksenov7/Kaggle_competition_group/master/boston_full.csv'\n",
    "df = pd.read_csv(PATH, sep='\\t')\n",
    "df.sample()"
   ]
  },
  {
   "cell_type": "markdown",
   "metadata": {
    "id": "JNgeOxfZu3No"
   },
   "source": [
    "Сейчас мы наблюдаем, что целевой признак не является дискретным, а значит нет классво, которые можно предсказывать"
   ]
  },
  {
   "cell_type": "markdown",
   "metadata": {
    "id": "D6Y806Bxu_fg"
   },
   "source": [
    "Давайте применим дискретизацию квантильным методом. Создадим 10 классов"
   ]
  },
  {
   "cell_type": "code",
   "execution_count": null,
   "metadata": {
    "colab": {
     "base_uri": "https://localhost:8080/"
    },
    "executionInfo": {
     "elapsed": 71,
     "status": "ok",
     "timestamp": 1631623328788,
     "user": {
      "displayName": "Александр Аксёнов",
      "photoUrl": "https://lh3.googleusercontent.com/a-/AOh14GhmPE3kg2vafh4QNEoLX_DeI08tDxoR8I8MoJZP=s64",
      "userId": "11145992452404092449"
     },
     "user_tz": -300
    },
    "id": "ic9RhUvmjeUo",
    "outputId": "1042b9df-17b5-43e3-9396-26ef5d17d93b"
   },
   "outputs": [
    {
     "data": {
      "text/plain": [
       "array([  0.,  50., 100.])"
      ]
     },
     "execution_count": 100,
     "metadata": {},
     "output_type": "execute_result"
    }
   ],
   "source": [
    "n_class = 2\n",
    "quantiles = np.linspace(0, 100, n_class + 1)\n",
    "quantiles"
   ]
  },
  {
   "cell_type": "code",
   "execution_count": null,
   "metadata": {
    "id": "ww95ddlTjefO"
   },
   "outputs": [],
   "source": [
    "est = KBinsDiscretizer(n_bins=n_class, encode='ordinal', strategy='quantile').fit(df.target.values.reshape(-1,1)) #uniform  kmeans  quantile\n",
    "new_target = est.transform(df.target.values.reshape(-1,1))"
   ]
  },
  {
   "cell_type": "code",
   "execution_count": null,
   "metadata": {
    "colab": {
     "base_uri": "https://localhost:8080/"
    },
    "executionInfo": {
     "elapsed": 71,
     "status": "ok",
     "timestamp": 1631623328791,
     "user": {
      "displayName": "Александр Аксёнов",
      "photoUrl": "https://lh3.googleusercontent.com/a-/AOh14GhmPE3kg2vafh4QNEoLX_DeI08tDxoR8I8MoJZP=s64",
      "userId": "11145992452404092449"
     },
     "user_tz": -300
    },
    "id": "ioVOoY4-VBJJ",
    "outputId": "fc7dee04-d052-4d53-9e33-b29a77005bf8"
   },
   "outputs": [
    {
     "data": {
      "text/plain": [
       "array([array([ 5. , 21.2, 50. ])], dtype=object)"
      ]
     },
     "execution_count": 102,
     "metadata": {},
     "output_type": "execute_result"
    }
   ],
   "source": [
    "est.bin_edges_"
   ]
  },
  {
   "cell_type": "markdown",
   "metadata": {
    "id": "oDudHraJwgPS"
   },
   "source": [
    "Заменим целевой признак"
   ]
  },
  {
   "cell_type": "code",
   "execution_count": null,
   "metadata": {
    "id": "hXtfRVlBjeOt"
   },
   "outputs": [],
   "source": [
    "df['target'] = new_target"
   ]
  },
  {
   "cell_type": "markdown",
   "metadata": {
    "id": "XudYUJHdwj_Q"
   },
   "source": [
    "Проверим, что получили то, что ожидали"
   ]
  },
  {
   "cell_type": "code",
   "execution_count": null,
   "metadata": {
    "colab": {
     "base_uri": "https://localhost:8080/"
    },
    "executionInfo": {
     "elapsed": 70,
     "status": "ok",
     "timestamp": 1631623328794,
     "user": {
      "displayName": "Александр Аксёнов",
      "photoUrl": "https://lh3.googleusercontent.com/a-/AOh14GhmPE3kg2vafh4QNEoLX_DeI08tDxoR8I8MoJZP=s64",
      "userId": "11145992452404092449"
     },
     "user_tz": -300
    },
    "id": "e0ICdo-6jeMI",
    "outputId": "4f39f5f8-707a-4f07-c87f-728ae2b1564a"
   },
   "outputs": [
    {
     "data": {
      "text/plain": [
       "1.0    255\n",
       "0.0    251\n",
       "Name: target, dtype: int64"
      ]
     },
     "execution_count": 104,
     "metadata": {},
     "output_type": "execute_result"
    }
   ],
   "source": [
    "# Видим, что классы цен распределились почти с идеальным балансом\n",
    "df.target.value_counts()"
   ]
  },
  {
   "cell_type": "code",
   "execution_count": null,
   "metadata": {
    "colab": {
     "base_uri": "https://localhost:8080/"
    },
    "executionInfo": {
     "elapsed": 71,
     "status": "ok",
     "timestamp": 1631623328797,
     "user": {
      "displayName": "Александр Аксёнов",
      "photoUrl": "https://lh3.googleusercontent.com/a-/AOh14GhmPE3kg2vafh4QNEoLX_DeI08tDxoR8I8MoJZP=s64",
      "userId": "11145992452404092449"
     },
     "user_tz": -300
    },
    "id": "30kO9-Ckx4sC",
    "outputId": "82fdf9c6-c82c-4fca-9d09-6a76cf4fd266"
   },
   "outputs": [
    {
     "name": "stdout",
     "output_type": "stream",
     "text": [
      "<class 'pandas.core.frame.DataFrame'>\n",
      "RangeIndex: 506 entries, 0 to 505\n",
      "Data columns (total 14 columns):\n",
      " #   Column   Non-Null Count  Dtype  \n",
      "---  ------   --------------  -----  \n",
      " 0   CRIM     506 non-null    float64\n",
      " 1   ZN       506 non-null    float64\n",
      " 2   INDUS    506 non-null    float64\n",
      " 3   CHAS     506 non-null    float64\n",
      " 4   NOX      506 non-null    float64\n",
      " 5   RM       506 non-null    float64\n",
      " 6   AGE      506 non-null    float64\n",
      " 7   DIS      506 non-null    float64\n",
      " 8   RAD      506 non-null    float64\n",
      " 9   TAX      506 non-null    float64\n",
      " 10  PTRATIO  506 non-null    float64\n",
      " 11  B        506 non-null    float64\n",
      " 12  LSTAT    506 non-null    float64\n",
      " 13  target   506 non-null    float64\n",
      "dtypes: float64(14)\n",
      "memory usage: 55.5 KB\n"
     ]
    }
   ],
   "source": [
    "df.info()"
   ]
  },
  {
   "cell_type": "code",
   "execution_count": null,
   "metadata": {
    "colab": {
     "base_uri": "https://localhost:8080/"
    },
    "executionInfo": {
     "elapsed": 70,
     "status": "ok",
     "timestamp": 1631623328797,
     "user": {
      "displayName": "Александр Аксёнов",
      "photoUrl": "https://lh3.googleusercontent.com/a-/AOh14GhmPE3kg2vafh4QNEoLX_DeI08tDxoR8I8MoJZP=s64",
      "userId": "11145992452404092449"
     },
     "user_tz": -300
    },
    "id": "ZTNRrgev7NVm",
    "outputId": "d4bae799-b1e4-4461-fcb6-f9fb666ea52c"
   },
   "outputs": [
    {
     "data": {
      "text/plain": [
       "(506, 13)"
      ]
     },
     "execution_count": 106,
     "metadata": {},
     "output_type": "execute_result"
    }
   ],
   "source": [
    "df.drop('target', axis=1, inplace=True)\n",
    "df.shape"
   ]
  },
  {
   "cell_type": "markdown",
   "metadata": {
    "id": "iReN2YyMxXBX"
   },
   "source": [
    "Итак, у нас есть набор данных, который подходит для классификации. В котором нет пропусков и не числовых признаков. А значит в таком виде, без каких либо преобразований его уже можно передать алгоритму машинного обучения. Это будет так называемой BaseLine моделью"
   ]
  },
  {
   "cell_type": "markdown",
   "metadata": {
    "id": "YAbtTjbs1M4i"
   },
   "source": [
    "1. Сначала нужно отделить часть набора данных, который поможет нам тестировать результат. Он так и называется \"тестовый набор\". А тот, который останется для обучения, соответственно \"тренировочный набор\""
   ]
  },
  {
   "cell_type": "code",
   "execution_count": null,
   "metadata": {
    "id": "zyl6CsIi3Nbz"
   },
   "outputs": [],
   "source": [
    "# импортируем модуль, который помогает случайным образом разбиыть набор данных на тренировочную и тестовую части\n",
    "from sklearn.model_selection import train_test_split\n",
    "# https://scikit-learn.org/stable/modules/generated/sklearn.model_selection.train_test_split.html"
   ]
  },
  {
   "cell_type": "code",
   "execution_count": null,
   "metadata": {
    "id": "MWaiBFw93XIa"
   },
   "outputs": [],
   "source": [
    "X_train, X_test, y_train, y_test = train_test_split(\n",
    "                                                    df,\n",
    "                                                    new_target.ravel(),\n",
    "                                                    test_size=0.2,\n",
    "                                                    random_state=42,\n",
    "                                                    stratify=new_target)"
   ]
  },
  {
   "cell_type": "code",
   "execution_count": null,
   "metadata": {
    "colab": {
     "base_uri": "https://localhost:8080/"
    },
    "executionInfo": {
     "elapsed": 69,
     "status": "ok",
     "timestamp": 1631623328801,
     "user": {
      "displayName": "Александр Аксёнов",
      "photoUrl": "https://lh3.googleusercontent.com/a-/AOh14GhmPE3kg2vafh4QNEoLX_DeI08tDxoR8I8MoJZP=s64",
      "userId": "11145992452404092449"
     },
     "user_tz": -300
    },
    "id": "ZwaqNEoD8wRF",
    "outputId": "7253f9bd-1005-48d0-82be-7ffafdd80fc3"
   },
   "outputs": [
    {
     "data": {
      "text/plain": [
       "((404, 13), (102, 13), (404,), (102,))"
      ]
     },
     "execution_count": 109,
     "metadata": {},
     "output_type": "execute_result"
    }
   ],
   "source": [
    "X_train.shape, X_test.shape, y_train.shape, y_test.shape"
   ]
  },
  {
   "cell_type": "code",
   "execution_count": null,
   "metadata": {
    "id": "9BJRwe16JkVS"
   },
   "outputs": [],
   "source": [
    "# standart_scaler = preprocessing.StandardScaler()\n",
    "# standart_feature = standart_scaler.fit(X_train)\n",
    "# X_train_scal = standart_feature.transform(X_train)\n",
    "# X_test_scal = standart_feature.transform(X_test)"
   ]
  },
  {
   "cell_type": "markdown",
   "metadata": {
    "id": "6TL-g1VE_LwK"
   },
   "source": [
    "2. Обучим модель"
   ]
  },
  {
   "cell_type": "code",
   "execution_count": null,
   "metadata": {
    "id": "OTA8w-pJjeEc"
   },
   "outputs": [],
   "source": [
    "# создадим простой регрессор\n",
    "lr = LogisticRegression()"
   ]
  },
  {
   "cell_type": "code",
   "execution_count": null,
   "metadata": {
    "colab": {
     "base_uri": "https://localhost:8080/"
    },
    "executionInfo": {
     "elapsed": 69,
     "status": "ok",
     "timestamp": 1631623328806,
     "user": {
      "displayName": "Александр Аксёнов",
      "photoUrl": "https://lh3.googleusercontent.com/a-/AOh14GhmPE3kg2vafh4QNEoLX_DeI08tDxoR8I8MoJZP=s64",
      "userId": "11145992452404092449"
     },
     "user_tz": -300
    },
    "id": "779ScWmAjd9m",
    "outputId": "6cdf5d70-e6b7-4acf-9d60-da9f76a2c87c"
   },
   "outputs": [
    {
     "name": "stderr",
     "output_type": "stream",
     "text": [
      "/usr/local/lib/python3.7/dist-packages/sklearn/linear_model/_logistic.py:940: ConvergenceWarning: lbfgs failed to converge (status=1):\n",
      "STOP: TOTAL NO. of ITERATIONS REACHED LIMIT.\n",
      "\n",
      "Increase the number of iterations (max_iter) or scale the data as shown in:\n",
      "    https://scikit-learn.org/stable/modules/preprocessing.html\n",
      "Please also refer to the documentation for alternative solver options:\n",
      "    https://scikit-learn.org/stable/modules/linear_model.html#logistic-regression\n",
      "  extra_warning_msg=_LOGISTIC_SOLVER_CONVERGENCE_MSG)\n"
     ]
    },
    {
     "data": {
      "text/plain": [
       "LogisticRegression(C=1.0, class_weight=None, dual=False, fit_intercept=True,\n",
       "                   intercept_scaling=1, l1_ratio=None, max_iter=100,\n",
       "                   multi_class='auto', n_jobs=None, penalty='l2',\n",
       "                   random_state=None, solver='lbfgs', tol=0.0001, verbose=0,\n",
       "                   warm_start=False)"
      ]
     },
     "execution_count": 112,
     "metadata": {},
     "output_type": "execute_result"
    }
   ],
   "source": [
    "lr.fit(X_train, y_train)"
   ]
  },
  {
   "cell_type": "code",
   "execution_count": null,
   "metadata": {
    "id": "P5tzXzwnjd7J"
   },
   "outputs": [],
   "source": [
    "predict = lr.predict(X_test)"
   ]
  },
  {
   "cell_type": "markdown",
   "metadata": {
    "id": "uyWttjrS_w1z"
   },
   "source": [
    "3. Нам нужно проверить качество модели. Используем встроенные методы оценки качества"
   ]
  },
  {
   "cell_type": "code",
   "execution_count": null,
   "metadata": {
    "colab": {
     "base_uri": "https://localhost:8080/"
    },
    "executionInfo": {
     "elapsed": 64,
     "status": "ok",
     "timestamp": 1631623328808,
     "user": {
      "displayName": "Александр Аксёнов",
      "photoUrl": "https://lh3.googleusercontent.com/a-/AOh14GhmPE3kg2vafh4QNEoLX_DeI08tDxoR8I8MoJZP=s64",
      "userId": "11145992452404092449"
     },
     "user_tz": -300
    },
    "id": "1JphBHRbALpR",
    "outputId": "5438f6a3-871f-4af4-8d91-8020eb0282ee"
   },
   "outputs": [
    {
     "data": {
      "text/plain": [
       "0.8431372549019608"
      ]
     },
     "execution_count": 114,
     "metadata": {},
     "output_type": "execute_result"
    }
   ],
   "source": [
    "accuracy_score(y_test, predict)"
   ]
  },
  {
   "cell_type": "markdown",
   "metadata": {
    "id": "AFLCiX-t_GRR"
   },
   "source": [
    "## Метрики качества моделей\n",
    "\n",
    "https://docs.google.com/presentation/d/1XRiibc9BVsDYayxWDrnQ7giW9QPFaWjW_2RPNWeEJE0/edit?usp=sharing"
   ]
  },
  {
   "cell_type": "markdown",
   "metadata": {
    "id": "HD6pLSQ3e-yo"
   },
   "source": [
    "**Сделаем немного другую разбивку по целевому признаку**"
   ]
  },
  {
   "cell_type": "code",
   "execution_count": null,
   "metadata": {
    "colab": {
     "base_uri": "https://localhost:8080/"
    },
    "executionInfo": {
     "elapsed": 407,
     "status": "ok",
     "timestamp": 1631623329153,
     "user": {
      "displayName": "Александр Аксёнов",
      "photoUrl": "https://lh3.googleusercontent.com/a-/AOh14GhmPE3kg2vafh4QNEoLX_DeI08tDxoR8I8MoJZP=s64",
      "userId": "11145992452404092449"
     },
     "user_tz": -300
    },
    "id": "16shZXOxe-WN",
    "outputId": "3a855dda-4ba5-4d63-c910-e4a67f17172e"
   },
   "outputs": [
    {
     "name": "stdout",
     "output_type": "stream",
     "text": [
      "1.0    429\n",
      "0.0     77\n",
      "Name: target, dtype: int64\n"
     ]
    }
   ],
   "source": [
    "PATH = 'https://raw.githubusercontent.com/aksenov7/Kaggle_competition_group/master/boston_full.csv'\n",
    "df = pd.read_csv(PATH, sep='\\t')\n",
    "est = Binarizer(14).fit(df.target.values.reshape(-1,1))\n",
    "new_target = est.transform(df.target.values.reshape(-1,1))\n",
    "df['target'] = new_target\n",
    "print(df.target.value_counts())\n",
    "df.drop('target', axis=1, inplace=True)"
   ]
  },
  {
   "cell_type": "code",
   "execution_count": null,
   "metadata": {
    "colab": {
     "base_uri": "https://localhost:8080/"
    },
    "executionInfo": {
     "elapsed": 61,
     "status": "ok",
     "timestamp": 1631623329154,
     "user": {
      "displayName": "Александр Аксёнов",
      "photoUrl": "https://lh3.googleusercontent.com/a-/AOh14GhmPE3kg2vafh4QNEoLX_DeI08tDxoR8I8MoJZP=s64",
      "userId": "11145992452404092449"
     },
     "user_tz": -300
    },
    "id": "XIZaYGO6e-LC",
    "outputId": "5774fd08-c265-42ee-f7e9-eb2ca4b01246"
   },
   "outputs": [
    {
     "name": "stderr",
     "output_type": "stream",
     "text": [
      "/usr/local/lib/python3.7/dist-packages/sklearn/linear_model/_logistic.py:940: ConvergenceWarning: lbfgs failed to converge (status=1):\n",
      "STOP: TOTAL NO. of ITERATIONS REACHED LIMIT.\n",
      "\n",
      "Increase the number of iterations (max_iter) or scale the data as shown in:\n",
      "    https://scikit-learn.org/stable/modules/preprocessing.html\n",
      "Please also refer to the documentation for alternative solver options:\n",
      "    https://scikit-learn.org/stable/modules/linear_model.html#logistic-regression\n",
      "  extra_warning_msg=_LOGISTIC_SOLVER_CONVERGENCE_MSG)\n"
     ]
    }
   ],
   "source": [
    "X_train, X_test, y_train, y_test = train_test_split(\n",
    "                                                    df,\n",
    "                                                    new_target.ravel(),\n",
    "                                                    test_size=0.2,\n",
    "                                                    random_state=42,\n",
    "                                                    stratify=new_target)\n",
    "lr = LogisticRegression()\n",
    "lr.fit(X_train, y_train)\n",
    "predict = lr.predict(X_test)"
   ]
  },
  {
   "cell_type": "markdown",
   "metadata": {
    "id": "nPsFuyfMgNgO"
   },
   "source": [
    "- TP — это количество верно классифицированных меток положительного класса\n",
    "- TN — это количество верно классифицированных меток отрицательного класса\n",
    "- FP — это количество не верно классифицированных меток положительного класса\n",
    "- FN — это количество не верно классифицированных меток отрицательного класса\n"
   ]
  },
  {
   "cell_type": "markdown",
   "metadata": {
    "id": "lwpcVsN9gSuU"
   },
   "source": [
    "![изображение.png](data:image/png;base64,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)"
   ]
  },
  {
   "cell_type": "code",
   "execution_count": null,
   "metadata": {
    "colab": {
     "base_uri": "https://localhost:8080/"
    },
    "executionInfo": {
     "elapsed": 59,
     "status": "ok",
     "timestamp": 1631623329157,
     "user": {
      "displayName": "Александр Аксёнов",
      "photoUrl": "https://lh3.googleusercontent.com/a-/AOh14GhmPE3kg2vafh4QNEoLX_DeI08tDxoR8I8MoJZP=s64",
      "userId": "11145992452404092449"
     },
     "user_tz": -300
    },
    "id": "UbLDE6pG0JGR",
    "outputId": "88818de2-f56c-4550-b888-3ea4aaeca2de"
   },
   "outputs": [
    {
     "data": {
      "text/plain": [
       "array([1., 1., 1.])"
      ]
     },
     "execution_count": 117,
     "metadata": {},
     "output_type": "execute_result"
    }
   ],
   "source": [
    "predict[:3]"
   ]
  },
  {
   "cell_type": "code",
   "execution_count": null,
   "metadata": {
    "colab": {
     "base_uri": "https://localhost:8080/"
    },
    "executionInfo": {
     "elapsed": 60,
     "status": "ok",
     "timestamp": 1631623329160,
     "user": {
      "displayName": "Александр Аксёнов",
      "photoUrl": "https://lh3.googleusercontent.com/a-/AOh14GhmPE3kg2vafh4QNEoLX_DeI08tDxoR8I8MoJZP=s64",
      "userId": "11145992452404092449"
     },
     "user_tz": -300
    },
    "id": "pgJKHAH9gN4v",
    "outputId": "6f9ef349-a322-4a4f-c8b9-c9d8ba4f1df8"
   },
   "outputs": [
    {
     "data": {
      "text/plain": [
       "0.9313725490196079"
      ]
     },
     "execution_count": 118,
     "metadata": {},
     "output_type": "execute_result"
    }
   ],
   "source": [
    "accuracy_score(y_test, predict)"
   ]
  },
  {
   "cell_type": "code",
   "execution_count": null,
   "metadata": {
    "colab": {
     "base_uri": "https://localhost:8080/"
    },
    "executionInfo": {
     "elapsed": 57,
     "status": "ok",
     "timestamp": 1631623329160,
     "user": {
      "displayName": "Александр Аксёнов",
      "photoUrl": "https://lh3.googleusercontent.com/a-/AOh14GhmPE3kg2vafh4QNEoLX_DeI08tDxoR8I8MoJZP=s64",
      "userId": "11145992452404092449"
     },
     "user_tz": -300
    },
    "id": "Sd5XprUPjd3_",
    "outputId": "013f7733-aeb9-43f1-f04d-4a6ad2a7dbd9"
   },
   "outputs": [
    {
     "data": {
      "text/plain": [
       "0.9438202247191011"
      ]
     },
     "execution_count": 119,
     "metadata": {},
     "output_type": "execute_result"
    }
   ],
   "source": [
    "precision_score(y_test, predict)"
   ]
  },
  {
   "cell_type": "code",
   "execution_count": null,
   "metadata": {
    "colab": {
     "base_uri": "https://localhost:8080/"
    },
    "executionInfo": {
     "elapsed": 56,
     "status": "ok",
     "timestamp": 1631623329162,
     "user": {
      "displayName": "Александр Аксёнов",
      "photoUrl": "https://lh3.googleusercontent.com/a-/AOh14GhmPE3kg2vafh4QNEoLX_DeI08tDxoR8I8MoJZP=s64",
      "userId": "11145992452404092449"
     },
     "user_tz": -300
    },
    "id": "lG4y4l69jd1l",
    "outputId": "1c3863fd-8d8f-4585-e9fe-363d8dbd0741"
   },
   "outputs": [
    {
     "data": {
      "text/plain": [
       "0.9767441860465116"
      ]
     },
     "execution_count": 120,
     "metadata": {},
     "output_type": "execute_result"
    }
   ],
   "source": [
    "recall_score(y_test, predict)"
   ]
  },
  {
   "cell_type": "code",
   "execution_count": null,
   "metadata": {
    "colab": {
     "base_uri": "https://localhost:8080/"
    },
    "executionInfo": {
     "elapsed": 54,
     "status": "ok",
     "timestamp": 1631623329163,
     "user": {
      "displayName": "Александр Аксёнов",
      "photoUrl": "https://lh3.googleusercontent.com/a-/AOh14GhmPE3kg2vafh4QNEoLX_DeI08tDxoR8I8MoJZP=s64",
      "userId": "11145992452404092449"
     },
     "user_tz": -300
    },
    "id": "zAoZPnwQdVpp",
    "outputId": "49c5f564-7170-493a-ad5c-40b84d1954a9"
   },
   "outputs": [
    {
     "data": {
      "text/plain": [
       "0.9284110885733603"
      ]
     },
     "execution_count": 121,
     "metadata": {},
     "output_type": "execute_result"
    }
   ],
   "source": [
    "f1_score(y_test, predict, average='weighted') # micro, macro, weighted, binary"
   ]
  },
  {
   "cell_type": "markdown",
   "metadata": {
    "id": "mAhRDTgJKMQq"
   },
   "source": [
    "- 'binary' - результат только для класса, указанного как позитивный\n",
    "- ‘micro’ - вычисляет показатели глобально, подсчитывая общее количество истинно позитивных срабатываний, ложно негативных срабатываний и ложно позитивных срабатываний\n",
    "- ‘macro’ - вычисляет показатели для каждого класса и находит их невзвешенное среднее. При этом **НЕ** учитывается дисбаланс классов.\n",
    "- ’weighted’ - вычисляет показатели для каждого класса и находит их невзвешенное среднее. При этом **учитывается** дисбаланс классов.\n"
   ]
  },
  {
   "cell_type": "markdown",
   "metadata": {
    "id": "BmZuWHxZFk4m"
   },
   "source": [
    "**Смотрим logloss на предсказанных классах**"
   ]
  },
  {
   "cell_type": "code",
   "execution_count": null,
   "metadata": {
    "colab": {
     "base_uri": "https://localhost:8080/"
    },
    "executionInfo": {
     "elapsed": 53,
     "status": "ok",
     "timestamp": 1631623329164,
     "user": {
      "displayName": "Александр Аксёнов",
      "photoUrl": "https://lh3.googleusercontent.com/a-/AOh14GhmPE3kg2vafh4QNEoLX_DeI08tDxoR8I8MoJZP=s64",
      "userId": "11145992452404092449"
     },
     "user_tz": -300
    },
    "id": "0OOPEMizaPS9",
    "outputId": "fdb8bc44-59dc-440b-9ead-fdddb521d7f7"
   },
   "outputs": [
    {
     "data": {
      "text/plain": [
       "array([1., 1., 1., 1., 0.])"
      ]
     },
     "execution_count": 122,
     "metadata": {},
     "output_type": "execute_result"
    }
   ],
   "source": [
    "predict[:5]"
   ]
  },
  {
   "cell_type": "code",
   "execution_count": null,
   "metadata": {
    "colab": {
     "base_uri": "https://localhost:8080/"
    },
    "executionInfo": {
     "elapsed": 52,
     "status": "ok",
     "timestamp": 1631623329165,
     "user": {
      "displayName": "Александр Аксёнов",
      "photoUrl": "https://lh3.googleusercontent.com/a-/AOh14GhmPE3kg2vafh4QNEoLX_DeI08tDxoR8I8MoJZP=s64",
      "userId": "11145992452404092449"
     },
     "user_tz": -300
    },
    "id": "4GcKymilFe4o",
    "outputId": "d285dabe-201d-43d7-afe2-fefb10ecf77e"
   },
   "outputs": [
    {
     "data": {
      "text/plain": [
       "2.37034737991692"
      ]
     },
     "execution_count": 123,
     "metadata": {},
     "output_type": "execute_result"
    }
   ],
   "source": [
    "log_loss(y_test, predict)"
   ]
  },
  {
   "cell_type": "markdown",
   "metadata": {
    "id": "7VRMmE7GFs3Y"
   },
   "source": [
    "**Смотрим logloss на предсказанных ВЕРОЯТНОСТЯХ классов**"
   ]
  },
  {
   "cell_type": "code",
   "execution_count": null,
   "metadata": {
    "colab": {
     "base_uri": "https://localhost:8080/"
    },
    "executionInfo": {
     "elapsed": 51,
     "status": "ok",
     "timestamp": 1631623329166,
     "user": {
      "displayName": "Александр Аксёнов",
      "photoUrl": "https://lh3.googleusercontent.com/a-/AOh14GhmPE3kg2vafh4QNEoLX_DeI08tDxoR8I8MoJZP=s64",
      "userId": "11145992452404092449"
     },
     "user_tz": -300
    },
    "id": "8Gl60pdeEOq4",
    "outputId": "19b1f3f5-a854-44ec-a387-b2de53d854c1"
   },
   "outputs": [
    {
     "data": {
      "text/plain": [
       "0.18711331142105503"
      ]
     },
     "execution_count": 124,
     "metadata": {},
     "output_type": "execute_result"
    }
   ],
   "source": [
    "predictproba = lr.predict_proba(X_test)\n",
    "log_loss(y_test, predictproba)"
   ]
  },
  {
   "cell_type": "code",
   "execution_count": null,
   "metadata": {
    "colab": {
     "base_uri": "https://localhost:8080/"
    },
    "executionInfo": {
     "elapsed": 48,
     "status": "ok",
     "timestamp": 1631623329167,
     "user": {
      "displayName": "Александр Аксёнов",
      "photoUrl": "https://lh3.googleusercontent.com/a-/AOh14GhmPE3kg2vafh4QNEoLX_DeI08tDxoR8I8MoJZP=s64",
      "userId": "11145992452404092449"
     },
     "user_tz": -300
    },
    "id": "lq2iUEGqaWdm",
    "outputId": "bb29567a-7a5f-4ae9-c27e-9d6f464d6df5"
   },
   "outputs": [
    {
     "data": {
      "text/plain": [
       "array([[3.69712601e-05, 9.99963029e-01],\n",
       "       [1.22392891e-03, 9.98776071e-01],\n",
       "       [5.67381721e-02, 9.43261828e-01]])"
      ]
     },
     "execution_count": 125,
     "metadata": {},
     "output_type": "execute_result"
    }
   ],
   "source": [
    "predictproba[:3]"
   ]
  },
  {
   "cell_type": "markdown",
   "metadata": {
    "id": "f4DW2yLZjeVU"
   },
   "source": [
    "Можно вывести комплексный отчет. Тут есть метрики отдельно по каждому классу, а затем усредненные метрики:\n",
    "- macro avg - считает метрики отдельно по каждому классу, а потом просто усредняет\n",
    "- weighted avg - учитывает \"вес\" каждого класса (support), таким образом получаем взвешенную оценку. Если какого-то класса мало и он имеет плохой результат, то это не сильно повлияет на данную метрику"
   ]
  },
  {
   "cell_type": "code",
   "execution_count": null,
   "metadata": {
    "colab": {
     "base_uri": "https://localhost:8080/"
    },
    "executionInfo": {
     "elapsed": 47,
     "status": "ok",
     "timestamp": 1631623329169,
     "user": {
      "displayName": "Александр Аксёнов",
      "photoUrl": "https://lh3.googleusercontent.com/a-/AOh14GhmPE3kg2vafh4QNEoLX_DeI08tDxoR8I8MoJZP=s64",
      "userId": "11145992452404092449"
     },
     "user_tz": -300
    },
    "id": "7uWsjuGvhYek",
    "outputId": "ac8dddb1-14a7-4112-e500-7074fdb7851f"
   },
   "outputs": [
    {
     "name": "stdout",
     "output_type": "stream",
     "text": [
      "              precision    recall  f1-score   support\n",
      "\n",
      "         0.0       0.85      0.69      0.76        16\n",
      "         1.0       0.94      0.98      0.96        86\n",
      "\n",
      "    accuracy                           0.93       102\n",
      "   macro avg       0.89      0.83      0.86       102\n",
      "weighted avg       0.93      0.93      0.93       102\n",
      "\n"
     ]
    }
   ],
   "source": [
    "print(classification_report(y_test, predict))"
   ]
  },
  {
   "cell_type": "markdown",
   "metadata": {
    "id": "O6M5E2HGkU9W"
   },
   "source": [
    "Теперь мы можем сложить общее представление о том, какие ошибки мы совершали и в каком количестве, для каждого класса"
   ]
  },
  {
   "cell_type": "code",
   "execution_count": null,
   "metadata": {
    "colab": {
     "base_uri": "https://localhost:8080/"
    },
    "executionInfo": {
     "elapsed": 46,
     "status": "ok",
     "timestamp": 1631623329170,
     "user": {
      "displayName": "Александр Аксёнов",
      "photoUrl": "https://lh3.googleusercontent.com/a-/AOh14GhmPE3kg2vafh4QNEoLX_DeI08tDxoR8I8MoJZP=s64",
      "userId": "11145992452404092449"
     },
     "user_tz": -300
    },
    "id": "4_x4FsD7iLBK",
    "outputId": "c4bb4642-3d96-4b0f-9975-2371801be042"
   },
   "outputs": [
    {
     "data": {
      "text/plain": [
       "array([[11,  5],\n",
       "       [ 2, 84]])"
      ]
     },
     "execution_count": 127,
     "metadata": {},
     "output_type": "execute_result"
    }
   ],
   "source": [
    "confusion_matrix(y_test, predict)"
   ]
  },
  {
   "cell_type": "code",
   "execution_count": null,
   "metadata": {
    "colab": {
     "base_uri": "https://localhost:8080/",
     "height": 211
    },
    "executionInfo": {
     "elapsed": 45,
     "status": "ok",
     "timestamp": 1631623329172,
     "user": {
      "displayName": "Александр Аксёнов",
      "photoUrl": "https://lh3.googleusercontent.com/a-/AOh14GhmPE3kg2vafh4QNEoLX_DeI08tDxoR8I8MoJZP=s64",
      "userId": "11145992452404092449"
     },
     "user_tz": -300
    },
    "id": "UBERXhKyikgR",
    "outputId": "2146e5de-2980-432c-c092-c49f583fd969"
   },
   "outputs": [
    {
     "data": {
      "image/png": "[encoded data removed]",
      "text/plain": [
       "<Figure size 216x216 with 1 Axes>"
      ]
     },
     "metadata": {
      "needs_background": "light"
     },
     "output_type": "display_data"
    }
   ],
   "source": [
    "plt.figure(figsize=(3,3))\n",
    "sns.heatmap(confusion_matrix(y_test, predict), annot=True, cmap=\"YlGnBu\", cbar=False);"
   ]
  },
  {
   "cell_type": "markdown",
   "metadata": {
    "id": "ICzxDF4umYe0"
   },
   "source": [
    "Используем обертку для создания графиков"
   ]
  },
  {
   "cell_type": "code",
   "execution_count": null,
   "metadata": {
    "colab": {
     "base_uri": "https://localhost:8080/"
    },
    "executionInfo": {
     "elapsed": 4105,
     "status": "ok",
     "timestamp": 1631623349496,
     "user": {
      "displayName": "Александр Аксёнов",
      "photoUrl": "https://lh3.googleusercontent.com/a-/AOh14GhmPE3kg2vafh4QNEoLX_DeI08tDxoR8I8MoJZP=s64",
      "userId": "11145992452404092449"
     },
     "user_tz": -300
    },
    "id": "WzGrETuEmH9L",
    "outputId": "9021d399-a2e9-43d4-e993-2c360d4956c6"
   },
   "outputs": [
    {
     "name": "stdout",
     "output_type": "stream",
     "text": [
      "Collecting scikit-plot\n",
      "  Downloading scikit_plot-0.3.7-py3-none-any.whl (33 kB)\n",
      "Requirement already satisfied: matplotlib>=1.4.0 in /usr/local/lib/python3.7/dist-packages (from scikit-plot) (3.2.2)\n",
      "Requirement already satisfied: joblib>=0.10 in /usr/local/lib/python3.7/dist-packages (from scikit-plot) (1.0.1)\n",
      "Requirement already satisfied: scipy>=0.9 in /usr/local/lib/python3.7/dist-packages (from scikit-plot) (1.4.1)\n",
      "Requirement already satisfied: scikit-learn>=0.18 in /usr/local/lib/python3.7/dist-packages (from scikit-plot) (0.22.2.post1)\n",
      "Requirement already satisfied: python-dateutil>=2.1 in /usr/local/lib/python3.7/dist-packages (from matplotlib>=1.4.0->scikit-plot) (2.8.2)\n",
      "Requirement already satisfied: cycler>=0.10 in /usr/local/lib/python3.7/dist-packages (from matplotlib>=1.4.0->scikit-plot) (0.10.0)\n",
      "Requirement already satisfied: numpy>=1.11 in /usr/local/lib/python3.7/dist-packages (from matplotlib>=1.4.0->scikit-plot) (1.19.5)\n",
      "Requirement already satisfied: kiwisolver>=1.0.1 in /usr/local/lib/python3.7/dist-packages (from matplotlib>=1.4.0->scikit-plot) (1.3.1)\n",
      "Requirement already satisfied: pyparsing!=2.0.4,!=2.1.2,!=2.1.6,>=2.0.1 in /usr/local/lib/python3.7/dist-packages (from matplotlib>=1.4.0->scikit-plot) (2.4.7)\n",
      "Requirement already satisfied: six in /usr/local/lib/python3.7/dist-packages (from cycler>=0.10->matplotlib>=1.4.0->scikit-plot) (1.15.0)\n",
      "Installing collected packages: scikit-plot\n",
      "Successfully installed scikit-plot-0.3.7\n"
     ]
    }
   ],
   "source": [
    "!pip install scikit-plot"
   ]
  },
  {
   "cell_type": "code",
   "execution_count": null,
   "metadata": {
    "id": "2JJ7J0Xif8v-"
   },
   "outputs": [],
   "source": [
    "import scikitplot as skplt"
   ]
  },
  {
   "cell_type": "markdown",
   "metadata": {
    "id": "l3Gxvp_Imfox"
   },
   "source": [
    "Получим ответы классификатора не в виде классов, а виде вероятностей классов\n",
    "- Напомню, что автоматически отнесение к классу происходит на основе сравнения с порогом 0.5"
   ]
  },
  {
   "cell_type": "code",
   "execution_count": null,
   "metadata": {
    "colab": {
     "base_uri": "https://localhost:8080/"
    },
    "executionInfo": {
     "elapsed": 76,
     "status": "ok",
     "timestamp": 1631623363561,
     "user": {
      "displayName": "Александр Аксёнов",
      "photoUrl": "https://lh3.googleusercontent.com/a-/AOh14GhmPE3kg2vafh4QNEoLX_DeI08tDxoR8I8MoJZP=s64",
      "userId": "11145992452404092449"
     },
     "user_tz": -300
    },
    "id": "yyews2tJmOq6",
    "outputId": "99e9bbb4-f731-4034-b7db-8323e822d618"
   },
   "outputs": [
    {
     "data": {
      "text/plain": [
       "array([[3.69712601e-05, 9.99963029e-01],\n",
       "       [1.22392891e-03, 9.98776071e-01],\n",
       "       [5.67381721e-02, 9.43261828e-01]])"
      ]
     },
     "execution_count": 134,
     "metadata": {},
     "output_type": "execute_result"
    }
   ],
   "source": [
    "predicted_probas = lr.predict_proba(X_test)\n",
    "predicted_probas[:3]"
   ]
  },
  {
   "cell_type": "code",
   "execution_count": null,
   "metadata": {
    "colab": {
     "base_uri": "https://localhost:8080/",
     "height": 367
    },
    "executionInfo": {
     "elapsed": 72,
     "status": "ok",
     "timestamp": 1631623363562,
     "user": {
      "displayName": "Александр Аксёнов",
      "photoUrl": "https://lh3.googleusercontent.com/a-/AOh14GhmPE3kg2vafh4QNEoLX_DeI08tDxoR8I8MoJZP=s64",
      "userId": "11145992452404092449"
     },
     "user_tz": -300
    },
    "id": "XaH9nEWJm1d_",
    "outputId": "dfb9ac3a-6657-48bc-d219-6ece9c21c45d"
   },
   "outputs": [
    {
     "data": {
      "text/plain": [
       "<matplotlib.axes._subplots.AxesSubplot at 0x7f08c2beab50>"
      ]
     },
     "execution_count": 135,
     "metadata": {},
     "output_type": "execute_result"
    },
    {
     "data": {
      "image/png": "[encoded data removed]",
      "text/plain": [
       "<Figure size 1080x360 with 2 Axes>"
      ]
     },
     "metadata": {
      "needs_background": "light"
     },
     "output_type": "display_data"
    }
   ],
   "source": [
    "fig, axs = plt.subplots(1,2, figsize=(15,5))\n",
    "\n",
    "skplt.metrics.plot_roc(y_test, predicted_probas, ax=axs[0])\n",
    "skplt.metrics.plot_precision_recall(y_test, predicted_probas, ax=axs[1])"
   ]
  },
  {
   "cell_type": "markdown",
   "metadata": {
    "id": "K8GW1aCBpq9n"
   },
   "source": [
    "Метрика ROC_AUC_score - имеет геометрический смысл площади под ROC кривой"
   ]
  },
  {
   "cell_type": "code",
   "execution_count": null,
   "metadata": {
    "colab": {
     "base_uri": "https://localhost:8080/"
    },
    "executionInfo": {
     "elapsed": 57,
     "status": "ok",
     "timestamp": 1631623363564,
     "user": {
      "displayName": "Александр Аксёнов",
      "photoUrl": "https://lh3.googleusercontent.com/a-/AOh14GhmPE3kg2vafh4QNEoLX_DeI08tDxoR8I8MoJZP=s64",
      "userId": "11145992452404092449"
     },
     "user_tz": -300
    },
    "id": "3Xx47GH7dZYV",
    "outputId": "f5f15a9c-9534-4c95-9a7a-230c15dcc96b"
   },
   "outputs": [
    {
     "data": {
      "text/plain": [
       "0.8321220930232558"
      ]
     },
     "execution_count": 136,
     "metadata": {},
     "output_type": "execute_result"
    }
   ],
   "source": [
    "roc_auc_score(y_test, predict, average='weighted')"
   ]
  },
  {
   "cell_type": "markdown",
   "metadata": {
    "id": "vw8lxMh5qhHr"
   },
   "source": [
    "Давайте немного поиграем с пороговым значением, чтобы лучше понять, что нам говорит график ROC curve"
   ]
  },
  {
   "cell_type": "markdown",
   "metadata": {
    "id": "f8N8bS_avt_F"
   },
   "source": [
    "**0.5**"
   ]
  },
  {
   "cell_type": "code",
   "execution_count": null,
   "metadata": {
    "colab": {
     "base_uri": "https://localhost:8080/"
    },
    "executionInfo": {
     "elapsed": 47,
     "status": "ok",
     "timestamp": 1631623363566,
     "user": {
      "displayName": "Александр Аксёнов",
      "photoUrl": "https://lh3.googleusercontent.com/a-/AOh14GhmPE3kg2vafh4QNEoLX_DeI08tDxoR8I8MoJZP=s64",
      "userId": "11145992452404092449"
     },
     "user_tz": -300
    },
    "id": "hdV6hBgIvscm",
    "outputId": "5812d460-d16b-4bb9-bbeb-b0df9941af90"
   },
   "outputs": [
    {
     "name": "stdout",
     "output_type": "stream",
     "text": [
      "              precision    recall  f1-score   support\n",
      "\n",
      "         0.0       0.85      0.69      0.76        16\n",
      "         1.0       0.94      0.98      0.96        86\n",
      "\n",
      "    accuracy                           0.93       102\n",
      "   macro avg       0.89      0.83      0.86       102\n",
      "weighted avg       0.93      0.93      0.93       102\n",
      "\n"
     ]
    }
   ],
   "source": [
    "print(classification_report(y_test, predict))"
   ]
  },
  {
   "cell_type": "code",
   "execution_count": null,
   "metadata": {
    "colab": {
     "base_uri": "https://localhost:8080/",
     "height": 211
    },
    "executionInfo": {
     "elapsed": 39,
     "status": "ok",
     "timestamp": 1631623363567,
     "user": {
      "displayName": "Александр Аксёнов",
      "photoUrl": "https://lh3.googleusercontent.com/a-/AOh14GhmPE3kg2vafh4QNEoLX_DeI08tDxoR8I8MoJZP=s64",
      "userId": "11145992452404092449"
     },
     "user_tz": -300
    },
    "id": "x0V43iIdwZI2",
    "outputId": "6498913b-f0cd-45a6-f2ef-e6b406c98eb2"
   },
   "outputs": [
    {
     "data": {
      "image/png": "[encoded data removed]",
      "text/plain": [
       "<Figure size 216x216 with 1 Axes>"
      ]
     },
     "metadata": {
      "needs_background": "light"
     },
     "output_type": "display_data"
    }
   ],
   "source": [
    "plt.figure(figsize=(3,3))\n",
    "sns.heatmap(confusion_matrix(y_test, predict), annot=True, cmap=\"YlGnBu\", cbar=False);"
   ]
  },
  {
   "cell_type": "markdown",
   "metadata": {
    "id": "9ODMnJDavypX"
   },
   "source": [
    "**0.75**"
   ]
  },
  {
   "cell_type": "code",
   "execution_count": null,
   "metadata": {
    "colab": {
     "base_uri": "https://localhost:8080/"
    },
    "executionInfo": {
     "elapsed": 34,
     "status": "ok",
     "timestamp": 1631623363568,
     "user": {
      "displayName": "Александр Аксёнов",
      "photoUrl": "https://lh3.googleusercontent.com/a-/AOh14GhmPE3kg2vafh4QNEoLX_DeI08tDxoR8I8MoJZP=s64",
      "userId": "11145992452404092449"
     },
     "user_tz": -300
    },
    "id": "a3z6eqA7n7Bu",
    "outputId": "efbc4a09-6492-421b-e4a0-a7837832eabc"
   },
   "outputs": [
    {
     "name": "stdout",
     "output_type": "stream",
     "text": [
      "              precision    recall  f1-score   support\n",
      "\n",
      "         0.0       0.62      0.81      0.70        16\n",
      "         1.0       0.96      0.91      0.93        86\n",
      "\n",
      "    accuracy                           0.89       102\n",
      "   macro avg       0.79      0.86      0.82       102\n",
      "weighted avg       0.91      0.89      0.90       102\n",
      "\n"
     ]
    }
   ],
   "source": [
    " predict_75 = np.array(predicted_probas[:,1] > 0.75, int)\n",
    " print(classification_report(y_test, predict_75))"
   ]
  },
  {
   "cell_type": "code",
   "execution_count": null,
   "metadata": {
    "colab": {
     "base_uri": "https://localhost:8080/",
     "height": 211
    },
    "executionInfo": {
     "elapsed": 73,
     "status": "ok",
     "timestamp": 1631623364173,
     "user": {
      "displayName": "Александр Аксёнов",
      "photoUrl": "https://lh3.googleusercontent.com/a-/AOh14GhmPE3kg2vafh4QNEoLX_DeI08tDxoR8I8MoJZP=s64",
      "userId": "11145992452404092449"
     },
     "user_tz": -300
    },
    "id": "GTOwQ-O8wtNt",
    "outputId": "05ba3032-3a53-474d-87c2-19791097221a"
   },
   "outputs": [
    {
     "data": {
      "image/png": "[encoded data removed]",
      "text/plain": [
       "<Figure size 216x216 with 1 Axes>"
      ]
     },
     "metadata": {
      "needs_background": "light"
     },
     "output_type": "display_data"
    }
   ],
   "source": [
    "plt.figure(figsize=(3,3)) \n",
    "sns.heatmap(confusion_matrix(y_test, predict_75), annot=True, cmap=\"YlGnBu\", cbar=False);"
   ]
  },
  {
   "cell_type": "markdown",
   "metadata": {
    "id": "TZpUxREOwEif"
   },
   "source": [
    "**0.25**"
   ]
  },
  {
   "cell_type": "code",
   "execution_count": null,
   "metadata": {
    "colab": {
     "base_uri": "https://localhost:8080/"
    },
    "executionInfo": {
     "elapsed": 71,
     "status": "ok",
     "timestamp": 1631623364175,
     "user": {
      "displayName": "Александр Аксёнов",
      "photoUrl": "https://lh3.googleusercontent.com/a-/AOh14GhmPE3kg2vafh4QNEoLX_DeI08tDxoR8I8MoJZP=s64",
      "userId": "11145992452404092449"
     },
     "user_tz": -300
    },
    "id": "sVy3AFvUn68B",
    "outputId": "62c08a35-8438-449e-931b-6dbc88fcdad8"
   },
   "outputs": [
    {
     "name": "stdout",
     "output_type": "stream",
     "text": [
      "              precision    recall  f1-score   support\n",
      "\n",
      "         0.0       1.00      0.38      0.55        16\n",
      "         1.0       0.90      1.00      0.95        86\n",
      "\n",
      "    accuracy                           0.90       102\n",
      "   macro avg       0.95      0.69      0.75       102\n",
      "weighted avg       0.91      0.90      0.88       102\n",
      "\n"
     ]
    }
   ],
   "source": [
    " predict_25 = np.array(predicted_probas[:,1] > 0.25, int)\n",
    " print(classification_report(y_test, predict_25))"
   ]
  },
  {
   "cell_type": "code",
   "execution_count": null,
   "metadata": {
    "colab": {
     "base_uri": "https://localhost:8080/",
     "height": 211
    },
    "executionInfo": {
     "elapsed": 64,
     "status": "ok",
     "timestamp": 1631623364176,
     "user": {
      "displayName": "Александр Аксёнов",
      "photoUrl": "https://lh3.googleusercontent.com/a-/AOh14GhmPE3kg2vafh4QNEoLX_DeI08tDxoR8I8MoJZP=s64",
      "userId": "11145992452404092449"
     },
     "user_tz": -300
    },
    "id": "Xy24kspun63n",
    "outputId": "dbd8ff0d-0d41-468f-cc9b-a36985b76600"
   },
   "outputs": [
    {
     "data": {
      "image/png": "[encoded data removed]",
      "text/plain": [
       "<Figure size 216x216 with 1 Axes>"
      ]
     },
     "metadata": {
      "needs_background": "light"
     },
     "output_type": "display_data"
    }
   ],
   "source": [
    "plt.figure(figsize=(3,3))\n",
    "sns.heatmap(confusion_matrix(y_test, predict_25), annot=True, cmap=\"YlGnBu\", cbar=False);"
   ]
  },
  {
   "cell_type": "markdown",
   "metadata": {
    "id": "8x06yY3p0-ky"
   },
   "source": [
    "Напишем автоматический перебор всех порогов, заточенный под заданную метрику"
   ]
  },
  {
   "cell_type": "code",
   "execution_count": null,
   "metadata": {
    "colab": {
     "base_uri": "https://localhost:8080/"
    },
    "executionInfo": {
     "elapsed": 62,
     "status": "ok",
     "timestamp": 1631623364177,
     "user": {
      "displayName": "Александр Аксёнов",
      "photoUrl": "https://lh3.googleusercontent.com/a-/AOh14GhmPE3kg2vafh4QNEoLX_DeI08tDxoR8I8MoJZP=s64",
      "userId": "11145992452404092449"
     },
     "user_tz": -300
    },
    "id": "7esbQ2G0n60E",
    "outputId": "83dbbf82-bd95-42c7-a609-9b1c8bdd5d9f"
   },
   "outputs": [
    {
     "name": "stdout",
     "output_type": "stream",
     "text": [
      "0.9651162790697675 0.56\n"
     ]
    }
   ],
   "source": [
    "predicted_probas = lr.predict_proba(X_test)\n",
    "biases = np.arange(0,1,0.01)\n",
    "scores = np.zeros_like(biases)\n",
    "for i, bias in enumerate(biases):\n",
    "    predict_bias = np.array(predicted_probas[:,1] > bias, int)\n",
    "    scores[i] = f1_score(y_test, predict_bias)\n",
    "arg_max = np.argmax(scores)\n",
    "print(scores[arg_max], biases[arg_max])"
   ]
  },
  {
   "cell_type": "code",
   "execution_count": null,
   "metadata": {
    "colab": {
     "base_uri": "https://localhost:8080/"
    },
    "executionInfo": {
     "elapsed": 53,
     "status": "ok",
     "timestamp": 1631623364181,
     "user": {
      "displayName": "Александр Аксёнов",
      "photoUrl": "https://lh3.googleusercontent.com/a-/AOh14GhmPE3kg2vafh4QNEoLX_DeI08tDxoR8I8MoJZP=s64",
      "userId": "11145992452404092449"
     },
     "user_tz": -300
    },
    "id": "urj16wWd5dfd",
    "outputId": "2bb17b13-a182-49d9-b2dc-ecafcbce00c0"
   },
   "outputs": [
    {
     "data": {
      "text/plain": [
       "array([0.91489362, 0.91489362, 0.9197861 , 0.9197861 , 0.9197861 ,\n",
       "       0.9197861 , 0.9197861 , 0.92473118, 0.92972973, 0.93478261,\n",
       "       0.93478261, 0.93478261, 0.93478261, 0.93478261, 0.93478261,\n",
       "       0.93478261, 0.93478261, 0.93478261, 0.93478261, 0.93478261,\n",
       "       0.93478261, 0.93478261, 0.93478261, 0.93478261, 0.93478261,\n",
       "       0.94505495, 0.93922652, 0.93922652, 0.93922652, 0.93922652,\n",
       "       0.93922652, 0.93922652, 0.93922652, 0.94444444, 0.94444444,\n",
       "       0.94444444, 0.94444444, 0.94972067, 0.95505618, 0.95454545,\n",
       "       0.95454545, 0.95454545, 0.95454545, 0.95454545, 0.95454545,\n",
       "       0.95454545, 0.95454545, 0.95454545, 0.95454545, 0.95454545,\n",
       "       0.96      , 0.95402299, 0.95402299, 0.95402299, 0.95402299,\n",
       "       0.95953757, 0.96511628, 0.95906433, 0.95906433, 0.95906433,\n",
       "       0.95906433, 0.95906433, 0.95294118, 0.95294118, 0.95294118,\n",
       "       0.95294118, 0.95294118, 0.95294118, 0.95294118, 0.94674556,\n",
       "       0.94674556, 0.94674556, 0.94047619, 0.94047619, 0.93413174,\n",
       "       0.93413174, 0.93413174, 0.93413174, 0.92771084, 0.92771084,\n",
       "       0.92121212, 0.92121212, 0.90123457, 0.9068323 , 0.9068323 ,\n",
       "       0.9125    , 0.90566038, 0.89873418, 0.89873418, 0.89171975,\n",
       "       0.89171975, 0.89171975, 0.87012987, 0.84768212, 0.83221477,\n",
       "       0.82993197, 0.82993197, 0.80555556, 0.78014184, 0.6969697 ])"
      ]
     },
     "execution_count": 144,
     "metadata": {},
     "output_type": "execute_result"
    }
   ],
   "source": [
    "scores"
   ]
  },
  {
   "cell_type": "markdown",
   "metadata": {
    "id": "uCJCqmiW1qbC"
   },
   "source": [
    "## Конвейер и перекрестная проверка"
   ]
  },
  {
   "cell_type": "code",
   "execution_count": null,
   "metadata": {
    "id": "2pu7fTwgn6tt"
   },
   "outputs": [],
   "source": [
    "from sklearn.model_selection import KFold, cross_val_score\n",
    "from sklearn.pipeline import make_pipeline\n",
    "from sklearn.preprocessing import RobustScaler"
   ]
  },
  {
   "cell_type": "code",
   "execution_count": null,
   "metadata": {
    "colab": {
     "base_uri": "https://localhost:8080/"
    },
    "executionInfo": {
     "elapsed": 45,
     "status": "ok",
     "timestamp": 1631623364184,
     "user": {
      "displayName": "Александр Аксёнов",
      "photoUrl": "https://lh3.googleusercontent.com/a-/AOh14GhmPE3kg2vafh4QNEoLX_DeI08tDxoR8I8MoJZP=s64",
      "userId": "11145992452404092449"
     },
     "user_tz": -300
    },
    "id": "bVXhSbsq2wST",
    "outputId": "bb7c49c1-5768-45e5-aeaa-41c15c7a9c98"
   },
   "outputs": [
    {
     "name": "stdout",
     "output_type": "stream",
     "text": [
      "1.0    429\n",
      "0.0     77\n",
      "Name: target, dtype: int64\n"
     ]
    }
   ],
   "source": [
    "PATH = 'https://raw.githubusercontent.com/aksenov7/Kaggle_competition_group/master/boston_full.csv'\n",
    "df = pd.read_csv(PATH, sep='\\t')\n",
    "est = Binarizer(14).fit(df.target.values.reshape(-1,1))\n",
    "new_target = est.transform(df.target.values.reshape(-1,1))\n",
    "df['target'] = new_target\n",
    "print(df.target.value_counts())\n",
    "df.drop('target', axis=1, inplace=True)"
   ]
  },
  {
   "cell_type": "markdown",
   "metadata": {
    "id": "NaBt5rg726cQ"
   },
   "source": [
    "**Предположим, что мы хотим все же стандартизировать наши данные, перед подачей их алгоритму**"
   ]
  },
  {
   "cell_type": "code",
   "execution_count": null,
   "metadata": {
    "id": "52ikffgd20w_"
   },
   "outputs": [],
   "source": [
    "# Создать стандартизатор\n",
    "standardizer = RobustScaler()\n",
    "# Создать классификатор\n",
    "lr = LogisticRegression()\n",
    "# Создать конвейер\n",
    "pipeline = make_pipeline(standardizer, lr)\n",
    "# Создать k-блочную перекрестную проверку\n",
    "kf = KFold(n_splits=5, shuffle=True, random_state=42)"
   ]
  },
  {
   "cell_type": "markdown",
   "metadata": {
    "id": "RdAUun753glo"
   },
   "source": [
    "![изображение.png](data:image/png;base64,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)"
   ]
  },
  {
   "cell_type": "markdown",
   "metadata": {
    "id": "xjNLCvGg5lKN"
   },
   "source": [
    "**Делим на train и test**"
   ]
  },
  {
   "cell_type": "code",
   "execution_count": null,
   "metadata": {
    "id": "P49G05ib5hja"
   },
   "outputs": [],
   "source": [
    "X_train, X_test, y_train, y_test = train_test_split(\n",
    "                                                    df,\n",
    "                                                    new_target.ravel(),\n",
    "                                                    test_size=0.2,\n",
    "                                                    random_state=42,\n",
    "                                                    stratify=new_target)"
   ]
  },
  {
   "cell_type": "markdown",
   "metadata": {
    "id": "C9H0qUUX5uDM"
   },
   "source": [
    "**Создаем свою функцию потерь**"
   ]
  },
  {
   "cell_type": "code",
   "execution_count": null,
   "metadata": {
    "colab": {
     "base_uri": "https://localhost:8080/"
    },
    "executionInfo": {
     "elapsed": 37,
     "status": "ok",
     "timestamp": 1631623364188,
     "user": {
      "displayName": "Александр Аксёнов",
      "photoUrl": "https://lh3.googleusercontent.com/a-/AOh14GhmPE3kg2vafh4QNEoLX_DeI08tDxoR8I8MoJZP=s64",
      "userId": "11145992452404092449"
     },
     "user_tz": -300
    },
    "id": "4iO3Sexj45aW",
    "outputId": "b5a92bf4-9fb5-4ed1-c4f4-825672391a30"
   },
   "outputs": [
    {
     "data": {
      "text/plain": [
       "make_scorer(fbeta_score, beta=2)"
      ]
     },
     "execution_count": 149,
     "metadata": {},
     "output_type": "execute_result"
    }
   ],
   "source": [
    "from sklearn.metrics import fbeta_score, make_scorer\n",
    "ftwo_scorer = make_scorer(fbeta_score, beta=2)\n",
    "ftwo_scorer"
   ]
  },
  {
   "cell_type": "code",
   "execution_count": null,
   "metadata": {
    "id": "GQ817yqG3s8w"
   },
   "outputs": [],
   "source": [
    "# Выполнить k-блочную перекрестную проверку\n",
    "cv_results = cross_val_score(pipeline, # Конвейер\n",
    "                             X_train, # Матрица признаков\n",
    "                             y_train, # Вектор целей\n",
    "                             cv=kf, # Метод перекрестной проверки\n",
    "                             scoring=ftwo_scorer, # Функция потери\n",
    "                             n_jobs=-1) # Использовать все ядра CPU"
   ]
  },
  {
   "cell_type": "code",
   "execution_count": null,
   "metadata": {
    "colab": {
     "base_uri": "https://localhost:8080/"
    },
    "executionInfo": {
     "elapsed": 29,
     "status": "ok",
     "timestamp": 1631623365482,
     "user": {
      "displayName": "Александр Аксёнов",
      "photoUrl": "https://lh3.googleusercontent.com/a-/AOh14GhmPE3kg2vafh4QNEoLX_DeI08tDxoR8I8MoJZP=s64",
      "userId": "11145992452404092449"
     },
     "user_tz": -300
    },
    "id": "HklFMtQ63s5c",
    "outputId": "1b400233-5b83-428e-910c-1dc9b26bbbd6"
   },
   "outputs": [
    {
     "data": {
      "text/plain": [
       "array([0.97183099, 0.97560976, 0.9375    , 0.9672619 , 0.95846645])"
      ]
     },
     "execution_count": 151,
     "metadata": {},
     "output_type": "execute_result"
    }
   ],
   "source": [
    "cv_results"
   ]
  },
  {
   "cell_type": "code",
   "execution_count": null,
   "metadata": {
    "colab": {
     "base_uri": "https://localhost:8080/"
    },
    "executionInfo": {
     "elapsed": 28,
     "status": "ok",
     "timestamp": 1631623365484,
     "user": {
      "displayName": "Александр Аксёнов",
      "photoUrl": "https://lh3.googleusercontent.com/a-/AOh14GhmPE3kg2vafh4QNEoLX_DeI08tDxoR8I8MoJZP=s64",
      "userId": "11145992452404092449"
     },
     "user_tz": -300
    },
    "id": "vU5khH6w3s2C",
    "outputId": "3e766afc-5197-407f-fbc3-8accade5a04c"
   },
   "outputs": [
    {
     "data": {
      "text/plain": [
       "0.962133820089816"
      ]
     },
     "execution_count": 152,
     "metadata": {},
     "output_type": "execute_result"
    }
   ],
   "source": [
    "cv_results.mean()"
   ]
  },
  {
   "cell_type": "code",
   "execution_count": null,
   "metadata": {
    "id": "dldqFpIQ6L9d"
   },
   "outputs": [],
   "source": [
    "pipeline.fit(X_train, y_train)\n",
    "predict = pipeline.predict(X_test)"
   ]
  },
  {
   "cell_type": "code",
   "execution_count": null,
   "metadata": {
    "colab": {
     "base_uri": "https://localhost:8080/"
    },
    "executionInfo": {
     "elapsed": 27,
     "status": "ok",
     "timestamp": 1631623365487,
     "user": {
      "displayName": "Александр Аксёнов",
      "photoUrl": "https://lh3.googleusercontent.com/a-/AOh14GhmPE3kg2vafh4QNEoLX_DeI08tDxoR8I8MoJZP=s64",
      "userId": "11145992452404092449"
     },
     "user_tz": -300
    },
    "id": "rIWnHGkF3szS",
    "outputId": "328c44ae-0d1d-4073-fae8-4ca569a02369"
   },
   "outputs": [
    {
     "name": "stdout",
     "output_type": "stream",
     "text": [
      "              precision    recall  f1-score   support\n",
      "\n",
      "         0.0       0.85      0.69      0.76        16\n",
      "         1.0       0.94      0.98      0.96        86\n",
      "\n",
      "    accuracy                           0.93       102\n",
      "   macro avg       0.89      0.83      0.86       102\n",
      "weighted avg       0.93      0.93      0.93       102\n",
      "\n"
     ]
    }
   ],
   "source": [
    "print(classification_report(y_test, predict))"
   ]
  },
  {
   "cell_type": "markdown",
   "metadata": {
    "id": "dr0pqxeh9S7V"
   },
   "source": [
    "## Значимость признаков для модели"
   ]
  },
  {
   "cell_type": "code",
   "execution_count": null,
   "metadata": {
    "colab": {
     "base_uri": "https://localhost:8080/"
    },
    "executionInfo": {
     "elapsed": 25,
     "status": "ok",
     "timestamp": 1631623365488,
     "user": {
      "displayName": "Александр Аксёнов",
      "photoUrl": "https://lh3.googleusercontent.com/a-/AOh14GhmPE3kg2vafh4QNEoLX_DeI08tDxoR8I8MoJZP=s64",
      "userId": "11145992452404092449"
     },
     "user_tz": -300
    },
    "id": "ydYMJiQb3swT",
    "outputId": "ea253b12-d7e6-4f98-f449-b7a9274cfe87"
   },
   "outputs": [
    {
     "data": {
      "text/html": [
       "<div>\n",
       "<style scoped>\n",
       "    .dataframe tbody tr th:only-of-type {\n",
       "        vertical-align: middle;\n",
       "    }\n",
       "\n",
       "    .dataframe tbody tr th {\n",
       "        vertical-align: top;\n",
       "    }\n",
       "\n",
       "    .dataframe thead th {\n",
       "        text-align: right;\n",
       "    }\n",
       "</style>\n",
       "<table border=\"1\" class=\"dataframe\">\n",
       "  <thead>\n",
       "    <tr style=\"text-align: right;\">\n",
       "      <th></th>\n",
       "      <th>feature</th>\n",
       "      <th>weight</th>\n",
       "    </tr>\n",
       "  </thead>\n",
       "  <tbody>\n",
       "    <tr>\n",
       "      <th>8</th>\n",
       "      <td>RAD</td>\n",
       "      <td>0.507213</td>\n",
       "    </tr>\n",
       "    <tr>\n",
       "      <th>7</th>\n",
       "      <td>DIS</td>\n",
       "      <td>0.428200</td>\n",
       "    </tr>\n",
       "    <tr>\n",
       "      <th>2</th>\n",
       "      <td>INDUS</td>\n",
       "      <td>0.402248</td>\n",
       "    </tr>\n",
       "    <tr>\n",
       "      <th>3</th>\n",
       "      <td>CHAS</td>\n",
       "      <td>0.218656</td>\n",
       "    </tr>\n",
       "    <tr>\n",
       "      <th>1</th>\n",
       "      <td>ZN</td>\n",
       "      <td>0.194935</td>\n",
       "    </tr>\n",
       "    <tr>\n",
       "      <th>5</th>\n",
       "      <td>RM</td>\n",
       "      <td>0.060616</td>\n",
       "    </tr>\n",
       "    <tr>\n",
       "      <th>11</th>\n",
       "      <td>B</td>\n",
       "      <td>0.047189</td>\n",
       "    </tr>\n",
       "    <tr>\n",
       "      <th>0</th>\n",
       "      <td>CRIM</td>\n",
       "      <td>-0.188598</td>\n",
       "    </tr>\n",
       "    <tr>\n",
       "      <th>6</th>\n",
       "      <td>AGE</td>\n",
       "      <td>-0.616589</td>\n",
       "    </tr>\n",
       "    <tr>\n",
       "      <th>9</th>\n",
       "      <td>TAX</td>\n",
       "      <td>-0.619879</td>\n",
       "    </tr>\n",
       "    <tr>\n",
       "      <th>10</th>\n",
       "      <td>PTRATIO</td>\n",
       "      <td>-1.156941</td>\n",
       "    </tr>\n",
       "    <tr>\n",
       "      <th>4</th>\n",
       "      <td>NOX</td>\n",
       "      <td>-1.417294</td>\n",
       "    </tr>\n",
       "    <tr>\n",
       "      <th>12</th>\n",
       "      <td>LSTAT</td>\n",
       "      <td>-1.977163</td>\n",
       "    </tr>\n",
       "  </tbody>\n",
       "</table>\n",
       "</div>"
      ],
      "text/plain": [
       "    feature    weight\n",
       "8       RAD  0.507213\n",
       "7       DIS  0.428200\n",
       "2     INDUS  0.402248\n",
       "3      CHAS  0.218656\n",
       "1        ZN  0.194935\n",
       "5        RM  0.060616\n",
       "11        B  0.047189\n",
       "0      CRIM -0.188598\n",
       "6       AGE -0.616589\n",
       "9       TAX -0.619879\n",
       "10  PTRATIO -1.156941\n",
       "4       NOX -1.417294\n",
       "12    LSTAT -1.977163"
      ]
     },
     "execution_count": 155,
     "metadata": {},
     "output_type": "execute_result"
    }
   ],
   "source": [
    "pd.DataFrame({\"feature\":df.columns, \"weight\":lr.coef_[0]}).sort_values('weight', ascending=False)"
   ]
  },
  {
   "cell_type": "markdown",
   "metadata": {
    "id": "dIrf4yJ7_rsg"
   },
   "source": [
    "## Подбор гиперпараметров"
   ]
  },
  {
   "cell_type": "code",
   "execution_count": 64,
   "metadata": {
    "executionInfo": {
     "elapsed": 302,
     "status": "ok",
     "timestamp": 1639659042511,
     "user": {
      "displayName": "Александр Аксёнов",
      "photoUrl": "https://lh3.googleusercontent.com/a-/AOh14GgpkPDdBChJz5khG7PXMg_P3ziSIZzWUDpDAjL7KA=s64",
      "userId": "11145992452404092449"
     },
     "user_tz": -300
    },
    "id": "Ozb_HKhu_vJj"
   },
   "outputs": [],
   "source": [
    "from sklearn.model_selection import GridSearchCV\n",
    "from sklearn.model_selection import RandomizedSearchCV\n",
    "from sklearn.preprocessing import Binarizer\n",
    "import warnings\n",
    "warnings.filterwarnings('ignore')"
   ]
  },
  {
   "cell_type": "code",
   "execution_count": 65,
   "metadata": {
    "colab": {
     "base_uri": "https://localhost:8080/"
    },
    "executionInfo": {
     "elapsed": 349,
     "status": "ok",
     "timestamp": 1639659081723,
     "user": {
      "displayName": "Александр Аксёнов",
      "photoUrl": "https://lh3.googleusercontent.com/a-/AOh14GgpkPDdBChJz5khG7PXMg_P3ziSIZzWUDpDAjL7KA=s64",
      "userId": "11145992452404092449"
     },
     "user_tz": -300
    },
    "id": "AhGKBzP6AQLN",
    "outputId": "93555403-8c95-481d-bfad-6558b9b46d8c"
   },
   "outputs": [
    {
     "name": "stdout",
     "output_type": "stream",
     "text": [
      "1.0    257\n",
      "0.0    249\n",
      "Name: target, dtype: int64\n"
     ]
    }
   ],
   "source": [
    "PATH = 'https://raw.githubusercontent.com/aksenov7/Kaggle_competition_group/master/boston_full.csv'\n",
    "df = pd.read_csv(PATH, sep='\\t')\n",
    "est = Binarizer(threshold=21).fit(df.target.values.reshape(-1,1))\n",
    "new_target = est.transform(df.target.values.reshape(-1,1))\n",
    "df['target'] = new_target\n",
    "print(df.target.value_counts())\n",
    "df.drop('target', axis=1, inplace=True)\n",
    "X_train, X_test, y_train, y_test = train_test_split(\n",
    "                                                    df,\n",
    "                                                    new_target.ravel(),\n",
    "                                                    test_size=0.2,\n",
    "                                                    random_state=42,\n",
    "                                                    stratify=new_target)"
   ]
  },
  {
   "cell_type": "markdown",
   "metadata": {
    "id": "EERT0s1LDgAv"
   },
   "source": [
    "### GridSearch"
   ]
  },
  {
   "cell_type": "code",
   "execution_count": 68,
   "metadata": {
    "colab": {
     "base_uri": "https://localhost:8080/"
    },
    "executionInfo": {
     "elapsed": 20531,
     "status": "ok",
     "timestamp": 1639659285433,
     "user": {
      "displayName": "Александр Аксёнов",
      "photoUrl": "https://lh3.googleusercontent.com/a-/AOh14GgpkPDdBChJz5khG7PXMg_P3ziSIZzWUDpDAjL7KA=s64",
      "userId": "11145992452404092449"
     },
     "user_tz": -300
    },
    "id": "o5iDg4_z_wRo",
    "outputId": "4175a417-0c8b-41e5-8b9e-30500c0ba089"
   },
   "outputs": [
    {
     "name": "stdout",
     "output_type": "stream",
     "text": [
      "Fitting 5 folds for each of 180 candidates, totalling 900 fits\n",
      "CPU times: user 20 s, sys: 233 ms, total: 20.2 s\n",
      "Wall time: 20.1 s\n"
     ]
    }
   ],
   "source": [
    "%%time\n",
    "# Создать диапазон вариантов значений штрафного гиперпараметра\n",
    "penalty_1 = ['l1', 'l2', 'elasticnet']\n",
    "# Создать диапазон вариантов значений регуляризационного гиперпараметра\n",
    "Ce = np.logspace(0, 4, 10)\n",
    "# Создать диапазон вариантов для учета сбалансированности\n",
    "class_weight = [None, 'balanced']\n",
    "# Создать диапазон вариантов для решателя\n",
    "solver = ['liblinear', 'lbfgs', 'newton-cg']\n",
    "# Создать словарь вариантов гиперпараметров\n",
    "hyperparameters = dict(C=Ce, penalty=penalty_1, class_weight=class_weight, solver=solver)\n",
    "# Создать модель классификации\n",
    "lr = LogisticRegression(random_state=42)\n",
    "# Создать объект решеточного поиска\n",
    "gridsearch = GridSearchCV(lr, hyperparameters, cv=5, verbose=1)\n",
    "# Выполнить подгонку объекта решеточного поиска\n",
    "best_model = gridsearch.fit(X_train, y_train)"
   ]
  },
  {
   "cell_type": "code",
   "execution_count": null,
   "metadata": {
    "colab": {
     "base_uri": "https://localhost:8080/"
    },
    "executionInfo": {
     "elapsed": 8,
     "status": "ok",
     "timestamp": 1639648952978,
     "user": {
      "displayName": "Александр Аксёнов",
      "photoUrl": "https://lh3.googleusercontent.com/a-/AOh14GgpkPDdBChJz5khG7PXMg_P3ziSIZzWUDpDAjL7KA=s64",
      "userId": "11145992452404092449"
     },
     "user_tz": -300
    },
    "id": "gOfhKmJb_wO9",
    "outputId": "a6f7bb21-6d09-4a1a-d0d6-591272e2b737"
   },
   "outputs": [
    {
     "data": {
      "text/plain": [
       "LogisticRegression(C=166.81005372000593, penalty='l1', random_state=42,\n",
       "                   solver='liblinear')"
      ]
     },
     "execution_count": 20,
     "metadata": {},
     "output_type": "execute_result"
    }
   ],
   "source": [
    "best_model.best_estimator_"
   ]
  },
  {
   "cell_type": "code",
   "execution_count": 69,
   "metadata": {
    "colab": {
     "base_uri": "https://localhost:8080/"
    },
    "executionInfo": {
     "elapsed": 288,
     "status": "ok",
     "timestamp": 1639659314070,
     "user": {
      "displayName": "Александр Аксёнов",
      "photoUrl": "https://lh3.googleusercontent.com/a-/AOh14GgpkPDdBChJz5khG7PXMg_P3ziSIZzWUDpDAjL7KA=s64",
      "userId": "11145992452404092449"
     },
     "user_tz": -300
    },
    "id": "WraG-Rxi_wL1",
    "outputId": "8cf5f3af-0423-4a1b-b72c-287a4afafda5"
   },
   "outputs": [
    {
     "data": {
      "text/plain": [
       "0.8761728395061728"
      ]
     },
     "execution_count": 69,
     "metadata": {},
     "output_type": "execute_result"
    }
   ],
   "source": [
    "best_model.best_score_"
   ]
  },
  {
   "cell_type": "code",
   "execution_count": 70,
   "metadata": {
    "executionInfo": {
     "elapsed": 290,
     "status": "ok",
     "timestamp": 1639659324468,
     "user": {
      "displayName": "Александр Аксёнов",
      "photoUrl": "https://lh3.googleusercontent.com/a-/AOh14GgpkPDdBChJz5khG7PXMg_P3ziSIZzWUDpDAjL7KA=s64",
      "userId": "11145992452404092449"
     },
     "user_tz": -300
    },
    "id": "r_mvms-3_wJL"
   },
   "outputs": [],
   "source": [
    "prediction = best_model.predict(X_test)"
   ]
  },
  {
   "cell_type": "code",
   "execution_count": 71,
   "metadata": {
    "colab": {
     "base_uri": "https://localhost:8080/"
    },
    "executionInfo": {
     "elapsed": 336,
     "status": "ok",
     "timestamp": 1639659327590,
     "user": {
      "displayName": "Александр Аксёнов",
      "photoUrl": "https://lh3.googleusercontent.com/a-/AOh14GgpkPDdBChJz5khG7PXMg_P3ziSIZzWUDpDAjL7KA=s64",
      "userId": "11145992452404092449"
     },
     "user_tz": -300
    },
    "id": "8MkRJ7s7_wGU",
    "outputId": "cb20d7ab-dfd4-4af7-e3a3-45ce6d95436d"
   },
   "outputs": [
    {
     "name": "stdout",
     "output_type": "stream",
     "text": [
      "              precision    recall  f1-score   support\n",
      "\n",
      "         0.0       0.81      0.86      0.83        50\n",
      "         1.0       0.86      0.81      0.83        52\n",
      "\n",
      "    accuracy                           0.83       102\n",
      "   macro avg       0.83      0.83      0.83       102\n",
      "weighted avg       0.83      0.83      0.83       102\n",
      "\n"
     ]
    }
   ],
   "source": [
    "print(classification_report(y_test, prediction))"
   ]
  },
  {
   "cell_type": "markdown",
   "metadata": {
    "id": "c2BPQz5eDmDg"
   },
   "source": [
    "### RandomizedSearch"
   ]
  },
  {
   "cell_type": "code",
   "execution_count": 72,
   "metadata": {
    "colab": {
     "base_uri": "https://localhost:8080/"
    },
    "executionInfo": {
     "elapsed": 11075,
     "status": "ok",
     "timestamp": 1639659426826,
     "user": {
      "displayName": "Александр Аксёнов",
      "photoUrl": "https://lh3.googleusercontent.com/a-/AOh14GgpkPDdBChJz5khG7PXMg_P3ziSIZzWUDpDAjL7KA=s64",
      "userId": "11145992452404092449"
     },
     "user_tz": -300
    },
    "id": "ZpTyAwc9_wDf",
    "outputId": "cb85c60b-04db-4ac1-b4b8-d0a2317af17c"
   },
   "outputs": [
    {
     "name": "stdout",
     "output_type": "stream",
     "text": [
      "Fitting 5 folds for each of 100 candidates, totalling 500 fits\n",
      "CPU times: user 9.84 s, sys: 57.5 ms, total: 9.89 s\n",
      "Wall time: 10.8 s\n"
     ]
    }
   ],
   "source": [
    "%%time\n",
    "# Создать диапазон вариантов значений штрафного гиперпараметра\n",
    "penalty = ['l1', 'l2', 'elasticnet']\n",
    "# Создать диапазон вариантов значений регуляризационного гиперпараметра\n",
    "C = np.logspace(0, 4, 10)\n",
    "# Создать диапазон вариантов для учета сбалансированности\n",
    "class_weight = [None, 'balanced']\n",
    "# Создать диапазон вариантов для решателя\n",
    "solver = ['liblinear', 'lbfgs', 'newton-cg']\n",
    "# Создать словарь вариантов гиперпараметров\n",
    "hyperparameters = dict(C=C, penalty=penalty, class_weight=class_weight, solver=solver)\n",
    "# Создать модель классификации\n",
    "lr = LogisticRegression(random_state=42)\n",
    "# Создать объект решеточного поиска\n",
    "gridsearch = RandomizedSearchCV(lr, hyperparameters, cv=5, verbose=1, n_iter=100)\n",
    "# Выполнить подгонку объекта решеточного поиска\n",
    "best_model = gridsearch.fit(X_train, y_train)"
   ]
  },
  {
   "cell_type": "code",
   "execution_count": 73,
   "metadata": {
    "colab": {
     "base_uri": "https://localhost:8080/"
    },
    "executionInfo": {
     "elapsed": 9,
     "status": "ok",
     "timestamp": 1639659435696,
     "user": {
      "displayName": "Александр Аксёнов",
      "photoUrl": "https://lh3.googleusercontent.com/a-/AOh14GgpkPDdBChJz5khG7PXMg_P3ziSIZzWUDpDAjL7KA=s64",
      "userId": "11145992452404092449"
     },
     "user_tz": -300
    },
    "id": "B9ipWq1e_wBJ",
    "outputId": "fcbac38f-d798-46e7-aa2c-8948c5b4fe99"
   },
   "outputs": [
    {
     "data": {
      "text/plain": [
       "LogisticRegression(C=166.81005372000593, penalty='l1', random_state=42,\n",
       "                   solver='liblinear')"
      ]
     },
     "execution_count": 73,
     "metadata": {},
     "output_type": "execute_result"
    }
   ],
   "source": [
    "best_model.best_estimator_"
   ]
  },
  {
   "cell_type": "code",
   "execution_count": 74,
   "metadata": {
    "colab": {
     "base_uri": "https://localhost:8080/"
    },
    "executionInfo": {
     "elapsed": 311,
     "status": "ok",
     "timestamp": 1639659463791,
     "user": {
      "displayName": "Александр Аксёнов",
      "photoUrl": "https://lh3.googleusercontent.com/a-/AOh14GgpkPDdBChJz5khG7PXMg_P3ziSIZzWUDpDAjL7KA=s64",
      "userId": "11145992452404092449"
     },
     "user_tz": -300
    },
    "id": "Fz3JJ-df_v-B",
    "outputId": "ed5b959a-a9b9-41df-9e1c-9e73bd925235"
   },
   "outputs": [
    {
     "data": {
      "text/plain": [
       "0.8761728395061728"
      ]
     },
     "execution_count": 74,
     "metadata": {},
     "output_type": "execute_result"
    }
   ],
   "source": [
    "best_model.best_score_"
   ]
  },
  {
   "cell_type": "code",
   "execution_count": 75,
   "metadata": {
    "executionInfo": {
     "elapsed": 339,
     "status": "ok",
     "timestamp": 1639659468082,
     "user": {
      "displayName": "Александр Аксёнов",
      "photoUrl": "https://lh3.googleusercontent.com/a-/AOh14GgpkPDdBChJz5khG7PXMg_P3ziSIZzWUDpDAjL7KA=s64",
      "userId": "11145992452404092449"
     },
     "user_tz": -300
    },
    "id": "N0vNppEO_v6U"
   },
   "outputs": [],
   "source": [
    "prediction = best_model.predict(X_test)"
   ]
  },
  {
   "cell_type": "code",
   "execution_count": 76,
   "metadata": {
    "colab": {
     "base_uri": "https://localhost:8080/"
    },
    "executionInfo": {
     "elapsed": 471,
     "status": "ok",
     "timestamp": 1639659474627,
     "user": {
      "displayName": "Александр Аксёнов",
      "photoUrl": "https://lh3.googleusercontent.com/a-/AOh14GgpkPDdBChJz5khG7PXMg_P3ziSIZzWUDpDAjL7KA=s64",
      "userId": "11145992452404092449"
     },
     "user_tz": -300
    },
    "id": "EW-6nP4p_v2g",
    "outputId": "385360d5-6a11-48b7-fe14-23378ff9516c"
   },
   "outputs": [
    {
     "name": "stdout",
     "output_type": "stream",
     "text": [
      "              precision    recall  f1-score   support\n",
      "\n",
      "         0.0       0.81      0.86      0.83        50\n",
      "         1.0       0.86      0.81      0.83        52\n",
      "\n",
      "    accuracy                           0.83       102\n",
      "   macro avg       0.83      0.83      0.83       102\n",
      "weighted avg       0.83      0.83      0.83       102\n",
      "\n"
     ]
    }
   ],
   "source": [
    "print(classification_report(y_test, prediction))"
   ]
  },
  {
   "cell_type": "markdown",
   "metadata": {
    "id": "U7ynSQJ5GOcr"
   },
   "source": [
    "### Построим более сложный GridSerch для подбора не только гиперпараметров одной модели, но и подбора самих моделей"
   ]
  },
  {
   "cell_type": "code",
   "execution_count": 77,
   "metadata": {
    "colab": {
     "base_uri": "https://localhost:8080/"
    },
    "executionInfo": {
     "elapsed": 10,
     "status": "ok",
     "timestamp": 1639659519697,
     "user": {
      "displayName": "Александр Аксёнов",
      "photoUrl": "https://lh3.googleusercontent.com/a-/AOh14GgpkPDdBChJz5khG7PXMg_P3ziSIZzWUDpDAjL7KA=s64",
      "userId": "11145992452404092449"
     },
     "user_tz": -300
    },
    "id": "LddhgDsF_vzL",
    "outputId": "73327ecc-0beb-40f9-bd5b-fb7d86aff1cc"
   },
   "outputs": [
    {
     "name": "stdout",
     "output_type": "stream",
     "text": [
      "1.0    257\n",
      "0.0    249\n",
      "Name: target, dtype: int64\n"
     ]
    }
   ],
   "source": [
    "PATH = 'https://raw.githubusercontent.com/aksenov7/Kaggle_competition_group/master/boston_full.csv'\n",
    "df = pd.read_csv(PATH, sep='\\t')\n",
    "est = Binarizer(threshold=21).fit(df.target.values.reshape(-1,1))\n",
    "new_target = est.transform(df.target.values.reshape(-1,1))\n",
    "df['target'] = new_target\n",
    "print(df.target.value_counts())\n",
    "df.drop('target', axis=1, inplace=True)\n",
    "X_train, X_test, y_train, y_test = train_test_split(\n",
    "                                                    df,\n",
    "                                                    new_target.ravel(),\n",
    "                                                    test_size=0.2,\n",
    "                                                    random_state=42,\n",
    "                                                    stratify=new_target)"
   ]
  },
  {
   "cell_type": "code",
   "execution_count": 78,
   "metadata": {
    "colab": {
     "base_uri": "https://localhost:8080/"
    },
    "executionInfo": {
     "elapsed": 844,
     "status": "ok",
     "timestamp": 1639659712715,
     "user": {
      "displayName": "Александр Аксёнов",
      "photoUrl": "https://lh3.googleusercontent.com/a-/AOh14GgpkPDdBChJz5khG7PXMg_P3ziSIZzWUDpDAjL7KA=s64",
      "userId": "11145992452404092449"
     },
     "user_tz": -300
    },
    "id": "nhPvFS_M_vwa",
    "outputId": "41af62da-51b4-4a5b-cd83-6f5200da584d"
   },
   "outputs": [
    {
     "name": "stdout",
     "output_type": "stream",
     "text": [
      "Fitting 5 folds for each of 36 candidates, totalling 180 fits\n",
      "CPU times: user 684 ms, sys: 2.72 ms, total: 687 ms\n",
      "Wall time: 684 ms\n"
     ]
    }
   ],
   "source": [
    "%%time\n",
    "# Создать конвейер\n",
    "pipe = Pipeline([(\"classifier\", DecisionTreeClassifier())])\n",
    "# Создать словарь вариантов обучающихся алгоритмов и их гиперпараметров\n",
    "search_space = [{\"classifier\": [LogisticRegression()],\n",
    "                 \"classifier__penalty\": ['11', '12'],\n",
    "                 \"classifier__C\": np.logspace(0, 4, 10)},\n",
    "                {\"classifier\": [DecisionTreeClassifier()],\n",
    "                 \"classifier__max_depth\": [3, 6, 12, 30],\n",
    "                 \"classifier__max_features\": [2, 4, 6, None]}]\n",
    "# Создать объект решеточного поиска\n",
    "gridsearch = RandomizedSearchCV(pipe, search_space, cv=5, verbose=1, n_iter=100)\n",
    "# Выполнить подгонку объекта решеточного поиска\n",
    "best_model = gridsearch.fit(X_train, y_train)"
   ]
  },
  {
   "cell_type": "code",
   "execution_count": 79,
   "metadata": {
    "colab": {
     "base_uri": "https://localhost:8080/"
    },
    "executionInfo": {
     "elapsed": 336,
     "status": "ok",
     "timestamp": 1639659723441,
     "user": {
      "displayName": "Александр Аксёнов",
      "photoUrl": "https://lh3.googleusercontent.com/a-/AOh14GgpkPDdBChJz5khG7PXMg_P3ziSIZzWUDpDAjL7KA=s64",
      "userId": "11145992452404092449"
     },
     "user_tz": -300
    },
    "id": "PU33IpsHImJG",
    "outputId": "a0e6314f-7529-4c18-bf13-f803094e4c4a"
   },
   "outputs": [
    {
     "data": {
      "text/plain": [
       "Pipeline(steps=[('classifier',\n",
       "                 DecisionTreeClassifier(max_depth=3, max_features=6))])"
      ]
     },
     "execution_count": 79,
     "metadata": {},
     "output_type": "execute_result"
    }
   ],
   "source": [
    "best_model.best_estimator_"
   ]
  },
  {
   "cell_type": "code",
   "execution_count": 80,
   "metadata": {
    "colab": {
     "base_uri": "https://localhost:8080/"
    },
    "executionInfo": {
     "elapsed": 356,
     "status": "ok",
     "timestamp": 1639659755603,
     "user": {
      "displayName": "Александр Аксёнов",
      "photoUrl": "https://lh3.googleusercontent.com/a-/AOh14GgpkPDdBChJz5khG7PXMg_P3ziSIZzWUDpDAjL7KA=s64",
      "userId": "11145992452404092449"
     },
     "user_tz": -300
    },
    "id": "EImTwUC6IqR1",
    "outputId": "66cea5fd-5417-4254-ef24-3ca9dbb37316"
   },
   "outputs": [
    {
     "data": {
      "text/plain": [
       "0.8563888888888889"
      ]
     },
     "execution_count": 80,
     "metadata": {},
     "output_type": "execute_result"
    }
   ],
   "source": [
    "best_model.best_score_"
   ]
  },
  {
   "cell_type": "code",
   "execution_count": 81,
   "metadata": {
    "colab": {
     "base_uri": "https://localhost:8080/"
    },
    "executionInfo": {
     "elapsed": 396,
     "status": "ok",
     "timestamp": 1639659767920,
     "user": {
      "displayName": "Александр Аксёнов",
      "photoUrl": "https://lh3.googleusercontent.com/a-/AOh14GgpkPDdBChJz5khG7PXMg_P3ziSIZzWUDpDAjL7KA=s64",
      "userId": "11145992452404092449"
     },
     "user_tz": -300
    },
    "id": "qgeBBb0LIuwz",
    "outputId": "8e3ec070-e9b9-46b7-af1b-eeca8f1763f3"
   },
   "outputs": [
    {
     "name": "stdout",
     "output_type": "stream",
     "text": [
      "              precision    recall  f1-score   support\n",
      "\n",
      "         0.0       0.75      0.96      0.84        50\n",
      "         1.0       0.95      0.69      0.80        52\n",
      "\n",
      "    accuracy                           0.82       102\n",
      "   macro avg       0.85      0.83      0.82       102\n",
      "weighted avg       0.85      0.82      0.82       102\n",
      "\n"
     ]
    }
   ],
   "source": [
    "prediction = best_model.predict(X_test)\n",
    "print(classification_report(y_test, prediction))"
   ]
  },
  {
   "cell_type": "markdown",
   "metadata": {
    "id": "S0Oo4qHK4d06"
   },
   "source": [
    "**Pipline с Gridsearch**"
   ]
  },
  {
   "cell_type": "code",
   "execution_count": 83,
   "metadata": {
    "colab": {
     "base_uri": "https://localhost:8080/"
    },
    "executionInfo": {
     "elapsed": 3735,
     "status": "ok",
     "timestamp": 1639659931791,
     "user": {
      "displayName": "Александр Аксёнов",
      "photoUrl": "https://lh3.googleusercontent.com/a-/AOh14GgpkPDdBChJz5khG7PXMg_P3ziSIZzWUDpDAjL7KA=s64",
      "userId": "11145992452404092449"
     },
     "user_tz": -300
    },
    "id": "1MU4ecII4dhd",
    "outputId": "e266450d-af2d-49a8-9fae-e26cf083a2a2"
   },
   "outputs": [
    {
     "name": "stdout",
     "output_type": "stream",
     "text": [
      "Fitting 5 folds for each of 100 candidates, totalling 500 fits\n"
     ]
    }
   ],
   "source": [
    "pipe = Pipeline([(\"normalize\", None), (\"classifier\", DecisionTreeClassifier())])\n",
    "# Создать словарь вариантов обучающихся алгоритмов и их гиперпараметров\n",
    "search_space = [{\"normalize\": [None, StandardScaler(), RobustScaler()],\n",
    "                 \"classifier\": [LogisticRegression()],\n",
    "                 \"classifier__penalty\": ['11', '12'],\n",
    "                 \"classifier__C\": np.logspace(0, 4, 10)},\n",
    "                {\"normalize\": [None, StandardScaler(), RobustScaler()],\n",
    "                 \"classifier\": [DecisionTreeClassifier()],\n",
    "                 \"classifier__max_depth\": [3, 6, 12, 30],\n",
    "                 \"classifier__max_features\": [2, 4, 6, None]}]\n",
    "# Создать объект решеточного поиска\n",
    "gridsearch = RandomizedSearchCV(pipe, search_space, cv=5, verbose=1, n_iter=100)\n",
    "# Выполнить подгонку объекта решеточного поиска\n",
    "best_model = gridsearch.fit(X_train, y_train)"
   ]
  },
  {
   "cell_type": "code",
   "execution_count": 84,
   "metadata": {
    "colab": {
     "base_uri": "https://localhost:8080/"
    },
    "executionInfo": {
     "elapsed": 8,
     "status": "ok",
     "timestamp": 1639659932938,
     "user": {
      "displayName": "Александр Аксёнов",
      "photoUrl": "https://lh3.googleusercontent.com/a-/AOh14GgpkPDdBChJz5khG7PXMg_P3ziSIZzWUDpDAjL7KA=s64",
      "userId": "11145992452404092449"
     },
     "user_tz": -300
    },
    "id": "cxtVkUZw4deU",
    "outputId": "98db7050-bf41-4be6-dc80-2dedb134de44"
   },
   "outputs": [
    {
     "data": {
      "text/plain": [
       "{'classifier': DecisionTreeClassifier(max_depth=12, max_features=6),\n",
       " 'classifier__max_depth': 12,\n",
       " 'classifier__max_features': 6,\n",
       " 'normalize': None}"
      ]
     },
     "execution_count": 84,
     "metadata": {},
     "output_type": "execute_result"
    }
   ],
   "source": [
    "best_model.best_params_"
   ]
  },
  {
   "cell_type": "code",
   "execution_count": 85,
   "metadata": {
    "colab": {
     "base_uri": "https://localhost:8080/"
    },
    "executionInfo": {
     "elapsed": 311,
     "status": "ok",
     "timestamp": 1639659968813,
     "user": {
      "displayName": "Александр Аксёнов",
      "photoUrl": "https://lh3.googleusercontent.com/a-/AOh14GgpkPDdBChJz5khG7PXMg_P3ziSIZzWUDpDAjL7KA=s64",
      "userId": "11145992452404092449"
     },
     "user_tz": -300
    },
    "id": "iV7prMewWWYZ",
    "outputId": "bb2e9ef2-0025-40ef-a026-4fea724a3358"
   },
   "outputs": [
    {
     "data": {
      "text/plain": [
       "0.8466049382716051"
      ]
     },
     "execution_count": 85,
     "metadata": {},
     "output_type": "execute_result"
    }
   ],
   "source": [
    "best_model.best_score_"
   ]
  },
  {
   "cell_type": "code",
   "execution_count": 88,
   "metadata": {
    "executionInfo": {
     "elapsed": 293,
     "status": "ok",
     "timestamp": 1639660131004,
     "user": {
      "displayName": "Александр Аксёнов",
      "photoUrl": "https://lh3.googleusercontent.com/a-/AOh14GgpkPDdBChJz5khG7PXMg_P3ziSIZzWUDpDAjL7KA=s64",
      "userId": "11145992452404092449"
     },
     "user_tz": -300
    },
    "id": "4g5VeBOIWk5w"
   },
   "outputs": [],
   "source": [
    "import pickle\n",
    "pickle.dump(best_model, open(\"my_pipline.pkl\", \"wb\"))"
   ]
  },
  {
   "cell_type": "code",
   "execution_count": 90,
   "metadata": {
    "executionInfo": {
     "elapsed": 360,
     "status": "ok",
     "timestamp": 1639660177391,
     "user": {
      "displayName": "Александр Аксёнов",
      "photoUrl": "https://lh3.googleusercontent.com/a-/AOh14GgpkPDdBChJz5khG7PXMg_P3ziSIZzWUDpDAjL7KA=s64",
      "userId": "11145992452404092449"
     },
     "user_tz": -300
    },
    "id": "EqqNZJ76XCCv"
   },
   "outputs": [],
   "source": [
    "clf = pickle.load(open(\"my_pipline.pkl\", \"rb\"))"
   ]
  },
  {
   "cell_type": "code",
   "execution_count": 91,
   "metadata": {
    "colab": {
     "base_uri": "https://localhost:8080/"
    },
    "executionInfo": {
     "elapsed": 322,
     "status": "ok",
     "timestamp": 1639660213916,
     "user": {
      "displayName": "Александр Аксёнов",
      "photoUrl": "https://lh3.googleusercontent.com/a-/AOh14GgpkPDdBChJz5khG7PXMg_P3ziSIZzWUDpDAjL7KA=s64",
      "userId": "11145992452404092449"
     },
     "user_tz": -300
    },
    "id": "_CdrEsQVXNGR",
    "outputId": "2848f144-a34e-4daa-9676-d063614d2a66"
   },
   "outputs": [
    {
     "name": "stdout",
     "output_type": "stream",
     "text": [
      "              precision    recall  f1-score   support\n",
      "\n",
      "         0.0       0.76      0.82      0.79        50\n",
      "         1.0       0.81      0.75      0.78        52\n",
      "\n",
      "    accuracy                           0.78       102\n",
      "   macro avg       0.79      0.78      0.78       102\n",
      "weighted avg       0.79      0.78      0.78       102\n",
      "\n"
     ]
    }
   ],
   "source": [
    "prediction = clf.predict(X_test)\n",
    "print(classification_report(y_test, prediction))"
   ]
  },
  {
   "cell_type": "markdown",
   "metadata": {
    "id": "SV8fgqUJ7iUR"
   },
   "source": [
    "**Создаем свои преобразователи**"
   ]
  },
  {
   "cell_type": "code",
   "execution_count": 92,
   "metadata": {
    "executionInfo": {
     "elapsed": 394,
     "status": "ok",
     "timestamp": 1639660337417,
     "user": {
      "displayName": "Александр Аксёнов",
      "photoUrl": "https://lh3.googleusercontent.com/a-/AOh14GgpkPDdBChJz5khG7PXMg_P3ziSIZzWUDpDAjL7KA=s64",
      "userId": "11145992452404092449"
     },
     "user_tz": -300
    },
    "id": "VwjE3d5o4dZN"
   },
   "outputs": [],
   "source": [
    "from sklearn.base import BaseEstimator\n",
    "\n",
    "class Estimator(BaseEstimator):\n",
    "\n",
    "    def fit(self, X, y=None):\n",
    "        \"\"\"\n",
    "        Accept input data, X, and optional target data, y. Returns self.\n",
    "        \"\"\"\n",
    "        return self\n",
    "\n",
    "    def predict(self, X):\n",
    "        \"\"\"\n",
    "        Accept input data, X and return a vector of predictions for each row.\n",
    "        \"\"\"\n",
    "        return yhat"
   ]
  },
  {
   "cell_type": "code",
   "execution_count": 93,
   "metadata": {
    "executionInfo": {
     "elapsed": 299,
     "status": "ok",
     "timestamp": 1639660339581,
     "user": {
      "displayName": "Александр Аксёнов",
      "photoUrl": "https://lh3.googleusercontent.com/a-/AOh14GgpkPDdBChJz5khG7PXMg_P3ziSIZzWUDpDAjL7KA=s64",
      "userId": "11145992452404092449"
     },
     "user_tz": -300
    },
    "id": "SPKHQ-U94dSy"
   },
   "outputs": [],
   "source": [
    "from sklearn.base import TransformerMixin\n",
    "\n",
    "class Transfomer(BaseEstimator, TransformerMixin):\n",
    "\n",
    "    def fit(self, X, y=None):\n",
    "        \"\"\"\n",
    "        Learn how to transform data based on input data, X.\n",
    "        \"\"\"\n",
    "        return self\n",
    "\n",
    "    def transform(self, X):\n",
    "        \"\"\"\n",
    "        Transform X into a new dataset, Xprime and return it.\n",
    "        \"\"\"\n",
    "        return Xprime"
   ]
  },
  {
   "cell_type": "code",
   "execution_count": 94,
   "metadata": {
    "executionInfo": {
     "elapsed": 341,
     "status": "ok",
     "timestamp": 1639660343679,
     "user": {
      "displayName": "Александр Аксёнов",
      "photoUrl": "https://lh3.googleusercontent.com/a-/AOh14GgpkPDdBChJz5khG7PXMg_P3ziSIZzWUDpDAjL7KA=s64",
      "userId": "11145992452404092449"
     },
     "user_tz": -300
    },
    "id": "2Op2iach8K7p"
   },
   "outputs": [],
   "source": [
    "nan_col = X_train.sample(3, axis=1).columns\n",
    "nan_row = X_train.sample(25, axis=0).index\n",
    "X_train.loc[nan_row, nan_col] = np.nan"
   ]
  },
  {
   "cell_type": "code",
   "execution_count": 96,
   "metadata": {
    "executionInfo": {
     "elapsed": 360,
     "status": "ok",
     "timestamp": 1639660537183,
     "user": {
      "displayName": "Александр Аксёнов",
      "photoUrl": "https://lh3.googleusercontent.com/a-/AOh14GgpkPDdBChJz5khG7PXMg_P3ziSIZzWUDpDAjL7KA=s64",
      "userId": "11145992452404092449"
     },
     "user_tz": -300
    },
    "id": "-a_EffbA4dJK"
   },
   "outputs": [],
   "source": [
    "class FillNa(BaseEstimator, TransformerMixin):\n",
    "    def __init__(self):\n",
    "        self.placeholder = []\n",
    "\n",
    "    def fit(self, X, y=None):\n",
    "        for column in X.columns:\n",
    "            self.placeholder.append(X[column].median())\n",
    "        return self\n",
    "\n",
    "    def transform(self, X):\n",
    "        Xnew = X.copy()\n",
    "        for placeholder, column in zip(self.placeholder, Xnew.columns):\n",
    "            Xnew[column] = Xnew[column].fillna(placeholder)\n",
    "        return Xnew"
   ]
  },
  {
   "cell_type": "code",
   "execution_count": 97,
   "metadata": {
    "colab": {
     "base_uri": "https://localhost:8080/"
    },
    "executionInfo": {
     "elapsed": 592,
     "status": "ok",
     "timestamp": 1639660544647,
     "user": {
      "displayName": "Александр Аксёнов",
      "photoUrl": "https://lh3.googleusercontent.com/a-/AOh14GgpkPDdBChJz5khG7PXMg_P3ziSIZzWUDpDAjL7KA=s64",
      "userId": "11145992452404092449"
     },
     "user_tz": -300
    },
    "id": "_qlAY-4_D8bX",
    "outputId": "fcc23792-a8f2-4986-a01a-533975905171"
   },
   "outputs": [
    {
     "name": "stdout",
     "output_type": "stream",
     "text": [
      "<class 'pandas.core.frame.DataFrame'>\n",
      "Int64Index: 404 entries, 176 to 459\n",
      "Data columns (total 13 columns):\n",
      " #   Column   Non-Null Count  Dtype  \n",
      "---  ------   --------------  -----  \n",
      " 0   CRIM     404 non-null    float64\n",
      " 1   ZN       404 non-null    float64\n",
      " 2   INDUS    404 non-null    float64\n",
      " 3   CHAS     404 non-null    float64\n",
      " 4   NOX      379 non-null    float64\n",
      " 5   RM       404 non-null    float64\n",
      " 6   AGE      379 non-null    float64\n",
      " 7   DIS      404 non-null    float64\n",
      " 8   RAD      404 non-null    float64\n",
      " 9   TAX      404 non-null    float64\n",
      " 10  PTRATIO  404 non-null    float64\n",
      " 11  B        404 non-null    float64\n",
      " 12  LSTAT    379 non-null    float64\n",
      "dtypes: float64(13)\n",
      "memory usage: 64.2 KB\n"
     ]
    }
   ],
   "source": [
    "X_train.info()"
   ]
  },
  {
   "cell_type": "code",
   "execution_count": 98,
   "metadata": {
    "colab": {
     "base_uri": "https://localhost:8080/"
    },
    "executionInfo": {
     "elapsed": 314,
     "status": "ok",
     "timestamp": 1639660566077,
     "user": {
      "displayName": "Александр Аксёнов",
      "photoUrl": "https://lh3.googleusercontent.com/a-/AOh14GgpkPDdBChJz5khG7PXMg_P3ziSIZzWUDpDAjL7KA=s64",
      "userId": "11145992452404092449"
     },
     "user_tz": -300
    },
    "id": "lmHKgXybDy-n",
    "outputId": "d024305a-76f6-416c-bca5-7de8d84f56ca"
   },
   "outputs": [
    {
     "name": "stdout",
     "output_type": "stream",
     "text": [
      "<class 'pandas.core.frame.DataFrame'>\n",
      "Int64Index: 404 entries, 176 to 459\n",
      "Data columns (total 13 columns):\n",
      " #   Column   Non-Null Count  Dtype  \n",
      "---  ------   --------------  -----  \n",
      " 0   CRIM     404 non-null    float64\n",
      " 1   ZN       404 non-null    float64\n",
      " 2   INDUS    404 non-null    float64\n",
      " 3   CHAS     404 non-null    float64\n",
      " 4   NOX      404 non-null    float64\n",
      " 5   RM       404 non-null    float64\n",
      " 6   AGE      404 non-null    float64\n",
      " 7   DIS      404 non-null    float64\n",
      " 8   RAD      404 non-null    float64\n",
      " 9   TAX      404 non-null    float64\n",
      " 10  PTRATIO  404 non-null    float64\n",
      " 11  B        404 non-null    float64\n",
      " 12  LSTAT    404 non-null    float64\n",
      "dtypes: float64(13)\n",
      "memory usage: 64.2 KB\n"
     ]
    }
   ],
   "source": [
    "fn = FillNa()\n",
    "Xnew = FillNa().fit_transform(X_train)\n",
    "Xnew.info()"
   ]
  }
 ],
 "metadata": {
  "colab": {
   "authorship_tag": "ABX9TyNMzry9g1oatE2O0Lh+t9Wq",
   "collapsed_sections": [
    "1Yt8_tJ1IHsQ",
    "UNITWiWfxkTR",
    "zDqlFnOvmmGM",
    "RQy36hQjm_e9",
    "emDSXuFaHgkx",
    "4WQrhXpE3Fg4",
    "F2W1pdKn42SP",
    "GksgtGjcAqL0",
    "0T4sATlmA7I7",
    "NeM0EY4gBC9V",
    "VDJOKutVBfb-",
    "PxHN0TCt627y",
    "nGkxSzh0By7a",
    "bX4BiG4xB360",
    "BNrrM_g67i0a",
    "7JpuYs_37wVY",
    "XimxrCxMccX2",
    "uzStmQBEg6KJ",
    "8zfgIgZcQyKM",
    "ANkEHK88QY2x",
    "44ojH0lUjtlq",
    "AFLCiX-t_GRR",
    "uCJCqmiW1qbC",
    "dr0pqxeh9S7V"
   ],
   "name": "01_Preprocessing.ipynb",
   "provenance": []
  },
  "kernelspec": {
   "display_name": "Python 3",
   "language": "python",
   "name": "python3"
  },
  "language_info": {
   "codemirror_mode": {
    "name": "ipython",
    "version": 3
   },
   "file_extension": ".py",
   "mimetype": "text/x-python",
   "name": "python",
   "nbconvert_exporter": "python",
   "pygments_lexer": "ipython3",
   "version": "3.8.5"
  }
 },
 "nbformat": 4,
 "nbformat_minor": 1
}
