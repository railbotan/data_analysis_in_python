{
  "nbformat": 4,
  "nbformat_minor": 0,
  "metadata": {
    "colab": {
      "name": "Куланчеев_Евгений_РИ-200016_Numpy.ipynb",
      "provenance": [],
      "collapsed_sections": [],
      "authorship_tag": "ABX9TyPXfOjwM52Z4RF0zPHKQCWt",
      "include_colab_link": true
    },
    "kernelspec": {
      "name": "python3",
      "display_name": "Python 3"
    },
    "language_info": {
      "name": "python"
    }
  },
  "cells": [
    {
      "cell_type": "markdown",
      "metadata": {
        "id": "view-in-github",
        "colab_type": "text"
      },
      "source": [
        "<a href=\"https://colab.research.google.com/github/sheka00/data_analysis_in_python/blob/main/%D0%9A%D1%83%D0%BB%D0%B0%D0%BD%D1%87%D0%B5%D0%B5%D0%B2_%D0%95%D0%B2%D0%B3%D0%B5%D0%BD%D0%B8%D0%B9_%D0%A0%D0%98_200016_Numpy.ipynb\" target=\"_parent\"><img src=\"https://colab.research.google.com/assets/colab-badge.svg\" alt=\"Open In Colab\"/></a>"
      ]
    },
    {
      "cell_type": "code",
      "execution_count": 2,
      "metadata": {
        "id": "8CgXwyuxoIBy"
      },
      "outputs": [],
      "source": [
        "import numpy as np"
      ]
    },
    {
      "cell_type": "markdown",
      "source": [
        "###Задание 1\n",
        "проверьте тип объекта python_list\n",
        "если это не numpy ndarray, то преобразуйте к нему\n",
        "проверьте, что на выходе вы получили объект python_list желаемого типа"
      ],
      "metadata": {
        "id": "RURz3GunWkDF"
      }
    },
    {
      "cell_type": "code",
      "source": [
        "python_list = [1, 12, 13, 45, 76, 45, 98, 0]\n",
        "print(type(python_list))\n",
        "\n",
        "python_list = np.array(python_list)\n",
        "print(type(python_list))"
      ],
      "metadata": {
        "id": "0bY5uIlKoL9w",
        "colab": {
          "base_uri": "https://localhost:8080/"
        },
        "outputId": "98dd2578-d96e-4470-c252-bf3f0549a74c"
      },
      "execution_count": 6,
      "outputs": [
        {
          "output_type": "stream",
          "name": "stdout",
          "text": [
            "<class 'list'>\n",
            "<class 'numpy.ndarray'>\n"
          ]
        }
      ]
    },
    {
      "cell_type": "markdown",
      "source": [
        "###Задание 2\n",
        "создайте одномерный массив numpy из 10 элементов заполненный числом 1.5"
      ],
      "metadata": {
        "id": "0Ldsq-yuWsE8"
      }
    },
    {
      "cell_type": "code",
      "source": [
        "z = np.full((10), 1.5)\n",
        "print(z)"
      ],
      "metadata": {
        "id": "u8JfxBYeo7lH",
        "colab": {
          "base_uri": "https://localhost:8080/"
        },
        "outputId": "2368ee7c-5f51-4f6b-da06-0f698fd815d9"
      },
      "execution_count": 7,
      "outputs": [
        {
          "output_type": "stream",
          "name": "stdout",
          "text": [
            "[1.5 1.5 1.5 1.5 1.5 1.5 1.5 1.5 1.5 1.5]\n"
          ]
        }
      ]
    },
    {
      "cell_type": "markdown",
      "source": [
        "###Задание 3\n",
        "создайте двумерный массив numpy из 25 элементов заполненный числом 0"
      ],
      "metadata": {
        "id": "1Fv0HxfYW1f2"
      }
    },
    {
      "cell_type": "code",
      "source": [
        "z = np.zeros((5, 5))\n",
        "print(z)"
      ],
      "metadata": {
        "colab": {
          "base_uri": "https://localhost:8080/"
        },
        "id": "GJkoyqXnrLa_",
        "outputId": "4a0cd794-a875-4d21-acb7-d53de63fb4d4"
      },
      "execution_count": 8,
      "outputs": [
        {
          "output_type": "stream",
          "name": "stdout",
          "text": [
            "[[0. 0. 0. 0. 0.]\n",
            " [0. 0. 0. 0. 0.]\n",
            " [0. 0. 0. 0. 0.]\n",
            " [0. 0. 0. 0. 0.]\n",
            " [0. 0. 0. 0. 0.]]\n"
          ]
        }
      ]
    },
    {
      "cell_type": "markdown",
      "source": [
        "###Задание 4\n",
        "создайте одномерный массив numpy из 12 элементов заполненный числом 1"
      ],
      "metadata": {
        "id": "f2DnrZ4fW_it"
      }
    },
    {
      "cell_type": "code",
      "source": [
        "ones = np.ones((12))\n",
        "print(ones)"
      ],
      "metadata": {
        "colab": {
          "base_uri": "https://localhost:8080/"
        },
        "id": "_xqlKPOhrMbW",
        "outputId": "313c1f37-1470-4885-c232-cdd07fcd5853"
      },
      "execution_count": 9,
      "outputs": [
        {
          "output_type": "stream",
          "name": "stdout",
          "text": [
            "[1. 1. 1. 1. 1. 1. 1. 1. 1. 1. 1. 1.]\n"
          ]
        }
      ]
    },
    {
      "cell_type": "markdown",
      "source": [
        "###Задание 5\n",
        "преобразуйте массив из предыдущего задания к матрице 3 на 4\n",
        "выведите размерность полученного массива"
      ],
      "metadata": {
        "id": "71KpJheXXCEd"
      }
    },
    {
      "cell_type": "code",
      "source": [
        "ones = ones.reshape(3,4)\n",
        "print(ones.shape)\n"
      ],
      "metadata": {
        "colab": {
          "base_uri": "https://localhost:8080/"
        },
        "id": "X3imUG6PsGk4",
        "outputId": "72433f71-8714-45f3-faf1-457726d06378"
      },
      "execution_count": 10,
      "outputs": [
        {
          "output_type": "execute_result",
          "data": {
            "text/plain": [
              "(3, 4)"
            ]
          },
          "metadata": {},
          "execution_count": 10
        }
      ]
    },
    {
      "cell_type": "markdown",
      "source": [
        "###Задание 6\n",
        "создайте матрицу 4 на 5 заполненную числами от 1 до 20\n",
        "замените элемент в 3-й строке 4-м столбце на -99"
      ],
      "metadata": {
        "id": "bvvQCt1oXFEe"
      }
    },
    {
      "cell_type": "code",
      "source": [
        "Z = np.random.randint(1, 20, (4, 5))\n",
        "print(Z)\n",
        "Z[2,3] = -99\n",
        "print(Z)"
      ],
      "metadata": {
        "colab": {
          "base_uri": "https://localhost:8080/"
        },
        "id": "VHA_14mJsmV2",
        "outputId": "69f5cfd5-b4a1-4ccb-e948-32655ee73445"
      },
      "execution_count": 11,
      "outputs": [
        {
          "output_type": "stream",
          "name": "stdout",
          "text": [
            "[[ 2 15  1  2 16]\n",
            " [ 6 18  5  3 19]\n",
            " [ 7 11  3  4  6]\n",
            " [ 5 19 11  8 19]]\n",
            "[[  2  15   1   2  16]\n",
            " [  6  18   5   3  19]\n",
            " [  7  11   3 -99   6]\n",
            " [  5  19  11   8  19]]\n"
          ]
        }
      ]
    },
    {
      "cell_type": "markdown",
      "source": [
        "###Задание 7\n",
        "создайте вектор длинной 15 со случайными целыми числами в диапазоне от -10 до 10\n",
        "сделайте реверс вектора"
      ],
      "metadata": {
        "id": "jzlyYZY6XG-m"
      }
    },
    {
      "cell_type": "code",
      "source": [
        "first = np.random.randint(-10, 10, 15)\n",
        "print(first)\n",
        "second = np.flip(first)\n",
        "print(second)"
      ],
      "metadata": {
        "colab": {
          "base_uri": "https://localhost:8080/"
        },
        "id": "WjvOnnCathwX",
        "outputId": "1eb737ae-17ee-49b1-b69f-a469118a03ec"
      },
      "execution_count": 12,
      "outputs": [
        {
          "output_type": "stream",
          "name": "stdout",
          "text": [
            "[-10  -6   6 -10 -10   1   2   4   5 -10  -5   2  -3   7 -10]\n",
            "[-10   7  -3   2  -5 -10   5   4   2   1 -10 -10   6  -6 -10]\n"
          ]
        }
      ]
    },
    {
      "cell_type": "markdown",
      "source": [
        "###Задание 8\n",
        "создайте матрицу 5 на 5 со случайными целыми числами в диапазоне от -15 до 15\n",
        "замените отрицательные элементы на их квадраты"
      ],
      "metadata": {
        "id": "dvSjgS5nVK-a"
      }
    },
    {
      "cell_type": "code",
      "source": [
        "first = np.random.randint(-15, 15, (5,5))\n",
        "print(first)\n",
        "\n",
        "first = np.where(first > 0, first, first**2)\n",
        "print(first)"
      ],
      "metadata": {
        "colab": {
          "base_uri": "https://localhost:8080/"
        },
        "id": "iCOzMzKgVRLC",
        "outputId": "c95684d3-1d2e-4c80-8262-77a54e580f66"
      },
      "execution_count": 13,
      "outputs": [
        {
          "output_type": "stream",
          "name": "stdout",
          "text": [
            "[[ 12  -2  -6  10   7]\n",
            " [-10  -5   0  11   5]\n",
            " [ -2   4  -8  -1 -11]\n",
            " [ -7   8 -13 -11   9]\n",
            " [ 14  14  12   8  -6]]\n",
            "[[ 12   4  36  10   7]\n",
            " [100  25   0  11   5]\n",
            " [  4   4  64   1 121]\n",
            " [ 49   8 169 121   9]\n",
            " [ 14  14  12   8  36]]\n"
          ]
        }
      ]
    },
    {
      "cell_type": "markdown",
      "source": [
        "###Задание 9\n",
        "создайте матрицу 3 на 5 со случайными целыми числами в диапазоне от -15 до 15\n",
        "найдите максимум и минимум\n",
        "найдите среднее по столбцам\n",
        "найдите среднее по строкам"
      ],
      "metadata": {
        "id": "eU-8RksxVi3S"
      }
    },
    {
      "cell_type": "code",
      "source": [
        "first = np.random.randint(-15, 15, (3,5))\n",
        "print(first)\n",
        "\n",
        "print(f\"max:{first.max()}\")\n",
        "print(f\"min:{first.min()}\")\n",
        "print(f\"average by columns:{np.mean(first, axis = 0)}\")\n",
        "print(f\"average by rows:{np.mean(first, axis = 1)}\")\n"
      ],
      "metadata": {
        "colab": {
          "base_uri": "https://localhost:8080/"
        },
        "id": "JsnuAJNEuhVf",
        "outputId": "602c7d0c-5ee5-4f4f-deb9-23fe98c16929"
      },
      "execution_count": 14,
      "outputs": [
        {
          "output_type": "stream",
          "name": "stdout",
          "text": [
            "[[ 14  11   7  12  12]\n",
            " [ -6 -12   1  12   2]\n",
            " [-15 -13  -8   6  -2]]\n",
            "max:14\n",
            "min:-15\n",
            "average by columns:[-2.33333333 -4.66666667  0.         10.          4.        ]\n",
            "average by rows:[11.2 -0.6 -6.4]\n"
          ]
        }
      ]
    },
    {
      "cell_type": "markdown",
      "source": [
        "###Задание 10\n",
        "даны две матрицы\n",
        "убедитесь, что их можно пермножить\n",
        "произведите операцию умножения матриц, если это возможно, иначе выведите ошибку"
      ],
      "metadata": {
        "id": "snO7ekxlWK8K"
      }
    },
    {
      "cell_type": "markdown",
      "source": [
        ""
      ],
      "metadata": {
        "id": "LhkxHlYLXNZb"
      }
    },
    {
      "cell_type": "code",
      "source": [
        "a = np.random.randint(-10, 10, (2, 5))\n",
        "first_axis = np.random.randint(4, 6)\n",
        "b = np.random.randint(-10, 10, (first_axis, 3))\n",
        "\n",
        "if a.shape[1] == first_axis:\n",
        "  print(a @ b)\n",
        "else:\n",
        "  print(\"Размеры матрицы не подходят для умножения\")\n"
      ],
      "metadata": {
        "colab": {
          "base_uri": "https://localhost:8080/"
        },
        "id": "PVkNTfbvvws_",
        "outputId": "62d7f2fb-9dca-47d6-e007-809a08e66637"
      },
      "execution_count": 15,
      "outputs": [
        {
          "output_type": "stream",
          "name": "stdout",
          "text": [
            "[[ 12  78 -51]\n",
            " [134 -52 -94]]\n"
          ]
        }
      ]
    },
    {
      "cell_type": "markdown",
      "source": [
        "###Задание 11\n",
        "создайте матрицу 5 на 5 заполненную равномерным распределением с диапазоно 2-12\n",
        "заполните все элементы ниже главной диагонали нулями"
      ],
      "metadata": {
        "id": "rAppICf-WSfy"
      }
    },
    {
      "cell_type": "code",
      "source": [
        "mask = np.random.uniform(2, 12, (5, 5)) \n",
        "matrix = np.triu(mask)\n",
        "\n",
        "print(matrix)"
      ],
      "metadata": {
        "colab": {
          "base_uri": "https://localhost:8080/"
        },
        "id": "ftcxBMpdxjB-",
        "outputId": "a4281077-d8af-4232-c003-dd7963000fdd"
      },
      "execution_count": 16,
      "outputs": [
        {
          "output_type": "stream",
          "name": "stdout",
          "text": [
            "[[ 5.19573213  7.77799753  5.48439374 10.08238082  6.80708603]\n",
            " [ 0.         11.79698838  9.91202838  5.05063999  8.86236686]\n",
            " [ 0.          0.         10.56397617  5.65129299  8.95763833]\n",
            " [ 0.          0.          0.          9.10263013  2.1380896 ]\n",
            " [ 0.          0.          0.          0.          7.29239649]]\n"
          ]
        }
      ]
    },
    {
      "cell_type": "markdown",
      "source": [
        "###Задание 12\n",
        "создайте матрицу 5 на 5 заполненную нормальным распределением с парметрами среднее 10 и отклонение 2\n",
        "заполните все элементы на главной диагонали нулями"
      ],
      "metadata": {
        "id": "h3J-WFUPWY2C"
      }
    },
    {
      "cell_type": "code",
      "source": [
        "matrix = np.random.normal(10, 2, (5,5))\n",
        "\n",
        "np.fill_diagonal(matrix, 0)\n",
        "\n",
        "print(matrix)"
      ],
      "metadata": {
        "colab": {
          "base_uri": "https://localhost:8080/"
        },
        "id": "OPHFml8H5yF0",
        "outputId": "ddf41388-eb86-4329-a963-46f1e41a7ec8"
      },
      "execution_count": 17,
      "outputs": [
        {
          "output_type": "stream",
          "name": "stdout",
          "text": [
            "[[ 0.         12.117185   10.89461228 11.39046669 13.39138555]\n",
            " [ 8.41230202  0.         10.97783081 11.30718636  8.3738151 ]\n",
            " [12.18044222  7.86198532  0.         12.00858843  6.17534695]\n",
            " [ 9.04009563  8.49055196  6.05850519  0.         12.41438183]\n",
            " [12.0171472   8.43063377 10.52628102  7.20674722  0.        ]]\n"
          ]
        }
      ]
    },
    {
      "cell_type": "markdown",
      "source": [
        "###Задание 13\n",
        "дано два массива, проверить одинаковы ли они"
      ],
      "metadata": {
        "id": "bM0wAdfNWdIZ"
      }
    },
    {
      "cell_type": "code",
      "source": [
        "a = np.random.randint(0,2,5)\n",
        "print(a)\n",
        "b = np.random.randint(0,2,5)\n",
        "print(b)\n",
        "equal = np.array_equal(a, b)\n",
        "equal"
      ],
      "metadata": {
        "colab": {
          "base_uri": "https://localhost:8080/"
        },
        "id": "UIUEhcY17ow8",
        "outputId": "fc33a1f1-f211-490f-a494-c37de6688179"
      },
      "execution_count": 18,
      "outputs": [
        {
          "output_type": "stream",
          "name": "stdout",
          "text": [
            "[1 1 0 1 0]\n",
            "[1 1 0 0 0]\n"
          ]
        },
        {
          "output_type": "execute_result",
          "data": {
            "text/plain": [
              "False"
            ]
          },
          "metadata": {},
          "execution_count": 18
        }
      ]
    },
    {
      "cell_type": "markdown",
      "source": [
        "###Задание 14\n",
        "сгенерируйте матрицу случайного размера:\n",
        "строк от 3 до 7\n",
        "столбцов от 2 до 12\n",
        "сгенерируйте число N - размер выборки так, чтобы оно не превышало половину количества элементов сгенерированной матрицы, но было больше 0\n",
        "сделайте случайную выборку N элементов"
      ],
      "metadata": {
        "id": "5FuKm2SXWh8Z"
      }
    },
    {
      "cell_type": "code",
      "source": [
        "r, c = np.random.randint(3, 7), np.random.randint(2, 12)\n",
        "a = np.random.randint(0, 10, (r, c))\n",
        "print(a)\n",
        "N = np.random.randint(0, r * c/2)\n",
        "print(N)\n",
        "sample = np.random.choice(a.flatten(), N)\n",
        "print(sample)"
      ],
      "metadata": {
        "colab": {
          "base_uri": "https://localhost:8080/"
        },
        "id": "QC0DAOuH8B0D",
        "outputId": "1b96c916-3011-4407-ec75-8180a8b05e58"
      },
      "execution_count": 19,
      "outputs": [
        {
          "output_type": "stream",
          "name": "stdout",
          "text": [
            "[[9 9 8 3 9]\n",
            " [6 0 3 8 6]\n",
            " [6 7 4 6 6]\n",
            " [0 3 2 5 1]\n",
            " [1 5 1 0 7]]\n",
            "8\n",
            "[1 8 9 9 8 1 6 1]\n"
          ]
        }
      ]
    },
    {
      "cell_type": "markdown",
      "source": [
        "###Задание 15\n",
        "дан вектор, проверить есть в нем Nan\n",
        "проверить есть в нем знак бесконечности\n",
        "заполнить их нулями"
      ],
      "metadata": {
        "id": "u1abLeYmWo1p"
      }
    },
    {
      "cell_type": "code",
      "source": [
        "a = np.array([1, np.NaN, np.Inf], float)\n",
        "\n",
        "a[np.where((np.isnan(a) == True) | (np.isinf(a) == True))] = 0\n",
        "\n",
        "a\n"
      ],
      "metadata": {
        "colab": {
          "base_uri": "https://localhost:8080/"
        },
        "id": "sNJv7Bc7-Yyc",
        "outputId": "fdb88383-eaad-4d64-a51b-20acd3cfcf3e"
      },
      "execution_count": 20,
      "outputs": [
        {
          "output_type": "execute_result",
          "data": {
            "text/plain": [
              "array([1., 0., 0.])"
            ]
          },
          "metadata": {},
          "execution_count": 20
        }
      ]
    },
    {
      "cell_type": "markdown",
      "source": [
        "###Задание 16\n",
        "сгенерировать массив с произвольным числом осей\n",
        "определить сколько у него осей"
      ],
      "metadata": {
        "id": "zbRHx915Ws0a"
      }
    },
    {
      "cell_type": "code",
      "source": [
        "count_axis = np.random.randint(10)\n",
        "\n",
        "dimension_axes = np.random.randint(0,10,count_axis)\n",
        "\n",
        "matrix = np.random.randint(0,5,dimension_axes)\n",
        "print(matrix.shape)\n"
      ],
      "metadata": {
        "id": "3ybYeRQLCDG7",
        "colab": {
          "base_uri": "https://localhost:8080/"
        },
        "outputId": "7d37d0a4-335c-4736-f325-a3f210b25051"
      },
      "execution_count": 21,
      "outputs": [
        {
          "output_type": "stream",
          "name": "stdout",
          "text": [
            "(8, 5, 6, 2, 1)\n"
          ]
        }
      ]
    },
    {
      "cell_type": "markdown",
      "source": [
        "###Задание 17\n",
        "сгенерируйте матрицу 10 на 3 с нормальным распределением, среднее 50, отклонение 10\n",
        "найдите индексы максимальных элементов в каждой строке\n",
        "найдите сами элементы"
      ],
      "metadata": {
        "id": "OAqvZtsxW0Jp"
      }
    },
    {
      "cell_type": "code",
      "source": [
        "matrix = np.random.normal(50, 10, (10,3))\n",
        "print(matrix)\n",
        "\n",
        "indexes = np.argmax(matrix, axis = 1)\n",
        "print(indexes)\n",
        "\n",
        "print(np.amax(matrix, axis = 1))"
      ],
      "metadata": {
        "colab": {
          "base_uri": "https://localhost:8080/"
        },
        "id": "N2kTXSyMFRqp",
        "outputId": "fa8c9dcd-0a07-4026-d186-7c2c8da1e689"
      },
      "execution_count": 22,
      "outputs": [
        {
          "output_type": "stream",
          "name": "stdout",
          "text": [
            "[[53.3178996  37.77862215 55.19701309]\n",
            " [58.6017231  58.86041972 50.81322686]\n",
            " [40.81998171 55.37038963 37.1040903 ]\n",
            " [45.37774671 35.83698697 28.32141385]\n",
            " [45.29407347 50.56046347 44.52041393]\n",
            " [59.25089324 45.38670281 39.91557315]\n",
            " [73.73167679 56.42356958 58.06431251]\n",
            " [51.65064206 35.12471828 55.78689865]\n",
            " [44.04293563 56.09070793 51.9432573 ]\n",
            " [55.35188747 42.17912451 49.80481398]]\n",
            "[2 1 1 0 1 0 0 2 1 0]\n",
            "[55.19701309 58.86041972 55.37038963 45.37774671 50.56046347 59.25089324\n",
            " 73.73167679 55.78689865 56.09070793 55.35188747]\n"
          ]
        }
      ]
    }
  ]
}