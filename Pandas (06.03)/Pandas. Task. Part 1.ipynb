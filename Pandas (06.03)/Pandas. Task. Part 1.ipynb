{
 "nbformat": 4,
 "nbformat_minor": 0,
 "metadata": {
  "anaconda-cloud": {},
  "kernelspec": {
   "display_name": "Python 3",
   "language": "python",
   "name": "python3"
  },
  "language_info": {
   "codemirror_mode": {
    "name": "ipython",
    "version": 3
   },
   "file_extension": ".py",
   "mimetype": "text/x-python",
   "name": "python",
   "nbconvert_exporter": "python",
   "pygments_lexer": "ipython3",
   "version": "3.7.6"
  },
  "colab": {
   "name": "01_task_pandas.ipynb",
   "provenance": [],
   "collapsed_sections": []
  }
 },
 "cells": [
  {
   "cell_type": "markdown",
   "metadata": {
    "id": "UTKVH3sMutTM"
   },
   "source": [
    "**В задании предлагается с помощью Pandas ответить на несколько вопросов по данным репозитория UCI [Adult](https://archive.ics.uci.edu/ml/datasets/Adult)**"
   ]
  },
  {
   "cell_type": "markdown",
   "metadata": {
    "id": "3lUT-CqYutTO"
   },
   "source": [
    "Уникальные значения признаков (больше информации по ссылке выше):\n",
    "- age: continuous.\n",
    "- workclass: Private, Self-emp-not-inc, Self-emp-inc, Federal-gov, Local-gov, State-gov, Without-pay, Never-worked.\n",
    "- fnlwgt: continuous.\n",
    "- education: Bachelors, Some-college, 11th, HS-grad, Prof-school, Assoc-acdm, Assoc-voc, 9th, 7th-8th, 12th, Masters, 1st-4th, 10th, Doctorate, 5th-6th, Preschool.\n",
    "- education-num: continuous.\n",
    "- marital-status: Married-civ-spouse, Divorced, Never-married, Separated, Widowed, Married-spouse-absent, Married-AF-spouse.\n",
    "- occupation: Tech-support, Craft-repair, Other-service, Sales, Exec-managerial, Prof-specialty, Handlers-cleaners, Machine-op-inspct, Adm-clerical, Farming-fishing, Transport-moving, Priv-house-serv, Protective-serv, Armed-Forces.\n",
    "- relationship: Wife, Own-child, Husband, Not-in-family, Other-relative, Unmarried.\n",
    "- race: White, Asian-Pac-Islander, Amer-Indian-Eskimo, Other, Black.\n",
    "- sex: Female, Male.\n",
    "- capital-gain: continuous.\n",
    "- capital-loss: continuous.\n",
    "- hours-per-week: continuous.\n",
    "- native-country: United-States, Cambodia, England, Puerto-Rico, Canada, Germany, Outlying-US(Guam-USVI-etc), India, Japan, Greece, South, China, Cuba, Iran, Honduras, Philippines, Italy, Poland, Jamaica, Vietnam, Mexico, Portugal, Ireland, France, Dominican-Republic, Laos, Ecuador, Taiwan, Haiti, Columbia, Hungary, Guatemala, Nicaragua, Scotland, Thailand, Yugoslavia, El-Salvador, Trinadad&Tobago, Peru, Hong, Holand-Netherlands.   \n",
    "- salary: >50K,<=50K"
   ]
  },
  {
   "cell_type": "code",
   "metadata": {
    "id": "6GzulHvOutTR"
   },
   "source": [
    "import pandas as pd\n",
    "import numpy as np"
   ],
   "execution_count": 6,
   "outputs": []
  },
  {
   "cell_type": "code",
   "metadata": {
    "id": "SJ3LbaoiutTT",
    "colab": {
     "base_uri": "https://localhost:8080/",
     "height": 380
    },
    "executionInfo": {
     "status": "ok",
     "timestamp": 1626441443051,
     "user_tz": -300,
     "elapsed": 499,
     "user": {
      "displayName": "Александр Аксёнов",
      "photoUrl": "https://lh3.googleusercontent.com/a-/AOh14GhmPE3kg2vafh4QNEoLX_DeI08tDxoR8I8MoJZP=s64",
      "userId": "11145992452404092449"
     }
    },
    "outputId": "eab110b9-0f5f-4bcd-db91-328a0b391379"
   },
   "source": [
    "data = pd.read_csv(\"https://raw.githubusercontent.com/aksenov7/Kaggle_competition_group/master/adult.data.csv\")\n",
    "data.head()"
   ],
   "execution_count": 7,
   "outputs": [
    {
     "data": {
      "text/plain": "   age         workclass  fnlwgt  education  education-num  \\\n0   39         State-gov   77516  Bachelors             13   \n1   50  Self-emp-not-inc   83311  Bachelors             13   \n2   38           Private  215646    HS-grad              9   \n3   53           Private  234721       11th              7   \n4   28           Private  338409  Bachelors             13   \n\n       marital-status         occupation   relationship   race     sex  \\\n0       Never-married       Adm-clerical  Not-in-family  White    Male   \n1  Married-civ-spouse    Exec-managerial        Husband  White    Male   \n2            Divorced  Handlers-cleaners  Not-in-family  White    Male   \n3  Married-civ-spouse  Handlers-cleaners        Husband  Black    Male   \n4  Married-civ-spouse     Prof-specialty           Wife  Black  Female   \n\n   capital-gain  capital-loss  hours-per-week native-country salary  \n0          2174             0              40  United-States  <=50K  \n1             0             0              13  United-States  <=50K  \n2             0             0              40  United-States  <=50K  \n3             0             0              40  United-States  <=50K  \n4             0             0              40           Cuba  <=50K  ",
      "text/html": "<div>\n<style scoped>\n    .dataframe tbody tr th:only-of-type {\n        vertical-align: middle;\n    }\n\n    .dataframe tbody tr th {\n        vertical-align: top;\n    }\n\n    .dataframe thead th {\n        text-align: right;\n    }\n</style>\n<table border=\"1\" class=\"dataframe\">\n  <thead>\n    <tr style=\"text-align: right;\">\n      <th></th>\n      <th>age</th>\n      <th>workclass</th>\n      <th>fnlwgt</th>\n      <th>education</th>\n      <th>education-num</th>\n      <th>marital-status</th>\n      <th>occupation</th>\n      <th>relationship</th>\n      <th>race</th>\n      <th>sex</th>\n      <th>capital-gain</th>\n      <th>capital-loss</th>\n      <th>hours-per-week</th>\n      <th>native-country</th>\n      <th>salary</th>\n    </tr>\n  </thead>\n  <tbody>\n    <tr>\n      <th>0</th>\n      <td>39</td>\n      <td>State-gov</td>\n      <td>77516</td>\n      <td>Bachelors</td>\n      <td>13</td>\n      <td>Never-married</td>\n      <td>Adm-clerical</td>\n      <td>Not-in-family</td>\n      <td>White</td>\n      <td>Male</td>\n      <td>2174</td>\n      <td>0</td>\n      <td>40</td>\n      <td>United-States</td>\n      <td>&lt;=50K</td>\n    </tr>\n    <tr>\n      <th>1</th>\n      <td>50</td>\n      <td>Self-emp-not-inc</td>\n      <td>83311</td>\n      <td>Bachelors</td>\n      <td>13</td>\n      <td>Married-civ-spouse</td>\n      <td>Exec-managerial</td>\n      <td>Husband</td>\n      <td>White</td>\n      <td>Male</td>\n      <td>0</td>\n      <td>0</td>\n      <td>13</td>\n      <td>United-States</td>\n      <td>&lt;=50K</td>\n    </tr>\n    <tr>\n      <th>2</th>\n      <td>38</td>\n      <td>Private</td>\n      <td>215646</td>\n      <td>HS-grad</td>\n      <td>9</td>\n      <td>Divorced</td>\n      <td>Handlers-cleaners</td>\n      <td>Not-in-family</td>\n      <td>White</td>\n      <td>Male</td>\n      <td>0</td>\n      <td>0</td>\n      <td>40</td>\n      <td>United-States</td>\n      <td>&lt;=50K</td>\n    </tr>\n    <tr>\n      <th>3</th>\n      <td>53</td>\n      <td>Private</td>\n      <td>234721</td>\n      <td>11th</td>\n      <td>7</td>\n      <td>Married-civ-spouse</td>\n      <td>Handlers-cleaners</td>\n      <td>Husband</td>\n      <td>Black</td>\n      <td>Male</td>\n      <td>0</td>\n      <td>0</td>\n      <td>40</td>\n      <td>United-States</td>\n      <td>&lt;=50K</td>\n    </tr>\n    <tr>\n      <th>4</th>\n      <td>28</td>\n      <td>Private</td>\n      <td>338409</td>\n      <td>Bachelors</td>\n      <td>13</td>\n      <td>Married-civ-spouse</td>\n      <td>Prof-specialty</td>\n      <td>Wife</td>\n      <td>Black</td>\n      <td>Female</td>\n      <td>0</td>\n      <td>0</td>\n      <td>40</td>\n      <td>Cuba</td>\n      <td>&lt;=50K</td>\n    </tr>\n  </tbody>\n</table>\n</div>"
     },
     "execution_count": 7,
     "metadata": {},
     "output_type": "execute_result"
    }
   ]
  },
  {
   "cell_type": "code",
   "metadata": {
    "id": "EpQFv8t1ds05"
   },
   "source": [
    "# def married(row):\n",
    "#   return \"Married\" in row\n",
    "data[\"married\"] = data[\"marital-status\"].apply(lambda row: \"Married\" in row)"
   ],
   "execution_count": 8,
   "outputs": []
  },
  {
   "cell_type": "code",
   "metadata": {
    "colab": {
     "base_uri": "https://localhost:8080/",
     "height": 756
    },
    "id": "3Bb2mRTEeoJK",
    "executionInfo": {
     "status": "ok",
     "timestamp": 1626441731759,
     "user_tz": -300,
     "elapsed": 481,
     "user": {
      "displayName": "Александр Аксёнов",
      "photoUrl": "https://lh3.googleusercontent.com/a-/AOh14GhmPE3kg2vafh4QNEoLX_DeI08tDxoR8I8MoJZP=s64",
      "userId": "11145992452404092449"
     }
    },
    "outputId": "9dd7d83b-f51a-4e11-f6dc-035a844f81c9"
   },
   "source": [
    "data"
   ],
   "execution_count": 3,
   "outputs": [
    {
     "data": {
      "text/plain": "       age         workclass  fnlwgt   education  education-num  \\\n0       39         State-gov   77516   Bachelors             13   \n1       50  Self-emp-not-inc   83311   Bachelors             13   \n2       38           Private  215646     HS-grad              9   \n3       53           Private  234721        11th              7   \n4       28           Private  338409   Bachelors             13   \n...    ...               ...     ...         ...            ...   \n32556   27           Private  257302  Assoc-acdm             12   \n32557   40           Private  154374     HS-grad              9   \n32558   58           Private  151910     HS-grad              9   \n32559   22           Private  201490     HS-grad              9   \n32560   52      Self-emp-inc  287927     HS-grad              9   \n\n           marital-status         occupation   relationship   race     sex  \\\n0           Never-married       Adm-clerical  Not-in-family  White    Male   \n1      Married-civ-spouse    Exec-managerial        Husband  White    Male   \n2                Divorced  Handlers-cleaners  Not-in-family  White    Male   \n3      Married-civ-spouse  Handlers-cleaners        Husband  Black    Male   \n4      Married-civ-spouse     Prof-specialty           Wife  Black  Female   \n...                   ...                ...            ...    ...     ...   \n32556  Married-civ-spouse       Tech-support           Wife  White  Female   \n32557  Married-civ-spouse  Machine-op-inspct        Husband  White    Male   \n32558             Widowed       Adm-clerical      Unmarried  White  Female   \n32559       Never-married       Adm-clerical      Own-child  White    Male   \n32560  Married-civ-spouse    Exec-managerial           Wife  White  Female   \n\n       capital-gain  capital-loss  hours-per-week native-country salary  \n0              2174             0              40  United-States  <=50K  \n1                 0             0              13  United-States  <=50K  \n2                 0             0              40  United-States  <=50K  \n3                 0             0              40  United-States  <=50K  \n4                 0             0              40           Cuba  <=50K  \n...             ...           ...             ...            ...    ...  \n32556             0             0              38  United-States  <=50K  \n32557             0             0              40  United-States   >50K  \n32558             0             0              40  United-States  <=50K  \n32559             0             0              20  United-States  <=50K  \n32560         15024             0              40  United-States   >50K  \n\n[32561 rows x 15 columns]",
      "text/html": "<div>\n<style scoped>\n    .dataframe tbody tr th:only-of-type {\n        vertical-align: middle;\n    }\n\n    .dataframe tbody tr th {\n        vertical-align: top;\n    }\n\n    .dataframe thead th {\n        text-align: right;\n    }\n</style>\n<table border=\"1\" class=\"dataframe\">\n  <thead>\n    <tr style=\"text-align: right;\">\n      <th></th>\n      <th>age</th>\n      <th>workclass</th>\n      <th>fnlwgt</th>\n      <th>education</th>\n      <th>education-num</th>\n      <th>marital-status</th>\n      <th>occupation</th>\n      <th>relationship</th>\n      <th>race</th>\n      <th>sex</th>\n      <th>capital-gain</th>\n      <th>capital-loss</th>\n      <th>hours-per-week</th>\n      <th>native-country</th>\n      <th>salary</th>\n    </tr>\n  </thead>\n  <tbody>\n    <tr>\n      <th>0</th>\n      <td>39</td>\n      <td>State-gov</td>\n      <td>77516</td>\n      <td>Bachelors</td>\n      <td>13</td>\n      <td>Never-married</td>\n      <td>Adm-clerical</td>\n      <td>Not-in-family</td>\n      <td>White</td>\n      <td>Male</td>\n      <td>2174</td>\n      <td>0</td>\n      <td>40</td>\n      <td>United-States</td>\n      <td>&lt;=50K</td>\n    </tr>\n    <tr>\n      <th>1</th>\n      <td>50</td>\n      <td>Self-emp-not-inc</td>\n      <td>83311</td>\n      <td>Bachelors</td>\n      <td>13</td>\n      <td>Married-civ-spouse</td>\n      <td>Exec-managerial</td>\n      <td>Husband</td>\n      <td>White</td>\n      <td>Male</td>\n      <td>0</td>\n      <td>0</td>\n      <td>13</td>\n      <td>United-States</td>\n      <td>&lt;=50K</td>\n    </tr>\n    <tr>\n      <th>2</th>\n      <td>38</td>\n      <td>Private</td>\n      <td>215646</td>\n      <td>HS-grad</td>\n      <td>9</td>\n      <td>Divorced</td>\n      <td>Handlers-cleaners</td>\n      <td>Not-in-family</td>\n      <td>White</td>\n      <td>Male</td>\n      <td>0</td>\n      <td>0</td>\n      <td>40</td>\n      <td>United-States</td>\n      <td>&lt;=50K</td>\n    </tr>\n    <tr>\n      <th>3</th>\n      <td>53</td>\n      <td>Private</td>\n      <td>234721</td>\n      <td>11th</td>\n      <td>7</td>\n      <td>Married-civ-spouse</td>\n      <td>Handlers-cleaners</td>\n      <td>Husband</td>\n      <td>Black</td>\n      <td>Male</td>\n      <td>0</td>\n      <td>0</td>\n      <td>40</td>\n      <td>United-States</td>\n      <td>&lt;=50K</td>\n    </tr>\n    <tr>\n      <th>4</th>\n      <td>28</td>\n      <td>Private</td>\n      <td>338409</td>\n      <td>Bachelors</td>\n      <td>13</td>\n      <td>Married-civ-spouse</td>\n      <td>Prof-specialty</td>\n      <td>Wife</td>\n      <td>Black</td>\n      <td>Female</td>\n      <td>0</td>\n      <td>0</td>\n      <td>40</td>\n      <td>Cuba</td>\n      <td>&lt;=50K</td>\n    </tr>\n    <tr>\n      <th>...</th>\n      <td>...</td>\n      <td>...</td>\n      <td>...</td>\n      <td>...</td>\n      <td>...</td>\n      <td>...</td>\n      <td>...</td>\n      <td>...</td>\n      <td>...</td>\n      <td>...</td>\n      <td>...</td>\n      <td>...</td>\n      <td>...</td>\n      <td>...</td>\n      <td>...</td>\n    </tr>\n    <tr>\n      <th>32556</th>\n      <td>27</td>\n      <td>Private</td>\n      <td>257302</td>\n      <td>Assoc-acdm</td>\n      <td>12</td>\n      <td>Married-civ-spouse</td>\n      <td>Tech-support</td>\n      <td>Wife</td>\n      <td>White</td>\n      <td>Female</td>\n      <td>0</td>\n      <td>0</td>\n      <td>38</td>\n      <td>United-States</td>\n      <td>&lt;=50K</td>\n    </tr>\n    <tr>\n      <th>32557</th>\n      <td>40</td>\n      <td>Private</td>\n      <td>154374</td>\n      <td>HS-grad</td>\n      <td>9</td>\n      <td>Married-civ-spouse</td>\n      <td>Machine-op-inspct</td>\n      <td>Husband</td>\n      <td>White</td>\n      <td>Male</td>\n      <td>0</td>\n      <td>0</td>\n      <td>40</td>\n      <td>United-States</td>\n      <td>&gt;50K</td>\n    </tr>\n    <tr>\n      <th>32558</th>\n      <td>58</td>\n      <td>Private</td>\n      <td>151910</td>\n      <td>HS-grad</td>\n      <td>9</td>\n      <td>Widowed</td>\n      <td>Adm-clerical</td>\n      <td>Unmarried</td>\n      <td>White</td>\n      <td>Female</td>\n      <td>0</td>\n      <td>0</td>\n      <td>40</td>\n      <td>United-States</td>\n      <td>&lt;=50K</td>\n    </tr>\n    <tr>\n      <th>32559</th>\n      <td>22</td>\n      <td>Private</td>\n      <td>201490</td>\n      <td>HS-grad</td>\n      <td>9</td>\n      <td>Never-married</td>\n      <td>Adm-clerical</td>\n      <td>Own-child</td>\n      <td>White</td>\n      <td>Male</td>\n      <td>0</td>\n      <td>0</td>\n      <td>20</td>\n      <td>United-States</td>\n      <td>&lt;=50K</td>\n    </tr>\n    <tr>\n      <th>32560</th>\n      <td>52</td>\n      <td>Self-emp-inc</td>\n      <td>287927</td>\n      <td>HS-grad</td>\n      <td>9</td>\n      <td>Married-civ-spouse</td>\n      <td>Exec-managerial</td>\n      <td>Wife</td>\n      <td>White</td>\n      <td>Female</td>\n      <td>15024</td>\n      <td>0</td>\n      <td>40</td>\n      <td>United-States</td>\n      <td>&gt;50K</td>\n    </tr>\n  </tbody>\n</table>\n<p>32561 rows × 15 columns</p>\n</div>"
     },
     "execution_count": 3,
     "metadata": {},
     "output_type": "execute_result"
    }
   ]
  },
  {
   "cell_type": "markdown",
   "metadata": {
    "id": "MoK8B5fIutTW"
   },
   "source": [
    "**1. Сколько мужчин и женщин (признак *sex*) представлено в этом наборе данных?**"
   ]
  },
  {
   "cell_type": "code",
   "metadata": {
    "collapsed": true,
    "id": "hdzky90TutTY"
   },
   "source": [
    "print(data[data.sex == 'Male'].shape[0])\n",
    "data[data.sex == 'Female'].shape[0]"
   ],
   "execution_count": 21,
   "outputs": [
    {
     "name": "stdout",
     "output_type": "stream",
     "text": [
      "21790\n"
     ]
    },
    {
     "data": {
      "text/plain": "10771"
     },
     "execution_count": 21,
     "metadata": {},
     "output_type": "execute_result"
    }
   ]
  },
  {
   "cell_type": "markdown",
   "metadata": {
    "id": "adF8lgVbutTZ"
   },
   "source": [
    "**2. Каков средний возраст (признак *age*) женщин?**"
   ]
  },
  {
   "cell_type": "code",
   "metadata": {
    "collapsed": true,
    "id": "K6C2qZ_zutTb"
   },
   "source": [
    "data[data.sex == 'Female'].age.mean()"
   ],
   "execution_count": 19,
   "outputs": [
    {
     "data": {
      "text/plain": "36.85823043357163"
     },
     "execution_count": 19,
     "metadata": {},
     "output_type": "execute_result"
    }
   ]
  },
  {
   "cell_type": "markdown",
   "metadata": {
    "id": "-Cz1S7-HutTd"
   },
   "source": [
    "**3. Какова доля граждан Германии (признак *native-country*)?**"
   ]
  },
  {
   "cell_type": "code",
   "metadata": {
    "collapsed": true,
    "id": "Y4mmqN6outTf"
   },
   "source": [
    "data[data['native-country'] == 'Germany'].shape[0] / data.shape[0]"
   ],
   "execution_count": 23,
   "outputs": [
    {
     "data": {
      "text/plain": "0.004207487485028101"
     },
     "execution_count": 23,
     "metadata": {},
     "output_type": "execute_result"
    }
   ]
  },
  {
   "cell_type": "markdown",
   "metadata": {
    "id": "Do-rEgaautTg"
   },
   "source": [
    "**4-5. Каковы средние значения и среднеквадратичные отклонения возраста тех, кто получает более 50K в год (признак *salary*) и тех, кто получает менее 50K в год? **"
   ]
  },
  {
   "cell_type": "code",
   "metadata": {
    "collapsed": true,
    "id": "eSuk0CAnutTh"
   },
   "source": [
    "print(f\"среднее значение для >50K: {data.age[data.salary == '>50K'].mean()}\")\n",
    "print(f\"отклонение для >50K: {data.age[data.salary == '>50K'].std()}\")\n",
    "print(f\"среднее значение для <=50K: {data.age[data.salary == '<=50K'].mean()}\")\n",
    "print(f\"отклонение для <=50K: {data.age[data.salary == '<=50K'].std()}\")"
   ],
   "execution_count": 35,
   "outputs": [
    {
     "name": "stdout",
     "output_type": "stream",
     "text": [
      "среднее значение для >50K: 44.24984058155847\n",
      "отклонение для >50K: 10.519027719851826\n",
      "среднее значение для <=50K: 36.78373786407767\n",
      "отклонение для <=50K: 14.02008849082488\n"
     ]
    }
   ]
  },
  {
   "cell_type": "markdown",
   "metadata": {
    "id": "rK9SwvI_utTj"
   },
   "source": [
    "**6. Правда ли, что люди, которые получают больше 50k, имеют как минимум высшее образование? (признак *education – Bachelors, Prof-school, Assoc-acdm, Assoc-voc, Masters* или *Doctorate*)**"
   ]
  },
  {
   "cell_type": "code",
   "metadata": {
    "collapsed": true,
    "id": "eygYabkdutTj"
   },
   "source": [
    "def check_education(value):\n",
    "    education = ['Bachelors', 'Prof-school', 'Assoc-acdm', 'Assoc-voc', 'Masters', 'Doctorate']\n",
    "    return value in education\n",
    "\n",
    "\n",
    "data[data.salary == '>50K'].education.apply(check_education).all()\n"
   ],
   "execution_count": 115,
   "outputs": [
    {
     "data": {
      "text/plain": "False"
     },
     "execution_count": 115,
     "metadata": {},
     "output_type": "execute_result"
    }
   ]
  },
  {
   "cell_type": "markdown",
   "metadata": {
    "id": "4DqPASEsutTk"
   },
   "source": [
    "**7. Выведите статистику возраста для каждой расы (признак *race*) и каждого пола. Используйте *groupby* и *describe*. Найдите таким образом максимальный возраст мужчин расы *Amer-Indian-Eskimo*.**"
   ]
  },
  {
   "cell_type": "code",
   "metadata": {
    "collapsed": true,
    "id": "fYkBDZMdutTl"
   },
   "source": [
    "print(f\"Статситика по расе: {data.groupby('age').race.describe()}\")\n",
    "print(f\"Статистика по полу: {data.groupby('age').sex.describe()}\")\n",
    "print(f\"Максимальный возраст \\\"таким образом\\\": \")\n",
    "data[data.race == 'Amer-Indian-Eskimo'].groupby('age').describe()[::-1]\n",
    "\n",
    "# интересно, можно вывести статистику примерно таким способом?\n",
    "# data.groupby('age').agg({'race':[data.race.describe()], 'sex':[data.sex.describe()]})\n",
    "\n",
    "# не понял, зачем выводить максимальный возраст предложенным способом,\n",
    "# на всякий случай вот еще вариант:\n",
    "# data[data.race == 'Amer-Indian-Eskimo'].age.max()"
   ],
   "execution_count": 16,
   "outputs": [
    {
     "data": {
      "text/plain": "    fnlwgt                                                               \\\n     count           mean            std       min        25%       50%   \nage                                                                       \n82     1.0   52921.000000            NaN   52921.0   52921.00   52921.0   \n80     1.0   20101.000000            NaN   20101.0   20101.00   20101.0   \n74     1.0   33114.000000            NaN   33114.0   33114.00   33114.0   \n71     1.0  322789.000000            NaN  322789.0  322789.00  322789.0   \n68     2.0   87848.000000   48080.432694   53850.0   70849.00   87848.0   \n67     1.0  126849.000000            NaN  126849.0  126849.00  126849.0   \n65     1.0  178931.000000            NaN  178931.0  178931.00  178931.0   \n63     2.0  237885.000000  293142.429849   30602.0  134243.50  237885.0   \n62     1.0   68461.000000            NaN   68461.0   68461.00   68461.0   \n61     1.0  130466.000000            NaN  130466.0  130466.00  130466.0   \n60     6.0   44603.833333   50954.030951   21101.0   22460.75   24543.5   \n59     2.0  161504.000000   62854.721780  117059.0  139281.50  161504.0   \n58     3.0   56484.666667   36365.178761   30111.0   35742.50   41374.0   \n57     3.0  172688.000000  142288.315111   29375.0  102067.50  174760.0   \n56     3.0  107913.000000   51293.126801   60166.0   80801.00  101436.0   \n55     3.0   92913.666667  113284.739971   26290.0   27512.50   28735.0   \n53     5.0   87174.000000   64892.475388   20438.0   20676.00  105728.0   \n52     2.0  262507.500000   28519.737806  242341.0  252424.25  262507.5   \n51    10.0  126893.200000   91869.051011   35211.0   44834.75   90176.5   \n50     4.0  120766.250000   82460.258045   32801.0   67187.00  114812.0   \n49     2.0  176587.500000   19419.273532  162856.0  169721.75  176587.5   \n48     2.0  152808.000000  128443.118375   61985.0  107396.50  152808.0   \n47     8.0  128878.500000   67380.633053   24723.0   89641.00  120711.0   \n46    13.0  170797.846154   88035.609467   26781.0  133969.00  147640.0   \n45     5.0   87854.200000   93655.957457   26781.0   26781.00   26781.0   \n44     4.0  106413.500000   65717.346388   33105.0   82518.00   99786.5   \n43     8.0  150311.000000   77209.211109   19914.0   93100.50  178305.5   \n42    13.0  113468.384615   85920.970203   23813.0   31387.00  108506.0   \n41     5.0  138658.000000   80349.040819   47170.0  113555.00  118721.0   \n40    11.0  119502.181818   93649.945804   20109.0   73040.50   96509.0   \n39     7.0   83539.000000   33041.571931   19914.0   72679.00   89419.0   \n38     6.0   87902.666667   65457.626672   31352.0   35226.50   63080.5   \n37     7.0  115490.714286   69269.328756   25864.0   68014.00  116358.0   \n36     5.0  107067.400000   65314.823301   32587.0   68089.00   88967.0   \n35    16.0   98522.625000   51866.462059   22055.0   71101.75  105223.5   \n34     8.0  115391.625000   88294.804799   22641.0   33020.00  108362.5   \n33     7.0  122588.857143  113206.419007   27959.0   50806.50   98145.0   \n32     7.0  136745.714286   85103.432402   27939.0   64975.50  163530.0   \n31    16.0  118253.062500   96582.076694   22201.0   57409.50   97237.0   \n30    10.0  181404.000000  128468.828473   23037.0   69468.50  158156.5   \n29    11.0   95232.636364   67714.025110   22641.0   28158.00  100405.0   \n28    14.0   87593.000000   93787.897013   24153.0   25955.00   39275.5   \n27    11.0  115923.454545   68421.330878   23740.0   61741.00  129661.0   \n26     3.0  106531.666667   40411.040327   73392.0   84022.00   94652.0   \n25     9.0  144497.222222  116454.389611   12285.0   44216.00  130397.0   \n24     6.0  153098.000000  137543.252751   19410.0   32603.25  138534.0   \n23    13.0  109204.000000   88232.594202   13769.0   33105.00   99399.0   \n22     9.0  147079.222222   80070.263533   29444.0  108506.00  145477.0   \n21     6.0  181713.000000   91018.186890   75763.0  103932.75  190530.5   \n20     3.0   66616.666667   61632.489730   27337.0   31099.50   34862.0   \n19     6.0   82268.333333   87982.956676   29083.0   30048.50   32143.5   \n18     4.0  147675.500000  124316.647074   40829.0   50039.00  124003.0   \n17     3.0   85667.333333   52726.233000   27415.0   63438.50   99462.0   \n\n                         education-num             ... capital-loss          \\\n           75%       max         count       mean  ...          75%     max   \nage                                                ...                        \n82    52921.00   52921.0           1.0  10.000000  ...          0.0     0.0   \n80    20101.00   20101.0           1.0   9.000000  ...          0.0     0.0   \n74    33114.00   33114.0           1.0   6.000000  ...          0.0     0.0   \n71   322789.00  322789.0           1.0   9.000000  ...          0.0     0.0   \n68   104847.00  121846.0           2.0   4.000000  ...          0.0     0.0   \n67   126849.00  126849.0           1.0   6.000000  ...          0.0     0.0   \n65   178931.00  178931.0           1.0   9.000000  ...          0.0     0.0   \n63   341526.50  445168.0           2.0   8.500000  ...          0.0     0.0   \n62    68461.00   68461.0           1.0  16.000000  ...          0.0     0.0   \n61   130466.00  130466.0           1.0   9.000000  ...          0.0     0.0   \n60    26495.75  148522.0           6.0   9.000000  ...          0.0     0.0   \n59   183726.50  205949.0           2.0   8.000000  ...          0.0     0.0   \n58    69671.50   97969.0           3.0   7.000000  ...          0.0     0.0   \n57   244344.50  313929.0           3.0  10.333333  ...          0.0     0.0   \n56   131786.50  162137.0           3.0   6.666667  ...          0.0     0.0   \n55   126225.50  223716.0           3.0  10.000000  ...          0.0     0.0   \n53   121618.00  167410.0           5.0   9.000000  ...          0.0     0.0   \n52   272590.75  282674.0           2.0   6.500000  ...          0.0     0.0   \n51   214031.00  251487.0          10.0   9.500000  ...          0.0     0.0   \n50   168391.25  220640.0           4.0  11.500000  ...          0.0     0.0   \n49   183453.25  190319.0           2.0  11.500000  ...          0.0     0.0   \n48   198219.50  243631.0           2.0   7.500000  ...          0.0     0.0   \n47   164427.00  244025.0           8.0   8.625000  ...          0.0     0.0   \n46   197988.00  363875.0          13.0   8.461538  ...          0.0  1902.0   \n45   119835.00  239093.0           5.0   8.400000  ...          0.0     0.0   \n44   123682.00  192976.0           4.0  10.000000  ...          0.0     0.0   \n43   201248.50  239161.0           8.0  10.375000  ...          0.0     0.0   \n42   140474.00  304302.0          13.0  11.307692  ...          0.0     0.0   \n41   147314.00  266530.0           5.0   9.800000  ...          0.0     0.0   \n40   113341.00  310101.0          11.0   9.818182  ...          0.0  1977.0   \n39   106708.00  116666.0           7.0   9.571429  ...          0.0     0.0   \n38   141942.00  175732.0           6.0  10.666667  ...          0.0     0.0   \n37   156248.00  217689.0           7.0   9.714286  ...          0.0     0.0   \n36   150309.00  195385.0           5.0   9.200000  ...          0.0     0.0   \n35   128745.50  197719.0          16.0   9.812500  ...          0.0     0.0   \n34   170104.00  245487.0           8.0   9.375000  ...          0.0  1564.0   \n33   137195.00  356015.0           7.0  10.142857  ...          0.0     0.0   \n32   195156.50  245487.0           7.0   7.857143  ...          0.0  1980.0   \n31   122401.75  395170.0          16.0   9.687500  ...          0.0     0.0   \n30   297535.25  356015.0          10.0   9.000000  ...          0.0     0.0   \n29   151753.50  190636.0          11.0   9.000000  ...          0.0  1485.0   \n28   112592.00  314649.0          14.0   9.000000  ...          0.0     0.0   \n27   156266.00  221252.0          11.0   9.272727  ...          0.0     0.0   \n26   123101.50  151551.0           3.0   9.666667  ...          0.0     0.0   \n25   258276.00  312338.0           9.0   9.444444  ...          0.0     0.0   \n24   251180.25  336088.0           6.0   9.333333  ...          0.0     0.0   \n23   178207.00  306601.0          13.0   9.384615  ...          0.0     0.0   \n22   216984.00  233955.0           9.0   9.666667  ...          0.0     0.0   \n21   238196.50  304302.0           6.0   9.166667  ...          0.0     0.0   \n20    86256.50  137651.0           3.0   9.666667  ...          0.0     0.0   \n19   103247.50  243941.0           6.0   8.333333  ...          0.0  1721.0   \n18   221639.50  301867.0           4.0   8.000000  ...          0.0     0.0   \n17   114793.50  130125.0           3.0   6.666667  ...          0.0     0.0   \n\n    hours-per-week                                                        \n             count       mean        std   min    25%   50%    75%   max  \nage                                                                       \n82             1.0   3.000000        NaN   3.0   3.00   3.0   3.00   3.0  \n80             1.0  32.000000        NaN  32.0  32.00  32.0  32.00  32.0  \n74             1.0  30.000000        NaN  30.0  30.00  30.0  30.00  30.0  \n71             1.0  35.000000        NaN  35.0  35.00  35.0  35.00  35.0  \n68             2.0  30.000000  14.142136  20.0  25.00  30.0  35.00  40.0  \n67             1.0  20.000000        NaN  20.0  20.00  20.0  20.00  20.0  \n65             1.0  40.000000        NaN  40.0  40.00  40.0  40.00  40.0  \n63             2.0  48.000000  11.313708  40.0  44.00  48.0  52.00  56.0  \n62             1.0  40.000000        NaN  40.0  40.00  40.0  40.00  40.0  \n61             1.0  40.000000        NaN  40.0  40.00  40.0  40.00  40.0  \n60             6.0  35.000000  13.784049  10.0  32.50  40.0  40.00  50.0  \n59             2.0  40.000000   0.000000  40.0  40.00  40.0  40.00  40.0  \n58             3.0  40.000000   0.000000  40.0  40.00  40.0  40.00  40.0  \n57             3.0  38.333333   2.886751  35.0  37.50  40.0  40.00  40.0  \n56             3.0  46.666667  16.072751  35.0  37.50  40.0  52.50  65.0  \n55             3.0  41.000000   3.605551  38.0  39.00  40.0  42.50  45.0  \n53             5.0  34.200000  12.891858  15.0  28.00  40.0  40.00  48.0  \n52             2.0  40.000000   0.000000  40.0  40.00  40.0  40.00  40.0  \n51            10.0  44.000000   6.649979  40.0  40.00  40.0  46.00  60.0  \n50             4.0  42.500000   5.000000  40.0  40.00  40.0  42.50  50.0  \n49             2.0  40.000000   0.000000  40.0  40.00  40.0  40.00  40.0  \n48             2.0  30.000000  14.142136  20.0  25.00  30.0  35.00  40.0  \n47             8.0  42.125000   6.664136  35.0  39.00  40.0  45.00  56.0  \n46            13.0  41.769231   9.867065  20.0  40.00  40.0  40.00  60.0  \n45             5.0  35.200000  15.594871   8.0  40.00  40.0  40.00  48.0  \n44             4.0  39.500000   1.000000  38.0  39.50  40.0  40.00  40.0  \n43             8.0  36.875000  10.329396  15.0  37.50  40.0  40.00  50.0  \n42            13.0  41.923077   8.548504  30.0  40.00  40.0  40.00  60.0  \n41             5.0  46.600000   4.219005  40.0  45.00  48.0  50.00  50.0  \n40            11.0  46.545455  14.137635  35.0  40.00  40.0  46.50  84.0  \n39             7.0  41.142857   3.023716  40.0  40.00  40.0  40.00  48.0  \n38             6.0  40.833333  18.551729  15.0  32.50  40.0  47.50  70.0  \n37             7.0  35.714286   9.123491  20.0  31.00  40.0  40.00  48.0  \n36             5.0  45.000000  11.180340  40.0  40.00  40.0  40.00  65.0  \n35            16.0  41.500000  12.738393  15.0  39.50  40.0  43.75  60.0  \n34             8.0  44.625000   8.667468  32.0  40.00  42.5  49.00  60.0  \n33             7.0  41.285714   9.945087  30.0  35.50  40.0  44.00  60.0  \n32             7.0  45.714286   9.759001  40.0  40.00  40.0  50.00  60.0  \n31            16.0  37.562500   5.773142  24.0  38.75  40.0  40.00  45.0  \n30            10.0  43.500000  18.638371   8.0  40.00  40.0  46.00  84.0  \n29            11.0  46.181818   8.908627  40.0  40.00  40.0  49.00  65.0  \n28            14.0  43.214286   8.902710  30.0  40.00  40.0  43.75  60.0  \n27            11.0  36.090909  18.822617   8.0  29.00  40.0  41.50  75.0  \n26             3.0  39.333333   9.018500  30.0  35.00  40.0  44.00  48.0  \n25             9.0  35.000000   8.660254  20.0  35.00  40.0  40.00  40.0  \n24             6.0  42.166667   5.671567  35.0  40.00  40.0  46.00  50.0  \n23            13.0  35.769231   5.340940  25.0  30.00  40.0  40.00  40.0  \n22             9.0  48.666667  18.794946  25.0  40.00  40.0  50.00  84.0  \n21             6.0  34.666667  15.266521   4.0  38.50  40.0  40.00  46.0  \n20             3.0  53.333333  16.653328  40.0  44.00  48.0  60.00  72.0  \n19             6.0  27.500000  10.368221  15.0  21.25  25.0  36.25  40.0  \n18             4.0  26.250000   9.464847  20.0  20.00  22.5  28.75  40.0  \n17             3.0  20.000000   0.000000  20.0  20.00  20.0  20.00  20.0  \n\n[53 rows x 40 columns]",
      "text/html": "<div>\n<style scoped>\n    .dataframe tbody tr th:only-of-type {\n        vertical-align: middle;\n    }\n\n    .dataframe tbody tr th {\n        vertical-align: top;\n    }\n\n    .dataframe thead tr th {\n        text-align: left;\n    }\n\n    .dataframe thead tr:last-of-type th {\n        text-align: right;\n    }\n</style>\n<table border=\"1\" class=\"dataframe\">\n  <thead>\n    <tr>\n      <th></th>\n      <th colspan=\"8\" halign=\"left\">fnlwgt</th>\n      <th colspan=\"2\" halign=\"left\">education-num</th>\n      <th>...</th>\n      <th colspan=\"2\" halign=\"left\">capital-loss</th>\n      <th colspan=\"8\" halign=\"left\">hours-per-week</th>\n    </tr>\n    <tr>\n      <th></th>\n      <th>count</th>\n      <th>mean</th>\n      <th>std</th>\n      <th>min</th>\n      <th>25%</th>\n      <th>50%</th>\n      <th>75%</th>\n      <th>max</th>\n      <th>count</th>\n      <th>mean</th>\n      <th>...</th>\n      <th>75%</th>\n      <th>max</th>\n      <th>count</th>\n      <th>mean</th>\n      <th>std</th>\n      <th>min</th>\n      <th>25%</th>\n      <th>50%</th>\n      <th>75%</th>\n      <th>max</th>\n    </tr>\n    <tr>\n      <th>age</th>\n      <th></th>\n      <th></th>\n      <th></th>\n      <th></th>\n      <th></th>\n      <th></th>\n      <th></th>\n      <th></th>\n      <th></th>\n      <th></th>\n      <th></th>\n      <th></th>\n      <th></th>\n      <th></th>\n      <th></th>\n      <th></th>\n      <th></th>\n      <th></th>\n      <th></th>\n      <th></th>\n      <th></th>\n    </tr>\n  </thead>\n  <tbody>\n    <tr>\n      <th>82</th>\n      <td>1.0</td>\n      <td>52921.000000</td>\n      <td>NaN</td>\n      <td>52921.0</td>\n      <td>52921.00</td>\n      <td>52921.0</td>\n      <td>52921.00</td>\n      <td>52921.0</td>\n      <td>1.0</td>\n      <td>10.000000</td>\n      <td>...</td>\n      <td>0.0</td>\n      <td>0.0</td>\n      <td>1.0</td>\n      <td>3.000000</td>\n      <td>NaN</td>\n      <td>3.0</td>\n      <td>3.00</td>\n      <td>3.0</td>\n      <td>3.00</td>\n      <td>3.0</td>\n    </tr>\n    <tr>\n      <th>80</th>\n      <td>1.0</td>\n      <td>20101.000000</td>\n      <td>NaN</td>\n      <td>20101.0</td>\n      <td>20101.00</td>\n      <td>20101.0</td>\n      <td>20101.00</td>\n      <td>20101.0</td>\n      <td>1.0</td>\n      <td>9.000000</td>\n      <td>...</td>\n      <td>0.0</td>\n      <td>0.0</td>\n      <td>1.0</td>\n      <td>32.000000</td>\n      <td>NaN</td>\n      <td>32.0</td>\n      <td>32.00</td>\n      <td>32.0</td>\n      <td>32.00</td>\n      <td>32.0</td>\n    </tr>\n    <tr>\n      <th>74</th>\n      <td>1.0</td>\n      <td>33114.000000</td>\n      <td>NaN</td>\n      <td>33114.0</td>\n      <td>33114.00</td>\n      <td>33114.0</td>\n      <td>33114.00</td>\n      <td>33114.0</td>\n      <td>1.0</td>\n      <td>6.000000</td>\n      <td>...</td>\n      <td>0.0</td>\n      <td>0.0</td>\n      <td>1.0</td>\n      <td>30.000000</td>\n      <td>NaN</td>\n      <td>30.0</td>\n      <td>30.00</td>\n      <td>30.0</td>\n      <td>30.00</td>\n      <td>30.0</td>\n    </tr>\n    <tr>\n      <th>71</th>\n      <td>1.0</td>\n      <td>322789.000000</td>\n      <td>NaN</td>\n      <td>322789.0</td>\n      <td>322789.00</td>\n      <td>322789.0</td>\n      <td>322789.00</td>\n      <td>322789.0</td>\n      <td>1.0</td>\n      <td>9.000000</td>\n      <td>...</td>\n      <td>0.0</td>\n      <td>0.0</td>\n      <td>1.0</td>\n      <td>35.000000</td>\n      <td>NaN</td>\n      <td>35.0</td>\n      <td>35.00</td>\n      <td>35.0</td>\n      <td>35.00</td>\n      <td>35.0</td>\n    </tr>\n    <tr>\n      <th>68</th>\n      <td>2.0</td>\n      <td>87848.000000</td>\n      <td>48080.432694</td>\n      <td>53850.0</td>\n      <td>70849.00</td>\n      <td>87848.0</td>\n      <td>104847.00</td>\n      <td>121846.0</td>\n      <td>2.0</td>\n      <td>4.000000</td>\n      <td>...</td>\n      <td>0.0</td>\n      <td>0.0</td>\n      <td>2.0</td>\n      <td>30.000000</td>\n      <td>14.142136</td>\n      <td>20.0</td>\n      <td>25.00</td>\n      <td>30.0</td>\n      <td>35.00</td>\n      <td>40.0</td>\n    </tr>\n    <tr>\n      <th>67</th>\n      <td>1.0</td>\n      <td>126849.000000</td>\n      <td>NaN</td>\n      <td>126849.0</td>\n      <td>126849.00</td>\n      <td>126849.0</td>\n      <td>126849.00</td>\n      <td>126849.0</td>\n      <td>1.0</td>\n      <td>6.000000</td>\n      <td>...</td>\n      <td>0.0</td>\n      <td>0.0</td>\n      <td>1.0</td>\n      <td>20.000000</td>\n      <td>NaN</td>\n      <td>20.0</td>\n      <td>20.00</td>\n      <td>20.0</td>\n      <td>20.00</td>\n      <td>20.0</td>\n    </tr>\n    <tr>\n      <th>65</th>\n      <td>1.0</td>\n      <td>178931.000000</td>\n      <td>NaN</td>\n      <td>178931.0</td>\n      <td>178931.00</td>\n      <td>178931.0</td>\n      <td>178931.00</td>\n      <td>178931.0</td>\n      <td>1.0</td>\n      <td>9.000000</td>\n      <td>...</td>\n      <td>0.0</td>\n      <td>0.0</td>\n      <td>1.0</td>\n      <td>40.000000</td>\n      <td>NaN</td>\n      <td>40.0</td>\n      <td>40.00</td>\n      <td>40.0</td>\n      <td>40.00</td>\n      <td>40.0</td>\n    </tr>\n    <tr>\n      <th>63</th>\n      <td>2.0</td>\n      <td>237885.000000</td>\n      <td>293142.429849</td>\n      <td>30602.0</td>\n      <td>134243.50</td>\n      <td>237885.0</td>\n      <td>341526.50</td>\n      <td>445168.0</td>\n      <td>2.0</td>\n      <td>8.500000</td>\n      <td>...</td>\n      <td>0.0</td>\n      <td>0.0</td>\n      <td>2.0</td>\n      <td>48.000000</td>\n      <td>11.313708</td>\n      <td>40.0</td>\n      <td>44.00</td>\n      <td>48.0</td>\n      <td>52.00</td>\n      <td>56.0</td>\n    </tr>\n    <tr>\n      <th>62</th>\n      <td>1.0</td>\n      <td>68461.000000</td>\n      <td>NaN</td>\n      <td>68461.0</td>\n      <td>68461.00</td>\n      <td>68461.0</td>\n      <td>68461.00</td>\n      <td>68461.0</td>\n      <td>1.0</td>\n      <td>16.000000</td>\n      <td>...</td>\n      <td>0.0</td>\n      <td>0.0</td>\n      <td>1.0</td>\n      <td>40.000000</td>\n      <td>NaN</td>\n      <td>40.0</td>\n      <td>40.00</td>\n      <td>40.0</td>\n      <td>40.00</td>\n      <td>40.0</td>\n    </tr>\n    <tr>\n      <th>61</th>\n      <td>1.0</td>\n      <td>130466.000000</td>\n      <td>NaN</td>\n      <td>130466.0</td>\n      <td>130466.00</td>\n      <td>130466.0</td>\n      <td>130466.00</td>\n      <td>130466.0</td>\n      <td>1.0</td>\n      <td>9.000000</td>\n      <td>...</td>\n      <td>0.0</td>\n      <td>0.0</td>\n      <td>1.0</td>\n      <td>40.000000</td>\n      <td>NaN</td>\n      <td>40.0</td>\n      <td>40.00</td>\n      <td>40.0</td>\n      <td>40.00</td>\n      <td>40.0</td>\n    </tr>\n    <tr>\n      <th>60</th>\n      <td>6.0</td>\n      <td>44603.833333</td>\n      <td>50954.030951</td>\n      <td>21101.0</td>\n      <td>22460.75</td>\n      <td>24543.5</td>\n      <td>26495.75</td>\n      <td>148522.0</td>\n      <td>6.0</td>\n      <td>9.000000</td>\n      <td>...</td>\n      <td>0.0</td>\n      <td>0.0</td>\n      <td>6.0</td>\n      <td>35.000000</td>\n      <td>13.784049</td>\n      <td>10.0</td>\n      <td>32.50</td>\n      <td>40.0</td>\n      <td>40.00</td>\n      <td>50.0</td>\n    </tr>\n    <tr>\n      <th>59</th>\n      <td>2.0</td>\n      <td>161504.000000</td>\n      <td>62854.721780</td>\n      <td>117059.0</td>\n      <td>139281.50</td>\n      <td>161504.0</td>\n      <td>183726.50</td>\n      <td>205949.0</td>\n      <td>2.0</td>\n      <td>8.000000</td>\n      <td>...</td>\n      <td>0.0</td>\n      <td>0.0</td>\n      <td>2.0</td>\n      <td>40.000000</td>\n      <td>0.000000</td>\n      <td>40.0</td>\n      <td>40.00</td>\n      <td>40.0</td>\n      <td>40.00</td>\n      <td>40.0</td>\n    </tr>\n    <tr>\n      <th>58</th>\n      <td>3.0</td>\n      <td>56484.666667</td>\n      <td>36365.178761</td>\n      <td>30111.0</td>\n      <td>35742.50</td>\n      <td>41374.0</td>\n      <td>69671.50</td>\n      <td>97969.0</td>\n      <td>3.0</td>\n      <td>7.000000</td>\n      <td>...</td>\n      <td>0.0</td>\n      <td>0.0</td>\n      <td>3.0</td>\n      <td>40.000000</td>\n      <td>0.000000</td>\n      <td>40.0</td>\n      <td>40.00</td>\n      <td>40.0</td>\n      <td>40.00</td>\n      <td>40.0</td>\n    </tr>\n    <tr>\n      <th>57</th>\n      <td>3.0</td>\n      <td>172688.000000</td>\n      <td>142288.315111</td>\n      <td>29375.0</td>\n      <td>102067.50</td>\n      <td>174760.0</td>\n      <td>244344.50</td>\n      <td>313929.0</td>\n      <td>3.0</td>\n      <td>10.333333</td>\n      <td>...</td>\n      <td>0.0</td>\n      <td>0.0</td>\n      <td>3.0</td>\n      <td>38.333333</td>\n      <td>2.886751</td>\n      <td>35.0</td>\n      <td>37.50</td>\n      <td>40.0</td>\n      <td>40.00</td>\n      <td>40.0</td>\n    </tr>\n    <tr>\n      <th>56</th>\n      <td>3.0</td>\n      <td>107913.000000</td>\n      <td>51293.126801</td>\n      <td>60166.0</td>\n      <td>80801.00</td>\n      <td>101436.0</td>\n      <td>131786.50</td>\n      <td>162137.0</td>\n      <td>3.0</td>\n      <td>6.666667</td>\n      <td>...</td>\n      <td>0.0</td>\n      <td>0.0</td>\n      <td>3.0</td>\n      <td>46.666667</td>\n      <td>16.072751</td>\n      <td>35.0</td>\n      <td>37.50</td>\n      <td>40.0</td>\n      <td>52.50</td>\n      <td>65.0</td>\n    </tr>\n    <tr>\n      <th>55</th>\n      <td>3.0</td>\n      <td>92913.666667</td>\n      <td>113284.739971</td>\n      <td>26290.0</td>\n      <td>27512.50</td>\n      <td>28735.0</td>\n      <td>126225.50</td>\n      <td>223716.0</td>\n      <td>3.0</td>\n      <td>10.000000</td>\n      <td>...</td>\n      <td>0.0</td>\n      <td>0.0</td>\n      <td>3.0</td>\n      <td>41.000000</td>\n      <td>3.605551</td>\n      <td>38.0</td>\n      <td>39.00</td>\n      <td>40.0</td>\n      <td>42.50</td>\n      <td>45.0</td>\n    </tr>\n    <tr>\n      <th>53</th>\n      <td>5.0</td>\n      <td>87174.000000</td>\n      <td>64892.475388</td>\n      <td>20438.0</td>\n      <td>20676.00</td>\n      <td>105728.0</td>\n      <td>121618.00</td>\n      <td>167410.0</td>\n      <td>5.0</td>\n      <td>9.000000</td>\n      <td>...</td>\n      <td>0.0</td>\n      <td>0.0</td>\n      <td>5.0</td>\n      <td>34.200000</td>\n      <td>12.891858</td>\n      <td>15.0</td>\n      <td>28.00</td>\n      <td>40.0</td>\n      <td>40.00</td>\n      <td>48.0</td>\n    </tr>\n    <tr>\n      <th>52</th>\n      <td>2.0</td>\n      <td>262507.500000</td>\n      <td>28519.737806</td>\n      <td>242341.0</td>\n      <td>252424.25</td>\n      <td>262507.5</td>\n      <td>272590.75</td>\n      <td>282674.0</td>\n      <td>2.0</td>\n      <td>6.500000</td>\n      <td>...</td>\n      <td>0.0</td>\n      <td>0.0</td>\n      <td>2.0</td>\n      <td>40.000000</td>\n      <td>0.000000</td>\n      <td>40.0</td>\n      <td>40.00</td>\n      <td>40.0</td>\n      <td>40.00</td>\n      <td>40.0</td>\n    </tr>\n    <tr>\n      <th>51</th>\n      <td>10.0</td>\n      <td>126893.200000</td>\n      <td>91869.051011</td>\n      <td>35211.0</td>\n      <td>44834.75</td>\n      <td>90176.5</td>\n      <td>214031.00</td>\n      <td>251487.0</td>\n      <td>10.0</td>\n      <td>9.500000</td>\n      <td>...</td>\n      <td>0.0</td>\n      <td>0.0</td>\n      <td>10.0</td>\n      <td>44.000000</td>\n      <td>6.649979</td>\n      <td>40.0</td>\n      <td>40.00</td>\n      <td>40.0</td>\n      <td>46.00</td>\n      <td>60.0</td>\n    </tr>\n    <tr>\n      <th>50</th>\n      <td>4.0</td>\n      <td>120766.250000</td>\n      <td>82460.258045</td>\n      <td>32801.0</td>\n      <td>67187.00</td>\n      <td>114812.0</td>\n      <td>168391.25</td>\n      <td>220640.0</td>\n      <td>4.0</td>\n      <td>11.500000</td>\n      <td>...</td>\n      <td>0.0</td>\n      <td>0.0</td>\n      <td>4.0</td>\n      <td>42.500000</td>\n      <td>5.000000</td>\n      <td>40.0</td>\n      <td>40.00</td>\n      <td>40.0</td>\n      <td>42.50</td>\n      <td>50.0</td>\n    </tr>\n    <tr>\n      <th>49</th>\n      <td>2.0</td>\n      <td>176587.500000</td>\n      <td>19419.273532</td>\n      <td>162856.0</td>\n      <td>169721.75</td>\n      <td>176587.5</td>\n      <td>183453.25</td>\n      <td>190319.0</td>\n      <td>2.0</td>\n      <td>11.500000</td>\n      <td>...</td>\n      <td>0.0</td>\n      <td>0.0</td>\n      <td>2.0</td>\n      <td>40.000000</td>\n      <td>0.000000</td>\n      <td>40.0</td>\n      <td>40.00</td>\n      <td>40.0</td>\n      <td>40.00</td>\n      <td>40.0</td>\n    </tr>\n    <tr>\n      <th>48</th>\n      <td>2.0</td>\n      <td>152808.000000</td>\n      <td>128443.118375</td>\n      <td>61985.0</td>\n      <td>107396.50</td>\n      <td>152808.0</td>\n      <td>198219.50</td>\n      <td>243631.0</td>\n      <td>2.0</td>\n      <td>7.500000</td>\n      <td>...</td>\n      <td>0.0</td>\n      <td>0.0</td>\n      <td>2.0</td>\n      <td>30.000000</td>\n      <td>14.142136</td>\n      <td>20.0</td>\n      <td>25.00</td>\n      <td>30.0</td>\n      <td>35.00</td>\n      <td>40.0</td>\n    </tr>\n    <tr>\n      <th>47</th>\n      <td>8.0</td>\n      <td>128878.500000</td>\n      <td>67380.633053</td>\n      <td>24723.0</td>\n      <td>89641.00</td>\n      <td>120711.0</td>\n      <td>164427.00</td>\n      <td>244025.0</td>\n      <td>8.0</td>\n      <td>8.625000</td>\n      <td>...</td>\n      <td>0.0</td>\n      <td>0.0</td>\n      <td>8.0</td>\n      <td>42.125000</td>\n      <td>6.664136</td>\n      <td>35.0</td>\n      <td>39.00</td>\n      <td>40.0</td>\n      <td>45.00</td>\n      <td>56.0</td>\n    </tr>\n    <tr>\n      <th>46</th>\n      <td>13.0</td>\n      <td>170797.846154</td>\n      <td>88035.609467</td>\n      <td>26781.0</td>\n      <td>133969.00</td>\n      <td>147640.0</td>\n      <td>197988.00</td>\n      <td>363875.0</td>\n      <td>13.0</td>\n      <td>8.461538</td>\n      <td>...</td>\n      <td>0.0</td>\n      <td>1902.0</td>\n      <td>13.0</td>\n      <td>41.769231</td>\n      <td>9.867065</td>\n      <td>20.0</td>\n      <td>40.00</td>\n      <td>40.0</td>\n      <td>40.00</td>\n      <td>60.0</td>\n    </tr>\n    <tr>\n      <th>45</th>\n      <td>5.0</td>\n      <td>87854.200000</td>\n      <td>93655.957457</td>\n      <td>26781.0</td>\n      <td>26781.00</td>\n      <td>26781.0</td>\n      <td>119835.00</td>\n      <td>239093.0</td>\n      <td>5.0</td>\n      <td>8.400000</td>\n      <td>...</td>\n      <td>0.0</td>\n      <td>0.0</td>\n      <td>5.0</td>\n      <td>35.200000</td>\n      <td>15.594871</td>\n      <td>8.0</td>\n      <td>40.00</td>\n      <td>40.0</td>\n      <td>40.00</td>\n      <td>48.0</td>\n    </tr>\n    <tr>\n      <th>44</th>\n      <td>4.0</td>\n      <td>106413.500000</td>\n      <td>65717.346388</td>\n      <td>33105.0</td>\n      <td>82518.00</td>\n      <td>99786.5</td>\n      <td>123682.00</td>\n      <td>192976.0</td>\n      <td>4.0</td>\n      <td>10.000000</td>\n      <td>...</td>\n      <td>0.0</td>\n      <td>0.0</td>\n      <td>4.0</td>\n      <td>39.500000</td>\n      <td>1.000000</td>\n      <td>38.0</td>\n      <td>39.50</td>\n      <td>40.0</td>\n      <td>40.00</td>\n      <td>40.0</td>\n    </tr>\n    <tr>\n      <th>43</th>\n      <td>8.0</td>\n      <td>150311.000000</td>\n      <td>77209.211109</td>\n      <td>19914.0</td>\n      <td>93100.50</td>\n      <td>178305.5</td>\n      <td>201248.50</td>\n      <td>239161.0</td>\n      <td>8.0</td>\n      <td>10.375000</td>\n      <td>...</td>\n      <td>0.0</td>\n      <td>0.0</td>\n      <td>8.0</td>\n      <td>36.875000</td>\n      <td>10.329396</td>\n      <td>15.0</td>\n      <td>37.50</td>\n      <td>40.0</td>\n      <td>40.00</td>\n      <td>50.0</td>\n    </tr>\n    <tr>\n      <th>42</th>\n      <td>13.0</td>\n      <td>113468.384615</td>\n      <td>85920.970203</td>\n      <td>23813.0</td>\n      <td>31387.00</td>\n      <td>108506.0</td>\n      <td>140474.00</td>\n      <td>304302.0</td>\n      <td>13.0</td>\n      <td>11.307692</td>\n      <td>...</td>\n      <td>0.0</td>\n      <td>0.0</td>\n      <td>13.0</td>\n      <td>41.923077</td>\n      <td>8.548504</td>\n      <td>30.0</td>\n      <td>40.00</td>\n      <td>40.0</td>\n      <td>40.00</td>\n      <td>60.0</td>\n    </tr>\n    <tr>\n      <th>41</th>\n      <td>5.0</td>\n      <td>138658.000000</td>\n      <td>80349.040819</td>\n      <td>47170.0</td>\n      <td>113555.00</td>\n      <td>118721.0</td>\n      <td>147314.00</td>\n      <td>266530.0</td>\n      <td>5.0</td>\n      <td>9.800000</td>\n      <td>...</td>\n      <td>0.0</td>\n      <td>0.0</td>\n      <td>5.0</td>\n      <td>46.600000</td>\n      <td>4.219005</td>\n      <td>40.0</td>\n      <td>45.00</td>\n      <td>48.0</td>\n      <td>50.00</td>\n      <td>50.0</td>\n    </tr>\n    <tr>\n      <th>40</th>\n      <td>11.0</td>\n      <td>119502.181818</td>\n      <td>93649.945804</td>\n      <td>20109.0</td>\n      <td>73040.50</td>\n      <td>96509.0</td>\n      <td>113341.00</td>\n      <td>310101.0</td>\n      <td>11.0</td>\n      <td>9.818182</td>\n      <td>...</td>\n      <td>0.0</td>\n      <td>1977.0</td>\n      <td>11.0</td>\n      <td>46.545455</td>\n      <td>14.137635</td>\n      <td>35.0</td>\n      <td>40.00</td>\n      <td>40.0</td>\n      <td>46.50</td>\n      <td>84.0</td>\n    </tr>\n    <tr>\n      <th>39</th>\n      <td>7.0</td>\n      <td>83539.000000</td>\n      <td>33041.571931</td>\n      <td>19914.0</td>\n      <td>72679.00</td>\n      <td>89419.0</td>\n      <td>106708.00</td>\n      <td>116666.0</td>\n      <td>7.0</td>\n      <td>9.571429</td>\n      <td>...</td>\n      <td>0.0</td>\n      <td>0.0</td>\n      <td>7.0</td>\n      <td>41.142857</td>\n      <td>3.023716</td>\n      <td>40.0</td>\n      <td>40.00</td>\n      <td>40.0</td>\n      <td>40.00</td>\n      <td>48.0</td>\n    </tr>\n    <tr>\n      <th>38</th>\n      <td>6.0</td>\n      <td>87902.666667</td>\n      <td>65457.626672</td>\n      <td>31352.0</td>\n      <td>35226.50</td>\n      <td>63080.5</td>\n      <td>141942.00</td>\n      <td>175732.0</td>\n      <td>6.0</td>\n      <td>10.666667</td>\n      <td>...</td>\n      <td>0.0</td>\n      <td>0.0</td>\n      <td>6.0</td>\n      <td>40.833333</td>\n      <td>18.551729</td>\n      <td>15.0</td>\n      <td>32.50</td>\n      <td>40.0</td>\n      <td>47.50</td>\n      <td>70.0</td>\n    </tr>\n    <tr>\n      <th>37</th>\n      <td>7.0</td>\n      <td>115490.714286</td>\n      <td>69269.328756</td>\n      <td>25864.0</td>\n      <td>68014.00</td>\n      <td>116358.0</td>\n      <td>156248.00</td>\n      <td>217689.0</td>\n      <td>7.0</td>\n      <td>9.714286</td>\n      <td>...</td>\n      <td>0.0</td>\n      <td>0.0</td>\n      <td>7.0</td>\n      <td>35.714286</td>\n      <td>9.123491</td>\n      <td>20.0</td>\n      <td>31.00</td>\n      <td>40.0</td>\n      <td>40.00</td>\n      <td>48.0</td>\n    </tr>\n    <tr>\n      <th>36</th>\n      <td>5.0</td>\n      <td>107067.400000</td>\n      <td>65314.823301</td>\n      <td>32587.0</td>\n      <td>68089.00</td>\n      <td>88967.0</td>\n      <td>150309.00</td>\n      <td>195385.0</td>\n      <td>5.0</td>\n      <td>9.200000</td>\n      <td>...</td>\n      <td>0.0</td>\n      <td>0.0</td>\n      <td>5.0</td>\n      <td>45.000000</td>\n      <td>11.180340</td>\n      <td>40.0</td>\n      <td>40.00</td>\n      <td>40.0</td>\n      <td>40.00</td>\n      <td>65.0</td>\n    </tr>\n    <tr>\n      <th>35</th>\n      <td>16.0</td>\n      <td>98522.625000</td>\n      <td>51866.462059</td>\n      <td>22055.0</td>\n      <td>71101.75</td>\n      <td>105223.5</td>\n      <td>128745.50</td>\n      <td>197719.0</td>\n      <td>16.0</td>\n      <td>9.812500</td>\n      <td>...</td>\n      <td>0.0</td>\n      <td>0.0</td>\n      <td>16.0</td>\n      <td>41.500000</td>\n      <td>12.738393</td>\n      <td>15.0</td>\n      <td>39.50</td>\n      <td>40.0</td>\n      <td>43.75</td>\n      <td>60.0</td>\n    </tr>\n    <tr>\n      <th>34</th>\n      <td>8.0</td>\n      <td>115391.625000</td>\n      <td>88294.804799</td>\n      <td>22641.0</td>\n      <td>33020.00</td>\n      <td>108362.5</td>\n      <td>170104.00</td>\n      <td>245487.0</td>\n      <td>8.0</td>\n      <td>9.375000</td>\n      <td>...</td>\n      <td>0.0</td>\n      <td>1564.0</td>\n      <td>8.0</td>\n      <td>44.625000</td>\n      <td>8.667468</td>\n      <td>32.0</td>\n      <td>40.00</td>\n      <td>42.5</td>\n      <td>49.00</td>\n      <td>60.0</td>\n    </tr>\n    <tr>\n      <th>33</th>\n      <td>7.0</td>\n      <td>122588.857143</td>\n      <td>113206.419007</td>\n      <td>27959.0</td>\n      <td>50806.50</td>\n      <td>98145.0</td>\n      <td>137195.00</td>\n      <td>356015.0</td>\n      <td>7.0</td>\n      <td>10.142857</td>\n      <td>...</td>\n      <td>0.0</td>\n      <td>0.0</td>\n      <td>7.0</td>\n      <td>41.285714</td>\n      <td>9.945087</td>\n      <td>30.0</td>\n      <td>35.50</td>\n      <td>40.0</td>\n      <td>44.00</td>\n      <td>60.0</td>\n    </tr>\n    <tr>\n      <th>32</th>\n      <td>7.0</td>\n      <td>136745.714286</td>\n      <td>85103.432402</td>\n      <td>27939.0</td>\n      <td>64975.50</td>\n      <td>163530.0</td>\n      <td>195156.50</td>\n      <td>245487.0</td>\n      <td>7.0</td>\n      <td>7.857143</td>\n      <td>...</td>\n      <td>0.0</td>\n      <td>1980.0</td>\n      <td>7.0</td>\n      <td>45.714286</td>\n      <td>9.759001</td>\n      <td>40.0</td>\n      <td>40.00</td>\n      <td>40.0</td>\n      <td>50.00</td>\n      <td>60.0</td>\n    </tr>\n    <tr>\n      <th>31</th>\n      <td>16.0</td>\n      <td>118253.062500</td>\n      <td>96582.076694</td>\n      <td>22201.0</td>\n      <td>57409.50</td>\n      <td>97237.0</td>\n      <td>122401.75</td>\n      <td>395170.0</td>\n      <td>16.0</td>\n      <td>9.687500</td>\n      <td>...</td>\n      <td>0.0</td>\n      <td>0.0</td>\n      <td>16.0</td>\n      <td>37.562500</td>\n      <td>5.773142</td>\n      <td>24.0</td>\n      <td>38.75</td>\n      <td>40.0</td>\n      <td>40.00</td>\n      <td>45.0</td>\n    </tr>\n    <tr>\n      <th>30</th>\n      <td>10.0</td>\n      <td>181404.000000</td>\n      <td>128468.828473</td>\n      <td>23037.0</td>\n      <td>69468.50</td>\n      <td>158156.5</td>\n      <td>297535.25</td>\n      <td>356015.0</td>\n      <td>10.0</td>\n      <td>9.000000</td>\n      <td>...</td>\n      <td>0.0</td>\n      <td>0.0</td>\n      <td>10.0</td>\n      <td>43.500000</td>\n      <td>18.638371</td>\n      <td>8.0</td>\n      <td>40.00</td>\n      <td>40.0</td>\n      <td>46.00</td>\n      <td>84.0</td>\n    </tr>\n    <tr>\n      <th>29</th>\n      <td>11.0</td>\n      <td>95232.636364</td>\n      <td>67714.025110</td>\n      <td>22641.0</td>\n      <td>28158.00</td>\n      <td>100405.0</td>\n      <td>151753.50</td>\n      <td>190636.0</td>\n      <td>11.0</td>\n      <td>9.000000</td>\n      <td>...</td>\n      <td>0.0</td>\n      <td>1485.0</td>\n      <td>11.0</td>\n      <td>46.181818</td>\n      <td>8.908627</td>\n      <td>40.0</td>\n      <td>40.00</td>\n      <td>40.0</td>\n      <td>49.00</td>\n      <td>65.0</td>\n    </tr>\n    <tr>\n      <th>28</th>\n      <td>14.0</td>\n      <td>87593.000000</td>\n      <td>93787.897013</td>\n      <td>24153.0</td>\n      <td>25955.00</td>\n      <td>39275.5</td>\n      <td>112592.00</td>\n      <td>314649.0</td>\n      <td>14.0</td>\n      <td>9.000000</td>\n      <td>...</td>\n      <td>0.0</td>\n      <td>0.0</td>\n      <td>14.0</td>\n      <td>43.214286</td>\n      <td>8.902710</td>\n      <td>30.0</td>\n      <td>40.00</td>\n      <td>40.0</td>\n      <td>43.75</td>\n      <td>60.0</td>\n    </tr>\n    <tr>\n      <th>27</th>\n      <td>11.0</td>\n      <td>115923.454545</td>\n      <td>68421.330878</td>\n      <td>23740.0</td>\n      <td>61741.00</td>\n      <td>129661.0</td>\n      <td>156266.00</td>\n      <td>221252.0</td>\n      <td>11.0</td>\n      <td>9.272727</td>\n      <td>...</td>\n      <td>0.0</td>\n      <td>0.0</td>\n      <td>11.0</td>\n      <td>36.090909</td>\n      <td>18.822617</td>\n      <td>8.0</td>\n      <td>29.00</td>\n      <td>40.0</td>\n      <td>41.50</td>\n      <td>75.0</td>\n    </tr>\n    <tr>\n      <th>26</th>\n      <td>3.0</td>\n      <td>106531.666667</td>\n      <td>40411.040327</td>\n      <td>73392.0</td>\n      <td>84022.00</td>\n      <td>94652.0</td>\n      <td>123101.50</td>\n      <td>151551.0</td>\n      <td>3.0</td>\n      <td>9.666667</td>\n      <td>...</td>\n      <td>0.0</td>\n      <td>0.0</td>\n      <td>3.0</td>\n      <td>39.333333</td>\n      <td>9.018500</td>\n      <td>30.0</td>\n      <td>35.00</td>\n      <td>40.0</td>\n      <td>44.00</td>\n      <td>48.0</td>\n    </tr>\n    <tr>\n      <th>25</th>\n      <td>9.0</td>\n      <td>144497.222222</td>\n      <td>116454.389611</td>\n      <td>12285.0</td>\n      <td>44216.00</td>\n      <td>130397.0</td>\n      <td>258276.00</td>\n      <td>312338.0</td>\n      <td>9.0</td>\n      <td>9.444444</td>\n      <td>...</td>\n      <td>0.0</td>\n      <td>0.0</td>\n      <td>9.0</td>\n      <td>35.000000</td>\n      <td>8.660254</td>\n      <td>20.0</td>\n      <td>35.00</td>\n      <td>40.0</td>\n      <td>40.00</td>\n      <td>40.0</td>\n    </tr>\n    <tr>\n      <th>24</th>\n      <td>6.0</td>\n      <td>153098.000000</td>\n      <td>137543.252751</td>\n      <td>19410.0</td>\n      <td>32603.25</td>\n      <td>138534.0</td>\n      <td>251180.25</td>\n      <td>336088.0</td>\n      <td>6.0</td>\n      <td>9.333333</td>\n      <td>...</td>\n      <td>0.0</td>\n      <td>0.0</td>\n      <td>6.0</td>\n      <td>42.166667</td>\n      <td>5.671567</td>\n      <td>35.0</td>\n      <td>40.00</td>\n      <td>40.0</td>\n      <td>46.00</td>\n      <td>50.0</td>\n    </tr>\n    <tr>\n      <th>23</th>\n      <td>13.0</td>\n      <td>109204.000000</td>\n      <td>88232.594202</td>\n      <td>13769.0</td>\n      <td>33105.00</td>\n      <td>99399.0</td>\n      <td>178207.00</td>\n      <td>306601.0</td>\n      <td>13.0</td>\n      <td>9.384615</td>\n      <td>...</td>\n      <td>0.0</td>\n      <td>0.0</td>\n      <td>13.0</td>\n      <td>35.769231</td>\n      <td>5.340940</td>\n      <td>25.0</td>\n      <td>30.00</td>\n      <td>40.0</td>\n      <td>40.00</td>\n      <td>40.0</td>\n    </tr>\n    <tr>\n      <th>22</th>\n      <td>9.0</td>\n      <td>147079.222222</td>\n      <td>80070.263533</td>\n      <td>29444.0</td>\n      <td>108506.00</td>\n      <td>145477.0</td>\n      <td>216984.00</td>\n      <td>233955.0</td>\n      <td>9.0</td>\n      <td>9.666667</td>\n      <td>...</td>\n      <td>0.0</td>\n      <td>0.0</td>\n      <td>9.0</td>\n      <td>48.666667</td>\n      <td>18.794946</td>\n      <td>25.0</td>\n      <td>40.00</td>\n      <td>40.0</td>\n      <td>50.00</td>\n      <td>84.0</td>\n    </tr>\n    <tr>\n      <th>21</th>\n      <td>6.0</td>\n      <td>181713.000000</td>\n      <td>91018.186890</td>\n      <td>75763.0</td>\n      <td>103932.75</td>\n      <td>190530.5</td>\n      <td>238196.50</td>\n      <td>304302.0</td>\n      <td>6.0</td>\n      <td>9.166667</td>\n      <td>...</td>\n      <td>0.0</td>\n      <td>0.0</td>\n      <td>6.0</td>\n      <td>34.666667</td>\n      <td>15.266521</td>\n      <td>4.0</td>\n      <td>38.50</td>\n      <td>40.0</td>\n      <td>40.00</td>\n      <td>46.0</td>\n    </tr>\n    <tr>\n      <th>20</th>\n      <td>3.0</td>\n      <td>66616.666667</td>\n      <td>61632.489730</td>\n      <td>27337.0</td>\n      <td>31099.50</td>\n      <td>34862.0</td>\n      <td>86256.50</td>\n      <td>137651.0</td>\n      <td>3.0</td>\n      <td>9.666667</td>\n      <td>...</td>\n      <td>0.0</td>\n      <td>0.0</td>\n      <td>3.0</td>\n      <td>53.333333</td>\n      <td>16.653328</td>\n      <td>40.0</td>\n      <td>44.00</td>\n      <td>48.0</td>\n      <td>60.00</td>\n      <td>72.0</td>\n    </tr>\n    <tr>\n      <th>19</th>\n      <td>6.0</td>\n      <td>82268.333333</td>\n      <td>87982.956676</td>\n      <td>29083.0</td>\n      <td>30048.50</td>\n      <td>32143.5</td>\n      <td>103247.50</td>\n      <td>243941.0</td>\n      <td>6.0</td>\n      <td>8.333333</td>\n      <td>...</td>\n      <td>0.0</td>\n      <td>1721.0</td>\n      <td>6.0</td>\n      <td>27.500000</td>\n      <td>10.368221</td>\n      <td>15.0</td>\n      <td>21.25</td>\n      <td>25.0</td>\n      <td>36.25</td>\n      <td>40.0</td>\n    </tr>\n    <tr>\n      <th>18</th>\n      <td>4.0</td>\n      <td>147675.500000</td>\n      <td>124316.647074</td>\n      <td>40829.0</td>\n      <td>50039.00</td>\n      <td>124003.0</td>\n      <td>221639.50</td>\n      <td>301867.0</td>\n      <td>4.0</td>\n      <td>8.000000</td>\n      <td>...</td>\n      <td>0.0</td>\n      <td>0.0</td>\n      <td>4.0</td>\n      <td>26.250000</td>\n      <td>9.464847</td>\n      <td>20.0</td>\n      <td>20.00</td>\n      <td>22.5</td>\n      <td>28.75</td>\n      <td>40.0</td>\n    </tr>\n    <tr>\n      <th>17</th>\n      <td>3.0</td>\n      <td>85667.333333</td>\n      <td>52726.233000</td>\n      <td>27415.0</td>\n      <td>63438.50</td>\n      <td>99462.0</td>\n      <td>114793.50</td>\n      <td>130125.0</td>\n      <td>3.0</td>\n      <td>6.666667</td>\n      <td>...</td>\n      <td>0.0</td>\n      <td>0.0</td>\n      <td>3.0</td>\n      <td>20.000000</td>\n      <td>0.000000</td>\n      <td>20.0</td>\n      <td>20.00</td>\n      <td>20.0</td>\n      <td>20.00</td>\n      <td>20.0</td>\n    </tr>\n  </tbody>\n</table>\n<p>53 rows × 40 columns</p>\n</div>"
     },
     "execution_count": 16,
     "metadata": {},
     "output_type": "execute_result"
    }
   ]
  },
  {
   "cell_type": "markdown",
   "metadata": {
    "id": "cn-jYXhzutTl"
   },
   "source": [
    "**8. Среди кого больше доля зарабатывающих много (>50K): среди женатых или холостых мужчин (признак *marital-status*)? Женатыми считаем тех, у кого *marital-status* начинается с *Married* (Married-civ-spouse, Married-spouse-absent или Married-AF-spouse), остальных считаем холостыми.**"
   ]
  },
  {
   "cell_type": "code",
   "metadata": {
    "collapsed": true,
    "id": "4hIQXgGAutTm"
   },
   "source": [
    "# эта строчка уже была в документе\n",
    "# наверно, к этому нужно было бы прийти самостоятельно\n",
    "# data[\"married\"] = data[\"marital-status\"].apply(lambda row: \"Married\" in row)\n",
    "\n",
    "all_men = (data[data.sex == 'Male'].married == True).shape[0]\n",
    "married_men = data.query('sex == \"Male\" and married == True and salary == \">50K\"').shape[0]\n",
    "single_men = data.query('sex == \"Male\" and married == False and salary == \">50K\"').shape[0]\n",
    "married_percent = married_men / all_men\n",
    "single_percent = single_men / all_men\n",
    "\n",
    "print(f\"Доля среди женатых: {married_percent}\")\n",
    "print(f\"Доля среди холостых: {single_percent}\")"
   ],
   "execution_count": 14,
   "outputs": [
    {
     "name": "stdout",
     "output_type": "stream",
     "text": [
      "Доля среди женатых: 0.2737494263423589\n",
      "Доля среди холостых: 0.03198715006883892\n"
     ]
    }
   ]
  },
  {
   "cell_type": "markdown",
   "metadata": {
    "id": "Rsh8YvoXutTm"
   },
   "source": [
    "**9. Какое максимальное число часов человек работает в неделю (признак *hours-per-week*)? Сколько людей работают такое количество часов и каков среди них процент зарабатывающих много?**"
   ]
  },
  {
   "cell_type": "code",
   "metadata": {
    "collapsed": true,
    "id": "RK1JQSIZutTn"
   },
   "source": [
    "max_hours = data['hours-per-week'].max()\n",
    "salary = \">50K\"\n",
    "print(f\"Максимальное число часов: {max_hours}\")\n",
    "print(f\"Столько людей работает: {data[data['hours-per-week'] == max_hours].shape[0]}\")\n",
    "print(f\"Столько из них зарабатывает >50K: {(data[data['hours-per-week'] == max_hours].query('salary == @salary')).shape[0]}\")"
   ],
   "execution_count": 23,
   "outputs": [
    {
     "name": "stdout",
     "output_type": "stream",
     "text": [
      "Максимальное число часов: 99\n",
      "Столько людей работает: 85\n",
      "Столько из них зарабатывает >50K: 25\n"
     ]
    }
   ]
  },
  {
   "cell_type": "markdown",
   "metadata": {
    "id": "kUXV84AjutTn"
   },
   "source": [
    "**10. Посчитайте среднее время работы (*hours-per-week*) зарабатывающих мало и много (*salary*) для каждой страны (*native-country*).**"
   ]
  },
  {
   "cell_type": "code",
   "metadata": {
    "collapsed": true,
    "id": "3gzYG3CDutTn"
   },
   "source": [
    "print(f\"Для зарабатывающих много: {data[data.salary == '>50K'].groupby('native-country')['hours-per-week'].mean()}\")\n",
    "print(f\"Для зарабатывающих мало: {data[data.salary == '<=50K'].groupby('native-country')['hours-per-week'].mean()}\")"
   ],
   "execution_count": 27,
   "outputs": [
    {
     "name": "stdout",
     "output_type": "stream",
     "text": [
      "Для зарабатывающих много: native-country\n",
      "?                     45.547945\n",
      "Cambodia              40.000000\n",
      "Canada                45.641026\n",
      "China                 38.900000\n",
      "Columbia              50.000000\n",
      "Cuba                  42.440000\n",
      "Dominican-Republic    47.000000\n",
      "Ecuador               48.750000\n",
      "El-Salvador           45.000000\n",
      "England               44.533333\n",
      "France                50.750000\n",
      "Germany               44.977273\n",
      "Greece                50.625000\n",
      "Guatemala             36.666667\n",
      "Haiti                 42.750000\n",
      "Honduras              60.000000\n",
      "Hong                  45.000000\n",
      "Hungary               50.000000\n",
      "India                 46.475000\n",
      "Iran                  47.500000\n",
      "Ireland               48.000000\n",
      "Italy                 45.400000\n",
      "Jamaica               41.100000\n",
      "Japan                 47.958333\n",
      "Laos                  40.000000\n",
      "Mexico                46.575758\n",
      "Nicaragua             37.500000\n",
      "Peru                  40.000000\n",
      "Philippines           43.032787\n",
      "Poland                39.000000\n",
      "Portugal              41.500000\n",
      "Puerto-Rico           39.416667\n",
      "Scotland              46.666667\n",
      "South                 51.437500\n",
      "Taiwan                46.800000\n",
      "Thailand              58.333333\n",
      "Trinadad&Tobago       40.000000\n",
      "United-States         45.505369\n",
      "Vietnam               39.200000\n",
      "Yugoslavia            49.500000\n",
      "Name: hours-per-week, dtype: float64\n",
      "Для зарабатывающих мало: native-country\n",
      "?                             40.164760\n",
      "Cambodia                      41.416667\n",
      "Canada                        37.914634\n",
      "China                         37.381818\n",
      "Columbia                      38.684211\n",
      "Cuba                          37.985714\n",
      "Dominican-Republic            42.338235\n",
      "Ecuador                       38.041667\n",
      "El-Salvador                   36.030928\n",
      "England                       40.483333\n",
      "France                        41.058824\n",
      "Germany                       39.139785\n",
      "Greece                        41.809524\n",
      "Guatemala                     39.360656\n",
      "Haiti                         36.325000\n",
      "Holand-Netherlands            40.000000\n",
      "Honduras                      34.333333\n",
      "Hong                          39.142857\n",
      "Hungary                       31.300000\n",
      "India                         38.233333\n",
      "Iran                          41.440000\n",
      "Ireland                       40.947368\n",
      "Italy                         39.625000\n",
      "Jamaica                       38.239437\n",
      "Japan                         41.000000\n",
      "Laos                          40.375000\n",
      "Mexico                        40.003279\n",
      "Nicaragua                     36.093750\n",
      "Outlying-US(Guam-USVI-etc)    41.857143\n",
      "Peru                          35.068966\n",
      "Philippines                   38.065693\n",
      "Poland                        38.166667\n",
      "Portugal                      41.939394\n",
      "Puerto-Rico                   38.470588\n",
      "Scotland                      39.444444\n",
      "South                         40.156250\n",
      "Taiwan                        33.774194\n",
      "Thailand                      42.866667\n",
      "Trinadad&Tobago               37.058824\n",
      "United-States                 38.799127\n",
      "Vietnam                       37.193548\n",
      "Yugoslavia                    41.600000\n",
      "Name: hours-per-week, dtype: float64\n"
     ]
    }
   ]
  }
 ]
}