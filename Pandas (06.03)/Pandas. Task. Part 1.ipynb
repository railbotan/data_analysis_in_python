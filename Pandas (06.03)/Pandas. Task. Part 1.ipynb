{
 "cells": [
  {
   "cell_type": "markdown",
   "metadata": {
    "id": "TsdslV3sMtTM"
   },
   "source": [
    "**В задании предлагается с помощью Pandas ответить на несколько вопросов по данным репозитория UCI [Adult](https://archive.ics.uci.edu/ml/datasets/Adult)**"
   ]
  },
  {
   "cell_type": "markdown",
   "metadata": {
    "id": "32vskUT-CtTO"
   },
   "source": [
    "Уникальные значения признаков (больше информации по ссылке выше):\n",
    "- age: continuous.\n",
    "- workclass: Private, Self-emp-not-inc, Self-emp-inc, Federal-gov, Local-gov, State-gov, Without-pay, Never-worked.\n",
    "- fnlwgt: continuous.\n",
    "- education: Bachelors, Some-college, 11th, HS-grad, Prof-school, Assoc-acdm, Assoc-voc, 9th, 7th-8th, 12th, Masters, 1st-4th, 10th, Doctorate, 5th-6th, Preschool.\n",
    "- education-num: continuous.\n",
    "- marital-status: Married-civ-spouse, Divorced, Never-married, Separated, Widowed, Married-spouse-absent, Married-AF-spouse.\n",
    "- occupation: Tech-support, Craft-repair, Other-service, Sales, Exec-managerial, Prof-specialty, Handlers-cleaners, Machine-op-inspct, Adm-clerical, Farming-fishing, Transport-moving, Priv-house-serv, Protective-serv, Armed-Forces.\n",
    "- relationship: Wife, Own-child, Husband, Not-in-family, Other-relative, Unmarried.\n",
    "- race: White, Asian-Pac-Islander, Amer-Indian-Eskimo, Other, Black.\n",
    "- sex: Female, Male.\n",
    "- capital-gain: continuous.\n",
    "- capital-loss: continuous.\n",
    "- hours-per-week: continuous.\n",
    "- native-country: United-States, Cambodia, England, Puerto-Rico, Canada, Germany, Outlying-US(Guam-USVI-etc), India, Japan, Greece, South, China, Cuba, Iran, Honduras, Philippines, Italy, Poland, Jamaica, Vietnam, Mexico, Portugal, Ireland, France, Dominican-Republic, Laos, Ecuador, Taiwan, Haiti, Columbia, Hungary, Guatemala, Nicaragua, Scotland, Thailand, Yugoslavia, El-Salvador, Trinadad&Tobago, Peru, Hong, Holand-Netherlands.   \n",
    "- salary: >50K,<=50K"
   ]
  },
  {
   "cell_type": "code",
   "execution_count": 1,
   "metadata": {
    "id": "6dvdvOutTR"
   },
   "outputs": [],
   "source": [
    "import pandas as pd"
   ]
  },
  {
   "cell_type": "code",
   "execution_count": 2,
   "metadata": {
    "colab": {
     "base_uri": "https://localhost:8080/",
     "height": 380
    },
    "executionInfo": {
     "elapsed": 499,
     "status": "ok",
     "timestamp": 1626441443051,
     "user": {
      "displayName": "Александр Аксёнов",
      "photoUrl": "https://lh3.googleusercontent.com/a-/AOh14GhmPE3kg2vafh4QNEoLX_DeI08tDxoR8I8MoJZP=s64",
      "userId": "1114599235456292449"
     },
     "user_tz": -300
    },
    "id": "SnfsjkwkldstTT",
    "outputId": "eab1137b9-0f5f-4bcd-db91-32csds91379"
   },
   "outputs": [
    {
     "data": {
      "text/html": [
       "<div>\n",
       "<style scoped>\n",
       "    .dataframe tbody tr th:only-of-type {\n",
       "        vertical-align: middle;\n",
       "    }\n",
       "\n",
       "    .dataframe tbody tr th {\n",
       "        vertical-align: top;\n",
       "    }\n",
       "\n",
       "    .dataframe thead th {\n",
       "        text-align: right;\n",
       "    }\n",
       "</style>\n",
       "<table border=\"1\" class=\"dataframe\">\n",
       "  <thead>\n",
       "    <tr style=\"text-align: right;\">\n",
       "      <th></th>\n",
       "      <th>age</th>\n",
       "      <th>workclass</th>\n",
       "      <th>fnlwgt</th>\n",
       "      <th>education</th>\n",
       "      <th>education-num</th>\n",
       "      <th>marital-status</th>\n",
       "      <th>occupation</th>\n",
       "      <th>relationship</th>\n",
       "      <th>race</th>\n",
       "      <th>sex</th>\n",
       "      <th>capital-gain</th>\n",
       "      <th>capital-loss</th>\n",
       "      <th>hours-per-week</th>\n",
       "      <th>native-country</th>\n",
       "      <th>salary</th>\n",
       "    </tr>\n",
       "  </thead>\n",
       "  <tbody>\n",
       "    <tr>\n",
       "      <th>0</th>\n",
       "      <td>39</td>\n",
       "      <td>State-gov</td>\n",
       "      <td>77516</td>\n",
       "      <td>Bachelors</td>\n",
       "      <td>13</td>\n",
       "      <td>Never-married</td>\n",
       "      <td>Adm-clerical</td>\n",
       "      <td>Not-in-family</td>\n",
       "      <td>White</td>\n",
       "      <td>Male</td>\n",
       "      <td>2174</td>\n",
       "      <td>0</td>\n",
       "      <td>40</td>\n",
       "      <td>United-States</td>\n",
       "      <td>&lt;=50K</td>\n",
       "    </tr>\n",
       "    <tr>\n",
       "      <th>1</th>\n",
       "      <td>50</td>\n",
       "      <td>Self-emp-not-inc</td>\n",
       "      <td>83311</td>\n",
       "      <td>Bachelors</td>\n",
       "      <td>13</td>\n",
       "      <td>Married-civ-spouse</td>\n",
       "      <td>Exec-managerial</td>\n",
       "      <td>Husband</td>\n",
       "      <td>White</td>\n",
       "      <td>Male</td>\n",
       "      <td>0</td>\n",
       "      <td>0</td>\n",
       "      <td>13</td>\n",
       "      <td>United-States</td>\n",
       "      <td>&lt;=50K</td>\n",
       "    </tr>\n",
       "    <tr>\n",
       "      <th>2</th>\n",
       "      <td>38</td>\n",
       "      <td>Private</td>\n",
       "      <td>215646</td>\n",
       "      <td>HS-grad</td>\n",
       "      <td>9</td>\n",
       "      <td>Divorced</td>\n",
       "      <td>Handlers-cleaners</td>\n",
       "      <td>Not-in-family</td>\n",
       "      <td>White</td>\n",
       "      <td>Male</td>\n",
       "      <td>0</td>\n",
       "      <td>0</td>\n",
       "      <td>40</td>\n",
       "      <td>United-States</td>\n",
       "      <td>&lt;=50K</td>\n",
       "    </tr>\n",
       "    <tr>\n",
       "      <th>3</th>\n",
       "      <td>53</td>\n",
       "      <td>Private</td>\n",
       "      <td>234721</td>\n",
       "      <td>11th</td>\n",
       "      <td>7</td>\n",
       "      <td>Married-civ-spouse</td>\n",
       "      <td>Handlers-cleaners</td>\n",
       "      <td>Husband</td>\n",
       "      <td>Black</td>\n",
       "      <td>Male</td>\n",
       "      <td>0</td>\n",
       "      <td>0</td>\n",
       "      <td>40</td>\n",
       "      <td>United-States</td>\n",
       "      <td>&lt;=50K</td>\n",
       "    </tr>\n",
       "    <tr>\n",
       "      <th>4</th>\n",
       "      <td>28</td>\n",
       "      <td>Private</td>\n",
       "      <td>338409</td>\n",
       "      <td>Bachelors</td>\n",
       "      <td>13</td>\n",
       "      <td>Married-civ-spouse</td>\n",
       "      <td>Prof-specialty</td>\n",
       "      <td>Wife</td>\n",
       "      <td>Black</td>\n",
       "      <td>Female</td>\n",
       "      <td>0</td>\n",
       "      <td>0</td>\n",
       "      <td>40</td>\n",
       "      <td>Cuba</td>\n",
       "      <td>&lt;=50K</td>\n",
       "    </tr>\n",
       "  </tbody>\n",
       "</table>\n",
       "</div>"
      ],
            "text/plain": [
             "   age         workclass  fnlwgt  education  education-num  \\\n",
             "0   39         State-gov   77516  Bachelors             13   \n",
             "1   50  Self-emp-not-inc   83311  Bachelors             13   \n",
             "2   38           Private  215646    HS-grad              9   \n",
             "3   53           Private  234721       11th              7   \n",
             "4   28           Private  338409  Bachelors             13   \n",
             "\n",
             "       marital-status         occupation   relationship   race     sex  \\\n",
             "0       Never-married       Adm-clerical  Not-in-family  White    Male   \n",
             "1  Married-civ-spouse    Exec-managerial        Husband  White    Male   \n",
             "2            Divorced  Handlers-cleaners  Not-in-family  White    Male   \n",
             "3  Married-civ-spouse  Handlers-cleaners        Husband  Black    Male   \n",
             "4  Married-civ-spouse     Prof-specialty           Wife  Black  Female   \n",
             "\n",
             "   capital-gain  capital-loss  hours-per-week native-country salary  \n",
             "0          2174             0              40  United-States  <=50K  \n",
             "1             0             0              13  United-States  <=50K  \n",
             "2             0             0              40  United-States  <=50K  \n",
             "3             0             0              40  United-States  <=50K  \n",
             "4             0             0              40           Cuba  <=50K  "
            ]
           },
           "execution_count": 3,
           "metadata": {},
           "output_type": "execute_result"
          }
         ],
         "source": [
          "data = pd.read_csv(\"https://raw.githubusercontent.com/aksenov7/Kaggle_competition_group/master/adult.data.csv\")\n",
          "data.head()"
         ]
        },
        {
         "cell_type": "code",
         "execution_count": 4,
         "id": "hjsdsdbsgs7623b3496-e5604084c2b4",
         "metadata": {},
         "outputs": [
          {
           "name": "stdout",
           "output_type": "stream",
           "text": [
            "количество мужчин 21790 количество женщин 10771 общее количество 32561\n"
           ]
          }
         ],
         "source": [
          "gender=data[\"sex\"]\n",
          "male_count=len([i for i in gender if i==\"Male\"])\n",
          "female_count=len([i for i in gender if i ==\"Female\"])\n",
          "print(\"количество мужчин\",male_count,\"количество женщин\",female_count,\"общее количество\",male_count+female_count)"
         ]
        },
        {
         "cell_type": "code",
         "execution_count": 5,
         "id": "jsdh166aa4e-0b2375b7311c",
         "metadata": {},
         "outputs": [
          {
           "name": "stdout",
           "output_type": "stream",
           "text": [
            "средний возраст женщин 36.85823043357163\n"
           ]
          }
         ],
         "source": [
          "print(\"средний возраст женщин\",data.loc[data.sex==\"Female\"][\"age\"].mean())"
         ]
        },
        {
         "cell_type": "code",
         "execution_count": 6,
         "id": "nsdyhds717-d8fa534c1682",
         "metadata": {},
         "outputs": [
          {
           "name": "stdout",
           "output_type": "stream",
           "text": [
            "доля граждан Германии 0.42074874850281013\n"
           ]
          }
         ],
         "source": [
          "df=data.groupby(\"native-country\").size()/len(data)*100\n",
          "print(\"доля граждан Германии\",df[\"Germany\"])"
         ]
        },
        {
         "cell_type": "code",
         "execution_count": 7,
         "id": "nsdhuyseu12623mxc-5c63f56c2df",
         "metadata": {},
         "outputs": [
          {
           "name": "stdout",
           "output_type": "stream",
           "text": [
            "средние значения возраста тех, кто получает меньше 50K либо 50K в год 36.78373786407767\n",
            "средние значения возраста тех, кто получает больше 50K в год 44.24984058155847\n"
           ]
          }
         ],
         "source": [
          "df=data.groupby(\"salary\")[\"age\"].mean()\n",
          "print(\"средние значения возраста тех, кто получает меньше 50K либо 50K в год\",df[\"<=50K\"])\n",
          "print(\"средние значения возраста тех, кто получает больше 50K в год\",df[\">50K\"])"
         ]
        },
        {
         "cell_type": "code",
         "execution_count": 8,
         "id": "jdfh72bd67c5-ed0064ee9ca5",
         "metadata": {},
         "outputs": [
          {
           "name": "stdout",
           "output_type": "stream",
           "text": [
            "среднеквадратичные отклонение возраста тех, кто получает меньше 50K либо 50K в год 14.020088490824866\n",
            "среднеквадратичные отклонения возраста тех, кто получает больше 50K в год 10.519027719851843\n"
           ]
          }
         ],
         "source": [
          "df=data.groupby(\"salary\")[\"age\"].std()\n",
          "print(\"среднеквадратичные отклонение возраста тех, кто получает меньше 50K либо 50K в год\",df[\"<=50K\"])\n",
          "print(\"среднеквадратичные отклонения возраста тех, кто получает больше 50K в год\",df[\">50K\"])"
         ]
        },
        {
         "cell_type": "code",
         "execution_count": 9,
         "id": "hjdbhs51bgsd1-36969ea59a5c",
         "metadata": {},
         "outputs": [
          {
           "name": "stdout",
           "output_type": "stream",
           "text": [
            "Правда ли, что люди, которые получают больше 50k, имеют как минимум высшее образование? False\n"
           ]
          }
         ],
         "source": [
          "df=data[data[\"salary\"]==\">50K\"]\n",
          "count_people=len(df[df[\"education\"]==\"Bachelors\"])+len(df[df[\"education\"]==\"Prof-school\"])+len(df[df[\"education\"]==\"Assoc-acdm\"])+len(df[df[\"education\"]==\"Assoc-voc\"])+len(df[df[\"education\"]==\"Masters\"])+len(df[df[\"education\"]==\"Doctorate\"])\n",
          "print(\"Правда ли, что люди, которые получают больше 50k, имеют как минимум высшее образование?\",len(df)==count_people)"
         ]
        },
        {
         "cell_type": "code",
         "execution_count": 10,
         "id": "ndsy623bd9f5-469d4ec98b75",
         "metadata": {},
         "outputs": [
          {
           "name": "stdout",
           "output_type": "stream",
           "text": [
            "Максимальный возраст мужчин расы Amer-Indian-Eskimo. 82.0\n"
           ]
          }
         ],
         "source": [
          "df=data.groupby([\"race\",\"sex\"]).describe().loc['Amer-Indian-Eskimo'].loc['Male']\n",
          "print(\"Максимальный возраст мужчин расы Amer-Indian-Eskimo.\",df[\"age\"][\"max\"])"
         ]
        },
        {
         "cell_type": "code",
         "execution_count": 11,
         "id": "msdju723wesd8-614fa16cfa63",
         "metadata": {},
         "outputs": [
          {
           "name": "stdout",
           "output_type": "stream",
           "text": [
            "Доля среди женатых больше True\n"
           ]
          }
         ],
         "source": [
          "df=data[data[\"salary\"]==\">50K\"]\n",
          "df=df[df[\"sex\"]==\"Male\"]\n",
          "count_men=len(df[df[\"marital-status\"]==\"Married-civ-spouse\"])+len(df[df[\"marital-status\"]==\"Married-spouse-absent\"])+len(df[df[\"marital-status\"]==\"Married-AF-spouse\"])\n",
          "print(\"Доля среди женатых больше\",count_men>len(df)-count_men)"
         ]
        },
        {
         "cell_type": "code",
         "execution_count": 12,
         "id": "nmswiu89237-dsjnbsn167-674910358732",
         "metadata": {},
         "outputs": [
          {
           "name": "stdout",
           "output_type": "stream",
           "text": [
            "максимальное время работы человека 99.0\n",
            "кол-во людей работающих максимальное количество времени 85\n",
            "процент зарабатывающих много 29.411764705882355\n"
           ]
          }
         ],
         "source": [
          "max_number=data[\"hours-per-week\"].describe()[\"max\"]\n",
          "max_count=len(data[data[\"hours-per-week\"]==max_number])\n",
          "max_count_people=data[data[\"hours-per-week\"]==max_number]\n",
          "max_count_rich=len(max_count_people[max_count_people[\"salary\"]==\">50K\"])\n",
          "print(\"максимальное время работы человека\",max_number)\n",
          "print(\"кол-во людей работающих максимальное количество времени\",max_count)\n",
          "print(\"процент зарабатывающих много\",max_count_rich/max_count*100)"
         ]
        },
        {
         "cell_type": "code",
         "execution_count": 13,
         "id": "jsdg612bvcg43-b7b4faad292b",
         "metadata": {},
         "outputs": [
          {
           "name": "stdout",
           "output_type": "stream",
           "text": [
            "среднее время работы зарабатывающих мало и много для каждой страны\n",
            "native-country  salary\n",
            "?               <=50K     40.164760\n",
            "                >50K      45.547945\n",
            "Cambodia        <=50K     41.416667\n",
            "                >50K      40.000000\n",
            "Canada          <=50K     37.914634\n",
            "                            ...    \n",
            "United-States   >50K      45.505369\n",
            "Vietnam         <=50K     37.193548\n",
            "                >50K      39.200000\n",
            "Yugoslavia      <=50K     41.600000\n",
            "                >50K      49.500000\n",
            "Name: hours-per-week, Length: 82, dtype: float64\n"
           ]
          }
         ],
         "source": [
          "print(\"среднее время работы зарабатывающих мало и много для каждой страны\")\n",
          "print(data.groupby(['native-country', 'salary'])['hours-per-week'].mean())"
         ]
        },
        {
         "cell_type": "code",
         "execution_count": null,
         "id": "n aschd7882-jhsdg81-b9fbd8cf74ab",
         "metadata": {},
         "outputs": [],
         "source": []
        }
       ],
       "metadata": {
        "kernelspec": {
         "display_name": "Python 3 (ipykernel)",
         "language": "python",
         "name": "python3"
        },
        "language_info": {
         "codemirror_mode": {
          "name": "ipython",
          "version": 3
         },
         "file_extension": ".py",
         "mimetype": "text/x-python",
         "name": "python",
         "nbconvert_exporter": "python",
         "pygments_lexer": "ipython3",
         "version": "3.9.4"
        }
       },
       "nbformat": 4,
       "nbformat_minor": 5
      } 