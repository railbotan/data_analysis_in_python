{
 "cells": [
  {
   "cell_type": "markdown",
   "metadata": {},
   "source": [
    "Соревнование на kaggle \"Titanic\" - https://www.kaggle.com/c/titanic/code"
   ]
  },
  {
   "cell_type": "markdown",
   "metadata": {
    "id": "CXsKzXe_x-t4"
   },
   "source": [
    "**Импорт всех необходимых библиотек**"
   ]
  },
  {
   "cell_type": "code",
   "execution_count": 1,
   "metadata": {
    "id": "RrSo2OJzx-Pw"
   },
   "outputs": [],
   "source": [
    "import pandas as pd\n",
    "import numpy as np\n",
    "import matplotlib.pyplot as plt\n",
    "import seaborn as sns\n",
    "pd.set_option(\"display.max_rows\", 20)\n",
    "pd.set_option(\"display.max_columns\", 20)\n",
    "pd.set_option(\"display.precision\", 4)\n",
    "pd.set_option(\"plotting.backend\", \"matplotlib\")\n",
    "\n",
    "from sklearn.linear_model import LogisticRegression\n",
    "from sklearn.model_selection import train_test_split\n",
    "from sklearn.preprocessing import StandardScaler, RobustScaler"
   ]
  },
  {
   "cell_type": "markdown",
   "metadata": {
    "id": "UTKVH3sMutTM"
   },
   "source": [
    "# 1. Исследовательский анализ данных (exploratory data analysis - EDA)"
   ]
  },
  {
   "cell_type": "markdown",
   "metadata": {
    "id": "tiFgQjEcxnu2"
   },
   "source": [
    "## 1.1 Словесное описание признаков"
   ]
  },
  {
   "cell_type": "markdown",
   "metadata": {
    "id": "3lUT-CqYutTO"
   },
   "source": [
    "- survival: Survival. 0 = No, 1 = Yes\n",
    "- pclass: Ticket class. 1 = 1st, 2 = 2nd, 3 = 3rd\n",
    "- sex: Sex\t\n",
    "- Age: Age in years\t\n",
    "- sibsp: of siblings / spouses aboard the Titanic\n",
    "- parch: of parents / children aboard the Titanic\n",
    "- ticket: Ticket number\n",
    "- fare: Passenger fare\n",
    "- cabin: Cabin number\n",
    "- embarked: Port of Embarkation. C = Cherbourg, Q = Queenstown, S = Southampton"
   ]
  },
  {
   "cell_type": "markdown",
   "metadata": {
    "id": "qy4yj--r07RL"
   },
   "source": [
    "## 1.2 Загрузка данных общее описание набора данных\n",
    "* Первый взгляд на данные: head(), tail(), sample()\n",
    "* Размер набора данных\n",
    "* Баланс классов в целевом признаке при классфикации. Диапазон данных и базовые статистические метрики целевого признака при регерессии\n",
    "* Базовые статистики по числовым данным\n",
    "* Базовые статистики по строковым данным\n",
    "* Наличие пропусков в данных"
   ]
  },
  {
   "cell_type": "code",
   "execution_count": 2,
   "metadata": {
    "colab": {
     "base_uri": "https://localhost:8080/",
     "height": 206
    },
    "executionInfo": {
     "elapsed": 657,
     "status": "ok",
     "timestamp": 1636625260411,
     "user": {
      "displayName": "Александр Аксёнов",
      "photoUrl": "https://lh3.googleusercontent.com/a-/AOh14GgpkPDdBChJz5khG7PXMg_P3ziSIZzWUDpDAjL7KA=s64",
      "userId": "11145992452404092449"
     },
     "user_tz": -300
    },
    "id": "SJ3LbaoiutTT",
    "outputId": "c92018d9-5be4-4b69-8b9a-8abdae205a6f"
   },
   "outputs": [
    {
     "data": {
      "text/html": [
       "<div>\n",
       "<style scoped>\n",
       "    .dataframe tbody tr th:only-of-type {\n",
       "        vertical-align: middle;\n",
       "    }\n",
       "\n",
       "    .dataframe tbody tr th {\n",
       "        vertical-align: top;\n",
       "    }\n",
       "\n",
       "    .dataframe thead th {\n",
       "        text-align: right;\n",
       "    }\n",
       "</style>\n",
       "<table border=\"1\" class=\"dataframe\">\n",
       "  <thead>\n",
       "    <tr style=\"text-align: right;\">\n",
       "      <th></th>\n",
       "      <th>PassengerId</th>\n",
       "      <th>Survived</th>\n",
       "      <th>Pclass</th>\n",
       "      <th>Name</th>\n",
       "      <th>Sex</th>\n",
       "      <th>Age</th>\n",
       "      <th>SibSp</th>\n",
       "      <th>Parch</th>\n",
       "      <th>Ticket</th>\n",
       "      <th>Fare</th>\n",
       "      <th>Cabin</th>\n",
       "      <th>Embarked</th>\n",
       "    </tr>\n",
       "  </thead>\n",
       "  <tbody>\n",
       "    <tr>\n",
       "      <th>0</th>\n",
       "      <td>1</td>\n",
       "      <td>0</td>\n",
       "      <td>3</td>\n",
       "      <td>Braund, Mr. Owen Harris</td>\n",
       "      <td>male</td>\n",
       "      <td>22.0</td>\n",
       "      <td>1</td>\n",
       "      <td>0</td>\n",
       "      <td>A/5 21171</td>\n",
       "      <td>7.2500</td>\n",
       "      <td>NaN</td>\n",
       "      <td>S</td>\n",
       "    </tr>\n",
       "    <tr>\n",
       "      <th>1</th>\n",
       "      <td>2</td>\n",
       "      <td>1</td>\n",
       "      <td>1</td>\n",
       "      <td>Cumings, Mrs. John Bradley (Florence Briggs Th...</td>\n",
       "      <td>female</td>\n",
       "      <td>38.0</td>\n",
       "      <td>1</td>\n",
       "      <td>0</td>\n",
       "      <td>PC 17599</td>\n",
       "      <td>71.2833</td>\n",
       "      <td>C85</td>\n",
       "      <td>C</td>\n",
       "    </tr>\n",
       "    <tr>\n",
       "      <th>2</th>\n",
       "      <td>3</td>\n",
       "      <td>1</td>\n",
       "      <td>3</td>\n",
       "      <td>Heikkinen, Miss. Laina</td>\n",
       "      <td>female</td>\n",
       "      <td>26.0</td>\n",
       "      <td>0</td>\n",
       "      <td>0</td>\n",
       "      <td>STON/O2. 3101282</td>\n",
       "      <td>7.9250</td>\n",
       "      <td>NaN</td>\n",
       "      <td>S</td>\n",
       "    </tr>\n",
       "    <tr>\n",
       "      <th>3</th>\n",
       "      <td>4</td>\n",
       "      <td>1</td>\n",
       "      <td>1</td>\n",
       "      <td>Futrelle, Mrs. Jacques Heath (Lily May Peel)</td>\n",
       "      <td>female</td>\n",
       "      <td>35.0</td>\n",
       "      <td>1</td>\n",
       "      <td>0</td>\n",
       "      <td>113803</td>\n",
       "      <td>53.1000</td>\n",
       "      <td>C123</td>\n",
       "      <td>S</td>\n",
       "    </tr>\n",
       "    <tr>\n",
       "      <th>4</th>\n",
       "      <td>5</td>\n",
       "      <td>0</td>\n",
       "      <td>3</td>\n",
       "      <td>Allen, Mr. William Henry</td>\n",
       "      <td>male</td>\n",
       "      <td>35.0</td>\n",
       "      <td>0</td>\n",
       "      <td>0</td>\n",
       "      <td>373450</td>\n",
       "      <td>8.0500</td>\n",
       "      <td>NaN</td>\n",
       "      <td>S</td>\n",
       "    </tr>\n",
       "  </tbody>\n",
       "</table>\n",
       "</div>"
      ],
      "text/plain": [
       "   PassengerId  Survived  Pclass  \\\n",
       "0            1         0       3   \n",
       "1            2         1       1   \n",
       "2            3         1       3   \n",
       "3            4         1       1   \n",
       "4            5         0       3   \n",
       "\n",
       "                                                Name     Sex   Age  SibSp  \\\n",
       "0                            Braund, Mr. Owen Harris    male  22.0      1   \n",
       "1  Cumings, Mrs. John Bradley (Florence Briggs Th...  female  38.0      1   \n",
       "2                             Heikkinen, Miss. Laina  female  26.0      0   \n",
       "3       Futrelle, Mrs. Jacques Heath (Lily May Peel)  female  35.0      1   \n",
       "4                           Allen, Mr. William Henry    male  35.0      0   \n",
       "\n",
       "   Parch            Ticket     Fare Cabin Embarked  \n",
       "0      0         A/5 21171   7.2500   NaN        S  \n",
       "1      0          PC 17599  71.2833   C85        C  \n",
       "2      0  STON/O2. 3101282   7.9250   NaN        S  \n",
       "3      0            113803  53.1000  C123        S  \n",
       "4      0            373450   8.0500   NaN        S  "
      ]
     },
     "execution_count": 2,
     "metadata": {},
     "output_type": "execute_result"
    }
   ],
   "source": [
    "df = pd.read_csv(\"train.csv\")\n",
    "df.head()"
   ]
  },
  {
   "cell_type": "code",
   "execution_count": 3,
   "metadata": {
    "colab": {
     "base_uri": "https://localhost:8080/"
    },
    "executionInfo": {
     "elapsed": 291,
     "status": "ok",
     "timestamp": 1636625261045,
     "user": {
      "displayName": "Александр Аксёнов",
      "photoUrl": "https://lh3.googleusercontent.com/a-/AOh14GgpkPDdBChJz5khG7PXMg_P3ziSIZzWUDpDAjL7KA=s64",
      "userId": "11145992452404092449"
     },
     "user_tz": -300
    },
    "id": "8YtRZ5qi0epJ",
    "outputId": "3f18857b-f4d0-42c4-bee1-d9252110857d"
   },
   "outputs": [
    {
     "data": {
      "text/plain": [
       "(891, 12)"
      ]
     },
     "execution_count": 3,
     "metadata": {},
     "output_type": "execute_result"
    }
   ],
   "source": [
    "df.shape"
   ]
  },
  {
   "cell_type": "code",
   "execution_count": 5,
   "metadata": {
    "colab": {
     "base_uri": "https://localhost:8080/"
    },
    "executionInfo": {
     "elapsed": 4,
     "status": "ok",
     "timestamp": 1636625263002,
     "user": {
      "displayName": "Александр Аксёнов",
      "photoUrl": "https://lh3.googleusercontent.com/a-/AOh14GgpkPDdBChJz5khG7PXMg_P3ziSIZzWUDpDAjL7KA=s64",
      "userId": "11145992452404092449"
     },
     "user_tz": -300
    },
    "id": "asswEHNi0emi",
    "outputId": "7839e073-a7a6-4611-b355-943739b277fa"
   },
   "outputs": [
    {
     "data": {
      "text/plain": [
       "0    549\n",
       "1    342\n",
       "Name: Survived, dtype: int64"
      ]
     },
     "execution_count": 5,
     "metadata": {},
     "output_type": "execute_result"
    }
   ],
   "source": [
    "df['Survived'].value_counts()"
   ]
  },
  {
   "cell_type": "markdown",
   "metadata": {
    "id": "48lnBWe82C5T"
   },
   "source": [
    "Не видим наличие достаточно сильного дисбаланса классов"
   ]
  },
  {
   "cell_type": "code",
   "execution_count": 6,
   "metadata": {
    "colab": {
     "base_uri": "https://localhost:8080/"
    },
    "executionInfo": {
     "elapsed": 3,
     "status": "ok",
     "timestamp": 1636625264711,
     "user": {
      "displayName": "Александр Аксёнов",
      "photoUrl": "https://lh3.googleusercontent.com/a-/AOh14GgpkPDdBChJz5khG7PXMg_P3ziSIZzWUDpDAjL7KA=s64",
      "userId": "11145992452404092449"
     },
     "user_tz": -300
    },
    "id": "WTfLUHc_0ejP",
    "outputId": "06f07a20-90d7-4c2d-ba3e-2c1e2c409dad"
   },
   "outputs": [
    {
     "data": {
      "text/plain": [
       "0    0.6162\n",
       "1    0.3838\n",
       "Name: Survived, dtype: float64"
      ]
     },
     "execution_count": 6,
     "metadata": {},
     "output_type": "execute_result"
    }
   ],
   "source": [
    "df['Survived'].value_counts(normalize=True)"
   ]
  },
  {
   "cell_type": "code",
   "execution_count": 13,
   "metadata": {},
   "outputs": [
    {
     "data": {
      "text/plain": [
       "0    608\n",
       "1    209\n",
       "2     28\n",
       "4     18\n",
       "3     16\n",
       "8      7\n",
       "5      5\n",
       "Name: SibSp, dtype: int64"
      ]
     },
     "execution_count": 13,
     "metadata": {},
     "output_type": "execute_result"
    }
   ],
   "source": [
    "df['SibSp'].value_counts()"
   ]
  },
  {
   "cell_type": "code",
   "execution_count": 14,
   "metadata": {},
   "outputs": [
    {
     "data": {
      "text/plain": [
       "0    678\n",
       "1    118\n",
       "2     80\n",
       "5      5\n",
       "3      5\n",
       "4      4\n",
       "6      1\n",
       "Name: Parch, dtype: int64"
      ]
     },
     "execution_count": 14,
     "metadata": {},
     "output_type": "execute_result"
    }
   ],
   "source": [
    "df['Parch'].value_counts()"
   ]
  },
  {
   "cell_type": "code",
   "execution_count": 7,
   "metadata": {
    "colab": {
     "base_uri": "https://localhost:8080/",
     "height": 300
    },
    "executionInfo": {
     "elapsed": 309,
     "status": "ok",
     "timestamp": 1636625267072,
     "user": {
      "displayName": "Александр Аксёнов",
      "photoUrl": "https://lh3.googleusercontent.com/a-/AOh14GgpkPDdBChJz5khG7PXMg_P3ziSIZzWUDpDAjL7KA=s64",
      "userId": "11145992452404092449"
     },
     "user_tz": -300
    },
    "id": "EpQFv8t1ds05",
    "outputId": "58426d5e-4b8f-45e4-82ff-6278d2db26af"
   },
   "outputs": [
    {
     "data": {
      "text/html": [
       "<div>\n",
       "<style scoped>\n",
       "    .dataframe tbody tr th:only-of-type {\n",
       "        vertical-align: middle;\n",
       "    }\n",
       "\n",
       "    .dataframe tbody tr th {\n",
       "        vertical-align: top;\n",
       "    }\n",
       "\n",
       "    .dataframe thead th {\n",
       "        text-align: right;\n",
       "    }\n",
       "</style>\n",
       "<table border=\"1\" class=\"dataframe\">\n",
       "  <thead>\n",
       "    <tr style=\"text-align: right;\">\n",
       "      <th></th>\n",
       "      <th>PassengerId</th>\n",
       "      <th>Survived</th>\n",
       "      <th>Pclass</th>\n",
       "      <th>Age</th>\n",
       "      <th>SibSp</th>\n",
       "      <th>Parch</th>\n",
       "      <th>Fare</th>\n",
       "    </tr>\n",
       "  </thead>\n",
       "  <tbody>\n",
       "    <tr>\n",
       "      <th>count</th>\n",
       "      <td>891.0000</td>\n",
       "      <td>891.0000</td>\n",
       "      <td>891.0000</td>\n",
       "      <td>714.0000</td>\n",
       "      <td>891.0000</td>\n",
       "      <td>891.0000</td>\n",
       "      <td>891.0000</td>\n",
       "    </tr>\n",
       "    <tr>\n",
       "      <th>mean</th>\n",
       "      <td>446.0000</td>\n",
       "      <td>0.3838</td>\n",
       "      <td>2.3086</td>\n",
       "      <td>29.6991</td>\n",
       "      <td>0.5230</td>\n",
       "      <td>0.3816</td>\n",
       "      <td>32.2042</td>\n",
       "    </tr>\n",
       "    <tr>\n",
       "      <th>std</th>\n",
       "      <td>257.3538</td>\n",
       "      <td>0.4866</td>\n",
       "      <td>0.8361</td>\n",
       "      <td>14.5265</td>\n",
       "      <td>1.1027</td>\n",
       "      <td>0.8061</td>\n",
       "      <td>49.6934</td>\n",
       "    </tr>\n",
       "    <tr>\n",
       "      <th>min</th>\n",
       "      <td>1.0000</td>\n",
       "      <td>0.0000</td>\n",
       "      <td>1.0000</td>\n",
       "      <td>0.4200</td>\n",
       "      <td>0.0000</td>\n",
       "      <td>0.0000</td>\n",
       "      <td>0.0000</td>\n",
       "    </tr>\n",
       "    <tr>\n",
       "      <th>25%</th>\n",
       "      <td>223.5000</td>\n",
       "      <td>0.0000</td>\n",
       "      <td>2.0000</td>\n",
       "      <td>20.1250</td>\n",
       "      <td>0.0000</td>\n",
       "      <td>0.0000</td>\n",
       "      <td>7.9104</td>\n",
       "    </tr>\n",
       "    <tr>\n",
       "      <th>50%</th>\n",
       "      <td>446.0000</td>\n",
       "      <td>0.0000</td>\n",
       "      <td>3.0000</td>\n",
       "      <td>28.0000</td>\n",
       "      <td>0.0000</td>\n",
       "      <td>0.0000</td>\n",
       "      <td>14.4542</td>\n",
       "    </tr>\n",
       "    <tr>\n",
       "      <th>75%</th>\n",
       "      <td>668.5000</td>\n",
       "      <td>1.0000</td>\n",
       "      <td>3.0000</td>\n",
       "      <td>38.0000</td>\n",
       "      <td>1.0000</td>\n",
       "      <td>0.0000</td>\n",
       "      <td>31.0000</td>\n",
       "    </tr>\n",
       "    <tr>\n",
       "      <th>max</th>\n",
       "      <td>891.0000</td>\n",
       "      <td>1.0000</td>\n",
       "      <td>3.0000</td>\n",
       "      <td>80.0000</td>\n",
       "      <td>8.0000</td>\n",
       "      <td>6.0000</td>\n",
       "      <td>512.3292</td>\n",
       "    </tr>\n",
       "  </tbody>\n",
       "</table>\n",
       "</div>"
      ],
      "text/plain": [
       "       PassengerId  Survived    Pclass       Age     SibSp     Parch      Fare\n",
       "count     891.0000  891.0000  891.0000  714.0000  891.0000  891.0000  891.0000\n",
       "mean      446.0000    0.3838    2.3086   29.6991    0.5230    0.3816   32.2042\n",
       "std       257.3538    0.4866    0.8361   14.5265    1.1027    0.8061   49.6934\n",
       "min         1.0000    0.0000    1.0000    0.4200    0.0000    0.0000    0.0000\n",
       "25%       223.5000    0.0000    2.0000   20.1250    0.0000    0.0000    7.9104\n",
       "50%       446.0000    0.0000    3.0000   28.0000    0.0000    0.0000   14.4542\n",
       "75%       668.5000    1.0000    3.0000   38.0000    1.0000    0.0000   31.0000\n",
       "max       891.0000    1.0000    3.0000   80.0000    8.0000    6.0000  512.3292"
      ]
     },
     "execution_count": 7,
     "metadata": {},
     "output_type": "execute_result"
    }
   ],
   "source": [
    "df.describe()"
   ]
  },
  {
   "cell_type": "markdown",
   "metadata": {
    "id": "ZGB2K6975SrE"
   },
   "source": [
    "**Первичные выводы**\n",
    "* Выжило около 40% пассажиров, что немало\n",
    "* В среднем на борту были люди от 20 до 40 лет\n",
    "* Большинство пассажиров были во 2 или в 3 классе, если судить по билету\n",
    "* Большинство присутствовало на корабле без родственников-суженых или детей-родителей"
   ]
  },
  {
   "cell_type": "code",
   "execution_count": 15,
   "metadata": {
    "colab": {
     "base_uri": "https://localhost:8080/",
     "height": 175
    },
    "executionInfo": {
     "elapsed": 6,
     "status": "ok",
     "timestamp": 1636625269818,
     "user": {
      "displayName": "Александр Аксёнов",
      "photoUrl": "https://lh3.googleusercontent.com/a-/AOh14GgpkPDdBChJz5khG7PXMg_P3ziSIZzWUDpDAjL7KA=s64",
      "userId": "11145992452404092449"
     },
     "user_tz": -300
    },
    "id": "LMdTGO9C4187",
    "outputId": "10bdbd48-35be-4e98-e64a-9daa9db723ef"
   },
   "outputs": [
    {
     "data": {
      "text/html": [
       "<div>\n",
       "<style scoped>\n",
       "    .dataframe tbody tr th:only-of-type {\n",
       "        vertical-align: middle;\n",
       "    }\n",
       "\n",
       "    .dataframe tbody tr th {\n",
       "        vertical-align: top;\n",
       "    }\n",
       "\n",
       "    .dataframe thead th {\n",
       "        text-align: right;\n",
       "    }\n",
       "</style>\n",
       "<table border=\"1\" class=\"dataframe\">\n",
       "  <thead>\n",
       "    <tr style=\"text-align: right;\">\n",
       "      <th></th>\n",
       "      <th>Name</th>\n",
       "      <th>Sex</th>\n",
       "      <th>Ticket</th>\n",
       "      <th>Cabin</th>\n",
       "      <th>Embarked</th>\n",
       "    </tr>\n",
       "  </thead>\n",
       "  <tbody>\n",
       "    <tr>\n",
       "      <th>count</th>\n",
       "      <td>891</td>\n",
       "      <td>891</td>\n",
       "      <td>891</td>\n",
       "      <td>204</td>\n",
       "      <td>889</td>\n",
       "    </tr>\n",
       "    <tr>\n",
       "      <th>unique</th>\n",
       "      <td>891</td>\n",
       "      <td>2</td>\n",
       "      <td>681</td>\n",
       "      <td>147</td>\n",
       "      <td>3</td>\n",
       "    </tr>\n",
       "    <tr>\n",
       "      <th>top</th>\n",
       "      <td>Braund, Mr. Owen Harris</td>\n",
       "      <td>male</td>\n",
       "      <td>347082</td>\n",
       "      <td>B96 B98</td>\n",
       "      <td>S</td>\n",
       "    </tr>\n",
       "    <tr>\n",
       "      <th>freq</th>\n",
       "      <td>1</td>\n",
       "      <td>577</td>\n",
       "      <td>7</td>\n",
       "      <td>4</td>\n",
       "      <td>644</td>\n",
       "    </tr>\n",
       "  </tbody>\n",
       "</table>\n",
       "</div>"
      ],
      "text/plain": [
       "                           Name   Sex  Ticket    Cabin Embarked\n",
       "count                       891   891     891      204      889\n",
       "unique                      891     2     681      147        3\n",
       "top     Braund, Mr. Owen Harris  male  347082  B96 B98        S\n",
       "freq                          1   577       7        4      644"
      ]
     },
     "execution_count": 15,
     "metadata": {},
     "output_type": "execute_result"
    }
   ],
   "source": [
    "df.describe(include=(object))"
   ]
  },
  {
   "cell_type": "markdown",
   "metadata": {
    "id": "70kXb6Vk9zYK"
   },
   "source": [
    "* Все имена уникальные\n",
    "* Мужиков было больше на борту\n",
    "* Большинство было из порта S"
   ]
  },
  {
   "cell_type": "code",
   "execution_count": 16,
   "metadata": {
    "colab": {
     "base_uri": "https://localhost:8080/"
    },
    "executionInfo": {
     "elapsed": 314,
     "status": "ok",
     "timestamp": 1636625272431,
     "user": {
      "displayName": "Александр Аксёнов",
      "photoUrl": "https://lh3.googleusercontent.com/a-/AOh14GgpkPDdBChJz5khG7PXMg_P3ziSIZzWUDpDAjL7KA=s64",
      "userId": "11145992452404092449"
     },
     "user_tz": -300
    },
    "id": "jwS2iossDgZf",
    "outputId": "e9af3f48-bb06-4167-89e4-6bff02249d25"
   },
   "outputs": [
    {
     "name": "stdout",
     "output_type": "stream",
     "text": [
      "<class 'pandas.core.frame.DataFrame'>\n",
      "RangeIndex: 891 entries, 0 to 890\n",
      "Data columns (total 12 columns):\n",
      " #   Column       Non-Null Count  Dtype  \n",
      "---  ------       --------------  -----  \n",
      " 0   PassengerId  891 non-null    int64  \n",
      " 1   Survived     891 non-null    int64  \n",
      " 2   Pclass       891 non-null    int64  \n",
      " 3   Name         891 non-null    object \n",
      " 4   Sex          891 non-null    object \n",
      " 5   Age          714 non-null    float64\n",
      " 6   SibSp        891 non-null    int64  \n",
      " 7   Parch        891 non-null    int64  \n",
      " 8   Ticket       891 non-null    object \n",
      " 9   Fare         891 non-null    float64\n",
      " 10  Cabin        204 non-null    object \n",
      " 11  Embarked     889 non-null    object \n",
      "dtypes: float64(2), int64(5), object(5)\n",
      "memory usage: 83.7+ KB\n"
     ]
    }
   ],
   "source": [
    "df.info()"
   ]
  },
  {
   "cell_type": "markdown",
   "metadata": {
    "id": "ZusuNgqKD8Ay"
   },
   "source": [
    "Пропуски в данных обнаружены"
   ]
  },
  {
   "cell_type": "markdown",
   "metadata": {
    "id": "USQjKMAIETO8"
   },
   "source": [
    "## 1.3 Визуальный и статистический анализ данных"
   ]
  },
  {
   "cell_type": "code",
   "execution_count": 18,
   "metadata": {
    "colab": {
     "base_uri": "https://localhost:8080/",
     "height": 515
    },
    "executionInfo": {
     "elapsed": 1097,
     "status": "ok",
     "timestamp": 1636625279056,
     "user": {
      "displayName": "Александр Аксёнов",
      "photoUrl": "https://lh3.googleusercontent.com/a-/AOh14GgpkPDdBChJz5khG7PXMg_P3ziSIZzWUDpDAjL7KA=s64",
      "userId": "11145992452404092449"
     },
     "user_tz": -300
    },
    "id": "-6z1CUL0Epte",
    "outputId": "b8c439cf-1a78-408e-fa69-758cf9698812"
   },
   "outputs": [
    {
     "data": {
      "text/plain": [
       "<AxesSubplot:xlabel='Age', ylabel='Count'>"
      ]
     },
     "execution_count": 18,
     "metadata": {},
     "output_type": "execute_result"
    },
    {
     "data": {
      "image/png": "[encoded data removed]",
      "text/plain": [
       "<Figure size 1296x576 with 1 Axes>"
      ]
     },
     "metadata": {
      "needs_background": "light"
     },
     "output_type": "display_data"
    }
   ],
   "source": [
    "plt.figure(figsize=(18,8))\n",
    "sns.histplot(data=df, x=\"Age\", hue=\"Parch\", bins=74)"
   ]
  },
  {
   "cell_type": "markdown",
   "metadata": {},
   "source": [
    "Родители-детишки были на корабле вместе с людьми 20-30 лет"
   ]
  },
  {
   "cell_type": "code",
   "execution_count": 19,
   "metadata": {
    "colab": {
     "base_uri": "https://localhost:8080/",
     "height": 515
    },
    "executionInfo": {
     "elapsed": 1026,
     "status": "ok",
     "timestamp": 1636625282850,
     "user": {
      "displayName": "Александр Аксёнов",
      "photoUrl": "https://lh3.googleusercontent.com/a-/AOh14GgpkPDdBChJz5khG7PXMg_P3ziSIZzWUDpDAjL7KA=s64",
      "userId": "11145992452404092449"
     },
     "user_tz": -300
    },
    "id": "uJULEf_4ErRP",
    "outputId": "2a7e6cae-64e3-4059-8d66-b3ed9d71b138"
   },
   "outputs": [
    {
     "data": {
      "text/plain": [
       "<AxesSubplot:xlabel='Age', ylabel='Count'>"
      ]
     },
     "execution_count": 19,
     "metadata": {},
     "output_type": "execute_result"
    },
    {
     "data": {
      "image/png": "[encoded data removed]",
      "text/plain": [
       "<Figure size 1296x576 with 1 Axes>"
      ]
     },
     "metadata": {
      "needs_background": "light"
     },
     "output_type": "display_data"
    }
   ],
   "source": [
    "plt.figure(figsize=(18,8))\n",
    "sns.histplot(data=df, x=\"Age\", hue=\"SibSp\", bins=74)"
   ]
  },
  {
   "cell_type": "markdown",
   "metadata": {},
   "source": [
    "Родственники-суженые были на корабле в основном с людьми 20-30 лет"
   ]
  },
  {
   "cell_type": "code",
   "execution_count": 26,
   "metadata": {
    "colab": {
     "base_uri": "https://localhost:8080/",
     "height": 515
    },
    "executionInfo": {
     "elapsed": 859,
     "status": "ok",
     "timestamp": 1636625290262,
     "user": {
      "displayName": "Александр Аксёнов",
      "photoUrl": "https://lh3.googleusercontent.com/a-/AOh14GgpkPDdBChJz5khG7PXMg_P3ziSIZzWUDpDAjL7KA=s64",
      "userId": "11145992452404092449"
     },
     "user_tz": -300
    },
    "id": "aAyqBQnnErI1",
    "outputId": "33ff1717-eebf-4972-fcd8-745962b84cf1"
   },
   "outputs": [
    {
     "data": {
      "text/plain": [
       "<AxesSubplot:xlabel='Pclass', ylabel='Count'>"
      ]
     },
     "execution_count": 26,
     "metadata": {},
     "output_type": "execute_result"
    },
    {
     "data": {
      "image/png": "[encoded data removed]",
      "text/plain": [
       "<Figure size 360x576 with 1 Axes>"
      ]
     },
     "metadata": {
      "needs_background": "light"
     },
     "output_type": "display_data"
    }
   ],
   "source": [
    "plt.figure(figsize=(5,8))\n",
    "sns.histplot(data=df, x=\"Pclass\", hue=\"Embarked\", bins=30)"
   ]
  },
  {
   "cell_type": "markdown",
   "metadata": {},
   "source": [
    "Распределение портов загрузки пассажиров в зависимости от класса билета"
   ]
  },
  {
   "cell_type": "markdown",
   "metadata": {
    "id": "QeOBRH60Wf1F"
   },
   "source": [
    "# 2. Заполнение пропусков и обработка выбросов в данных"
   ]
  },
  {
   "cell_type": "markdown",
   "metadata": {
    "id": "qwyKgedLeIMT"
   },
   "source": [
    "## Пропуски в данных"
   ]
  },
  {
   "cell_type": "markdown",
   "metadata": {
    "id": "IY7lHurJEYqt"
   },
   "source": [
    "Не дискретные данные."
   ]
  },
  {
   "cell_type": "code",
   "execution_count": 44,
   "metadata": {
    "colab": {
     "base_uri": "https://localhost:8080/"
    },
    "executionInfo": {
     "elapsed": 272,
     "status": "ok",
     "timestamp": 1636625298665,
     "user": {
      "displayName": "Александр Аксёнов",
      "photoUrl": "https://lh3.googleusercontent.com/a-/AOh14GgpkPDdBChJz5khG7PXMg_P3ziSIZzWUDpDAjL7KA=s64",
      "userId": "11145992452404092449"
     },
     "user_tz": -300
    },
    "id": "MzaQ5-QDEqrF",
    "outputId": "e5898985-8a3f-4f55-ac02-3ae1788fa655"
   },
   "outputs": [],
   "source": [
    "df.loc[df['Age'].isna(), 'Age'] = (\n",
    "    df['Age'].median())"
   ]
  },
  {
   "cell_type": "markdown",
   "metadata": {
    "id": "ykW8ga3UE0Aq"
   },
   "source": [
    "Если дискретные данные"
   ]
  },
  {
   "cell_type": "code",
   "execution_count": 43,
   "metadata": {
    "colab": {
     "base_uri": "https://localhost:8080/"
    },
    "executionInfo": {
     "elapsed": 4,
     "status": "ok",
     "timestamp": 1636625301511,
     "user": {
      "displayName": "Александр Аксёнов",
      "photoUrl": "https://lh3.googleusercontent.com/a-/AOh14GgpkPDdBChJz5khG7PXMg_P3ziSIZzWUDpDAjL7KA=s64",
      "userId": "11145992452404092449"
     },
     "user_tz": -300
    },
    "id": "CE_a6ax2FeRS",
    "outputId": "fcc16c75-db39-406c-ae5c-c8403e3fbc79"
   },
   "outputs": [],
   "source": [
    "df.loc[df['Cabin'].isna(), 'Cabin'] = (\n",
    "    df['Cabin'].mode()[0])"
   ]
  },
  {
   "cell_type": "code",
   "execution_count": 45,
   "metadata": {},
   "outputs": [],
   "source": [
    "df.loc[df['Embarked'].isna(), 'Embarked'] = (\n",
    "    df['Embarked'].mode()[0])"
   ]
  },
  {
   "cell_type": "markdown",
   "metadata": {},
   "source": [
    "Проверка"
   ]
  },
  {
   "cell_type": "code",
   "execution_count": 46,
   "metadata": {},
   "outputs": [
    {
     "data": {
      "text/plain": [
       "False"
      ]
     },
     "execution_count": 46,
     "metadata": {},
     "output_type": "execute_result"
    }
   ],
   "source": [
    "df.isnull().values.any()"
   ]
  },
  {
   "cell_type": "markdown",
   "metadata": {
    "id": "u4vIuhNgeNZx"
   },
   "source": [
    "## Выбросы"
   ]
  },
  {
   "cell_type": "code",
   "execution_count": 47,
   "metadata": {
    "colab": {
     "base_uri": "https://localhost:8080/",
     "height": 423
    },
    "executionInfo": {
     "elapsed": 278,
     "status": "ok",
     "timestamp": 1636625386419,
     "user": {
      "displayName": "Александр Аксёнов",
      "photoUrl": "https://lh3.googleusercontent.com/a-/AOh14GgpkPDdBChJz5khG7PXMg_P3ziSIZzWUDpDAjL7KA=s64",
      "userId": "11145992452404092449"
     },
     "user_tz": -300
    },
    "id": "dMDu_Iu5eNPT",
    "outputId": "06a17420-9d38-4218-e9da-92b0b1bd2792"
   },
   "outputs": [
    {
     "data": {
      "text/html": [
       "<div>\n",
       "<style scoped>\n",
       "    .dataframe tbody tr th:only-of-type {\n",
       "        vertical-align: middle;\n",
       "    }\n",
       "\n",
       "    .dataframe tbody tr th {\n",
       "        vertical-align: top;\n",
       "    }\n",
       "\n",
       "    .dataframe thead th {\n",
       "        text-align: right;\n",
       "    }\n",
       "</style>\n",
       "<table border=\"1\" class=\"dataframe\">\n",
       "  <thead>\n",
       "    <tr style=\"text-align: right;\">\n",
       "      <th></th>\n",
       "      <th>PassengerId</th>\n",
       "      <th>Survived</th>\n",
       "      <th>Pclass</th>\n",
       "      <th>Age</th>\n",
       "      <th>SibSp</th>\n",
       "      <th>Parch</th>\n",
       "      <th>Fare</th>\n",
       "    </tr>\n",
       "  </thead>\n",
       "  <tbody>\n",
       "    <tr>\n",
       "      <th>0</th>\n",
       "      <td>1</td>\n",
       "      <td>0</td>\n",
       "      <td>3</td>\n",
       "      <td>22.0</td>\n",
       "      <td>1</td>\n",
       "      <td>0</td>\n",
       "      <td>7.2500</td>\n",
       "    </tr>\n",
       "    <tr>\n",
       "      <th>1</th>\n",
       "      <td>2</td>\n",
       "      <td>1</td>\n",
       "      <td>1</td>\n",
       "      <td>38.0</td>\n",
       "      <td>1</td>\n",
       "      <td>0</td>\n",
       "      <td>71.2833</td>\n",
       "    </tr>\n",
       "    <tr>\n",
       "      <th>2</th>\n",
       "      <td>3</td>\n",
       "      <td>1</td>\n",
       "      <td>3</td>\n",
       "      <td>26.0</td>\n",
       "      <td>0</td>\n",
       "      <td>0</td>\n",
       "      <td>7.9250</td>\n",
       "    </tr>\n",
       "    <tr>\n",
       "      <th>3</th>\n",
       "      <td>4</td>\n",
       "      <td>1</td>\n",
       "      <td>1</td>\n",
       "      <td>35.0</td>\n",
       "      <td>1</td>\n",
       "      <td>0</td>\n",
       "      <td>53.1000</td>\n",
       "    </tr>\n",
       "    <tr>\n",
       "      <th>4</th>\n",
       "      <td>5</td>\n",
       "      <td>0</td>\n",
       "      <td>3</td>\n",
       "      <td>35.0</td>\n",
       "      <td>0</td>\n",
       "      <td>0</td>\n",
       "      <td>8.0500</td>\n",
       "    </tr>\n",
       "    <tr>\n",
       "      <th>...</th>\n",
       "      <td>...</td>\n",
       "      <td>...</td>\n",
       "      <td>...</td>\n",
       "      <td>...</td>\n",
       "      <td>...</td>\n",
       "      <td>...</td>\n",
       "      <td>...</td>\n",
       "    </tr>\n",
       "    <tr>\n",
       "      <th>886</th>\n",
       "      <td>887</td>\n",
       "      <td>0</td>\n",
       "      <td>2</td>\n",
       "      <td>27.0</td>\n",
       "      <td>0</td>\n",
       "      <td>0</td>\n",
       "      <td>13.0000</td>\n",
       "    </tr>\n",
       "    <tr>\n",
       "      <th>887</th>\n",
       "      <td>888</td>\n",
       "      <td>1</td>\n",
       "      <td>1</td>\n",
       "      <td>19.0</td>\n",
       "      <td>0</td>\n",
       "      <td>0</td>\n",
       "      <td>30.0000</td>\n",
       "    </tr>\n",
       "    <tr>\n",
       "      <th>888</th>\n",
       "      <td>889</td>\n",
       "      <td>0</td>\n",
       "      <td>3</td>\n",
       "      <td>28.0</td>\n",
       "      <td>1</td>\n",
       "      <td>2</td>\n",
       "      <td>23.4500</td>\n",
       "    </tr>\n",
       "    <tr>\n",
       "      <th>889</th>\n",
       "      <td>890</td>\n",
       "      <td>1</td>\n",
       "      <td>1</td>\n",
       "      <td>26.0</td>\n",
       "      <td>0</td>\n",
       "      <td>0</td>\n",
       "      <td>30.0000</td>\n",
       "    </tr>\n",
       "    <tr>\n",
       "      <th>890</th>\n",
       "      <td>891</td>\n",
       "      <td>0</td>\n",
       "      <td>3</td>\n",
       "      <td>32.0</td>\n",
       "      <td>0</td>\n",
       "      <td>0</td>\n",
       "      <td>7.7500</td>\n",
       "    </tr>\n",
       "  </tbody>\n",
       "</table>\n",
       "<p>891 rows × 7 columns</p>\n",
       "</div>"
      ],
      "text/plain": [
       "     PassengerId  Survived  Pclass   Age  SibSp  Parch     Fare\n",
       "0              1         0       3  22.0      1      0   7.2500\n",
       "1              2         1       1  38.0      1      0  71.2833\n",
       "2              3         1       3  26.0      0      0   7.9250\n",
       "3              4         1       1  35.0      1      0  53.1000\n",
       "4              5         0       3  35.0      0      0   8.0500\n",
       "..           ...       ...     ...   ...    ...    ...      ...\n",
       "886          887         0       2  27.0      0      0  13.0000\n",
       "887          888         1       1  19.0      0      0  30.0000\n",
       "888          889         0       3  28.0      1      2  23.4500\n",
       "889          890         1       1  26.0      0      0  30.0000\n",
       "890          891         0       3  32.0      0      0   7.7500\n",
       "\n",
       "[891 rows x 7 columns]"
      ]
     },
     "execution_count": 47,
     "metadata": {},
     "output_type": "execute_result"
    }
   ],
   "source": [
    "df.select_dtypes(include=[\"int\", \"float\"])"
   ]
  },
  {
   "cell_type": "code",
   "execution_count": 48,
   "metadata": {
    "colab": {
     "base_uri": "https://localhost:8080/",
     "height": 300
    },
    "executionInfo": {
     "elapsed": 580,
     "status": "ok",
     "timestamp": 1636625414282,
     "user": {
      "displayName": "Александр Аксёнов",
      "photoUrl": "https://lh3.googleusercontent.com/a-/AOh14GgpkPDdBChJz5khG7PXMg_P3ziSIZzWUDpDAjL7KA=s64",
      "userId": "11145992452404092449"
     },
     "user_tz": -300
    },
    "id": "555IsetwebCU",
    "outputId": "bde0162f-cb87-4f69-de1c-905e2d5bb90b"
   },
   "outputs": [
    {
     "data": {
      "text/html": [
       "<div>\n",
       "<style scoped>\n",
       "    .dataframe tbody tr th:only-of-type {\n",
       "        vertical-align: middle;\n",
       "    }\n",
       "\n",
       "    .dataframe tbody tr th {\n",
       "        vertical-align: top;\n",
       "    }\n",
       "\n",
       "    .dataframe thead th {\n",
       "        text-align: right;\n",
       "    }\n",
       "</style>\n",
       "<table border=\"1\" class=\"dataframe\">\n",
       "  <thead>\n",
       "    <tr style=\"text-align: right;\">\n",
       "      <th></th>\n",
       "      <th>PassengerId</th>\n",
       "      <th>Survived</th>\n",
       "      <th>Pclass</th>\n",
       "      <th>Age</th>\n",
       "      <th>SibSp</th>\n",
       "      <th>Parch</th>\n",
       "      <th>Fare</th>\n",
       "    </tr>\n",
       "  </thead>\n",
       "  <tbody>\n",
       "    <tr>\n",
       "      <th>count</th>\n",
       "      <td>891.0000</td>\n",
       "      <td>891.0000</td>\n",
       "      <td>891.0000</td>\n",
       "      <td>891.0000</td>\n",
       "      <td>891.0000</td>\n",
       "      <td>891.0000</td>\n",
       "      <td>891.0000</td>\n",
       "    </tr>\n",
       "    <tr>\n",
       "      <th>mean</th>\n",
       "      <td>446.0000</td>\n",
       "      <td>0.3838</td>\n",
       "      <td>2.3086</td>\n",
       "      <td>29.3616</td>\n",
       "      <td>0.5230</td>\n",
       "      <td>0.3816</td>\n",
       "      <td>32.2042</td>\n",
       "    </tr>\n",
       "    <tr>\n",
       "      <th>std</th>\n",
       "      <td>257.3538</td>\n",
       "      <td>0.4866</td>\n",
       "      <td>0.8361</td>\n",
       "      <td>13.0197</td>\n",
       "      <td>1.1027</td>\n",
       "      <td>0.8061</td>\n",
       "      <td>49.6934</td>\n",
       "    </tr>\n",
       "    <tr>\n",
       "      <th>min</th>\n",
       "      <td>1.0000</td>\n",
       "      <td>0.0000</td>\n",
       "      <td>1.0000</td>\n",
       "      <td>0.4200</td>\n",
       "      <td>0.0000</td>\n",
       "      <td>0.0000</td>\n",
       "      <td>0.0000</td>\n",
       "    </tr>\n",
       "    <tr>\n",
       "      <th>25%</th>\n",
       "      <td>223.5000</td>\n",
       "      <td>0.0000</td>\n",
       "      <td>2.0000</td>\n",
       "      <td>22.0000</td>\n",
       "      <td>0.0000</td>\n",
       "      <td>0.0000</td>\n",
       "      <td>7.9104</td>\n",
       "    </tr>\n",
       "    <tr>\n",
       "      <th>50%</th>\n",
       "      <td>446.0000</td>\n",
       "      <td>0.0000</td>\n",
       "      <td>3.0000</td>\n",
       "      <td>28.0000</td>\n",
       "      <td>0.0000</td>\n",
       "      <td>0.0000</td>\n",
       "      <td>14.4542</td>\n",
       "    </tr>\n",
       "    <tr>\n",
       "      <th>75%</th>\n",
       "      <td>668.5000</td>\n",
       "      <td>1.0000</td>\n",
       "      <td>3.0000</td>\n",
       "      <td>35.0000</td>\n",
       "      <td>1.0000</td>\n",
       "      <td>0.0000</td>\n",
       "      <td>31.0000</td>\n",
       "    </tr>\n",
       "    <tr>\n",
       "      <th>max</th>\n",
       "      <td>891.0000</td>\n",
       "      <td>1.0000</td>\n",
       "      <td>3.0000</td>\n",
       "      <td>80.0000</td>\n",
       "      <td>8.0000</td>\n",
       "      <td>6.0000</td>\n",
       "      <td>512.3292</td>\n",
       "    </tr>\n",
       "  </tbody>\n",
       "</table>\n",
       "</div>"
      ],
      "text/plain": [
       "       PassengerId  Survived    Pclass       Age     SibSp     Parch      Fare\n",
       "count     891.0000  891.0000  891.0000  891.0000  891.0000  891.0000  891.0000\n",
       "mean      446.0000    0.3838    2.3086   29.3616    0.5230    0.3816   32.2042\n",
       "std       257.3538    0.4866    0.8361   13.0197    1.1027    0.8061   49.6934\n",
       "min         1.0000    0.0000    1.0000    0.4200    0.0000    0.0000    0.0000\n",
       "25%       223.5000    0.0000    2.0000   22.0000    0.0000    0.0000    7.9104\n",
       "50%       446.0000    0.0000    3.0000   28.0000    0.0000    0.0000   14.4542\n",
       "75%       668.5000    1.0000    3.0000   35.0000    1.0000    0.0000   31.0000\n",
       "max       891.0000    1.0000    3.0000   80.0000    8.0000    6.0000  512.3292"
      ]
     },
     "execution_count": 48,
     "metadata": {},
     "output_type": "execute_result"
    }
   ],
   "source": [
    "df.select_dtypes(include=[\"int\", \"float\"]).describe()"
   ]
  },
  {
   "cell_type": "code",
   "execution_count": 53,
   "metadata": {
    "colab": {
     "base_uri": "https://localhost:8080/"
    },
    "executionInfo": {
     "elapsed": 332,
     "status": "ok",
     "timestamp": 1636635310475,
     "user": {
      "displayName": "Александр Аксёнов",
      "photoUrl": "https://lh3.googleusercontent.com/a-/AOh14GgpkPDdBChJz5khG7PXMg_P3ziSIZzWUDpDAjL7KA=s64",
      "userId": "11145992452404092449"
     },
     "user_tz": -300
    },
    "id": "deqriBXbej_C",
    "outputId": "c74937bb-9c44-4af0-f40e-62c23bc59ae0"
   },
   "outputs": [
    {
     "data": {
      "text/plain": [
       "<AxesSubplot:xlabel='Fare'>"
      ]
     },
     "execution_count": 53,
     "metadata": {},
     "output_type": "execute_result"
    },
    {
     "data": {
      "image/png": "[encoded data removed]",
      "text/plain": [
       "<Figure size 432x288 with 1 Axes>"
      ]
     },
     "metadata": {
      "needs_background": "light"
     },
     "output_type": "display_data"
    }
   ],
   "source": [
    "sns.boxplot(x=df[\"Fare\"])"
   ]
  },
  {
   "cell_type": "markdown",
   "metadata": {
    "id": "nmb5O7vgWrnf"
   },
   "source": [
    "# 3. Преобразование признаков"
   ]
  },
  {
   "cell_type": "markdown",
   "metadata": {
    "id": "-L6vJDfGlm-0"
   },
   "source": [
    "Скопируем наш набор данных до преобразований"
   ]
  },
  {
   "cell_type": "code",
   "execution_count": 70,
   "metadata": {
    "colab": {
     "base_uri": "https://localhost:8080/",
     "height": 143
    },
    "executionInfo": {
     "elapsed": 310,
     "status": "ok",
     "timestamp": 1636625679910,
     "user": {
      "displayName": "Александр Аксёнов",
      "photoUrl": "https://lh3.googleusercontent.com/a-/AOh14GgpkPDdBChJz5khG7PXMg_P3ziSIZzWUDpDAjL7KA=s64",
      "userId": "11145992452404092449"
     },
     "user_tz": -300
    },
    "id": "wpFj4TVLEqoi",
    "outputId": "1a5c5f06-7f30-4595-8de0-081bac76184d"
   },
   "outputs": [
    {
     "name": "stdout",
     "output_type": "stream",
     "text": [
      "<class 'pandas.core.frame.DataFrame'>\n",
      "RangeIndex: 891 entries, 0 to 890\n",
      "Data columns (total 10 columns):\n",
      " #   Column    Non-Null Count  Dtype  \n",
      "---  ------    --------------  -----  \n",
      " 0   Survived  891 non-null    int64  \n",
      " 1   Pclass    891 non-null    int64  \n",
      " 2   Sex       891 non-null    object \n",
      " 3   Age       891 non-null    float64\n",
      " 4   SibSp     891 non-null    int64  \n",
      " 5   Parch     891 non-null    int64  \n",
      " 6   Ticket    891 non-null    object \n",
      " 7   Fare      891 non-null    float64\n",
      " 8   Cabin     891 non-null    object \n",
      " 9   Embarked  891 non-null    object \n",
      "dtypes: float64(2), int64(4), object(4)\n",
      "memory usage: 69.7+ KB\n"
     ]
    }
   ],
   "source": [
    "dt = (df\n",
    "      .copy()\n",
    "      .drop(labels=['PassengerId', 'Name'], \n",
    "            axis=1))\n",
    "dt.info()"
   ]
  },
  {
   "cell_type": "markdown",
   "metadata": {
    "id": "j_OKzzgAmiW-"
   },
   "source": [
    "## 3.1 Sex"
   ]
  },
  {
   "cell_type": "code",
   "execution_count": 78,
   "metadata": {
    "colab": {
     "base_uri": "https://localhost:8080/",
     "height": 519
    },
    "executionInfo": {
     "elapsed": 284,
     "status": "ok",
     "timestamp": 1636625767375,
     "user": {
      "displayName": "Александр Аксёнов",
      "photoUrl": "https://lh3.googleusercontent.com/a-/AOh14GgpkPDdBChJz5khG7PXMg_P3ziSIZzWUDpDAjL7KA=s64",
      "userId": "11145992452404092449"
     },
     "user_tz": -300
    },
    "id": "mxDBOuiXhtxP",
    "outputId": "0c8a7020-3bfa-4db0-feda-4de842d187e7"
   },
   "outputs": [
    {
     "data": {
      "text/html": [
       "<div>\n",
       "<style scoped>\n",
       "    .dataframe tbody tr th:only-of-type {\n",
       "        vertical-align: middle;\n",
       "    }\n",
       "\n",
       "    .dataframe tbody tr th {\n",
       "        vertical-align: top;\n",
       "    }\n",
       "\n",
       "    .dataframe thead th {\n",
       "        text-align: right;\n",
       "    }\n",
       "</style>\n",
       "<table border=\"1\" class=\"dataframe\">\n",
       "  <thead>\n",
       "    <tr style=\"text-align: right;\">\n",
       "      <th></th>\n",
       "      <th>Survived</th>\n",
       "      <th>Pclass</th>\n",
       "      <th>IsMale</th>\n",
       "      <th>Age</th>\n",
       "      <th>SibSp</th>\n",
       "      <th>Parch</th>\n",
       "      <th>Ticket</th>\n",
       "      <th>Fare</th>\n",
       "      <th>Cabin</th>\n",
       "      <th>Embarked</th>\n",
       "    </tr>\n",
       "  </thead>\n",
       "  <tbody>\n",
       "    <tr>\n",
       "      <th>0</th>\n",
       "      <td>0</td>\n",
       "      <td>3</td>\n",
       "      <td>male</td>\n",
       "      <td>22.0</td>\n",
       "      <td>1</td>\n",
       "      <td>0</td>\n",
       "      <td>A/5 21171</td>\n",
       "      <td>7.2500</td>\n",
       "      <td>B96 B98</td>\n",
       "      <td>S</td>\n",
       "    </tr>\n",
       "    <tr>\n",
       "      <th>1</th>\n",
       "      <td>1</td>\n",
       "      <td>1</td>\n",
       "      <td>female</td>\n",
       "      <td>38.0</td>\n",
       "      <td>1</td>\n",
       "      <td>0</td>\n",
       "      <td>PC 17599</td>\n",
       "      <td>71.2833</td>\n",
       "      <td>C85</td>\n",
       "      <td>C</td>\n",
       "    </tr>\n",
       "    <tr>\n",
       "      <th>2</th>\n",
       "      <td>1</td>\n",
       "      <td>3</td>\n",
       "      <td>female</td>\n",
       "      <td>26.0</td>\n",
       "      <td>0</td>\n",
       "      <td>0</td>\n",
       "      <td>STON/O2. 3101282</td>\n",
       "      <td>7.9250</td>\n",
       "      <td>B96 B98</td>\n",
       "      <td>S</td>\n",
       "    </tr>\n",
       "    <tr>\n",
       "      <th>3</th>\n",
       "      <td>1</td>\n",
       "      <td>1</td>\n",
       "      <td>female</td>\n",
       "      <td>35.0</td>\n",
       "      <td>1</td>\n",
       "      <td>0</td>\n",
       "      <td>113803</td>\n",
       "      <td>53.1000</td>\n",
       "      <td>C123</td>\n",
       "      <td>S</td>\n",
       "    </tr>\n",
       "    <tr>\n",
       "      <th>4</th>\n",
       "      <td>0</td>\n",
       "      <td>3</td>\n",
       "      <td>male</td>\n",
       "      <td>35.0</td>\n",
       "      <td>0</td>\n",
       "      <td>0</td>\n",
       "      <td>373450</td>\n",
       "      <td>8.0500</td>\n",
       "      <td>B96 B98</td>\n",
       "      <td>S</td>\n",
       "    </tr>\n",
       "    <tr>\n",
       "      <th>...</th>\n",
       "      <td>...</td>\n",
       "      <td>...</td>\n",
       "      <td>...</td>\n",
       "      <td>...</td>\n",
       "      <td>...</td>\n",
       "      <td>...</td>\n",
       "      <td>...</td>\n",
       "      <td>...</td>\n",
       "      <td>...</td>\n",
       "      <td>...</td>\n",
       "    </tr>\n",
       "    <tr>\n",
       "      <th>886</th>\n",
       "      <td>0</td>\n",
       "      <td>2</td>\n",
       "      <td>male</td>\n",
       "      <td>27.0</td>\n",
       "      <td>0</td>\n",
       "      <td>0</td>\n",
       "      <td>211536</td>\n",
       "      <td>13.0000</td>\n",
       "      <td>B96 B98</td>\n",
       "      <td>S</td>\n",
       "    </tr>\n",
       "    <tr>\n",
       "      <th>887</th>\n",
       "      <td>1</td>\n",
       "      <td>1</td>\n",
       "      <td>female</td>\n",
       "      <td>19.0</td>\n",
       "      <td>0</td>\n",
       "      <td>0</td>\n",
       "      <td>112053</td>\n",
       "      <td>30.0000</td>\n",
       "      <td>B42</td>\n",
       "      <td>S</td>\n",
       "    </tr>\n",
       "    <tr>\n",
       "      <th>888</th>\n",
       "      <td>0</td>\n",
       "      <td>3</td>\n",
       "      <td>female</td>\n",
       "      <td>28.0</td>\n",
       "      <td>1</td>\n",
       "      <td>2</td>\n",
       "      <td>W./C. 6607</td>\n",
       "      <td>23.4500</td>\n",
       "      <td>B96 B98</td>\n",
       "      <td>S</td>\n",
       "    </tr>\n",
       "    <tr>\n",
       "      <th>889</th>\n",
       "      <td>1</td>\n",
       "      <td>1</td>\n",
       "      <td>male</td>\n",
       "      <td>26.0</td>\n",
       "      <td>0</td>\n",
       "      <td>0</td>\n",
       "      <td>111369</td>\n",
       "      <td>30.0000</td>\n",
       "      <td>C148</td>\n",
       "      <td>C</td>\n",
       "    </tr>\n",
       "    <tr>\n",
       "      <th>890</th>\n",
       "      <td>0</td>\n",
       "      <td>3</td>\n",
       "      <td>male</td>\n",
       "      <td>32.0</td>\n",
       "      <td>0</td>\n",
       "      <td>0</td>\n",
       "      <td>370376</td>\n",
       "      <td>7.7500</td>\n",
       "      <td>B96 B98</td>\n",
       "      <td>Q</td>\n",
       "    </tr>\n",
       "  </tbody>\n",
       "</table>\n",
       "<p>891 rows × 10 columns</p>\n",
       "</div>"
      ],
      "text/plain": [
       "     Survived  Pclass  IsMale   Age  SibSp  Parch            Ticket     Fare  \\\n",
       "0           0       3    male  22.0      1      0         A/5 21171   7.2500   \n",
       "1           1       1  female  38.0      1      0          PC 17599  71.2833   \n",
       "2           1       3  female  26.0      0      0  STON/O2. 3101282   7.9250   \n",
       "3           1       1  female  35.0      1      0            113803  53.1000   \n",
       "4           0       3    male  35.0      0      0            373450   8.0500   \n",
       "..        ...     ...     ...   ...    ...    ...               ...      ...   \n",
       "886         0       2    male  27.0      0      0            211536  13.0000   \n",
       "887         1       1  female  19.0      0      0            112053  30.0000   \n",
       "888         0       3  female  28.0      1      2        W./C. 6607  23.4500   \n",
       "889         1       1    male  26.0      0      0            111369  30.0000   \n",
       "890         0       3    male  32.0      0      0            370376   7.7500   \n",
       "\n",
       "       Cabin Embarked  \n",
       "0    B96 B98        S  \n",
       "1        C85        C  \n",
       "2    B96 B98        S  \n",
       "3       C123        S  \n",
       "4    B96 B98        S  \n",
       "..       ...      ...  \n",
       "886  B96 B98        S  \n",
       "887      B42        S  \n",
       "888  B96 B98        S  \n",
       "889     C148        C  \n",
       "890  B96 B98        Q  \n",
       "\n",
       "[891 rows x 10 columns]"
      ]
     },
     "execution_count": 78,
     "metadata": {},
     "output_type": "execute_result"
    }
   ],
   "source": [
    "dt.rename(columns={'Sex':'IsMale'}, inplace=True)\n",
    "dt"
   ]
  },
  {
   "cell_type": "code",
   "execution_count": 89,
   "metadata": {},
   "outputs": [
    {
     "data": {
      "text/plain": [
       "count     891\n",
       "unique      2\n",
       "top         1\n",
       "freq      577\n",
       "Name: IsMale, dtype: int64"
      ]
     },
     "execution_count": 89,
     "metadata": {},
     "output_type": "execute_result"
    }
   ],
   "source": [
    "dt.loc[dt['IsMale'] == 'male', 'IsMale'] = 1\n",
    "dt.loc[dt['IsMale'] == 'female', 'IsMale'] = 0\n",
    "dt['IsMale'].describe()"
   ]
  },
  {
   "cell_type": "markdown",
   "metadata": {
    "id": "CYdb_HyBnc-E"
   },
   "source": [
    "## 3.2 Ticket"
   ]
  },
  {
   "cell_type": "code",
   "execution_count": 100,
   "metadata": {
    "colab": {
     "base_uri": "https://localhost:8080/"
    },
    "executionInfo": {
     "elapsed": 20,
     "status": "ok",
     "timestamp": 1636625769462,
     "user": {
      "displayName": "Александр Аксёнов",
      "photoUrl": "https://lh3.googleusercontent.com/a-/AOh14GgpkPDdBChJz5khG7PXMg_P3ziSIZzWUDpDAjL7KA=s64",
      "userId": "11145992452404092449"
     },
     "user_tz": -300
    },
    "id": "epnc7oKihtg8",
    "outputId": "0c722151-9e4a-47f7-c97b-f4d34685bbb0"
   },
   "outputs": [
    {
     "data": {
      "text/plain": [
       "count     891\n",
       "unique    681\n",
       "top        13\n",
       "freq        7\n",
       "Name: Ticket, dtype: int64"
      ]
     },
     "execution_count": 100,
     "metadata": {},
     "output_type": "execute_result"
    }
   ],
   "source": [
    "tickets = pd.unique(dt['Ticket'])\n",
    "for i in range(len(tickets)):\n",
    "    dt.loc[dt['Ticket'] == tickets[i], \n",
    "           'Ticket'] = i\n",
    "\n",
    "dt['Ticket'].describe()"
   ]
  },
  {
   "cell_type": "code",
   "execution_count": 95,
   "metadata": {},
   "outputs": [
    {
     "data": {
      "text/plain": [
       "count     891\n",
       "unique    681\n",
       "top        13\n",
       "freq        7\n",
       "Name: Ticket, dtype: int64"
      ]
     },
     "execution_count": 95,
     "metadata": {},
     "output_type": "execute_result"
    }
   ],
   "source": []
  },
  {
   "cell_type": "code",
   "execution_count": null,
   "metadata": {},
   "outputs": [],
   "source": []
  },
  {
   "cell_type": "markdown",
   "metadata": {
    "id": "O1oGo8x3qXN0"
   },
   "source": [
    "## 3.3 Cabin"
   ]
  },
  {
   "cell_type": "code",
   "execution_count": 96,
   "metadata": {
    "colab": {
     "base_uri": "https://localhost:8080/"
    },
    "executionInfo": {
     "elapsed": 385,
     "status": "ok",
     "timestamp": 1636625771122,
     "user": {
      "displayName": "Александр Аксёнов",
      "photoUrl": "https://lh3.googleusercontent.com/a-/AOh14GgpkPDdBChJz5khG7PXMg_P3ziSIZzWUDpDAjL7KA=s64",
      "userId": "11145992452404092449"
     },
     "user_tz": -300
    },
    "id": "404Yw0EboMrh",
    "outputId": "ba66fbef-057a-458d-ec11-22fb736b8850"
   },
   "outputs": [
    {
     "data": {
      "text/plain": [
       "count     891\n",
       "unique    147\n",
       "top         0\n",
       "freq      691\n",
       "Name: Cabin, dtype: int64"
      ]
     },
     "execution_count": 96,
     "metadata": {},
     "output_type": "execute_result"
    }
   ],
   "source": [
    "cabins = pd.unique(dt['Cabin'])\n",
    "for i in range(len(cabins)):\n",
    "    dt.loc[dt['Cabin'] == cabins[i], \n",
    "           'Cabin'] = i\n",
    "\n",
    "dt['Cabin'].describe()"
   ]
  },
  {
   "cell_type": "markdown",
   "metadata": {
    "id": "sH1avRRhrWF2"
   },
   "source": [
    "## 3.4 Embarked"
   ]
  },
  {
   "cell_type": "code",
   "execution_count": 97,
   "metadata": {
    "colab": {
     "base_uri": "https://localhost:8080/"
    },
    "executionInfo": {
     "elapsed": 5,
     "status": "ok",
     "timestamp": 1636625772508,
     "user": {
      "displayName": "Александр Аксёнов",
      "photoUrl": "https://lh3.googleusercontent.com/a-/AOh14GgpkPDdBChJz5khG7PXMg_P3ziSIZzWUDpDAjL7KA=s64",
      "userId": "11145992452404092449"
     },
     "user_tz": -300
    },
    "id": "UgGK5-NMoMi5",
    "outputId": "984b52b8-264e-4084-bde9-f827abf29420"
   },
   "outputs": [
    {
     "data": {
      "text/plain": [
       "count     891\n",
       "unique      3\n",
       "top         0\n",
       "freq      646\n",
       "Name: Embarked, dtype: int64"
      ]
     },
     "execution_count": 97,
     "metadata": {},
     "output_type": "execute_result"
    }
   ],
   "source": [
    "embarked = pd.unique(dt['Embarked'])\n",
    "for i in range(len(embarked)):\n",
    "    dt.loc[dt['Embarked'] == embarked[i], \n",
    "           'Embarked'] = i\n",
    "\n",
    "dt['Embarked'].describe()"
   ]
  },
  {
   "cell_type": "code",
   "execution_count": 108,
   "metadata": {
    "colab": {
     "base_uri": "https://localhost:8080/"
    },
    "executionInfo": {
     "elapsed": 28,
     "status": "ok",
     "timestamp": 1636625777489,
     "user": {
      "displayName": "Александр Аксёнов",
      "photoUrl": "https://lh3.googleusercontent.com/a-/AOh14GgpkPDdBChJz5khG7PXMg_P3ziSIZzWUDpDAjL7KA=s64",
      "userId": "11145992452404092449"
     },
     "user_tz": -300
    },
    "id": "ZLd231Hsu2PG",
    "outputId": "1e32328e-4dc6-477a-d886-73b6a25232ac"
   },
   "outputs": [
    {
     "name": "stdout",
     "output_type": "stream",
     "text": [
      "<class 'pandas.core.frame.DataFrame'>\n",
      "Int64Index: 891 entries, 0 to 890\n",
      "Data columns (total 10 columns):\n",
      " #   Column    Non-Null Count  Dtype  \n",
      "---  ------    --------------  -----  \n",
      " 0   Survived  891 non-null    int64  \n",
      " 1   Pclass    891 non-null    int64  \n",
      " 2   IsMale    891 non-null    int64  \n",
      " 3   Age       891 non-null    float64\n",
      " 4   SibSp     891 non-null    int64  \n",
      " 5   Parch     891 non-null    int64  \n",
      " 6   Ticket    891 non-null    int64  \n",
      " 7   Fare      891 non-null    float64\n",
      " 8   Cabin     891 non-null    int64  \n",
      " 9   Embarked  891 non-null    int64  \n",
      "dtypes: float64(2), int64(8)\n",
      "memory usage: 108.9 KB\n"
     ]
    }
   ],
   "source": [
    "obj_columns = [\n",
    "    'IsMale', 'Ticket', 'Cabin', 'Embarked']\n",
    "dt[obj_columns] = (\n",
    "    dt[obj_columns].apply(pd.to_numeric))\n",
    "dt.info()"
   ]
  },
  {
   "cell_type": "markdown",
   "metadata": {
    "id": "yzb09-GB33KV"
   },
   "source": [
    "## 3.9 Шкалирование данных"
   ]
  },
  {
   "cell_type": "code",
   "execution_count": 109,
   "metadata": {
    "colab": {
     "base_uri": "https://localhost:8080/"
    },
    "executionInfo": {
     "elapsed": 284,
     "status": "ok",
     "timestamp": 1636625972682,
     "user": {
      "displayName": "Александр Аксёнов",
      "photoUrl": "https://lh3.googleusercontent.com/a-/AOh14GgpkPDdBChJz5khG7PXMg_P3ziSIZzWUDpDAjL7KA=s64",
      "userId": "11145992452404092449"
     },
     "user_tz": -300
    },
    "id": "J6addwKN39MT",
    "outputId": "ab0eb805-922c-40e0-9fe7-6438aa73ca01"
   },
   "outputs": [
    {
     "data": {
      "text/plain": [
       "array([[-0.78927234,  0.82737724,  0.73769513, ..., -0.50244517,\n",
       "        -0.43758829, -0.56883712],\n",
       "       [ 1.2669898 , -1.56610693, -1.35557354, ...,  0.78684529,\n",
       "        -0.40861087,  1.00518113],\n",
       "       [ 1.2669898 ,  0.82737724, -1.35557354, ..., -0.48885426,\n",
       "        -0.43758829, -0.56883712],\n",
       "       ...,\n",
       "       [-0.78927234,  0.82737724, -1.35557354, ..., -0.17626324,\n",
       "        -0.43758829, -0.56883712],\n",
       "       [ 1.2669898 , -1.56610693,  0.73769513, ..., -0.04438104,\n",
       "         3.79311479,  1.00518113],\n",
       "       [-0.78927234,  0.82737724,  0.73769513, ..., -0.49237783,\n",
       "        -0.43758829,  2.57919938]])"
      ]
     },
     "execution_count": 109,
     "metadata": {},
     "output_type": "execute_result"
    }
   ],
   "source": [
    "sc = StandardScaler()\n",
    "X_ = sc.fit_transform(dt.select_dtypes(exclude=(object)))\n",
    "X_"
   ]
  },
  {
   "cell_type": "code",
   "execution_count": 110,
   "metadata": {
    "colab": {
     "base_uri": "https://localhost:8080/"
    },
    "executionInfo": {
     "elapsed": 441,
     "status": "ok",
     "timestamp": 1636626119750,
     "user": {
      "displayName": "Александр Аксёнов",
      "photoUrl": "https://lh3.googleusercontent.com/a-/AOh14GgpkPDdBChJz5khG7PXMg_P3ziSIZzWUDpDAjL7KA=s64",
      "userId": "11145992452404092449"
     },
     "user_tz": -300
    },
    "id": "G-G1pYzuf52K",
    "outputId": "a1493da4-516d-4bb3-da44-8c597134cc0f"
   },
   "outputs": [
    {
     "data": {
      "text/plain": [
       "array([[  0.        ,   0.        ,   0.        , ...,  -0.3120106 ,\n",
       "          0.        ,   0.        ],\n",
       "       [  1.        ,  -2.        ,  -1.        , ...,   2.46124229,\n",
       "          1.        ,   1.        ],\n",
       "       [  1.        ,   0.        ,  -1.        , ...,  -0.28277666,\n",
       "          0.        ,   0.        ],\n",
       "       ...,\n",
       "       [  0.        ,   0.        ,  -1.        , ...,   0.38960398,\n",
       "          0.        ,   0.        ],\n",
       "       [  1.        ,  -2.        ,   0.        , ...,   0.67328148,\n",
       "        146.        ,   1.        ],\n",
       "       [  0.        ,   0.        ,   0.        , ...,  -0.29035583,\n",
       "          0.        ,   2.        ]])"
      ]
     },
     "execution_count": 110,
     "metadata": {},
     "output_type": "execute_result"
    }
   ],
   "source": [
    "rs = RobustScaler()\n",
    "Xr = rs.fit_transform(dt.select_dtypes(exclude=(object)))\n",
    "Xr"
   ]
  },
  {
   "cell_type": "markdown",
   "metadata": {
    "id": "42BdBkmJW29x"
   },
   "source": [
    "# 4. Baseline решение"
   ]
  },
  {
   "cell_type": "markdown",
   "metadata": {
    "id": "APcKwPUddmDr"
   },
   "source": [
    "## 4.1. Решение без преобразования признаков. На тех столбцах,которые можно использовать исходно"
   ]
  },
  {
   "cell_type": "markdown",
   "metadata": {
    "id": "oN1SySQ4gYLy"
   },
   "source": [
    "Разделение набора данных на матрицу признаков `X` и целевой признак `y`"
   ]
  },
  {
   "cell_type": "code",
   "execution_count": 116,
   "metadata": {
    "id": "KI27m7L6fKuH"
   },
   "outputs": [],
   "source": [
    "X = (df\n",
    "     .select_dtypes(include=(int, float))\n",
    "     .drop(labels='Survived', axis=1))\n",
    "y = df['Survived']"
   ]
  },
  {
   "cell_type": "code",
   "execution_count": 117,
   "metadata": {
    "colab": {
     "base_uri": "https://localhost:8080/",
     "height": 423
    },
    "executionInfo": {
     "elapsed": 4,
     "status": "ok",
     "timestamp": 1636625858974,
     "user": {
      "displayName": "Александр Аксёнов",
      "photoUrl": "https://lh3.googleusercontent.com/a-/AOh14GgpkPDdBChJz5khG7PXMg_P3ziSIZzWUDpDAjL7KA=s64",
      "userId": "11145992452404092449"
     },
     "user_tz": -300
    },
    "id": "uOCqqGrMKo0C",
    "outputId": "e79c1e14-f905-4f13-9bdc-ad4df2822c5d"
   },
   "outputs": [
    {
     "data": {
      "text/html": [
       "<div>\n",
       "<style scoped>\n",
       "    .dataframe tbody tr th:only-of-type {\n",
       "        vertical-align: middle;\n",
       "    }\n",
       "\n",
       "    .dataframe tbody tr th {\n",
       "        vertical-align: top;\n",
       "    }\n",
       "\n",
       "    .dataframe thead th {\n",
       "        text-align: right;\n",
       "    }\n",
       "</style>\n",
       "<table border=\"1\" class=\"dataframe\">\n",
       "  <thead>\n",
       "    <tr style=\"text-align: right;\">\n",
       "      <th></th>\n",
       "      <th>PassengerId</th>\n",
       "      <th>Pclass</th>\n",
       "      <th>Age</th>\n",
       "      <th>SibSp</th>\n",
       "      <th>Parch</th>\n",
       "      <th>Fare</th>\n",
       "    </tr>\n",
       "  </thead>\n",
       "  <tbody>\n",
       "    <tr>\n",
       "      <th>0</th>\n",
       "      <td>1</td>\n",
       "      <td>3</td>\n",
       "      <td>22.0</td>\n",
       "      <td>1</td>\n",
       "      <td>0</td>\n",
       "      <td>7.2500</td>\n",
       "    </tr>\n",
       "    <tr>\n",
       "      <th>1</th>\n",
       "      <td>2</td>\n",
       "      <td>1</td>\n",
       "      <td>38.0</td>\n",
       "      <td>1</td>\n",
       "      <td>0</td>\n",
       "      <td>71.2833</td>\n",
       "    </tr>\n",
       "    <tr>\n",
       "      <th>2</th>\n",
       "      <td>3</td>\n",
       "      <td>3</td>\n",
       "      <td>26.0</td>\n",
       "      <td>0</td>\n",
       "      <td>0</td>\n",
       "      <td>7.9250</td>\n",
       "    </tr>\n",
       "    <tr>\n",
       "      <th>3</th>\n",
       "      <td>4</td>\n",
       "      <td>1</td>\n",
       "      <td>35.0</td>\n",
       "      <td>1</td>\n",
       "      <td>0</td>\n",
       "      <td>53.1000</td>\n",
       "    </tr>\n",
       "    <tr>\n",
       "      <th>4</th>\n",
       "      <td>5</td>\n",
       "      <td>3</td>\n",
       "      <td>35.0</td>\n",
       "      <td>0</td>\n",
       "      <td>0</td>\n",
       "      <td>8.0500</td>\n",
       "    </tr>\n",
       "    <tr>\n",
       "      <th>...</th>\n",
       "      <td>...</td>\n",
       "      <td>...</td>\n",
       "      <td>...</td>\n",
       "      <td>...</td>\n",
       "      <td>...</td>\n",
       "      <td>...</td>\n",
       "    </tr>\n",
       "    <tr>\n",
       "      <th>886</th>\n",
       "      <td>887</td>\n",
       "      <td>2</td>\n",
       "      <td>27.0</td>\n",
       "      <td>0</td>\n",
       "      <td>0</td>\n",
       "      <td>13.0000</td>\n",
       "    </tr>\n",
       "    <tr>\n",
       "      <th>887</th>\n",
       "      <td>888</td>\n",
       "      <td>1</td>\n",
       "      <td>19.0</td>\n",
       "      <td>0</td>\n",
       "      <td>0</td>\n",
       "      <td>30.0000</td>\n",
       "    </tr>\n",
       "    <tr>\n",
       "      <th>888</th>\n",
       "      <td>889</td>\n",
       "      <td>3</td>\n",
       "      <td>28.0</td>\n",
       "      <td>1</td>\n",
       "      <td>2</td>\n",
       "      <td>23.4500</td>\n",
       "    </tr>\n",
       "    <tr>\n",
       "      <th>889</th>\n",
       "      <td>890</td>\n",
       "      <td>1</td>\n",
       "      <td>26.0</td>\n",
       "      <td>0</td>\n",
       "      <td>0</td>\n",
       "      <td>30.0000</td>\n",
       "    </tr>\n",
       "    <tr>\n",
       "      <th>890</th>\n",
       "      <td>891</td>\n",
       "      <td>3</td>\n",
       "      <td>32.0</td>\n",
       "      <td>0</td>\n",
       "      <td>0</td>\n",
       "      <td>7.7500</td>\n",
       "    </tr>\n",
       "  </tbody>\n",
       "</table>\n",
       "<p>891 rows × 6 columns</p>\n",
       "</div>"
      ],
      "text/plain": [
       "     PassengerId  Pclass   Age  SibSp  Parch     Fare\n",
       "0              1       3  22.0      1      0   7.2500\n",
       "1              2       1  38.0      1      0  71.2833\n",
       "2              3       3  26.0      0      0   7.9250\n",
       "3              4       1  35.0      1      0  53.1000\n",
       "4              5       3  35.0      0      0   8.0500\n",
       "..           ...     ...   ...    ...    ...      ...\n",
       "886          887       2  27.0      0      0  13.0000\n",
       "887          888       1  19.0      0      0  30.0000\n",
       "888          889       3  28.0      1      2  23.4500\n",
       "889          890       1  26.0      0      0  30.0000\n",
       "890          891       3  32.0      0      0   7.7500\n",
       "\n",
       "[891 rows x 6 columns]"
      ]
     },
     "execution_count": 117,
     "metadata": {},
     "output_type": "execute_result"
    }
   ],
   "source": [
    "X"
   ]
  },
  {
   "cell_type": "markdown",
   "metadata": {
    "id": "5OhiQ-qNgjnf"
   },
   "source": [
    "Разделение набора данных на тренировочный и тестовый наборы"
   ]
  },
  {
   "cell_type": "code",
   "execution_count": 118,
   "metadata": {
    "colab": {
     "base_uri": "https://localhost:8080/"
    },
    "executionInfo": {
     "elapsed": 287,
     "status": "ok",
     "timestamp": 1636625862042,
     "user": {
      "displayName": "Александр Аксёнов",
      "photoUrl": "https://lh3.googleusercontent.com/a-/AOh14GgpkPDdBChJz5khG7PXMg_P3ziSIZzWUDpDAjL7KA=s64",
      "userId": "11145992452404092449"
     },
     "user_tz": -300
    },
    "id": "g7Z5bAAWEqjE",
    "outputId": "e6dcd47e-af4b-41e0-ee32-cf61ff7037f5"
   },
   "outputs": [
    {
     "data": {
      "text/plain": [
       "((712, 6), (179, 6), (712,), (179,))"
      ]
     },
     "execution_count": 118,
     "metadata": {},
     "output_type": "execute_result"
    }
   ],
   "source": [
    "X_train, X_test, y_train, y_test = train_test_split(X, y, test_size=0.2, random_state=42, shuffle=True, stratify=y)\n",
    "X_train.shape, X_test.shape, y_train.shape, y_test.shape"
   ]
  },
  {
   "cell_type": "markdown",
   "metadata": {
    "id": "GoJbP9_jgr4o"
   },
   "source": [
    "Проверяем, что баланс классов в тренировочном и тестовом наборах совпадают с исходным баласном"
   ]
  },
  {
   "cell_type": "code",
   "execution_count": 119,
   "metadata": {
    "colab": {
     "base_uri": "https://localhost:8080/"
    },
    "executionInfo": {
     "elapsed": 308,
     "status": "ok",
     "timestamp": 1636625867046,
     "user": {
      "displayName": "Александр Аксёнов",
      "photoUrl": "https://lh3.googleusercontent.com/a-/AOh14GgpkPDdBChJz5khG7PXMg_P3ziSIZzWUDpDAjL7KA=s64",
      "userId": "11145992452404092449"
     },
     "user_tz": -300
    },
    "id": "0ViwlerYfy-b",
    "outputId": "7d387cd3-406e-4cef-ad29-1ffb61c31ca9"
   },
   "outputs": [
    {
     "data": {
      "text/plain": [
       "0    0.6166\n",
       "1    0.3834\n",
       "Name: Survived, dtype: float64"
      ]
     },
     "execution_count": 119,
     "metadata": {},
     "output_type": "execute_result"
    }
   ],
   "source": [
    "y_train.value_counts(normalize=True)"
   ]
  },
  {
   "cell_type": "code",
   "execution_count": 120,
   "metadata": {
    "colab": {
     "base_uri": "https://localhost:8080/"
    },
    "executionInfo": {
     "elapsed": 284,
     "status": "ok",
     "timestamp": 1636625871587,
     "user": {
      "displayName": "Александр Аксёнов",
      "photoUrl": "https://lh3.googleusercontent.com/a-/AOh14GgpkPDdBChJz5khG7PXMg_P3ziSIZzWUDpDAjL7KA=s64",
      "userId": "11145992452404092449"
     },
     "user_tz": -300
    },
    "id": "o71FGFjUf-Lf",
    "outputId": "7f200b94-da18-4989-93c2-d9af0ce988fa"
   },
   "outputs": [
    {
     "data": {
      "text/plain": [
       "0    0.6145\n",
       "1    0.3855\n",
       "Name: Survived, dtype: float64"
      ]
     },
     "execution_count": 120,
     "metadata": {},
     "output_type": "execute_result"
    }
   ],
   "source": [
    "y_test.value_counts(normalize=True)"
   ]
  },
  {
   "cell_type": "markdown",
   "metadata": {
    "id": "J1Ct4SW4hCXm"
   },
   "source": [
    "Создаем, обучаем и проверяем модель на тренировочном наборе данных"
   ]
  },
  {
   "cell_type": "code",
   "execution_count": 121,
   "metadata": {
    "colab": {
     "base_uri": "https://localhost:8080/"
    },
    "executionInfo": {
     "elapsed": 775,
     "status": "ok",
     "timestamp": 1636625882256,
     "user": {
      "displayName": "Александр Аксёнов",
      "photoUrl": "https://lh3.googleusercontent.com/a-/AOh14GgpkPDdBChJz5khG7PXMg_P3ziSIZzWUDpDAjL7KA=s64",
      "userId": "11145992452404092449"
     },
     "user_tz": -300
    },
    "id": "EhzPF9a1fpar",
    "outputId": "2be4cebe-47b6-43c0-d364-346264b2f969"
   },
   "outputs": [
    {
     "data": {
      "text/plain": [
       "0.7134831460674157"
      ]
     },
     "execution_count": 121,
     "metadata": {},
     "output_type": "execute_result"
    }
   ],
   "source": [
    "logreg = LogisticRegression(random_state=42)\n",
    "logreg.fit(X_train, y_train)\n",
    "logreg.score(X_train, y_train)"
   ]
  },
  {
   "cell_type": "markdown",
   "metadata": {
    "id": "KNS1um32hL7W"
   },
   "source": [
    "Оцениваем качество модели на тестовом наборе, который модель не видела при обучении"
   ]
  },
  {
   "cell_type": "code",
   "execution_count": 122,
   "metadata": {
    "colab": {
     "base_uri": "https://localhost:8080/"
    },
    "executionInfo": {
     "elapsed": 276,
     "status": "ok",
     "timestamp": 1636625892499,
     "user": {
      "displayName": "Александр Аксёнов",
      "photoUrl": "https://lh3.googleusercontent.com/a-/AOh14GgpkPDdBChJz5khG7PXMg_P3ziSIZzWUDpDAjL7KA=s64",
      "userId": "11145992452404092449"
     },
     "user_tz": -300
    },
    "id": "eMi-BEbUgQEs",
    "outputId": "fd18899c-963e-420c-e403-7bfe1a1c4430"
   },
   "outputs": [
    {
     "data": {
      "text/plain": [
       "0.6759776536312849"
      ]
     },
     "execution_count": 122,
     "metadata": {},
     "output_type": "execute_result"
    }
   ],
   "source": [
    "logreg.score(X_test, y_test)"
   ]
  },
  {
   "cell_type": "markdown",
   "metadata": {
    "id": "3LrBUhfThSuj"
   },
   "source": [
    "Так как качество модели на тестовых данных не уменьшилось, то можно сказать, что модель не переобучилась и обрела достаточно хорошую обощающую способность.\n",
    "\n",
    "Но качество 79% не идеально! Давайте попробуем улучшить"
   ]
  },
  {
   "cell_type": "markdown",
   "metadata": {
    "id": "QaznDKFNv6jw"
   },
   "source": [
    "## 4.2. Решение c преобразованиtv признаков. Но без шкалирования признаков"
   ]
  },
  {
   "cell_type": "markdown",
   "metadata": {
    "id": "ww05ngRSwN_M"
   },
   "source": [
    "Разделение набора данных на матрицу признаков `X` и целевой признак `y`"
   ]
  },
  {
   "cell_type": "code",
   "execution_count": 130,
   "metadata": {
    "id": "N9CTFpTZwN_P"
   },
   "outputs": [],
   "source": [
    "X = dt.drop(labels='Survived', axis=1)\n",
    "y = dt['Survived']"
   ]
  },
  {
   "cell_type": "code",
   "execution_count": 131,
   "metadata": {
    "colab": {
     "base_uri": "https://localhost:8080/",
     "height": 423
    },
    "executionInfo": {
     "elapsed": 4,
     "status": "ok",
     "timestamp": 1636625898892,
     "user": {
      "displayName": "Александр Аксёнов",
      "photoUrl": "https://lh3.googleusercontent.com/a-/AOh14GgpkPDdBChJz5khG7PXMg_P3ziSIZzWUDpDAjL7KA=s64",
      "userId": "11145992452404092449"
     },
     "user_tz": -300
    },
    "id": "9HJ-_E43LcWO",
    "outputId": "6f845160-7dae-480d-cb29-e49c2a060548"
   },
   "outputs": [
    {
     "name": "stdout",
     "output_type": "stream",
     "text": [
      "<class 'pandas.core.frame.DataFrame'>\n",
      "Int64Index: 891 entries, 0 to 890\n",
      "Data columns (total 9 columns):\n",
      " #   Column    Non-Null Count  Dtype  \n",
      "---  ------    --------------  -----  \n",
      " 0   Pclass    891 non-null    int64  \n",
      " 1   IsMale    891 non-null    int64  \n",
      " 2   Age       891 non-null    float64\n",
      " 3   SibSp     891 non-null    int64  \n",
      " 4   Parch     891 non-null    int64  \n",
      " 5   Ticket    891 non-null    int64  \n",
      " 6   Fare      891 non-null    float64\n",
      " 7   Cabin     891 non-null    int64  \n",
      " 8   Embarked  891 non-null    int64  \n",
      "dtypes: float64(2), int64(7)\n",
      "memory usage: 101.9 KB\n"
     ]
    }
   ],
   "source": [
    "X.info()"
   ]
  },
  {
   "cell_type": "markdown",
   "metadata": {
    "id": "1KKneaxqwN_T"
   },
   "source": [
    "Разделение набора данных на тренировочный и тестовый наборы"
   ]
  },
  {
   "cell_type": "code",
   "execution_count": 132,
   "metadata": {
    "colab": {
     "base_uri": "https://localhost:8080/"
    },
    "executionInfo": {
     "elapsed": 321,
     "status": "ok",
     "timestamp": 1636625918865,
     "user": {
      "displayName": "Александр Аксёнов",
      "photoUrl": "https://lh3.googleusercontent.com/a-/AOh14GgpkPDdBChJz5khG7PXMg_P3ziSIZzWUDpDAjL7KA=s64",
      "userId": "11145992452404092449"
     },
     "user_tz": -300
    },
    "id": "b965Hg8zwN_U",
    "outputId": "79856aca-6fbe-4082-86f3-f8993b9505fc"
   },
   "outputs": [
    {
     "data": {
      "text/plain": [
       "((712, 9), (179, 9), (712,), (179,))"
      ]
     },
     "execution_count": 132,
     "metadata": {},
     "output_type": "execute_result"
    }
   ],
   "source": [
    "X_train, X_test, y_train, y_test = train_test_split(X, y, test_size=0.2, random_state=42, shuffle=True, stratify=y)\n",
    "X_train.shape, X_test.shape, y_train.shape, y_test.shape"
   ]
  },
  {
   "cell_type": "markdown",
   "metadata": {
    "id": "crEJ7-ZgwN_X"
   },
   "source": [
    "Проверяем, что баланс классов в тренировочном и тестовом наборах совпадают с исходным баласном"
   ]
  },
  {
   "cell_type": "code",
   "execution_count": 133,
   "metadata": {
    "colab": {
     "base_uri": "https://localhost:8080/"
    },
    "executionInfo": {
     "elapsed": 296,
     "status": "ok",
     "timestamp": 1636625922272,
     "user": {
      "displayName": "Александр Аксёнов",
      "photoUrl": "https://lh3.googleusercontent.com/a-/AOh14GgpkPDdBChJz5khG7PXMg_P3ziSIZzWUDpDAjL7KA=s64",
      "userId": "11145992452404092449"
     },
     "user_tz": -300
    },
    "id": "ZkVQejHBwN_Y",
    "outputId": "183965f8-9dce-4f83-a4fb-b131994d2025"
   },
   "outputs": [
    {
     "data": {
      "text/plain": [
       "0    0.6166\n",
       "1    0.3834\n",
       "Name: Survived, dtype: float64"
      ]
     },
     "execution_count": 133,
     "metadata": {},
     "output_type": "execute_result"
    }
   ],
   "source": [
    "y_train.value_counts(normalize=True)"
   ]
  },
  {
   "cell_type": "code",
   "execution_count": 134,
   "metadata": {
    "colab": {
     "base_uri": "https://localhost:8080/"
    },
    "executionInfo": {
     "elapsed": 283,
     "status": "ok",
     "timestamp": 1636625925379,
     "user": {
      "displayName": "Александр Аксёнов",
      "photoUrl": "https://lh3.googleusercontent.com/a-/AOh14GgpkPDdBChJz5khG7PXMg_P3ziSIZzWUDpDAjL7KA=s64",
      "userId": "11145992452404092449"
     },
     "user_tz": -300
    },
    "id": "l6_ePFxewN_a",
    "outputId": "f79d72ad-14c7-430b-ba6d-39b4f7428f88"
   },
   "outputs": [
    {
     "data": {
      "text/plain": [
       "0    0.6145\n",
       "1    0.3855\n",
       "Name: Survived, dtype: float64"
      ]
     },
     "execution_count": 134,
     "metadata": {},
     "output_type": "execute_result"
    }
   ],
   "source": [
    "y_test.value_counts(normalize=True)"
   ]
  },
  {
   "cell_type": "markdown",
   "metadata": {
    "id": "WhiXiK4LwN_c"
   },
   "source": [
    "Создаем, обучаем и проверяем модель на тренировочном наборе данных"
   ]
  },
  {
   "cell_type": "code",
   "execution_count": 137,
   "metadata": {
    "colab": {
     "base_uri": "https://localhost:8080/"
    },
    "executionInfo": {
     "elapsed": 1058,
     "status": "ok",
     "timestamp": 1636625930606,
     "user": {
      "displayName": "Александр Аксёнов",
      "photoUrl": "https://lh3.googleusercontent.com/a-/AOh14GgpkPDdBChJz5khG7PXMg_P3ziSIZzWUDpDAjL7KA=s64",
      "userId": "11145992452404092449"
     },
     "user_tz": -300
    },
    "id": "7YumKw2hwN_d",
    "outputId": "22444071-f619-4fac-f6a9-a82bfa6910ed"
   },
   "outputs": [
    {
     "data": {
      "text/plain": [
       "0.800561797752809"
      ]
     },
     "execution_count": 137,
     "metadata": {},
     "output_type": "execute_result"
    }
   ],
   "source": [
    "logreg = LogisticRegression(random_state=42)\n",
    "logreg.max_iter = 1000\n",
    "logreg.fit(X_train, y_train)\n",
    "logreg.score(X_train, y_train)"
   ]
  },
  {
   "cell_type": "markdown",
   "metadata": {
    "id": "KCLdMO-nwN_g"
   },
   "source": [
    "Оцениваем качество модели на тестовом наборе, который модель не видела при обучении"
   ]
  },
  {
   "cell_type": "code",
   "execution_count": 138,
   "metadata": {
    "colab": {
     "base_uri": "https://localhost:8080/"
    },
    "executionInfo": {
     "elapsed": 285,
     "status": "ok",
     "timestamp": 1636625933267,
     "user": {
      "displayName": "Александр Аксёнов",
      "photoUrl": "https://lh3.googleusercontent.com/a-/AOh14GgpkPDdBChJz5khG7PXMg_P3ziSIZzWUDpDAjL7KA=s64",
      "userId": "11145992452404092449"
     },
     "user_tz": -300
    },
    "id": "tDwxrP4BwN_h",
    "outputId": "06db4915-f384-48fa-d33a-afe5fa3a83aa"
   },
   "outputs": [
    {
     "data": {
      "text/plain": [
       "0.8100558659217877"
      ]
     },
     "execution_count": 138,
     "metadata": {},
     "output_type": "execute_result"
    }
   ],
   "source": [
    "logreg.score(X_test, y_test)"
   ]
  },
  {
   "cell_type": "markdown",
   "metadata": {
    "id": "OGwAt6uJ4xoI"
   },
   "source": [
    "## 4.3. Шкалированные данные"
   ]
  },
  {
   "cell_type": "markdown",
   "metadata": {
    "id": "sHTsJDqdgukp"
   },
   "source": [
    "### StandartScaller"
   ]
  },
  {
   "cell_type": "markdown",
   "metadata": {
    "id": "g7XMJK6H4-OB"
   },
   "source": [
    "Разделение набора данных на тренировочный и тестовый наборы"
   ]
  },
  {
   "cell_type": "code",
   "execution_count": 139,
   "metadata": {
    "colab": {
     "base_uri": "https://localhost:8080/"
    },
    "executionInfo": {
     "elapsed": 285,
     "status": "ok",
     "timestamp": 1636631469264,
     "user": {
      "displayName": "Александр Аксёнов",
      "photoUrl": "https://lh3.googleusercontent.com/a-/AOh14GgpkPDdBChJz5khG7PXMg_P3ziSIZzWUDpDAjL7KA=s64",
      "userId": "11145992452404092449"
     },
     "user_tz": -300
    },
    "id": "F4htRMkH4-OF",
    "outputId": "d15a5660-2135-4f04-9ad7-e72f14035266"
   },
   "outputs": [
    {
     "data": {
      "text/plain": [
       "((712, 10), (179, 10), (712,), (179,))"
      ]
     },
     "execution_count": 139,
     "metadata": {},
     "output_type": "execute_result"
    }
   ],
   "source": [
    "X_train, X_test, y_train, y_test = train_test_split(X_, y, test_size=0.2, random_state=42, shuffle=True, stratify=y)\n",
    "X_train.shape, X_test.shape, y_train.shape, y_test.shape"
   ]
  },
  {
   "cell_type": "markdown",
   "metadata": {
    "id": "tQZZgEYf4-OI"
   },
   "source": [
    "Проверяем, что баланс классов в тренировочном и тестовом наборах совпадают с исходным баласном"
   ]
  },
  {
   "cell_type": "code",
   "execution_count": 140,
   "metadata": {
    "colab": {
     "base_uri": "https://localhost:8080/"
    },
    "executionInfo": {
     "elapsed": 302,
     "status": "ok",
     "timestamp": 1636631471681,
     "user": {
      "displayName": "Александр Аксёнов",
      "photoUrl": "https://lh3.googleusercontent.com/a-/AOh14GgpkPDdBChJz5khG7PXMg_P3ziSIZzWUDpDAjL7KA=s64",
      "userId": "11145992452404092449"
     },
     "user_tz": -300
    },
    "id": "N-dh-c3w4-OL",
    "outputId": "7e91b6e2-718a-45e1-d43e-628f86104d06"
   },
   "outputs": [
    {
     "data": {
      "text/plain": [
       "0    0.6166\n",
       "1    0.3834\n",
       "Name: Survived, dtype: float64"
      ]
     },
     "execution_count": 140,
     "metadata": {},
     "output_type": "execute_result"
    }
   ],
   "source": [
    "y_train.value_counts(normalize=True)"
   ]
  },
  {
   "cell_type": "code",
   "execution_count": 141,
   "metadata": {
    "colab": {
     "base_uri": "https://localhost:8080/"
    },
    "executionInfo": {
     "elapsed": 3,
     "status": "ok",
     "timestamp": 1636631472519,
     "user": {
      "displayName": "Александр Аксёнов",
      "photoUrl": "https://lh3.googleusercontent.com/a-/AOh14GgpkPDdBChJz5khG7PXMg_P3ziSIZzWUDpDAjL7KA=s64",
      "userId": "11145992452404092449"
     },
     "user_tz": -300
    },
    "id": "472-F8rz4-OO",
    "outputId": "1675a845-67ed-44e5-e130-b558e0a1231f"
   },
   "outputs": [
    {
     "data": {
      "text/plain": [
       "0    0.6145\n",
       "1    0.3855\n",
       "Name: Survived, dtype: float64"
      ]
     },
     "execution_count": 141,
     "metadata": {},
     "output_type": "execute_result"
    }
   ],
   "source": [
    "y_test.value_counts(normalize=True)"
   ]
  },
  {
   "cell_type": "markdown",
   "metadata": {
    "id": "_aCb_jo44-OR"
   },
   "source": [
    "Создаем, обучаем и проверяем модель на тренировочном наборе данных"
   ]
  },
  {
   "cell_type": "code",
   "execution_count": 142,
   "metadata": {
    "colab": {
     "base_uri": "https://localhost:8080/"
    },
    "executionInfo": {
     "elapsed": 668,
     "status": "ok",
     "timestamp": 1636631475113,
     "user": {
      "displayName": "Александр Аксёнов",
      "photoUrl": "https://lh3.googleusercontent.com/a-/AOh14GgpkPDdBChJz5khG7PXMg_P3ziSIZzWUDpDAjL7KA=s64",
      "userId": "11145992452404092449"
     },
     "user_tz": -300
    },
    "id": "hptOfjmA4-OU",
    "outputId": "73fced28-121c-49cd-b050-56b22d71dccf"
   },
   "outputs": [
    {
     "data": {
      "text/plain": [
       "1.0"
      ]
     },
     "execution_count": 142,
     "metadata": {},
     "output_type": "execute_result"
    }
   ],
   "source": [
    "logreg = LogisticRegression(random_state=42)\n",
    "logreg.fit(X_train, y_train)\n",
    "logreg.score(X_train, y_train)"
   ]
  },
  {
   "cell_type": "markdown",
   "metadata": {
    "id": "UTWM5Zwh4-OW"
   },
   "source": [
    "Оцениваем качество модели на тестовом наборе, который модель не видела при обучении"
   ]
  },
  {
   "cell_type": "code",
   "execution_count": 143,
   "metadata": {
    "colab": {
     "base_uri": "https://localhost:8080/"
    },
    "executionInfo": {
     "elapsed": 4,
     "status": "ok",
     "timestamp": 1636631476218,
     "user": {
      "displayName": "Александр Аксёнов",
      "photoUrl": "https://lh3.googleusercontent.com/a-/AOh14GgpkPDdBChJz5khG7PXMg_P3ziSIZzWUDpDAjL7KA=s64",
      "userId": "11145992452404092449"
     },
     "user_tz": -300
    },
    "id": "HLBLtZj74-OX",
    "outputId": "3081dffe-2f3c-4a3d-aa26-4ae43017ee87"
   },
   "outputs": [
    {
     "data": {
      "text/plain": [
       "1.0"
      ]
     },
     "execution_count": 143,
     "metadata": {},
     "output_type": "execute_result"
    }
   ],
   "source": [
    "best_score = logreg.score(X_test, y_test)\n",
    "best_score"
   ]
  },
  {
   "cell_type": "markdown",
   "metadata": {
    "id": "oWsKclsog0hC"
   },
   "source": [
    "### RobustScaller"
   ]
  },
  {
   "cell_type": "code",
   "execution_count": 144,
   "metadata": {
    "colab": {
     "base_uri": "https://localhost:8080/"
    },
    "executionInfo": {
     "elapsed": 370,
     "status": "ok",
     "timestamp": 1636626127844,
     "user": {
      "displayName": "Александр Аксёнов",
      "photoUrl": "https://lh3.googleusercontent.com/a-/AOh14GgpkPDdBChJz5khG7PXMg_P3ziSIZzWUDpDAjL7KA=s64",
      "userId": "11145992452404092449"
     },
     "user_tz": -300
    },
    "id": "5WKkV-H1g7fk",
    "outputId": "c84a9c50-0985-4d27-bedb-3c6777f1bf96"
   },
   "outputs": [
    {
     "data": {
      "text/plain": [
       "((712, 10), (179, 10), (712,), (179,))"
      ]
     },
     "execution_count": 144,
     "metadata": {},
     "output_type": "execute_result"
    }
   ],
   "source": [
    "X_train, X_test, y_train, y_test = train_test_split(Xr, y, test_size=0.2, random_state=42, shuffle=True, stratify=y)\n",
    "X_train.shape, X_test.shape, y_train.shape, y_test.shape"
   ]
  },
  {
   "cell_type": "markdown",
   "metadata": {
    "id": "zEvixPqJg7fl"
   },
   "source": [
    "Создаем, обучаем и проверяем модель на тренировочном наборе данных"
   ]
  },
  {
   "cell_type": "code",
   "execution_count": 146,
   "metadata": {
    "colab": {
     "base_uri": "https://localhost:8080/"
    },
    "executionInfo": {
     "elapsed": 851,
     "status": "ok",
     "timestamp": 1636626132664,
     "user": {
      "displayName": "Александр Аксёнов",
      "photoUrl": "https://lh3.googleusercontent.com/a-/AOh14GgpkPDdBChJz5khG7PXMg_P3ziSIZzWUDpDAjL7KA=s64",
      "userId": "11145992452404092449"
     },
     "user_tz": -300
    },
    "id": "zF2VWPZIg7fl",
    "outputId": "cd6beeee-30be-4cd2-a7e6-9f2b907affbc"
   },
   "outputs": [
    {
     "data": {
      "text/plain": [
       "1.0"
      ]
     },
     "execution_count": 146,
     "metadata": {},
     "output_type": "execute_result"
    }
   ],
   "source": [
    "logreg = LogisticRegression(random_state=42)\n",
    "logreg.max_iter = 1000\n",
    "logreg.fit(X_train, y_train)\n",
    "logreg.score(X_train, y_train)"
   ]
  },
  {
   "cell_type": "markdown",
   "metadata": {
    "id": "jBhOauGVg7fm"
   },
   "source": [
    "Оцениваем качество модели на тестовом наборе, который модель не видела при обучении"
   ]
  },
  {
   "cell_type": "code",
   "execution_count": 147,
   "metadata": {
    "colab": {
     "base_uri": "https://localhost:8080/"
    },
    "executionInfo": {
     "elapsed": 368,
     "status": "ok",
     "timestamp": 1636626140776,
     "user": {
      "displayName": "Александр Аксёнов",
      "photoUrl": "https://lh3.googleusercontent.com/a-/AOh14GgpkPDdBChJz5khG7PXMg_P3ziSIZzWUDpDAjL7KA=s64",
      "userId": "11145992452404092449"
     },
     "user_tz": -300
    },
    "id": "_UuohWKGg7fm",
    "outputId": "776635e3-5c29-4d4b-c880-56c32a824255"
   },
   "outputs": [
    {
     "data": {
      "text/plain": [
       "1.0"
      ]
     },
     "execution_count": 147,
     "metadata": {},
     "output_type": "execute_result"
    }
   ],
   "source": [
    "logreg.score(X_test, y_test)"
   ]
  },
  {
   "cell_type": "markdown",
   "metadata": {
    "id": "GBJWMM_VXBNy"
   },
   "source": [
    "# 5. POST анализ модели"
   ]
  },
  {
   "cell_type": "code",
   "execution_count": 148,
   "metadata": {
    "colab": {
     "base_uri": "https://localhost:8080/"
    },
    "executionInfo": {
     "elapsed": 287,
     "status": "ok",
     "timestamp": 1636631484570,
     "user": {
      "displayName": "Александр Аксёнов",
      "photoUrl": "https://lh3.googleusercontent.com/a-/AOh14GgpkPDdBChJz5khG7PXMg_P3ziSIZzWUDpDAjL7KA=s64",
      "userId": "11145992452404092449"
     },
     "user_tz": -300
    },
    "id": "WeVncUs6EqgT",
    "outputId": "c9ca37c4-b140-49fd-eb49-e204a984d064"
   },
   "outputs": [
    {
     "data": {
      "text/plain": [
       "array([0, 0, 1, 0, 1, 1, 1, 0, 0, 0, 0, 0, 1, 0, 0, 0, 0, 0, 0, 1, 0, 1,\n",
       "       0, 1, 0, 1, 0, 1, 1, 0, 0, 1, 1, 0, 1, 1, 1, 0, 0, 1, 0, 0, 0, 1,\n",
       "       1, 0, 0, 0, 1, 1, 1, 0, 0, 1, 1, 0, 0, 1, 1, 1, 0, 1, 0, 0, 1, 0,\n",
       "       1, 0, 0, 0, 1, 0, 0, 1, 0, 0, 0, 0, 0, 0, 0, 0, 0, 0, 0, 0, 0, 1,\n",
       "       0, 1, 1, 0, 1, 0, 0, 1, 1, 0, 0, 1, 0, 1, 1, 1, 0, 1, 0, 0, 0, 0,\n",
       "       0, 0, 1, 0, 1, 0, 0, 0, 0, 0, 0, 1, 0, 0, 0, 0, 0, 0, 0, 1, 0, 0,\n",
       "       1, 0, 1, 0, 1, 0, 1, 1, 0, 0, 1, 0, 0, 1, 0, 0, 1, 1, 1, 0, 1, 1,\n",
       "       0, 1, 0, 0, 0, 1, 1, 1, 1, 1, 1, 0, 0, 0, 0, 1, 0, 0, 0, 0, 1, 0,\n",
       "       0, 1, 0], dtype=int64)"
      ]
     },
     "execution_count": 148,
     "metadata": {},
     "output_type": "execute_result"
    }
   ],
   "source": [
    "predict = logreg.predict(X_test)\n",
    "predict"
   ]
  },
  {
   "cell_type": "code",
   "execution_count": 149,
   "metadata": {
    "colab": {
     "base_uri": "https://localhost:8080/"
    },
    "executionInfo": {
     "elapsed": 322,
     "status": "ok",
     "timestamp": 1636631486784,
     "user": {
      "displayName": "Александр Аксёнов",
      "photoUrl": "https://lh3.googleusercontent.com/a-/AOh14GgpkPDdBChJz5khG7PXMg_P3ziSIZzWUDpDAjL7KA=s64",
      "userId": "11145992452404092449"
     },
     "user_tz": -300
    },
    "id": "hHmH7ZLPhYUY",
    "outputId": "fb6eaff7-8d5b-49f5-c0b8-4c2ecf532c88"
   },
   "outputs": [
    {
     "name": "stdout",
     "output_type": "stream",
     "text": [
      "Параметр b0: [-4.55304007]\n",
      "Значениея остальных параметров бетта:\n",
      "Survived 7.1069158834147075\n",
      "IsMale -1.0570582585564663\n",
      "Pclass -0.3419998550792956\n",
      "Age -0.23471065061372237\n",
      "Embarked 0.15868837500639218\n",
      "SibSp -0.1290838761313298\n",
      "Ticket -0.06451162807828366\n",
      "Fare 0.056130678508386225\n",
      "Parch -0.020811012234694937\n",
      "Cabin 0.00579247627356579\n"
     ]
    }
   ],
   "source": [
    "features_name = dt.select_dtypes(exclude=[\"object\"]).columns\n",
    "print(f\"Параметр b0: {logreg.intercept_}\")\n",
    "print(f\"Значениея остальных параметров бетта:\")\n",
    "coef_dict = {feature:coef for feature, coef in zip(features_name, logreg.coef_[0])}\n",
    "coef_dict = {key:val for key, val in sorted(coef_dict.items(), key=lambda item: abs(item[1]), reverse=True)}\n",
    "for item in coef_dict.items():\n",
    "    print(*item)"
   ]
  },
  {
   "cell_type": "code",
   "execution_count": 150,
   "metadata": {
    "colab": {
     "base_uri": "https://localhost:8080/"
    },
    "executionInfo": {
     "elapsed": 278,
     "status": "ok",
     "timestamp": 1636631488921,
     "user": {
      "displayName": "Александр Аксёнов",
      "photoUrl": "https://lh3.googleusercontent.com/a-/AOh14GgpkPDdBChJz5khG7PXMg_P3ziSIZzWUDpDAjL7KA=s64",
      "userId": "11145992452404092449"
     },
     "user_tz": -300
    },
    "id": "irhsmu9Mqwyh",
    "outputId": "9602922e-ad35-416d-e2c9-9d14f5809201"
   },
   "outputs": [
    {
     "data": {
      "text/plain": [
       "array([0, 2], dtype=int64)"
      ]
     },
     "execution_count": 150,
     "metadata": {},
     "output_type": "execute_result"
    }
   ],
   "source": [
    "np.where(np.abs(logreg.coef_[0]) > 0.5)[0]"
   ]
  },
  {
   "cell_type": "code",
   "execution_count": 151,
   "metadata": {
    "colab": {
     "base_uri": "https://localhost:8080/"
    },
    "executionInfo": {
     "elapsed": 872,
     "status": "ok",
     "timestamp": 1636631659963,
     "user": {
      "displayName": "Александр Аксёнов",
      "photoUrl": "https://lh3.googleusercontent.com/a-/AOh14GgpkPDdBChJz5khG7PXMg_P3ziSIZzWUDpDAjL7KA=s64",
      "userId": "11145992452404092449"
     },
     "user_tz": -300
    },
    "id": "Qzf_dxMyzJjw",
    "outputId": "5b78a67e-ae83-48f7-cdc8-929b49fab125"
   },
   "outputs": [
    {
     "name": "stdout",
     "output_type": "stream",
     "text": [
      "4 10\n",
      "1.0\n",
      "1.0\n",
      "first best score: 1.0\n"
     ]
    },
    {
     "data": {
      "text/plain": [
       "False"
      ]
     },
     "execution_count": 151,
     "metadata": {},
     "output_type": "execute_result"
    }
   ],
   "source": [
    "threshold = 0.2\n",
    "print(len(np.where(np.abs(logreg.coef_[0]) > threshold)[0]), X_.shape[1])\n",
    "X_train, X_test, y_train, y_test = train_test_split(X_[:, np.where(np.abs(logreg.coef_[0]) > threshold)[0]], y, test_size=0.2, random_state=42, shuffle=True, stratify=y)\n",
    "logreg_ = LogisticRegression(random_state=42)\n",
    "logreg_.fit(X_train, y_train)\n",
    "print(logreg_.score(X_train, y_train))\n",
    "print(logreg_.score(X_test, y_test))\n",
    "print(f\"first best score: {best_score}\")\n",
    "logreg_.score(X_test, y_test) > best_score"
   ]
  },
  {
   "cell_type": "code",
   "execution_count": 152,
   "metadata": {
    "colab": {
     "base_uri": "https://localhost:8080/"
    },
    "executionInfo": {
     "elapsed": 276,
     "status": "ok",
     "timestamp": 1636632149892,
     "user": {
      "displayName": "Александр Аксёнов",
      "photoUrl": "https://lh3.googleusercontent.com/a-/AOh14GgpkPDdBChJz5khG7PXMg_P3ziSIZzWUDpDAjL7KA=s64",
      "userId": "11145992452404092449"
     },
     "user_tz": -300
    },
    "id": "DKWx2OOR3-qf",
    "outputId": "239a5d8a-1024-41ff-f6ba-bd10ab36befa"
   },
   "outputs": [
    {
     "data": {
      "text/plain": [
       "Index(['Survived', 'Pclass', 'IsMale', 'Age'], dtype='object')"
      ]
     },
     "execution_count": 152,
     "metadata": {},
     "output_type": "execute_result"
    }
   ],
   "source": [
    "dt.select_dtypes(exclude=[\"object\"]).iloc[:, np.where(np.abs(logreg.coef_[0]) > threshold)[0]].columns"
   ]
  },
  {
   "cell_type": "code",
   "execution_count": 153,
   "metadata": {
    "colab": {
     "base_uri": "https://localhost:8080/"
    },
    "executionInfo": {
     "elapsed": 305,
     "status": "ok",
     "timestamp": 1636632196589,
     "user": {
      "displayName": "Александр Аксёнов",
      "photoUrl": "https://lh3.googleusercontent.com/a-/AOh14GgpkPDdBChJz5khG7PXMg_P3ziSIZzWUDpDAjL7KA=s64",
      "userId": "11145992452404092449"
     },
     "user_tz": -300
    },
    "id": "cgp3Dm1H31F4",
    "outputId": "576376ce-a84a-41df-c826-240ed7c85a6a"
   },
   "outputs": [
    {
     "name": "stdout",
     "output_type": "stream",
     "text": [
      "Параметр b0: [-1.39899574]\n",
      "Значениея остальных параметров бетта:\n",
      "Survived 4.62534149738357\n",
      "IsMale -0.5192940766269071\n",
      "Pclass -0.37574893295040923\n",
      "Age -0.15407809551711993\n"
     ]
    }
   ],
   "source": [
    "features_name_ = dt.select_dtypes(exclude=[\"object\"]).iloc[:, np.where(np.abs(logreg.coef_[0]) > threshold)[0]].columns\n",
    "print(f\"Параметр b0: {logreg_.intercept_}\")\n",
    "print(f\"Значениея остальных параметров бетта:\")\n",
    "coef_dict = {feature:coef for feature, coef in zip(features_name_, logreg_.coef_[0])}\n",
    "coef_dict = {key:val for key, val in sorted(coef_dict.items(), key=lambda item: abs(item[1]), reverse=True)}\n",
    "for item in coef_dict.items():\n",
    "    print(*item)"
   ]
  }
 ],
 "metadata": {
  "anaconda-cloud": {},
  "colab": {
   "collapsed_sections": [
    "UTKVH3sMutTM",
    "tiFgQjEcxnu2",
    "qy4yj--r07RL",
    "USQjKMAIETO8",
    "QeOBRH60Wf1F",
    "qwyKgedLeIMT",
    "u4vIuhNgeNZx",
    "nmb5O7vgWrnf",
    "v9NMrXW4keP5",
    "j_OKzzgAmiW-",
    "CYdb_HyBnc-E",
    "O1oGo8x3qXN0",
    "sH1avRRhrWF2",
    "NBLI-3pesJ0m",
    "gv3ndpEhssD5",
    "cDEsUU-Zu4cS",
    "yzb09-GB33KV",
    "APcKwPUddmDr",
    "QaznDKFNv6jw",
    "oWsKclsog0hC",
    "mdP3P92kXxsu",
    "ZqIWfFVLXRfZ",
    "L1jG1C3BX5Cx",
    "WTgnPj6raOzL"
   ],
   "name": "01_Baseline_example.ipynb",
   "provenance": []
  },
  "interpreter": {
   "hash": "ba88f3e24769b09faa6e96299d095c1b269bcd57dfe7595b22698dde68201c5a"
  },
  "kernelspec": {
   "display_name": "Python 3.9.7 ('base')",
   "language": "python",
   "name": "python3"
  },
  "language_info": {
   "codemirror_mode": {
    "name": "ipython",
    "version": 3
   },
   "file_extension": ".py",
   "mimetype": "text/x-python",
   "name": "python",
   "nbconvert_exporter": "python",
   "pygments_lexer": "ipython3",
   "version": "3.9.7"
  }
 },
 "nbformat": 4,
 "nbformat_minor": 1
}
