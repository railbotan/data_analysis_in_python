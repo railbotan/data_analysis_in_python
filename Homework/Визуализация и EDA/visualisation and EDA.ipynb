{
 "cells": [
  {
   "cell_type": "markdown",
   "metadata": {
    "id": "CXsKzXe_x-t4"
   },
   "source": [
    "**Импорт всех необходимых библиотек**"
   ]
  },
  {
   "cell_type": "code",
   "execution_count": 2,
   "metadata": {
    "id": "RrSo2OJzx-Pw"
   },
   "outputs": [],
   "source": [
    "import pandas as pd\n",
    "import numpy as np\n",
    "import matplotlib.pyplot as plt\n",
    "import seaborn as sns\n",
    "pd.set_option(\"display.max_rows\", 20)\n",
    "pd.set_option(\"display.max_columns\", 20)\n",
    "pd.set_option(\"display.precision\", 4)\n",
    "pd.set_option(\"plotting.backend\", \"matplotlib\")\n",
    "\n",
    "from sklearn.linear_model import LogisticRegression\n",
    "from sklearn.model_selection import train_test_split\n",
    "from sklearn.preprocessing import StandardScaler, RobustScaler"
   ]
  },
  {
   "cell_type": "markdown",
   "metadata": {
    "id": "UTKVH3sMutTM"
   },
   "source": [
    "# 1. Исследовательский анализ данных (exploratory data analysis - EDA)"
   ]
  },
  {
   "cell_type": "markdown",
   "metadata": {
    "id": "tiFgQjEcxnu2"
   },
   "source": [
    "## 1.1 Словесное описание признаков"
   ]
  },
  {
   "cell_type": "markdown",
   "metadata": {
    "id": "3lUT-CqYutTO"
   },
   "source": [
    "- id: id транзакции  \n",
    "- timestamp: дата продажи (транзакции)  \n",
    "- full_sq: общая площадь  \n",
    "- life_sq: жилая площадь  \n",
    "- floor: этаж  \n",
    "- max_floor: количество этажей в здании  \n",
    "- material: материал, из которого изговолены стены  \n",
    "- build_year: год строительства  \n",
    "- num_room: количество жилых комнат  \n",
    "- kitch_sq: площадь кухни  \n",
    "- full_all: количество населения в регионе  \n",
    "- state: жилищные условия  \n",
    "- sub_area: название территории  \n",
    "- price_doc: цена квартиры (целевая переменная) "
   ]
  },
  {
   "cell_type": "markdown",
   "metadata": {
    "id": "qy4yj--r07RL"
   },
   "source": [
    "## 1.2 Загрузка данных общее описание набора данных\n",
    "* Первый взгляд на данные: head(), tail(), sample()\n",
    "* Размер набора данных\n",
    "* Баланс классов в целевом признаке при классфикации. Диапазон данных и базовые статистические метрики целевого признака при регерессии\n",
    "* Базовые статистики по числовым данным\n",
    "* Базовые статистики по строковым данным\n",
    "* Наличие пропусков в данных"
   ]
  },
  {
   "cell_type": "code",
   "execution_count": 3,
   "metadata": {
    "colab": {
     "base_uri": "https://localhost:8080/",
     "height": 206
    },
    "executionInfo": {
     "elapsed": 657,
     "status": "ok",
     "timestamp": 1636625260411,
     "user": {
      "displayName": "Александр Аксёнов",
      "photoUrl": "https://lh3.googleusercontent.com/a-/AOh14GgpkPDdBChJz5khG7PXMg_P3ziSIZzWUDpDAjL7KA=s64",
      "userId": "11145992452404092449"
     },
     "user_tz": -300
    },
    "id": "SJ3LbaoiutTT",
    "outputId": "c92018d9-5be4-4b69-8b9a-8abdae205a6f"
   },
   "outputs": [
    {
     "data": {
      "text/html": [
       "<div>\n",
       "<style scoped>\n",
       "    .dataframe tbody tr th:only-of-type {\n",
       "        vertical-align: middle;\n",
       "    }\n",
       "\n",
       "    .dataframe tbody tr th {\n",
       "        vertical-align: top;\n",
       "    }\n",
       "\n",
       "    .dataframe thead th {\n",
       "        text-align: right;\n",
       "    }\n",
       "</style>\n",
       "<table border=\"1\" class=\"dataframe\">\n",
       "  <thead>\n",
       "    <tr style=\"text-align: right;\">\n",
       "      <th></th>\n",
       "      <th>id</th>\n",
       "      <th>timestamp</th>\n",
       "      <th>full_sq</th>\n",
       "      <th>life_sq</th>\n",
       "      <th>floor</th>\n",
       "      <th>state</th>\n",
       "      <th>max_floor</th>\n",
       "      <th>material</th>\n",
       "      <th>build_year</th>\n",
       "      <th>num_room</th>\n",
       "      <th>kitch_sq</th>\n",
       "      <th>full_all</th>\n",
       "      <th>sub_area</th>\n",
       "      <th>price_doc</th>\n",
       "    </tr>\n",
       "  </thead>\n",
       "  <tbody>\n",
       "    <tr>\n",
       "      <th>0</th>\n",
       "      <td>13324</td>\n",
       "      <td>2013-12-23</td>\n",
       "      <td>42</td>\n",
       "      <td>28.0</td>\n",
       "      <td>8.0</td>\n",
       "      <td>2.0</td>\n",
       "      <td>9.0</td>\n",
       "      <td>1.0</td>\n",
       "      <td>1969.0</td>\n",
       "      <td>2.0</td>\n",
       "      <td>6.0</td>\n",
       "      <td>43795</td>\n",
       "      <td>Pechatniki</td>\n",
       "      <td>7100000</td>\n",
       "    </tr>\n",
       "    <tr>\n",
       "      <th>1</th>\n",
       "      <td>10064</td>\n",
       "      <td>2013-08-26</td>\n",
       "      <td>55</td>\n",
       "      <td>41.0</td>\n",
       "      <td>4.0</td>\n",
       "      <td>3.0</td>\n",
       "      <td>5.0</td>\n",
       "      <td>2.0</td>\n",
       "      <td>1960.0</td>\n",
       "      <td>3.0</td>\n",
       "      <td>5.0</td>\n",
       "      <td>21040</td>\n",
       "      <td>Dorogomilovo</td>\n",
       "      <td>11500000</td>\n",
       "    </tr>\n",
       "    <tr>\n",
       "      <th>2</th>\n",
       "      <td>12022</td>\n",
       "      <td>2013-11-11</td>\n",
       "      <td>43</td>\n",
       "      <td>29.0</td>\n",
       "      <td>4.0</td>\n",
       "      <td>2.0</td>\n",
       "      <td>5.0</td>\n",
       "      <td>2.0</td>\n",
       "      <td>1960.0</td>\n",
       "      <td>2.0</td>\n",
       "      <td>5.0</td>\n",
       "      <td>157010</td>\n",
       "      <td>Ivanovskoe</td>\n",
       "      <td>5800000</td>\n",
       "    </tr>\n",
       "    <tr>\n",
       "      <th>3</th>\n",
       "      <td>10186</td>\n",
       "      <td>2013-08-30</td>\n",
       "      <td>62</td>\n",
       "      <td>35.0</td>\n",
       "      <td>15.0</td>\n",
       "      <td>NaN</td>\n",
       "      <td>22.0</td>\n",
       "      <td>1.0</td>\n",
       "      <td>1985.0</td>\n",
       "      <td>2.0</td>\n",
       "      <td>10.0</td>\n",
       "      <td>178264</td>\n",
       "      <td>Jasenevo</td>\n",
       "      <td>11400000</td>\n",
       "    </tr>\n",
       "    <tr>\n",
       "      <th>4</th>\n",
       "      <td>30052</td>\n",
       "      <td>2015-05-29</td>\n",
       "      <td>80</td>\n",
       "      <td>55.0</td>\n",
       "      <td>15.0</td>\n",
       "      <td>1.0</td>\n",
       "      <td>24.0</td>\n",
       "      <td>6.0</td>\n",
       "      <td>2017.0</td>\n",
       "      <td>3.0</td>\n",
       "      <td>12.0</td>\n",
       "      <td>76284</td>\n",
       "      <td>Nagatinskij Zaton</td>\n",
       "      <td>12697154</td>\n",
       "    </tr>\n",
       "  </tbody>\n",
       "</table>\n",
       "</div>"
      ],
      "text/plain": [
       "      id   timestamp  full_sq  life_sq  floor  state  max_floor  material  \\\n",
       "0  13324  2013-12-23       42     28.0    8.0    2.0        9.0       1.0   \n",
       "1  10064  2013-08-26       55     41.0    4.0    3.0        5.0       2.0   \n",
       "2  12022  2013-11-11       43     29.0    4.0    2.0        5.0       2.0   \n",
       "3  10186  2013-08-30       62     35.0   15.0    NaN       22.0       1.0   \n",
       "4  30052  2015-05-29       80     55.0   15.0    1.0       24.0       6.0   \n",
       "\n",
       "  build_year  num_room  kitch_sq  full_all           sub_area  price_doc  \n",
       "0     1969.0       2.0       6.0     43795         Pechatniki    7100000  \n",
       "1     1960.0       3.0       5.0     21040       Dorogomilovo   11500000  \n",
       "2     1960.0       2.0       5.0    157010         Ivanovskoe    5800000  \n",
       "3     1985.0       2.0      10.0    178264           Jasenevo   11400000  \n",
       "4     2017.0       3.0      12.0     76284  Nagatinskij Zaton   12697154  "
      ]
     },
     "execution_count": 3,
     "metadata": {},
     "output_type": "execute_result"
    }
   ],
   "source": [
    "df = pd.read_csv(\"flat_prices.csv\")\n",
    "df.head()"
   ]
  },
  {
   "cell_type": "code",
   "execution_count": 3,
   "metadata": {},
   "outputs": [
    {
     "data": {
      "text/html": [
       "<div>\n",
       "<style scoped>\n",
       "    .dataframe tbody tr th:only-of-type {\n",
       "        vertical-align: middle;\n",
       "    }\n",
       "\n",
       "    .dataframe tbody tr th {\n",
       "        vertical-align: top;\n",
       "    }\n",
       "\n",
       "    .dataframe thead th {\n",
       "        text-align: right;\n",
       "    }\n",
       "</style>\n",
       "<table border=\"1\" class=\"dataframe\">\n",
       "  <thead>\n",
       "    <tr style=\"text-align: right;\">\n",
       "      <th></th>\n",
       "      <th>id</th>\n",
       "      <th>timestamp</th>\n",
       "      <th>full_sq</th>\n",
       "      <th>life_sq</th>\n",
       "      <th>floor</th>\n",
       "      <th>state</th>\n",
       "      <th>max_floor</th>\n",
       "      <th>material</th>\n",
       "      <th>build_year</th>\n",
       "      <th>num_room</th>\n",
       "      <th>kitch_sq</th>\n",
       "      <th>full_all</th>\n",
       "      <th>sub_area</th>\n",
       "      <th>price_doc</th>\n",
       "    </tr>\n",
       "  </thead>\n",
       "  <tbody>\n",
       "    <tr>\n",
       "      <th>15087</th>\n",
       "      <td>23382</td>\n",
       "      <td>2014-10-08</td>\n",
       "      <td>69</td>\n",
       "      <td>48.0</td>\n",
       "      <td>2.0</td>\n",
       "      <td>2.0</td>\n",
       "      <td>4.0</td>\n",
       "      <td>2.0</td>\n",
       "      <td>1950.0</td>\n",
       "      <td>3.0</td>\n",
       "      <td>7.0</td>\n",
       "      <td>101982</td>\n",
       "      <td>Tekstil'shhiki</td>\n",
       "      <td>9100000</td>\n",
       "    </tr>\n",
       "    <tr>\n",
       "      <th>15088</th>\n",
       "      <td>24264</td>\n",
       "      <td>2014-10-31</td>\n",
       "      <td>78</td>\n",
       "      <td>75.0</td>\n",
       "      <td>4.0</td>\n",
       "      <td>1.0</td>\n",
       "      <td>17.0</td>\n",
       "      <td>1.0</td>\n",
       "      <td>2014.0</td>\n",
       "      <td>3.0</td>\n",
       "      <td>1.0</td>\n",
       "      <td>247469</td>\n",
       "      <td>Nekrasovka</td>\n",
       "      <td>7722400</td>\n",
       "    </tr>\n",
       "    <tr>\n",
       "      <th>15089</th>\n",
       "      <td>16165</td>\n",
       "      <td>2014-03-18</td>\n",
       "      <td>38</td>\n",
       "      <td>19.0</td>\n",
       "      <td>15.0</td>\n",
       "      <td>3.0</td>\n",
       "      <td>17.0</td>\n",
       "      <td>1.0</td>\n",
       "      <td>1990.0</td>\n",
       "      <td>1.0</td>\n",
       "      <td>8.0</td>\n",
       "      <td>101708</td>\n",
       "      <td>Juzhnoportovoe</td>\n",
       "      <td>7000000</td>\n",
       "    </tr>\n",
       "    <tr>\n",
       "      <th>15090</th>\n",
       "      <td>10635</td>\n",
       "      <td>2013-09-20</td>\n",
       "      <td>54</td>\n",
       "      <td>32.0</td>\n",
       "      <td>11.0</td>\n",
       "      <td>3.0</td>\n",
       "      <td>16.0</td>\n",
       "      <td>1.0</td>\n",
       "      <td>1979.0</td>\n",
       "      <td>2.0</td>\n",
       "      <td>9.0</td>\n",
       "      <td>178264</td>\n",
       "      <td>Jasenevo</td>\n",
       "      <td>7000000</td>\n",
       "    </tr>\n",
       "    <tr>\n",
       "      <th>15091</th>\n",
       "      <td>29081</td>\n",
       "      <td>2015-04-13</td>\n",
       "      <td>154</td>\n",
       "      <td>108.0</td>\n",
       "      <td>14.0</td>\n",
       "      <td>3.0</td>\n",
       "      <td>18.0</td>\n",
       "      <td>4.0</td>\n",
       "      <td>2006.0</td>\n",
       "      <td>4.0</td>\n",
       "      <td>5.0</td>\n",
       "      <td>80791</td>\n",
       "      <td>Horoshevskoe</td>\n",
       "      <td>50000000</td>\n",
       "    </tr>\n",
       "  </tbody>\n",
       "</table>\n",
       "</div>"
      ],
      "text/plain": [
       "          id   timestamp  full_sq  life_sq  floor  state  max_floor  material  \\\n",
       "15087  23382  2014-10-08       69     48.0    2.0    2.0        4.0       2.0   \n",
       "15088  24264  2014-10-31       78     75.0    4.0    1.0       17.0       1.0   \n",
       "15089  16165  2014-03-18       38     19.0   15.0    3.0       17.0       1.0   \n",
       "15090  10635  2013-09-20       54     32.0   11.0    3.0       16.0       1.0   \n",
       "15091  29081  2015-04-13      154    108.0   14.0    3.0       18.0       4.0   \n",
       "\n",
       "      build_year  num_room  kitch_sq  full_all        sub_area  price_doc  \n",
       "15087     1950.0       3.0       7.0    101982  Tekstil'shhiki    9100000  \n",
       "15088     2014.0       3.0       1.0    247469      Nekrasovka    7722400  \n",
       "15089     1990.0       1.0       8.0    101708  Juzhnoportovoe    7000000  \n",
       "15090     1979.0       2.0       9.0    178264        Jasenevo    7000000  \n",
       "15091     2006.0       4.0       5.0     80791    Horoshevskoe   50000000  "
      ]
     },
     "execution_count": 3,
     "metadata": {},
     "output_type": "execute_result"
    }
   ],
   "source": [
    "df.tail()"
   ]
  },
  {
   "cell_type": "code",
   "execution_count": 4,
   "metadata": {},
   "outputs": [
    {
     "data": {
      "text/html": [
       "<div>\n",
       "<style scoped>\n",
       "    .dataframe tbody tr th:only-of-type {\n",
       "        vertical-align: middle;\n",
       "    }\n",
       "\n",
       "    .dataframe tbody tr th {\n",
       "        vertical-align: top;\n",
       "    }\n",
       "\n",
       "    .dataframe thead th {\n",
       "        text-align: right;\n",
       "    }\n",
       "</style>\n",
       "<table border=\"1\" class=\"dataframe\">\n",
       "  <thead>\n",
       "    <tr style=\"text-align: right;\">\n",
       "      <th></th>\n",
       "      <th>id</th>\n",
       "      <th>timestamp</th>\n",
       "      <th>full_sq</th>\n",
       "      <th>life_sq</th>\n",
       "      <th>floor</th>\n",
       "      <th>state</th>\n",
       "      <th>max_floor</th>\n",
       "      <th>material</th>\n",
       "      <th>build_year</th>\n",
       "      <th>num_room</th>\n",
       "      <th>kitch_sq</th>\n",
       "      <th>full_all</th>\n",
       "      <th>sub_area</th>\n",
       "      <th>price_doc</th>\n",
       "    </tr>\n",
       "  </thead>\n",
       "  <tbody>\n",
       "    <tr>\n",
       "      <th>5568</th>\n",
       "      <td>15463</td>\n",
       "      <td>2014-02-26</td>\n",
       "      <td>35</td>\n",
       "      <td>21.0</td>\n",
       "      <td>5.0</td>\n",
       "      <td>2.0</td>\n",
       "      <td>9.0</td>\n",
       "      <td>1.0</td>\n",
       "      <td>1979.0</td>\n",
       "      <td>1.0</td>\n",
       "      <td>6.0</td>\n",
       "      <td>12327</td>\n",
       "      <td>Gol'janovo</td>\n",
       "      <td>2000000</td>\n",
       "    </tr>\n",
       "  </tbody>\n",
       "</table>\n",
       "</div>"
      ],
      "text/plain": [
       "         id   timestamp  full_sq  life_sq  floor  state  max_floor  material  \\\n",
       "5568  15463  2014-02-26       35     21.0    5.0    2.0        9.0       1.0   \n",
       "\n",
       "     build_year  num_room  kitch_sq  full_all    sub_area  price_doc  \n",
       "5568     1979.0       1.0       6.0     12327  Gol'janovo    2000000  "
      ]
     },
     "execution_count": 4,
     "metadata": {},
     "output_type": "execute_result"
    }
   ],
   "source": [
    "df.sample()"
   ]
  },
  {
   "cell_type": "code",
   "execution_count": 5,
   "metadata": {},
   "outputs": [
    {
     "name": "stdout",
     "output_type": "stream",
     "text": [
      "(15092, 14)\n"
     ]
    }
   ],
   "source": [
    "print(df.shape)"
   ]
  },
  {
   "cell_type": "code",
   "execution_count": 6,
   "metadata": {},
   "outputs": [
    {
     "data": {
      "text/plain": [
       "2000000     456\n",
       "1000000     395\n",
       "3000000     228\n",
       "6000000     202\n",
       "6500000     200\n",
       "           ... \n",
       "7340000       1\n",
       "7047460       1\n",
       "3534660       1\n",
       "4577444       1\n",
       "10170000      1\n",
       "Name: price_doc, Length: 4188, dtype: int64"
      ]
     },
     "execution_count": 6,
     "metadata": {},
     "output_type": "execute_result"
    }
   ],
   "source": [
    "df['price_doc'].value_counts()"
   ]
  },
  {
   "cell_type": "markdown",
   "metadata": {},
   "source": [
    "Баланс классов тяготеет в сторону относительно дешевых квартир, 1-2-3 миллиона за квартиру"
   ]
  },
  {
   "cell_type": "code",
   "execution_count": 7,
   "metadata": {
    "colab": {
     "base_uri": "https://localhost:8080/"
    },
    "executionInfo": {
     "elapsed": 3,
     "status": "ok",
     "timestamp": 1636625264711,
     "user": {
      "displayName": "Александр Аксёнов",
      "photoUrl": "https://lh3.googleusercontent.com/a-/AOh14GgpkPDdBChJz5khG7PXMg_P3ziSIZzWUDpDAjL7KA=s64",
      "userId": "11145992452404092449"
     },
     "user_tz": -300
    },
    "id": "WTfLUHc_0ejP",
    "outputId": "06f07a20-90d7-4c2d-ba3e-2c1e2c409dad"
   },
   "outputs": [
    {
     "data": {
      "text/html": [
       "<div>\n",
       "<style scoped>\n",
       "    .dataframe tbody tr th:only-of-type {\n",
       "        vertical-align: middle;\n",
       "    }\n",
       "\n",
       "    .dataframe tbody tr th {\n",
       "        vertical-align: top;\n",
       "    }\n",
       "\n",
       "    .dataframe thead th {\n",
       "        text-align: right;\n",
       "    }\n",
       "</style>\n",
       "<table border=\"1\" class=\"dataframe\">\n",
       "  <thead>\n",
       "    <tr style=\"text-align: right;\">\n",
       "      <th></th>\n",
       "      <th>id</th>\n",
       "      <th>full_sq</th>\n",
       "      <th>life_sq</th>\n",
       "      <th>floor</th>\n",
       "      <th>state</th>\n",
       "      <th>max_floor</th>\n",
       "      <th>material</th>\n",
       "      <th>num_room</th>\n",
       "      <th>kitch_sq</th>\n",
       "      <th>full_all</th>\n",
       "      <th>price_doc</th>\n",
       "    </tr>\n",
       "  </thead>\n",
       "  <tbody>\n",
       "    <tr>\n",
       "      <th>count</th>\n",
       "      <td>15092.0000</td>\n",
       "      <td>15092.000</td>\n",
       "      <td>13828.0000</td>\n",
       "      <td>15069.0000</td>\n",
       "      <td>12366.0000</td>\n",
       "      <td>13938.0000</td>\n",
       "      <td>13938.0000</td>\n",
       "      <td>13938.0000</td>\n",
       "      <td>13938.0000</td>\n",
       "      <td>1.5092e+04</td>\n",
       "      <td>1.5092e+04</td>\n",
       "    </tr>\n",
       "    <tr>\n",
       "      <th>mean</th>\n",
       "      <td>18772.4277</td>\n",
       "      <td>53.967</td>\n",
       "      <td>33.7849</td>\n",
       "      <td>7.2833</td>\n",
       "      <td>2.1949</td>\n",
       "      <td>12.4191</td>\n",
       "      <td>1.8958</td>\n",
       "      <td>1.9348</td>\n",
       "      <td>7.2806</td>\n",
       "      <td>1.5923e+05</td>\n",
       "      <td>7.5647e+06</td>\n",
       "    </tr>\n",
       "    <tr>\n",
       "      <th>std</th>\n",
       "      <td>7102.9068</td>\n",
       "      <td>48.082</td>\n",
       "      <td>19.7944</td>\n",
       "      <td>5.1940</td>\n",
       "      <td>0.8610</td>\n",
       "      <td>6.2642</td>\n",
       "      <td>1.5114</td>\n",
       "      <td>0.8657</td>\n",
       "      <td>30.0719</td>\n",
       "      <td>3.0380e+05</td>\n",
       "      <td>4.9852e+06</td>\n",
       "    </tr>\n",
       "    <tr>\n",
       "      <th>min</th>\n",
       "      <td>15.0000</td>\n",
       "      <td>0.000</td>\n",
       "      <td>0.0000</td>\n",
       "      <td>0.0000</td>\n",
       "      <td>1.0000</td>\n",
       "      <td>0.0000</td>\n",
       "      <td>1.0000</td>\n",
       "      <td>0.0000</td>\n",
       "      <td>0.0000</td>\n",
       "      <td>2.5460e+03</td>\n",
       "      <td>3.3146e+05</td>\n",
       "    </tr>\n",
       "    <tr>\n",
       "      <th>25%</th>\n",
       "      <td>13464.7500</td>\n",
       "      <td>38.000</td>\n",
       "      <td>20.0000</td>\n",
       "      <td>3.0000</td>\n",
       "      <td>2.0000</td>\n",
       "      <td>9.0000</td>\n",
       "      <td>1.0000</td>\n",
       "      <td>1.0000</td>\n",
       "      <td>5.0000</td>\n",
       "      <td>4.8439e+04</td>\n",
       "      <td>5.1000e+06</td>\n",
       "    </tr>\n",
       "    <tr>\n",
       "      <th>50%</th>\n",
       "      <td>19005.5000</td>\n",
       "      <td>49.000</td>\n",
       "      <td>30.0000</td>\n",
       "      <td>6.0000</td>\n",
       "      <td>2.0000</td>\n",
       "      <td>12.0000</td>\n",
       "      <td>1.0000</td>\n",
       "      <td>2.0000</td>\n",
       "      <td>7.0000</td>\n",
       "      <td>8.7713e+04</td>\n",
       "      <td>6.6500e+06</td>\n",
       "    </tr>\n",
       "    <tr>\n",
       "      <th>75%</th>\n",
       "      <td>24746.2500</td>\n",
       "      <td>63.000</td>\n",
       "      <td>43.0000</td>\n",
       "      <td>10.0000</td>\n",
       "      <td>3.0000</td>\n",
       "      <td>17.0000</td>\n",
       "      <td>2.0000</td>\n",
       "      <td>3.0000</td>\n",
       "      <td>9.0000</td>\n",
       "      <td>1.2535e+05</td>\n",
       "      <td>8.9000e+06</td>\n",
       "    </tr>\n",
       "    <tr>\n",
       "      <th>max</th>\n",
       "      <td>30473.0000</td>\n",
       "      <td>5326.000</td>\n",
       "      <td>637.0000</td>\n",
       "      <td>77.0000</td>\n",
       "      <td>33.0000</td>\n",
       "      <td>57.0000</td>\n",
       "      <td>6.0000</td>\n",
       "      <td>19.0000</td>\n",
       "      <td>2014.0000</td>\n",
       "      <td>1.7167e+06</td>\n",
       "      <td>9.5122e+07</td>\n",
       "    </tr>\n",
       "  </tbody>\n",
       "</table>\n",
       "</div>"
      ],
      "text/plain": [
       "               id    full_sq     life_sq       floor       state   max_floor  \\\n",
       "count  15092.0000  15092.000  13828.0000  15069.0000  12366.0000  13938.0000   \n",
       "mean   18772.4277     53.967     33.7849      7.2833      2.1949     12.4191   \n",
       "std     7102.9068     48.082     19.7944      5.1940      0.8610      6.2642   \n",
       "min       15.0000      0.000      0.0000      0.0000      1.0000      0.0000   \n",
       "25%    13464.7500     38.000     20.0000      3.0000      2.0000      9.0000   \n",
       "50%    19005.5000     49.000     30.0000      6.0000      2.0000     12.0000   \n",
       "75%    24746.2500     63.000     43.0000     10.0000      3.0000     17.0000   \n",
       "max    30473.0000   5326.000    637.0000     77.0000     33.0000     57.0000   \n",
       "\n",
       "         material    num_room    kitch_sq    full_all   price_doc  \n",
       "count  13938.0000  13938.0000  13938.0000  1.5092e+04  1.5092e+04  \n",
       "mean       1.8958      1.9348      7.2806  1.5923e+05  7.5647e+06  \n",
       "std        1.5114      0.8657     30.0719  3.0380e+05  4.9852e+06  \n",
       "min        1.0000      0.0000      0.0000  2.5460e+03  3.3146e+05  \n",
       "25%        1.0000      1.0000      5.0000  4.8439e+04  5.1000e+06  \n",
       "50%        1.0000      2.0000      7.0000  8.7713e+04  6.6500e+06  \n",
       "75%        2.0000      3.0000      9.0000  1.2535e+05  8.9000e+06  \n",
       "max        6.0000     19.0000   2014.0000  1.7167e+06  9.5122e+07  "
      ]
     },
     "execution_count": 7,
     "metadata": {},
     "output_type": "execute_result"
    }
   ],
   "source": [
    "df.describe()"
   ]
  },
  {
   "cell_type": "markdown",
   "metadata": {},
   "source": [
    "* Максимальные значения площади пространства квартир full_sq, life_sq и kitch_sq слишком большие: (5326.000, 637.0000, 2014.0000). Максимальное значение количества комнат в квартире num_room равно 19, что тоже слишком много, чтобы быть правдой. Данные некорректны или это точечные, резкие отклонения от общей выборки.\n",
    "* Оценка жилищных условий в виде числа ничего не значит\n",
    "* 75% всех квартир расположены на 10 этаже или ниже\n",
    "* Значения площади пространства квартир full_sq и life_sq содержат нулевые значения, чего быть не может\n",
    "* Значение количества жилых комнат num_room содержит нулевые значения, чего быть не может\n",
    "* Материал стен material представлен в виде числа, которое без дополнительной таблицы соответствия числа и названия материала не имеет смысла\n",
    "* 75% всех квартир расположена в зданиях, в которых 17 этажей или меньше (параметр max_floor)\n",
    "* 75% всех квартир расположены в регионе с количеством населения full_all 125 тысяч или меньше"
   ]
  },
  {
   "cell_type": "code",
   "execution_count": 8,
   "metadata": {
    "colab": {
     "base_uri": "https://localhost:8080/",
     "height": 175
    },
    "executionInfo": {
     "elapsed": 6,
     "status": "ok",
     "timestamp": 1636625269818,
     "user": {
      "displayName": "Александр Аксёнов",
      "photoUrl": "https://lh3.googleusercontent.com/a-/AOh14GgpkPDdBChJz5khG7PXMg_P3ziSIZzWUDpDAjL7KA=s64",
      "userId": "11145992452404092449"
     },
     "user_tz": -300
    },
    "id": "LMdTGO9C4187",
    "outputId": "10bdbd48-35be-4e98-e64a-9daa9db723ef"
   },
   "outputs": [
    {
     "data": {
      "text/html": [
       "<div>\n",
       "<style scoped>\n",
       "    .dataframe tbody tr th:only-of-type {\n",
       "        vertical-align: middle;\n",
       "    }\n",
       "\n",
       "    .dataframe tbody tr th {\n",
       "        vertical-align: top;\n",
       "    }\n",
       "\n",
       "    .dataframe thead th {\n",
       "        text-align: right;\n",
       "    }\n",
       "</style>\n",
       "<table border=\"1\" class=\"dataframe\">\n",
       "  <thead>\n",
       "    <tr style=\"text-align: right;\">\n",
       "      <th></th>\n",
       "      <th>timestamp</th>\n",
       "      <th>build_year</th>\n",
       "      <th>sub_area</th>\n",
       "    </tr>\n",
       "  </thead>\n",
       "  <tbody>\n",
       "    <tr>\n",
       "      <th>count</th>\n",
       "      <td>15092</td>\n",
       "      <td>13475</td>\n",
       "      <td>15092</td>\n",
       "    </tr>\n",
       "    <tr>\n",
       "      <th>unique</th>\n",
       "      <td>1031</td>\n",
       "      <td>116</td>\n",
       "      <td>146</td>\n",
       "    </tr>\n",
       "    <tr>\n",
       "      <th>top</th>\n",
       "      <td>2014-12-16</td>\n",
       "      <td>2014.0</td>\n",
       "      <td>Poselenie Sosenskoe</td>\n",
       "    </tr>\n",
       "    <tr>\n",
       "      <th>freq</th>\n",
       "      <td>99</td>\n",
       "      <td>733</td>\n",
       "      <td>502</td>\n",
       "    </tr>\n",
       "  </tbody>\n",
       "</table>\n",
       "</div>"
      ],
      "text/plain": [
       "         timestamp build_year             sub_area\n",
       "count        15092      13475                15092\n",
       "unique        1031        116                  146\n",
       "top     2014-12-16     2014.0  Poselenie Sosenskoe\n",
       "freq            99        733                  502"
      ]
     },
     "execution_count": 8,
     "metadata": {},
     "output_type": "execute_result"
    }
   ],
   "source": [
    "df.describe(include=(object))"
   ]
  },
  {
   "cell_type": "code",
   "execution_count": 9,
   "metadata": {},
   "outputs": [
    {
     "data": {
      "text/plain": [
       "0        1969.0\n",
       "1        1960.0\n",
       "2        1960.0\n",
       "3        1985.0\n",
       "4        2017.0\n",
       "          ...  \n",
       "15087    1950.0\n",
       "15088    2014.0\n",
       "15089    1990.0\n",
       "15090    1979.0\n",
       "15091    2006.0\n",
       "Name: build_year, Length: 15092, dtype: object"
      ]
     },
     "execution_count": 9,
     "metadata": {},
     "output_type": "execute_result"
    }
   ],
   "source": [
    "df['build_year']"
   ]
  },
  {
   "cell_type": "markdown",
   "metadata": {
    "id": "70kXb6Vk9zYK"
   },
   "source": [
    "Object:\n",
    "* Время постройки здания build_year\n",
    "* Дата timestamp\n",
    "* Название подрегиона sub_area"
   ]
  },
  {
   "cell_type": "code",
   "execution_count": 24,
   "metadata": {
    "colab": {
     "base_uri": "https://localhost:8080/"
    },
    "executionInfo": {
     "elapsed": 314,
     "status": "ok",
     "timestamp": 1636625272431,
     "user": {
      "displayName": "Александр Аксёнов",
      "photoUrl": "https://lh3.googleusercontent.com/a-/AOh14GgpkPDdBChJz5khG7PXMg_P3ziSIZzWUDpDAjL7KA=s64",
      "userId": "11145992452404092449"
     },
     "user_tz": -300
    },
    "id": "jwS2iossDgZf",
    "outputId": "e9af3f48-bb06-4167-89e4-6bff02249d25"
   },
   "outputs": [
    {
     "name": "stdout",
     "output_type": "stream",
     "text": [
      "<class 'pandas.core.frame.DataFrame'>\n",
      "RangeIndex: 15092 entries, 0 to 15091\n",
      "Data columns (total 14 columns):\n",
      " #   Column      Non-Null Count  Dtype  \n",
      "---  ------      --------------  -----  \n",
      " 0   id          15092 non-null  int64  \n",
      " 1   timestamp   15092 non-null  object \n",
      " 2   full_sq     15092 non-null  int64  \n",
      " 3   life_sq     13828 non-null  float64\n",
      " 4   floor       15069 non-null  float64\n",
      " 5   state       12366 non-null  float64\n",
      " 6   max_floor   13938 non-null  float64\n",
      " 7   material    13938 non-null  float64\n",
      " 8   build_year  13475 non-null  object \n",
      " 9   num_room    13938 non-null  float64\n",
      " 10  kitch_sq    13938 non-null  float64\n",
      " 11  full_all    15092 non-null  int64  \n",
      " 12  sub_area    15092 non-null  object \n",
      " 13  price_doc   15092 non-null  int64  \n",
      "dtypes: float64(7), int64(4), object(3)\n",
      "memory usage: 1.6+ MB\n"
     ]
    }
   ],
   "source": [
    "df.info()"
   ]
  },
  {
   "cell_type": "markdown",
   "metadata": {},
   "source": [
    "* В данных присутствует пустые значения\n",
    "* Содержат пустые значения столбцы: life_sq, floor, state, max_floor, material, build_year, num_room, kitch_sq\n",
    "* Не содержат пустые значения столбцы: id, timestamp, full_sq, full_all, sub_area, price_doc\n",
    "* Количество пустых значений варьируется от двух десятков (floor, 23 пустых значения) до порядка нескольких тысяч (state, 2726 пустых значения)"
   ]
  },
  {
   "cell_type": "markdown",
   "metadata": {
    "id": "u4vIuhNgeNZx"
   },
   "source": [
    "## Выбросы"
   ]
  },
  {
   "cell_type": "code",
   "execution_count": 12,
   "metadata": {
    "colab": {
     "base_uri": "https://localhost:8080/",
     "height": 423
    },
    "executionInfo": {
     "elapsed": 278,
     "status": "ok",
     "timestamp": 1636625386419,
     "user": {
      "displayName": "Александр Аксёнов",
      "photoUrl": "https://lh3.googleusercontent.com/a-/AOh14GgpkPDdBChJz5khG7PXMg_P3ziSIZzWUDpDAjL7KA=s64",
      "userId": "11145992452404092449"
     },
     "user_tz": -300
    },
    "id": "dMDu_Iu5eNPT",
    "outputId": "06a17420-9d38-4218-e9da-92b0b1bd2792"
   },
   "outputs": [
    {
     "data": {
      "text/html": [
       "<div>\n",
       "<style scoped>\n",
       "    .dataframe tbody tr th:only-of-type {\n",
       "        vertical-align: middle;\n",
       "    }\n",
       "\n",
       "    .dataframe tbody tr th {\n",
       "        vertical-align: top;\n",
       "    }\n",
       "\n",
       "    .dataframe thead th {\n",
       "        text-align: right;\n",
       "    }\n",
       "</style>\n",
       "<table border=\"1\" class=\"dataframe\">\n",
       "  <thead>\n",
       "    <tr style=\"text-align: right;\">\n",
       "      <th></th>\n",
       "      <th>id</th>\n",
       "      <th>full_sq</th>\n",
       "      <th>life_sq</th>\n",
       "      <th>floor</th>\n",
       "      <th>state</th>\n",
       "      <th>max_floor</th>\n",
       "      <th>material</th>\n",
       "      <th>num_room</th>\n",
       "      <th>kitch_sq</th>\n",
       "      <th>full_all</th>\n",
       "      <th>price_doc</th>\n",
       "    </tr>\n",
       "  </thead>\n",
       "  <tbody>\n",
       "    <tr>\n",
       "      <th>0</th>\n",
       "      <td>13324</td>\n",
       "      <td>42</td>\n",
       "      <td>28.0</td>\n",
       "      <td>8.0</td>\n",
       "      <td>2.0</td>\n",
       "      <td>9.0</td>\n",
       "      <td>1.0</td>\n",
       "      <td>2.0</td>\n",
       "      <td>6.0</td>\n",
       "      <td>43795</td>\n",
       "      <td>7100000</td>\n",
       "    </tr>\n",
       "    <tr>\n",
       "      <th>1</th>\n",
       "      <td>10064</td>\n",
       "      <td>55</td>\n",
       "      <td>41.0</td>\n",
       "      <td>4.0</td>\n",
       "      <td>3.0</td>\n",
       "      <td>5.0</td>\n",
       "      <td>2.0</td>\n",
       "      <td>3.0</td>\n",
       "      <td>5.0</td>\n",
       "      <td>21040</td>\n",
       "      <td>11500000</td>\n",
       "    </tr>\n",
       "    <tr>\n",
       "      <th>2</th>\n",
       "      <td>12022</td>\n",
       "      <td>43</td>\n",
       "      <td>29.0</td>\n",
       "      <td>4.0</td>\n",
       "      <td>2.0</td>\n",
       "      <td>5.0</td>\n",
       "      <td>2.0</td>\n",
       "      <td>2.0</td>\n",
       "      <td>5.0</td>\n",
       "      <td>157010</td>\n",
       "      <td>5800000</td>\n",
       "    </tr>\n",
       "    <tr>\n",
       "      <th>3</th>\n",
       "      <td>10186</td>\n",
       "      <td>62</td>\n",
       "      <td>35.0</td>\n",
       "      <td>15.0</td>\n",
       "      <td>NaN</td>\n",
       "      <td>22.0</td>\n",
       "      <td>1.0</td>\n",
       "      <td>2.0</td>\n",
       "      <td>10.0</td>\n",
       "      <td>178264</td>\n",
       "      <td>11400000</td>\n",
       "    </tr>\n",
       "    <tr>\n",
       "      <th>4</th>\n",
       "      <td>30052</td>\n",
       "      <td>80</td>\n",
       "      <td>55.0</td>\n",
       "      <td>15.0</td>\n",
       "      <td>1.0</td>\n",
       "      <td>24.0</td>\n",
       "      <td>6.0</td>\n",
       "      <td>3.0</td>\n",
       "      <td>12.0</td>\n",
       "      <td>76284</td>\n",
       "      <td>12697154</td>\n",
       "    </tr>\n",
       "    <tr>\n",
       "      <th>...</th>\n",
       "      <td>...</td>\n",
       "      <td>...</td>\n",
       "      <td>...</td>\n",
       "      <td>...</td>\n",
       "      <td>...</td>\n",
       "      <td>...</td>\n",
       "      <td>...</td>\n",
       "      <td>...</td>\n",
       "      <td>...</td>\n",
       "      <td>...</td>\n",
       "      <td>...</td>\n",
       "    </tr>\n",
       "    <tr>\n",
       "      <th>15087</th>\n",
       "      <td>23382</td>\n",
       "      <td>69</td>\n",
       "      <td>48.0</td>\n",
       "      <td>2.0</td>\n",
       "      <td>2.0</td>\n",
       "      <td>4.0</td>\n",
       "      <td>2.0</td>\n",
       "      <td>3.0</td>\n",
       "      <td>7.0</td>\n",
       "      <td>101982</td>\n",
       "      <td>9100000</td>\n",
       "    </tr>\n",
       "    <tr>\n",
       "      <th>15088</th>\n",
       "      <td>24264</td>\n",
       "      <td>78</td>\n",
       "      <td>75.0</td>\n",
       "      <td>4.0</td>\n",
       "      <td>1.0</td>\n",
       "      <td>17.0</td>\n",
       "      <td>1.0</td>\n",
       "      <td>3.0</td>\n",
       "      <td>1.0</td>\n",
       "      <td>247469</td>\n",
       "      <td>7722400</td>\n",
       "    </tr>\n",
       "    <tr>\n",
       "      <th>15089</th>\n",
       "      <td>16165</td>\n",
       "      <td>38</td>\n",
       "      <td>19.0</td>\n",
       "      <td>15.0</td>\n",
       "      <td>3.0</td>\n",
       "      <td>17.0</td>\n",
       "      <td>1.0</td>\n",
       "      <td>1.0</td>\n",
       "      <td>8.0</td>\n",
       "      <td>101708</td>\n",
       "      <td>7000000</td>\n",
       "    </tr>\n",
       "    <tr>\n",
       "      <th>15090</th>\n",
       "      <td>10635</td>\n",
       "      <td>54</td>\n",
       "      <td>32.0</td>\n",
       "      <td>11.0</td>\n",
       "      <td>3.0</td>\n",
       "      <td>16.0</td>\n",
       "      <td>1.0</td>\n",
       "      <td>2.0</td>\n",
       "      <td>9.0</td>\n",
       "      <td>178264</td>\n",
       "      <td>7000000</td>\n",
       "    </tr>\n",
       "    <tr>\n",
       "      <th>15091</th>\n",
       "      <td>29081</td>\n",
       "      <td>154</td>\n",
       "      <td>108.0</td>\n",
       "      <td>14.0</td>\n",
       "      <td>3.0</td>\n",
       "      <td>18.0</td>\n",
       "      <td>4.0</td>\n",
       "      <td>4.0</td>\n",
       "      <td>5.0</td>\n",
       "      <td>80791</td>\n",
       "      <td>50000000</td>\n",
       "    </tr>\n",
       "  </tbody>\n",
       "</table>\n",
       "<p>15092 rows × 11 columns</p>\n",
       "</div>"
      ],
      "text/plain": [
       "          id  full_sq  life_sq  floor  state  max_floor  material  num_room  \\\n",
       "0      13324       42     28.0    8.0    2.0        9.0       1.0       2.0   \n",
       "1      10064       55     41.0    4.0    3.0        5.0       2.0       3.0   \n",
       "2      12022       43     29.0    4.0    2.0        5.0       2.0       2.0   \n",
       "3      10186       62     35.0   15.0    NaN       22.0       1.0       2.0   \n",
       "4      30052       80     55.0   15.0    1.0       24.0       6.0       3.0   \n",
       "...      ...      ...      ...    ...    ...        ...       ...       ...   \n",
       "15087  23382       69     48.0    2.0    2.0        4.0       2.0       3.0   \n",
       "15088  24264       78     75.0    4.0    1.0       17.0       1.0       3.0   \n",
       "15089  16165       38     19.0   15.0    3.0       17.0       1.0       1.0   \n",
       "15090  10635       54     32.0   11.0    3.0       16.0       1.0       2.0   \n",
       "15091  29081      154    108.0   14.0    3.0       18.0       4.0       4.0   \n",
       "\n",
       "       kitch_sq  full_all  price_doc  \n",
       "0           6.0     43795    7100000  \n",
       "1           5.0     21040   11500000  \n",
       "2           5.0    157010    5800000  \n",
       "3          10.0    178264   11400000  \n",
       "4          12.0     76284   12697154  \n",
       "...         ...       ...        ...  \n",
       "15087       7.0    101982    9100000  \n",
       "15088       1.0    247469    7722400  \n",
       "15089       8.0    101708    7000000  \n",
       "15090       9.0    178264    7000000  \n",
       "15091       5.0     80791   50000000  \n",
       "\n",
       "[15092 rows x 11 columns]"
      ]
     },
     "execution_count": 12,
     "metadata": {},
     "output_type": "execute_result"
    }
   ],
   "source": [
    "df.select_dtypes(include=[\"int\", \"float\"])"
   ]
  },
  {
   "cell_type": "code",
   "execution_count": 13,
   "metadata": {
    "colab": {
     "base_uri": "https://localhost:8080/",
     "height": 300
    },
    "executionInfo": {
     "elapsed": 580,
     "status": "ok",
     "timestamp": 1636625414282,
     "user": {
      "displayName": "Александр Аксёнов",
      "photoUrl": "https://lh3.googleusercontent.com/a-/AOh14GgpkPDdBChJz5khG7PXMg_P3ziSIZzWUDpDAjL7KA=s64",
      "userId": "11145992452404092449"
     },
     "user_tz": -300
    },
    "id": "555IsetwebCU",
    "outputId": "bde0162f-cb87-4f69-de1c-905e2d5bb90b"
   },
   "outputs": [
    {
     "data": {
      "text/html": [
       "<div>\n",
       "<style scoped>\n",
       "    .dataframe tbody tr th:only-of-type {\n",
       "        vertical-align: middle;\n",
       "    }\n",
       "\n",
       "    .dataframe tbody tr th {\n",
       "        vertical-align: top;\n",
       "    }\n",
       "\n",
       "    .dataframe thead th {\n",
       "        text-align: right;\n",
       "    }\n",
       "</style>\n",
       "<table border=\"1\" class=\"dataframe\">\n",
       "  <thead>\n",
       "    <tr style=\"text-align: right;\">\n",
       "      <th></th>\n",
       "      <th>id</th>\n",
       "      <th>full_sq</th>\n",
       "      <th>life_sq</th>\n",
       "      <th>floor</th>\n",
       "      <th>state</th>\n",
       "      <th>max_floor</th>\n",
       "      <th>material</th>\n",
       "      <th>num_room</th>\n",
       "      <th>kitch_sq</th>\n",
       "      <th>full_all</th>\n",
       "      <th>price_doc</th>\n",
       "    </tr>\n",
       "  </thead>\n",
       "  <tbody>\n",
       "    <tr>\n",
       "      <th>count</th>\n",
       "      <td>15092.0000</td>\n",
       "      <td>15092.000</td>\n",
       "      <td>13828.0000</td>\n",
       "      <td>15069.0000</td>\n",
       "      <td>12366.0000</td>\n",
       "      <td>13938.0000</td>\n",
       "      <td>13938.0000</td>\n",
       "      <td>13938.0000</td>\n",
       "      <td>13938.0000</td>\n",
       "      <td>1.5092e+04</td>\n",
       "      <td>1.5092e+04</td>\n",
       "    </tr>\n",
       "    <tr>\n",
       "      <th>mean</th>\n",
       "      <td>18772.4277</td>\n",
       "      <td>53.967</td>\n",
       "      <td>33.7849</td>\n",
       "      <td>7.2833</td>\n",
       "      <td>2.1949</td>\n",
       "      <td>12.4191</td>\n",
       "      <td>1.8958</td>\n",
       "      <td>1.9348</td>\n",
       "      <td>7.2806</td>\n",
       "      <td>1.5923e+05</td>\n",
       "      <td>7.5647e+06</td>\n",
       "    </tr>\n",
       "    <tr>\n",
       "      <th>std</th>\n",
       "      <td>7102.9068</td>\n",
       "      <td>48.082</td>\n",
       "      <td>19.7944</td>\n",
       "      <td>5.1940</td>\n",
       "      <td>0.8610</td>\n",
       "      <td>6.2642</td>\n",
       "      <td>1.5114</td>\n",
       "      <td>0.8657</td>\n",
       "      <td>30.0719</td>\n",
       "      <td>3.0380e+05</td>\n",
       "      <td>4.9852e+06</td>\n",
       "    </tr>\n",
       "    <tr>\n",
       "      <th>min</th>\n",
       "      <td>15.0000</td>\n",
       "      <td>0.000</td>\n",
       "      <td>0.0000</td>\n",
       "      <td>0.0000</td>\n",
       "      <td>1.0000</td>\n",
       "      <td>0.0000</td>\n",
       "      <td>1.0000</td>\n",
       "      <td>0.0000</td>\n",
       "      <td>0.0000</td>\n",
       "      <td>2.5460e+03</td>\n",
       "      <td>3.3146e+05</td>\n",
       "    </tr>\n",
       "    <tr>\n",
       "      <th>25%</th>\n",
       "      <td>13464.7500</td>\n",
       "      <td>38.000</td>\n",
       "      <td>20.0000</td>\n",
       "      <td>3.0000</td>\n",
       "      <td>2.0000</td>\n",
       "      <td>9.0000</td>\n",
       "      <td>1.0000</td>\n",
       "      <td>1.0000</td>\n",
       "      <td>5.0000</td>\n",
       "      <td>4.8439e+04</td>\n",
       "      <td>5.1000e+06</td>\n",
       "    </tr>\n",
       "    <tr>\n",
       "      <th>50%</th>\n",
       "      <td>19005.5000</td>\n",
       "      <td>49.000</td>\n",
       "      <td>30.0000</td>\n",
       "      <td>6.0000</td>\n",
       "      <td>2.0000</td>\n",
       "      <td>12.0000</td>\n",
       "      <td>1.0000</td>\n",
       "      <td>2.0000</td>\n",
       "      <td>7.0000</td>\n",
       "      <td>8.7713e+04</td>\n",
       "      <td>6.6500e+06</td>\n",
       "    </tr>\n",
       "    <tr>\n",
       "      <th>75%</th>\n",
       "      <td>24746.2500</td>\n",
       "      <td>63.000</td>\n",
       "      <td>43.0000</td>\n",
       "      <td>10.0000</td>\n",
       "      <td>3.0000</td>\n",
       "      <td>17.0000</td>\n",
       "      <td>2.0000</td>\n",
       "      <td>3.0000</td>\n",
       "      <td>9.0000</td>\n",
       "      <td>1.2535e+05</td>\n",
       "      <td>8.9000e+06</td>\n",
       "    </tr>\n",
       "    <tr>\n",
       "      <th>max</th>\n",
       "      <td>30473.0000</td>\n",
       "      <td>5326.000</td>\n",
       "      <td>637.0000</td>\n",
       "      <td>77.0000</td>\n",
       "      <td>33.0000</td>\n",
       "      <td>57.0000</td>\n",
       "      <td>6.0000</td>\n",
       "      <td>19.0000</td>\n",
       "      <td>2014.0000</td>\n",
       "      <td>1.7167e+06</td>\n",
       "      <td>9.5122e+07</td>\n",
       "    </tr>\n",
       "  </tbody>\n",
       "</table>\n",
       "</div>"
      ],
      "text/plain": [
       "               id    full_sq     life_sq       floor       state   max_floor  \\\n",
       "count  15092.0000  15092.000  13828.0000  15069.0000  12366.0000  13938.0000   \n",
       "mean   18772.4277     53.967     33.7849      7.2833      2.1949     12.4191   \n",
       "std     7102.9068     48.082     19.7944      5.1940      0.8610      6.2642   \n",
       "min       15.0000      0.000      0.0000      0.0000      1.0000      0.0000   \n",
       "25%    13464.7500     38.000     20.0000      3.0000      2.0000      9.0000   \n",
       "50%    19005.5000     49.000     30.0000      6.0000      2.0000     12.0000   \n",
       "75%    24746.2500     63.000     43.0000     10.0000      3.0000     17.0000   \n",
       "max    30473.0000   5326.000    637.0000     77.0000     33.0000     57.0000   \n",
       "\n",
       "         material    num_room    kitch_sq    full_all   price_doc  \n",
       "count  13938.0000  13938.0000  13938.0000  1.5092e+04  1.5092e+04  \n",
       "mean       1.8958      1.9348      7.2806  1.5923e+05  7.5647e+06  \n",
       "std        1.5114      0.8657     30.0719  3.0380e+05  4.9852e+06  \n",
       "min        1.0000      0.0000      0.0000  2.5460e+03  3.3146e+05  \n",
       "25%        1.0000      1.0000      5.0000  4.8439e+04  5.1000e+06  \n",
       "50%        1.0000      2.0000      7.0000  8.7713e+04  6.6500e+06  \n",
       "75%        2.0000      3.0000      9.0000  1.2535e+05  8.9000e+06  \n",
       "max        6.0000     19.0000   2014.0000  1.7167e+06  9.5122e+07  "
      ]
     },
     "execution_count": 13,
     "metadata": {},
     "output_type": "execute_result"
    }
   ],
   "source": [
    "df.select_dtypes(include=[\"int\", \"float\"]).describe()"
   ]
  },
  {
   "cell_type": "code",
   "execution_count": 14,
   "metadata": {
    "colab": {
     "base_uri": "https://localhost:8080/"
    },
    "executionInfo": {
     "elapsed": 332,
     "status": "ok",
     "timestamp": 1636635310475,
     "user": {
      "displayName": "Александр Аксёнов",
      "photoUrl": "https://lh3.googleusercontent.com/a-/AOh14GgpkPDdBChJz5khG7PXMg_P3ziSIZzWUDpDAjL7KA=s64",
      "userId": "11145992452404092449"
     },
     "user_tz": -300
    },
    "id": "deqriBXbej_C",
    "outputId": "c74937bb-9c44-4af0-f40e-62c23bc59ae0"
   },
   "outputs": [
    {
     "data": {
      "text/plain": [
       "<AxesSubplot:xlabel='full_sq'>"
      ]
     },
     "execution_count": 14,
     "metadata": {},
     "output_type": "execute_result"
    },
    {
     "data": {
      "image/png": "[encoded data removed]",
      "text/plain": [
       "<Figure size 432x288 with 1 Axes>"
      ]
     },
     "metadata": {
      "needs_background": "light"
     },
     "output_type": "display_data"
    }
   ],
   "source": [
    "sns.boxplot(x=df[\"full_sq\"])\n",
    "# sns.boxplot(x=df[\"kitch_sq\"]) примерно то же самое\n",
    "# sns.boxplot(x=df[\"life_sq\"]) примерно то же самое"
   ]
  },
  {
   "cell_type": "code",
   "execution_count": 15,
   "metadata": {},
   "outputs": [
    {
     "data": {
      "text/plain": [
       "<AxesSubplot:xlabel='floor'>"
      ]
     },
     "execution_count": 15,
     "metadata": {},
     "output_type": "execute_result"
    },
    {
     "data": {
      "image/png": "[encoded data removed]",
      "text/plain": [
       "<Figure size 432x288 with 1 Axes>"
      ]
     },
     "metadata": {
      "needs_background": "light"
     },
     "output_type": "display_data"
    }
   ],
   "source": [
    "sns.boxplot(x=df[\"floor\"])\n",
    "# sns.boxplot(x=df[\"max_floor\"]) примерно то же самое"
   ]
  },
  {
   "cell_type": "code",
   "execution_count": 16,
   "metadata": {},
   "outputs": [
    {
     "data": {
      "text/plain": [
       "<AxesSubplot:xlabel='material'>"
      ]
     },
     "execution_count": 16,
     "metadata": {},
     "output_type": "execute_result"
    },
    {
     "data": {
      "image/png": "[encoded data removed]",
      "text/plain": [
       "<Figure size 432x288 with 1 Axes>"
      ]
     },
     "metadata": {
      "needs_background": "light"
     },
     "output_type": "display_data"
    }
   ],
   "source": [
    "# sns.boxplot(x=df[\"state\"]) примерно то же самое\n",
    "sns.boxplot(x=df[\"material\"])\n",
    "# sns.boxplot(x=df[\"num_room\"]) примерно то же самое"
   ]
  },
  {
   "cell_type": "code",
   "execution_count": 17,
   "metadata": {},
   "outputs": [
    {
     "data": {
      "text/plain": [
       "<AxesSubplot:xlabel='full_all'>"
      ]
     },
     "execution_count": 17,
     "metadata": {},
     "output_type": "execute_result"
    },
    {
     "data": {
      "image/png": "[encoded data removed]",
      "text/plain": [
       "<Figure size 432x288 with 1 Axes>"
      ]
     },
     "metadata": {
      "needs_background": "light"
     },
     "output_type": "display_data"
    }
   ],
   "source": [
    "sns.boxplot(x=df[\"full_all\"])"
   ]
  },
  {
   "cell_type": "code",
   "execution_count": 18,
   "metadata": {},
   "outputs": [
    {
     "data": {
      "text/plain": [
       "<AxesSubplot:xlabel='price_doc'>"
      ]
     },
     "execution_count": 18,
     "metadata": {},
     "output_type": "execute_result"
    },
    {
     "data": {
      "image/png": "[encoded data removed]",
      "text/plain": [
       "<Figure size 432x288 with 1 Axes>"
      ]
     },
     "metadata": {
      "needs_background": "light"
     },
     "output_type": "display_data"
    }
   ],
   "source": [
    "sns.boxplot(x=df[\"price_doc\"])"
   ]
  },
  {
   "cell_type": "markdown",
   "metadata": {
    "id": "USQjKMAIETO8"
   },
   "source": [
    "## 1.3 Визуальный и статистический анализ данных"
   ]
  },
  {
   "cell_type": "code",
   "execution_count": 22,
   "metadata": {
    "colab": {
     "base_uri": "https://localhost:8080/",
     "height": 515
    },
    "executionInfo": {
     "elapsed": 1097,
     "status": "ok",
     "timestamp": 1636625279056,
     "user": {
      "displayName": "Александр Аксёнов",
      "photoUrl": "https://lh3.googleusercontent.com/a-/AOh14GgpkPDdBChJz5khG7PXMg_P3ziSIZzWUDpDAjL7KA=s64",
      "userId": "11145992452404092449"
     },
     "user_tz": -300
    },
    "id": "-6z1CUL0Epte",
    "outputId": "b8c439cf-1a78-408e-fa69-758cf9698812"
   },
   "outputs": [
    {
     "data": {
      "text/plain": [
       "<AxesSubplot:xlabel='price_doc', ylabel='Count'>"
      ]
     },
     "execution_count": 22,
     "metadata": {},
     "output_type": "execute_result"
    },
    {
     "data": {
      "image/png": "[encoded data removed]",
      "text/plain": [
       "<Figure size 1296x576 with 1 Axes>"
      ]
     },
     "metadata": {
      "needs_background": "light"
     },
     "output_type": "display_data"
    }
   ],
   "source": [
    "plt.figure(figsize=(18,8))\n",
    "sns.histplot(data=df.head(100), x=\"price_doc\", hue=\"state\", bins=74)"
   ]
  },
  {
   "cell_type": "markdown",
   "metadata": {},
   "source": [
    "Прямой зависимости между числом \"состояния\" квартиры и стоимостью квартиры не видно"
   ]
  },
  {
   "cell_type": "code",
   "execution_count": 4,
   "metadata": {
    "colab": {
     "base_uri": "https://localhost:8080/",
     "height": 515
    },
    "executionInfo": {
     "elapsed": 1026,
     "status": "ok",
     "timestamp": 1636625282850,
     "user": {
      "displayName": "Александр Аксёнов",
      "photoUrl": "https://lh3.googleusercontent.com/a-/AOh14GgpkPDdBChJz5khG7PXMg_P3ziSIZzWUDpDAjL7KA=s64",
      "userId": "11145992452404092449"
     },
     "user_tz": -300
    },
    "id": "uJULEf_4ErRP",
    "outputId": "2a7e6cae-64e3-4059-8d66-b3ed9d71b138"
   },
   "outputs": [
    {
     "data": {
      "text/plain": [
       "<AxesSubplot:xlabel='price_doc', ylabel='Count'>"
      ]
     },
     "execution_count": 4,
     "metadata": {},
     "output_type": "execute_result"
    },
    {
     "data": {
      "image/png": "[encoded data removed]",
      "text/plain": [
       "<Figure size 1296x576 with 1 Axes>"
      ]
     },
     "metadata": {
      "needs_background": "light"
     },
     "output_type": "display_data"
    }
   ],
   "source": [
    "plt.figure(figsize=(18,8))\n",
    "sns.histplot(data=df, x=\"price_doc\", hue=\"material\", bins=74)"
   ]
  },
  {
   "cell_type": "markdown",
   "metadata": {},
   "source": [
    "Квартиры от 0 до 20 миллионов построены в основном из материала 1"
   ]
  },
  {
   "cell_type": "code",
   "execution_count": 13,
   "metadata": {
    "colab": {
     "base_uri": "https://localhost:8080/",
     "height": 515
    },
    "executionInfo": {
     "elapsed": 859,
     "status": "ok",
     "timestamp": 1636625290262,
     "user": {
      "displayName": "Александр Аксёнов",
      "photoUrl": "https://lh3.googleusercontent.com/a-/AOh14GgpkPDdBChJz5khG7PXMg_P3ziSIZzWUDpDAjL7KA=s64",
      "userId": "11145992452404092449"
     },
     "user_tz": -300
    },
    "id": "aAyqBQnnErI1",
    "outputId": "33ff1717-eebf-4972-fcd8-745962b84cf1"
   },
   "outputs": [
    {
     "data": {
      "text/plain": [
       "<AxesSubplot:xlabel='price_doc', ylabel='floor'>"
      ]
     },
     "execution_count": 13,
     "metadata": {},
     "output_type": "execute_result"
    },
    {
     "data": {
      "image/png": "[encoded data removed]",
      "text/plain": [
       "<Figure size 1296x576 with 1 Axes>"
      ]
     },
     "metadata": {
      "needs_background": "light"
     },
     "output_type": "display_data"
    }
   ],
   "source": [
    "plt.figure(figsize=(18,8))\n",
    "sns.histplot(data=df, x=\"price_doc\", y='floor', bins=74)"
   ]
  },
  {
   "cell_type": "markdown",
   "metadata": {},
   "source": [
    "Квартиры в основном находятся в квадрате от 0 до 20 миллионов на первых этажах здания (0-10 этажи)"
   ]
  },
  {
   "cell_type": "code",
   "execution_count": 16,
   "metadata": {},
   "outputs": [
    {
     "data": {
      "text/plain": [
       "<AxesSubplot:xlabel='price_doc', ylabel='num_room'>"
      ]
     },
     "execution_count": 16,
     "metadata": {},
     "output_type": "execute_result"
    },
    {
     "data": {
      "image/png": "[encoded data removed]",
      "text/plain": [
       "<Figure size 1296x576 with 1 Axes>"
      ]
     },
     "metadata": {
      "needs_background": "light"
     },
     "output_type": "display_data"
    }
   ],
   "source": [
    "plt.figure(figsize=(18,8))\n",
    "sns.histplot(data=df, x=\"price_doc\", y='num_room', bins=74)"
   ]
  },
  {
   "cell_type": "markdown",
   "metadata": {},
   "source": [
    "Квартиры в основном находятся в квадрате от 0 до 20 миллионов с количеством жилых комнат выше 0 и до 3"
   ]
  }
 ],
 "metadata": {
  "anaconda-cloud": {},
  "colab": {
   "collapsed_sections": [
    "UTKVH3sMutTM",
    "tiFgQjEcxnu2",
    "qy4yj--r07RL",
    "USQjKMAIETO8",
    "QeOBRH60Wf1F",
    "qwyKgedLeIMT",
    "u4vIuhNgeNZx",
    "nmb5O7vgWrnf",
    "v9NMrXW4keP5",
    "j_OKzzgAmiW-",
    "CYdb_HyBnc-E",
    "O1oGo8x3qXN0",
    "sH1avRRhrWF2",
    "NBLI-3pesJ0m",
    "gv3ndpEhssD5",
    "cDEsUU-Zu4cS",
    "yzb09-GB33KV",
    "APcKwPUddmDr",
    "QaznDKFNv6jw",
    "oWsKclsog0hC",
    "mdP3P92kXxsu",
    "ZqIWfFVLXRfZ",
    "L1jG1C3BX5Cx",
    "WTgnPj6raOzL"
   ],
   "name": "01_Baseline_example.ipynb",
   "provenance": []
  },
  "kernelspec": {
   "display_name": "Python 3",
   "language": "python",
   "name": "python3"
  },
  "language_info": {
   "codemirror_mode": {
    "name": "ipython",
    "version": 3
   },
   "file_extension": ".py",
   "mimetype": "text/x-python",
   "name": "python",
   "nbconvert_exporter": "python",
   "pygments_lexer": "ipython3",
   "version": "3.9.7"
  }
 },
 "nbformat": 4,
 "nbformat_minor": 1
}
