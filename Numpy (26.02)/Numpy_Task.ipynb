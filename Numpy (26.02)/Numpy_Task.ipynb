{
 "cells": [
  {
   "cell_type": "code",
   "execution_count": 1,
   "id": "00056fc6",
   "metadata": {
    "id": "medieval-detail"
   },
   "outputs": [],
   "source": [
    "import numpy as np"
   ]
  },
  {
   "cell_type": "markdown",
   "id": "d8bba771",
   "metadata": {
    "id": "abstract-istanbul"
   },
   "source": [
    "1. Задание\n",
    "- проверьте тип объекта python_list\n",
    "- если это не numpy ndarray, то преобразуйте к нему\n",
    "- проверьте, что на выходе вы получили объект python_list желаемого типа"
   ]
  },
  {
   "cell_type": "code",
   "execution_count": 6,
   "id": "7bc10d87",
   "metadata": {
    "id": "entertaining-automation"
   },
   "outputs": [
    {
     "name": "stdout",
     "output_type": "stream",
     "text": [
      "<class 'list'>\n",
      "<class 'numpy.ndarray'>\n"
     ]
    }
   ],
   "source": [
    "python_list = [1, 12, 13, 45, 76, 45, 98, 0]\n",
    "print(type(python_list))\n",
    "python_list =np.array(python_list) \n",
    "print(type(python_list))"
   ]
  },
  {
   "cell_type": "markdown",
   "id": "8591695b",
   "metadata": {
    "id": "loose-tobago"
   },
   "source": [
    "2. Задание\n",
    "- создайте одномерный массив numpy из 10 элементов заполненный числом 1.5"
   ]
  },
  {
   "cell_type": "code",
   "execution_count": 4,
   "id": "020116de",
   "metadata": {
    "id": "included-polymer"
   },
   "outputs": [
    {
     "name": "stdout",
     "output_type": "stream",
     "text": [
      "[1.5 1.5 1.5 1.5 1.5 1.5 1.5 1.5 1.5 1.5]\n"
     ]
    }
   ],
   "source": [
    "z =  np.full(10, 1.5)\n",
    "print(z)"
   ]
  },
  {
   "cell_type": "markdown",
   "id": "c8eec8c8",
   "metadata": {
    "id": "threatened-theme"
   },
   "source": [
    "3. Задание\n",
    "- создайте двумерный массив numpy из 25 элементов заполненный числом 0"
   ]
  },
  {
   "cell_type": "code",
   "execution_count": 8,
   "id": "a1ae212d",
   "metadata": {
    "id": "alert-endorsement"
   },
   "outputs": [
    {
     "name": "stdout",
     "output_type": "stream",
     "text": [
      "[[0. 0. 0. 0. 0. 0. 0. 0. 0. 0. 0. 0. 0. 0. 0. 0. 0. 0. 0. 0. 0. 0. 0. 0.\n",
      "  0.]\n",
      " [0. 0. 0. 0. 0. 0. 0. 0. 0. 0. 0. 0. 0. 0. 0. 0. 0. 0. 0. 0. 0. 0. 0. 0.\n",
      "  0.]]\n"
     ]
    }
   ],
   "source": [
    "z = np.zeros((2,25))\n",
    "print(z)"
   ]
  },
  {
   "cell_type": "markdown",
   "id": "9f68a76e",
   "metadata": {
    "id": "federal-blackberry"
   },
   "source": [
    "4. Задание\n",
    "- создайте одномерный массив numpy из 12 элементов заполненный числом 1"
   ]
  },
  {
   "cell_type": "code",
   "execution_count": 9,
   "id": "c10c452b",
   "metadata": {
    "id": "static-filing"
   },
   "outputs": [
    {
     "name": "stdout",
     "output_type": "stream",
     "text": [
      "[1. 1. 1. 1. 1. 1. 1. 1. 1. 1.]\n"
     ]
    }
   ],
   "source": [
    "ones = np.ones(10)\n",
    "print(ones)"
   ]
  },
  {
   "cell_type": "markdown",
   "id": "144e416d",
   "metadata": {
    "id": "whole-chassis"
   },
   "source": [
    "5. Задание\n",
    "- преобразуйте массив из предыдущего задания к матрице 3 на 4\n",
    "- выведите размерность полученного массива"
   ]
  },
  {
   "cell_type": "code",
   "execution_count": 11,
   "id": "b6f8e4e7",
   "metadata": {
    "id": "outstanding-deviation"
   },
   "outputs": [
    {
     "data": {
      "text/plain": [
       "(3, 4)"
      ]
     },
     "execution_count": 11,
     "metadata": {},
     "output_type": "execute_result"
    }
   ],
   "source": [
    "ones = np.zeros((3,4))\n",
    "ones.shape"
   ]
  },
  {
   "cell_type": "markdown",
   "id": "0641b459",
   "metadata": {
    "id": "cubic-noise"
   },
   "source": [
    "6. Задание\n",
    "- создайте матрицу 4 на 5 заполненную числами от 1 до 20\n",
    "- замените элемент в 3-й строке 4-м столбце на -99"
   ]
  },
  {
   "cell_type": "code",
   "execution_count": 14,
   "id": "27217584",
   "metadata": {
    "id": "foster-memory"
   },
   "outputs": [
    {
     "name": "stdout",
     "output_type": "stream",
     "text": [
      "[[ 1  2  3  4  5]\n",
      " [ 6  7  8  9 10]\n",
      " [11 12 13 14 15]\n",
      " [16 17 18 19 20]]\n",
      "[[  1   2   3   4   5]\n",
      " [  6   7   8   9  10]\n",
      " [ 11  12  13 -99  15]\n",
      " [ 16  17  18  19  20]]\n"
     ]
    }
   ],
   "source": [
    "Z = np.arange(1,21).reshape(4,5)\n",
    "print(Z)\n",
    "Z[2][3]=-99\n",
    "print(Z)"
   ]
  },
  {
   "cell_type": "markdown",
   "id": "b24f0c79",
   "metadata": {
    "id": "helpful-table"
   },
   "source": [
    "7. Задание\n",
    "- создайте вектор длинной 15 со случайными целыми числами в диапазоне от -10 до 10\n",
    "- сделайте реверс вектора"
   ]
  },
  {
   "cell_type": "code",
   "execution_count": 16,
   "id": "ca00e6bc",
   "metadata": {
    "id": "magnetic-leone"
   },
   "outputs": [
    {
     "name": "stdout",
     "output_type": "stream",
     "text": [
      "[-8  1 -9  2  2 -2 -7 -7  0 -1  5 -9 -7 -3  9]\n",
      "[ 9 -3 -7 -9  5 -1  0 -7 -7 -2  2  2 -9  1 -8]\n"
     ]
    }
   ],
   "source": [
    "first =  np.random.randint(-10, 10, 15)\n",
    "print(first)\n",
    "second = first[::-1]\n",
    "print(second)"
   ]
  },
  {
   "cell_type": "markdown",
   "id": "7a50c470",
   "metadata": {
    "id": "executed-september"
   },
   "source": [
    "8. Задание\n",
    "- создайте матрицу 5 на 5 со случайными целыми числами в диапазоне от -15 до 15\n",
    "- замените отрицательные элементы на их квадраты"
   ]
  },
  {
   "cell_type": "code",
   "execution_count": 24,
   "id": "46f505e7",
   "metadata": {
    "id": "pharmaceutical-sigma"
   },
   "outputs": [
    {
     "name": "stdout",
     "output_type": "stream",
     "text": [
      "[[ -3 -10 -11  11 -12]\n",
      " [  7   3   9   2   2]\n",
      " [ 11   3   6  -5 -13]\n",
      " [  9 -14   4   6 -15]\n",
      " [ 11  -8  13  -9   1]]\n",
      "[[  9 100 121  11 144]\n",
      " [  7   3   9   2   2]\n",
      " [ 11   3   6  25 169]\n",
      " [  9 196   4   6 225]\n",
      " [ 11  64  13  81   1]]\n"
     ]
    }
   ],
   "source": [
    "first = np.random.randint(-15, 15, 25).reshape(5,5)\n",
    "print(first)\n",
    "first=np.where(first >= 0, first, first**2)\n",
    "print(first)"
   ]
  },
  {
   "cell_type": "markdown",
   "id": "9822dce6",
   "metadata": {
    "id": "floral-difference"
   },
   "source": [
    "9. Задание\n",
    "- создайте матрицу 3 на 5 со случайными целыми числами в диапазоне от -15 до 15\n",
    "- найдите максимум и минимум\n",
    "- найдите среднее по столбцам\n",
    "- найдите среднее по строкам"
   ]
  },
  {
   "cell_type": "code",
   "execution_count": 27,
   "id": "56c21296",
   "metadata": {
    "id": "saving-conference"
   },
   "outputs": [
    {
     "name": "stdout",
     "output_type": "stream",
     "text": [
      "max = 14   min =  -14\n",
      "[ -6.33333333   5.33333333   6.         -11.33333333  -1.66666667]\n",
      "[ 4.4 -6.2 -3. ]\n"
     ]
    }
   ],
   "source": [
    "first = np.random.randint(-15,15,15).reshape(3,5)\n",
    "print('max =',first.max(),'  min = ',first.min())\n",
    "print(np.mean(first, axis=0))\n",
    "print(np.mean(first, axis=1))\n"
   ]
  },
  {
   "cell_type": "markdown",
   "id": "1c6b9bbd",
   "metadata": {
    "id": "diagnostic-departure"
   },
   "source": [
    "10. Задание\n",
    "- даны две матрицы\n",
    "- убедитесь, что их можно пермножить\n",
    "- произведите операцию умножения матриц, если это возможно, иначе выведите ошибку"
   ]
  },
  {
   "cell_type": "code",
   "execution_count": 39,
   "id": "0b67d611",
   "metadata": {
    "id": "olympic-qatar"
   },
   "outputs": [
    {
     "name": "stdout",
     "output_type": "stream",
     "text": [
      "4\n",
      "a =  [[ 3  1  8 -5  0]\n",
      " [ 5 -8 -9 -1 -6]]\n",
      "b =  [[-8 -3 -7]\n",
      " [ 4  3 -2]\n",
      " [-6  5  6]\n",
      " [-2 -5  6]]\n",
      "ERORR\n"
     ]
    }
   ],
   "source": [
    "a = np.random.randint(-10, 10, (2, 5))\n",
    "first_axis = np.random.randint(4, 6)\n",
    "print(first_axis)\n",
    "b = np.random.randint(-10, 10, (first_axis, 3))\n",
    "print('a = ',a)\n",
    "print('b = ',b)\n",
    "if first_axis==5 : \n",
    "    print(a @ b)\n",
    "else:\n",
    "    print('ERORR')"
   ]
  },
  {
   "cell_type": "markdown",
   "id": "d23820e8",
   "metadata": {
    "id": "governmental-austin"
   },
   "source": [
    "11. Задание\n",
    "- создайте матрицу 5 на 5 заполненную равномерным распределением с диапазоно 2-12\n",
    "- заполните все элементы ниже главной диагонали нулями"
   ]
  },
  {
   "cell_type": "code",
   "execution_count": 44,
   "id": "11d86f90",
   "metadata": {
    "id": "suffering-mauritius"
   },
   "outputs": [
    {
     "name": "stdout",
     "output_type": "stream",
     "text": [
      "[[ 7.92010625 11.36560755  5.07377193  5.5451433   3.42716431]\n",
      " [ 0.          4.1085034   5.05344562  8.18278933  9.949788  ]\n",
      " [ 0.          0.          5.46467252 11.55888497  4.21476714]\n",
      " [ 0.          0.          0.         11.37666149  8.98377418]\n",
      " [ 0.          0.          0.          0.          3.84409421]]\n"
     ]
    }
   ],
   "source": [
    "mask = np.random.uniform(2, 12, (5,5))\n",
    "mask[np.tril_indices(5, -1)] = 0\n",
    "\n",
    "print(mask)"
   ]
  },
  {
   "cell_type": "markdown",
   "id": "74658284",
   "metadata": {
    "id": "altered-baghdad"
   },
   "source": [
    "12. Задание\n",
    "- создайте матрицу 5 на 5 заполненную нормальным распределением с парметрами среднее 10 и отклонение 2\n",
    "- заполните все элементы на главной диагонали нулями"
   ]
  },
  {
   "cell_type": "code",
   "execution_count": 51,
   "id": "26058661",
   "metadata": {
    "id": "refined-stuff"
   },
   "outputs": [
    {
     "name": "stdout",
     "output_type": "stream",
     "text": [
      "[[ 0.         12.82128638  8.49602145  9.82423924 10.41807673]\n",
      " [12.93912744  0.         12.25587995 10.74667337 12.83488576]\n",
      " [ 4.82578851 12.27679585  0.         12.13315168 11.74028776]\n",
      " [11.55867347 10.23980665  8.94544285  0.          6.643776  ]\n",
      " [12.03479372 11.17143894 14.57082179 14.16699985  0.        ]]\n"
     ]
    }
   ],
   "source": [
    "mask = np.random.normal(10, 2, (5,5))\n",
    "np.fill_diagonal(mask, 0)\n",
    "\n",
    "print(mask)"
   ]
  },
  {
   "cell_type": "markdown",
   "id": "5be98c06",
   "metadata": {
    "id": "quiet-complement"
   },
   "source": [
    "13. Задание\n",
    "- дано два массива, проверить одинаковы ли они"
   ]
  },
  {
   "cell_type": "code",
   "execution_count": 70,
   "id": "8017886c",
   "metadata": {
    "id": "french-fighter"
   },
   "outputs": [
    {
     "name": "stdout",
     "output_type": "stream",
     "text": [
      "[0 1 1 0 1]\n",
      "[0 1 1 0 1]\n",
      "True\n"
     ]
    }
   ],
   "source": [
    "a = np.random.randint(0,2,5)\n",
    "print(a)\n",
    "b = np.random.randint(0,2,5)\n",
    "print(b)\n",
    "equal = np.array_equal(a, b)\n",
    "print(equal)"
   ]
  },
  {
   "cell_type": "markdown",
   "id": "463eda9a",
   "metadata": {
    "id": "color-amplifier"
   },
   "source": [
    "14. Задание\n",
    "- сгенерируйте матрицу случайного размера:\n",
    " - строк от 3 до 7\n",
    " - столбцов от 2 до 12\n",
    "- сгенерируйте число N - размер выборки так, чтобы оно не превышало половину количества элементов сгенерированной матрицы, но было больше 0\n",
    "- сделайте случайную выборку N элементов"
   ]
  },
  {
   "cell_type": "code",
   "execution_count": 75,
   "id": "37f3c9b3",
   "metadata": {
    "id": "close-daisy"
   },
   "outputs": [
    {
     "name": "stdout",
     "output_type": "stream",
     "text": [
      "[[-18  10 -19  -5   9]\n",
      " [-16   7 -18  -2 -12]\n",
      " [-13  12   6  -5 -10]\n",
      " [  2   2  -6   7   6]]\n",
      "10\n",
      "[-10 -19   2 -19   6 -18 -18 -12 -18  -5]\n"
     ]
    }
   ],
   "source": [
    "r, c = np.random.randint(3, 7), np.random.randint(2,12)\n",
    "a = np.random.randint(-20,20,(r,c)) \n",
    "print(a)\n",
    "N = (r * c)//2\n",
    "print(N)\n",
    "sample = np.random.choice(a.ravel(),size=N )\n",
    "print(sample)"
   ]
  },
  {
   "cell_type": "markdown",
   "id": "dec0d5eb",
   "metadata": {
    "id": "patent-african"
   },
   "source": [
    "15. Задание\n",
    "- дан вектор, проверить есть в нем Nan\n",
    "- проверить есть в нем знак бесконечности\n",
    "- заполнить их нулями"
   ]
  },
  {
   "cell_type": "code",
   "execution_count": 79,
   "id": "b6f0cf20",
   "metadata": {
    "id": "taken-fabric"
   },
   "outputs": [
    {
     "name": "stdout",
     "output_type": "stream",
     "text": [
      "[False  True False]\n",
      "[False False  True]\n",
      "[1. 0. 0.]\n"
     ]
    }
   ],
   "source": [
    "a = np.array([1, np.NaN, np.Inf], float)\n",
    "print(np.isnan(a))\n",
    "print(np.isinf(a))\n",
    "a[1:]=0\n",
    "print(a)"
   ]
  },
  {
   "cell_type": "markdown",
   "id": "99a71241",
   "metadata": {
    "id": "analyzed-ireland"
   },
   "source": [
    "16. Задание\n",
    "- сгенерировать массив с произвольным числом осей\n",
    "- определить сколько у него осей"
   ]
  },
  {
   "cell_type": "code",
   "execution_count": 80,
   "id": "dfff896c",
   "metadata": {
    "id": "imposed-digest"
   },
   "outputs": [
    {
     "ename": "SyntaxError",
     "evalue": "invalid syntax (TEMP/ipykernel_15104/3650866403.py, line 3)",
     "output_type": "error",
     "traceback": [
      "\u001b[1;36m  File \u001b[1;32m\"C:\\TEMP/ipykernel_15104/3650866403.py\"\u001b[1;36m, line \u001b[1;32m3\u001b[0m\n\u001b[1;33m    matrix =\u001b[0m\n\u001b[1;37m             ^\u001b[0m\n\u001b[1;31mSyntaxError\u001b[0m\u001b[1;31m:\u001b[0m invalid syntax\n"
     ]
    }
   ],
   "source": [
    "axis = np.random.randint(0,8)\n",
    "print(axis)\n",
    "matrix = \n",
    "print(...)"
   ]
  },
  {
   "cell_type": "markdown",
   "id": "bb326482",
   "metadata": {
    "id": "regulation-colleague"
   },
   "source": [
    "17. Задание\n",
    "- сгенерируйте матрицу 10 на 3 с нормальным распределением, среднее 50, отклонение 10\n",
    "- найдите индексы максимальных элементов в каждой строке\n",
    "- найдите сами элементы"
   ]
  },
  {
   "cell_type": "code",
   "execution_count": 83,
   "id": "aaea7004",
   "metadata": {
    "id": "concerned-anthropology"
   },
   "outputs": [
    {
     "name": "stdout",
     "output_type": "stream",
     "text": [
      "[[30.73025906 40.90631352 39.95558797]\n",
      " [51.79175254 41.74779145 44.56792504]\n",
      " [38.73284375 51.43317807 58.10537794]\n",
      " [56.64429624 48.4979982  54.17155048]\n",
      " [50.18333487 43.32305745 55.34790462]\n",
      " [46.91535895 50.93002185 53.342039  ]\n",
      " [49.82315325 39.2204469  58.43315731]\n",
      " [49.79818856 41.07638651 56.1738985 ]\n",
      " [46.54871159 33.2682273  44.25880325]\n",
      " [50.07869666 56.98230009 59.21777598]]\n",
      "[1 0 2 0 2 2 2 2 0 2]\n",
      "[40.90631352 51.79175254 58.10537794 56.64429624 55.34790462 53.342039\n",
      " 58.43315731 56.1738985  46.54871159 59.21777598]\n"
     ]
    }
   ],
   "source": [
    "matrix = np.random.normal(50, 10, (10,3))\n",
    "print(matrix)\n",
    "indexes = np.argmax(matrix, axis=1)\n",
    "print(indexes)\n",
    "print(np.amax(matrix, axis=1))"
   ]
  }
 ],
 "metadata": {
  "colab": {
   "collapsed_sections": [],
   "name": "01_task.ipynb",
   "provenance": []
  },
  "kernelspec": {
   "display_name": "Python 3 (ipykernel)",
   "language": "python",
   "name": "python3"
  },
  "language_info": {
   "codemirror_mode": {
    "name": "ipython",
    "version": 3
   },
   "file_extension": ".py",
   "mimetype": "text/x-python",
   "name": "python",
   "nbconvert_exporter": "python",
   "pygments_lexer": "ipython3",
   "version": "3.9.7"
  }
 },
 "nbformat": 4,
 "nbformat_minor": 5
}
