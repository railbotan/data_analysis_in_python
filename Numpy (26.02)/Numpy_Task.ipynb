{
 "cells": [
  {
   "cell_type": "code",
   "execution_count": 3,
   "id": "f125f27f-05bb-43e2-be34-21b7e87c0b4d",
   "metadata": {
    "id": "medieval-detail"
   },
   "outputs": [],
   "source": [
    "import numpy as np"
   ]
  },
  {
   "cell_type": "markdown",
   "id": "bad022a2-22ad-464d-ba71-7ca71e64ba1c",
   "metadata": {
    "id": "abstract-istanbul"
   },
   "source": [
    "1. Задание\n",
    "- проверьте тип объекта python_list\n",
    "- если это не numpy ndarray, то преобразуйте к нему\n",
    "- проверьте, что на выходе вы получили объект python_list желаемого типа"
   ]
  },
  {
   "cell_type": "code",
   "execution_count": 5,
   "id": "45d3c48b-ac25-46f2-9419-61e1d2499185",
   "metadata": {
    "id": "entertaining-automation"
   },
   "outputs": [
    {
     "name": "stdout",
     "output_type": "stream",
     "text": [
      "<class 'list'>\n",
      "<class 'numpy.ndarray'>\n"
     ]
    }
   ],
   "source": [
    "python_list = [1, 12, 13, 45, 76, 45, 98, 0]\n",
    "print(type(python_list))\n",
    "python_list = np.array(python_list)\n",
    "print(type(python_list))"
   ]
  },
  {
   "cell_type": "markdown",
   "id": "e57137f8-29fb-4fb6-be79-3a933601c8fb",
   "metadata": {
    "id": "loose-tobago"
   },
   "source": [
    "2. Задание\n",
    "- создайте одномерный массив numpy из 10 элементов заполненный числом 1.5"
   ]
  },
  {
   "cell_type": "code",
   "execution_count": 6,
   "id": "a0f511c6-d9cf-4a29-abd1-5dface554bbf",
   "metadata": {
    "id": "included-polymer"
   },
   "outputs": [
    {
     "name": "stdout",
     "output_type": "stream",
     "text": [
      "[1.5 1.5 1.5 1.5 1.5 1.5 1.5 1.5 1.5 1.5]\n"
     ]
    }
   ],
   "source": [
    "z = np.full(10, 1.5)\n",
    "print(z)"
   ]
  },
  {
   "cell_type": "markdown",
   "id": "77e72d02-590f-4636-a45c-367845abceb5",
   "metadata": {
    "id": "threatened-theme"
   },
   "source": [
    "3. Задание\n",
    "- создайте двумерный массив numpy из 25 элементов заполненный числом 0"
   ]
  },
  {
   "cell_type": "code",
   "execution_count": 8,
   "id": "834a57ac-c7ca-46d5-98c8-ed3f0aaee6cc",
   "metadata": {
    "id": "alert-endorsement"
   },
   "outputs": [
    {
     "name": "stdout",
     "output_type": "stream",
     "text": [
      "[[0. 0. 0. 0. 0. 0. 0. 0. 0. 0. 0. 0. 0. 0. 0. 0. 0. 0. 0. 0. 0. 0. 0. 0.\n",
      "  0.]\n",
      " [0. 0. 0. 0. 0. 0. 0. 0. 0. 0. 0. 0. 0. 0. 0. 0. 0. 0. 0. 0. 0. 0. 0. 0.\n",
      "  0.]]\n"
     ]
    }
   ],
   "source": [
    "z = np.zeros((2, 25))\n",
    "print(z)"
   ]
  },
  {
   "cell_type": "markdown",
   "id": "c4a9873d-2128-4268-b899-0dfdda9fbffc",
   "metadata": {
    "id": "federal-blackberry"
   },
   "source": [
    "4. Задание\n",
    "- создайте одномерный массив numpy из 12 элементов заполненный числом 1"
   ]
  },
  {
   "cell_type": "code",
   "execution_count": 10,
   "id": "14e4b538-ea07-4f55-9d32-cd40fc96378f",
   "metadata": {
    "id": "static-filing"
   },
   "outputs": [
    {
     "name": "stdout",
     "output_type": "stream",
     "text": [
      "[1. 1. 1. 1. 1. 1. 1. 1. 1. 1. 1. 1.]\n"
     ]
    }
   ],
   "source": [
    "ones = np.ones(12)\n",
    "print(ones)"
   ]
  },
  {
   "cell_type": "markdown",
   "id": "0c97e1af-56e4-41cf-9b11-f406f287b55a",
   "metadata": {
    "id": "whole-chassis"
   },
   "source": [
    "5. Задание\n",
    "- преобразуйте массив из предыдущего задания к матрице 3 на 4\n",
    "- выведите размерность полученного массива"
   ]
  },
  {
   "cell_type": "code",
   "execution_count": 11,
   "id": "d455e5bc-d250-434b-96fb-17c7eedb16c9",
   "metadata": {
    "id": "outstanding-deviation"
   },
   "outputs": [
    {
     "data": {
      "text/plain": [
       "(3, 4)"
      ]
     },
     "execution_count": 11,
     "metadata": {},
     "output_type": "execute_result"
    }
   ],
   "source": [
    "ones = ones.reshape((3, 4))\n",
    "ones.shape"
   ]
  },
  {
   "cell_type": "markdown",
   "id": "75e2f0fc-c75e-4850-bc0d-ed8c364d4ddf",
   "metadata": {
    "id": "cubic-noise"
   },
   "source": [
    "6. Задание\n",
    "- создайте матрицу 4 на 5 заполненную числами от 1 до 20\n",
    "- замените элемент в 3-й строке 4-м столбце на -99"
   ]
  },
  {
   "cell_type": "code",
   "execution_count": 12,
   "id": "82e562ab-9593-4591-b9d6-8e6e0a3cdda4",
   "metadata": {
    "id": "foster-memory"
   },
   "outputs": [
    {
     "name": "stdout",
     "output_type": "stream",
     "text": [
      "[[ 1  2  3  4  5]\n",
      " [ 6  7  8  9 10]\n",
      " [11 12 13 14 15]\n",
      " [16 17 18 19 20]]\n",
      "[[  1   2   3   4   5]\n",
      " [  6   7   8   9  10]\n",
      " [ 11  12  13 -99  15]\n",
      " [ 16  17  18  19  20]]\n"
     ]
    }
   ],
   "source": [
    "Z = np.arange(1, 21).reshape(4, 5)\n",
    "print(Z)\n",
    "Z[2, 3] = -99\n",
    "print(Z)"
   ]
  },
  {
   "cell_type": "markdown",
   "id": "672cb33f-b455-4508-8686-89d98aaba97d",
   "metadata": {
    "id": "helpful-table"
   },
   "source": [
    "7. Задание\n",
    "- создайте вектор длинной 15 со случайными целыми числами в диапазоне от -10 до 10\n",
    "- сделайте реверс вектора"
   ]
  },
  {
   "cell_type": "code",
   "execution_count": 15,
   "id": "2c930315-9e2a-4ebe-aa5f-08a6ee40e9f9",
   "metadata": {
    "id": "magnetic-leone"
   },
   "outputs": [
    {
     "name": "stdout",
     "output_type": "stream",
     "text": [
      "[-6  9 -6 -3 -5 -7 -1  1  3 -4  2  5  7  6 -4]\n",
      "[-4  6  7  5  2 -4  3  1 -1 -7 -5 -3 -6  9 -6]\n"
     ]
    }
   ],
   "source": [
    "first = np.random.randint(-10, 10, 15)\n",
    "print(first)\n",
    "second = first[::-1]\n",
    "print(second)"
   ]
  },
  {
   "cell_type": "markdown",
   "id": "4705f481-0030-4971-bbb6-7a63c13f447b",
   "metadata": {
    "id": "executed-september"
   },
   "source": [
    "8. Задание\n",
    "- создайте матрицу 5 на 5 со случайными целыми числами в диапазоне от -15 до 15\n",
    "- замените отрицательные элементы на их квадраты"
   ]
  },
  {
   "cell_type": "code",
   "execution_count": 17,
   "id": "7c6979ee-ea49-4b7a-9d25-8dcefe66ddf9",
   "metadata": {
    "id": "pharmaceutical-sigma"
   },
   "outputs": [
    {
     "name": "stdout",
     "output_type": "stream",
     "text": [
      "[[12 -2 -9 -9  4]\n",
      " [-5 -3  0 11 12]\n",
      " [ 9 13  8 12 -7]\n",
      " [-8 -9 14 -3  2]\n",
      " [-8 -1 -4 -3 -1]]\n",
      "[[12  4 81 81  4]\n",
      " [25  9  0 11 12]\n",
      " [ 9 13  8 12 49]\n",
      " [64 81 14  9  2]\n",
      " [64  1 16  9  1]]\n"
     ]
    }
   ],
   "source": [
    "first = np.random.randint(-15, 15, 25).reshape(5, 5)\n",
    "print(first)\n",
    "first = np.where(first >= 0, first, first**2)\n",
    "print(first)"
   ]
  },
  {
   "cell_type": "markdown",
   "id": "a2ef202b-0128-4504-9d5f-c6a188c934a8",
   "metadata": {
    "id": "floral-difference"
   },
   "source": [
    "9. Задание\n",
    "- создайте матрицу 3 на 5 со случайными целыми числами в диапазоне от -15 до 15\n",
    "- найдите максимум и минимум\n",
    "- найдите среднее по столбцам\n",
    "- найдите среднее по строкам"
   ]
  },
  {
   "cell_type": "code",
   "execution_count": 20,
   "id": "0874190b-9763-4073-a573-3c22fb79885e",
   "metadata": {
    "id": "saving-conference"
   },
   "outputs": [
    {
     "name": "stdout",
     "output_type": "stream",
     "text": [
      "[[  3 -14  13  -9  12]\n",
      " [ -5   1   3  -6   3]\n",
      " [  3  13  -5  10  -1]]\n",
      "max = 13; min - -14;\n",
      "[ 0.33333333  0.          3.66666667 -1.66666667  4.66666667]\n",
      "[ 1.  -0.8  4. ]\n"
     ]
    }
   ],
   "source": [
    "first = np.random.randint(-15, 15, 15).reshape(3, 5)\n",
    "print(first)\n",
    "print(f\"max = {first.max()}; min - {first.min()};\")\n",
    "print(np.mean(first, axis=0))\n",
    "print(np.mean(first, axis=1))\n"
   ]
  },
  {
   "cell_type": "markdown",
   "id": "15d47024-2ccd-415a-ab51-a420933510f8",
   "metadata": {
    "id": "diagnostic-departure"
   },
   "source": [
    "10. Задание\n",
    "- даны две матрицы\n",
    "- убедитесь, что их можно пермножить\n",
    "- произведите операцию умножения матриц, если это возможно, иначе выведите ошибку"
   ]
  },
  {
   "cell_type": "code",
   "execution_count": 3,
   "id": "0aaf572f-0e40-4186-a33c-6e183e623e22",
   "metadata": {
    "id": "olympic-qatar"
   },
   "outputs": [
    {
     "name": "stdout",
     "output_type": "stream",
     "text": [
      "5\n",
      "a =  [[-1  0  0  0 -4]\n",
      " [-8  3 -7  4  2]]\n",
      "b =  [[-6  9  3]\n",
      " [ 9  7 -4]\n",
      " [ 3 -1 -9]\n",
      " [ 8 -8  5]\n",
      " [ 7 -1 -2]]\n",
      "[[-22  -5   5]\n",
      " [100 -78  43]]\n"
     ]
    }
   ],
   "source": [
    "a = np.random.randint(-10, 10, (2, 5))\n",
    "first_axis = np.random.randint(4, 6)\n",
    "print(first_axis)\n",
    "b = np.random.randint(-10, 10, (first_axis, 3))\n",
    "print('a = ',a)\n",
    "print('b = ',b)\n",
    "if first_axis==5 : \n",
    "    print(a @ b)\n",
    "else:\n",
    "    print('ERORR')"
   ]
  },
  {
   "cell_type": "markdown",
   "id": "22c928a9-4f11-4c95-ab1a-f3632595cf67",
   "metadata": {
    "id": "governmental-austin"
   },
   "source": [
    "11. Задание\n",
    "- создайте матрицу 5 на 5 заполненную равномерным распределением с диапазоно 2-12\n",
    "- заполните все элементы ниже главной диагонали нулями"
   ]
  },
  {
   "cell_type": "code",
   "execution_count": 6,
   "id": "08b8c72f-e504-4b95-a30f-1f0747f9526e",
   "metadata": {
    "id": "suffering-mauritius"
   },
   "outputs": [
    {
     "name": "stdout",
     "output_type": "stream",
     "text": [
      "[[ 7.46661456  2.74228464  6.46365292 11.57467534  3.72174496]\n",
      " [ 0.          7.98833153 10.32534704  3.10539402  3.50187194]\n",
      " [ 0.          0.          2.26596132  4.2688381   6.67929945]\n",
      " [ 0.          0.          0.         11.49534556  5.74590548]\n",
      " [ 0.          0.          0.          0.          7.01714748]]\n"
     ]
    }
   ],
   "source": [
    "mask = np.random.uniform(2, 12, (5,5))\n",
    "mask[np.tril_indices(5, -1)] = 0\n",
    "\n",
    "print(mask)"
   ]
  },
  {
   "cell_type": "markdown",
   "id": "0a095a47-9357-484a-8d1b-50c171c030d2",
   "metadata": {
    "id": "altered-baghdad"
   },
   "source": [
    "12. Задание\n",
    "- создайте матрицу 5 на 5 заполненную нормальным распределением с парметрами среднее 10 и отклонение 2\n",
    "- заполните все элементы на главной диагонали нулями"
   ]
  },
  {
   "cell_type": "code",
   "execution_count": 8,
   "id": "c7811198-5c9c-4d69-aec6-dd8c9b57718a",
   "metadata": {
    "id": "refined-stuff"
   },
   "outputs": [
    {
     "name": "stdout",
     "output_type": "stream",
     "text": [
      "[[ 0.         13.03693356  8.78801168 10.01754459  9.08361603]\n",
      " [ 8.05666906  0.         13.72699202 10.79345868  9.89890479]\n",
      " [14.29876326  9.80398181  0.         12.13033643  6.58345871]\n",
      " [12.66589377 11.96527085 10.19919009  0.          8.37674351]\n",
      " [12.58833494 12.3561968   9.42686704  8.54595175  0.        ]]\n"
     ]
    }
   ],
   "source": [
    "mask = np.random.normal(10, 2, (5,5))\n",
    "np.fill_diagonal(mask, 0)\n",
    "\n",
    "print(mask)"
   ]
  },
  {
   "cell_type": "markdown",
   "id": "c3dd99f5-0580-48cf-ba05-1dc03d5120d8",
   "metadata": {
    "id": "quiet-complement"
   },
   "source": [
    "13. Задание\n",
    "- дано два массива, проверить одинаковы ли они"
   ]
  },
  {
   "cell_type": "code",
   "execution_count": 18,
   "id": "799e8257-9952-4bde-86f1-7ad9600c2086",
   "metadata": {
    "id": "french-fighter"
   },
   "outputs": [
    {
     "name": "stdout",
     "output_type": "stream",
     "text": [
      "[0 1 0 1 0]\n",
      "[0 0 1 0 1]\n"
     ]
    },
    {
     "data": {
      "text/plain": [
       "False"
      ]
     },
     "execution_count": 18,
     "metadata": {},
     "output_type": "execute_result"
    }
   ],
   "source": [
    "a = np.random.randint(0,2,5)\n",
    "print(a)\n",
    "b = np.random.randint(0,2,5)\n",
    "print(b)\n",
    "equal = np.array_equal(a, b)\n",
    "equal"
   ]
  },
  {
   "cell_type": "markdown",
   "id": "996bdf28-1959-43c7-9414-152d475fe315",
   "metadata": {
    "id": "color-amplifier"
   },
   "source": [
    "14. Задание\n",
    "- сгенерируйте матрицу случайного размера:\n",
    " - строк от 3 до 7\n",
    " - столбцов от 2 до 12\n",
    "- сгенерируйте число N - размер выборки так, чтобы оно не превышало половину количества элементов сгенерированной матрицы, но было больше 0\n",
    "- сделайте случайную выборку N элементов"
   ]
  },
  {
   "cell_type": "code",
   "execution_count": 16,
   "id": "1946daa7-fadf-411f-a1eb-ad7e9538a498",
   "metadata": {
    "id": "close-daisy"
   },
   "outputs": [
    {
     "name": "stdout",
     "output_type": "stream",
     "text": [
      "[[-12   8 -14  12 -16   3]\n",
      " [  7  -4 -11   5   2   0]\n",
      " [ 10  12 -16  -9   2 -18]\n",
      " [ -5  10 -17  15   8   8]\n",
      " [-11 -14  19  17   6   6]]\n",
      "15\n",
      "[ -5   3   8   8   8 -17   2   6   8 -14   8   6   8  -4 -12]\n"
     ]
    }
   ],
   "source": [
    "r, c = np.random.randint(3, 7), np.random.randint(2,12)\n",
    "a = np.random.randint(-20,20,(r,c)) \n",
    "print(a)\n",
    "N = (r * c)//2\n",
    "print(N)\n",
    "sample = np.random.choice(a.ravel(),size=N )\n",
    "print(sample)"
   ]
  },
  {
   "cell_type": "markdown",
   "id": "1241a6f0-9899-487d-8e3a-00364ac7ab83",
   "metadata": {
    "id": "patent-african"
   },
   "source": [
    "15. Задание\n",
    "- дан вектор, проверить есть в нем Nan\n",
    "- проверить есть в нем знак бесконечности\n",
    "- заполнить их нулями"
   ]
  },
  {
   "cell_type": "code",
   "execution_count": 14,
   "id": "ac0d577d-c4bf-4114-9997-9e0f74868380",
   "metadata": {
    "id": "taken-fabric"
   },
   "outputs": [
    {
     "name": "stdout",
     "output_type": "stream",
     "text": [
      "[ 1. nan inf]\n",
      "[False  True False]\n",
      "[False False  True]\n"
     ]
    },
    {
     "data": {
      "text/plain": [
       "array([1., 0., 0.])"
      ]
     },
     "execution_count": 14,
     "metadata": {},
     "output_type": "execute_result"
    }
   ],
   "source": [
    "a = np.array([1, np.NaN, np.Inf], float)\n",
    "print(a)\n",
    "print(np.isnan(a))\n",
    "print(np.isinf(a))\n",
    "a = np.where(np.isnan(a) | np.isinf(a), 0, a)\n",
    "a"
   ]
  },
  {
   "cell_type": "markdown",
   "id": "cf768632-93ad-48d3-9538-24f6db3918b4",
   "metadata": {
    "id": "analyzed-ireland"
   },
   "source": [
    "16. Задание\n",
    "- сгенерировать массив с произвольным числом осей\n",
    "- определить сколько у него осей"
   ]
  },
  {
   "cell_type": "code",
   "execution_count": 26,
   "id": "40b3c08f-03b5-4cf0-9114-d7b53ead94c7",
   "metadata": {
    "id": "imposed-digest"
   },
   "outputs": [
    {
     "ename": "<class 'SyntaxError'>",
     "evalue": "invalid syntax (<ipython-input-26-66415c5ac23d>, line 1)",
     "output_type": "error",
     "traceback": [
      "\u001b[0;36m  Input \u001b[0;32mIn [26]\u001b[0;36m\u001b[0m\n\u001b[0;31m    matrix =\u001b[0m\n\u001b[0m            ^\u001b[0m\n\u001b[0;31mSyntaxError\u001b[0m\u001b[0;31m:\u001b[0m invalid syntax\n"
     ]
    }
   ],
   "source": [
    "matrix ="
   ]
  },
  {
   "cell_type": "markdown",
   "id": "7f845051-34a5-4917-a6c7-62d6af418e5b",
   "metadata": {
    "id": "regulation-colleague"
   },
   "source": [
    "17. Задание\n",
    "- сгенерируйте матрицу 10 на 3 с нормальным распределением, среднее 50, отклонение 10\n",
    "- найдите индексы максимальных элементов в каждой строке\n",
    "- найдите сами элементы"
   ]
  },
  {
   "cell_type": "code",
   "execution_count": 22,
   "id": "8f439683-6df1-41b2-9238-34657eae1a40",
   "metadata": {
    "id": "concerned-anthropology"
   },
   "outputs": [
    {
     "name": "stdout",
     "output_type": "stream",
     "text": [
      "[[58.25906569 48.31170059 52.53408476]\n",
      " [51.05296905 52.37315558 47.89095483]\n",
      " [67.12803073 42.41539999 40.76421169]\n",
      " [51.34492875 55.05489071 53.60475124]\n",
      " [63.13586206 51.42074662 55.46247798]\n",
      " [45.57750299 54.23007597 45.3707665 ]\n",
      " [52.26580704 49.94203424 55.04086665]\n",
      " [46.97376983 67.18626141 49.48661174]\n",
      " [60.70755932 30.54283876 47.45861248]\n",
      " [48.07055666 69.5386048  33.5820917 ]]\n",
      "[0 1 0 1 0 1 2 1 0 1]\n",
      "[58.25906569 52.37315558 67.12803073 55.05489071 63.13586206 54.23007597\n",
      " 55.04086665 67.18626141 60.70755932 69.5386048 ]\n"
     ]
    }
   ],
   "source": [
    "matrix = np.random.normal(50, 10, (10,3))\n",
    "print(matrix)\n",
    "indexes = np.argmax(matrix, axis=1)\n",
    "print(indexes)\n",
    "print(np.amax(matrix, axis=1))"
   ]
  },
  {
   "cell_type": "code",
   "execution_count": null,
   "id": "d0e950f1-a858-4803-81e9-dd3aa1a6cf5d",
   "metadata": {},
   "outputs": [],
   "source": []
  }
 ],
 "metadata": {
  "colab": {
   "collapsed_sections": [],
   "name": "01_task.ipynb",
   "provenance": []
  },
  "kernelspec": {
   "display_name": "Python 3 (ipykernel)",
   "language": "python",
   "name": "python3"
  },
  "language_info": {
   "codemirror_mode": {
    "name": "ipython",
    "version": 3
   },
   "file_extension": ".py",
   "mimetype": "text/x-python",
   "name": "python",
   "nbconvert_exporter": "python",
   "pygments_lexer": "ipython3",
   "version": "3.10.0"
  }
 },
 "nbformat": 4,
 "nbformat_minor": 5
}
