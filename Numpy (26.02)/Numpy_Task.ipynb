{
 "cells": [
  {
   "cell_type": "code",
   "execution_count": 2,
   "metadata": {
    "id": "medieval-detail"
   },
   "outputs": [],
   "source": [
    "import numpy as np"
   ]
  },
  {
   "cell_type": "markdown",
   "metadata": {
    "id": "abstract-istanbul"
   },
   "source": [
    "1. Задание\n",
    "- проверьте тип объекта python_list\n",
    "- если это не numpy ndarray, то преобразуйте к нему\n",
    "- проверьте, что на выходе вы получили объект python_list желаемого типа"
   ]
  },
  {
   "cell_type": "code",
   "execution_count": 3,
   "metadata": {
    "id": "entertaining-automation"
   },
   "outputs": [
    {
     "name": "stdout",
     "output_type": "stream",
     "text": [
      "<class 'list'>\n",
      "<class 'numpy.ndarray'>\n"
     ]
    }
   ],
   "source": [
    "python_list = [1, 12, 13, 45, 76, 45, 98, 0]\n",
    "print(type(python_list))\n",
    "if type(python_list) != type(np.array([1,2,3])):\n",
    "    python_list = np.array([1, 12, 13, 45, 76, 45, 98, 0])\n",
    "print(type(python_list))"
   ]
  },
  {
   "cell_type": "markdown",
   "metadata": {
    "id": "loose-tobago"
   },
   "source": [
    "2. Задание\n",
    "- создайте одномерный массив numpy из 10 элементов заполненный числом 1.5"
   ]
  },
  {
   "cell_type": "code",
   "execution_count": 4,
   "metadata": {
    "id": "included-polymer"
   },
   "outputs": [
    {
     "name": "stdout",
     "output_type": "stream",
     "text": [
      "[1.5 1.5 1.5 1.5 1.5 1.5 1.5 1.5 1.5 1.5]\n"
     ]
    }
   ],
   "source": [
    "z = np.array([1.5 for i in range(10)])\n",
    "print(z)"
   ]
  },
  {
   "cell_type": "markdown",
   "metadata": {
    "id": "threatened-theme"
   },
   "source": [
    "3. Задание\n",
    "- создайте двумерный массив numpy из 25 элементов заполненный числом 0"
   ]
  },
  {
   "cell_type": "code",
   "execution_count": 5,
   "metadata": {
    "id": "alert-endorsement"
   },
   "outputs": [
    {
     "name": "stdout",
     "output_type": "stream",
     "text": [
      "[[0. 0. 0. 0. 0.]\n",
      " [0. 0. 0. 0. 0.]\n",
      " [0. 0. 0. 0. 0.]\n",
      " [0. 0. 0. 0. 0.]\n",
      " [0. 0. 0. 0. 0.]]\n"
     ]
    }
   ],
   "source": [
    "z = np.zeros((5, 5))\n",
    "print(z)"
   ]
  },
  {
   "cell_type": "markdown",
   "metadata": {
    "id": "federal-blackberry"
   },
   "source": [
    "4. Задание\n",
    "- создайте одномерный массив numpy из 12 элементов заполненный числом 1"
   ]
  },
  {
   "cell_type": "code",
   "execution_count": 6,
   "metadata": {
    "id": "static-filing"
   },
   "outputs": [
    {
     "name": "stdout",
     "output_type": "stream",
     "text": [
      "[1 1 1 1 1 1 1 1 1 1 1 1]\n"
     ]
    }
   ],
   "source": [
    "ones = np.ones(12, int)\n",
    "print(ones)"
   ]
  },
  {
   "cell_type": "markdown",
   "metadata": {
    "id": "whole-chassis"
   },
   "source": [
    "5. Задание\n",
    "- преобразуйте массив из предыдущего задания к матрице 3 на 4\n",
    "- выведите размерность полученного массива"
   ]
  },
  {
   "cell_type": "code",
   "execution_count": 7,
   "metadata": {
    "id": "outstanding-deviation"
   },
   "outputs": [
    {
     "name": "stdout",
     "output_type": "stream",
     "text": [
      "(3, 4)\n"
     ]
    }
   ],
   "source": [
    "ones = ones.reshape(3,4)\n",
    "print(ones.shape)"
   ]
  },
  {
   "cell_type": "markdown",
   "metadata": {
    "id": "cubic-noise"
   },
   "source": [
    "6. Задание\n",
    "- создайте матрицу 4 на 5 заполненную числами от 1 до 20\n",
    "- замените элемент в 3-й строке 4-м столбце на -99"
   ]
  },
  {
   "cell_type": "code",
   "execution_count": 8,
   "metadata": {
    "id": "foster-memory"
   },
   "outputs": [
    {
     "name": "stdout",
     "output_type": "stream",
     "text": [
      "[[ 1  2  3  4  5]\n",
      " [ 6  7  8  9 10]\n",
      " [11 12 13 14 15]\n",
      " [16 17 18 19 20]]\n",
      "[[  1   2   3   4   5]\n",
      " [  6   7   8   9  10]\n",
      " [ 11  12  13 -99  15]\n",
      " [ 16  17  18  19  20]]\n"
     ]
    }
   ],
   "source": [
    "Z = np.arange(1, 21, 1).reshape(4,5)\n",
    "print(Z)\n",
    "Z[2,3] = -99\n",
    "print(Z)"
   ]
  },
  {
   "cell_type": "markdown",
   "metadata": {
    "id": "helpful-table"
   },
   "source": [
    "7. Задание\n",
    "- создайте вектор длинной 15 со случайными целыми числами в диапазоне от -10 до 10\n",
    "- сделайте реверс вектора"
   ]
  },
  {
   "cell_type": "code",
   "execution_count": 9,
   "metadata": {
    "id": "magnetic-leone"
   },
   "outputs": [
    {
     "name": "stdout",
     "output_type": "stream",
     "text": [
      "[  1   8   1   9   4   2  -6   1 -10  -5  -2   2   8  -9   2]\n",
      "[  2  -9   8   2  -2  -5 -10   1  -6   2   4   9   1   8   1]\n"
     ]
    }
   ],
   "source": [
    "first = np.random.randint(-10, 10, 15)\n",
    "print(first)\n",
    "second = first[::-1]\n",
    "print(second)"
   ]
  },
  {
   "cell_type": "markdown",
   "id": "a36a3e71",
   "metadata": {
    "id": "executed-september"
   },
   "source": [
    "8. Задание\n",
    "- создайте матрицу 5 на 5 со случайными целыми числами в диапазоне от -15 до 15\n",
    "- замените отрицательные элементы на их квадраты"
   ]
  },
  {
   "cell_type": "code",
   "execution_count": 10,
   "metadata": {
    "id": "pharmaceutical-sigma"
   },
   "outputs": [
    {
     "name": "stdout",
     "output_type": "stream",
     "text": [
      "[[ -1   4  12  13   5]\n",
      " [ -4   8 -13   3   8]\n",
      " [ -3  -7  -8 -14   5]\n",
      " [ 11 -10   2 -11   8]\n",
      " [  0 -13  13  -8 -12]]\n",
      "[[  1   4  12  13   5]\n",
      " [ 16   8 169   3   8]\n",
      " [  9  49  64 196   5]\n",
      " [ 11 100   2 121   8]\n",
      " [  0 169  13  64 144]]\n"
     ]
    }
   ],
   "source": [
    "first = np.random.randint(-15, 15, 25).reshape(5,5)\n",
    "print(first)\n",
    "first = np.where(first < 0, first ** 2, first)\n",
    "print(first)"
   ]
  },
  {
   "cell_type": "markdown",
   "metadata": {
    "id": "floral-difference"
   },
   "source": [
    "9. Задание\n",
    "- создайте матрицу 3 на 5 со случайными целыми числами в диапазоне от -15 до 15\n",
    "- найдите максимум и минимум\n",
    "- найдите среднее по столбцам\n",
    "- найдите среднее по строкам"
   ]
  },
  {
   "cell_type": "code",
   "execution_count": 11,
   "metadata": {
    "id": "saving-conference"
   },
   "outputs": [
    {
     "name": "stdout",
     "output_type": "stream",
     "text": [
      "[[  6  -1   2   4   9]\n",
      " [  6 -15 -11   2  -1]\n",
      " [  3   6  -1  -4  11]]\n",
      "11\n",
      "-15\n",
      "[ 5.         -3.33333333 -3.33333333  0.66666667  6.33333333]\n",
      "[[ 4. ]\n",
      " [-3.8]\n",
      " [ 3. ]]\n"
     ]
    }
   ],
   "source": [
    "first = np.random.randint(-15, 15, 15).reshape(3,5)\n",
    "print(first)\n",
    "print(first.max())\n",
    "print(first.min())\n",
    "print(np.mean(first, axis=0))\n",
    "print(np.mean(first, axis=1, keepdims = True))"
   ]
  },
  {
   "cell_type": "markdown",
   "metadata": {
    "id": "diagnostic-departure"
   },
   "source": [
    "10. Задание\n",
    "- даны две матрицы\n",
    "- убедитесь, что их можно перемножить\n",
    "- произведите операцию умножения матриц, если это возможно, иначе выведите ошибку"
   ]
  },
  {
   "cell_type": "code",
   "execution_count": 12,
   "metadata": {
    "id": "olympic-qatar"
   },
   "outputs": [
    {
     "name": "stdout",
     "output_type": "stream",
     "text": [
      "Ошибка:\n",
      " NoneType: None\n",
      "\n"
     ]
    }
   ],
   "source": [
    "import traceback as TB\n",
    "a = np.random.randint(-10, 10, (2, 5))\n",
    "first_axis = np.random.randint(4, 6)\n",
    "b = np.random.randint(-10, 10, (first_axis, 3))\n",
    "a_cols, a_rows = a.shape\n",
    "b_cols, b_rows = b.shape\n",
    "if a_cols == b_rows:\n",
    "    print(a @ b)\n",
    "else:\n",
    "    print(\"Ошибка:\\n\", TB.format_exc())\n",
    "    "
   ]
  },
  {
   "cell_type": "markdown",
   "metadata": {
    "id": "governmental-austin"
   },
   "source": [
    "11. Задание\n",
    "- создайте матрицу 5 на 5 заполненную равномерным распределением с диапазоном 2-12\n",
    "- заполните все элементы ниже главной диагонали нулями"
   ]
  },
  {
   "cell_type": "code",
   "execution_count": 13,
   "metadata": {
    "id": "suffering-mauritius"
   },
   "outputs": [
    {
     "name": "stdout",
     "output_type": "stream",
     "text": [
      "[[ 2.          2.41666667  2.83333333  3.25        3.66666667]\n",
      " [ 0.          4.5         4.91666667  5.33333333  5.75      ]\n",
      " [ 0.          0.          7.          7.41666667  7.83333333]\n",
      " [ 0.          0.          0.          9.5         9.91666667]\n",
      " [ 0.          0.          0.          0.         12.        ]]\n"
     ]
    }
   ],
   "source": [
    "mask = np.linspace(2, 12, 25).reshape(5,5)\n",
    "matrix = mask.copy()\n",
    "matrix[np.tril_indices(matrix.shape[0], -1)] = 0\n",
    "\n",
    "print(matrix)"
   ]
  },
  {
   "cell_type": "markdown",
   "metadata": {
    "id": "altered-baghdad"
   },
   "source": [
    "12. Задание\n",
    "- создайте матрицу 5 на 5 заполненную нормальным распределением с парметрами среднее 10 и отклонение 2\n",
    "- заполните все элементы на главной диагонали нулями"
   ]
  },
  {
   "cell_type": "code",
   "execution_count": 16,
   "metadata": {
    "id": "refined-stuff"
   },
   "outputs": [
    {
     "name": "stdout",
     "output_type": "stream",
     "text": [
      "[[ 0.         11.36173105  6.7402793   8.17221732 12.27853604]\n",
      " [ 8.472255    0.          8.11683358 11.9007047  12.44620796]\n",
      " [11.57158374 11.94478374  0.          8.50439505 12.83912319]\n",
      " [11.94046684 12.16194725  8.75240452  0.          9.13760981]\n",
      " [13.42320754  7.31427126 11.08302544  7.78806653  0.        ]]\n"
     ]
    }
   ],
   "source": [
    "mask = np.random.normal(10, 2, (5,5))\n",
    "matrix = mask.copy()\n",
    "matrix[np.diag_indices(matrix.shape[0])] = 0\n",
    "\n",
    "print(matrix)"
   ]
  },
  {
   "cell_type": "markdown",
   "metadata": {
    "id": "quiet-complement"
   },
   "source": [
    "13. Задание\n",
    "- дано два массива, проверить одинаковы ли они"
   ]
  },
  {
   "cell_type": "code",
   "execution_count": 23,
   "metadata": {
    "id": "french-fighter"
   },
   "outputs": [
    {
     "name": "stdout",
     "output_type": "stream",
     "text": [
      "[0 1 0 0 0]\n",
      "[0 1 1 0 1]\n"
     ]
    },
    {
     "data": {
      "text/plain": [
       "False"
      ]
     },
     "execution_count": 23,
     "metadata": {},
     "output_type": "execute_result"
    }
   ],
   "source": [
    "a = np.random.randint(0,2,5)\n",
    "print(a)\n",
    "b = np.random.randint(0,2,5)\n",
    "print(b)\n",
    "equal = np.array_equal(a, b)\n",
    "print(equal)"
   ]
  },
  {
   "cell_type": "markdown",
   "metadata": {
    "id": "color-amplifier"
   },
   "source": [
    "14. Задание\n",
    "- сгенерируйте матрицу случайного размера:\n",
    " - строк от 3 до 7\n",
    " - столбцов от 2 до 12\n",
    "- сгенерируйте число N - размер выборки так, чтобы оно не превышало половину количества элементов сгенерированной матрицы, но было больше 0\n",
    "- сделайте случайную выборку N элементов"
   ]
  },
  {
   "cell_type": "code",
   "execution_count": 44,
   "metadata": {
    "id": "close-daisy"
   },
   "outputs": [
    {
     "name": "stdout",
     "output_type": "stream",
     "text": [
      "[[ 0  1  2  3  4]\n",
      " [ 5  6  7  8  9]\n",
      " [10 11 12 13 14]\n",
      " [15 16 17 18 19]\n",
      " [20 21 22 23 24]]\n",
      "3\n",
      "[4 4 3]\n"
     ]
    }
   ],
   "source": [
    "import random\n",
    "r, c = np.random.randint(3, 7), np.random.randint(2, 12)\n",
    "a = np.arange(c*r).reshape(c, r)\n",
    "print(a)\n",
    "N = np.random.randint(1, c*r/2)\n",
    "print(N)\n",
    "sample = np.random.choice(len(a), N)\n",
    "print(sample)"
   ]
  },
  {
   "cell_type": "markdown",
   "metadata": {
    "id": "patent-african"
   },
   "source": [
    "15. Задание\n",
    "- дан вектор, проверить есть в нем Nan\n",
    "- проверить есть в нем знак бесконечности\n",
    "- заполнить их нулями"
   ]
  },
  {
   "cell_type": "code",
   "execution_count": 47,
   "metadata": {
    "id": "taken-fabric"
   },
   "outputs": [
    {
     "name": "stdout",
     "output_type": "stream",
     "text": [
      "[ 1. nan inf]\n",
      "True\n",
      "True\n",
      "[ 1. nan  0.]\n"
     ]
    }
   ],
   "source": [
    "a = np.array([1, np.NaN, np.Inf], float)\n",
    "print(a)\n",
    "b = np.isnan(np.sum(a))\n",
    "print(b)\n",
    "p_inf = float('inf')\n",
    "print(True if p_inf in a else False)\n",
    "for el in range(len(a)):\n",
    "    if a[el] == p_inf:\n",
    "        a[el] = 0\n",
    "print(a)"
   ]
  },
  {
   "cell_type": "markdown",
   "metadata": {
    "id": "analyzed-ireland"
   },
   "source": [
    "16. Задание\n",
    "- сгенерировать массив с произвольным числом осей\n",
    "- определить сколько у него осей"
   ]
  },
  {
   "cell_type": "code",
   "execution_count": null,
   "metadata": {
    "id": "imposed-digest"
   },
   "outputs": [],
   "source": [
    "axis = \n",
    "print(axis)\n",
    "matrix = \n",
    "print(...)"
   ]
  },
  {
   "cell_type": "markdown",
   "metadata": {
    "id": "regulation-colleague"
   },
   "source": [
    "17. Задание\n",
    "- сгенерируйте матрицу 10 на 3 с нормальным распределением, среднее 50, отклонение 10\n",
    "- найдите индексы максимальных элементов в каждой строке\n",
    "- найдите сами элементы"
   ]
  },
  {
   "cell_type": "code",
   "execution_count": 53,
   "metadata": {
    "id": "concerned-anthropology"
   },
   "outputs": [
    {
     "name": "stdout",
     "output_type": "stream",
     "text": [
      "[[52.20775932 30.19150217 50.261176  ]\n",
      " [65.59280208 37.85034956 50.09220901]\n",
      " [54.97263164 58.35747892 70.62018064]\n",
      " [57.68496382 54.97566162 48.22621436]\n",
      " [48.5413732  47.08179466 56.64566913]\n",
      " [50.26419415 56.38997267 65.77505173]\n",
      " [45.49849946 59.67596385 68.09244623]\n",
      " [51.35971923 54.35640519 59.00483874]\n",
      " [46.02726669 38.05911086 43.98274226]\n",
      " [46.80264796 48.24939083 38.81326668]]\n",
      "[0, 0, 2, 0, 2, 2, 2, 2, 0, 1]\n",
      "[52.20775932318098, 65.59280207594934, 70.62018064397768, 57.68496382153903, 56.64566912840646, 65.77505173483584, 68.09244622514544, 59.004838735349026, 46.02726669185543, 48.24939082685686]\n"
     ]
    }
   ],
   "source": [
    "matrix = np.random.normal(50, 10, (10,3))\n",
    "print(matrix)\n",
    "\n",
    "indexes = []\n",
    "for i in range(10):\n",
    "    indexes.append(np.argmax(matrix[i]))\n",
    "print(indexes)\n",
    "\n",
    "elements = []\n",
    "for i in range(len(indexes)):\n",
    "    elements.append(matrix[i][indexes[i]])\n",
    "print(elements)"
   ]
  }
 ],
 "metadata": {
  "colab": {
   "collapsed_sections": [],
   "name": "01_task.ipynb",
   "provenance": []
  },
  "kernelspec": {
   "display_name": "Python 3",
   "language": "python",
   "name": "python3"
  },
  "language_info": {
   "codemirror_mode": {
    "name": "ipython",
    "version": 3
   },
   "file_extension": ".py",
   "mimetype": "text/x-python",
   "name": "python",
   "nbconvert_exporter": "python",
   "pygments_lexer": "ipython3",
   "version": "3.9.7"
  }
 },
 "nbformat": 4,
 "nbformat_minor": 5
}
