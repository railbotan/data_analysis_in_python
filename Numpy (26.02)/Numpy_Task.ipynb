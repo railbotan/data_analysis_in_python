{
 "cells": [
  {
   "cell_type": "code",
   "execution_count": 2,
   "id": "476d273e",
   "metadata": {
    "id": "medieval-detail"
   },
   "outputs": [],
   "source": [
    "import numpy as np"
   ]
  },
  {
   "cell_type": "markdown",
   "id": "9609888a",
   "metadata": {
    "id": "abstract-istanbul"
   },
   "source": [
    "1. Задание\n",
    "- проверьте тип объекта python_list\n",
    "- если это не numpy ndarray, то преобразуйте к нему\n",
    "- проверьте, что на выходе вы получили объект python_list желаемого типа"
   ]
  },
  {
   "cell_type": "code",
   "execution_count": 4,
   "id": "a436c265",
   "metadata": {
    "id": "entertaining-automation"
   },
   "outputs": [
    {
     "name": "stdout",
     "output_type": "stream",
     "text": [
      "<class 'list'>\n",
      "<class 'numpy.ndarray'>\n"
     ]
    }
   ],
   "source": [
    "python_list = [1, 12, 13, 45, 76, 45, 98, 0]\n",
    "print(type(python_list))\n",
    "python_list = np.array(python_list)\n",
    "print(type(python_list))"
   ]
  },
  {
   "cell_type": "markdown",
   "id": "03e99425",
   "metadata": {
    "id": "loose-tobago"
   },
   "source": [
    "2. Задание\n",
    "- создайте одномерный массив numpy из 10 элементов заполненный числом 1.5"
   ]
  },
  {
   "cell_type": "code",
   "execution_count": 5,
   "id": "12e540bb",
   "metadata": {
    "id": "included-polymer"
   },
   "outputs": [
    {
     "name": "stdout",
     "output_type": "stream",
     "text": [
      "[1.5 1.5 1.5 1.5 1.5 1.5 1.5 1.5 1.5 1.5]\n"
     ]
    }
   ],
   "source": [
    "z = np.full(10, 1.5)\n",
    "print(z)"
   ]
  },
  {
   "cell_type": "markdown",
   "id": "9c6afb6e",
   "metadata": {
    "id": "threatened-theme"
   },
   "source": [
    "3. Задание\n",
    "- создайте двумерный массив numpy из 25 элементов заполненный числом 0"
   ]
  },
  {
   "cell_type": "code",
   "execution_count": 7,
   "id": "229e0ece",
   "metadata": {
    "id": "alert-endorsement"
   },
   "outputs": [
    {
     "name": "stdout",
     "output_type": "stream",
     "text": [
      "[[0 0 0 0 0 0 0 0 0 0 0 0 0 0 0 0 0 0 0 0 0 0 0 0 0]\n",
      " [0 0 0 0 0 0 0 0 0 0 0 0 0 0 0 0 0 0 0 0 0 0 0 0 0]]\n"
     ]
    }
   ],
   "source": [
    "z = np.array([np.full(25, 0), np.full(25, 0)])\n",
    "print(z)"
   ]
  },
  {
   "cell_type": "markdown",
   "id": "e1a38e23",
   "metadata": {
    "id": "federal-blackberry"
   },
   "source": [
    "4. Задание\n",
    "- создайте одномерный массив numpy из 12 элементов заполненный числом 1"
   ]
  },
  {
   "cell_type": "code",
   "execution_count": 8,
   "id": "edce5c28",
   "metadata": {
    "id": "static-filing"
   },
   "outputs": [
    {
     "name": "stdout",
     "output_type": "stream",
     "text": [
      "[1 1 1 1 1 1 1 1 1 1 1 1]\n"
     ]
    }
   ],
   "source": [
    "ones = np.full(12, 1)\n",
    "print(ones)"
   ]
  },
  {
   "cell_type": "markdown",
   "id": "05458ef3",
   "metadata": {
    "id": "whole-chassis"
   },
   "source": [
    "5. Задание\n",
    "- преобразуйте массив из предыдущего задания к матрице 3 на 4\n",
    "- выведите размерность полученного массива"
   ]
  },
  {
   "cell_type": "code",
   "execution_count": 12,
   "id": "fe592857",
   "metadata": {
    "id": "outstanding-deviation"
   },
   "outputs": [
    {
     "data": {
      "text/plain": [
       "(3, 4)"
      ]
     },
     "execution_count": 12,
     "metadata": {},
     "output_type": "execute_result"
    }
   ],
   "source": [
    "ones = ones.reshape(3, 4)\n",
    "ones.shape"
   ]
  },
  {
   "cell_type": "markdown",
   "id": "4d3aba3d",
   "metadata": {
    "id": "cubic-noise"
   },
   "source": [
    "6. Задание\n",
    "- создайте матрицу 4 на 5 заполненную числами от 1 до 20\n",
    "- замените элемент в 3-й строке 4-м столбце на -99"
   ]
  },
  {
   "cell_type": "code",
   "execution_count": 25,
   "id": "d2e31493",
   "metadata": {
    "id": "foster-memory"
   },
   "outputs": [
    {
     "name": "stdout",
     "output_type": "stream",
     "text": [
      "[[ 1  2  3  4  5]\n",
      " [ 6  7  8  9 10]\n",
      " [11 12 13 14 15]\n",
      " [16 17 18 19 20]]\n",
      "[[  1   2   3   4   5]\n",
      " [  6   7   8   9  10]\n",
      " [ 11  12  13 -99  15]\n",
      " [ 16  17  18  19  20]]\n"
     ]
    }
   ],
   "source": [
    "Z = np.arange(1, 21, 1)\n",
    "Z = Z.reshape(4, 5)\n",
    "print(Z)\n",
    "Z[2, 3] = -99\n",
    "print(Z)"
   ]
  },
  {
   "cell_type": "markdown",
   "id": "8b33b9af",
   "metadata": {
    "id": "helpful-table"
   },
   "source": [
    "7. Задание\n",
    "- создайте вектор длинной 15 со случайными целыми числами в диапазоне от -10 до 10\n",
    "- сделайте реверс вектора"
   ]
  },
  {
   "cell_type": "code",
   "execution_count": 27,
   "id": "cf1d8f44",
   "metadata": {
    "id": "magnetic-leone"
   },
   "outputs": [
    {
     "name": "stdout",
     "output_type": "stream",
     "text": [
      "[-1 -7  9  0 -5 -1 -2  5  5  5  7  5 -1 -5  0]\n",
      "[ 0 -5 -1  5  7  5  5  5 -2 -1 -5  0  9 -7 -1]\n"
     ]
    }
   ],
   "source": [
    "first = np.random.randint(-10, 10, 15)\n",
    "print(first)\n",
    "second = np.flip(first)\n",
    "print(second)"
   ]
  },
  {
   "cell_type": "markdown",
   "id": "d598d718",
   "metadata": {
    "id": "executed-september"
   },
   "source": [
    "8. Задание\n",
    "- создайте матрицу 5 на 5 со случайными целыми числами в диапазоне от -15 до 15\n",
    "- замените отрицательные элементы на их квадраты"
   ]
  },
  {
   "cell_type": "code",
   "execution_count": 36,
   "id": "26aa4d87",
   "metadata": {
    "id": "pharmaceutical-sigma"
   },
   "outputs": [
    {
     "name": "stdout",
     "output_type": "stream",
     "text": [
      "[[-13  11   4  14  -7]\n",
      " [ 10  -2  -7  -6  -9]\n",
      " [-13   9 -13  10  -1]\n",
      " [-13   1 -14   4   6]\n",
      " [ -9  12  -5  10   9]]\n",
      "[[169  11   4  14  49]\n",
      " [ 10   4  49  36  81]\n",
      " [169   9 169  10   1]\n",
      " [169   1 196   4   6]\n",
      " [ 81  12  25  10   9]]\n"
     ]
    }
   ],
   "source": [
    "first = np.random.randint(-15, 15, 25).reshape(5,5)\n",
    "print(first)\n",
    "first[(first < 0)] **= 2\n",
    "print(first)"
   ]
  },
  {
   "cell_type": "markdown",
   "id": "cc9f3772",
   "metadata": {
    "id": "floral-difference"
   },
   "source": [
    "9. Задание\n",
    "- создайте матрицу 3 на 5 со случайными целыми числами в диапазоне от -15 до 15\n",
    "- найдите максимум и минимум\n",
    "- найдите среднее по столбцам\n",
    "- найдите среднее по строкам"
   ]
  },
  {
   "cell_type": "code",
   "execution_count": 51,
   "id": "70c8d32e",
   "metadata": {
    "id": "saving-conference"
   },
   "outputs": [
    {
     "name": "stdout",
     "output_type": "stream",
     "text": [
      "[[-15  13   6   2   8]\n",
      " [ -8 -11  10  14   8]\n",
      " [-10  10   9  -9   5]]\n",
      "Min: -15\n",
      "Max: 14\n",
      "[-11.           4.           8.33333333   2.33333333   7.        ]\n",
      "[2.8 2.6 1. ]\n"
     ]
    }
   ],
   "source": [
    "first = np.random.randint(-15, 15, 15).reshape(3,5)\n",
    "print(first)\n",
    "print(f'Min: {first.min()}\\nMax: {first.max()}')\n",
    "print(np.mean(first, axis=0))\n",
    "print(np.mean(first, axis=1))"
   ]
  },
  {
   "cell_type": "markdown",
   "id": "8c063bce",
   "metadata": {
    "id": "diagnostic-departure"
   },
   "source": [
    "10. Задание\n",
    "- даны две матрицы\n",
    "- убедитесь, что их можно пермножить\n",
    "- произведите операцию умножения матриц, если это возможно, иначе выведите ошибку"
   ]
  },
  {
   "cell_type": "code",
   "execution_count": 99,
   "id": "a5574a88",
   "metadata": {
    "id": "olympic-qatar"
   },
   "outputs": [
    {
     "name": "stdout",
     "output_type": "stream",
     "text": [
      "[[ 6  7  5  8  7]\n",
      " [-9  8  7 -1  0]]\n",
      "[[ -29   -9 -129]\n",
      " [ 107   45    1]]\n"
     ]
    }
   ],
   "source": [
    "a = np.random.randint(-10, 10, (2, 5))\n",
    "first_axis = np.random.randint(4, 6)\n",
    "b = np.random.randint(-10, 10, (first_axis, 3))\n",
    "if a.shape[1] == b.shape[0]:\n",
    "    print(a @ b)\n",
    "else:\n",
    "    print('error')"
   ]
  },
  {
   "cell_type": "markdown",
   "id": "ef902791",
   "metadata": {
    "id": "governmental-austin"
   },
   "source": [
    "11. Задание\n",
    "- создайте матрицу 5 на 5 заполненную равномерным распределением с диапазоно 2-12\n",
    "- заполните все элементы ниже главной диагонали нулями"
   ]
  },
  {
   "cell_type": "code",
   "execution_count": 82,
   "id": "969ee36a",
   "metadata": {
    "id": "suffering-mauritius"
   },
   "outputs": [
    {
     "name": "stdout",
     "output_type": "stream",
     "text": [
      "[[ 3.00828027  8.42473133 11.2303342   8.40411288 10.68949298]\n",
      " [ 8.82447765  2.1850345  10.20137673  9.20976182  6.48449125]\n",
      " [ 4.69673176  6.93988753  8.22078804  3.67669303  4.37777539]\n",
      " [ 2.36474433 10.48355972 11.95566016  6.97290254  9.00448146]\n",
      " [11.49000788  9.28104625 11.3615282   6.48250861  2.27640372]] \n",
      "\n",
      "[[ 3.00828027  8.42473133 11.2303342   8.40411288 10.68949298]\n",
      " [ 0.          2.1850345  10.20137673  9.20976182  6.48449125]\n",
      " [ 0.          0.          8.22078804  3.67669303  4.37777539]\n",
      " [ 0.          0.          0.          6.97290254  9.00448146]\n",
      " [ 0.          0.          0.          0.          2.27640372]]\n"
     ]
    }
   ],
   "source": [
    "mask = np.random.uniform(2, 12, (5, 5)) \n",
    "matrix = mask.copy()\n",
    "matrix[np.tril_indices(5, -1)] = 0\n",
    "print(mask, '\\n')\n",
    "print(matrix)"
   ]
  },
  {
   "cell_type": "markdown",
   "id": "e133a001",
   "metadata": {
    "id": "altered-baghdad"
   },
   "source": [
    "12. Задание\n",
    "- создайте матрицу 5 на 5 заполненную нормальным распределением с парметрами среднее 10 и отклонение 2\n",
    "- заполните все элементы на главной диагонали нулями"
   ]
  },
  {
   "cell_type": "code",
   "execution_count": 88,
   "id": "4f0015ba",
   "metadata": {
    "id": "refined-stuff"
   },
   "outputs": [
    {
     "name": "stdout",
     "output_type": "stream",
     "text": [
      "[[12.40520329 11.59559361  9.10919935 12.11904832  6.30119245]\n",
      " [10.8290389  10.21610281 12.73190057 10.26367561 12.09021157]\n",
      " [ 9.96472179  6.82235949 10.44464128 10.50489513 10.41278722]\n",
      " [11.07720861  7.83597241 11.30161393  7.80245433 10.0812214 ]\n",
      " [10.37376267  8.89926642  9.36642882  5.6502473   5.18663286]] \n",
      "\n",
      "[[ 0.         11.59559361  9.10919935 12.11904832  6.30119245]\n",
      " [10.8290389   0.         12.73190057 10.26367561 12.09021157]\n",
      " [ 9.96472179  6.82235949  0.         10.50489513 10.41278722]\n",
      " [11.07720861  7.83597241 11.30161393  0.         10.0812214 ]\n",
      " [10.37376267  8.89926642  9.36642882  5.6502473   0.        ]]\n"
     ]
    }
   ],
   "source": [
    "mask = np.random.normal(10, 2, (5, 5))\n",
    "matrix = mask.copy()\n",
    "np.fill_diagonal(matrix, 0)\n",
    "print(mask, '\\n')\n",
    "print(matrix)"
   ]
  },
  {
   "cell_type": "markdown",
   "id": "ec741d4d",
   "metadata": {
    "id": "quiet-complement"
   },
   "source": [
    "13. Задание\n",
    "- дано два массива, проверить одинаковы ли они"
   ]
  },
  {
   "cell_type": "code",
   "execution_count": 90,
   "id": "91c72268",
   "metadata": {
    "id": "french-fighter"
   },
   "outputs": [
    {
     "name": "stdout",
     "output_type": "stream",
     "text": [
      "[1 0 0 1 1]\n",
      "[1 1 0 1 1]\n"
     ]
    },
    {
     "data": {
      "text/plain": [
       "False"
      ]
     },
     "execution_count": 90,
     "metadata": {},
     "output_type": "execute_result"
    }
   ],
   "source": [
    "a = np.random.randint(0,2,5)\n",
    "print(a)\n",
    "b = np.random.randint(0,2,5)\n",
    "print(b)\n",
    "equal = np.array_equal(a, b)\n",
    "equal"
   ]
  },
  {
   "cell_type": "markdown",
   "id": "50bbf556",
   "metadata": {
    "id": "color-amplifier"
   },
   "source": [
    "14. Задание\n",
    "- сгенерируйте матрицу случайного размера:\n",
    " - строк от 3 до 7\n",
    " - столбцов от 2 до 12\n",
    "- сгенерируйте число N - размер выборки так, чтобы оно не превышало половину количества элементов сгенерированной матрицы, но было больше 0\n",
    "- сделайте случайную выборку N элементов"
   ]
  },
  {
   "cell_type": "code",
   "execution_count": 8,
   "id": "6fd0450f",
   "metadata": {
    "id": "close-daisy"
   },
   "outputs": [
    {
     "name": "stdout",
     "output_type": "stream",
     "text": [
      "[[  8   9  -9  -7  -7   5  -2 -10 -10   0 -10]\n",
      " [ -4 -10   7   1  -4  -6   7  -9   4   5   0]\n",
      " [ -8   7  -9  -4  -7   7   6   5  -6  -3 -10]]\n",
      "7\n",
      "[-9, -6, 9, -10, -9, 7, -7]\n"
     ]
    }
   ],
   "source": [
    "r, c = np.random.randint(3, 7), np.random.randint(2, 12)\n",
    "a = np.random.randint(-10, 10, (r, c))\n",
    "print(a)\n",
    "N = np.random.randint(1, int(r * c / 2))\n",
    "print(N)\n",
    "elements = []\n",
    "for _ in range(N):\n",
    "    r, c = np.random.randint(0, a.shape[0]), np.random.randint(0, a.shape[1])\n",
    "    elements.append(a[r, c])\n",
    "print(elements)"
   ]
  },
  {
   "cell_type": "markdown",
   "id": "542b3a66",
   "metadata": {
    "id": "patent-african"
   },
   "source": [
    "15. Задание\n",
    "- дан вектор, проверить есть в нем Nan\n",
    "- проверить есть в нем знак бесконечности\n",
    "- заполнить их нулями"
   ]
  },
  {
   "cell_type": "code",
   "execution_count": 17,
   "id": "4ceb564f",
   "metadata": {
    "id": "taken-fabric"
   },
   "outputs": [
    {
     "data": {
      "text/plain": [
       "array([1., 0., 0.])"
      ]
     },
     "execution_count": 17,
     "metadata": {},
     "output_type": "execute_result"
    }
   ],
   "source": [
    "a = np.array([1, np.NaN, np.Inf], float)\n",
    "\n",
    "a[np.isnan(a)] = 0\n",
    "a[np.isinf(a)] = 0\n",
    "a"
   ]
  },
  {
   "cell_type": "markdown",
   "id": "2c6eb6a7",
   "metadata": {
    "id": "analyzed-ireland"
   },
   "source": [
    "16. Задание\n",
    "- сгенерировать массив с произвольным числом осей\n",
    "- определить сколько у него осей"
   ]
  },
  {
   "cell_type": "code",
   "execution_count": null,
   "id": "6d8266d3",
   "metadata": {
    "id": "imposed-digest"
   },
   "outputs": [],
   "source": [
    "# axis = \n",
    "# print(axis)\n",
    "# matrix = axis.copy()\n",
    "# print(...)"
   ]
  },
  {
   "cell_type": "markdown",
   "id": "9572ae5f",
   "metadata": {
    "id": "regulation-colleague"
   },
   "source": [
    "17. Задание\n",
    "- сгенерируйте матрицу 10 на 3 с нормальным распределением, среднее 50, отклонение 10\n",
    "- найдите индексы максимальных элементов в каждой строке\n",
    "- найдите сами элементы"
   ]
  },
  {
   "cell_type": "code",
   "execution_count": 40,
   "id": "e75fe5ce",
   "metadata": {
    "id": "concerned-anthropology"
   },
   "outputs": [
    {
     "name": "stdout",
     "output_type": "stream",
     "text": [
      "[[49.82961755 45.20836236 51.67375568]\n",
      " [54.61233339 43.07961718 66.22849788]\n",
      " [41.26186524 49.10102987 48.8635253 ]\n",
      " [36.54375885 54.68917184 44.34868736]\n",
      " [52.38479663 45.95004721 41.84819337]\n",
      " [47.93614498 64.16028385 51.86957855]\n",
      " [47.43693516 53.31065015 62.36792985]\n",
      " [44.78594331 60.64558806 56.18408795]\n",
      " [55.68425851 66.13775594 37.26352398]\n",
      " [63.28812494 61.02479145 58.37129355]] \n",
      "\n",
      "0)   51.6737556832219: (0, 2)\n",
      "1)   66.22849788177044: (1, 2)\n",
      "2)   49.10102987109707: (2, 1)\n",
      "3)   54.68917183933933: (3, 1)\n",
      "4)   52.38479662520886: (4, 0)\n",
      "5)   64.16028385429179: (5, 1)\n",
      "6)   62.367929854731884: (6, 2)\n",
      "7)   60.645588061702405: (7, 1)\n",
      "8)   66.13775594417704: (8, 1)\n",
      "9)   63.288124941322685: (9, 0)\n"
     ]
    }
   ],
   "source": [
    "matrix = np.random.normal(50, 10, (10,3))\n",
    "print(matrix, '\\n')\n",
    "values = {}\n",
    "n = 0\n",
    "for e in matrix:\n",
    "    max_v = e.max()\n",
    "    i, j = np.where(matrix == max_v) \n",
    "    print(f'{n})   {max_v}: {i[0], j[0]}')\n",
    "    n += 1\n",
    "#     values[max_v] = [i[0], j[0]]\n"
   ]
  },
  {
   "cell_type": "code",
   "execution_count": null,
   "id": "5c67173e",
   "metadata": {},
   "outputs": [],
   "source": []
  }
 ],
 "metadata": {
  "colab": {
   "collapsed_sections": [],
   "name": "01_task.ipynb",
   "provenance": []
  },
  "kernelspec": {
   "display_name": "Python 3 (ipykernel)",
   "language": "python",
   "name": "python3"
  },
  "language_info": {
   "codemirror_mode": {
    "name": "ipython",
    "version": 3
   },
   "file_extension": ".py",
   "mimetype": "text/x-python",
   "name": "python",
   "nbconvert_exporter": "python",
   "pygments_lexer": "ipython3",
   "version": "3.9.6"
  }
 },
 "nbformat": 4,
 "nbformat_minor": 5
}