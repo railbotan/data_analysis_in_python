{
  "metadata": {
    "colab": {
      "collapsed_sections": [],
      "name": "01_task.ipynb",
      "provenance": []
    },
    "kernelspec": {
      "name": "python",
      "display_name": "Pyolite",
      "language": "python"
    },
    "language_info": {
      "codemirror_mode": {
        "name": "python",
        "version": 3
      },
      "file_extension": ".py",
      "mimetype": "text/x-python",
      "name": "python",
      "nbconvert_exporter": "python",
      "pygments_lexer": "ipython3",
      "version": "3.8"
    }
  },
  "nbformat_minor": 5,
  "nbformat": 4,
  "cells": [
    {
      "cell_type": "code",
      "source": "import numpy as np",
      "metadata": {
        "id": "medieval-detail",
        "trusted": true
      },
      "execution_count": 6,
      "outputs": [],
      "id": "4b0abd6f-c954-42de-ab5d-6378bfbb12df"
    },
    {
      "cell_type": "markdown",
      "source": "1. Задание\n- проверьте тип объекта python_list\n- если это не numpy ndarray, то преобразуйте к нему\n- проверьте, что на выходе вы получили объект python_list желаемого типа",
      "metadata": {
        "id": "abstract-istanbul"
      },
      "id": "5bf92aa9-9bb5-4e39-a3c7-6a285d176dbf"
    },
    {
      "cell_type": "code",
      "source": "python_list = [1, 12, 13, 45, 76, 45, 98, 0]\nprint(type(python_list))\nif type(python_list) is not type(np.ndarray):\n    python_list = np.array(python_list)\n    print(type(python_list))",
      "metadata": {
        "id": "entertaining-automation",
        "trusted": true
      },
      "execution_count": 8,
      "outputs": [
        {
          "name": "stdout",
          "text": "<class 'list'>\n<class 'numpy.ndarray'>\n",
          "output_type": "stream"
        }
      ],
      "id": "68b79322-59e9-4024-9513-a6f2d5fb99a8"
    },
    {
      "cell_type": "markdown",
      "source": "2. Задание\n- создайте одномерный массив numpy из 10 элементов заполненный числом 1.5",
      "metadata": {
        "id": "loose-tobago"
      },
      "id": "3d6a6ba3-6245-481b-b7f9-ce1f9cc41d85"
    },
    {
      "cell_type": "code",
      "source": "z = np.ndarray((10))\nz.fill(1.5)\nprint(z)",
      "metadata": {
        "id": "included-polymer",
        "trusted": true
      },
      "execution_count": 10,
      "outputs": [
        {
          "name": "stdout",
          "text": "[1.5 1.5 1.5 1.5 1.5 1.5 1.5 1.5 1.5 1.5]\n",
          "output_type": "stream"
        }
      ],
      "id": "9593addb-997c-4726-bb43-1ff58100817c"
    },
    {
      "cell_type": "markdown",
      "source": "3. Задание\n- создайте двумерный массив numpy из 25 элементов заполненный числом 0",
      "metadata": {
        "id": "threatened-theme"
      },
      "id": "68f22b3c-38a2-4db9-a2c8-061a7b3066d0"
    },
    {
      "cell_type": "code",
      "source": "z = np.ndarray((5,5))\nz.fill(0)\nprint(z)",
      "metadata": {
        "id": "alert-endorsement",
        "trusted": true
      },
      "execution_count": 11,
      "outputs": [
        {
          "name": "stdout",
          "text": "[[0. 0. 0. 0. 0.]\n [0. 0. 0. 0. 0.]\n [0. 0. 0. 0. 0.]\n [0. 0. 0. 0. 0.]\n [0. 0. 0. 0. 0.]]\n",
          "output_type": "stream"
        }
      ],
      "id": "8ef29500-68dc-4ece-be68-7a65c14ad76a"
    },
    {
      "cell_type": "markdown",
      "source": "4. Задание\n- создайте одномерный массив numpy из 12 элементов заполненный числом 1",
      "metadata": {
        "id": "federal-blackberry"
      },
      "id": "ce340058-bd96-42a5-a4bd-e7ad174bcd84"
    },
    {
      "cell_type": "code",
      "source": "ones = np.ndarray((12))\nones.fill(1)\nprint(ones)",
      "metadata": {
        "id": "static-filing",
        "trusted": true
      },
      "execution_count": 12,
      "outputs": [
        {
          "name": "stdout",
          "text": "[1. 1. 1. 1. 1. 1. 1. 1. 1. 1. 1. 1.]\n",
          "output_type": "stream"
        }
      ],
      "id": "ad905fdb-ca27-4bdb-9d0e-1a4ad6ab8ba4"
    },
    {
      "cell_type": "markdown",
      "source": "5. Задание\n- преобразуйте массив из предыдущего задания к матрице 3 на 4\n- выведите размерность полученного массива",
      "metadata": {
        "id": "whole-chassis"
      },
      "id": "9290a660-a9d3-4d8c-8ce3-711ef1746bbb"
    },
    {
      "cell_type": "code",
      "source": "ones = ones.reshape((3,4))\nones.shape",
      "metadata": {
        "id": "outstanding-deviation",
        "trusted": true
      },
      "execution_count": 13,
      "outputs": [
        {
          "execution_count": 13,
          "output_type": "execute_result",
          "data": {
            "text/plain": "(3, 4)"
          },
          "metadata": {}
        }
      ],
      "id": "2d7f73f3-8083-4dae-a1b8-bf2ca0fd4433"
    },
    {
      "cell_type": "markdown",
      "source": "6. Задание\n- создайте матрицу 4 на 5 заполненную числами от 1 до 20\n- замените элемент в 3-й строке 4-м столбце на -99",
      "metadata": {
        "id": "cubic-noise"
      },
      "id": "63c48790-2c81-4ed6-a955-62c7db243844"
    },
    {
      "cell_type": "code",
      "source": "Z = np.array(range(1,21)).reshape((4,5))\nprint(Z)\nZ[2,3] = -99\nprint(Z)",
      "metadata": {
        "id": "foster-memory",
        "trusted": true
      },
      "execution_count": 14,
      "outputs": [
        {
          "name": "stdout",
          "text": "[[ 1  2  3  4  5]\n [ 6  7  8  9 10]\n [11 12 13 14 15]\n [16 17 18 19 20]]\n[[  1   2   3   4   5]\n [  6   7   8   9  10]\n [ 11  12  13 -99  15]\n [ 16  17  18  19  20]]\n",
          "output_type": "stream"
        }
      ],
      "id": "a8928d27-cbce-4e83-a9cd-b765a6e114b6"
    },
    {
      "cell_type": "markdown",
      "source": "7. Задание\n- создайте вектор длинной 15 со случайными целыми числами в диапазоне от -10 до 10\n- сделайте реверс вектора",
      "metadata": {
        "id": "helpful-table"
      },
      "id": "b63b1b24-aba9-4636-bd4b-07be882aaa17"
    },
    {
      "cell_type": "code",
      "source": "first = np.random.randint(-10, 10, 15)\nprint(first)\nsecond = first[::-1]\nprint(second)",
      "metadata": {
        "id": "magnetic-leone",
        "trusted": true
      },
      "execution_count": 15,
      "outputs": [
        {
          "name": "stdout",
          "text": "[ 4  3  9  4  4  8  1 -2 -8  8 -8 -7 -3 -8  9]\n[ 9 -8 -3 -7 -8  8 -8 -2  1  8  4  4  9  3  4]\n",
          "output_type": "stream"
        }
      ],
      "id": "3692e729-6706-4236-9c10-43bdf2362975"
    },
    {
      "cell_type": "markdown",
      "source": "8. Задание\n- создайте матрицу 5 на 5 со случайными целыми числами в диапазоне от -15 до 15\n- замените отрицательные элементы на их квадраты",
      "metadata": {
        "id": "executed-september"
      },
      "id": "3e5adf19-2985-4eb0-a6d7-9bb368362d15"
    },
    {
      "cell_type": "code",
      "source": "first = np.random.randint(-15, 15, 25).reshape(5,5)\nprint(first)\nsecond = np.where(first < 0, first * first, first)\nprint(first)",
      "metadata": {
        "id": "pharmaceutical-sigma",
        "trusted": true
      },
      "execution_count": 16,
      "outputs": [
        {
          "name": "stdout",
          "text": "[[  2 -12  13  -8  10]\n [  6   3   5   3   0]\n [ 14   6 -15  11  10]\n [ 11  -2  13 -12  -7]\n [ -8  -3 -11  10 -15]]\n[[  2 -12  13  -8  10]\n [  6   3   5   3   0]\n [ 14   6 -15  11  10]\n [ 11  -2  13 -12  -7]\n [ -8  -3 -11  10 -15]]\n",
          "output_type": "stream"
        }
      ],
      "id": "dd8399a5-03d6-470d-a7e6-6da2e64d2762"
    },
    {
      "cell_type": "markdown",
      "source": "9. Задание\n- создайте матрицу 3 на 5 со случайными целыми числами в диапазоне от -15 до 15\n- найдите максимум и минимум\n- найдите среднее по столбцам\n- найдите среднее по строкам",
      "metadata": {
        "id": "floral-difference"
      },
      "id": "5478caf8-a48d-4220-b0dc-22b50040c880"
    },
    {
      "cell_type": "code",
      "source": "first = np.random.randint(-15, 15, 15).reshape(3,5)\nprint(first)\nprint(first.max())\nprint(first.min())\nprint(first.mean(0))\nprint(first.mean(1))\n\n",
      "metadata": {
        "id": "saving-conference",
        "trusted": true
      },
      "execution_count": 17,
      "outputs": [
        {
          "name": "stdout",
          "text": "[[-15   6   2   3  -8]\n [ 14   7 -12  -2  12]\n [  2  -7  10   2  12]]\n14\n-15\n[0.33333333 2.         0.         1.         5.33333333]\n[-2.4  3.8  3.8]\n",
          "output_type": "stream"
        }
      ],
      "id": "bf232d70-0998-4b85-9835-48f31f341f23"
    },
    {
      "cell_type": "markdown",
      "source": "10. Задание\n- даны две матрицы\n- убедитесь, что их можно пермножить\n- произведите операцию умножения матриц, если это возможно, иначе выведите ошибку",
      "metadata": {
        "id": "diagnostic-departure"
      },
      "id": "c56a8f91-5f90-4ad5-b725-e33f3fa89d42"
    },
    {
      "cell_type": "code",
      "source": "a = np.random.randint(-10, 10, (2, 5))\nfirst_axis = np.random.randint(4, 6)\nb = np.random.randint(-10, 10, (first_axis, 3))\nif a.shape[1] == b.shape[0]:\n    print(a @ b)\nelse:\n    print(\"ошибка\")",
      "metadata": {
        "id": "olympic-qatar",
        "trusted": true
      },
      "execution_count": 18,
      "outputs": [
        {
          "name": "stdout",
          "text": "ошибка\n",
          "output_type": "stream"
        }
      ],
      "id": "d94c573a-561f-40c1-9669-2ea7997a9a2f"
    },
    {
      "cell_type": "markdown",
      "source": "11. Задание\n- создайте матрицу 5 на 5 заполненную равномерным распределением с диапазоно 2-12\n- заполните все элементы ниже главной диагонали нулями",
      "metadata": {
        "id": "governmental-austin"
      },
      "id": "e40f3fbc-c6dd-4588-8553-a64869a2ec00"
    },
    {
      "cell_type": "code",
      "source": "mask = np.random.uniform(2, 12, (5, 5)) \nmask[np.tril_indices(mask.shape[0], -1)] = 0\n\nprint(mask)",
      "metadata": {
        "id": "suffering-mauritius",
        "trusted": true
      },
      "execution_count": 19,
      "outputs": [
        {
          "name": "stdout",
          "text": "[[ 9.2100844   3.50089313 10.20536248  8.68024948 10.88132575]\n [ 0.          4.33409912  7.56655632  7.7462597   9.53943801]\n [ 0.          0.          2.43949394  6.53629363  3.15721657]\n [ 0.          0.          0.          2.27800496  5.66815189]\n [ 0.          0.          0.          0.          9.14753241]]\n",
          "output_type": "stream"
        }
      ],
      "id": "5844bac4-a7b2-43a1-b2a2-9f532e7d6b98"
    },
    {
      "cell_type": "markdown",
      "source": "12. Задание\n- создайте матрицу 5 на 5 заполненную нормальным распределением с парметрами среднее 10 и отклонение 2\n- заполните все элементы на главной диагонали нулями",
      "metadata": {
        "id": "altered-baghdad"
      },
      "id": "6324be19-e7f7-4516-ade5-9d41ac617248"
    },
    {
      "cell_type": "code",
      "source": "mask = f = np.random.normal(10,2, 25).reshape(5,5)\nmask[np.diag_indices(mask.shape[0])] = 0\n\nprint(mask)",
      "metadata": {
        "id": "refined-stuff"
      },
      "execution_count": null,
      "outputs": [],
      "id": "006dfd64-02e7-44e5-bed0-6c297fe17a8d"
    },
    {
      "cell_type": "markdown",
      "source": "13. Задание\n- дано два массива, проверить одинаковы ли они",
      "metadata": {
        "id": "quiet-complement"
      },
      "id": "ecf6399d-4da5-4abf-8aeb-e169db90c8f7"
    },
    {
      "cell_type": "code",
      "source": "a = np.random.randint(0,2,5)\nprint(a)\nb = np.random.randint(0,2,5)\nprint(b)\nequal = np.array_equal(a, b) \nprint(equal)",
      "metadata": {
        "id": "french-fighter",
        "trusted": true
      },
      "execution_count": 20,
      "outputs": [
        {
          "name": "stdout",
          "text": "[0 1 1 0 0]\n[0 0 0 1 0]\nFalse\n",
          "output_type": "stream"
        }
      ],
      "id": "bc8e8c74-9648-4140-8f93-63d3529ce9bb"
    },
    {
      "cell_type": "markdown",
      "source": "14. Задание\n- сгенерируйте матрицу случайного размера:\n - строк от 3 до 7\n - столбцов от 2 до 12\n- сгенерируйте число N - размер выборки так, чтобы оно не превышало половину количества элементов сгенерированной матрицы, но было больше 0\n- сделайте случайную выборку N элементов",
      "metadata": {
        "id": "color-amplifier"
      },
      "id": "f32ab508-031a-4ac5-aa29-5681f7f38436"
    },
    {
      "cell_type": "code",
      "source": "r, c = np.random.randint(3,7), np.random.randint(2,12)\na = np.ndarray((r,c))\nprint(a)\nN = np.random.randint(0,a.size /2)\nprint(N)\nsample = np.random.choice(a.flatten(),N)\nprint(sample)",
      "metadata": {
        "id": "close-daisy",
        "trusted": true
      },
      "execution_count": 21,
      "outputs": [
        {
          "name": "stdout",
          "text": "[[1. 1. 1. 1.]\n [1. 1. 1. 1.]\n [1. 1. 1. 1.]]\n5\n[1. 1. 1. 1. 1.]\n",
          "output_type": "stream"
        }
      ],
      "id": "47403ec3-cdda-4e94-9e65-caaeaaa11746"
    },
    {
      "cell_type": "markdown",
      "source": "15. Задание\n- дан вектор, проверить есть в нем Nan\n- проверить есть в нем знак бесконечности\n- заполнить их нулями",
      "metadata": {
        "id": "patent-african"
      },
      "id": "1c496d40-6c01-4419-bb85-b4769d163fcc"
    },
    {
      "cell_type": "code",
      "source": "a = np.array([1, np.NaN, np.Inf], float)\na = np.where(np.isnan(a) | np.isinf(a),0,a)\nprint(a)",
      "metadata": {
        "id": "taken-fabric",
        "trusted": true
      },
      "execution_count": 22,
      "outputs": [
        {
          "name": "stdout",
          "text": "[1. 0. 0.]\n",
          "output_type": "stream"
        }
      ],
      "id": "c70702a0-9534-4e0f-96d5-3856f1648640"
    },
    {
      "cell_type": "markdown",
      "source": "16. Задание\n- сгенерировать массив с произвольным числом осей\n- определить сколько у него осей",
      "metadata": {
        "id": "analyzed-ireland"
      },
      "id": "ec546e7d-5651-46d8-a7d0-11393a098e0b"
    },
    {
      "cell_type": "code",
      "source": "axis = np.random.randint(1,10)\nprint(axis)\nmatrix = np.ndarray(tuple(range(axis)))\nprint(matrix.ndim)",
      "metadata": {
        "id": "imposed-digest",
        "trusted": true
      },
      "execution_count": 23,
      "outputs": [
        {
          "name": "stdout",
          "text": "8\n8\n",
          "output_type": "stream"
        }
      ],
      "id": "27f83846-e0bc-4028-bf33-0b61e0c00fa5"
    },
    {
      "cell_type": "markdown",
      "source": "17. Задание\n- сгенерируйте матрицу 10 на 3 с нормальным распределением, среднее 50, отклонение 10\n- найдите индексы максимальных элементов в каждой строке\n- найдите сами элементы",
      "metadata": {
        "id": "regulation-colleague"
      },
      "id": "28de2ecb-15a3-4200-bdb8-f4213c270b34"
    },
    {
      "cell_type": "code",
      "source": "matrix = np.random.normal(50, 10, (10,3)).astype(int) \nprint(matrix)\nindexes = matrix.argmax(1)\nprint(indexes)\nprint(matrix.max(1))",
      "metadata": {
        "id": "concerned-anthropology",
        "trusted": true
      },
      "execution_count": 24,
      "outputs": [
        {
          "name": "stdout",
          "text": "[[55 53 46]\n [58 50 54]\n [57 61 53]\n [43 40 40]\n [46 52 39]\n [56 65 45]\n [51 66 23]\n [50 42 61]\n [62 41 29]\n [61 50 45]]\n[0 0 1 0 1 1 1 2 0 0]\n[55 58 61 43 52 65 66 61 62 61]\n",
          "output_type": "stream"
        }
      ],
      "id": "308b60ed-f124-427a-8abe-2d64e59a7c8e"
    },
    {
      "cell_type": "code",
      "source": "",
      "metadata": {},
      "execution_count": null,
      "outputs": [],
      "id": "6d8fdf90-6943-4250-bdec-cd878628399e"
    }
  ]
}