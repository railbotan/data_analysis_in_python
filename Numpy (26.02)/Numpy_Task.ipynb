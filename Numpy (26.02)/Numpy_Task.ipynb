{
 "cells": [
  {
   "cell_type": "code",
   "execution_count": 3,
   "id": "a2fb2918",
   "metadata": {
    "id": "medieval-detail"
   },
   "outputs": [],
   "source": [
    "import numpy as np"
   ]
  },
  {
   "cell_type": "markdown",
   "id": "d179aab9",
   "metadata": {
    "id": "abstract-istanbul"
   },
   "source": [
    "1. Задание\n",
    "- проверьте тип объекта python_list\n",
    "- если это не numpy ndarray, то преобразуйте к нему\n",
    "- проверьте, что на выходе вы получили объект python_list желаемого типа"
   ]
  },
  {
   "cell_type": "code",
   "execution_count": 9,
   "id": "f8e04056",
   "metadata": {
    "id": "entertaining-automation"
   },
   "outputs": [
    {
     "name": "stdout",
     "output_type": "stream",
     "text": [
      "<class 'list'>\n",
      "<class 'numpy.ndarray'>\n"
     ]
    }
   ],
   "source": [
    "python_list = [1, 12, 13, 45, 76, 45, 98, 0]\n",
    "print(type(python_list))\n",
    "#видим, что python_list является структурой list. Преобразуем к ndarray\n",
    "python_list = np.array(python_list, int)\n",
    "#проверим успешность проебразования к типу ndarray\n",
    "print(type(python_list))"
   ]
  },
  {
   "cell_type": "markdown",
   "id": "25da6e67",
   "metadata": {
    "id": "loose-tobago"
   },
   "source": [
    "2. Задание\n",
    "- создайте одномерный массив numpy из 10 элементов заполненный числом 1.5"
   ]
  },
  {
   "cell_type": "code",
   "execution_count": 24,
   "id": "9f6dddfe",
   "metadata": {
    "id": "included-polymer"
   },
   "outputs": [
    {
     "name": "stdout",
     "output_type": "stream",
     "text": [
      "[1.5 1.5 1.5 1.5 1.5 1.5 1.5 1.5 1.5 1.5]\n"
     ]
    }
   ],
   "source": [
    "z = np.linspace(1.5, 1.5, 10, dtype = float)\n",
    "print(z)"
   ]
  },
  {
   "cell_type": "markdown",
   "id": "781e69f7",
   "metadata": {
    "id": "threatened-theme"
   },
   "source": [
    "3. Задание\n",
    "- создайте двумерный массив numpy из 25 элементов заполненный числом 0"
   ]
  },
  {
   "cell_type": "code",
   "execution_count": 26,
   "id": "5f6b7135",
   "metadata": {
    "id": "alert-endorsement"
   },
   "outputs": [
    {
     "name": "stdout",
     "output_type": "stream",
     "text": [
      "[[0. 0. 0. 0. 0.]\n",
      " [0. 0. 0. 0. 0.]\n",
      " [0. 0. 0. 0. 0.]\n",
      " [0. 0. 0. 0. 0.]\n",
      " [0. 0. 0. 0. 0.]]\n"
     ]
    }
   ],
   "source": [
    "z = np.zeros((5,5))\n",
    "print(z)"
   ]
  },
  {
   "cell_type": "markdown",
   "id": "0090bbd1",
   "metadata": {
    "id": "federal-blackberry"
   },
   "source": [
    "4. Задание\n",
    "- создайте одномерный массив numpy из 12 элементов заполненный числом 1"
   ]
  },
  {
   "cell_type": "code",
   "execution_count": 38,
   "id": "43039bbf",
   "metadata": {
    "id": "static-filing"
   },
   "outputs": [
    {
     "name": "stdout",
     "output_type": "stream",
     "text": [
      "[1 1 1 1 1 1 1 1 1 1 1 1]\n"
     ]
    }
   ],
   "source": [
    "ones = np.ones(12, dtype=int)\n",
    "print(ones)"
   ]
  },
  {
   "cell_type": "markdown",
   "id": "f41b901e",
   "metadata": {
    "id": "whole-chassis"
   },
   "source": [
    "5. Задание\n",
    "- преобразуйте массив из предыдущего задания к матрице 3 на 4\n",
    "- выведите размерность полученного массива"
   ]
  },
  {
   "cell_type": "code",
   "execution_count": 30,
   "id": "e0a2f1d2",
   "metadata": {
    "id": "outstanding-deviation"
   },
   "outputs": [
    {
     "name": "stdout",
     "output_type": "stream",
     "text": [
      "[[1 1 1 1]\n",
      " [1 1 1 1]\n",
      " [1 1 1 1]]\n"
     ]
    },
    {
     "data": {
      "text/plain": [
       "(3, 4)"
      ]
     },
     "execution_count": 30,
     "metadata": {},
     "output_type": "execute_result"
    }
   ],
   "source": [
    "ones = ones.reshape(3,4)\n",
    "print(ones)\n",
    "ones.shape"
   ]
  },
  {
   "cell_type": "markdown",
   "id": "3bc9c510",
   "metadata": {
    "id": "cubic-noise"
   },
   "source": [
    "6. Задание\n",
    "- создайте матрицу 4 на 5 заполненную числами от 1 до 20\n",
    "- замените элемент в 3-й строке 4-м столбце на -99"
   ]
  },
  {
   "cell_type": "code",
   "execution_count": 45,
   "id": "1286ab82",
   "metadata": {
    "id": "foster-memory"
   },
   "outputs": [
    {
     "name": "stdout",
     "output_type": "stream",
     "text": [
      "[[ 0  1  2  3  4]\n",
      " [ 5  6  7  8  9]\n",
      " [10 11 12 13 14]\n",
      " [15 16 17 18 19]]\n",
      "[[  0   1   2   3   4]\n",
      " [  5   6   7   8   9]\n",
      " [ 10  11  12 -99  14]\n",
      " [ 15  16  17  18  19]]\n"
     ]
    }
   ],
   "source": [
    "Z = np.arange(20).reshape(4,5)\n",
    "print(Z)\n",
    "Z[2][3] = (-99)\n",
    "print(Z)"
   ]
  },
  {
   "cell_type": "markdown",
   "id": "aedc281f",
   "metadata": {
    "id": "helpful-table"
   },
   "source": [
    "7. Задание\n",
    "- создайте вектор длинной 15 со случайными целыми числами в диапазоне от -10 до 10\n",
    "- сделайте реверс вектора"
   ]
  },
  {
   "cell_type": "code",
   "execution_count": 48,
   "id": "96234591",
   "metadata": {
    "id": "magnetic-leone"
   },
   "outputs": [
    {
     "name": "stdout",
     "output_type": "stream",
     "text": [
      "[ -8   5  -4   7   4   0 -10  -5   3  -9   1  -3  -4  -1   4]\n",
      "[  4  -1  -4  -3   1  -9   3  -5 -10   0   4   7  -4   5  -8]\n"
     ]
    }
   ],
   "source": [
    "first = np.random.randint(-10,10,15)\n",
    "print(first)\n",
    "second = first[::-1]\n",
    "print(second)"
   ]
  },
  {
   "cell_type": "markdown",
   "id": "6b19895a",
   "metadata": {
    "id": "executed-september"
   },
   "source": [
    "8. Задание\n",
    "- создайте матрицу 5 на 5 со случайными целыми числами в диапазоне от -15 до 15\n",
    "- замените отрицательные элементы на их квадраты"
   ]
  },
  {
   "cell_type": "code",
   "execution_count": 61,
   "id": "7ddcebd3",
   "metadata": {
    "id": "pharmaceutical-sigma"
   },
   "outputs": [
    {
     "name": "stdout",
     "output_type": "stream",
     "text": [
      "[[  6  10   2 -10   5]\n",
      " [ -5  -9   1   4   1]\n",
      " [  6  -9  -5  -1  -7]\n",
      " [  4   7  -1   2  -7]\n",
      " [  4   9   5 -14  13]]\n",
      "[[  6  10   2 100   5]\n",
      " [ 25  81   1   4   1]\n",
      " [  6  81  25   1  49]\n",
      " [  4   7   1   2  49]\n",
      " [  4   9   5 196  13]]\n"
     ]
    }
   ],
   "source": [
    "first = np.random.randint(-15,15,(5,5))\n",
    "print(first)\n",
    "for i in range(5):\n",
    "    for j in range(5):\n",
    "        if first[i][j] < 0:\n",
    "            first[i][j] = first[i][j] * first[i][j]\n",
    "print(first)"
   ]
  },
  {
   "cell_type": "markdown",
   "id": "dc0757f2",
   "metadata": {
    "id": "floral-difference"
   },
   "source": [
    "9. Задание\n",
    "- создайте матрицу 3 на 5 со случайными целыми числами в диапазоне от -15 до 15\n",
    "- найдите максимум и минимум\n",
    "- найдите среднее по столбцам\n",
    "- найдите среднее по строкам"
   ]
  },
  {
   "cell_type": "code",
   "execution_count": 68,
   "id": "6ae32afd",
   "metadata": {
    "id": "saving-conference"
   },
   "outputs": [
    {
     "name": "stdout",
     "output_type": "stream",
     "text": [
      "[[-14  13  13  14 -11]\n",
      " [ 14  -2  13  -4  -4]\n",
      " [ 13  10   5 -15 -15]]\n",
      "max: 14 min: -15\n",
      "mean vertical: [  4.33333333   7.          10.33333333  -1.66666667 -10.        ]\n",
      "mean horizontal: [ 3.   3.4 -0.4]\n"
     ]
    }
   ],
   "source": [
    "first = np.random.randint(-15,15,(3,5))\n",
    "print(first)\n",
    "print('max:', first.max(), 'min:', first.min())\n",
    "print('mean vertical:', first.mean(axis=0))\n",
    "print('mean horizontal:', first.mean(axis=1))"
   ]
  },
  {
   "cell_type": "markdown",
   "id": "6fdc0fa1",
   "metadata": {
    "id": "diagnostic-departure"
   },
   "source": [
    "10. Задание\n",
    "- даны две матрицы\n",
    "- убедитесь, что их можно пермножить\n",
    "- произведите операцию умножения матриц, если это возможно, иначе выведите ошибку"
   ]
  },
  {
   "cell_type": "code",
   "execution_count": 94,
   "id": "378f1354",
   "metadata": {
    "id": "olympic-qatar"
   },
   "outputs": [
    {
     "name": "stdout",
     "output_type": "stream",
     "text": [
      "5\n",
      "[[-84  21 -21]\n",
      " [ 34 -31  -7]]\n"
     ]
    }
   ],
   "source": [
    "a = np.random.randint(-10, 10, (2, 5))\n",
    "first_axis = np.random.randint(4, 6)\n",
    "print(first_axis)\n",
    "b = np.random.randint(-10, 10, (first_axis, 3))\n",
    "if a.shape[1] == first_axis:\n",
    "    print(a @ b)\n",
    "else:\n",
    "    print('traceback')\n",
    "    "
   ]
  },
  {
   "cell_type": "markdown",
   "id": "23625924",
   "metadata": {
    "id": "governmental-austin"
   },
   "source": [
    "11. Задание\n",
    "- создайте матрицу 5 на 5 заполненную равномерным распределением с диапазоно 2-12\n",
    "- заполните все элементы ниже главной диагонали нулями"
   ]
  },
  {
   "cell_type": "code",
   "execution_count": 99,
   "id": "07bf9f5e",
   "metadata": {
    "id": "suffering-mauritius"
   },
   "outputs": [
    {
     "name": "stdout",
     "output_type": "stream",
     "text": [
      "[[11.7516993   6.14459459  7.32788001 10.31842091  4.97231603]\n",
      " [ 8.76782407  8.20939579  8.3091281   6.91625086  2.38918889]\n",
      " [11.03867593  3.08975957  4.70298586  8.49362661  4.54681523]\n",
      " [10.79542262  8.93234998  5.1097531   9.40557474  6.1502076 ]\n",
      " [ 3.41394667  4.65751701  2.64677893  5.90179377  9.83536372]] \n",
      "\n",
      "[[11.7516993   6.14459459  7.32788001 10.31842091  4.97231603]\n",
      " [ 0.          8.20939579  8.3091281   6.91625086  2.38918889]\n",
      " [ 0.          0.          4.70298586  8.49362661  4.54681523]\n",
      " [ 0.          0.          0.          9.40557474  6.1502076 ]\n",
      " [ 0.          0.          0.          0.          9.83536372]]\n"
     ]
    }
   ],
   "source": [
    "mask = np.random.uniform(2, 12, (5,5))\n",
    "print(mask, '\\n')\n",
    "mask[np.tril_indices(5, -1)] = 0\n",
    "print(mask)"
   ]
  },
  {
   "cell_type": "markdown",
   "id": "fc443624",
   "metadata": {
    "id": "altered-baghdad"
   },
   "source": [
    "12. Задание\n",
    "- создайте матрицу 5 на 5 заполненную нормальным распределением с парметрами среднее 10 и отклонение 2\n",
    "- заполните все элементы на главной диагонали нулями"
   ]
  },
  {
   "cell_type": "code",
   "execution_count": 91,
   "id": "27de05c3",
   "metadata": {
    "id": "refined-stuff"
   },
   "outputs": [
    {
     "name": "stdout",
     "output_type": "stream",
     "text": [
      "[[ 0.         12.86127131 11.22168971  7.21720825 10.47671893]\n",
      " [11.96135823  0.         13.14356861  9.90337982 12.11014366]\n",
      " [13.13628799  7.28890965  0.          7.23622246 11.15415884]\n",
      " [ 9.35751857 10.12510034  9.94678946  0.         10.46373431]\n",
      " [13.25006165  9.11060909  9.34040538  9.6598091   0.        ]]\n"
     ]
    }
   ],
   "source": [
    "mask = np.random.normal(10, 2, (5, 5))\n",
    "di = np.diag_indices(5)\n",
    "matrix = mask\n",
    "mask[di] = 0\n",
    "\n",
    "print(matrix)"
   ]
  },
  {
   "cell_type": "markdown",
   "id": "b6846e14",
   "metadata": {
    "id": "quiet-complement"
   },
   "source": [
    "## 13. Задание\n",
    "- дано два массива, проверить одинаковы ли они"
   ]
  },
  {
   "cell_type": "code",
   "execution_count": 102,
   "id": "1164d346",
   "metadata": {
    "id": "french-fighter"
   },
   "outputs": [
    {
     "name": "stdout",
     "output_type": "stream",
     "text": [
      "[0 1 1 1 0]\n",
      "[1 0 1 1 0]\n"
     ]
    },
    {
     "data": {
      "text/plain": [
       "False"
      ]
     },
     "execution_count": 102,
     "metadata": {},
     "output_type": "execute_result"
    }
   ],
   "source": [
    "a = np.random.randint(0,2,5)\n",
    "print(a)\n",
    "b = np.random.randint(0,2,5)\n",
    "print(b)\n",
    "equal = np.array_equal(a,b)\n",
    "equal"
   ]
  },
  {
   "cell_type": "markdown",
   "id": "ea136ed8",
   "metadata": {
    "id": "color-amplifier"
   },
   "source": [
    "14. Задание\n",
    "- сгенерируйте матрицу случайного размера:\n",
    " - строк от 3 до 7\n",
    " - столбцов от 2 до 12\n",
    "- сгенерируйте число N - размер выборки так, чтобы оно не превышало половину количества элементов сгенерированной матрицы, но было больше 0\n",
    "- сделайте случайную выборку N элементов"
   ]
  },
  {
   "cell_type": "code",
   "execution_count": 125,
   "id": "f418b5cc",
   "metadata": {
    "id": "close-daisy"
   },
   "outputs": [
    {
     "name": "stdout",
     "output_type": "stream",
     "text": [
      "[[0.09276302 0.0772502  0.53037219 0.86408608]\n",
      " [0.29126194 0.60865055 0.5691283  0.72585249]\n",
      " [0.93778753 0.65489803 0.54313851 0.91065248]\n",
      " [0.76604798 0.19713809 0.97469657 0.70819056]]\n",
      "7\n",
      "[0.72585249 0.60865055 0.86408608 0.97469657 0.09276302 0.86408608\n",
      " 0.76604798]\n"
     ]
    }
   ],
   "source": [
    "r, c = np.random.randint(3,7), np.random.randint(2,12)\n",
    "a = np.random.sample((r,c))\n",
    "print(a)\n",
    "N = np.random.randint(0, r*c/2) \n",
    "print(N)\n",
    "sample = np.random.choice(a.reshape(r*c), N)\n",
    "print(sample)"
   ]
  },
  {
   "cell_type": "markdown",
   "id": "2100ddd2",
   "metadata": {
    "id": "patent-african"
   },
   "source": [
    "15. Задание\n",
    "- дан вектор, проверить есть в нем Nan\n",
    "- проверить есть в нем знак бесконечности\n",
    "- заполнить их нулями"
   ]
  },
  {
   "cell_type": "code",
   "execution_count": 132,
   "id": "3b326a30",
   "metadata": {
    "id": "taken-fabric"
   },
   "outputs": [
    {
     "name": "stdout",
     "output_type": "stream",
     "text": [
      "is it NaN?  [False  True False]\n",
      "is it Infinity?  [False False  True]\n"
     ]
    },
    {
     "data": {
      "text/plain": [
       "array([ 1., nan, inf])"
      ]
     },
     "execution_count": 132,
     "metadata": {},
     "output_type": "execute_result"
    }
   ],
   "source": [
    "a = np.array([1, np.NaN, np.Inf], float)\n",
    "print('is it NaN? ', np.isnan(a))\n",
    "print('is it Infinity? ', np.isinf(a))\n",
    "a"
   ]
  },
  {
   "cell_type": "markdown",
   "id": "d2f060f1",
   "metadata": {
    "id": "analyzed-ireland"
   },
   "source": [
    "16. Задание\n",
    "- сгенерировать массив с произвольным числом осей\n",
    "- определить сколько у него осей"
   ]
  },
  {
   "cell_type": "code",
   "execution_count": 155,
   "id": "9fc20263",
   "metadata": {
    "id": "imposed-digest"
   },
   "outputs": [
    {
     "name": "stdout",
     "output_type": "stream",
     "text": [
      "6\n",
      "6\n"
     ]
    }
   ],
   "source": [
    "axis = np.random.randint(0, 10)\n",
    "print(axis)\n",
    "matrix = np.arange(axis**axis).reshape(*[axis]*axis)\n",
    "print(matrix.ndim)"
   ]
  },
  {
   "cell_type": "markdown",
   "id": "33ad782e",
   "metadata": {
    "id": "regulation-colleague"
   },
   "source": [
    "17. Задание\n",
    "- сгенерируйте матрицу 10 на 3 с нормальным распределением, среднее 50, отклонение 10\n",
    "- найдите индексы максимальных элементов в каждой строке\n",
    "- найдите сами элементы"
   ]
  },
  {
   "cell_type": "code",
   "execution_count": 145,
   "id": "d2d05ada",
   "metadata": {
    "id": "concerned-anthropology"
   },
   "outputs": [
    {
     "name": "stdout",
     "output_type": "stream",
     "text": [
      "[[59.50722007 55.64882258 43.601435  ]\n",
      " [56.64101752 58.81946836 40.94583216]\n",
      " [69.44451729 55.30175182 54.80710386]\n",
      " [42.44817153 57.14702188 32.49550562]\n",
      " [47.76582561 59.55932534 57.05173243]\n",
      " [43.96263667 55.42736882 56.24908581]\n",
      " [61.1270066  59.481786   50.71685145]\n",
      " [45.8277303  49.38359947 45.56134551]\n",
      " [60.70464341 60.40841661 63.36467888]\n",
      " [54.93177829 45.39530205 56.13291731]]\n",
      "[0 1 0 1 1 2 0 1 2 2]\n",
      "[59.50722007 58.81946836 69.44451729 57.14702188 59.55932534 56.24908581\n",
      " 61.1270066  49.38359947 63.36467888 56.13291731]\n"
     ]
    }
   ],
   "source": [
    "matrix = np.random.normal(50, 10, (10,3))\n",
    "print(matrix)\n",
    "indexes = matrix.argmax(axis = 1)\n",
    "print(indexes)\n",
    "print(matrix.max(axis=1))"
   ]
  },
  {
   "cell_type": "code",
   "execution_count": null,
   "id": "cf735928",
   "metadata": {},
   "outputs": [],
   "source": []
  }
 ],
 "metadata": {
  "colab": {
   "collapsed_sections": [],
   "name": "01_task.ipynb",
   "provenance": []
  },
  "kernelspec": {
   "display_name": "Python 3",
   "language": "python",
   "name": "python3"
  },
  "language_info": {
   "codemirror_mode": {
    "name": "ipython",
    "version": 3
   },
   "file_extension": ".py",
   "mimetype": "text/x-python",
   "name": "python",
   "nbconvert_exporter": "python",
   "pygments_lexer": "ipython3",
   "version": "3.8.8"
  }
 },
 "nbformat": 4,
 "nbformat_minor": 5
}
