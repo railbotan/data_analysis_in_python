{
 "cells": [
  {
   "cell_type": "code",
   "execution_count": 1,
   "id": "5655e521",
   "metadata": {
    "id": "medieval-detail"
   },
   "outputs": [],
   "source": [
    "import numpy as np"
   ]
  },
  {
   "cell_type": "markdown",
   "id": "448eaa6f",
   "metadata": {
    "id": "abstract-istanbul"
   },
   "source": [
    "1. Задание\n",
    "- проверьте тип объекта python_list\n",
    "- если это не numpy ndarray, то преобразуйте к нему\n",
    "- проверьте, что на выходе вы получили объект python_list желаемого типа"
   ]
  },
  {
   "cell_type": "code",
   "execution_count": 2,
   "id": "8c8e7d2d",
   "metadata": {
    "id": "entertaining-automation"
   },
   "outputs": [
    {
     "name": "stdout",
     "output_type": "stream",
     "text": [
      "<class 'list'>\n",
      "<class 'numpy.ndarray'>\n"
     ]
    }
   ],
   "source": [
    "python_list = [1, 12, 13, 45, 76, 45, 98, 0]\n",
    "print(type(python_list))\n",
    "python_list = np.array(python_list)\n",
    "print(type(python_list))"
   ]
  },
  {
   "cell_type": "markdown",
   "id": "b1d6a033",
   "metadata": {
    "id": "loose-tobago"
   },
   "source": [
    "2. Задание\n",
    "- создайте одномерный массив numpy из 10 элементов заполненный числом 1.5"
   ]
  },
  {
   "cell_type": "code",
   "execution_count": 5,
   "id": "71caca79",
   "metadata": {
    "id": "included-polymer"
   },
   "outputs": [
    {
     "name": "stdout",
     "output_type": "stream",
     "text": [
      "[1.5 1.5 1.5 1.5 1.5 1.5 1.5 1.5 1.5 1.5]\n"
     ]
    }
   ],
   "source": [
    "z = np.array([1.5 for i in range(10)])\n",
    "print(z)"
   ]
  },
  {
   "cell_type": "markdown",
   "id": "76d87fe1",
   "metadata": {
    "id": "threatened-theme"
   },
   "source": [
    "3. Задание\n",
    "- создайте двумерный массив numpy из 25 элементов заполненный числом 0"
   ]
  },
  {
   "cell_type": "code",
   "execution_count": 3,
   "id": "5b9b1205",
   "metadata": {
    "id": "alert-endorsement"
   },
   "outputs": [
    {
     "name": "stdout",
     "output_type": "stream",
     "text": [
      "[[0. 0. 0. 0. 0.]\n",
      " [0. 0. 0. 0. 0.]\n",
      " [0. 0. 0. 0. 0.]\n",
      " [0. 0. 0. 0. 0.]\n",
      " [0. 0. 0. 0. 0.]]\n"
     ]
    }
   ],
   "source": [
    "z = np.zeros((5, 5))\n",
    "print(z)"
   ]
  },
  {
   "cell_type": "markdown",
   "id": "175ae51a",
   "metadata": {
    "id": "federal-blackberry"
   },
   "source": [
    "4. Задание\n",
    "- создайте одномерный массив numpy из 12 элементов заполненный числом 1"
   ]
  },
  {
   "cell_type": "code",
   "execution_count": 7,
   "id": "6f6b349b",
   "metadata": {
    "id": "static-filing"
   },
   "outputs": [
    {
     "name": "stdout",
     "output_type": "stream",
     "text": [
      "[1 1 1 1 1 1 1 1 1 1 1 1]\n"
     ]
    }
   ],
   "source": [
    "ones = np.array([1 for j in range(12)])\n",
    "print(ones)"
   ]
  },
  {
   "cell_type": "markdown",
   "id": "2ad1e242",
   "metadata": {
    "id": "whole-chassis"
   },
   "source": [
    "5. Задание\n",
    "- преобразуйте массив из предыдущего задания к матрице 3 на 4\n",
    "- выведите размерность полученного массива"
   ]
  },
  {
   "cell_type": "code",
   "execution_count": 8,
   "id": "a8db6ca3",
   "metadata": {
    "id": "outstanding-deviation"
   },
   "outputs": [
    {
     "data": {
      "text/plain": "(3, 4)"
     },
     "execution_count": 8,
     "metadata": {},
     "output_type": "execute_result"
    }
   ],
   "source": [
    "ones = ones.reshape(3, 4)\n",
    "ones.shape"
   ]
  },
  {
   "cell_type": "markdown",
   "id": "2a80b8ee",
   "metadata": {
    "id": "cubic-noise"
   },
   "source": [
    "6. Задание\n",
    "- создайте матрицу 4 на 5 заполненную числами от 1 до 20\n",
    "- замените элемент в 3-й строке 4-м столбце на -99"
   ]
  },
  {
   "cell_type": "code",
   "execution_count": 11,
   "id": "6ed564be",
   "metadata": {
    "id": "foster-memory"
   },
   "outputs": [
    {
     "name": "stdout",
     "output_type": "stream",
     "text": [
      "[[17 18 16 19  2]\n",
      " [18 17 14 16  5]\n",
      " [ 4  6 12 19  9]\n",
      " [18  3  4  1  8]]\n",
      "[[ 17  18  16  19   2]\n",
      " [ 18  17  14  16   5]\n",
      " [  4   6  12 -99   9]\n",
      " [ 18   3   4   1   8]]\n"
     ]
    }
   ],
   "source": [
    "Z = np.random.randint(1, 20, 20).reshape(4, 5)\n",
    "print(Z)\n",
    "Z[2, 3] = -99\n",
    "print(Z)"
   ]
  },
  {
   "cell_type": "markdown",
   "id": "45130b98",
   "metadata": {
    "id": "helpful-table"
   },
   "source": [
    "7. Задание\n",
    "- создайте вектор длинной 15 со случайными целыми числами в диапазоне от -10 до 10\n",
    "- сделайте реверс вектора"
   ]
  },
  {
   "cell_type": "code",
   "execution_count": 13,
   "id": "5a7e5cd4",
   "metadata": {
    "id": "magnetic-leone"
   },
   "outputs": [
    {
     "name": "stdout",
     "output_type": "stream",
     "text": [
      "[ -7  -4  -2  -9  -9  -6   7   6  -6   1 -10   8   1 -10  -3]\n",
      "[ -3 -10   1   8 -10   1  -6   6   7  -6  -9  -9  -2  -4  -7]\n"
     ]
    }
   ],
   "source": [
    "first = np.array([np.random.randint(-10, 10) for z in range(15)])\n",
    "print(first)\n",
    "second = first[::-1]\n",
    "print(second)"
   ]
  },
  {
   "cell_type": "markdown",
   "id": "8591f998",
   "metadata": {
    "id": "executed-september"
   },
   "source": [
    "8. Задание\n",
    "- создайте матрицу 5 на 5 со случайными целыми числами в диапазоне от -15 до 15\n",
    "- замените отрицательные элементы на их квадраты"
   ]
  },
  {
   "cell_type": "code",
   "execution_count": 16,
   "id": "18e5b4f8",
   "metadata": {
    "id": "pharmaceutical-sigma"
   },
   "outputs": [
    {
     "name": "stdout",
     "output_type": "stream",
     "text": [
      "[[  6  -1 -10  11  -6]\n",
      " [-12   3   9   1  -9]\n",
      " [-11   4   1  -4   4]\n",
      " [ -1   9  11  -7 -10]\n",
      " [ 12  12   7   9   5]]\n",
      "[[  6   1 100  11  36]\n",
      " [144   3   9   1  81]\n",
      " [121   4   1  16   4]\n",
      " [  1   9  11  49 100]\n",
      " [ 12  12   7   9   5]]\n"
     ]
    }
   ],
   "source": [
    "first = np.array([np.random.randint(-15, 15) for x in range(25)]).reshape(5, 5)\n",
    "print(first)\n",
    "first[first < 0] **= 2\n",
    "print(first)"
   ]
  },
  {
   "cell_type": "markdown",
   "id": "bb8a9355",
   "metadata": {
    "id": "floral-difference"
   },
   "source": [
    "9. Задание\n",
    "- создайте матрицу 3 на 5 со случайными целыми числами в диапазоне от -15 до 15\n",
    "- найдите максимум и минимум\n",
    "- найдите среднее по столбцам\n",
    "- найдите среднее по строкам"
   ]
  },
  {
   "cell_type": "code",
   "execution_count": 27,
   "id": "0b725d3e",
   "metadata": {
    "id": "saving-conference"
   },
   "outputs": [
    {
     "name": "stdout",
     "output_type": "stream",
     "text": [
      "[[  7   6   9  13  -6]\n",
      " [ -5 -15   9  14  10]\n",
      " [-11  -6   2 -14   1]]\n",
      "14\n",
      "-15\n",
      "[-3.         -5.          6.66666667  4.33333333  1.66666667]\n",
      "[ 5.8  2.6 -5.6]\n"
     ]
    }
   ],
   "source": [
    "first = np.array([np.random.randint(-15, 15, 15)]).reshape(3, 5)\n",
    "print(first)\n",
    "print(np.max(first))\n",
    "print(np.min(first))\n",
    "print(np.mean(first, axis=0))\n",
    "print(np.mean(first, axis=1))"
   ]
  },
  {
   "cell_type": "markdown",
   "id": "8b528f10",
   "metadata": {
    "id": "diagnostic-departure"
   },
   "source": [
    "10. Задание\n",
    "- даны две матрицы\n",
    "- убедитесь, что их можно пермножить\n",
    "- произведите операцию умножения матриц, если это возможно, иначе выведите ошибку"
   ]
  },
  {
   "cell_type": "code",
   "execution_count": 41,
   "id": "3c2ba189",
   "metadata": {
    "id": "olympic-qatar"
   },
   "outputs": [
    {
     "name": "stdout",
     "output_type": "stream",
     "text": [
      "[[-25   1  71]\n",
      " [-51  44  75]]\n"
     ]
    }
   ],
   "source": [
    "a = np.random.randint(-10, 10, (2, 5))\n",
    "first_axis = np.random.randint(4, 6)\n",
    "b = np.random.randint(-10, 10, (first_axis, 3))\n",
    "if a.shape[1] == b.shape[0]:\n",
    "    print(a @ b)\n",
    "else:\n",
    "    print('Ошибка')"
   ]
  },
  {
   "cell_type": "markdown",
   "id": "ff698968",
   "metadata": {
    "id": "governmental-austin"
   },
   "source": [
    "11. Задание\n",
    "- создайте матрицу 5 на 5 заполненную равномерным распределением с диапазоно 2-12\n",
    "- заполните все элементы ниже главной диагонали нулями"
   ]
  },
  {
   "cell_type": "code",
   "execution_count": 48,
   "id": "097206d6",
   "metadata": {
    "id": "suffering-mauritius"
   },
   "outputs": [
    {
     "name": "stdout",
     "output_type": "stream",
     "text": [
      "[[ 2.          2.41666667  2.83333333  3.25        3.66666667]\n",
      " [ 0.          4.5         4.91666667  5.33333333  5.75      ]\n",
      " [ 0.          0.          7.          7.41666667  7.83333333]\n",
      " [ 0.          0.          0.          9.5         9.91666667]\n",
      " [ 0.          0.          0.          0.         12.        ]]\n"
     ]
    }
   ],
   "source": [
    "#mask =\n",
    "matrix = np.array(np.linspace(2, 12, 25)).reshape(5, 5)\n",
    "matrix[np.tril_indices(5, -1)] = 0\n",
    "\n",
    "print(matrix)"
   ]
  },
  {
   "cell_type": "markdown",
   "id": "7ee69ca6",
   "metadata": {
    "id": "altered-baghdad"
   },
   "source": [
    "12. Задание\n",
    "- создайте матрицу 5 на 5 заполненную нормальным распределением с парметрами среднее 10 и отклонение 2\n",
    "- заполните все элементы на главной диагонали нулями"
   ]
  },
  {
   "cell_type": "code",
   "execution_count": 53,
   "id": "0b061fd0",
   "metadata": {
    "id": "refined-stuff"
   },
   "outputs": [
    {
     "name": "stdout",
     "output_type": "stream",
     "text": [
      "[[ 0.          6.32629905  7.58269858 10.19420403 10.05776825]\n",
      " [ 8.93394227  0.         12.62405164 13.09684805 10.07054908]\n",
      " [ 8.58286701  8.63528701  0.          7.37779475  8.86826475]\n",
      " [ 7.37686875  7.86347024 11.37640817  0.          8.93931273]\n",
      " [ 6.871157   14.36250541  8.41168836 13.4345607   0.        ]]\n"
     ]
    }
   ],
   "source": [
    "#mask =\n",
    "matrix = np.array([np.random.normal(10, 2) for c in range(25)]).reshape(5, 5)\n",
    "matrix[np.diag_indices(5)] = 0\n",
    "\n",
    "print(matrix)"
   ]
  },
  {
   "cell_type": "markdown",
   "id": "a58dd8e7",
   "metadata": {
    "id": "quiet-complement"
   },
   "source": [
    "13. Задание\n",
    "- дано два массива, проверить одинаковы ли они"
   ]
  },
  {
   "cell_type": "code",
   "execution_count": 71,
   "id": "7b92ead2",
   "metadata": {
    "id": "french-fighter",
    "pycharm": {
     "name": "#%%\n"
    }
   },
   "outputs": [
    {
     "name": "stdout",
     "output_type": "stream",
     "text": [
      "[1 0 0 1 0]\n",
      "[1 0 0 0 0]\n"
     ]
    },
    {
     "data": {
      "text/plain": "False"
     },
     "execution_count": 71,
     "metadata": {},
     "output_type": "execute_result"
    }
   ],
   "source": [
    "a = np.random.randint(0,2,5)\n",
    "print(a)\n",
    "b = np.random.randint(0,2,5)\n",
    "print(b)\n",
    "equal = a == b\n",
    "equal.all()"
   ]
  },
  {
   "cell_type": "markdown",
   "id": "c9a66126",
   "metadata": {
    "id": "color-amplifier"
   },
   "source": [
    "14. Задание\n",
    "- сгенерируйте матрицу случайного размера:\n",
    " - строк от 3 до 7\n",
    " - столбцов от 2 до 12\n",
    "- сгенерируйте число N - размер выборки так, чтобы оно не превышало половину количества элементов сгенерированной матрицы, но было больше 0\n",
    "- сделайте случайную выборку N элементов"
   ]
  },
  {
   "cell_type": "code",
   "execution_count": 76,
   "id": "a7fb4ee1",
   "metadata": {
    "id": "close-daisy"
   },
   "outputs": [
    {
     "name": "stdout",
     "output_type": "stream",
     "text": [
      "[[ -9  -4   0  -3   5   4  -7  -1  -1]\n",
      " [  4  -6  -1   2  -8  -8   5   2  -2]\n",
      " [ -7   5   5   8  -4  -8  -5  -6   5]\n",
      " [  8   8   5  -6  -2   8  -1   0   1]\n",
      " [  2   6  -1   7  -1   4   3 -10  -4]\n",
      " [  9  -8  -5 -10   3   4   2   4  -5]]\n",
      "27\n",
      "[ -8  -8   4   1  -5   4  -6  -7   2   5  -7  -4  -9  -7   5  -8 -10   5\n",
      "  -1  -6   4  -7   4   5  -5   2  -4]\n"
     ]
    }
   ],
   "source": [
    "r, c = np.random.randint(3, 7), np.random.randint(2, 12)\n",
    "a = np.random.randint(-10, 10, (r, c))\n",
    "print(a)\n",
    "N = (r * c) // 2\n",
    "print(N)\n",
    "sample = np.random.choice(a.ravel(), size=N)\n",
    "print(sample)"
   ]
  },
  {
   "cell_type": "markdown",
   "id": "10cd98a7",
   "metadata": {
    "id": "patent-african"
   },
   "source": [
    "15. Задание\n",
    "- дан вектор, проверить есть в нем Nan\n",
    "- проверить есть в нем знак бесконечности\n",
    "- заполнить их нулями"
   ]
  },
  {
   "cell_type": "code",
   "execution_count": 77,
   "id": "d8b22150",
   "metadata": {
    "id": "taken-fabric"
   },
   "outputs": [
    {
     "name": "stdout",
     "output_type": "stream",
     "text": [
      "[False  True False]\n",
      "False\n",
      "[False False  True]\n"
     ]
    }
   ],
   "source": [
    "a = np.array([1, np.NaN, np.Inf], float)\n",
    "\n",
    "print(np.isnan(a))\n",
    "print(np.isinf(a))\n"
   ]
  },
  {
   "cell_type": "markdown",
   "id": "1ccd3a2f",
   "metadata": {
    "id": "analyzed-ireland"
   },
   "source": [
    "16. Задание\n",
    "- сгенерировать массив с произвольным числом осей\n",
    "- определить сколько у него осей"
   ]
  },
  {
   "cell_type": "code",
   "execution_count": 122,
   "id": "3e105cff",
   "metadata": {
    "id": "imposed-digest"
   },
   "outputs": [
    {
     "name": "stdout",
     "output_type": "stream",
     "text": [
      "(4, 4, 4, 4)\n",
      "[[[[1 0 0 1]\n",
      "   [0 0 0 0]\n",
      "   [0 0 0 1]\n",
      "   [0 0 1 1]]\n",
      "\n",
      "  [[0 0 0 0]\n",
      "   [1 1 0 0]\n",
      "   [0 1 0 1]\n",
      "   [1 1 0 1]]\n",
      "\n",
      "  [[0 0 1 0]\n",
      "   [1 1 0 0]\n",
      "   [1 1 1 0]\n",
      "   [0 1 0 1]]\n",
      "\n",
      "  [[1 0 1 0]\n",
      "   [1 1 0 0]\n",
      "   [0 0 1 1]\n",
      "   [1 1 0 0]]]\n",
      "\n",
      "\n",
      " [[[0 0 1 0]\n",
      "   [1 1 1 0]\n",
      "   [1 1 0 0]\n",
      "   [1 1 1 1]]\n",
      "\n",
      "  [[0 0 0 1]\n",
      "   [0 0 1 1]\n",
      "   [1 0 0 1]\n",
      "   [0 0 0 1]]\n",
      "\n",
      "  [[0 1 0 1]\n",
      "   [0 1 1 0]\n",
      "   [1 1 0 1]\n",
      "   [0 0 0 1]]\n",
      "\n",
      "  [[0 1 1 1]\n",
      "   [1 0 0 1]\n",
      "   [1 1 1 0]\n",
      "   [1 1 0 1]]]\n",
      "\n",
      "\n",
      " [[[1 1 1 0]\n",
      "   [1 0 0 1]\n",
      "   [0 0 1 0]\n",
      "   [1 0 0 0]]\n",
      "\n",
      "  [[0 1 0 1]\n",
      "   [0 0 0 0]\n",
      "   [1 0 0 0]\n",
      "   [0 0 0 0]]\n",
      "\n",
      "  [[0 1 1 0]\n",
      "   [1 1 1 1]\n",
      "   [0 1 0 1]\n",
      "   [0 1 1 0]]\n",
      "\n",
      "  [[0 1 1 1]\n",
      "   [1 0 1 1]\n",
      "   [0 1 0 0]\n",
      "   [0 1 1 1]]]\n",
      "\n",
      "\n",
      " [[[0 0 1 0]\n",
      "   [1 1 0 0]\n",
      "   [1 0 1 1]\n",
      "   [1 1 0 1]]\n",
      "\n",
      "  [[1 0 1 1]\n",
      "   [0 1 0 0]\n",
      "   [0 1 0 0]\n",
      "   [0 0 1 1]]\n",
      "\n",
      "  [[0 0 1 1]\n",
      "   [1 0 0 1]\n",
      "   [1 1 0 0]\n",
      "   [0 1 0 0]]\n",
      "\n",
      "  [[0 0 1 0]\n",
      "   [1 0 1 1]\n",
      "   [1 1 1 0]\n",
      "   [0 0 1 0]]]]\n"
     ]
    }
   ],
   "source": [
    "matrix = np.random.randint(0, 2, ([np.random.randint(1, 5)]*np.random.randint(2, 6)))\n",
    "print(matrix.shape)\n",
    "print(matrix)"
   ]
  },
  {
   "cell_type": "markdown",
   "id": "b0933ec4",
   "metadata": {
    "id": "regulation-colleague"
   },
   "source": [
    "17. Задание\n",
    "- сгенерируйте матрицу 10 на 3 с нормальным распределением, среднее 50, отклонение 10\n",
    "- найдите индексы максимальных элементов в каждой строке\n",
    "- найдите сами элементы"
   ]
  },
  {
   "cell_type": "code",
   "execution_count": 79,
   "id": "375dee38",
   "metadata": {
    "id": "concerned-anthropology"
   },
   "outputs": [
    {
     "name": "stdout",
     "output_type": "stream",
     "text": [
      "[[51.40027567 33.30430468 45.264732  ]\n",
      " [62.8625294  45.78707053 42.27779131]\n",
      " [40.22214076 47.34649647 60.93443534]\n",
      " [20.97587447 54.30548878 38.21993906]\n",
      " [52.08064334 46.40567518 35.6579447 ]\n",
      " [52.8761884  27.7944046  42.42578905]\n",
      " [50.24637064 57.46672647 47.25224784]\n",
      " [47.63133328 61.54324542 61.83160697]\n",
      " [58.86384325 42.28252043 63.90076771]\n",
      " [66.51882066 35.04164702 42.58267977]]\n",
      "[0 0 2 1 0 0 1 2 2 0]\n",
      "[51.40027567 62.8625294  60.93443534 54.30548878 52.08064334 52.8761884\n",
      " 57.46672647 61.83160697 63.90076771 66.51882066]\n"
     ]
    }
   ],
   "source": [
    "Matrix = np.random.normal(50, 10, (10,3))\n",
    "print(Matrix)\n",
    "indexes = np.argmax(Matrix, axis=1)\n",
    "print(indexes)\n",
    "print(np.amax(Matrix, axis=1))"
   ]
  }
 ],
 "metadata": {
  "colab": {
   "collapsed_sections": [],
   "name": "01_task.ipynb",
   "provenance": []
  },
  "kernelspec": {
   "display_name": "Python 3 (ipykernel)",
   "language": "python",
   "name": "python3"
  },
  "language_info": {
   "codemirror_mode": {
    "name": "ipython",
    "version": 3
   },
   "file_extension": ".py",
   "mimetype": "text/x-python",
   "name": "python",
   "nbconvert_exporter": "python",
   "pygments_lexer": "ipython3",
   "version": "3.8.10"
  }
 },
 "nbformat": 4,
 "nbformat_minor": 5
}