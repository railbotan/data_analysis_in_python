{
 "cells": [
  {
   "cell_type": "code",
   "execution_count": 0,
   "metadata": {
    "id": "medieval-detail"
   },
   "outputs": [],
   "source": [
    "import numpy as np"
   ]
  },
  {
   "cell_type": "markdown",
   "metadata": {
    "id": "abstract-istanbul"
   },
   "source": [
    "1. Задание\n",
    "- проверьте тип объекта python_list\n",
    "- если это не numpy ndarray, то преобразуйте к нему\n",
    "- проверьте, что на выходе вы получили объект python_list желаемого типа"
   ]
  },
  {
   "cell_type": "code",
   "execution_count": 1,
   "metadata": {
    "id": "entertaining-automation"
   },
   "outputs": [
   {
        "name": "stdout",
        "output_type": "stream",
        "text": [
         "<class 'list'>\n",
         "<class 'numpy.ndarray'>\n"
        ]
       }
   ],
   "source": [
    "python_list = [1, 12, 13, 45, 76, 45, 98, 0]\n",
    "print(type(python_list))\n",
    "if type(python_list) != type(np.array([1,2,3])):\n",
    "    python_list = np.array([1, 12, 13, 45, 76, 45, 98, 0])\n",
    "print(type(python_list))"
   ]
  },
  {
   "cell_type": "markdown",
   "metadata": {
    "id": "loose-tobago"
   },
   "source": [
    "2. Задание\n",
    "- создайте одномерный массив numpy из 10 элементов заполненный числом 1.5"
   ]
  },
  {
   "cell_type": "code",
   "execution_count": 2,
   "metadata": {
    "id": "included-polymer"
   },
   "outputs": [
    {
     "name": "stdout",
     "output_type": "stream",
     "text": [
      "[1.5 1.5 1.5 1.5 1.5 1.5 1.5 1.5 1.5 1.5]\n"
     ]
    }
   ],
   "source": [
    "z = np.array([1.5 for i in range(10)])\n",
    "print(z)"
   ]
  },
  {
   "cell_type": "markdown",
   "metadata": {
    "id": "threatened-theme"
   },
   "source": [
    "3. Задание\n",
    "- создайте двумерный массив numpy из 25 элементов заполненный числом 0"
   ]
  },
  {
   "cell_type": "code",
   "execution_count": 3,
   "metadata": {
    "id": "alert-endorsement"
   },
   "outputs": [
    {
     "name": "stdout",
     "output_type": "stream",
     "text": [
      "[[0. 0. 0. 0. 0.]\n",
      " [0. 0. 0. 0. 0.]\n",
      " [0. 0. 0. 0. 0.]\n",
      " [0. 0. 0. 0. 0.]\n",
      " [0. 0. 0. 0. 0.]]\n"
     ]
    }
   ],
   "source": [
    "z = np.zeros((5, 5))\n",
    "print(z)"
   ]
  },
  {
   "cell_type": "markdown",
   "metadata": {
    "id": "federal-blackberry"
   },
   "source": [
    "4. Задание\n",
    "- создайте одномерный массив numpy из 12 элементов заполненный числом 1"
   ]
  },
  {
   "cell_type": "code",
   "execution_count": 4,
   "metadata": {
    "id": "static-filing"
   },
   "outputs": [
       {
        "name": "stdout",
        "output_type": "stream",
        "text": [
         "[1 1 1 1 1 1 1 1 1 1 1 1]\n"
        ]
       }
      ],
      "source": [
       "ones = np.ones(12, int)\n",
    "print(ones)"
   ]
  },
  {
   "cell_type": "markdown",
   "metadata": {
    "id": "whole-chassis"
   },
   "source": [
    "5. Задание\n",
    "- преобразуйте массив из предыдущего задания к матрице 3 на 4\n",
    "- выведите размерность полученного массива"
   ]
  },
  {
   "cell_type": "code",
   "execution_count": 5,
   "metadata": {
    "id": "outstanding-deviation"
   },
   "outputs": [
       {
        "name": "stdout",
        "output_type": "stream",
        "text": [
         "(3, 4)\n"
        ]
       }
      ],
   "source": [
   "ones = ones.reshape(3,4)\n",
   "print(ones.shape)"
   ]
  },
  {
   "cell_type": "markdown",
   "metadata": {
    "id": "cubic-noise"
   },
   "source": [
    "6. Задание\n",
    "- создайте матрицу 4 на 5 заполненную числами от 1 до 20\n",
    "- замените элемент в 3-й строке 4-м столбце на -99"
   ]
  },
  {
   "cell_type": "code",
   "execution_count": 6,
   "metadata": {
    "id": "foster-memory"
   },
   "outputs": [
       {
        "name": "stdout",
        "output_type": "stream",
        "text": [
         "[[ 1  2  3  4  5]\n",
         " [ 6  7  8  9 10]\n",
         " [11 12 13 14 15]\n",
         " [16 17 18 19 20]]\n",
         "[[  1   2   3   4   5]\n",
         " [  6   7   8   9  10]\n",
         " [ 11  12  13 -99  15]\n",
         " [ 16  17  18  19  20]]\n"
        ]
       }
      ],
      "source": [
       "Z = np.arange(1, 21).reshape((4, 5))\n",
    "print(Z)\n",
    "Z[2,3] = -99\n",
    "print(Z)"
   ]
  },
  {
   "cell_type": "markdown",
   "metadata": {
    "id": "helpful-table"
   },
   "source": [
    "7. Задание\n",
    "- создайте вектор длинной 15 со случайными целыми числами в диапазоне от -10 до 10\n",
    "- сделайте реверс вектора"
   ]
  },
  {
   "cell_type": "code",
   "execution_count": 7,
   "metadata": {
    "id": "magnetic-leone"
   },
   "outputs": [
       {
        "name": "stdout",
        "output_type": "stream",
        "text": [
         "[  1   8   1   9   4   2  -6   1 -10  -5  -2   2   8  -9   2]\n",
         "[  2  -9   8   2  -2  -5 -10   1  -6   2   4   9   1   8   1]\n"
        ]
       }
      ],
      "source": [
       "first = np.random.randint(-10, 10, 15)\n",
    "print(first)\n",
    "second = first[::-1]\n",
    "print(second)"
   ]
  },
  {
   "cell_type": "markdown",
   "metadata": {
    "id": "executed-september"
   },
   "source": [
    "8. Задание\n",
    "- создайте матрицу 5 на 5 со случайными целыми числами в диапазоне от -15 до 15\n",
    "- замените отрицательные элементы на их квадраты"
   ]
  },
  {
   "cell_type": "code",
   "execution_count": 8,
   "metadata": {
    "id": "pharmaceutical-sigma"
   },
   "outputs": [
       {
        "name": "stdout",
        "output_type": "stream",
        "text": [
         "[[ -1   4  12  13   5]\n",
         " [ -4   8 -13   3   8]\n",
         " [ -3  -7  -8 -14   5]\n",
         " [ 11 -10   2 -11   8]\n",
         " [  0 -13  13  -8 -12]]\n",
         "[[  1   4  12  13   5]\n",
         " [ 16   8 169   3   8]\n",
         " [  9  49  64 196   5]\n",
         " [ 11 100   2 121   8]\n",
         " [  0 169  13  64 144]]\n"
        ]
       }
      ],
      "source": [
       "first = np.random.randint(-15, 15, 25).reshape(5,5)\n",
    "print(first)\n",
    "first = np.where(first < 0, first ** 2, first)\n",
    "print(first)"
   ]
  },
  {
   "cell_type": "markdown",
   "metadata": {
    "id": "floral-difference"
   },
   "source": [
    "9. Задание\n",
    "- создайте матрицу 3 на 5 со случайными целыми числами в диапазоне от -15 до 15\n",
    "- найдите максимум и минимум\n",
    "- найдите среднее по столбцам\n",
    "- найдите среднее по строкам"
   ]
  },
  {
   "cell_type": "code",
   "execution_count": 9,
   "metadata": {
    "id": "saving-conference"
   },
    "outputs": [
       {
        "name": "stdout",
        "output_type": "stream",
        "text": [
         "[[  6  -1   2   4   9]\n",
         " [  6 -15 -11   2  -1]\n",
         " [  3   6  -1  -4  11]]\n",
         "11\n",
         "-15\n",
         "[ 5.         -3.33333333 -3.33333333  0.66666667  6.33333333]\n",
         "[[ 4. ]\n",
         " [-3.8]\n",
         " [ 3. ]]\n"
        ]
       }
      ],
      "source": [
       "first = np.random.randint(-15, 15, 15).reshape(3,5)\n",
       "print(first)\n",
       "print(first.max())\n",
       "print(first.min())\n",
       "print(np.mean(first, axis=0))\n",
       "print(np.mean(first, axis=1, keepdims = True))"
   ]
  },
  {
   "cell_type": "markdown",
   "metadata": {
    "id": "diagnostic-departure"
   },
   "source": [
    "10. Задание\n",
    "- даны две матрицы\n",
    "- убедитесь, что их можно пермножить\n",
    "- произведите операцию умножения матриц, если это возможно, иначе выведите ошибку"
   ]
  },
  {
   "cell_type": "code",
   "execution_count": 10,
   "metadata": {
    "id": "olympic-qatar"
   },
   "outputs": [
       {
        "name": "stdout",
        "output_type": "stream",
        "text": [
         "[[-14  23 114]\n",
         " [-12 -24  79]]\n"
        ]
       }
      ],
   "source": [
    "a = np.random.randint(-10, 10, (2, 5))\n",
    "first_axis = np.random.randint(4, 6)\n",
    "b = np.random.randint(-10, 10, (first_axis, 3))\n",
    "if a.shape[1] == b.shape[0]:\n",
    "    print(a @ b)\n",
    "else:\n",
    "    raise Exception('Матрицы не согласованы')"
   ]
  },
  {
   "cell_type": "markdown",
   "metadata": {
    "id": "governmental-austin"
   },
   "source": [
    "11. Задание\n",
    "- создайте матрицу 5 на 5 заполненную равномерным распределением с диапазоно 2-12\n",
    "- заполните все элементы ниже главной диагонали нулями"
   ]
  },
  {
   "cell_type": "code",
   "execution_count": 11,
   "metadata": {
    "id": "suffering-mauritius"
   },
   "outputs": [
       {
        "name": "stdout",
        "output_type": "stream",
        "text": [
         "[[8.25038355 6.08825806 3.16237398 2.28191764 3.33556773]\n",
         " [0.         4.9366809  6.9472132  4.23223229 9.86861145]\n",
         " [0.         0.         6.50718322 9.88483789 8.81063026]\n",
         " [0.         0.         0.         6.533728   7.96559933]\n",
         " [0.         0.         0.         0.         7.51449851]]\n"
        ]
       }
      ],
      "source": [
       "mask = np.random.uniform(2, 12, (5, 5))\n",
       "matrix = np.triu(mask)\n",
    "\n",
    "print(matrix)"
   ]
  },
  {
   "cell_type": "markdown",
   "metadata": {
    "id": "altered-baghdad"
   },
   "source": [
    "12. Задание\n",
    "- создайте матрицу 5 на 5 заполненную нормальным распределением с парметрами среднее 10 и отклонение 2\n",
    "- заполните все элементы на главной диагонали нулями"
   ]
  },
  {
   "cell_type": "code",
   "execution_count": 12,
   "metadata": {
    "id": "refined-stuff"
   },
   "outputs": [
       {
        "name": "stdout",
        "output_type": "stream",
        "text": [
         "[[0.         3.46280477 4.20558853 6.45725307 2.69067203]\n",
         " [7.12653369 0.         6.44202366 2.50661627 2.0254555 ]\n",
         " [8.80324417 9.95471846 0.         7.43085754 6.38382735]\n",
         " [3.31048899 9.81316014 5.91944475 0.         8.63145251]\n",
         " [3.1321131  8.55712022 7.50059044 2.02695731 0.        ]]\n"
        ]
       }
      ],
      "source": [
       "matrix = np.random.uniform(10, 2, (5, 5))\n",
       "np.fill_diagonal(matrix, 0)\n",
    "\n",
    "print(matrix)"
   ]
  },
  {
   "cell_type": "markdown",
   "metadata": {
    "id": "quiet-complement"
   },
   "source": [
    "13. Задание\n",
    "- дано два массива, проверить одинаковы ли они"
   ]
  },
  {
   "cell_type": "code",
   "execution_count": 13,
   "metadata": {
    "id": "french-fighter"
   },
   "outputs": [
       {
        "name": "stdout",
        "output_type": "stream",
        "text": [
         "[1 0 0 0 1]\n",
         "[1 1 1 0 1]\n"
        ]
       },
       {
        "data": {
         "text/plain": [
          "False"
         ]
        },
        "execution_count": 80,
        "metadata": {},
        "output_type": "execute_result"
       }
      ],
   "source": [
    "a = np.random.randint(0,2,5)\n",
    "print(a)\n",
    "b = np.random.randint(0,2,5)\n",
    "print(b)\n",
    "#equal = a == b => equal.all() или np.equal(a, b).all()\n",
    "equal = np.array_equal(a, b)\n",
    "equal"
   ]
  },
  {
   "cell_type": "markdown",
   "metadata": {
    "id": "color-amplifier"
   },
   "source": [
    "14. Задание\n",
    "- сгенерируйте матрицу случайного размера:\n",
    " - строк от 3 до 7\n",
    " - столбцов от 2 до 12\n",
    "- сгенерируйте число N - размер выборки так, чтобы оно не превышало половину количества элементов сгенерированной матрицы, но было больше 0\n",
    "- сделайте случайную выборку N элементов"
   ]
  },
  {
   "cell_type": "code",
   "execution_count": 14,
   "metadata": {
    "id": "close-daisy"
   },
   "outputs": [
       {
        "name": "stdout",
        "output_type": "stream",
        "text": [
         "[[14  1 14  8  3 11  7 10  3]\n",
         " [ 6  7  4  7  5  5  3 14  2]\n",
         " [ 1  2 11  5 10  8  3  7  3]\n",
         " [ 6  1 13  8  9 11  5  7  1]]\n",
         "8\n",
         "[ 3 11 10  3  2  2  5  7]\n"
        ]
       }
      ],
      "source": [
       "r, c = np.random.randint([3, 2], [7, 12])\n",
       "a = np.random.randint(1, 15, (r, c))\n",
    "print(a)\n",
    "N = np.random.randint(1, (r*c)/2)\n",
    "print(N)\n",
    "sample = np.random.choice(a.flatten(), N)\n",
    "print(sample)"
   ]
  },
  {
   "cell_type": "markdown",
   "metadata": {
    "id": "patent-african"
   },
   "source": [
    "15. Задание\n",
    "- дан вектор, проверить есть в нем Nan\n",
    "- проверить есть в нем знак бесконечности\n",
    "- заполнить их нулями"
   ]
  },
  {
   "cell_type": "code",
   "execution_count": 15,
   "metadata": {
    "id": "taken-fabric"
   },
   "outputs": [
       {
        "name": "stdout",
        "output_type": "stream",
        "text": [
         "True\n",
         "True\n",
         "[1. 0. 0.]\n"
        ]
       }
      ],
   "source": [
    "a = np.array([1, np.NaN, np.Inf], float)\n",
    "print(np.isnan(a).any())\n",
    "print(np.isinf(a).any())\n",
    "a[np.isnan(a)] = 0.\n",
    "a[np.isinf(a)] = 0.\n",
    "print(a)"
   ]
  },
  {
   "cell_type": "markdown",
   "metadata": {
    "id": "analyzed-ireland"
   },
   "source": [
    "16. Задание\n",
    "- сгенерировать массив с произвольным числом осей\n",
    "- определить сколько у него осей"
   ]
  },
  {
   "cell_type": "code",
   "execution_count": 16,
   "metadata": {
    "id": "imposed-digest"
   },
   "outputs": [
       {
        "name": "stdout",
        "output_type": "stream",
        "text": [
         "3\n",
         "3\n"
        ]
       }
      ],
      "source": [
       "axis = np.random.randint(1, 15)\n",
    "print(axis)\n",
    "matrix = np.zeros(range(axis))\n",
    "print(matrix.ndim)"
   ]
  },
  {
   "cell_type": "markdown",
   "metadata": {
    "id": "regulation-colleague"
   },
   "source": [
    "17. Задание\n",
    "- сгенерируйте матрицу 10 на 3 с нормальным распределением, среднее 50, отклонение 10\n",
    "- найдите индексы максимальных элементов в каждой строке\n",
    "- найдите сами элементы"
   ]
  },
  {
   "cell_type": "code",
   "execution_count": 17,
   "metadata": {
    "id": "concerned-anthropology"
   },
   "outputs": [
       {
        "name": "stdout",
        "output_type": "stream",
        "text": [
         "[[50.94747793 42.91001562 54.84269122]\n",
         " [47.42321719 50.99581998 59.70228688]\n",
         " [51.68759433 52.10665795 27.19269554]\n",
         " [36.41076644 55.63482713 40.28882282]\n",
         " [37.82787003 47.03523973 73.10854609]\n",
         " [62.57896407 57.83790414 65.86469857]\n",
         " [48.36785779 53.27431004 61.46946736]\n",
         " [54.45003777 55.66186162 29.65398427]\n",
         " [46.12617365 66.8101111  34.61421603]\n",
         " [58.65697598 38.72072121 45.39562589]]\n",
         "[2 2 1 1 2 2 2 1 1 0]\n",
         "[54.84269122 59.70228688 52.10665795 55.63482713 73.10854609 65.86469857\n",
         " 61.46946736 55.66186162 66.8101111  58.65697598]\n"
        ]
       }
      ],
   "source": [
    "matrix = np.random.normal(50, 10, (10,3))\n",
    "print(matrix)\n",
    "indexes = np.argmax(matrix, 1)\n",
    "print(indexes)\n",
    "print(matrix[range(matrix.shape[0]), indexes])"
   ]
  }
 ],
 "metadata": {
  "colab": {
   "collapsed_sections": [],
   "name": "01_task.ipynb",
   "provenance": []
  },
  "kernelspec": {
   "display_name": "Python 3",
   "language": "python",
   "name": "python3"
  },
  "language_info": {
   "codemirror_mode": {
    "name": "ipython",
    "version": 3
   },
   "file_extension": ".py",
   "mimetype": "text/x-python",
   "name": "python",
   "nbconvert_exporter": "python",
   "pygments_lexer": "ipython3",
   "version": "3.9.7"
  }
 },
 "nbformat": 4,
 "nbformat_minor": 5
}
