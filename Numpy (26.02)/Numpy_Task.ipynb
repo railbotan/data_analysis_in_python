{
 "cells": [
  {
   "cell_type": "code",
   "execution_count": 1,
   "metadata": {
    "id": "medieval-detail"
   },
   "outputs": [],
   "source": [
    "import numpy as np"
   ]
  },
  {
   "cell_type": "markdown",
   "metadata": {
    "id": "abstract-istanbul"
   },
   "source": [
    "1. Задание\n",
    "- проверьте тип объекта python_list\n",
    "- если это не numpy ndarray, то преобразуйте к нему\n",
    "- проверьте, что на выходе вы получили объект python_list желаемого типа"
   ]
  },
  {
   "cell_type": "code",
   "execution_count": 5,
   "metadata": {
    "id": "entertaining-automation"
   },
   "outputs": [
    {
     "name": "stdout",
     "output_type": "stream",
     "text": [
      "\n",
      "\n"
     ]
    },
    {
     "data": {
      "text/plain": "numpy.ndarray"
     },
     "execution_count": 5,
     "metadata": {},
     "output_type": "execute_result"
    }
   ],
   "source": [
    "python_list = [1, 12, 13, 45, 76, 45, 98, 0]\n",
    "print()\n",
    "python_list = python_list if type(python_list) == \"numpy.ndarray\" \\\n",
    "    else np.array(python_list)\n",
    "print()\n",
    "type(python_list)"
   ]
  },
  {
   "cell_type": "markdown",
   "metadata": {
    "id": "loose-tobago"
   },
   "source": [
    "2. Задание\n",
    "- создайте одномерный массив numpy из 10 элементов заполненный числом 1.5"
   ]
  },
  {
   "cell_type": "code",
   "execution_count": 8,
   "metadata": {
    "id": "included-polymer"
   },
   "outputs": [
    {
     "name": "stdout",
     "output_type": "stream",
     "text": [
      "[1.5 1.5 1.5 1.5 1.5 1.5 1.5 1.5 1.5 1.5]\n"
     ]
    }
   ],
   "source": [
    "z = np.array([1.5 for _ in range(10)])\n",
    "print(z)"
   ]
  },
  {
   "cell_type": "markdown",
   "metadata": {
    "id": "threatened-theme"
   },
   "source": [
    "3. Задание\n",
    "- создайте двумерный массив numpy из 25 элементов заполненный числом 0"
   ]
  },
  {
   "cell_type": "code",
   "execution_count": 12,
   "metadata": {
    "id": "alert-endorsement"
   },
   "outputs": [
    {
     "name": "stdout",
     "output_type": "stream",
     "text": [
      "[0. 0. 0. 0. 0. 0. 0. 0. 0. 0. 0. 0. 0. 0. 0. 0. 0. 0. 0. 0. 0. 0. 0. 0.\n",
      " 0.]\n"
     ]
    }
   ],
   "source": [
    "z = np.zeros(25)\n",
    "print(z)"
   ]
  },
  {
   "cell_type": "markdown",
   "metadata": {
    "id": "federal-blackberry"
   },
   "source": [
    "4. Задание\n",
    "- создайте одномерный массив numpy из 12 элементов заполненный числом 1"
   ]
  },
  {
   "cell_type": "code",
   "execution_count": 13,
   "metadata": {
    "id": "static-filing"
   },
   "outputs": [
    {
     "name": "stdout",
     "output_type": "stream",
     "text": [
      "[1. 1. 1. 1. 1. 1. 1. 1. 1. 1. 1. 1.]\n"
     ]
    }
   ],
   "source": [
    "ones = np.ones(12)\n",
    "print(ones)"
   ]
  },
  {
   "cell_type": "markdown",
   "metadata": {
    "id": "whole-chassis"
   },
   "source": [
    "5. Задание\n",
    "- преобразуйте массив из предыдущего задания к матрице 3 на 4\n",
    "- выведите размерность полученного массива"
   ]
  },
  {
   "cell_type": "code",
   "execution_count": 16,
   "metadata": {
    "id": "outstanding-deviation"
   },
   "outputs": [
    {
     "data": {
      "text/plain": "(3, 4)"
     },
     "execution_count": 16,
     "metadata": {},
     "output_type": "execute_result"
    }
   ],
   "source": [
    "ones = ones.reshape((3,4))\n",
    "ones.shape"
   ]
  },
  {
   "cell_type": "markdown",
   "metadata": {
    "id": "cubic-noise"
   },
   "source": [
    "6. Задание\n",
    "- создайте матрицу 4 на 5 заполненную числами от 1 до 20\n",
    "- замените элемент в 3-й строке 4-м столбце на -99"
   ]
  },
  {
   "cell_type": "code",
   "execution_count": 18,
   "metadata": {
    "id": "foster-memory"
   },
   "outputs": [
    {
     "name": "stdout",
     "output_type": "stream",
     "text": [
      "[[ 1  2  3  4  5]\n",
      " [ 6  7  8  9 10]\n",
      " [11 12 13 14 15]\n",
      " [16 17 18 19 20]]\n",
      "[[  1   2   3   4   5]\n",
      " [  6   7   8   9  10]\n",
      " [ 11  12  13 -99  15]\n",
      " [ 16  17  18  19  20]]\n"
     ]
    }
   ],
   "source": [
    "Z = np.arange(1, 21, 1).reshape(4,5)\n",
    "print(Z)\n",
    "Z[2, 3] = -99\n",
    "print(Z)"
   ]
  },
  {
   "cell_type": "markdown",
   "metadata": {
    "id": "helpful-table"
   },
   "source": [
    "7. Задание\n",
    "- создайте вектор длинной 15 со случайными целыми числами в диапазоне от -10 до 10\n",
    "- сделайте реверс вектора"
   ]
  },
  {
   "cell_type": "code",
   "execution_count": 20,
   "metadata": {
    "id": "magnetic-leone"
   },
   "outputs": [
    {
     "name": "stdout",
     "output_type": "stream",
     "text": [
      "[  9   1  -9  -4   9 -10   3   1  -7   7   8   7  -8  -9   8]\n",
      "[  8  -9  -8   7   8   7  -7   1   3 -10   9  -4  -9   1   9]\n"
     ]
    }
   ],
   "source": [
    "first = np.random.randint(-10, 11, 15)\n",
    "print(first)\n",
    "second = first[::-1]\n",
    "print(second)"
   ]
  },
  {
   "cell_type": "markdown",
   "metadata": {
    "id": "executed-september"
   },
   "source": [
    "8. Задание\n",
    "- создайте матрицу 5 на 5 со случайными целыми числами в диапазоне от -15 до 15\n",
    "- замените отрицательные элементы на их квадраты"
   ]
  },
  {
   "cell_type": "code",
   "execution_count": 34,
   "metadata": {
    "id": "pharmaceutical-sigma"
   },
   "outputs": [
    {
     "name": "stdout",
     "output_type": "stream",
     "text": [
      "[[ 12 -15  -1 -11  13]\n",
      " [ 12  -8 -12  -3   1]\n",
      " [  6  -5 -15   3  -6]\n",
      " [ 15  12  10  -6 -14]\n",
      " [ -2   0 -10  14 -14]]\n",
      "[[ 12 225   1 121  13]\n",
      " [ 12  64 144   9   1]\n",
      " [  6  25 225   3  36]\n",
      " [ 15  12  10  36 196]\n",
      " [  4   0 100  14 196]]\n"
     ]
    }
   ],
   "source": [
    "first = np.random.randint(-15, 16, 25).reshape(5, 5)\n",
    "print(first)\n",
    "first = np.array([x ** 2 if x < 0 else x for x in first.flatten()]).reshape(5, 5)\n",
    "print(first)"
   ]
  },
  {
   "cell_type": "markdown",
   "metadata": {
    "id": "floral-difference"
   },
   "source": [
    "9. Задание\n",
    "- создайте матрицу 3 на 5 со случайными целыми числами в диапазоне от -15 до 15\n",
    "- найдите максимум и минимум\n",
    "- найдите среднее по столбцам\n",
    "- найдите среднее по строкам"
   ]
  },
  {
   "cell_type": "code",
   "execution_count": 39,
   "metadata": {
    "id": "saving-conference"
   },
   "outputs": [
    {
     "name": "stdout",
     "output_type": "stream",
     "text": [
      "[[ -8   3  -7 -14  14]\n",
      " [ 14  -2  11  10   1]\n",
      " [ 15   3  -2 -11  -6]]\n",
      "Max: 15\n",
      "Min: -14\n",
      "Avg_cols: [ 7.          1.33333333  0.66666667 -5.          3.        ]\n",
      "Avg_rows: [-2.4  6.8 -0.2]\n"
     ]
    }
   ],
   "source": [
    "first = np.random.randint(-15, 16, 15).reshape(3, 5)\n",
    "print(first)\n",
    "print(\"Max:\", first.max())\n",
    "print(\"Min:\", first.min())\n",
    "print(\"Avg_cols:\", first.mean(axis=0))\n",
    "print(\"Avg_rows:\", first.mean(axis=1))"
   ]
  },
  {
   "cell_type": "markdown",
   "metadata": {
    "id": "diagnostic-departure"
   },
   "source": [
    "10. Задание\n",
    "- даны две матрицы\n",
    "- убедитесь, что их можно пермножить\n",
    "- произведите операцию умножения матриц, если это возможно, иначе выведите ошибку"
   ]
  },
  {
   "cell_type": "code",
   "execution_count": 45,
   "metadata": {
    "id": "olympic-qatar"
   },
   "outputs": [
    {
     "name": "stdout",
     "output_type": "stream",
     "text": [
      "[[  -5  -24  124]\n",
      " [ -19   56 -188]]\n"
     ]
    }
   ],
   "source": [
    "a = np.random.randint(-10, 10, (2, 5))\n",
    "first_axis = np.random.randint(4, 6)\n",
    "b = np.random.randint(-10, 10, (first_axis, 3))\n",
    "if a.shape[1] == b.shape[0]:\n",
    "    print(a.dot(b))\n",
    "else:\n",
    "    raise Exception()"
   ]
  },
  {
   "cell_type": "markdown",
   "metadata": {
    "id": "governmental-austin"
   },
   "source": [
    "11. Задание\n",
    "- создайте матрицу 5 на 5 заполненную равномерным распределением с диапазоно 2-12\n",
    "- заполните все элементы ниже главной диагонали нулями"
   ]
  },
  {
   "cell_type": "code",
   "execution_count": 54,
   "metadata": {
    "id": "suffering-mauritius"
   },
   "outputs": [
    {
     "name": "stdout",
     "output_type": "stream",
     "text": [
      "[[11.34527969  2.01466258 11.74243638 10.33842813 11.48963295]\n",
      " [ 4.62917535  4.5069499   5.53824699  5.35688835  2.13551617]\n",
      " [ 5.34957499 11.11617866  8.60974402  3.08627017 11.31107221]\n",
      " [ 8.58655168  7.32698461  4.28040029  4.99249972  8.13897787]\n",
      " [ 5.12864719  8.06178645  2.31779939  5.93053843  4.709031  ]]\n",
      "[[11.34527969  2.01466258 11.74243638 10.33842813 11.48963295]\n",
      " [ 0.          4.5069499   5.53824699  5.35688835  2.13551617]\n",
      " [ 0.          0.          8.60974402  3.08627017 11.31107221]\n",
      " [ 0.          0.          0.          4.99249972  8.13897787]\n",
      " [ 0.          0.          0.          0.          4.709031  ]]\n"
     ]
    }
   ],
   "source": [
    "mask = np.random.uniform(2, 12, (5, 5))\n",
    "print(mask)\n",
    "\n",
    "matrix = np.copy(mask)\n",
    "matrix[np.tril_indices(matrix.shape[0], -1)] = 0\n",
    "print(matrix)"
   ]
  },
  {
   "cell_type": "markdown",
   "metadata": {
    "id": "altered-baghdad"
   },
   "source": [
    "12. Задание\n",
    "- создайте матрицу 5 на 5 заполненную нормальным распределением с парметрами среднее 10 и отклонение 2\n",
    "- заполните все элементы на главной диагонали нулями"
   ]
  },
  {
   "cell_type": "code",
   "execution_count": 56,
   "metadata": {
    "id": "refined-stuff"
   },
   "outputs": [
    {
     "name": "stdout",
     "output_type": "stream",
     "text": [
      "[[ 0.         11.35101015  8.72700401 10.70494328 14.28039615]\n",
      " [11.28112684  0.         10.36182253  7.84065481  8.1533886 ]\n",
      " [11.0541833  13.41408266  0.         12.12184502 10.81467365]\n",
      " [12.2724768  10.94786634 11.69426005  0.          9.78443676]\n",
      " [10.92850546  9.04317546  7.82131952  7.68371555  0.        ]]\n"
     ]
    }
   ],
   "source": [
    "mask = np.random.normal(10, 2, (5, 5))\n",
    "matrix = np.copy(mask)\n",
    "matrix[np.diag_indices(mask.shape[0])] = 0\n",
    "print(matrix)"
   ]
  },
  {
   "cell_type": "markdown",
   "metadata": {
    "id": "quiet-complement"
   },
   "source": [
    "13. Задание\n",
    "- дано два массива, проверить одинаковы ли они"
   ]
  },
  {
   "cell_type": "code",
   "execution_count": 58,
   "metadata": {
    "id": "french-fighter"
   },
   "outputs": [
    {
     "name": "stdout",
     "output_type": "stream",
     "text": [
      "[0 0 0 0 1]\n",
      "[1 1 1 0 1]\n"
     ]
    },
    {
     "data": {
      "text/plain": "False"
     },
     "execution_count": 58,
     "metadata": {},
     "output_type": "execute_result"
    }
   ],
   "source": [
    "a = np.random.randint(0,2,5)\n",
    "print(a)\n",
    "b = np.random.randint(0,2,5)\n",
    "print(b)\n",
    "equal = np.array_equal(a, b)\n",
    "equal"
   ]
  },
  {
   "cell_type": "markdown",
   "metadata": {
    "id": "color-amplifier"
   },
   "source": [
    "14. Задание\n",
    "- сгенерируйте матрицу случайного размера:\n",
    " - строк от 3 до 7\n",
    " - столбцов от 2 до 12\n",
    "- сгенерируйте число N - размер выборки так, чтобы оно не превышало половину количества элементов сгенерированной матрицы, но было больше 0\n",
    "- сделайте случайную выборку N элементов"
   ]
  },
  {
   "cell_type": "code",
   "execution_count": 60,
   "metadata": {
    "id": "close-daisy"
   },
   "outputs": [
    {
     "name": "stdout",
     "output_type": "stream",
     "text": [
      "[[0.84373036 0.00397302 0.52309687 0.1018975  0.32168295 0.92905985\n",
      "  0.7180733  0.07126375 0.20369508 0.67877644]\n",
      " [0.33073912 0.05107029 0.03593789 0.64748002 0.62716661 0.13137381\n",
      "  0.27586571 0.43360165 0.83960686 0.79980386]\n",
      " [0.99700093 0.36933418 0.48857643 0.56709103 0.26452354 0.09897186\n",
      "  0.52805588 0.94799276 0.71129171 0.92899743]\n",
      " [0.13356677 0.17532113 0.49374973 0.72863344 0.08648496 0.67612459\n",
      "  0.96946029 0.76324935 0.86706841 0.38122644]]\n",
      "10\n",
      "[0.03593789 0.13356677 0.38122644 0.05107029 0.26452354 0.03593789\n",
      " 0.99700093 0.08648496 0.72863344 0.03593789]\n"
     ]
    }
   ],
   "source": [
    "r, c = (np.random.randint(3, 8), np.random.randint(2, 13))\n",
    "a = np.random.sample((r, c))\n",
    "print(a)\n",
    "N = np.random.randint(1, r * c / 2)\n",
    "print(N)\n",
    "sample = np.random.choice(a.flatten(), N)\n",
    "print(sample)"
   ]
  },
  {
   "cell_type": "markdown",
   "metadata": {
    "id": "patent-african"
   },
   "source": [
    "15. Задание\n",
    "- дан вектор, проверить есть в нем Nan\n",
    "- проверить есть в нем знак бесконечности\n",
    "- заполнить их нулями"
   ]
  },
  {
   "cell_type": "code",
   "execution_count": 71,
   "metadata": {
    "id": "taken-fabric"
   },
   "outputs": [
    {
     "data": {
      "text/plain": "array([1., 0., 0.])"
     },
     "execution_count": 71,
     "metadata": {},
     "output_type": "execute_result"
    }
   ],
   "source": [
    "a = np.array([1, np.NaN, np.Inf], float)\n",
    "a[np.isnan(a)] = 0\n",
    "a[np.isinf(a)] = 0\n",
    "a"
   ]
  },
  {
   "cell_type": "markdown",
   "metadata": {
    "id": "analyzed-ireland"
   },
   "source": [
    "16. Задание\n",
    "- сгенерировать массив с произвольным числом осей\n",
    "- определить сколько у него осей"
   ]
  },
  {
   "cell_type": "code",
   "execution_count": 87,
   "metadata": {
    "id": "imposed-digest"
   },
   "outputs": [
    {
     "name": "stdout",
     "output_type": "stream",
     "text": [
      "[2 3 4 4]\n",
      "4\n"
     ]
    }
   ],
   "source": [
    "axis = np.random.randint(2, 5, np.random.randint(2, 6))\n",
    "print(axis)\n",
    "matrix = np.random.sample(axis)\n",
    "print(len(matrix.shape))"
   ]
  },
  {
   "cell_type": "markdown",
   "metadata": {
    "id": "regulation-colleague"
   },
   "source": [
    "17. Задание\n",
    "- сгенерируйте матрицу 10 на 3 с нормальным распределением, среднее 50, отклонение 10\n",
    "- найдите индексы максимальных элементов в каждой строке\n",
    "- найдите сами элементы"
   ]
  },
  {
   "cell_type": "code",
   "execution_count": 89,
   "metadata": {
    "id": "concerned-anthropology"
   },
   "outputs": [
    {
     "name": "stdout",
     "output_type": "stream",
     "text": [
      "[[66.15597449 47.42057041 38.82998757]\n",
      " [55.84056188 15.50344143 48.74772998]\n",
      " [35.99536209 50.72372854 46.87417828]\n",
      " [46.94622747 76.11995598 44.219867  ]\n",
      " [33.83872696 48.41484734 54.11942771]\n",
      " [51.94068577 38.57115887 54.534821  ]\n",
      " [48.8739375  56.05043443 63.93989534]\n",
      " [65.37294656 55.52770359 65.04007844]\n",
      " [41.37469639 64.84316923 58.51511933]\n",
      " [51.90204023 47.10458827 51.72679914]]\n",
      "[0 0 1 1 2 2 2 0 1 0]\n",
      "[66.15597448735122, 55.84056187596195, 50.723728535502666, 76.11995597772992, 54.11942770890298, 54.534821004397706, 63.939895335125925, 65.37294655600674, 64.8431692250061, 51.90204023111272]\n"
     ]
    }
   ],
   "source": [
    "matrix = np.random.normal(50, 10, (10,3))\n",
    "print(matrix)\n",
    "indexes = np.argmax(matrix, axis=1)\n",
    "print(indexes)\n",
    "print([matrix[i, j] for i, j in enumerate(indexes)])"
   ]
  }
 ],
 "metadata": {
  "colab": {
   "collapsed_sections": [],
   "name": "01_task.ipynb",
   "provenance": []
  },
  "kernelspec": {
   "display_name": "Python 3",
   "language": "python",
   "name": "python3"
  },
  "language_info": {
   "codemirror_mode": {
    "name": "ipython",
    "version": 3
   },
   "file_extension": ".py",
   "mimetype": "text/x-python",
   "name": "python",
   "nbconvert_exporter": "python",
   "pygments_lexer": "ipython3",
   "version": "3.8.5"
  }
 },
 "nbformat": 4,
 "nbformat_minor": 5
}