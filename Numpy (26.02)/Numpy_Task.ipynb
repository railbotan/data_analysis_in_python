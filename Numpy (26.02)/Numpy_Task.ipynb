{
 "cells": [
  {
   "cell_type": "code",
   "execution_count": null,
   "id": "cceba168",
   "metadata": {
    "id": "medieval-detail"
   },
   "outputs": [],
   "source": [
    "import numpy as np"
   ]
  },
  {
   "cell_type": "markdown",
   "id": "6a6688d3",
   "metadata": {
    "id": "abstract-istanbul"
   },
   "source": [
    "1. Задание\n",
    "- проверьте тип объекта python_list\n",
    "- если это не numpy ndarray, то преобразуйте к нему\n",
    "- проверьте, что на выходе вы получили объект python_list желаемого типа"
   ]
  },
  {
   "cell_type": "code",
   "execution_count": 1,
   "id": "ac44c5bd",
   "metadata": {
    "id": "entertaining-automation",
    "scrolled": true
   },
   "outputs": [
    {
     "name": "stdout",
     "output_type": "stream",
     "text": [
      "\n"
     ]
    },
    {
     "ename": "NameError",
     "evalue": "name 'np' is not defined",
     "output_type": "error",
     "traceback": [
      "\u001b[0;31m---------------------------------------------------------------------------\u001b[0m",
      "\u001b[0;31mNameError\u001b[0m                                 Traceback (most recent call last)",
      "\u001b[0;32m<ipython-input-1-7bb5e7d1e1f4>\u001b[0m in \u001b[0;36m<module>\u001b[0;34m\u001b[0m\n\u001b[1;32m      2\u001b[0m \u001b[0mprint\u001b[0m\u001b[0;34m(\u001b[0m\u001b[0;34m)\u001b[0m\u001b[0;34m\u001b[0m\u001b[0;34m\u001b[0m\u001b[0m\n\u001b[1;32m      3\u001b[0m \u001b[0mpython_list\u001b[0m \u001b[0;34m=\u001b[0m \u001b[0mpython_list\u001b[0m \u001b[0;32mif\u001b[0m \u001b[0mtype\u001b[0m\u001b[0;34m(\u001b[0m\u001b[0mpython_list\u001b[0m\u001b[0;34m)\u001b[0m \u001b[0;34m==\u001b[0m \u001b[0;34m\"numpy.ndarray\"\u001b[0m\u001b[0;31m \u001b[0m\u001b[0;31m\\\u001b[0m\u001b[0;34m\u001b[0m\u001b[0;34m\u001b[0m\u001b[0m\n\u001b[0;32m----> 4\u001b[0;31m     \u001b[0;32melse\u001b[0m \u001b[0mnp\u001b[0m\u001b[0;34m.\u001b[0m\u001b[0marray\u001b[0m\u001b[0;34m(\u001b[0m\u001b[0mpython_list\u001b[0m\u001b[0;34m)\u001b[0m\u001b[0;34m\u001b[0m\u001b[0;34m\u001b[0m\u001b[0m\n\u001b[0m\u001b[1;32m      5\u001b[0m \u001b[0mprint\u001b[0m\u001b[0;34m(\u001b[0m\u001b[0;34m)\u001b[0m\u001b[0;34m\u001b[0m\u001b[0;34m\u001b[0m\u001b[0m\n\u001b[1;32m      6\u001b[0m \u001b[0mtype\u001b[0m\u001b[0;34m(\u001b[0m\u001b[0mpython_list\u001b[0m\u001b[0;34m)\u001b[0m\u001b[0;34m\u001b[0m\u001b[0;34m\u001b[0m\u001b[0m\n",
      "\u001b[0;31mNameError\u001b[0m: name 'np' is not defined"
     ]
    }
   ],
   "source": [
    "python_list = [1, 12, 13, 45, 76, 45, 98, 0]\n",
    "print()\n",
    "python_list = python_list if type(python_list) == \"numpy.ndarray\" \\\n",
    "    else np.array(python_list)\n",
    "print(type(python_list))"
   ]
  },
  {
   "cell_type": "markdown",
   "id": "3b18909f",
   "metadata": {
    "id": "loose-tobago"
   },
   "source": [
    "2. Задание\n",
    "- создайте одномерный массив numpy из 10 элементов заполненный числом 1.5"
   ]
  },
  {
   "cell_type": "code",
   "execution_count": null,
   "id": "10635970",
   "metadata": {
    "id": "included-polymer"
   },
   "outputs": [],
   "source": [
    "z = np.array([1.5 for i in range(10)])\n",
    "print(z)"
   ]
  },
  {
   "cell_type": "markdown",
   "id": "18d509de",
   "metadata": {
    "id": "threatened-theme"
   },
   "source": [
    "3. Задание\n",
    "- создайте двумерный массив numpy из 25 элементов заполненный числом 0"
   ]
  },
  {
   "cell_type": "code",
   "execution_count": null,
   "id": "7c914b1a",
   "metadata": {
    "id": "alert-endorsement"
   },
   "outputs": [],
   "source": [
    "z = np.zeros(25)\n",
    "print(z)"
   ]
  },
  {
   "cell_type": "markdown",
   "id": "dfb9593b",
   "metadata": {
    "id": "federal-blackberry"
   },
   "source": [
    "4. Задание\n",
    "- создайте одномерный массив numpy из 12 элементов заполненный числом 1"
   ]
  },
  {
   "cell_type": "code",
   "execution_count": null,
   "id": "4690a3cc",
   "metadata": {
    "id": "static-filing"
   },
   "outputs": [],
   "source": [
    "ones = np.ones(12)\n",
    "print(ones)"
   ]
  },
  {
   "cell_type": "markdown",
   "id": "04a0f114",
   "metadata": {
    "id": "whole-chassis"
   },
   "source": [
    "5. Задание\n",
    "- преобразуйте массив из предыдущего задания к матрице 3 на 4\n",
    "- выведите размерность полученного массива"
   ]
  },
  {
   "cell_type": "code",
   "execution_count": null,
   "id": "18788760",
   "metadata": {
    "id": "outstanding-deviation"
   },
   "outputs": [],
   "source": [
    "ones = ones.reshape((3,4))\n",
    "ones.shape"
   ]
  },
  {
   "cell_type": "markdown",
   "id": "ae64a711",
   "metadata": {
    "id": "cubic-noise"
   },
   "source": [
    "6. Задание\n",
    "- создайте матрицу 4 на 5 заполненную числами от 1 до 20\n",
    "- замените элемент в 3-й строке 4-м столбце на -99"
   ]
  },
  {
   "cell_type": "code",
   "execution_count": null,
   "id": "49c38501",
   "metadata": {
    "id": "foster-memory"
   },
   "outputs": [],
   "source": [
    "Z = np.arange(1, 21, 1).reshape(4,5)\n",
    "print(Z)\n",
    "Z[2, 3] = -99\n",
    "print(Z)"
   ]
  },
  {
   "cell_type": "markdown",
   "id": "d0f92dd1",
   "metadata": {
    "id": "helpful-table"
   },
   "source": [
    "7. Задание\n",
    "- создайте вектор длинной 15 со случайными целыми числами в диапазоне от -10 до 10\n",
    "- сделайте реверс вектора"
   ]
  },
  {
   "cell_type": "code",
   "execution_count": null,
   "id": "7d707a34",
   "metadata": {
    "id": "magnetic-leone"
   },
   "outputs": [],
   "source": [
    "first = np.random.randint(-10, 11, 15)\n",
    "print(first)\n",
    "second = first[::-1]\n",
    "print(second)"
   ]
  },
  {
   "cell_type": "markdown",
   "id": "30799b42",
   "metadata": {
    "id": "executed-september"
   },
   "source": [
    "8. Задание\n",
    "- создайте матрицу 5 на 5 со случайными целыми числами в диапазоне от -15 до 15\n",
    "- замените отрицательные элементы на их квадраты"
   ]
  },
  {
   "cell_type": "code",
   "execution_count": null,
   "id": "9b9651b4",
   "metadata": {
    "id": "pharmaceutical-sigma"
   },
   "outputs": [],
   "source": [
    "first = np.random.randint(-15, 16, 25).reshape(5, 5)\n",
    "print(first)\n",
    "first = np.array([x ** 2 if x < 0 else x for x in first.flatten()]).reshape(5, 5)\n",
    "print(first)"
   ]
  },
  {
   "cell_type": "markdown",
   "id": "a9e69478",
   "metadata": {
    "id": "floral-difference"
   },
   "source": [
    "9. Задание\n",
    "- создайте матрицу 3 на 5 со случайными целыми числами в диапазоне от -15 до 15\n",
    "- найдите максимум и минимум\n",
    "- найдите среднее по столбцам\n",
    "- найдите среднее по строкам"
   ]
  },
  {
   "cell_type": "code",
   "execution_count": null,
   "id": "5e0abcf3",
   "metadata": {
    "id": "saving-conference"
   },
   "outputs": [],
   "source": [
    "first = np.random.randint(-15, 16, 15).reshape(3, 5)\n",
    "print(first)\n",
    "print(\"Max: \", first.max(), \"Min: \", first.min())\n",
    "print(\"AvgCols: \", first.mean(axis=0))\n",
    "print(\"AvgRows: \", first.mean(axis=1))"
   ]
  },
  {
   "cell_type": "markdown",
   "id": "57a99904",
   "metadata": {
    "id": "diagnostic-departure"
   },
   "source": [
    "10. Задание\n",
    "- даны две матрицы\n",
    "- убедитесь, что их можно пермножить\n",
    "- произведите операцию умножения матриц, если это возможно, иначе выведите ошибку"
   ]
  },
  {
   "cell_type": "code",
   "execution_count": null,
   "id": "ae9efb00",
   "metadata": {
    "id": "olympic-qatar"
   },
   "outputs": [],
   "source": [
    "a = np.random.randint(-10, 10, (2, 5))\n",
    "first_axis = np.random.randint(4, 6)\n",
    "b = np.random.randint(-10, 10, (first_axis, 3))\n",
    "if a.shape[1] == b.shape[0]:\n",
    "    print(a.dot(b))\n",
    "else:\n",
    "    raise Exception()"
   ]
  },
  {
   "cell_type": "markdown",
   "id": "4234d89f",
   "metadata": {
    "id": "governmental-austin"
   },
   "source": [
    "11. Задание\n",
    "- создайте матрицу 5 на 5 заполненную равномерным распределением с диапазоно 2-12\n",
    "- заполните все элементы ниже главной диагонали нулями"
   ]
  },
  {
   "cell_type": "code",
   "execution_count": null,
   "id": "de154fa9",
   "metadata": {
    "id": "suffering-mauritius"
   },
   "outputs": [],
   "source": [
    "mask = np.random.uniform(2, 12, (5, 5))\n",
    "print(mask)\n",
    "\n",
    "matrix = np.copy(mask)\n",
    "matrix[np.tril_indices(matrix.shape[0], -1)] = 0\n",
    "print(matrix)"
   ]
  },
  {
   "cell_type": "markdown",
   "id": "eeb9163f",
   "metadata": {
    "id": "altered-baghdad"
   },
   "source": [
    "12. Задание\n",
    "- создайте матрицу 5 на 5 заполненную нормальным распределением с парметрами среднее 10 и отклонение 2\n",
    "- заполните все элементы на главной диагонали нулями"
   ]
  },
  {
   "cell_type": "code",
   "execution_count": null,
   "id": "bf4bf650",
   "metadata": {
    "id": "refined-stuff"
   },
   "outputs": [],
   "source": [
    "mask = np.random.normal(10, 2, (5, 5))\n",
    "matrix = np.copy(mask)\n",
    "matrix[np.diag_indices(mask.shape[0])] = 0\n",
    "print(matrix)"
   ]
  },
  {
   "cell_type": "markdown",
   "id": "b297487b",
   "metadata": {
    "id": "quiet-complement"
   },
   "source": [
    "13. Задание\n",
    "- дано два массива, проверить одинаковы ли они"
   ]
  },
  {
   "cell_type": "code",
   "execution_count": null,
   "id": "0c6f03c3",
   "metadata": {
    "id": "french-fighter"
   },
   "outputs": [],
   "source": [
    "a = np.random.randint(0,2,5)\n",
    "print(a)\n",
    "b = np.random.randint(0,2,5)\n",
    "print(b)\n",
    "equal = np.array_equal(a, b)\n",
    "equal"
   ]
  },
  {
   "cell_type": "markdown",
   "id": "582bcbcf",
   "metadata": {
    "id": "color-amplifier"
   },
   "source": [
    "14. Задание\n",
    "- сгенерируйте матрицу случайного размера:\n",
    " - строк от 3 до 7\n",
    " - столбцов от 2 до 12\n",
    "- сгенерируйте число N - размер выборки так, чтобы оно не превышало половину количества элементов сгенерированной матрицы, но было больше 0\n",
    "- сделайте случайную выборку N элементов"
   ]
  },
  {
   "cell_type": "code",
   "execution_count": null,
   "id": "1b6adc2c",
   "metadata": {
    "id": "close-daisy"
   },
   "outputs": [],
   "source": [
    "r, c = (np.random.randint(3, 8), np.random.randint(2, 13))\n",
    "a = np.random.sample((r, c))\n",
    "print(a)\n",
    "N = np.random.randint(1, r * c / 2)\n",
    "print(N)\n",
    "sample = np.random.choice(a.flatten(), N)\n",
    "print(sample)"
   ]
  },
  {
   "cell_type": "markdown",
   "id": "9d033f71",
   "metadata": {
    "id": "patent-african"
   },
   "source": [
    "15. Задание\n",
    "- дан вектор, проверить есть в нем Nan\n",
    "- проверить есть в нем знак бесконечности\n",
    "- заполнить их нулями"
   ]
  },
  {
   "cell_type": "code",
   "execution_count": null,
   "id": "706e4752",
   "metadata": {
    "id": "taken-fabric"
   },
   "outputs": [],
   "source": [
    "a = np.array([1, np.NaN, np.Inf], float)\n",
    "a[np.isnan(a)] = 0\n",
    "a[np.isinf(a)] = 0\n",
    "a"
   ]
  },
  {
   "cell_type": "markdown",
   "id": "f9c075e8",
   "metadata": {
    "id": "analyzed-ireland"
   },
   "source": [
    "16. Задание\n",
    "- сгенерировать массив с произвольным числом осей\n",
    "- определить сколько у него осей"
   ]
  },
  {
   "cell_type": "code",
   "execution_count": null,
   "id": "0cb23382",
   "metadata": {
    "id": "imposed-digest"
   },
   "outputs": [],
   "source": [
    "axis = np.random.randint(2, 5, np.random.randint(2, 6))\n",
    "print(axis)\n",
    "matrix = np.random.sample(axis)\n",
    "print(len(matrix.shape))"
   ]
  },
  {
   "cell_type": "markdown",
   "id": "a81cdf7a",
   "metadata": {
    "id": "regulation-colleague"
   },
   "source": [
    "17. Задание\n",
    "- сгенерируйте матрицу 10 на 3 с нормальным распределением, среднее 50, отклонение 10\n",
    "- найдите индексы максимальных элементов в каждой строке\n",
    "- найдите сами элементы"
   ]
  },
  {
   "cell_type": "code",
   "execution_count": null,
   "id": "15e02c68",
   "metadata": {
    "id": "concerned-anthropology"
   },
   "outputs": [],
   "source": [
    "matrix = np.random.normal(50, 10, (10,3))\n",
    "print(matrix)\n",
    "indexes = np.argmax(matrix, axis=1)\n",
    "print(indexes)\n",
    "print([matrix[i, j] for i, j in enumerate(indexes)])"
   ]
  }
 ],
 "metadata": {
  "colab": {
   "collapsed_sections": [],
   "name": "01_task.ipynb",
   "provenance": []
  },
  "kernelspec": {
   "display_name": "Python 3",
   "language": "python",
   "name": "python3"
  },
  "language_info": {
   "codemirror_mode": {
    "name": "ipython",
    "version": 3
   },
   "file_extension": ".py",
   "mimetype": "text/x-python",
   "name": "python",
   "nbconvert_exporter": "python",
   "pygments_lexer": "ipython3",
   "version": "3.6.15"
  }
 },
 "nbformat": 4,
 "nbformat_minor": 5
}
