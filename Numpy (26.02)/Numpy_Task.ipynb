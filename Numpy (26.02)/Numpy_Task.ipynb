{
 "cells": [
  {
   "cell_type": "code",
   "execution_count": 3,
   "metadata": {
    "id": "medieval-detail"
   },
   "outputs": [],
   "source": [
    "import numpy as np"
   ]
  },
  {
   "cell_type": "markdown",
   "metadata": {
    "id": "abstract-istanbul"
   },
   "source": [
    "1. Задание\n",
    "- проверьте тип объекта python_list\n",
    "- если это не numpy ndarray, то преобразуйте к нему\n",
    "- проверьте, что на выходе вы получили объект python_list желаемого типа"
   ]
  },
  {
   "cell_type": "code",
   "execution_count": 6,
   "metadata": {
    "id": "entertaining-automation"
   },
   "outputs": [
    {
     "name": "stdout",
     "output_type": "stream",
     "text": [
      "<class 'list'>\n",
      "<class 'numpy.ndarray'>\n"
     ]
    }
   ],
   "source": [
    "python_list = [1, 12, 13, 45, 76, 45, 98, 0]\n",
    "print(type(python_list))\n",
    "python_list = np.array(python_list)\n",
    "print(type(python_list))"
   ]
  },
  {
   "cell_type": "markdown",
   "metadata": {
    "id": "loose-tobago"
   },
   "source": [
    "2. Задание\n",
    "- создайте одномерный массив numpy из 10 элементов заполненный числом 1.5"
   ]
  },
  {
   "cell_type": "code",
   "execution_count": 9,
   "metadata": {
    "id": "included-polymer"
   },
   "outputs": [
    {
     "name": "stdout",
     "output_type": "stream",
     "text": [
      "[1.5 1.5 1.5 1.5 1.5 1.5 1.5 1.5 1.5 1.5]\n"
     ]
    }
   ],
   "source": [
    "z = np.array([1.5 for i in range(10)])\n",
    "print(z)"
   ]
  },
  {
   "cell_type": "markdown",
   "metadata": {
    "id": "threatened-theme"
   },
   "source": [
    "3. Задание\n",
    "- создайте двумерный массив numpy из 25 элементов заполненный числом 0"
   ]
  },
  {
   "cell_type": "code",
   "execution_count": 10,
   "metadata": {
    "id": "alert-endorsement"
   },
   "outputs": [
    {
     "name": "stdout",
     "output_type": "stream",
     "text": [
      "[[0. 0. 0. 0. 0.]\n",
      " [0. 0. 0. 0. 0.]\n",
      " [0. 0. 0. 0. 0.]\n",
      " [0. 0. 0. 0. 0.]\n",
      " [0. 0. 0. 0. 0.]]\n"
     ]
    }
   ],
   "source": [
    "z = np.zeros((5,5))\n",
    "print(z)"
   ]
  },
  {
   "cell_type": "markdown",
   "metadata": {
    "id": "federal-blackberry"
   },
   "source": [
    "4. Задание\n",
    "- создайте одномерный массив numpy из 12 элементов заполненный числом 1"
   ]
  },
  {
   "cell_type": "code",
   "execution_count": null,
   "metadata": {
    "id": "static-filing"
   },
   "outputs": [],
   "source": [
    "ones = np.array([1 for i in range (12)])\n",
    "print(ones)"
   ]
  },
  {
   "cell_type": "markdown",
   "metadata": {
    "id": "whole-chassis"
   },
   "source": [
    "5. Задание\n",
    "- преобразуйте массив из предыдущего задания к матрице 3 на 4\n",
    "- выведите размерность полученного массива"
   ]
  },
  {
   "cell_type": "code",
   "execution_count": 12,
   "metadata": {
    "id": "outstanding-deviation"
   },
   "outputs": [
    {
     "data": {
      "text/plain": [
       "(3, 4)"
      ]
     },
     "execution_count": 12,
     "metadata": {},
     "output_type": "execute_result"
    }
   ],
   "source": [
    "ones = np.array([1 for i in range (12)]).reshape(3, 4)\n",
    "ones.shape"
   ]
  },
  {
   "cell_type": "markdown",
   "metadata": {
    "id": "cubic-noise"
   },
   "source": [
    "6. Задание\n",
    "- создайте матрицу 4 на 5 заполненную числами от 1 до 20\n",
    "- замените элемент в 3-й строке 4-м столбце на -99"
   ]
  },
  {
   "cell_type": "code",
   "execution_count": 14,
   "metadata": {
    "id": "foster-memory"
   },
   "outputs": [
    {
     "name": "stdout",
     "output_type": "stream",
     "text": [
      "[[ 1  2  3  4  5]\n",
      " [ 6  7  8  9 10]\n",
      " [11 12 13 14 15]\n",
      " [16 17 18 19 20]]\n",
      "[[  1   2   3   4   5]\n",
      " [  6   7   8   9  10]\n",
      " [ 11  12  13  14  15]\n",
      " [ 16  17  18  19 -99]]\n"
     ]
    }
   ],
   "source": [
    "Z = np.array([i for i in range(1, 21)]).reshape(4, 5)\n",
    "print(Z)\n",
    "Z[3, 4] = -99\n",
    "print(Z)"
   ]
  },
  {
   "cell_type": "markdown",
   "metadata": {
    "id": "helpful-table"
   },
   "source": [
    "7. Задание\n",
    "- создайте вектор длинной 15 со случайными целыми числами в диапазоне от -10 до 10\n",
    "- сделайте реверс вектора"
   ]
  },
  {
   "cell_type": "code",
   "execution_count": 17,
   "metadata": {
    "id": "magnetic-leone"
   },
   "outputs": [
    {
     "name": "stdout",
     "output_type": "stream",
     "text": [
      "[ -9 -10   8   6  -3  -6   1  -4  -9   4  -9   1   5   3   3]\n",
      "<reversed object at 0x000001EA450A7DF0>\n"
     ]
    }
   ],
   "source": [
    "first = np.random.randint(-10, 10, (15))\n",
    "print(first)\n",
    "second = reversed(first)\n",
    "print(second)"
   ]
  },
  {
   "cell_type": "markdown",
   "metadata": {
    "id": "executed-september"
   },
   "source": [
    "8. Задание\n",
    "- создайте матрицу 5 на 5 со случайными целыми числами в диапазоне от -15 до 15\n",
    "- замените отрицательные элементы на их квадраты"
   ]
  },
  {
   "cell_type": "code",
   "execution_count": 24,
   "metadata": {
    "id": "pharmaceutical-sigma"
   },
   "outputs": [
    {
     "name": "stdout",
     "output_type": "stream",
     "text": [
      "[[  9 -10  -2 -15  -4]\n",
      " [-13 -15 -10 -15  -9]\n",
      " [  6  -9  -4  13 -12]\n",
      " [-12  -1  -5  -1  14]\n",
      " [ -2  -9   2  -9  10]]\n",
      "[[  9 100   4 225  16]\n",
      " [169 225 100 225  81]\n",
      " [  6  81  16  13 144]\n",
      " [144   1  25   1  14]\n",
      " [  4  81   2  81  10]]\n"
     ]
    }
   ],
   "source": [
    "first = np.random.randint(-15, 15, (5, 5))\n",
    "print(first)\n",
    "\n",
    "print(\n",
    "    np\n",
    "    .array([item*item if item < 0 else item for item in first.flatten()])\n",
    "    .reshape(5,5))"
   ]
  },
  {
   "cell_type": "markdown",
   "metadata": {
    "id": "floral-difference"
   },
   "source": [
    "9. Задание\n",
    "- создайте матрицу 3 на 5 со случайными целыми числами в диапазоне от -15 до 15\n",
    "- найдите максимум и минимум\n",
    "- найдите среднее по столбцам\n",
    "- найдите среднее по строкам"
   ]
  },
  {
   "cell_type": "code",
   "execution_count": 29,
   "metadata": {
    "id": "saving-conference"
   },
   "outputs": [
    {
     "name": "stdout",
     "output_type": "stream",
     "text": [
      "[[  8  -8   7  -9  12]\n",
      " [ -5 -13   4  -6  -5]\n",
      " [  6  -3 -13  13 -11]]\n",
      "13\n",
      "[ 3.         -8.         -0.66666667 -0.66666667 -1.33333333]\n",
      "[ 2.  -5.  -1.6]\n"
     ]
    }
   ],
   "source": [
    "first = np.random.randint(-15, 15, (3, 5))\n",
    "print(first)\n",
    "print(first.max())\n",
    "print(np.mean(first, axis=0))\n",
    "print(np.mean(first, axis=1))"
   ]
  },
  {
   "cell_type": "markdown",
   "metadata": {
    "id": "diagnostic-departure"
   },
   "source": [
    "10. Задание\n",
    "- даны две матрицы\n",
    "- убедитесь, что их можно пермножить\n",
    "- произведите операцию умножения матриц, если это возможно, иначе выведите ошибку"
   ]
  },
  {
   "cell_type": "code",
   "execution_count": 32,
   "metadata": {
    "id": "olympic-qatar"
   },
   "outputs": [
    {
     "name": "stdout",
     "output_type": "stream",
     "text": [
      "[[ -3   9  -7  -4 -10]\n",
      " [ -9   4  -4  -9  -8]] \n",
      " [[-5 -5 -5]\n",
      " [ 1 -2  1]\n",
      " [ 5 -1 -6]\n",
      " [ 6 -9  5]]\n",
      "err\n"
     ]
    }
   ],
   "source": [
    "a = np.random.randint(-10, 10, (2, 5))\n",
    "first_axis = np.random.randint(4, 6)\n",
    "b = np.random.randint(-10, 10, (first_axis, 3))\n",
    "print(a,'\\n', b)\n",
    "if a.shape[1] == b.shape[0]:\n",
    "    print(a @ b)\n",
    "else:\n",
    "    print('err')"
   ]
  },
  {
   "cell_type": "markdown",
   "metadata": {
    "id": "governmental-austin"
   },
   "source": [
    "11. Задание\n",
    "- создайте матрицу 5 на 5 заполненную равномерным распределением с диапазоно 2-12\n",
    "- заполните все элементы ниже главной диагонали нулями"
   ]
  },
  {
   "cell_type": "code",
   "execution_count": 47,
   "metadata": {
    "id": "suffering-mauritius"
   },
   "outputs": [
    {
     "name": "stdout",
     "output_type": "stream",
     "text": [
      "[[1 1 1 1 1]\n",
      " [0 1 1 1 1]\n",
      " [0 0 1 1 1]\n",
      " [0 0 0 1 1]\n",
      " [0 0 0 0 1]]\n",
      "\n",
      "[[10.91848798  6.92659776  3.61044972  3.76123761  2.75709681]\n",
      " [ 9.48006875  4.78720695 11.53040831  9.77860092  2.94363025]\n",
      " [ 6.8160005   7.82262577 11.02010864  5.3753274   2.28835358]\n",
      " [ 7.16976799 11.84423373  6.03042303  9.94426089 11.44563102]\n",
      " [ 5.98797597  2.38694542  8.5701645   3.77496431  3.24636326]]\n",
      "\n",
      "[[10.91848798  6.92659776  3.61044972  3.76123761  2.75709681]\n",
      " [ 0.          4.78720695 11.53040831  9.77860092  2.94363025]\n",
      " [ 0.          0.         11.02010864  5.3753274   2.28835358]\n",
      " [ 0.          0.          0.          9.94426089 11.44563102]\n",
      " [ 0.          0.          0.          0.          3.24636326]]\n"
     ]
    }
   ],
   "source": [
    "mask = np.fromfunction(lambda x, y: x <= y, (5, 5)).astype(int)\n",
    "matrix = np.random.uniform(2, 12, (5, 5)) \n",
    "print(mask)\n",
    "print()\n",
    "print(matrix)\n",
    "print()\n",
    "print(mask * matrix)"
   ]
  },
  {
   "cell_type": "markdown",
   "metadata": {
    "id": "altered-baghdad"
   },
   "source": [
    "12. Задание\n",
    "- создайте матрицу 5 на 5 заполненную нормальным распределением с парметрами среднее 10 и отклонение 2\n",
    "- заполните все элементы на главной диагонали нулями"
   ]
  },
  {
   "cell_type": "code",
   "execution_count": 52,
   "metadata": {
    "id": "refined-stuff"
   },
   "outputs": [
    {
     "name": "stdout",
     "output_type": "stream",
     "text": [
      "[[0 1 1 1 1]\n",
      " [1 0 1 1 1]\n",
      " [1 1 0 1 1]\n",
      " [1 1 1 0 1]\n",
      " [1 1 1 1 0]]\n",
      "[[ 0.         12.32037979  9.33107956 10.65737947 12.70701444]\n",
      " [10.71743075  0.         11.49156814 11.42766561  7.35856052]\n",
      " [ 9.33276368  7.89385361  0.          6.9127609   8.79411146]\n",
      " [ 8.88900445  9.86891529 10.48804995  0.         11.10189233]\n",
      " [11.85526742 10.88986187 13.31722151  6.8573967   0.        ]]\n"
     ]
    }
   ],
   "source": [
    "mask = np.fromfunction(lambda x, y: x != y, (5, 5)).astype(int)\n",
    "matrix =  np.random.normal(10, 2, (5, 5))\n",
    "\n",
    "print(mask)\n",
    "\n",
    "print(matrix*mask)"
   ]
  },
  {
   "cell_type": "markdown",
   "metadata": {
    "id": "quiet-complement"
   },
   "source": [
    "13. Задание\n",
    "- дано два массива, проверить одинаковы ли они"
   ]
  },
  {
   "cell_type": "code",
   "execution_count": 54,
   "metadata": {
    "id": "french-fighter"
   },
   "outputs": [
    {
     "name": "stdout",
     "output_type": "stream",
     "text": [
      "[0 1 1 0 0]\n",
      "[0 0 0 1 1]\n"
     ]
    },
    {
     "data": {
      "text/plain": [
       "False"
      ]
     },
     "execution_count": 54,
     "metadata": {},
     "output_type": "execute_result"
    }
   ],
   "source": [
    "a = np.random.randint(0,2,5)\n",
    "print(a)\n",
    "b = np.random.randint(0,2,5)\n",
    "print(b)\n",
    "equal = all(a == b)\n",
    "equal"
   ]
  },
  {
   "cell_type": "markdown",
   "metadata": {
    "id": "color-amplifier"
   },
   "source": [
    "14. Задание\n",
    "- сгенерируйте матрицу случайного размера:\n",
    " - строк от 3 до 7\n",
    " - столбцов от 2 до 12\n",
    "- сгенерируйте число N - размер выборки так, чтобы оно не превышало половину количества элементов сгенерированной матрицы, но было больше 0\n",
    "- сделайте случайную выборку N элементов"
   ]
  },
  {
   "cell_type": "code",
   "execution_count": 63,
   "metadata": {
    "id": "close-daisy"
   },
   "outputs": [
    {
     "name": "stdout",
     "output_type": "stream",
     "text": [
      "3 8\n",
      "[[93 72 23  1 64 55 25 34]\n",
      " [59 22 12 20 86 29 49 72]\n",
      " [85 89 28 65 41 11 36 93]]\n",
      "5\n",
      "[93 25 55 85 22]\n"
     ]
    }
   ],
   "source": [
    "r, c = np.random.randint(3, 7), np.random.randint(2, 12)\n",
    "print(r,c)\n",
    "a = np.random.randint(0, 100, size=(r, c))\n",
    "print(a)\n",
    "N = np.random.randint(1, r * c / 2)\n",
    "print(N)\n",
    "sample = np.random.choice(a.flatten(), N)\n",
    "print(sample)"
   ]
  },
  {
   "cell_type": "markdown",
   "metadata": {
    "id": "patent-african"
   },
   "source": [
    "15. Задание\n",
    "- дан вектор, проверить есть в нем Nan\n",
    "- проверить есть в нем знак бесконечности\n",
    "- заполнить их нулями"
   ]
  },
  {
   "cell_type": "code",
   "execution_count": 87,
   "metadata": {
    "id": "taken-fabric"
   },
   "outputs": [
    {
     "name": "stdout",
     "output_type": "stream",
     "text": [
      "True\n",
      "True\n"
     ]
    },
    {
     "data": {
      "text/plain": [
       "array([1., 0., 0.])"
      ]
     },
     "execution_count": 87,
     "metadata": {},
     "output_type": "execute_result"
    }
   ],
   "source": [
    "a = np.array([1, np.NaN, np.Inf], float)\n",
    "print(any(np.isnan(a)))\n",
    "print(any(np.isinf(a)))\n",
    "np.select([~np.isnan(a) & ~np.isinf(a)], [a], 0)"
   ]
  },
  {
   "cell_type": "markdown",
   "metadata": {
    "id": "analyzed-ireland"
   },
   "source": [
    "16. Задание\n",
    "- сгенерировать массив с произвольным числом осей\n",
    "- определить сколько у него осей"
   ]
  },
  {
   "cell_type": "code",
   "execution_count": 97,
   "metadata": {
    "id": "imposed-digest"
   },
   "outputs": [
    {
     "name": "stdout",
     "output_type": "stream",
     "text": [
      "23\n",
      "23\n"
     ]
    }
   ],
   "source": [
    "axis = np.random.randint(1, 32)\n",
    "print(axis)\n",
    "matrix = np.zeros([1 for i in range(axis)])\n",
    "print(matrix.ndim)"
   ]
  },
  {
   "cell_type": "markdown",
   "metadata": {
    "id": "regulation-colleague"
   },
   "source": [
    "17. Задание\n",
    "- сгенерируйте матрицу 10 на 3 с нормальным распределением, среднее 50, отклонение 10\n",
    "- найдите индексы максимальных элементов в каждой строке\n",
    "- найдите сами элементы"
   ]
  },
  {
   "cell_type": "code",
   "execution_count": 103,
   "metadata": {
    "id": "concerned-anthropology"
   },
   "outputs": [
    {
     "name": "stdout",
     "output_type": "stream",
     "text": [
      "[[46.66247631 64.90999751 35.20936111]\n",
      " [36.73801987 35.49818233 51.16047761]\n",
      " [43.70226384 49.25069999 54.0762742 ]\n",
      " [54.3823302  50.12262375 49.84751966]\n",
      " [58.73230389 45.44749236 39.16232101]\n",
      " [43.42648427 50.97592469 54.52013615]\n",
      " [61.08080432 47.42343666 49.54119507]\n",
      " [59.10017121 44.99528693 58.36038814]\n",
      " [51.20333563 47.69247928 49.05142261]\n",
      " [54.15399904 39.84489525 54.49399119]]\n",
      "[1, 2, 2, 0, 0, 2, 0, 0, 0, 2]\n",
      "[64.90999750766508, 51.1604776137763, 54.07627420066281, 54.38233020183029, 58.73230389409902, 54.52013615293884, 61.08080432412204, 59.100171208616324, 51.20333563247498, 54.49399119165947]\n"
     ]
    }
   ],
   "source": [
    "matrix = np.random.normal(50, 10, (10,3))\n",
    "print(matrix)\n",
    "indexes = ([list(line).index(max(line)) for line in matrix])\n",
    "print(indexes)\n",
    "print([line[indexes[i]] for i, line in enumerate(matrix)])"
   ]
  }
 ],
 "metadata": {
  "colab": {
   "collapsed_sections": [],
   "name": "01_task.ipynb",
   "provenance": []
  },
  "kernelspec": {
   "display_name": "Python 3",
   "language": "python",
   "name": "python3"
  },
  "language_info": {
   "codemirror_mode": {
    "name": "ipython",
    "version": 3
   },
   "file_extension": ".py",
   "mimetype": "text/x-python",
   "name": "python",
   "nbconvert_exporter": "python",
   "pygments_lexer": "ipython3",
   "version": "3.9.7"
  }
 },
 "nbformat": 4,
 "nbformat_minor": 5
}
