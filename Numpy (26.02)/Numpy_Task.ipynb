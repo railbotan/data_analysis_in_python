{
 "cells": [
  {
   "cell_type": "code",
   "execution_count": 1,
   "id": "feb7f6f2",
   "metadata": {
    "id": "medieval-detail"
   },
   "outputs": [],
   "source": [
    "import numpy as np"
   ]
  },
  {
   "cell_type": "markdown",
   "id": "4f80823f",
   "metadata": {
    "id": "abstract-istanbul"
   },
   "source": [
    "1. Задание\n",
    "- проверьте тип объекта python_list\n",
    "- если это не numpy ndarray, то преобразуйте к нему\n",
    "- проверьте, что на выходе вы получили объект python_list желаемого типа"
   ]
  },
  {
   "cell_type": "code",
   "execution_count": 2,
   "id": "54d8a235",
   "metadata": {
    "id": "entertaining-automation"
   },
   "outputs": [
    {
     "name": "stdout",
     "output_type": "stream",
     "text": [
      "<class 'list'>\n",
      "<class 'numpy.ndarray'>\n"
     ]
    }
   ],
   "source": [
    "python_list = [1, 12, 13, 45, 76, 45, 98, 0]\n",
    "print(type(python_list))\n",
    "python_list = np.array(python_list)\n",
    "print(type(python_list))"
   ]
  },
  {
   "cell_type": "markdown",
   "id": "0f235321",
   "metadata": {
    "id": "loose-tobago"
   },
   "source": [
    "2. Задание\n",
    "- создайте одномерный массив numpy из 10 элементов заполненный числом 1.5"
   ]
  },
  {
   "cell_type": "code",
   "execution_count": 3,
   "id": "07b9bc7e",
   "metadata": {
    "id": "included-polymer"
   },
   "outputs": [
    {
     "name": "stdout",
     "output_type": "stream",
     "text": [
      "[1.5 1.5 1.5 1.5 1.5 1.5 1.5 1.5 1.5 1.5]\n"
     ]
    }
   ],
   "source": [
    "z = np.full(10, 1.5)\n",
    "print(z)"
   ]
  },
  {
   "cell_type": "markdown",
   "id": "3b15fd7d",
   "metadata": {
    "id": "threatened-theme"
   },
   "source": [
    "3. Задание\n",
    "- создайте двумерный массив numpy из 25 элементов заполненный числом 0"
   ]
  },
  {
   "cell_type": "code",
   "execution_count": 4,
   "id": "963f2be0",
   "metadata": {
    "id": "alert-endorsement"
   },
   "outputs": [
    {
     "name": "stdout",
     "output_type": "stream",
     "text": [
      "[[0. 0. 0. 0. 0.]\n",
      " [0. 0. 0. 0. 0.]\n",
      " [0. 0. 0. 0. 0.]\n",
      " [0. 0. 0. 0. 0.]\n",
      " [0. 0. 0. 0. 0.]]\n"
     ]
    }
   ],
   "source": [
    "z = z = np.zeros((5, 5))\n",
    "\n",
    "print(z)"
   ]
  },
  {
   "cell_type": "markdown",
   "id": "b4d9ed58",
   "metadata": {
    "id": "federal-blackberry"
   },
   "source": [
    "4. Задание\n",
    "- создайте одномерный массив numpy из 12 элементов заполненный числом 1"
   ]
  },
  {
   "cell_type": "code",
   "execution_count": 5,
   "id": "5be6c607",
   "metadata": {
    "id": "static-filing"
   },
   "outputs": [
    {
     "name": "stdout",
     "output_type": "stream",
     "text": [
      "[1. 1. 1. 1. 1. 1. 1. 1. 1. 1. 1. 1.]\n"
     ]
    }
   ],
   "source": [
    "ones = np.ones(12)\n",
    "print(ones)"
   ]
  },
  {
   "cell_type": "markdown",
   "id": "dd144105",
   "metadata": {
    "id": "whole-chassis"
   },
   "source": [
    "5. Задание\n",
    "- преобразуйте массив из предыдущего задания к матрице 3 на 4\n",
    "- выведите размерность полученного массива"
   ]
  },
  {
   "cell_type": "code",
   "execution_count": 6,
   "id": "977bb23a",
   "metadata": {
    "id": "outstanding-deviation"
   },
   "outputs": [
    {
     "data": {
      "text/plain": [
       "(3, 4)"
      ]
     },
     "execution_count": 6,
     "metadata": {},
     "output_type": "execute_result"
    }
   ],
   "source": [
    "ones = ones.reshape(3,4)\n",
    "ones.shape"
   ]
  },
  {
   "cell_type": "markdown",
   "id": "117bb1bc",
   "metadata": {
    "id": "cubic-noise"
   },
   "source": [
    "6. Задание\n",
    "- создайте матрицу 4 на 5 заполненную числами от 1 до 20\n",
    "- замените элемент в 3-й строке 4-м столбце на -99"
   ]
  },
  {
   "cell_type": "code",
   "execution_count": 7,
   "id": "1892658d",
   "metadata": {
    "id": "foster-memory"
   },
   "outputs": [
    {
     "name": "stdout",
     "output_type": "stream",
     "text": [
      "[[ 1  2  3  4  5]\n",
      " [ 6  7  8  9 10]\n",
      " [11 12 13 14 15]\n",
      " [16 17 18 19 20]]\n",
      "[[  1   2   3   4   5]\n",
      " [  6   7   8   9  10]\n",
      " [ 11  12  13 -99  15]\n",
      " [ 16  17  18  19  20]]\n"
     ]
    }
   ],
   "source": [
    "Z = np.arange(1, 21, 1).reshape(4, 5)\n",
    "print(Z)\n",
    "Z[2, 3] = -99\n",
    "print(Z)"
   ]
  },
  {
   "cell_type": "markdown",
   "id": "4dcf81f8",
   "metadata": {
    "id": "helpful-table"
   },
   "source": [
    "7. Задание\n",
    "- создайте вектор длинной 15 со случайными целыми числами в диапазоне от -10 до 10\n",
    "- сделайте реверс вектора"
   ]
  },
  {
   "cell_type": "code",
   "execution_count": 8,
   "id": "84b1215a",
   "metadata": {
    "id": "magnetic-leone"
   },
   "outputs": [
    {
     "name": "stdout",
     "output_type": "stream",
     "text": [
      "[ -3 -10 -10  10   2   4  -9  10   4   1  -7   7   3  -5  -3]\n",
      "[ -3  -5   3   7  -7   1   4  10  -9   4   2  10 -10 -10  -3]\n"
     ]
    }
   ],
   "source": [
    "first = np.random.randint(-10, 11, 15)\n",
    "print(first)\n",
    "second = first[::-1]\n",
    "print(second)"
   ]
  },
  {
   "cell_type": "markdown",
   "id": "0dbd17ef",
   "metadata": {
    "id": "executed-september"
   },
   "source": [
    "8. Задание\n",
    "- создайте матрицу 5 на 5 со случайными целыми числами в диапазоне от -15 до 15\n",
    "- замените отрицательные элементы на их квадраты"
   ]
  },
  {
   "cell_type": "code",
   "execution_count": 9,
   "id": "455f7019",
   "metadata": {
    "id": "pharmaceutical-sigma"
   },
   "outputs": [
    {
     "name": "stdout",
     "output_type": "stream",
     "text": [
      "[[  2  -1 -15 -11   4]\n",
      " [ 11  -5  -9   0 -13]\n",
      " [ -7   1 -12 -12  -3]\n",
      " [  1  -7 -15   2  -9]\n",
      " [  0   3 -12   0  13]]\n",
      "[[  2   1 225 121   4]\n",
      " [ 11  25  81   0 169]\n",
      " [ 49   1 144 144   9]\n",
      " [  1  49 225   2  81]\n",
      " [  0   3 144   0  13]]\n"
     ]
    }
   ],
   "source": [
    "first = np.random.randint(-15, 16, 25).reshape(5, 5)\n",
    "print(first)\n",
    "first = np.where(first < 0, first**2, first)\n",
    "print(first)"
   ]
  },
  {
   "cell_type": "markdown",
   "id": "5d36be00",
   "metadata": {
    "id": "floral-difference"
   },
   "source": [
    "9. Задание\n",
    "- создайте матрицу 3 на 5 со случайными целыми числами в диапазоне от -15 до 15\n",
    "- найдите максимум и минимум\n",
    "- найдите среднее по столбцам\n",
    "- найдите среднее по строкам"
   ]
  },
  {
   "cell_type": "code",
   "execution_count": 10,
   "id": "acb86da0",
   "metadata": {
    "id": "saving-conference"
   },
   "outputs": [
    {
     "name": "stdout",
     "output_type": "stream",
     "text": [
      "[[ 12   5  -3  11   6]\n",
      " [  4  -5  -3   0  14]\n",
      " [ 15  -1 -10  -9   3]]\n"
     ]
    },
    {
     "data": {
      "text/plain": [
       "(15,\n",
       " -10,\n",
       " array([10.33333333, -0.33333333, -5.33333333,  0.66666667,  7.66666667]),\n",
       " array([ 6.2,  2. , -0.4]))"
      ]
     },
     "execution_count": 10,
     "metadata": {},
     "output_type": "execute_result"
    }
   ],
   "source": [
    "first = np.random.randint(-15, 16, 15).reshape(3, 5)\n",
    "print(first)\n",
    "first.max(), first.min(), first.mean(axis=0), first.mean(axis=1)"
   ]
  },
  {
   "cell_type": "markdown",
   "id": "45907f32",
   "metadata": {
    "id": "diagnostic-departure"
   },
   "source": [
    "10. Задание\n",
    "- даны две матрицы\n",
    "- убедитесь, что их можно пермножить\n",
    "- произведите операцию умножения матриц, если это возможно, иначе выведите ошибку"
   ]
  },
  {
   "cell_type": "code",
   "execution_count": 11,
   "id": "cc76e88c",
   "metadata": {
    "id": "olympic-qatar"
   },
   "outputs": [
    {
     "name": "stdout",
     "output_type": "stream",
     "text": [
      "[[  36  -54   96]\n",
      " [ -47 -137   79]]\n"
     ]
    }
   ],
   "source": [
    "a = np.random.randint(-10, 10, (2, 5))\n",
    "first_axis = np.random.randint(4, 6)\n",
    "b = np.random.randint(-10, 10, (first_axis, 3))\n",
    "if a.shape[1] == b.shape[0]:\n",
    "    print(a @ b)\n",
    "else:\n",
    "    print('err')"
   ]
  },
  {
   "cell_type": "markdown",
   "id": "2ded5995",
   "metadata": {
    "id": "governmental-austin"
   },
   "source": [
    "11. Задание\n",
    "- создайте матрицу 5 на 5 заполненную равномерным распределением с диапазоно 2-12\n",
    "- заполните все элементы ниже главной диагонали нулями"
   ]
  },
  {
   "cell_type": "code",
   "execution_count": 12,
   "id": "9b454b9c",
   "metadata": {
    "id": "suffering-mauritius"
   },
   "outputs": [
    {
     "name": "stdout",
     "output_type": "stream",
     "text": [
      "[[ -2.61775722  -1.67086735  -2.27801851  -6.93616721  -7.45792731]\n",
      " [  0.          -6.15690924   0.62688566   0.60474397  -7.53560122]\n",
      " [  0.           0.         -11.70636778  -3.90126739  -1.98764308]\n",
      " [  0.           0.           0.          -9.70455908 -10.8963226 ]\n",
      " [  0.           0.           0.           0.          -2.1782692 ]]\n"
     ]
    }
   ],
   "source": [
    "mask = np.random.uniform(2, -12, (5, 5)) \n",
    "matrix = np.copy(mask)\n",
    "for i in range(5):\n",
    "  for j in range(5):\n",
    "    if j < i:\n",
    "      matrix[i, j] = 0\n",
    "\n",
    "print(matrix)"
   ]
  },
  {
   "cell_type": "markdown",
   "id": "40985b25",
   "metadata": {
    "id": "altered-baghdad"
   },
   "source": [
    "12. Задание\n",
    "- создайте матрицу 5 на 5 заполненную нормальным распределением с парметрами среднее 10 и отклонение 2\n",
    "- заполните все элементы на главной диагонали нулями"
   ]
  },
  {
   "cell_type": "code",
   "execution_count": 13,
   "id": "cec7e7ea",
   "metadata": {
    "id": "refined-stuff"
   },
   "outputs": [
    {
     "name": "stdout",
     "output_type": "stream",
     "text": [
      "[[ 0.         10.18238614 11.91385332  8.31314191  7.16254416]\n",
      " [ 9.49416669  0.          8.87762329 11.12641883 10.55408449]\n",
      " [ 6.60673358  6.12302958  0.         11.78786698 11.4615063 ]\n",
      " [10.08653577 10.05468692 10.00824118  0.         12.99399982]\n",
      " [12.01515492  7.92418921  9.0942127   9.01347768  0.        ]]\n"
     ]
    }
   ],
   "source": [
    "mask = np.random.normal(10, 2, 25).reshape(5, 5)\n",
    "matrix = np.copy(mask)\n",
    "\n",
    "for i in range(5):\n",
    "  for j in range(5):\n",
    "    if j == i:\n",
    "      matrix[i, j] = 0\n",
    "\n",
    "print(matrix)"
   ]
  },
  {
   "cell_type": "markdown",
   "id": "2d9b132e",
   "metadata": {
    "id": "quiet-complement"
   },
   "source": [
    "13. Задание\n",
    "- дано два массива, проверить одинаковы ли они"
   ]
  },
  {
   "cell_type": "code",
   "execution_count": 14,
   "id": "be1e172f",
   "metadata": {
    "id": "french-fighter"
   },
   "outputs": [
    {
     "name": "stdout",
     "output_type": "stream",
     "text": [
      "[1 0 0 0 0]\n",
      "[1 1 0 1 0]\n"
     ]
    },
    {
     "data": {
      "text/plain": [
       "False"
      ]
     },
     "execution_count": 14,
     "metadata": {},
     "output_type": "execute_result"
    }
   ],
   "source": [
    "a = np.random.randint(0,2,5)\n",
    "print(a)\n",
    "b = np.random.randint(0,2,5)\n",
    "print(b)\n",
    "equal = sum(a == b) == len(a)\n",
    "equal"
   ]
  },
  {
   "cell_type": "markdown",
   "id": "eb176893",
   "metadata": {
    "id": "color-amplifier"
   },
   "source": [
    "14. Задание\n",
    "- сгенерируйте матрицу случайного размера:\n",
    " - строк от 3 до 7\n",
    " - столбцов от 2 до 12\n",
    "- сгенерируйте число N - размер выборки так, чтобы оно не превышало половину количества элементов сгенерированной матрицы, но было больше 0\n",
    "- сделайте случайную выборку N элементов"
   ]
  },
  {
   "cell_type": "code",
   "execution_count": 15,
   "id": "a0255fb7",
   "metadata": {
    "id": "close-daisy"
   },
   "outputs": [
    {
     "name": "stdout",
     "output_type": "stream",
     "text": [
      "[[61  2 49 59  9 31 40 42 45  4 70]\n",
      " [11 22 73 31 14 48 51 26 96 69 69]\n",
      " [18 80 30 20 67 73 68 82 12 83 21]\n",
      " [ 7 42 72 85 57 36 66 63 74 37 18]\n",
      " [ 2 87 58 27 79 71 24 67 80 18 29]]\n",
      "20\n",
      "[67 70 42 37 69 24 72 18 48 57 31 21 85 69  2 67 74 79 40 96]\n"
     ]
    }
   ],
   "source": [
    "import random\n",
    "import math\n",
    "\n",
    "r, c = random.randint(3, 7), random.randint(2, 12)\n",
    "a = np.random.randint(0, 100, r * c).reshape(r, c)\n",
    "print(a)\n",
    "N = random.randint(1, math.floor(r * c / 2))\n",
    "print(N)\n",
    "sample = np.random.choice(a.flatten(), N)\n",
    "print(sample)"
   ]
  },
  {
   "cell_type": "markdown",
   "id": "80f200c2",
   "metadata": {
    "id": "patent-african"
   },
   "source": [
    "15. Задание\n",
    "- дан вектор, проверить есть в нем Nan\n",
    "- проверить есть в нем знак бесконечности\n",
    "- заполнить их нулями"
   ]
  },
  {
   "cell_type": "code",
   "execution_count": 16,
   "id": "f653032e",
   "metadata": {
    "id": "taken-fabric"
   },
   "outputs": [
    {
     "data": {
      "text/plain": [
       "array([1., 0., 0.])"
      ]
     },
     "execution_count": 16,
     "metadata": {},
     "output_type": "execute_result"
    }
   ],
   "source": [
    "a = np.array([1, np.NaN,  np.Inf], float)\n",
    "for i, e in enumerate(a):\n",
    "  if np.isnan(e) or np.isinf(e):\n",
    "    a[i] = 0\n",
    "a"
   ]
  },
  {
   "cell_type": "markdown",
   "id": "136ca513",
   "metadata": {
    "id": "analyzed-ireland"
   },
   "source": [
    "16. Задание\n",
    "- сгенерировать массив с произвольным числом осей\n",
    "- определить сколько у него осей"
   ]
  },
  {
   "cell_type": "code",
   "execution_count": 17,
   "id": "113bddd8",
   "metadata": {
    "id": "imposed-digest"
   },
   "outputs": [
    {
     "name": "stdout",
     "output_type": "stream",
     "text": [
      "24\n",
      "24\n"
     ]
    }
   ],
   "source": [
    "axis = random.randint(1, 32)\n",
    "print(axis)\n",
    "matrix = np.zeros(tuple(np.ones((axis), dtype=int)))\n",
    "print(len(matrix.shape))"
   ]
  },
  {
   "cell_type": "markdown",
   "id": "dd32794d",
   "metadata": {
    "id": "regulation-colleague"
   },
   "source": [
    "17. Задание\n",
    "- сгенерируйте матрицу 10 на 3 с нормальным распределением, среднее 50, отклонение 10\n",
    "- найдите индексы максимальных элементов в каждой строке\n",
    "- найдите сами элементы"
   ]
  },
  {
   "cell_type": "code",
   "execution_count": 18,
   "id": "1321e582",
   "metadata": {
    "id": "concerned-anthropology"
   },
   "outputs": [
    {
     "name": "stdout",
     "output_type": "stream",
     "text": [
      "[[37.40050676 50.32378478 27.00206948]\n",
      " [53.26304936 49.19480125 50.78815875]\n",
      " [56.14512038 62.83737387 37.25231629]\n",
      " [66.89832777 49.51868862 60.56248615]\n",
      " [46.90543492 43.61393481 57.70402322]\n",
      " [56.99272333 73.20515882 45.65732603]\n",
      " [41.55582669 52.51231989 32.21895004]\n",
      " [48.05808254 50.78640518 37.77281941]\n",
      " [57.72747562 66.61338244 37.49564976]\n",
      " [67.92895952 38.51751088 65.11972469]]\n",
      "[2, 1, 2, 1, 1, 2, 2, 2, 2, 1]\n",
      "[27.00206948 49.19480125 37.25231629 49.51868862 43.61393481 45.65732603\n",
      " 32.21895004 37.77281941 37.49564976 38.51751088]\n"
     ]
    }
   ],
   "source": [
    "matrix = np.random.normal(50, 10, (10,3))\n",
    "print(matrix)\n",
    "indexes = ([list(item).index(min(item)) for item in matrix])\n",
    "print(indexes)\n",
    "print(matrix.min(axis=1))"
   ]
  }
 ],
 "metadata": {
  "colab": {
   "collapsed_sections": [],
   "name": "01_task.ipynb",
   "provenance": []
  },
  "kernelspec": {
   "display_name": "Python 3",
   "language": "python",
   "name": "python3"
  },
  "language_info": {
   "codemirror_mode": {
    "name": "ipython",
    "version": 3
   },
   "file_extension": ".py",
   "mimetype": "text/x-python",
   "name": "python",
   "nbconvert_exporter": "python",
   "pygments_lexer": "ipython3",
   "version": "3.8.8"
  }
 },
 "nbformat": 4,
 "nbformat_minor": 5
}
